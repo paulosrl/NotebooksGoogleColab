{
  "nbformat": 4,
  "nbformat_minor": 0,
  "metadata": {
    "colab": {
      "provenance": [],
      "include_colab_link": true
    },
    "kernelspec": {
      "name": "python3",
      "display_name": "Python 3"
    }
  },
  "cells": [
    {
      "cell_type": "markdown",
      "metadata": {
        "id": "view-in-github",
        "colab_type": "text"
      },
      "source": [
        "<a href=\"https://colab.research.google.com/github/paulosrl/NotebooksGoogleColab/blob/main/An%C3%A1lise_Explorat%C3%B3ria_de_Dados_Limpeza_de_dados%2C_outliers_e_valores_ausentes.ipynb\" target=\"_parent\"><img src=\"https://colab.research.google.com/assets/colab-badge.svg\" alt=\"Open In Colab\"/></a>"
      ]
    },
    {
      "cell_type": "markdown",
      "metadata": {
        "id": "2bcpjHZO4w3t"
      },
      "source": [
        "# **Limpando os dados e detectando *Outliers* utilizando a biblioteca Pandas do Python**\n",
        "\n",
        "Entre as habilidades básicas de um Cientista de Dados, podemos destacar:\n",
        "\n",
        "* Lidar com valores ausentes;\n",
        "\n",
        "* Lidar com outliers;\n",
        "\n",
        "* Transformar os dados.\n",
        "\n",
        "Antes de começar qualquer análise é necessário **validar os dados**, este processo permitirá ao analista conhecer **melhor** os dados que serão analisados.\n",
        "\n",
        "Esta validação é de extrema importância, pois a **qualidade dos dados** irá impactar **diretamente** na **qualidade da análise** e consequentemente na sua **visualização**, inclusive para construção de modelos de algoritmos que irão utilizar conceitos de aprendizado de máquina (*Machine Learning*).\n",
        "\n",
        "**O processo de análise dos dados, consiste em analisar:**\n",
        "\n",
        "* **O Tipo de Dados**\n",
        "  * Ex: Coluna de data deve estar em formato `datetime`, coluna de valores monetários deve estar no formato `float`.\n",
        "* **O intervalo dos Dados**\n",
        "  * Ex: Meses de 1 a 12, dias do mês de 1 a 31.\n",
        "* **Quais os dados que são obrigatórios**\n",
        "  * Ex: Algumas colunas não podem estar vazias\n",
        "* **Quais os dados que são únicos**\n",
        "  * Ex: CPF, RG, CNPJ, ID de usuário.\n",
        "* **Quais os dados categóricos**\n",
        "  * Ex: Gênero Masculino ou Feminino.\n",
        "* **Os dados estão no padrão esperado**\n",
        "  * Ex: (61) 98765-4321\n",
        "* **A validade entre os campos que compõem a base de dados**\n",
        "  * Ex: Data de saída não poder ser anterior à data de entrada.\n",
        "\n",
        "Artigo recomendado:\n",
        "\n",
        "https://towardsdatascience.com/5-ways-to-detect-outliers-that-every-data-scientist-should-know-python-code-70a54335a623"
      ]
    },
    {
      "cell_type": "markdown",
      "metadata": {
        "id": "6ZBHZj4vyHJd"
      },
      "source": [
        "### **Importando os dados e as bibliotecas**\n",
        "\n",
        "Nesta seção iremos importar as bibliotecas que serão utilizadas nesta análise."
      ]
    },
    {
      "cell_type": "code",
      "metadata": {
        "id": "9-42E02p6bt9"
      },
      "source": [
        "# importar a biblioteca pandas e matplotlib\n",
        "import pandas as pd\n",
        "import matplotlib.pyplot as plt\n",
        "import numpy as np\n",
        "import math # biblioteca para cálculos matemáticos\n",
        "import seaborn as sns # biblioteca para apresentação visual\n",
        "plt.style.use('dark_background')"
      ],
      "execution_count": null,
      "outputs": []
    },
    {
      "cell_type": "markdown",
      "metadata": {
        "id": "gezBu5ZKRNRC"
      },
      "source": [
        "####**Tramento dos dados ausentes em um dataset**\n",
        "\n",
        "Para esse estudo, faremos o tratamento dos dados do **Airbnb** referentes à cidade de **Nova Iorque**.\n",
        "\n"
      ]
    },
    {
      "cell_type": "code",
      "metadata": {
        "id": "d7LSSj19As1R"
      },
      "source": [
        "# importando os dados\n",
        "df = pd.read_csv('https://raw.githubusercontent.com/rafaelnduarte/eds_outliers/master/nyc.csv', index_col=0)"
      ],
      "execution_count": null,
      "outputs": []
    },
    {
      "cell_type": "markdown",
      "metadata": {
        "id": "jyhIaqVlx-Cr"
      },
      "source": [
        "## **Análise inicial dos Dados**\n",
        "\n",
        "Antes da análise do dataset, é importante conhecer as primeiras características do mesmo, desta forma, os comandos a seguir irão listas o total de colunas e linhas que possui o dataset"
      ]
    },
    {
      "cell_type": "markdown",
      "metadata": {
        "id": "YxKcdKFYySPN"
      },
      "source": [
        "### **Dimensão do Dataframe**\n",
        "\n",
        "Os comandos a seguir permitem analisar as dimensões do dataset que será analisado."
      ]
    },
    {
      "cell_type": "code",
      "metadata": {
        "id": "xI9Top2Yys2n",
        "colab": {
          "base_uri": "https://localhost:8080/"
        },
        "outputId": "3db17a7b-08dd-44e6-bd0d-2d6fca8d048d"
      },
      "source": [
        "# verificar o tamanho do DataFrame\n",
        "print(\"Colunas: \", df.shape[1])\n",
        "print(\"Linhas: \", df.shape[0])"
      ],
      "execution_count": null,
      "outputs": [
        {
          "output_type": "stream",
          "name": "stdout",
          "text": [
            "Colunas:  16\n",
            "Linhas:  49530\n"
          ]
        }
      ]
    },
    {
      "cell_type": "markdown",
      "metadata": {
        "id": "bPi7dVH-Ceq5"
      },
      "source": [
        "###**Nomes das colunas que compoem o Dataframe**"
      ]
    },
    {
      "cell_type": "code",
      "metadata": {
        "id": "ayHe2bhKCr6f",
        "colab": {
          "base_uri": "https://localhost:8080/"
        },
        "outputId": "2b2c2e56-9927-473f-84f2-718780f7530c"
      },
      "source": [
        "# imprimir os nomes das colunas\n",
        "df.columns"
      ],
      "execution_count": null,
      "outputs": [
        {
          "output_type": "execute_result",
          "data": {
            "text/plain": [
              "Index(['id', 'name', 'host_id', 'host_name', 'neighbourhood_group',\n",
              "       'neighbourhood', 'latitude', 'longitude', 'room_type', 'price',\n",
              "       'minimum_nights', 'number_of_reviews', 'last_review',\n",
              "       'reviews_per_month', 'calculated_host_listings_count',\n",
              "       'availability_365'],\n",
              "      dtype='object')"
            ]
          },
          "metadata": {},
          "execution_count": 4
        }
      ]
    },
    {
      "cell_type": "markdown",
      "metadata": {
        "id": "ofwlq-ojEPuW"
      },
      "source": [
        "###**Tipos de dados das Colunas**"
      ]
    },
    {
      "cell_type": "code",
      "metadata": {
        "id": "G3ZgnrzjEdsA",
        "colab": {
          "base_uri": "https://localhost:8080/"
        },
        "outputId": "578dae0f-edcc-4b71-bbb6-3382a1f1253d"
      },
      "source": [
        "# verificando os tipos das colunas\n",
        "df.dtypes"
      ],
      "execution_count": null,
      "outputs": [
        {
          "output_type": "execute_result",
          "data": {
            "text/plain": [
              "id                                  int64\n",
              "name                               object\n",
              "host_id                             int64\n",
              "host_name                          object\n",
              "neighbourhood_group                object\n",
              "neighbourhood                      object\n",
              "latitude                          float64\n",
              "longitude                         float64\n",
              "room_type                          object\n",
              "price                               int64\n",
              "minimum_nights                      int64\n",
              "number_of_reviews                   int64\n",
              "last_review                        object\n",
              "reviews_per_month                 float64\n",
              "calculated_host_listings_count      int64\n",
              "availability_365                    int64\n",
              "dtype: object"
            ]
          },
          "metadata": {},
          "execution_count": 5
        }
      ]
    },
    {
      "cell_type": "markdown",
      "metadata": {
        "id": "sP06DZPXE75A"
      },
      "source": [
        "###**Listagem das 5 primeiras linhas do arquivo**"
      ]
    },
    {
      "cell_type": "code",
      "metadata": {
        "id": "EayvbHidJLEb",
        "colab": {
          "base_uri": "https://localhost:8080/",
          "height": 208
        },
        "outputId": "6ef61a42-1518-4900-9db5-44e461ef9a6a"
      },
      "source": [
        "# visualizando as 5 primeiras linhas do DataFrame\n",
        "df.head(2)"
      ],
      "execution_count": null,
      "outputs": [
        {
          "output_type": "execute_result",
          "data": {
            "text/plain": [
              "     id                   name  host_id host_name neighbourhood_group  \\\n",
              "0  2060             Modern NYC     2259     Jenny           Manhattan   \n",
              "1  2595  Skylit Midtown Castle     2845  Jennifer           Manhattan   \n",
              "\n",
              "        neighbourhood  latitude  longitude        room_type  price  \\\n",
              "0  Washington Heights  40.85722  -73.93790     Private room    100   \n",
              "1             Midtown  40.75362  -73.98377  Entire home/apt    225   \n",
              "\n",
              "   minimum_nights  number_of_reviews last_review  reviews_per_month  \\\n",
              "0               1                  1  2008-09-22               0.01   \n",
              "1               3                 48  2019-11-04               0.37   \n",
              "\n",
              "   calculated_host_listings_count  availability_365  \n",
              "0                               1               365  \n",
              "1                               2               335  "
            ],
            "text/html": [
              "\n",
              "  <div id=\"df-f551f668-f9a5-48f2-ad1e-53739d329c0a\">\n",
              "    <div class=\"colab-df-container\">\n",
              "      <div>\n",
              "<style scoped>\n",
              "    .dataframe tbody tr th:only-of-type {\n",
              "        vertical-align: middle;\n",
              "    }\n",
              "\n",
              "    .dataframe tbody tr th {\n",
              "        vertical-align: top;\n",
              "    }\n",
              "\n",
              "    .dataframe thead th {\n",
              "        text-align: right;\n",
              "    }\n",
              "</style>\n",
              "<table border=\"1\" class=\"dataframe\">\n",
              "  <thead>\n",
              "    <tr style=\"text-align: right;\">\n",
              "      <th></th>\n",
              "      <th>id</th>\n",
              "      <th>name</th>\n",
              "      <th>host_id</th>\n",
              "      <th>host_name</th>\n",
              "      <th>neighbourhood_group</th>\n",
              "      <th>neighbourhood</th>\n",
              "      <th>latitude</th>\n",
              "      <th>longitude</th>\n",
              "      <th>room_type</th>\n",
              "      <th>price</th>\n",
              "      <th>minimum_nights</th>\n",
              "      <th>number_of_reviews</th>\n",
              "      <th>last_review</th>\n",
              "      <th>reviews_per_month</th>\n",
              "      <th>calculated_host_listings_count</th>\n",
              "      <th>availability_365</th>\n",
              "    </tr>\n",
              "  </thead>\n",
              "  <tbody>\n",
              "    <tr>\n",
              "      <th>0</th>\n",
              "      <td>2060</td>\n",
              "      <td>Modern NYC</td>\n",
              "      <td>2259</td>\n",
              "      <td>Jenny</td>\n",
              "      <td>Manhattan</td>\n",
              "      <td>Washington Heights</td>\n",
              "      <td>40.85722</td>\n",
              "      <td>-73.93790</td>\n",
              "      <td>Private room</td>\n",
              "      <td>100</td>\n",
              "      <td>1</td>\n",
              "      <td>1</td>\n",
              "      <td>2008-09-22</td>\n",
              "      <td>0.01</td>\n",
              "      <td>1</td>\n",
              "      <td>365</td>\n",
              "    </tr>\n",
              "    <tr>\n",
              "      <th>1</th>\n",
              "      <td>2595</td>\n",
              "      <td>Skylit Midtown Castle</td>\n",
              "      <td>2845</td>\n",
              "      <td>Jennifer</td>\n",
              "      <td>Manhattan</td>\n",
              "      <td>Midtown</td>\n",
              "      <td>40.75362</td>\n",
              "      <td>-73.98377</td>\n",
              "      <td>Entire home/apt</td>\n",
              "      <td>225</td>\n",
              "      <td>3</td>\n",
              "      <td>48</td>\n",
              "      <td>2019-11-04</td>\n",
              "      <td>0.37</td>\n",
              "      <td>2</td>\n",
              "      <td>335</td>\n",
              "    </tr>\n",
              "  </tbody>\n",
              "</table>\n",
              "</div>\n",
              "      <button class=\"colab-df-convert\" onclick=\"convertToInteractive('df-f551f668-f9a5-48f2-ad1e-53739d329c0a')\"\n",
              "              title=\"Convert this dataframe to an interactive table.\"\n",
              "              style=\"display:none;\">\n",
              "        \n",
              "  <svg xmlns=\"http://www.w3.org/2000/svg\" height=\"24px\"viewBox=\"0 0 24 24\"\n",
              "       width=\"24px\">\n",
              "    <path d=\"M0 0h24v24H0V0z\" fill=\"none\"/>\n",
              "    <path d=\"M18.56 5.44l.94 2.06.94-2.06 2.06-.94-2.06-.94-.94-2.06-.94 2.06-2.06.94zm-11 1L8.5 8.5l.94-2.06 2.06-.94-2.06-.94L8.5 2.5l-.94 2.06-2.06.94zm10 10l.94 2.06.94-2.06 2.06-.94-2.06-.94-.94-2.06-.94 2.06-2.06.94z\"/><path d=\"M17.41 7.96l-1.37-1.37c-.4-.4-.92-.59-1.43-.59-.52 0-1.04.2-1.43.59L10.3 9.45l-7.72 7.72c-.78.78-.78 2.05 0 2.83L4 21.41c.39.39.9.59 1.41.59.51 0 1.02-.2 1.41-.59l7.78-7.78 2.81-2.81c.8-.78.8-2.07 0-2.86zM5.41 20L4 18.59l7.72-7.72 1.47 1.35L5.41 20z\"/>\n",
              "  </svg>\n",
              "      </button>\n",
              "      \n",
              "  <style>\n",
              "    .colab-df-container {\n",
              "      display:flex;\n",
              "      flex-wrap:wrap;\n",
              "      gap: 12px;\n",
              "    }\n",
              "\n",
              "    .colab-df-convert {\n",
              "      background-color: #E8F0FE;\n",
              "      border: none;\n",
              "      border-radius: 50%;\n",
              "      cursor: pointer;\n",
              "      display: none;\n",
              "      fill: #1967D2;\n",
              "      height: 32px;\n",
              "      padding: 0 0 0 0;\n",
              "      width: 32px;\n",
              "    }\n",
              "\n",
              "    .colab-df-convert:hover {\n",
              "      background-color: #E2EBFA;\n",
              "      box-shadow: 0px 1px 2px rgba(60, 64, 67, 0.3), 0px 1px 3px 1px rgba(60, 64, 67, 0.15);\n",
              "      fill: #174EA6;\n",
              "    }\n",
              "\n",
              "    [theme=dark] .colab-df-convert {\n",
              "      background-color: #3B4455;\n",
              "      fill: #D2E3FC;\n",
              "    }\n",
              "\n",
              "    [theme=dark] .colab-df-convert:hover {\n",
              "      background-color: #434B5C;\n",
              "      box-shadow: 0px 1px 3px 1px rgba(0, 0, 0, 0.15);\n",
              "      filter: drop-shadow(0px 1px 2px rgba(0, 0, 0, 0.3));\n",
              "      fill: #FFFFFF;\n",
              "    }\n",
              "  </style>\n",
              "\n",
              "      <script>\n",
              "        const buttonEl =\n",
              "          document.querySelector('#df-f551f668-f9a5-48f2-ad1e-53739d329c0a button.colab-df-convert');\n",
              "        buttonEl.style.display =\n",
              "          google.colab.kernel.accessAllowed ? 'block' : 'none';\n",
              "\n",
              "        async function convertToInteractive(key) {\n",
              "          const element = document.querySelector('#df-f551f668-f9a5-48f2-ad1e-53739d329c0a');\n",
              "          const dataTable =\n",
              "            await google.colab.kernel.invokeFunction('convertToInteractive',\n",
              "                                                     [key], {});\n",
              "          if (!dataTable) return;\n",
              "\n",
              "          const docLinkHtml = 'Like what you see? Visit the ' +\n",
              "            '<a target=\"_blank\" href=https://colab.research.google.com/notebooks/data_table.ipynb>data table notebook</a>'\n",
              "            + ' to learn more about interactive tables.';\n",
              "          element.innerHTML = '';\n",
              "          dataTable['output_type'] = 'display_data';\n",
              "          await google.colab.output.renderOutput(dataTable, element);\n",
              "          const docLink = document.createElement('div');\n",
              "          docLink.innerHTML = docLinkHtml;\n",
              "          element.appendChild(docLink);\n",
              "        }\n",
              "      </script>\n",
              "    </div>\n",
              "  </div>\n",
              "  "
            ]
          },
          "metadata": {},
          "execution_count": 6
        }
      ]
    },
    {
      "cell_type": "markdown",
      "metadata": {
        "id": "PPPs-9rNFHJ_"
      },
      "source": [
        "###**Listagem das 5 útimas linhas do arquivo**"
      ]
    },
    {
      "cell_type": "code",
      "metadata": {
        "id": "T7OsGziZFLEt",
        "colab": {
          "base_uri": "https://localhost:8080/",
          "height": 704
        },
        "outputId": "d5c77101-2c61-4fa7-f5fa-c487c5439621"
      },
      "source": [
        "#imprimindo as 5 últimas linhas\n",
        "df.tail()"
      ],
      "execution_count": null,
      "outputs": [
        {
          "output_type": "execute_result",
          "data": {
            "text/plain": [
              "             id                                               name    host_id  \\\n",
              "49525  43702714    Spacious and Luxurious Noho 3 Bedroom Apartment   18880232   \n",
              "49526  43702765         2-bedroom entire place for you in Bushwick     804056   \n",
              "49527  43703128  Simple Spacious Manhattan Room for 2Near 2,3 T...  137358866   \n",
              "49528  43703156                Cosy Room Available in East Village   26846438   \n",
              "49529  43703359      A+ Location Deluxe Studio (Queen Bed & Futon)  348619646   \n",
              "\n",
              "      host_name neighbourhood_group neighbourhood   latitude  longitude  \\\n",
              "49525     Byron           Manhattan  East Village  40.729553 -73.990712   \n",
              "49526    Philip            Brooklyn      Bushwick  40.697820 -73.913960   \n",
              "49527       Kaz           Manhattan        Harlem  40.812614 -73.942075   \n",
              "49528    Marine           Manhattan  Civic Center  40.713753 -74.005350   \n",
              "49529     Nomad           Manhattan       Midtown  40.747453 -73.988046   \n",
              "\n",
              "             room_type  price  minimum_nights  number_of_reviews last_review  \\\n",
              "49525  Entire home/apt    173               3                  0         NaN   \n",
              "49526  Entire home/apt     99               3                  0         NaN   \n",
              "49527     Private room     49              28                  0         NaN   \n",
              "49528     Private room     94               2                  0         NaN   \n",
              "49529  Entire home/apt    249               1                  0         NaN   \n",
              "\n",
              "       reviews_per_month  calculated_host_listings_count  availability_365  \n",
              "49525                NaN                               1               365  \n",
              "49526                NaN                               1               135  \n",
              "49527                NaN                             160                 8  \n",
              "49528                NaN                               1                12  \n",
              "49529                NaN                               4               230  "
            ],
            "text/html": [
              "\n",
              "  <div id=\"df-5fa90aef-07dd-4eaa-9f0a-0f395486aa32\">\n",
              "    <div class=\"colab-df-container\">\n",
              "      <div>\n",
              "<style scoped>\n",
              "    .dataframe tbody tr th:only-of-type {\n",
              "        vertical-align: middle;\n",
              "    }\n",
              "\n",
              "    .dataframe tbody tr th {\n",
              "        vertical-align: top;\n",
              "    }\n",
              "\n",
              "    .dataframe thead th {\n",
              "        text-align: right;\n",
              "    }\n",
              "</style>\n",
              "<table border=\"1\" class=\"dataframe\">\n",
              "  <thead>\n",
              "    <tr style=\"text-align: right;\">\n",
              "      <th></th>\n",
              "      <th>id</th>\n",
              "      <th>name</th>\n",
              "      <th>host_id</th>\n",
              "      <th>host_name</th>\n",
              "      <th>neighbourhood_group</th>\n",
              "      <th>neighbourhood</th>\n",
              "      <th>latitude</th>\n",
              "      <th>longitude</th>\n",
              "      <th>room_type</th>\n",
              "      <th>price</th>\n",
              "      <th>minimum_nights</th>\n",
              "      <th>number_of_reviews</th>\n",
              "      <th>last_review</th>\n",
              "      <th>reviews_per_month</th>\n",
              "      <th>calculated_host_listings_count</th>\n",
              "      <th>availability_365</th>\n",
              "    </tr>\n",
              "  </thead>\n",
              "  <tbody>\n",
              "    <tr>\n",
              "      <th>49525</th>\n",
              "      <td>43702714</td>\n",
              "      <td>Spacious and Luxurious Noho 3 Bedroom Apartment</td>\n",
              "      <td>18880232</td>\n",
              "      <td>Byron</td>\n",
              "      <td>Manhattan</td>\n",
              "      <td>East Village</td>\n",
              "      <td>40.729553</td>\n",
              "      <td>-73.990712</td>\n",
              "      <td>Entire home/apt</td>\n",
              "      <td>173</td>\n",
              "      <td>3</td>\n",
              "      <td>0</td>\n",
              "      <td>NaN</td>\n",
              "      <td>NaN</td>\n",
              "      <td>1</td>\n",
              "      <td>365</td>\n",
              "    </tr>\n",
              "    <tr>\n",
              "      <th>49526</th>\n",
              "      <td>43702765</td>\n",
              "      <td>2-bedroom entire place for you in Bushwick</td>\n",
              "      <td>804056</td>\n",
              "      <td>Philip</td>\n",
              "      <td>Brooklyn</td>\n",
              "      <td>Bushwick</td>\n",
              "      <td>40.697820</td>\n",
              "      <td>-73.913960</td>\n",
              "      <td>Entire home/apt</td>\n",
              "      <td>99</td>\n",
              "      <td>3</td>\n",
              "      <td>0</td>\n",
              "      <td>NaN</td>\n",
              "      <td>NaN</td>\n",
              "      <td>1</td>\n",
              "      <td>135</td>\n",
              "    </tr>\n",
              "    <tr>\n",
              "      <th>49527</th>\n",
              "      <td>43703128</td>\n",
              "      <td>Simple Spacious Manhattan Room for 2Near 2,3 T...</td>\n",
              "      <td>137358866</td>\n",
              "      <td>Kaz</td>\n",
              "      <td>Manhattan</td>\n",
              "      <td>Harlem</td>\n",
              "      <td>40.812614</td>\n",
              "      <td>-73.942075</td>\n",
              "      <td>Private room</td>\n",
              "      <td>49</td>\n",
              "      <td>28</td>\n",
              "      <td>0</td>\n",
              "      <td>NaN</td>\n",
              "      <td>NaN</td>\n",
              "      <td>160</td>\n",
              "      <td>8</td>\n",
              "    </tr>\n",
              "    <tr>\n",
              "      <th>49528</th>\n",
              "      <td>43703156</td>\n",
              "      <td>Cosy Room Available in East Village</td>\n",
              "      <td>26846438</td>\n",
              "      <td>Marine</td>\n",
              "      <td>Manhattan</td>\n",
              "      <td>Civic Center</td>\n",
              "      <td>40.713753</td>\n",
              "      <td>-74.005350</td>\n",
              "      <td>Private room</td>\n",
              "      <td>94</td>\n",
              "      <td>2</td>\n",
              "      <td>0</td>\n",
              "      <td>NaN</td>\n",
              "      <td>NaN</td>\n",
              "      <td>1</td>\n",
              "      <td>12</td>\n",
              "    </tr>\n",
              "    <tr>\n",
              "      <th>49529</th>\n",
              "      <td>43703359</td>\n",
              "      <td>A+ Location Deluxe Studio (Queen Bed &amp; Futon)</td>\n",
              "      <td>348619646</td>\n",
              "      <td>Nomad</td>\n",
              "      <td>Manhattan</td>\n",
              "      <td>Midtown</td>\n",
              "      <td>40.747453</td>\n",
              "      <td>-73.988046</td>\n",
              "      <td>Entire home/apt</td>\n",
              "      <td>249</td>\n",
              "      <td>1</td>\n",
              "      <td>0</td>\n",
              "      <td>NaN</td>\n",
              "      <td>NaN</td>\n",
              "      <td>4</td>\n",
              "      <td>230</td>\n",
              "    </tr>\n",
              "  </tbody>\n",
              "</table>\n",
              "</div>\n",
              "      <button class=\"colab-df-convert\" onclick=\"convertToInteractive('df-5fa90aef-07dd-4eaa-9f0a-0f395486aa32')\"\n",
              "              title=\"Convert this dataframe to an interactive table.\"\n",
              "              style=\"display:none;\">\n",
              "        \n",
              "  <svg xmlns=\"http://www.w3.org/2000/svg\" height=\"24px\"viewBox=\"0 0 24 24\"\n",
              "       width=\"24px\">\n",
              "    <path d=\"M0 0h24v24H0V0z\" fill=\"none\"/>\n",
              "    <path d=\"M18.56 5.44l.94 2.06.94-2.06 2.06-.94-2.06-.94-.94-2.06-.94 2.06-2.06.94zm-11 1L8.5 8.5l.94-2.06 2.06-.94-2.06-.94L8.5 2.5l-.94 2.06-2.06.94zm10 10l.94 2.06.94-2.06 2.06-.94-2.06-.94-.94-2.06-.94 2.06-2.06.94z\"/><path d=\"M17.41 7.96l-1.37-1.37c-.4-.4-.92-.59-1.43-.59-.52 0-1.04.2-1.43.59L10.3 9.45l-7.72 7.72c-.78.78-.78 2.05 0 2.83L4 21.41c.39.39.9.59 1.41.59.51 0 1.02-.2 1.41-.59l7.78-7.78 2.81-2.81c.8-.78.8-2.07 0-2.86zM5.41 20L4 18.59l7.72-7.72 1.47 1.35L5.41 20z\"/>\n",
              "  </svg>\n",
              "      </button>\n",
              "      \n",
              "  <style>\n",
              "    .colab-df-container {\n",
              "      display:flex;\n",
              "      flex-wrap:wrap;\n",
              "      gap: 12px;\n",
              "    }\n",
              "\n",
              "    .colab-df-convert {\n",
              "      background-color: #E8F0FE;\n",
              "      border: none;\n",
              "      border-radius: 50%;\n",
              "      cursor: pointer;\n",
              "      display: none;\n",
              "      fill: #1967D2;\n",
              "      height: 32px;\n",
              "      padding: 0 0 0 0;\n",
              "      width: 32px;\n",
              "    }\n",
              "\n",
              "    .colab-df-convert:hover {\n",
              "      background-color: #E2EBFA;\n",
              "      box-shadow: 0px 1px 2px rgba(60, 64, 67, 0.3), 0px 1px 3px 1px rgba(60, 64, 67, 0.15);\n",
              "      fill: #174EA6;\n",
              "    }\n",
              "\n",
              "    [theme=dark] .colab-df-convert {\n",
              "      background-color: #3B4455;\n",
              "      fill: #D2E3FC;\n",
              "    }\n",
              "\n",
              "    [theme=dark] .colab-df-convert:hover {\n",
              "      background-color: #434B5C;\n",
              "      box-shadow: 0px 1px 3px 1px rgba(0, 0, 0, 0.15);\n",
              "      filter: drop-shadow(0px 1px 2px rgba(0, 0, 0, 0.3));\n",
              "      fill: #FFFFFF;\n",
              "    }\n",
              "  </style>\n",
              "\n",
              "      <script>\n",
              "        const buttonEl =\n",
              "          document.querySelector('#df-5fa90aef-07dd-4eaa-9f0a-0f395486aa32 button.colab-df-convert');\n",
              "        buttonEl.style.display =\n",
              "          google.colab.kernel.accessAllowed ? 'block' : 'none';\n",
              "\n",
              "        async function convertToInteractive(key) {\n",
              "          const element = document.querySelector('#df-5fa90aef-07dd-4eaa-9f0a-0f395486aa32');\n",
              "          const dataTable =\n",
              "            await google.colab.kernel.invokeFunction('convertToInteractive',\n",
              "                                                     [key], {});\n",
              "          if (!dataTable) return;\n",
              "\n",
              "          const docLinkHtml = 'Like what you see? Visit the ' +\n",
              "            '<a target=\"_blank\" href=https://colab.research.google.com/notebooks/data_table.ipynb>data table notebook</a>'\n",
              "            + ' to learn more about interactive tables.';\n",
              "          element.innerHTML = '';\n",
              "          dataTable['output_type'] = 'display_data';\n",
              "          await google.colab.output.renderOutput(dataTable, element);\n",
              "          const docLink = document.createElement('div');\n",
              "          docLink.innerHTML = docLinkHtml;\n",
              "          element.appendChild(docLink);\n",
              "        }\n",
              "      </script>\n",
              "    </div>\n",
              "  </div>\n",
              "  "
            ]
          },
          "metadata": {},
          "execution_count": 7
        }
      ]
    },
    {
      "cell_type": "markdown",
      "metadata": {
        "id": "OKfC7GRqB5vl"
      },
      "source": [
        "## **Dados Ausentes**\n",
        "\n",
        "Algumas análises devem ser feitas para lidar com dados ausentes\n",
        "\n",
        "* Que tipo de dado está ausente?\n",
        "* Em qual proporção?\n",
        "* De forma aleatória?\n",
        "\n",
        "Todos essas perguntas devem ser feitas e responidadas para o tratamento de dados ausentes.\n",
        "\n",
        "Qual o motivo da ausência dos dados? De onde os dados são extraídos? Qual o processo de coleta de dadps? Dados ausentes implicam algum significado?\n",
        "\n",
        "Uma possibilidade sobre a ausência dos dados é que estes só começaram a ser coletados a partir de uma determinada data."
      ]
    },
    {
      "cell_type": "markdown",
      "metadata": {
        "id": "EMeLPlfALc1u"
      },
      "source": [
        "###**Analisando o percentual de valores ausentes por coluna**\n"
      ]
    },
    {
      "cell_type": "code",
      "metadata": {
        "id": "ZKwMDAdCLg2W",
        "colab": {
          "base_uri": "https://localhost:8080/"
        },
        "outputId": "56eaaaf6-9209-4497-e2df-33745a559956"
      },
      "source": [
        "# verificando a presença e porcentagem de dados ausentes no DataFrame,\n",
        "# organizando do maior para o menor em relação ao total de linhas\n",
        "print('Colunas         \\t      Porcentagem de valores ausentes na coluna')\n",
        "(df.isnull().sum() / df.shape[0]*100).sort_values(ascending=False).round(2)"
      ],
      "execution_count": null,
      "outputs": [
        {
          "output_type": "stream",
          "name": "stdout",
          "text": [
            "Colunas         \t      Porcentagem de valores ausentes na coluna\n"
          ]
        },
        {
          "output_type": "execute_result",
          "data": {
            "text/plain": [
              "last_review                       22.85\n",
              "reviews_per_month                 22.85\n",
              "name                               0.04\n",
              "host_name                          0.01\n",
              "id                                 0.00\n",
              "host_id                            0.00\n",
              "neighbourhood_group                0.00\n",
              "neighbourhood                      0.00\n",
              "latitude                           0.00\n",
              "longitude                          0.00\n",
              "room_type                          0.00\n",
              "price                              0.00\n",
              "minimum_nights                     0.00\n",
              "number_of_reviews                  0.00\n",
              "calculated_host_listings_count     0.00\n",
              "availability_365                   0.00\n",
              "dtype: float64"
            ]
          },
          "metadata": {},
          "execution_count": 8
        }
      ]
    },
    {
      "cell_type": "markdown",
      "metadata": {
        "id": "5P7YMj0jSDHq"
      },
      "source": [
        "## **Excluindo dados ausentes do dataset**\n",
        "\n",
        "Neste momento, **após analisar** os dados é necessário decidir se serão ou não excluídas algumas colunas. Esta decisão deve ser tomada **após entender** os dados que estão sendo analisados, e decidir o que é **relevante** para análise e o que não é.\n",
        "\n",
        "Decidida qual ou quais colunas serão excluídas, é necessário verificar **o que será feito com os valores ausentes** nas colunas que irão fazer parte da análise, ou seja, esses valores serão exclúidos do dataset ou serão substituídos por outro valor a decidir qual é.\n",
        "\n",
        "Neste dataset, iremos excluir os valores faltantes pois eles representam um percentual muito baixo da amostra.\n"
      ]
    },
    {
      "cell_type": "markdown",
      "metadata": {
        "id": "py7iTJiPmx4F"
      },
      "source": [
        "### **Excluindo as colunas com dados faltantes**"
      ]
    },
    {
      "cell_type": "code",
      "metadata": {
        "id": "s5Kv4vjWt1pD"
      },
      "source": [
        "# excluindo as colunas com dados faltantes\n",
        "df.drop(columns=['reviews_per_month', 'last_review'], inplace=True)"
      ],
      "execution_count": null,
      "outputs": []
    },
    {
      "cell_type": "code",
      "metadata": {
        "id": "bK5IvjGWnEdt",
        "colab": {
          "base_uri": "https://localhost:8080/"
        },
        "outputId": "1eda99bd-8cef-4709-bc96-2400317739e5"
      },
      "source": [
        "# verificando o dataset\n",
        "print('Colunas         \\t      Porcentagem')\n",
        "(df.isnull().sum() / df.shape[0]*100).sort_values(ascending=False).round(2)"
      ],
      "execution_count": null,
      "outputs": [
        {
          "output_type": "stream",
          "name": "stdout",
          "text": [
            "Colunas         \t      Porcentagem\n"
          ]
        },
        {
          "output_type": "execute_result",
          "data": {
            "text/plain": [
              "name                              0.04\n",
              "host_name                         0.01\n",
              "id                                0.00\n",
              "host_id                           0.00\n",
              "neighbourhood_group               0.00\n",
              "neighbourhood                     0.00\n",
              "latitude                          0.00\n",
              "longitude                         0.00\n",
              "room_type                         0.00\n",
              "price                             0.00\n",
              "minimum_nights                    0.00\n",
              "number_of_reviews                 0.00\n",
              "calculated_host_listings_count    0.00\n",
              "availability_365                  0.00\n",
              "dtype: float64"
            ]
          },
          "metadata": {},
          "execution_count": 10
        }
      ]
    },
    {
      "cell_type": "markdown",
      "metadata": {
        "id": "FiamEjDfnM8B"
      },
      "source": [
        "### **Excluindo as linhas com dados faltantes**"
      ]
    },
    {
      "cell_type": "code",
      "metadata": {
        "id": "HxSrPyIOnSft"
      },
      "source": [
        "# excluindo todas as linhas com dados faltantes\n",
        "df.dropna(axis=0, inplace=True)"
      ],
      "execution_count": null,
      "outputs": []
    },
    {
      "cell_type": "markdown",
      "metadata": {
        "id": "eKWJFKfIoalb"
      },
      "source": [
        "## **Analisando os dados após a remoção das linhas e colunas**"
      ]
    },
    {
      "cell_type": "code",
      "metadata": {
        "id": "kPGqXFB1uMEn",
        "colab": {
          "base_uri": "https://localhost:8080/"
        },
        "outputId": "5830e984-e340-4dbe-dbb2-d1a4906b49be"
      },
      "source": [
        "print('Colunas         \\t      Porcentagem')\n",
        "(df.isnull().sum() / df.shape[0]*100).sort_values(ascending=False).round(2)"
      ],
      "execution_count": null,
      "outputs": [
        {
          "output_type": "stream",
          "name": "stdout",
          "text": [
            "Colunas         \t      Porcentagem\n"
          ]
        },
        {
          "output_type": "execute_result",
          "data": {
            "text/plain": [
              "id                                0.0\n",
              "name                              0.0\n",
              "host_id                           0.0\n",
              "host_name                         0.0\n",
              "neighbourhood_group               0.0\n",
              "neighbourhood                     0.0\n",
              "latitude                          0.0\n",
              "longitude                         0.0\n",
              "room_type                         0.0\n",
              "price                             0.0\n",
              "minimum_nights                    0.0\n",
              "number_of_reviews                 0.0\n",
              "calculated_host_listings_count    0.0\n",
              "availability_365                  0.0\n",
              "dtype: float64"
            ]
          },
          "metadata": {},
          "execution_count": 12
        }
      ]
    },
    {
      "cell_type": "markdown",
      "metadata": {
        "id": "3V8xTTjogf1w"
      },
      "source": [
        "## **Outliers**\n",
        "\n",
        "*Outliers* são pontos **discrepantes**, que estão **destoando** do padrão do conjunto de dados.\n",
        "\n",
        "É  importante  **identificar** e **tratar** esses outliers, pois eles podem mostrar uma visão **distorcida** dos dados.\n",
        "\n",
        "Podemos identificar um outlier de diversas formas, entre elas podemos citar:\n",
        "\n",
        "* IQR Score\n",
        "* Boxplots\n",
        "* Scatter plots\n",
        "* Z-Score\n",
        "\n",
        "Vamos ver na prática o processo completo de limpeza de dados, tratando dados ausentes, convertendo os dados para o formato correto, e tratando dos outliers.\n",
        "<p align=\"center\"><img src=\"https://miro.medium.com/max/18000/1*2c21SkzJMf3frPXPAR_gZA.png\n",
        "\"></p>\n",
        "\n",
        "Para esse estudo, faremos o tratamento dos dados do Airbnb referentes à cidade de Nova Iorque."
      ]
    },
    {
      "cell_type": "markdown",
      "metadata": {
        "id": "nbiuVheMuxbx"
      },
      "source": [
        "###**Analisando a distribuição estatística dos dados**\n",
        "\n",
        "Para verificar a presença de outliers é necessário fazer um resumo estatístico dos dados."
      ]
    },
    {
      "cell_type": "code",
      "metadata": {
        "id": "00UrR7dBvjCn",
        "colab": {
          "base_uri": "https://localhost:8080/",
          "height": 300
        },
        "outputId": "5e3dc96c-0ed7-49c2-b2d3-55ab11c83a93"
      },
      "source": [
        "# verificando a distribuição estatística\n",
        "#round(1), arredonda as casas decimais para uma unidade\n",
        "df.describe().round(2)"
      ],
      "execution_count": null,
      "outputs": [
        {
          "output_type": "execute_result",
          "data": {
            "text/plain": [
              "                id       host_id  latitude  longitude     price  \\\n",
              "count     49506.00  4.950600e+04  49506.00   49506.00  49506.00   \n",
              "mean   22965296.44  8.511890e+07     40.73     -73.95    162.66   \n",
              "std    13525679.12  9.889048e+07      0.05       0.05    419.41   \n",
              "min        2060.00  2.259000e+03     40.50     -74.24      0.00   \n",
              "25%    10875806.00  9.268318e+06     40.69     -73.98     68.00   \n",
              "50%    22338936.00  3.801608e+07     40.72     -73.96    101.00   \n",
              "75%    35578705.00  1.373589e+08     40.76     -73.93    175.00   \n",
              "max    43703359.00  3.490826e+08     40.91     -73.71  10000.00   \n",
              "\n",
              "       minimum_nights  number_of_reviews  calculated_host_listings_count  \\\n",
              "count        49506.00           49506.00                        49506.00   \n",
              "mean             8.17              23.88                            6.24   \n",
              "std             21.52              48.26                           25.49   \n",
              "min              1.00               0.00                            1.00   \n",
              "25%              2.00               1.00                            1.00   \n",
              "50%              3.00               5.00                            1.00   \n",
              "75%              6.00              23.00                            2.00   \n",
              "max           1250.00             746.00                          280.00   \n",
              "\n",
              "       availability_365  \n",
              "count          49506.00  \n",
              "mean             126.70  \n",
              "std              142.38  \n",
              "min                0.00  \n",
              "25%                0.00  \n",
              "50%               79.00  \n",
              "75%              267.00  \n",
              "max              365.00  "
            ],
            "text/html": [
              "\n",
              "  <div id=\"df-4c633cf2-0aaa-481b-9223-03d196bf88e2\">\n",
              "    <div class=\"colab-df-container\">\n",
              "      <div>\n",
              "<style scoped>\n",
              "    .dataframe tbody tr th:only-of-type {\n",
              "        vertical-align: middle;\n",
              "    }\n",
              "\n",
              "    .dataframe tbody tr th {\n",
              "        vertical-align: top;\n",
              "    }\n",
              "\n",
              "    .dataframe thead th {\n",
              "        text-align: right;\n",
              "    }\n",
              "</style>\n",
              "<table border=\"1\" class=\"dataframe\">\n",
              "  <thead>\n",
              "    <tr style=\"text-align: right;\">\n",
              "      <th></th>\n",
              "      <th>id</th>\n",
              "      <th>host_id</th>\n",
              "      <th>latitude</th>\n",
              "      <th>longitude</th>\n",
              "      <th>price</th>\n",
              "      <th>minimum_nights</th>\n",
              "      <th>number_of_reviews</th>\n",
              "      <th>calculated_host_listings_count</th>\n",
              "      <th>availability_365</th>\n",
              "    </tr>\n",
              "  </thead>\n",
              "  <tbody>\n",
              "    <tr>\n",
              "      <th>count</th>\n",
              "      <td>49506.00</td>\n",
              "      <td>4.950600e+04</td>\n",
              "      <td>49506.00</td>\n",
              "      <td>49506.00</td>\n",
              "      <td>49506.00</td>\n",
              "      <td>49506.00</td>\n",
              "      <td>49506.00</td>\n",
              "      <td>49506.00</td>\n",
              "      <td>49506.00</td>\n",
              "    </tr>\n",
              "    <tr>\n",
              "      <th>mean</th>\n",
              "      <td>22965296.44</td>\n",
              "      <td>8.511890e+07</td>\n",
              "      <td>40.73</td>\n",
              "      <td>-73.95</td>\n",
              "      <td>162.66</td>\n",
              "      <td>8.17</td>\n",
              "      <td>23.88</td>\n",
              "      <td>6.24</td>\n",
              "      <td>126.70</td>\n",
              "    </tr>\n",
              "    <tr>\n",
              "      <th>std</th>\n",
              "      <td>13525679.12</td>\n",
              "      <td>9.889048e+07</td>\n",
              "      <td>0.05</td>\n",
              "      <td>0.05</td>\n",
              "      <td>419.41</td>\n",
              "      <td>21.52</td>\n",
              "      <td>48.26</td>\n",
              "      <td>25.49</td>\n",
              "      <td>142.38</td>\n",
              "    </tr>\n",
              "    <tr>\n",
              "      <th>min</th>\n",
              "      <td>2060.00</td>\n",
              "      <td>2.259000e+03</td>\n",
              "      <td>40.50</td>\n",
              "      <td>-74.24</td>\n",
              "      <td>0.00</td>\n",
              "      <td>1.00</td>\n",
              "      <td>0.00</td>\n",
              "      <td>1.00</td>\n",
              "      <td>0.00</td>\n",
              "    </tr>\n",
              "    <tr>\n",
              "      <th>25%</th>\n",
              "      <td>10875806.00</td>\n",
              "      <td>9.268318e+06</td>\n",
              "      <td>40.69</td>\n",
              "      <td>-73.98</td>\n",
              "      <td>68.00</td>\n",
              "      <td>2.00</td>\n",
              "      <td>1.00</td>\n",
              "      <td>1.00</td>\n",
              "      <td>0.00</td>\n",
              "    </tr>\n",
              "    <tr>\n",
              "      <th>50%</th>\n",
              "      <td>22338936.00</td>\n",
              "      <td>3.801608e+07</td>\n",
              "      <td>40.72</td>\n",
              "      <td>-73.96</td>\n",
              "      <td>101.00</td>\n",
              "      <td>3.00</td>\n",
              "      <td>5.00</td>\n",
              "      <td>1.00</td>\n",
              "      <td>79.00</td>\n",
              "    </tr>\n",
              "    <tr>\n",
              "      <th>75%</th>\n",
              "      <td>35578705.00</td>\n",
              "      <td>1.373589e+08</td>\n",
              "      <td>40.76</td>\n",
              "      <td>-73.93</td>\n",
              "      <td>175.00</td>\n",
              "      <td>6.00</td>\n",
              "      <td>23.00</td>\n",
              "      <td>2.00</td>\n",
              "      <td>267.00</td>\n",
              "    </tr>\n",
              "    <tr>\n",
              "      <th>max</th>\n",
              "      <td>43703359.00</td>\n",
              "      <td>3.490826e+08</td>\n",
              "      <td>40.91</td>\n",
              "      <td>-73.71</td>\n",
              "      <td>10000.00</td>\n",
              "      <td>1250.00</td>\n",
              "      <td>746.00</td>\n",
              "      <td>280.00</td>\n",
              "      <td>365.00</td>\n",
              "    </tr>\n",
              "  </tbody>\n",
              "</table>\n",
              "</div>\n",
              "      <button class=\"colab-df-convert\" onclick=\"convertToInteractive('df-4c633cf2-0aaa-481b-9223-03d196bf88e2')\"\n",
              "              title=\"Convert this dataframe to an interactive table.\"\n",
              "              style=\"display:none;\">\n",
              "        \n",
              "  <svg xmlns=\"http://www.w3.org/2000/svg\" height=\"24px\"viewBox=\"0 0 24 24\"\n",
              "       width=\"24px\">\n",
              "    <path d=\"M0 0h24v24H0V0z\" fill=\"none\"/>\n",
              "    <path d=\"M18.56 5.44l.94 2.06.94-2.06 2.06-.94-2.06-.94-.94-2.06-.94 2.06-2.06.94zm-11 1L8.5 8.5l.94-2.06 2.06-.94-2.06-.94L8.5 2.5l-.94 2.06-2.06.94zm10 10l.94 2.06.94-2.06 2.06-.94-2.06-.94-.94-2.06-.94 2.06-2.06.94z\"/><path d=\"M17.41 7.96l-1.37-1.37c-.4-.4-.92-.59-1.43-.59-.52 0-1.04.2-1.43.59L10.3 9.45l-7.72 7.72c-.78.78-.78 2.05 0 2.83L4 21.41c.39.39.9.59 1.41.59.51 0 1.02-.2 1.41-.59l7.78-7.78 2.81-2.81c.8-.78.8-2.07 0-2.86zM5.41 20L4 18.59l7.72-7.72 1.47 1.35L5.41 20z\"/>\n",
              "  </svg>\n",
              "      </button>\n",
              "      \n",
              "  <style>\n",
              "    .colab-df-container {\n",
              "      display:flex;\n",
              "      flex-wrap:wrap;\n",
              "      gap: 12px;\n",
              "    }\n",
              "\n",
              "    .colab-df-convert {\n",
              "      background-color: #E8F0FE;\n",
              "      border: none;\n",
              "      border-radius: 50%;\n",
              "      cursor: pointer;\n",
              "      display: none;\n",
              "      fill: #1967D2;\n",
              "      height: 32px;\n",
              "      padding: 0 0 0 0;\n",
              "      width: 32px;\n",
              "    }\n",
              "\n",
              "    .colab-df-convert:hover {\n",
              "      background-color: #E2EBFA;\n",
              "      box-shadow: 0px 1px 2px rgba(60, 64, 67, 0.3), 0px 1px 3px 1px rgba(60, 64, 67, 0.15);\n",
              "      fill: #174EA6;\n",
              "    }\n",
              "\n",
              "    [theme=dark] .colab-df-convert {\n",
              "      background-color: #3B4455;\n",
              "      fill: #D2E3FC;\n",
              "    }\n",
              "\n",
              "    [theme=dark] .colab-df-convert:hover {\n",
              "      background-color: #434B5C;\n",
              "      box-shadow: 0px 1px 3px 1px rgba(0, 0, 0, 0.15);\n",
              "      filter: drop-shadow(0px 1px 2px rgba(0, 0, 0, 0.3));\n",
              "      fill: #FFFFFF;\n",
              "    }\n",
              "  </style>\n",
              "\n",
              "      <script>\n",
              "        const buttonEl =\n",
              "          document.querySelector('#df-4c633cf2-0aaa-481b-9223-03d196bf88e2 button.colab-df-convert');\n",
              "        buttonEl.style.display =\n",
              "          google.colab.kernel.accessAllowed ? 'block' : 'none';\n",
              "\n",
              "        async function convertToInteractive(key) {\n",
              "          const element = document.querySelector('#df-4c633cf2-0aaa-481b-9223-03d196bf88e2');\n",
              "          const dataTable =\n",
              "            await google.colab.kernel.invokeFunction('convertToInteractive',\n",
              "                                                     [key], {});\n",
              "          if (!dataTable) return;\n",
              "\n",
              "          const docLinkHtml = 'Like what you see? Visit the ' +\n",
              "            '<a target=\"_blank\" href=https://colab.research.google.com/notebooks/data_table.ipynb>data table notebook</a>'\n",
              "            + ' to learn more about interactive tables.';\n",
              "          element.innerHTML = '';\n",
              "          dataTable['output_type'] = 'display_data';\n",
              "          await google.colab.output.renderOutput(dataTable, element);\n",
              "          const docLink = document.createElement('div');\n",
              "          docLink.innerHTML = docLinkHtml;\n",
              "          element.appendChild(docLink);\n",
              "        }\n",
              "      </script>\n",
              "    </div>\n",
              "  </div>\n",
              "  "
            ]
          },
          "metadata": {},
          "execution_count": 13
        }
      ]
    },
    {
      "cell_type": "markdown",
      "metadata": {
        "id": "zGkdeB_eXaSs"
      },
      "source": [
        "### **Selecionando os possíveis outliers**\n",
        "\n",
        "1.   A variável **price** tem o **mínimo** em **0**. Lembrando que a variável **price** trata do preço da diária dos imóveis em moeda local (USD), estamos vendo que o **Q3** está em 175 dólares, mas o **máximo** está em **10 mil** dólares. A **média** da coluna **price** está em 162.6 dólares, enquanto a mediana (Q2) está em 101 dólares, observa-se que a média está muito próxima do terceiro quartil (Q3) dos dados (75% dos dados).\n",
        "\n",
        "2.   A variável **minimum_nights** tem como seu **máximo** o valor **1250**, sendo que o **Q3** está em **6**;\n",
        "\n",
        "3.   As variáveis **number_of_reviews**, **calculated_host_listings_count** e **availability_365** também podem conter outliers, mas não vamos nos preocupar com elas agora, para percerver esses valores discrepantes analise o valor dos 75% dos dados junto com o valor máximo dessas colunas."
      ]
    },
    {
      "cell_type": "markdown",
      "metadata": {
        "id": "srYjf_zjy6-I"
      },
      "source": [
        "### **Análise dos outliers**\n",
        "\n",
        "1.   Preço **não pode** ser igual a **0**;\n",
        "2.   75% dos dados tem preços das diárias (**price**) de até 175 dólares, será que existe uma diária de **10.000 dólares**, provavelmente este valor é um **outlier**?;\n",
        "3.   A coluna minimum_nights mostra que 75% dos dados tem até 6 noites na variável **minimum_nights**, o valor de **1.250 noites** como máximo muito provavelmente é um **outlier**;"
      ]
    },
    {
      "cell_type": "markdown",
      "metadata": {
        "id": "c5IqCJrI71O4"
      },
      "source": [
        "### **Análise gráfica dos outliers utilizando Histogramas**\n",
        "\n",
        "Um histograma é uma visualização gráfica de dados usando barras de diferentes alturas. Em um histograma, cada barra agrupa números em intervalos. As barras mais altas mostram que mais dados estão nesse intervalo. Um histograma exibe a forma e distribuição de dados amostrais discretos ou contínuos. ([Kanacademy](https://pt.khanacademy.org/math/ap-statistics/quantitative-data-ap/histograms-stem-leaf/v/histograms-intro))\n",
        "\n",
        "O [histograma](https://www.fm2s.com.br/histograma/) permite obter as seguintes informações\n",
        "\n",
        "* Centralidade: qual é o centro de distribuição? Onde é esperado que esteja a maioria das observações?\n",
        "* Amplitude: a distribuição normalmente contém observações entre quais valores? Qual é o ponto de máximo e o ponto de mínimo?\n",
        "* Simetria: será que devemos esperar a mesma frequência de pontos com valor alto e com valor baixo? Será que o processo é simétrico ou valores mais altos são mais raros?"
      ]
    },
    {
      "cell_type": "code",
      "metadata": {
        "id": "5N-LxhFtu3vG",
        "colab": {
          "base_uri": "https://localhost:8080/",
          "height": 879
        },
        "outputId": "09237d77-9a09-4f1c-84d7-55e13a060733"
      },
      "source": [
        "# verificando as distribuições de todas as variáveis\n",
        "df.hist(figsize=(20,15));"
      ],
      "execution_count": null,
      "outputs": [
        {
          "output_type": "display_data",
          "data": {
            "text/plain": [
              "<Figure size 1440x1080 with 9 Axes>"
            ],
            "image/png": "[encoded data removed]"
          },
          "metadata": {}
        }
      ]
    },
    {
      "cell_type": "code",
      "metadata": {
        "colab": {
          "base_uri": "https://localhost:8080/",
          "height": 280
        },
        "id": "2C5fuHMCkk6h",
        "outputId": "b3f71ef8-7e3f-4721-dff3-0e1c2eb4e413"
      },
      "source": [
        "#plotando o histograma apenas para a coluna minimum_nights\n",
        "sns.histplot(data=df, x=\"minimum_nights\", bins=7);"
      ],
      "execution_count": null,
      "outputs": [
        {
          "output_type": "display_data",
          "data": {
            "text/plain": [
              "<Figure size 432x288 with 1 Axes>"
            ],
            "image/png": "[encoded data removed]"
          },
          "metadata": {}
        }
      ]
    },
    {
      "cell_type": "code",
      "metadata": {
        "colab": {
          "base_uri": "https://localhost:8080/",
          "height": 279
        },
        "id": "IR1hPhLHmp1v",
        "outputId": "7a89ab5c-faab-4ad2-d99f-81295ffbe024"
      },
      "source": [
        "#plotando o histograma apenas para a coluna price\n",
        "sns.histplot(data=df, x=\"price\", bins=7);"
      ],
      "execution_count": null,
      "outputs": [
        {
          "output_type": "display_data",
          "data": {
            "text/plain": [
              "<Figure size 432x288 with 1 Axes>"
            ],
            "image/png": "[encoded data removed]"
          },
          "metadata": {}
        }
      ]
    },
    {
      "cell_type": "markdown",
      "metadata": {
        "id": "0Kr88iOlYils"
      },
      "source": [
        "**Verificando os histogramas, conseguimos visualizar os outliers presentes**\n",
        "\n",
        "<p align=\"center\"><img src=\"https://raw.githubusercontent.com/paulosrl/imagens/master/histogramasNY.png\n",
        "\"></p>\n",
        "\n"
      ]
    },
    {
      "cell_type": "markdown",
      "metadata": {
        "id": "9ktNeDLUC2lg"
      },
      "source": [
        "### **Calculando o valor de IQR para as colunas selecionadas**\n",
        "\n",
        "Para tratar dos outliers desse conjunto de dados, iremos analisar a **distribuição estatística**, plotar boxplots e calcular os limites (inferior e superior) utilizando a regra da [variação interquartil](https://escoladedados.org/tutoriais/analise-com-estatistica-descritiva-para-leigos/).\n",
        "\n",
        "**VARIAÇÃO INTERQUARTIL = Q3-Q1**\n",
        "\n",
        "Onde Q3 (terceiro quartil) representa 75% dos dados e Q1 (primeiro quartil) representa 25% dos dados\n",
        "# IQR = Q3 - Q1\n",
        "\n",
        "Tanto o desvio padrão quanto a variância dependem da média, portanto, são afetados por valores extremos. Mas, a Variação interquartil (IQR em inglês), é uma medida de dispersão baseada na mediana, que funciona de maneira muito mais eficiente na presença de outliers, pois é pouco afetada pelo outliers.\n",
        "\n",
        "A mediana para ser calculada precisa ordenar os dados do menor para o maior, o valor central dos dados é a [mediana](https://colab.research.google.com/drive/1ZK1zqBeBeFJ315yizvAt5UQyc7TNI1yy?authuser=1#scrollTo=hy_i5KpvUlSn).\n",
        "\n",
        "Passos a seguir antes da remoção dos outliers:\n",
        "\n",
        "* Definir o Q1 e Q3 para as variáveis que serão limpas.\n",
        "* Calcular o IQR para as variáveis.\n",
        "* Definir o limite superior e inferior para cortar os outliers."
      ]
    },
    {
      "cell_type": "markdown",
      "metadata": {
        "id": "Pe7hhnyzEe08"
      },
      "source": [
        "### **Calculando o valor de IQR para a coluna price**"
      ]
    },
    {
      "cell_type": "code",
      "metadata": {
        "colab": {
          "base_uri": "https://localhost:8080/"
        },
        "id": "8nv5fXFFWbf0",
        "outputId": "e4d1e381-1e79-462f-b9a1-4c21a7c7f628"
      },
      "source": [
        "# identificando os outliers para a variável price\n",
        "#cálculo do IQR\n",
        "q3, q1 = np.percentile(df['price'], [75 ,25])\n",
        "IQR = q3 - q1\n",
        "#limite inferior é -1.5 vezes o valor do IQR\n",
        "min = q1 - (IQR*1.5)\n",
        "#limite superior é +1.5 vezes o valor do IQR\n",
        "max = q3 + (IQR*1.5)\n",
        "print('IQR da variável price: ', IQR)\n",
        "print('Limite inferior de price: ', min)\n",
        "print('Limite superior de price: ', max)"
      ],
      "execution_count": null,
      "outputs": [
        {
          "output_type": "stream",
          "name": "stdout",
          "text": [
            "IQR da variável price:  107.0\n",
            "Limite inferior de price:  -92.5\n",
            "Limite superior de price:  335.5\n"
          ]
        }
      ]
    },
    {
      "cell_type": "markdown",
      "metadata": {
        "id": "AoK8T6skEqOx"
      },
      "source": [
        "### **Boxplot da coluna price**"
      ]
    },
    {
      "cell_type": "code",
      "metadata": {
        "id": "XGvT72qpHUOP",
        "colab": {
          "base_uri": "https://localhost:8080/",
          "height": 391
        },
        "outputId": "c3079578-36f2-4779-919e-e7682fd53bc0"
      },
      "source": [
        "# Visulizando o boxplot da coluna price\n",
        "sns.set(rc={'figure.figsize':(19,5)})\n",
        "sns.boxplot(x=\"price\", data=df);\n",
        "print(\"Total de linhas do dataset: \"+str(df.shape[0]))\n",
        "print(\"Entradas acima de \"+str(max)+\": \"+str(len(df[df.price > max])))\n",
        "print(\"{:.2f}% do dataset\".format((len(df[df.price >max]) / df.shape[0])*100));"
      ],
      "execution_count": null,
      "outputs": [
        {
          "output_type": "stream",
          "name": "stdout",
          "text": [
            "Total de linhas do dataset: 49506\n",
            "Entradas acima de 335.5: 2913\n",
            "5.88% do dataset\n"
          ]
        },
        {
          "output_type": "display_data",
          "data": {
            "text/plain": [
              "<Figure size 1368x360 with 1 Axes>"
            ],
            "image/png": "[encoded data removed]"
          },
          "metadata": {}
        }
      ]
    },
    {
      "cell_type": "markdown",
      "metadata": {
        "id": "cklHa_GoEwzK"
      },
      "source": [
        "### **Calculando o valor de IQR para a coluna minimum_nights**"
      ]
    },
    {
      "cell_type": "code",
      "metadata": {
        "colab": {
          "base_uri": "https://localhost:8080/"
        },
        "id": "-dmTGl4tXYqT",
        "outputId": "38e37fae-95e0-41dd-f1d7-27351aede593"
      },
      "source": [
        "# identificando os outliers para a variável price\n",
        "#cálculo do IQR\n",
        "q3, q1 = np.percentile(df['minimum_nights'], [75 ,25])\n",
        "IQR = q3 - q1\n",
        "#limite inferior é -1.5 vezes o valor do IQR\n",
        "min = q1 - (IQR*1.5)\n",
        "#limite superior é +1.5 vezes o valor do IQR\n",
        "max = q3 + (IQR*1.5)\n",
        "print('IQR da variável minimum_nights: ', IQR)\n",
        "print('Limite inferior de minimum_nights: ', min)\n",
        "print('Limite superior de minimum_nights: ', max)"
      ],
      "execution_count": null,
      "outputs": [
        {
          "output_type": "stream",
          "name": "stdout",
          "text": [
            "IQR da variável minimum_nights:  4.0\n",
            "Limite inferior de minimum_nights:  -4.0\n",
            "Limite superior de minimum_nights:  12.0\n"
          ]
        }
      ]
    },
    {
      "cell_type": "code",
      "metadata": {
        "id": "Hr_FUZ3mHV1o",
        "colab": {
          "base_uri": "https://localhost:8080/",
          "height": 391
        },
        "outputId": "60860c6d-5bcc-430d-d11e-3e9d97447f3c"
      },
      "source": [
        "# Visulizando da coluna minimum_nights\n",
        "sns.set(rc={'figure.figsize':(19,5)})\n",
        "sns.boxplot(x=\"minimum_nights\", data=df);\n",
        "print(\"Total de linhas do dataset: \"+str(df.shape[0]))\n",
        "print(\"Entradas acima de \"+str(max)+\": \"+str(len(df[df.minimum_nights > max])))\n",
        "print(\"{:.2f}% do dataset\".format((len(df[df.minimum_nights >max]) / df.shape[0])*100));"
      ],
      "execution_count": null,
      "outputs": [
        {
          "output_type": "stream",
          "name": "stdout",
          "text": [
            "Total de linhas do dataset: 49506\n",
            "Entradas acima de 12.0: 8473\n",
            "17.12% do dataset\n"
          ]
        },
        {
          "output_type": "display_data",
          "data": {
            "text/plain": [
              "<Figure size 1368x360 with 1 Axes>"
            ],
            "image/png": "[encoded data removed]"
          },
          "metadata": {}
        }
      ]
    },
    {
      "cell_type": "markdown",
      "metadata": {
        "id": "kQ7EMdQ6xsAz"
      },
      "source": [
        "### **Limpando Outliers**\n",
        "\n",
        "Decidir quais as regras de negócio que irão eliminar os outliers detectados.\n",
        "\n",
        "Preservar o dataset original para efeito de comparação com o novo dataset que gerá criado após a limpeza dos dados.\n",
        "\n",
        "Regras:\n",
        "\n",
        "* para a coluna price, o limite superior calculado é de 335.5, todos os valores acima deste valor serão eliminados da amostra;\n",
        "* para a coluna price, todos os valores de price iguais a zero também deverão ser eliminados;\n",
        "* para a coluna minimum_nights, o limite superior calculado é de 12, todos os valores acima deste valor serão eliminados da amostra;\n"
      ]
    },
    {
      "cell_type": "code",
      "metadata": {
        "id": "TWc_6lXt6csi",
        "colab": {
          "base_uri": "https://localhost:8080/"
        },
        "outputId": "a58c8c3c-d6fb-465b-be33-e88e9e4b4481"
      },
      "source": [
        "# limpando o dataset (faz uma cópia do dataset original e armazena em dflimpo)\n",
        "dflimpo = df.copy()\n",
        "#o limite superior calculado é de 335.5, todos os valores acima deste valor serão eliminados\n",
        "dflimpo.drop(dflimpo[dflimpo.price > 335.5].index, axis=0, inplace=True)\n",
        "#todos os valores de price iguais a zero também deverão ser eliminados\n",
        "dflimpo.drop(dflimpo[dflimpo.price == 0.0].index, axis=0, inplace=True)\n",
        "#o limite superior calculado é de 4, todos os valores acima deste valor serão eliminados\n",
        "dflimpo.drop(dflimpo[dflimpo.minimum_nights > 12].index, axis=0, inplace=True)\n",
        "\n",
        "print('Linhas antes da limpeza: ', df.shape)\n",
        "print('Linhas após a limpeza: ',dflimpo.shape)"
      ],
      "execution_count": null,
      "outputs": [
        {
          "output_type": "stream",
          "name": "stdout",
          "text": [
            "Linhas antes da limpeza:  (49506, 14)\n",
            "Linhas após a limpeza:  (38538, 14)\n"
          ]
        }
      ]
    },
    {
      "cell_type": "markdown",
      "metadata": {
        "id": "ZUZ8gY2vIG5O"
      },
      "source": [
        "### **Comparando o dataset original com o dataset limpo (sem outliers) utilizando Boxplots**\n",
        "\n",
        "É possível observar (dataset original) que apesar de não haverem outliers na parte inferior da amostra, existem valores iguais a zero, que precisam ser tratados.\n",
        "\n",
        "Após a limpeza observa-se que o valor mínino dos dados igual a zero é retirado da amostra e os outliers reduziram de forma considerável."
      ]
    },
    {
      "cell_type": "markdown",
      "metadata": {
        "id": "tmyRW3headgb"
      },
      "source": [
        "### **Boxplot da coluna Price (antes e depois)**"
      ]
    },
    {
      "cell_type": "code",
      "metadata": {
        "id": "ss2oacEMwBdT",
        "colab": {
          "base_uri": "https://localhost:8080/",
          "height": 339
        },
        "outputId": "4b98ba76-bdfc-41a1-c49b-55caede0c3b1"
      },
      "source": [
        "#boxplot de price antes da limpeza\n",
        "sns.set(rc={'figure.figsize':(19,5)})\n",
        "sns.boxplot(x=\"price\", data=df);"
      ],
      "execution_count": null,
      "outputs": [
        {
          "output_type": "display_data",
          "data": {
            "text/plain": [
              "<Figure size 1368x360 with 1 Axes>"
            ],
            "image/png": "[encoded data removed]"
          },
          "metadata": {}
        }
      ]
    },
    {
      "cell_type": "code",
      "metadata": {
        "id": "nXk3WukmxZVJ",
        "colab": {
          "base_uri": "https://localhost:8080/",
          "height": 339
        },
        "outputId": "ad92283d-ee37-4e81-e55b-7db202658014"
      },
      "source": [
        "#boxplot de price após a limpeza\n",
        "sns.set(rc={'figure.figsize':(19,5)})\n",
        "sns.boxplot(x=\"price\", data=dflimpo);"
      ],
      "execution_count": null,
      "outputs": [
        {
          "output_type": "display_data",
          "data": {
            "text/plain": [
              "<Figure size 1368x360 with 1 Axes>"
            ],
            "image/png": "[encoded data removed]"
          },
          "metadata": {}
        }
      ]
    },
    {
      "cell_type": "markdown",
      "metadata": {
        "id": "C8MlVhbsavDx"
      },
      "source": [
        "### **Histograma da coluna Price (antes e depois)**"
      ]
    },
    {
      "cell_type": "code",
      "metadata": {
        "id": "JLioGOY3ngMu",
        "colab": {
          "base_uri": "https://localhost:8080/",
          "height": 339
        },
        "outputId": "d852ff13-c7dc-47d3-e513-bb48ee7d1685"
      },
      "source": [
        "#histograma apenas para a coluna price antes da limpeza\n",
        "sns.set(rc={'figure.figsize':(10,5)})\n",
        "sns.histplot(data=df, x=\"price\", bins=7);"
      ],
      "execution_count": null,
      "outputs": [
        {
          "output_type": "display_data",
          "data": {
            "text/plain": [
              "<Figure size 720x360 with 1 Axes>"
            ],
            "image/png": "[encoded data removed]"
          },
          "metadata": {}
        }
      ]
    },
    {
      "cell_type": "code",
      "metadata": {
        "id": "_zA9UEqCbDnQ",
        "colab": {
          "base_uri": "https://localhost:8080/",
          "height": 339
        },
        "outputId": "92745573-10e0-461c-b185-08a29c4ec47b"
      },
      "source": [
        "#histograma para a coluna price após a limpeza\n",
        "sns.set(rc={'figure.figsize':(10,5)})\n",
        "sns.histplot(data=dflimpo, x=\"price\", bins=7);"
      ],
      "execution_count": null,
      "outputs": [
        {
          "output_type": "display_data",
          "data": {
            "text/plain": [
              "<Figure size 720x360 with 1 Axes>"
            ],
            "image/png": "[encoded data removed]"
          },
          "metadata": {}
        }
      ]
    },
    {
      "cell_type": "markdown",
      "metadata": {
        "id": "iXlAgGaFb057"
      },
      "source": [
        "### **Boxplot da coluna minimum_nights (antes e depois)**"
      ]
    },
    {
      "cell_type": "code",
      "metadata": {
        "id": "wDkwK2owbyax",
        "colab": {
          "base_uri": "https://localhost:8080/",
          "height": 339
        },
        "outputId": "fb833170-5b8f-44b4-b281-cf01502c7101"
      },
      "source": [
        "#boxplot de mini nig antes da limpeza\n",
        "sns.set(rc={'figure.figsize':(19,5)})\n",
        "sns.boxplot(x=\"minimum_nights\", data=df);"
      ],
      "execution_count": null,
      "outputs": [
        {
          "output_type": "display_data",
          "data": {
            "text/plain": [
              "<Figure size 1368x360 with 1 Axes>"
            ],
            "image/png": "[encoded data removed]"
          },
          "metadata": {}
        }
      ]
    },
    {
      "cell_type": "code",
      "metadata": {
        "id": "tFPNctdCcUEt",
        "colab": {
          "base_uri": "https://localhost:8080/",
          "height": 339
        },
        "outputId": "529851b3-b531-4ecc-b8a1-e93f8ffd37ff"
      },
      "source": [
        "#boxplot de price após a limpeza\n",
        "sns.set(rc={'figure.figsize':(19,5)})\n",
        "sns.boxplot(x=\"minimum_nights\", data=dflimpo);"
      ],
      "execution_count": null,
      "outputs": [
        {
          "output_type": "display_data",
          "data": {
            "text/plain": [
              "<Figure size 1368x360 with 1 Axes>"
            ],
            "image/png": "[encoded data removed]"
          },
          "metadata": {}
        }
      ]
    },
    {
      "cell_type": "markdown",
      "metadata": {
        "id": "Nw0FWA6nbKL0"
      },
      "source": [
        "### **Histograma da coluna minimum_nights (antes e depois)**"
      ]
    },
    {
      "cell_type": "code",
      "metadata": {
        "id": "aEXHwjIqnWQZ",
        "colab": {
          "base_uri": "https://localhost:8080/",
          "height": 339
        },
        "outputId": "b105056d-7c44-4cb1-a39e-c62f2d971829"
      },
      "source": [
        "#histograma apenas para a coluna minimum_nights antes da limpeza\n",
        "sns.set(rc={'figure.figsize':(10,5)})\n",
        "sns.histplot(data=df, x=\"minimum_nights\", bins=7);"
      ],
      "execution_count": null,
      "outputs": [
        {
          "output_type": "display_data",
          "data": {
            "text/plain": [
              "<Figure size 720x360 with 1 Axes>"
            ],
            "image/png": "[encoded data removed]"
          },
          "metadata": {}
        }
      ]
    },
    {
      "cell_type": "code",
      "metadata": {
        "id": "MZqdkI6jnIak",
        "colab": {
          "base_uri": "https://localhost:8080/",
          "height": 339
        },
        "outputId": "725b1184-764b-4193-967c-58a91d692e53"
      },
      "source": [
        "#histograma apenas para a coluna minimum_nights após a limpeza\n",
        "sns.set(rc={'figure.figsize':(10,5)})\n",
        "sns.histplot(data=dflimpo, x=\"minimum_nights\", bins=7);"
      ],
      "execution_count": null,
      "outputs": [
        {
          "output_type": "display_data",
          "data": {
            "text/plain": [
              "<Figure size 720x360 with 1 Axes>"
            ],
            "image/png": "[encoded data removed]"
          },
          "metadata": {}
        }
      ]
    },
    {
      "cell_type": "markdown",
      "metadata": {
        "id": "W7Gkhc6ybC-a"
      },
      "source": [
        "### **Comparando o dataset original com o dataset limpo (sem outliers) utilizando Histogramas**\n"
      ]
    },
    {
      "cell_type": "code",
      "metadata": {
        "id": "28OVII13EKrq",
        "colab": {
          "base_uri": "https://localhost:8080/"
        },
        "outputId": "189806b1-099e-4d20-acf5-ad9575ec28f3"
      },
      "source": [
        "# Resumo dos dados\n",
        "print(\"O dataset possui {} colunas\".format(df.shape[0]))\n",
        "print(\"{} Entradas acima de 335.5\".format(len(df[df.price > 335.5])))\n",
        "print(\"Representam {:.2f}% do dataframe\".format((len(df[df.price > 335.5]) / df.shape[0])*100))\n",
        "print(\"Tamanho original: {} colunas\".format(df.shape[0]))\n",
        "print(\"Tamanho atual: {} colunas\".format(dflimpo.shape[0]))"
      ],
      "execution_count": null,
      "outputs": [
        {
          "output_type": "stream",
          "name": "stdout",
          "text": [
            "O dataset possui 49506 colunas\n",
            "2913 Entradas acima de 335.5\n",
            "Representam 5.88% do dataframe\n",
            "Tamanho original: 49506 colunas\n",
            "Tamanho atual: 38538 colunas\n"
          ]
        }
      ]
    },
    {
      "cell_type": "markdown",
      "metadata": {
        "id": "gpjmyGGLMoHf"
      },
      "source": [
        "### **Verificando a distribuição estatística dos dados sem os outlier**"
      ]
    },
    {
      "cell_type": "code",
      "metadata": {
        "id": "gipucX3o4bqE",
        "colab": {
          "base_uri": "https://localhost:8080/",
          "height": 300
        },
        "outputId": "535a471b-829c-4cf0-cf0a-8d1a19ca2a93"
      },
      "source": [
        "# verificando a distribuição estatística dos dados limpos\n",
        "#round(1), arredonda as casas decimais para uma unidade\n",
        "dflimpo.describe().round(2)"
      ],
      "execution_count": null,
      "outputs": [
        {
          "output_type": "execute_result",
          "data": {
            "text/plain": [
              "                id       host_id  latitude  longitude     price  \\\n",
              "count     38538.00  3.853800e+04  38538.00   38538.00  38538.00   \n",
              "mean   22199886.73  8.150133e+07     40.73     -73.95    117.08   \n",
              "std    13189114.94  9.619907e+07      0.06       0.05     66.21   \n",
              "min        2060.00  2.259000e+03     40.50     -74.24     10.00   \n",
              "25%    10231375.50  9.104958e+06     40.69     -73.98     65.00   \n",
              "50%    21712089.50  3.607123e+07     40.72     -73.95    100.00   \n",
              "75%    34370895.00  1.305174e+08     40.76     -73.93    150.00   \n",
              "max    43703359.00  3.490786e+08     40.91     -73.71    335.00   \n",
              "\n",
              "       minimum_nights  number_of_reviews  calculated_host_listings_count  \\\n",
              "count        38538.00           38538.00                        38538.00   \n",
              "mean             2.80              27.41                            1.96   \n",
              "std              1.99              51.79                            3.27   \n",
              "min              1.00               0.00                            1.00   \n",
              "25%              1.00               1.00                            1.00   \n",
              "50%              2.00               6.00                            1.00   \n",
              "75%              4.00              28.00                            2.00   \n",
              "max             12.00             746.00                           83.00   \n",
              "\n",
              "       availability_365  \n",
              "count          38538.00  \n",
              "mean             108.29  \n",
              "std              134.83  \n",
              "min                0.00  \n",
              "25%                0.00  \n",
              "50%               32.00  \n",
              "75%              180.00  \n",
              "max              365.00  "
            ],
            "text/html": [
              "\n",
              "  <div id=\"df-58df7503-02d1-46b5-835d-d1d1692c69bb\">\n",
              "    <div class=\"colab-df-container\">\n",
              "      <div>\n",
              "<style scoped>\n",
              "    .dataframe tbody tr th:only-of-type {\n",
              "        vertical-align: middle;\n",
              "    }\n",
              "\n",
              "    .dataframe tbody tr th {\n",
              "        vertical-align: top;\n",
              "    }\n",
              "\n",
              "    .dataframe thead th {\n",
              "        text-align: right;\n",
              "    }\n",
              "</style>\n",
              "<table border=\"1\" class=\"dataframe\">\n",
              "  <thead>\n",
              "    <tr style=\"text-align: right;\">\n",
              "      <th></th>\n",
              "      <th>id</th>\n",
              "      <th>host_id</th>\n",
              "      <th>latitude</th>\n",
              "      <th>longitude</th>\n",
              "      <th>price</th>\n",
              "      <th>minimum_nights</th>\n",
              "      <th>number_of_reviews</th>\n",
              "      <th>calculated_host_listings_count</th>\n",
              "      <th>availability_365</th>\n",
              "    </tr>\n",
              "  </thead>\n",
              "  <tbody>\n",
              "    <tr>\n",
              "      <th>count</th>\n",
              "      <td>38538.00</td>\n",
              "      <td>3.853800e+04</td>\n",
              "      <td>38538.00</td>\n",
              "      <td>38538.00</td>\n",
              "      <td>38538.00</td>\n",
              "      <td>38538.00</td>\n",
              "      <td>38538.00</td>\n",
              "      <td>38538.00</td>\n",
              "      <td>38538.00</td>\n",
              "    </tr>\n",
              "    <tr>\n",
              "      <th>mean</th>\n",
              "      <td>22199886.73</td>\n",
              "      <td>8.150133e+07</td>\n",
              "      <td>40.73</td>\n",
              "      <td>-73.95</td>\n",
              "      <td>117.08</td>\n",
              "      <td>2.80</td>\n",
              "      <td>27.41</td>\n",
              "      <td>1.96</td>\n",
              "      <td>108.29</td>\n",
              "    </tr>\n",
              "    <tr>\n",
              "      <th>std</th>\n",
              "      <td>13189114.94</td>\n",
              "      <td>9.619907e+07</td>\n",
              "      <td>0.06</td>\n",
              "      <td>0.05</td>\n",
              "      <td>66.21</td>\n",
              "      <td>1.99</td>\n",
              "      <td>51.79</td>\n",
              "      <td>3.27</td>\n",
              "      <td>134.83</td>\n",
              "    </tr>\n",
              "    <tr>\n",
              "      <th>min</th>\n",
              "      <td>2060.00</td>\n",
              "      <td>2.259000e+03</td>\n",
              "      <td>40.50</td>\n",
              "      <td>-74.24</td>\n",
              "      <td>10.00</td>\n",
              "      <td>1.00</td>\n",
              "      <td>0.00</td>\n",
              "      <td>1.00</td>\n",
              "      <td>0.00</td>\n",
              "    </tr>\n",
              "    <tr>\n",
              "      <th>25%</th>\n",
              "      <td>10231375.50</td>\n",
              "      <td>9.104958e+06</td>\n",
              "      <td>40.69</td>\n",
              "      <td>-73.98</td>\n",
              "      <td>65.00</td>\n",
              "      <td>1.00</td>\n",
              "      <td>1.00</td>\n",
              "      <td>1.00</td>\n",
              "      <td>0.00</td>\n",
              "    </tr>\n",
              "    <tr>\n",
              "      <th>50%</th>\n",
              "      <td>21712089.50</td>\n",
              "      <td>3.607123e+07</td>\n",
              "      <td>40.72</td>\n",
              "      <td>-73.95</td>\n",
              "      <td>100.00</td>\n",
              "      <td>2.00</td>\n",
              "      <td>6.00</td>\n",
              "      <td>1.00</td>\n",
              "      <td>32.00</td>\n",
              "    </tr>\n",
              "    <tr>\n",
              "      <th>75%</th>\n",
              "      <td>34370895.00</td>\n",
              "      <td>1.305174e+08</td>\n",
              "      <td>40.76</td>\n",
              "      <td>-73.93</td>\n",
              "      <td>150.00</td>\n",
              "      <td>4.00</td>\n",
              "      <td>28.00</td>\n",
              "      <td>2.00</td>\n",
              "      <td>180.00</td>\n",
              "    </tr>\n",
              "    <tr>\n",
              "      <th>max</th>\n",
              "      <td>43703359.00</td>\n",
              "      <td>3.490786e+08</td>\n",
              "      <td>40.91</td>\n",
              "      <td>-73.71</td>\n",
              "      <td>335.00</td>\n",
              "      <td>12.00</td>\n",
              "      <td>746.00</td>\n",
              "      <td>83.00</td>\n",
              "      <td>365.00</td>\n",
              "    </tr>\n",
              "  </tbody>\n",
              "</table>\n",
              "</div>\n",
              "      <button class=\"colab-df-convert\" onclick=\"convertToInteractive('df-58df7503-02d1-46b5-835d-d1d1692c69bb')\"\n",
              "              title=\"Convert this dataframe to an interactive table.\"\n",
              "              style=\"display:none;\">\n",
              "        \n",
              "  <svg xmlns=\"http://www.w3.org/2000/svg\" height=\"24px\"viewBox=\"0 0 24 24\"\n",
              "       width=\"24px\">\n",
              "    <path d=\"M0 0h24v24H0V0z\" fill=\"none\"/>\n",
              "    <path d=\"M18.56 5.44l.94 2.06.94-2.06 2.06-.94-2.06-.94-.94-2.06-.94 2.06-2.06.94zm-11 1L8.5 8.5l.94-2.06 2.06-.94-2.06-.94L8.5 2.5l-.94 2.06-2.06.94zm10 10l.94 2.06.94-2.06 2.06-.94-2.06-.94-.94-2.06-.94 2.06-2.06.94z\"/><path d=\"M17.41 7.96l-1.37-1.37c-.4-.4-.92-.59-1.43-.59-.52 0-1.04.2-1.43.59L10.3 9.45l-7.72 7.72c-.78.78-.78 2.05 0 2.83L4 21.41c.39.39.9.59 1.41.59.51 0 1.02-.2 1.41-.59l7.78-7.78 2.81-2.81c.8-.78.8-2.07 0-2.86zM5.41 20L4 18.59l7.72-7.72 1.47 1.35L5.41 20z\"/>\n",
              "  </svg>\n",
              "      </button>\n",
              "      \n",
              "  <style>\n",
              "    .colab-df-container {\n",
              "      display:flex;\n",
              "      flex-wrap:wrap;\n",
              "      gap: 12px;\n",
              "    }\n",
              "\n",
              "    .colab-df-convert {\n",
              "      background-color: #E8F0FE;\n",
              "      border: none;\n",
              "      border-radius: 50%;\n",
              "      cursor: pointer;\n",
              "      display: none;\n",
              "      fill: #1967D2;\n",
              "      height: 32px;\n",
              "      padding: 0 0 0 0;\n",
              "      width: 32px;\n",
              "    }\n",
              "\n",
              "    .colab-df-convert:hover {\n",
              "      background-color: #E2EBFA;\n",
              "      box-shadow: 0px 1px 2px rgba(60, 64, 67, 0.3), 0px 1px 3px 1px rgba(60, 64, 67, 0.15);\n",
              "      fill: #174EA6;\n",
              "    }\n",
              "\n",
              "    [theme=dark] .colab-df-convert {\n",
              "      background-color: #3B4455;\n",
              "      fill: #D2E3FC;\n",
              "    }\n",
              "\n",
              "    [theme=dark] .colab-df-convert:hover {\n",
              "      background-color: #434B5C;\n",
              "      box-shadow: 0px 1px 3px 1px rgba(0, 0, 0, 0.15);\n",
              "      filter: drop-shadow(0px 1px 2px rgba(0, 0, 0, 0.3));\n",
              "      fill: #FFFFFF;\n",
              "    }\n",
              "  </style>\n",
              "\n",
              "      <script>\n",
              "        const buttonEl =\n",
              "          document.querySelector('#df-58df7503-02d1-46b5-835d-d1d1692c69bb button.colab-df-convert');\n",
              "        buttonEl.style.display =\n",
              "          google.colab.kernel.accessAllowed ? 'block' : 'none';\n",
              "\n",
              "        async function convertToInteractive(key) {\n",
              "          const element = document.querySelector('#df-58df7503-02d1-46b5-835d-d1d1692c69bb');\n",
              "          const dataTable =\n",
              "            await google.colab.kernel.invokeFunction('convertToInteractive',\n",
              "                                                     [key], {});\n",
              "          if (!dataTable) return;\n",
              "\n",
              "          const docLinkHtml = 'Like what you see? Visit the ' +\n",
              "            '<a target=\"_blank\" href=https://colab.research.google.com/notebooks/data_table.ipynb>data table notebook</a>'\n",
              "            + ' to learn more about interactive tables.';\n",
              "          element.innerHTML = '';\n",
              "          dataTable['output_type'] = 'display_data';\n",
              "          await google.colab.output.renderOutput(dataTable, element);\n",
              "          const docLink = document.createElement('div');\n",
              "          docLink.innerHTML = docLinkHtml;\n",
              "          element.appendChild(docLink);\n",
              "        }\n",
              "      </script>\n",
              "    </div>\n",
              "  </div>\n",
              "  "
            ]
          },
          "metadata": {},
          "execution_count": 31
        }
      ]
    },
    {
      "cell_type": "markdown",
      "metadata": {
        "id": "qipTpXZqbjwZ"
      },
      "source": [
        "## **Considerações finais sobre a nova distribuição dos dados**.\n",
        "\n",
        "* A **mediana** da variável **price** foi pouquíssimo afetada pela limpeza dos **outliers**, mostrando mais uma vez a robustez desse atributo como solução para **dados ausentes**.\n",
        "* A **média** da variável **price** foi **reduzida** **drásticamente**, enfatizando a **sensibilidade** desse atributo em relação aos **outliers**.\n",
        "\n",
        "**Média, Mediana e Outlier**\n",
        "\n",
        "<p align=\"center\"><img src=\"https://raw.githubusercontent.com/paulosrl/imagens/master/outlier.png\n",
        "\"></p>\n"
      ]
    }
  ]
}