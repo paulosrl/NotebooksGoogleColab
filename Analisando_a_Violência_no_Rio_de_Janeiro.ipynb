{
  "nbformat": 4,
  "nbformat_minor": 0,
  "metadata": {
    "colab": {
      "provenance": [],
      "toc_visible": true,
      "include_colab_link": true
    },
    "kernelspec": {
      "name": "python3",
      "display_name": "Python 3"
    }
  },
  "cells": [
    {
      "cell_type": "markdown",
      "metadata": {
        "id": "view-in-github",
        "colab_type": "text"
      },
      "source": [
        "<a href=\"https://colab.research.google.com/github/paulosrl/NotebooksGoogleColab/blob/main/Analisando_a_Viol%C3%AAncia_no_Rio_de_Janeiro.ipynb\" target=\"_parent\"><img src=\"https://colab.research.google.com/assets/colab-badge.svg\" alt=\"Open In Colab\"/></a>"
      ]
    },
    {
      "cell_type": "markdown",
      "metadata": {
        "id": "kLI0gJtzDGuQ"
      },
      "source": [
        "# **Analisando os dados da violência no Rio de Janeiro nos anos de 1991 a 2018**\n",
        "\n",
        "## **O Estado de Rio de Janeiro - Resumo do Instituto Brasileiro de Geografia e Estatística - IBGE**\n",
        "\n",
        "![](https://github.com/paulosrl/imagens/blob/master/RiodeJaneiro.png?raw=true)\n",
        "\n",
        "Fonte: https://www.ibge.gov.br/cidades-e-estados/rj/rio-de-janeiro.html\n",
        "\n",
        "##**Algumas manchetes referentes a violência no Rio em anos diferentes (2017, 2019 e 2020)**\n",
        "\n",
        "* **A máscara de Cidade Maravilhosa: Violência e assassinatos afastam turistas do Rio** ([huffpostbrasil - 2017](https://www.huffpostbrasil.com/2017/10/24/a-mascara-de-cidade-maravilhosa-violencia-e-assassinatos-afastam-turistas-do-rio_a_23253988/)), Pelo menos 5 estrangeiros foram assassinados em visita ao Rio de Janeiro neste ano. Escalada da violência afeta atividade turística.\" (huffpostbrasil).\n",
        "\n",
        "* **Violência gera prejuízo de R$ 150 milhões ao turismo no Rio, diz pesquisa** ([g1.com - 2019 ](https://g1.globo.com/rj/rio-de-janeiro/noticia/2019/02/14/violencia-gera-prejuizo-de-r-150-milhoes-ao-turismo-no-rio-diz-pesquisa.ghtml)) . Segundo estudo da Confederação Nacional do Comércio, um terço dos prejuízos no comércio e no turismo foram causados pela violência. Violência na cidade também reduziu a geração de emprego.\n",
        "\n",
        "* **RJ tem recorde de roubos de rua e mortes em confronto; homicídios caem** [(Uol)](https://noticias.uol.com.br/cotidiano/ultimas-noticias/2019/05/20/rio-tem-recorde-de-roubos-de-rua-e-mortes-em-confronto-homicidios-caem.htm). Assim como em SP, assassinatos subiram e crimes contra o patrimônio caíram durante a quarentena.\n",
        "\n",
        "As manchetes são referentes a violência no estado do Rio de Janeiro, é possível perceber que o estado, vem sofrendo a anos com este probelma. O foco deste estudo é fazer uma análise superficial dos dados relativos a violência. Estes dados foram obtidos no site do **[Instituto de Pesquisa e Segurança Pública do Rio de Janeiro](http://www.ispvisualizacao.rj.gov.br/index.html)**. Esses dados contém informações consolidadas dos anos de 1991 a meados de 2019.\n",
        "\n",
        "## **Origem dos Dados**\n",
        "\n",
        "Os dados atualizados podem ser obtidos a partir do **[ISP - Dados Abertos - Institunto de Segurança Pública](http://www.ispdados.rj.gov.br/estatistica.html)**\n",
        "\n",
        "Neste estudo faremo uso dos dados já coletados e disponsibilizados pelo Prof. [Carlos Melo](https://sigmoidal.ai/author/carlos/). O Arquivo chama-se **[violencia_rio.csv](https://raw.githubusercontent.com/carlosfab/dsnp2/master/datasets/violencia_rio.csv)**, está no formato `csv`.\n"
      ]
    },
    {
      "cell_type": "markdown",
      "metadata": {
        "id": "7vh4at0l90nr"
      },
      "source": [
        "## **Importando os dados**\n",
        "\n",
        "Nesta seção iremos importar os dados e importar as bibliotecas que serão utilizadas nesta análise."
      ]
    },
    {
      "cell_type": "code",
      "metadata": {
        "id": "CYLNme_OCX_R"
      },
      "source": [
        "# importando as bibliotecas que iremos utilizar\n",
        "import pandas as pd\n",
        "import numpy as np\n",
        "import matplotlib.pyplot as plt\n",
        "import seaborn as sns;\n",
        "\n",
        "# importando os dados e criando o DataFrame\n",
        "df = pd.read_csv('https://raw.githubusercontent.com/carlosfab/dsnp2/master/datasets/violencia_rio.csv')"
      ],
      "execution_count": null,
      "outputs": []
    },
    {
      "cell_type": "markdown",
      "metadata": {
        "id": "qb5By2nIMS6m"
      },
      "source": [
        "## **Análise Inicial dos Dados**\n",
        "\n",
        "Antes da análise do dataset, é importante conhecer as primeiras características do mesmo, desta forma, os comandos a seguir irão listas o total de colunas e linhas que possui o dataset"
      ]
    },
    {
      "cell_type": "markdown",
      "metadata": {
        "id": "RHxnthAxuAlA"
      },
      "source": [
        "\n",
        "###**Dimensões do Dataframe**"
      ]
    },
    {
      "cell_type": "code",
      "metadata": {
        "id": "EWYg9hTPtCmm",
        "colab": {
          "base_uri": "https://localhost:8080/",
          "height": 51
        },
        "outputId": "25608532-50e3-4709-c551-fd11c1d50bd5"
      },
      "source": [
        "# verificar o tamanho do DataFrame\n",
        "print(\"Colunas: \", df.shape[1])\n",
        "print(\"Linhas: \", df.shape[0])"
      ],
      "execution_count": null,
      "outputs": [
        {
          "output_type": "stream",
          "text": [
            "Colunas:  56\n",
            "Linhas:  344\n"
          ],
          "name": "stdout"
        }
      ]
    },
    {
      "cell_type": "markdown",
      "metadata": {
        "id": "RdNJ384rtnDB"
      },
      "source": [
        "###**Nomes das colunas que compoem o Dataframe**"
      ]
    },
    {
      "cell_type": "code",
      "metadata": {
        "id": "K7c2dC58uGFG",
        "colab": {
          "base_uri": "https://localhost:8080/",
          "height": 306
        },
        "outputId": "68281033-d4fb-42c2-f32c-ab9f800a3ced"
      },
      "source": [
        "# imprimir os nomes das colunas\n",
        "df.columns"
      ],
      "execution_count": null,
      "outputs": [
        {
          "output_type": "execute_result",
          "data": {
            "text/plain": [
              "Index(['vano', 'mes', 'hom_doloso', 'lesao_corp_morte', 'latrocinio',\n",
              "       'hom_por_interv_policial', 'tentat_hom', 'lesao_corp_dolosa', 'estupro',\n",
              "       'hom_culposo', 'lesao_corp_culposa', 'roubo_comercio',\n",
              "       'roubo_residencia', 'roubo_veiculo', 'roubo_carga', 'roubo_transeunte',\n",
              "       'roubo_em_coletivo', 'roubo_banco', 'roubo_cx_eletronico',\n",
              "       'roubo_celular', 'roubo_conducao_saque', 'roubo_apos_saque',\n",
              "       'roubo_bicicleta', 'outros_roubos', 'total_roubos', 'furto_veiculos',\n",
              "       'furto_transeunte', 'furto_coletivo', 'furto_celular',\n",
              "       'furto_bicicleta', 'outros_furtos', 'total_furtos', 'sequestro',\n",
              "       'extorsao', 'sequestro_relampago', 'estelionato', 'apreensao_drogas',\n",
              "       'posse_drogas', 'trafico_drogas', 'apreensao_drogas_sem_autor',\n",
              "       'recuperacao_veiculos', 'apf', 'aaapai', 'cmp', 'cmba', 'ameaca',\n",
              "       'pessoas_desaparecidas', 'encontro_cadaver', 'encontro_ossada',\n",
              "       'pol_militares_mortos_serv', 'pol_civis_mortos_serv',\n",
              "       'indicador_letalidade', 'indicador_roubo_rua', 'indicador_roubo_veic',\n",
              "       'registro_ocorrencias', 'fase'],\n",
              "      dtype='object')"
            ]
          },
          "metadata": {
            "tags": []
          },
          "execution_count": 3
        }
      ]
    },
    {
      "cell_type": "markdown",
      "metadata": {
        "id": "fl2ZyJ5YuX6F"
      },
      "source": [
        "###**Tipos de dados das Colunas**"
      ]
    },
    {
      "cell_type": "code",
      "metadata": {
        "id": "TCnRWuECucVz",
        "colab": {
          "base_uri": "https://localhost:8080/",
          "height": 986
        },
        "outputId": "1cf94afd-3ec6-4f0d-cb8c-137ca97964a6"
      },
      "source": [
        "# verificando os tipos das colunas\n",
        "df.dtypes"
      ],
      "execution_count": null,
      "outputs": [
        {
          "output_type": "execute_result",
          "data": {
            "text/plain": [
              "vano                            int64\n",
              "mes                             int64\n",
              "hom_doloso                      int64\n",
              "lesao_corp_morte              float64\n",
              "latrocinio                      int64\n",
              "hom_por_interv_policial       float64\n",
              "tentat_hom                      int64\n",
              "lesao_corp_dolosa               int64\n",
              "estupro                       float64\n",
              "hom_culposo                   float64\n",
              "lesao_corp_culposa            float64\n",
              "roubo_comercio                  int64\n",
              "roubo_residencia                int64\n",
              "roubo_veiculo                   int64\n",
              "roubo_carga                     int64\n",
              "roubo_transeunte                int64\n",
              "roubo_em_coletivo               int64\n",
              "roubo_banco                     int64\n",
              "roubo_cx_eletronico           float64\n",
              "roubo_celular                 float64\n",
              "roubo_conducao_saque          float64\n",
              "roubo_apos_saque              float64\n",
              "roubo_bicicleta               float64\n",
              "outros_roubos                   int64\n",
              "total_roubos                    int64\n",
              "furto_veiculos                  int64\n",
              "furto_transeunte                int64\n",
              "furto_coletivo                float64\n",
              "furto_celular                 float64\n",
              "furto_bicicleta               float64\n",
              "outros_furtos                   int64\n",
              "total_furtos                    int64\n",
              "sequestro                     float64\n",
              "extorsao                      float64\n",
              "sequestro_relampago           float64\n",
              "estelionato                   float64\n",
              "apreensao_drogas                int64\n",
              "posse_drogas                  float64\n",
              "trafico_drogas                float64\n",
              "apreensao_drogas_sem_autor    float64\n",
              "recuperacao_veiculos            int64\n",
              "apf                           float64\n",
              "aaapai                        float64\n",
              "cmp                           float64\n",
              "cmba                          float64\n",
              "ameaca                        float64\n",
              "pessoas_desaparecidas         float64\n",
              "encontro_cadaver                int64\n",
              "encontro_ossada               float64\n",
              "pol_militares_mortos_serv     float64\n",
              "pol_civis_mortos_serv         float64\n",
              "indicador_letalidade            int64\n",
              "indicador_roubo_rua             int64\n",
              "indicador_roubo_veic            int64\n",
              "registro_ocorrencias          float64\n",
              "fase                            int64\n",
              "dtype: object"
            ]
          },
          "metadata": {
            "tags": []
          },
          "execution_count": 4
        }
      ]
    },
    {
      "cell_type": "markdown",
      "metadata": {
        "id": "505jgfXDwz2o"
      },
      "source": [
        "###**Listagem das 5 primeiras linhas do arquivo**\n",
        "\n",
        "\n"
      ]
    },
    {
      "cell_type": "code",
      "metadata": {
        "id": "SCl7xS9Cw6sH",
        "colab": {
          "base_uri": "https://localhost:8080/",
          "height": 224
        },
        "outputId": "7b4b28b4-31d5-412f-edf6-90820075c25f"
      },
      "source": [
        "# visualizando as 5 primeiras linhas do DataFrame\n",
        "df.head()"
      ],
      "execution_count": null,
      "outputs": [
        {
          "output_type": "execute_result",
          "data": {
            "text/html": [
              "<div>\n",
              "<style scoped>\n",
              "    .dataframe tbody tr th:only-of-type {\n",
              "        vertical-align: middle;\n",
              "    }\n",
              "\n",
              "    .dataframe tbody tr th {\n",
              "        vertical-align: top;\n",
              "    }\n",
              "\n",
              "    .dataframe thead th {\n",
              "        text-align: right;\n",
              "    }\n",
              "</style>\n",
              "<table border=\"1\" class=\"dataframe\">\n",
              "  <thead>\n",
              "    <tr style=\"text-align: right;\">\n",
              "      <th></th>\n",
              "      <th>vano</th>\n",
              "      <th>mes</th>\n",
              "      <th>hom_doloso</th>\n",
              "      <th>lesao_corp_morte</th>\n",
              "      <th>latrocinio</th>\n",
              "      <th>hom_por_interv_policial</th>\n",
              "      <th>tentat_hom</th>\n",
              "      <th>lesao_corp_dolosa</th>\n",
              "      <th>estupro</th>\n",
              "      <th>hom_culposo</th>\n",
              "      <th>lesao_corp_culposa</th>\n",
              "      <th>roubo_comercio</th>\n",
              "      <th>roubo_residencia</th>\n",
              "      <th>roubo_veiculo</th>\n",
              "      <th>roubo_carga</th>\n",
              "      <th>roubo_transeunte</th>\n",
              "      <th>roubo_em_coletivo</th>\n",
              "      <th>roubo_banco</th>\n",
              "      <th>roubo_cx_eletronico</th>\n",
              "      <th>roubo_celular</th>\n",
              "      <th>roubo_conducao_saque</th>\n",
              "      <th>roubo_apos_saque</th>\n",
              "      <th>roubo_bicicleta</th>\n",
              "      <th>outros_roubos</th>\n",
              "      <th>total_roubos</th>\n",
              "      <th>furto_veiculos</th>\n",
              "      <th>furto_transeunte</th>\n",
              "      <th>furto_coletivo</th>\n",
              "      <th>furto_celular</th>\n",
              "      <th>furto_bicicleta</th>\n",
              "      <th>outros_furtos</th>\n",
              "      <th>total_furtos</th>\n",
              "      <th>sequestro</th>\n",
              "      <th>extorsao</th>\n",
              "      <th>sequestro_relampago</th>\n",
              "      <th>estelionato</th>\n",
              "      <th>apreensao_drogas</th>\n",
              "      <th>posse_drogas</th>\n",
              "      <th>trafico_drogas</th>\n",
              "      <th>apreensao_drogas_sem_autor</th>\n",
              "      <th>recuperacao_veiculos</th>\n",
              "      <th>apf</th>\n",
              "      <th>aaapai</th>\n",
              "      <th>cmp</th>\n",
              "      <th>cmba</th>\n",
              "      <th>ameaca</th>\n",
              "      <th>pessoas_desaparecidas</th>\n",
              "      <th>encontro_cadaver</th>\n",
              "      <th>encontro_ossada</th>\n",
              "      <th>pol_militares_mortos_serv</th>\n",
              "      <th>pol_civis_mortos_serv</th>\n",
              "      <th>indicador_letalidade</th>\n",
              "      <th>indicador_roubo_rua</th>\n",
              "      <th>indicador_roubo_veic</th>\n",
              "      <th>registro_ocorrencias</th>\n",
              "      <th>fase</th>\n",
              "    </tr>\n",
              "  </thead>\n",
              "  <tbody>\n",
              "    <tr>\n",
              "      <th>0</th>\n",
              "      <td>1991</td>\n",
              "      <td>1</td>\n",
              "      <td>657</td>\n",
              "      <td>NaN</td>\n",
              "      <td>15</td>\n",
              "      <td>NaN</td>\n",
              "      <td>162</td>\n",
              "      <td>3051</td>\n",
              "      <td>NaN</td>\n",
              "      <td>NaN</td>\n",
              "      <td>NaN</td>\n",
              "      <td>350</td>\n",
              "      <td>188</td>\n",
              "      <td>1174</td>\n",
              "      <td>63</td>\n",
              "      <td>967</td>\n",
              "      <td>381</td>\n",
              "      <td>37</td>\n",
              "      <td>NaN</td>\n",
              "      <td>NaN</td>\n",
              "      <td>NaN</td>\n",
              "      <td>NaN</td>\n",
              "      <td>NaN</td>\n",
              "      <td>158</td>\n",
              "      <td>3318</td>\n",
              "      <td>2009</td>\n",
              "      <td>1147</td>\n",
              "      <td>NaN</td>\n",
              "      <td>NaN</td>\n",
              "      <td>NaN</td>\n",
              "      <td>3561</td>\n",
              "      <td>6717</td>\n",
              "      <td>NaN</td>\n",
              "      <td>NaN</td>\n",
              "      <td>NaN</td>\n",
              "      <td>NaN</td>\n",
              "      <td>133</td>\n",
              "      <td>NaN</td>\n",
              "      <td>NaN</td>\n",
              "      <td>NaN</td>\n",
              "      <td>872</td>\n",
              "      <td>NaN</td>\n",
              "      <td>NaN</td>\n",
              "      <td>NaN</td>\n",
              "      <td>NaN</td>\n",
              "      <td>NaN</td>\n",
              "      <td>NaN</td>\n",
              "      <td>217</td>\n",
              "      <td>NaN</td>\n",
              "      <td>NaN</td>\n",
              "      <td>NaN</td>\n",
              "      <td>672</td>\n",
              "      <td>1348</td>\n",
              "      <td>1174</td>\n",
              "      <td>NaN</td>\n",
              "      <td>3</td>\n",
              "    </tr>\n",
              "    <tr>\n",
              "      <th>1</th>\n",
              "      <td>1991</td>\n",
              "      <td>2</td>\n",
              "      <td>732</td>\n",
              "      <td>NaN</td>\n",
              "      <td>17</td>\n",
              "      <td>NaN</td>\n",
              "      <td>175</td>\n",
              "      <td>3421</td>\n",
              "      <td>NaN</td>\n",
              "      <td>NaN</td>\n",
              "      <td>NaN</td>\n",
              "      <td>357</td>\n",
              "      <td>171</td>\n",
              "      <td>1097</td>\n",
              "      <td>64</td>\n",
              "      <td>963</td>\n",
              "      <td>432</td>\n",
              "      <td>35</td>\n",
              "      <td>NaN</td>\n",
              "      <td>NaN</td>\n",
              "      <td>NaN</td>\n",
              "      <td>NaN</td>\n",
              "      <td>NaN</td>\n",
              "      <td>142</td>\n",
              "      <td>3261</td>\n",
              "      <td>1850</td>\n",
              "      <td>1066</td>\n",
              "      <td>NaN</td>\n",
              "      <td>NaN</td>\n",
              "      <td>NaN</td>\n",
              "      <td>3309</td>\n",
              "      <td>6225</td>\n",
              "      <td>NaN</td>\n",
              "      <td>NaN</td>\n",
              "      <td>NaN</td>\n",
              "      <td>NaN</td>\n",
              "      <td>127</td>\n",
              "      <td>NaN</td>\n",
              "      <td>NaN</td>\n",
              "      <td>NaN</td>\n",
              "      <td>751</td>\n",
              "      <td>NaN</td>\n",
              "      <td>NaN</td>\n",
              "      <td>NaN</td>\n",
              "      <td>NaN</td>\n",
              "      <td>NaN</td>\n",
              "      <td>NaN</td>\n",
              "      <td>209</td>\n",
              "      <td>NaN</td>\n",
              "      <td>NaN</td>\n",
              "      <td>NaN</td>\n",
              "      <td>749</td>\n",
              "      <td>1395</td>\n",
              "      <td>1097</td>\n",
              "      <td>NaN</td>\n",
              "      <td>3</td>\n",
              "    </tr>\n",
              "    <tr>\n",
              "      <th>2</th>\n",
              "      <td>1991</td>\n",
              "      <td>3</td>\n",
              "      <td>713</td>\n",
              "      <td>NaN</td>\n",
              "      <td>25</td>\n",
              "      <td>NaN</td>\n",
              "      <td>216</td>\n",
              "      <td>3613</td>\n",
              "      <td>NaN</td>\n",
              "      <td>NaN</td>\n",
              "      <td>NaN</td>\n",
              "      <td>443</td>\n",
              "      <td>191</td>\n",
              "      <td>1265</td>\n",
              "      <td>71</td>\n",
              "      <td>963</td>\n",
              "      <td>422</td>\n",
              "      <td>43</td>\n",
              "      <td>NaN</td>\n",
              "      <td>NaN</td>\n",
              "      <td>NaN</td>\n",
              "      <td>NaN</td>\n",
              "      <td>NaN</td>\n",
              "      <td>131</td>\n",
              "      <td>3529</td>\n",
              "      <td>2084</td>\n",
              "      <td>1062</td>\n",
              "      <td>NaN</td>\n",
              "      <td>NaN</td>\n",
              "      <td>NaN</td>\n",
              "      <td>3573</td>\n",
              "      <td>6719</td>\n",
              "      <td>NaN</td>\n",
              "      <td>NaN</td>\n",
              "      <td>NaN</td>\n",
              "      <td>NaN</td>\n",
              "      <td>80</td>\n",
              "      <td>NaN</td>\n",
              "      <td>NaN</td>\n",
              "      <td>NaN</td>\n",
              "      <td>789</td>\n",
              "      <td>NaN</td>\n",
              "      <td>NaN</td>\n",
              "      <td>NaN</td>\n",
              "      <td>NaN</td>\n",
              "      <td>NaN</td>\n",
              "      <td>NaN</td>\n",
              "      <td>188</td>\n",
              "      <td>NaN</td>\n",
              "      <td>NaN</td>\n",
              "      <td>NaN</td>\n",
              "      <td>738</td>\n",
              "      <td>1385</td>\n",
              "      <td>1265</td>\n",
              "      <td>NaN</td>\n",
              "      <td>3</td>\n",
              "    </tr>\n",
              "    <tr>\n",
              "      <th>3</th>\n",
              "      <td>1991</td>\n",
              "      <td>4</td>\n",
              "      <td>634</td>\n",
              "      <td>NaN</td>\n",
              "      <td>20</td>\n",
              "      <td>NaN</td>\n",
              "      <td>200</td>\n",
              "      <td>3211</td>\n",
              "      <td>NaN</td>\n",
              "      <td>NaN</td>\n",
              "      <td>NaN</td>\n",
              "      <td>425</td>\n",
              "      <td>199</td>\n",
              "      <td>1415</td>\n",
              "      <td>81</td>\n",
              "      <td>1186</td>\n",
              "      <td>354</td>\n",
              "      <td>36</td>\n",
              "      <td>NaN</td>\n",
              "      <td>NaN</td>\n",
              "      <td>NaN</td>\n",
              "      <td>NaN</td>\n",
              "      <td>NaN</td>\n",
              "      <td>112</td>\n",
              "      <td>3808</td>\n",
              "      <td>2085</td>\n",
              "      <td>1195</td>\n",
              "      <td>NaN</td>\n",
              "      <td>NaN</td>\n",
              "      <td>NaN</td>\n",
              "      <td>3290</td>\n",
              "      <td>6570</td>\n",
              "      <td>NaN</td>\n",
              "      <td>NaN</td>\n",
              "      <td>NaN</td>\n",
              "      <td>NaN</td>\n",
              "      <td>133</td>\n",
              "      <td>NaN</td>\n",
              "      <td>NaN</td>\n",
              "      <td>NaN</td>\n",
              "      <td>787</td>\n",
              "      <td>NaN</td>\n",
              "      <td>NaN</td>\n",
              "      <td>NaN</td>\n",
              "      <td>NaN</td>\n",
              "      <td>NaN</td>\n",
              "      <td>NaN</td>\n",
              "      <td>140</td>\n",
              "      <td>NaN</td>\n",
              "      <td>NaN</td>\n",
              "      <td>NaN</td>\n",
              "      <td>654</td>\n",
              "      <td>1540</td>\n",
              "      <td>1415</td>\n",
              "      <td>NaN</td>\n",
              "      <td>3</td>\n",
              "    </tr>\n",
              "    <tr>\n",
              "      <th>4</th>\n",
              "      <td>1991</td>\n",
              "      <td>5</td>\n",
              "      <td>650</td>\n",
              "      <td>NaN</td>\n",
              "      <td>20</td>\n",
              "      <td>NaN</td>\n",
              "      <td>146</td>\n",
              "      <td>3051</td>\n",
              "      <td>NaN</td>\n",
              "      <td>NaN</td>\n",
              "      <td>NaN</td>\n",
              "      <td>553</td>\n",
              "      <td>231</td>\n",
              "      <td>1449</td>\n",
              "      <td>82</td>\n",
              "      <td>931</td>\n",
              "      <td>335</td>\n",
              "      <td>27</td>\n",
              "      <td>NaN</td>\n",
              "      <td>NaN</td>\n",
              "      <td>NaN</td>\n",
              "      <td>NaN</td>\n",
              "      <td>NaN</td>\n",
              "      <td>147</td>\n",
              "      <td>3755</td>\n",
              "      <td>2185</td>\n",
              "      <td>723</td>\n",
              "      <td>NaN</td>\n",
              "      <td>NaN</td>\n",
              "      <td>NaN</td>\n",
              "      <td>3546</td>\n",
              "      <td>6454</td>\n",
              "      <td>NaN</td>\n",
              "      <td>NaN</td>\n",
              "      <td>NaN</td>\n",
              "      <td>NaN</td>\n",
              "      <td>163</td>\n",
              "      <td>NaN</td>\n",
              "      <td>NaN</td>\n",
              "      <td>NaN</td>\n",
              "      <td>845</td>\n",
              "      <td>NaN</td>\n",
              "      <td>NaN</td>\n",
              "      <td>NaN</td>\n",
              "      <td>NaN</td>\n",
              "      <td>NaN</td>\n",
              "      <td>NaN</td>\n",
              "      <td>78</td>\n",
              "      <td>NaN</td>\n",
              "      <td>NaN</td>\n",
              "      <td>NaN</td>\n",
              "      <td>670</td>\n",
              "      <td>1266</td>\n",
              "      <td>1449</td>\n",
              "      <td>NaN</td>\n",
              "      <td>3</td>\n",
              "    </tr>\n",
              "  </tbody>\n",
              "</table>\n",
              "</div>"
            ],
            "text/plain": [
              "   vano  mes  hom_doloso  ...  indicador_roubo_veic  registro_ocorrencias  fase\n",
              "0  1991    1         657  ...                  1174                   NaN     3\n",
              "1  1991    2         732  ...                  1097                   NaN     3\n",
              "2  1991    3         713  ...                  1265                   NaN     3\n",
              "3  1991    4         634  ...                  1415                   NaN     3\n",
              "4  1991    5         650  ...                  1449                   NaN     3\n",
              "\n",
              "[5 rows x 56 columns]"
            ]
          },
          "metadata": {
            "tags": []
          },
          "execution_count": 5
        }
      ]
    },
    {
      "cell_type": "markdown",
      "metadata": {
        "id": "HYDl9Mq9xYa0"
      },
      "source": [
        "###**Listagem das 5 útimas linhas do arquivo**"
      ]
    },
    {
      "cell_type": "code",
      "metadata": {
        "id": "t-NIL63Yxes0",
        "colab": {
          "base_uri": "https://localhost:8080/",
          "height": 224
        },
        "outputId": "1a3b5811-3fea-4b97-a5f7-c953417da07d"
      },
      "source": [
        "#imprimindo as 5 últimas linhas\n",
        "df.tail()"
      ],
      "execution_count": null,
      "outputs": [
        {
          "output_type": "execute_result",
          "data": {
            "text/html": [
              "<div>\n",
              "<style scoped>\n",
              "    .dataframe tbody tr th:only-of-type {\n",
              "        vertical-align: middle;\n",
              "    }\n",
              "\n",
              "    .dataframe tbody tr th {\n",
              "        vertical-align: top;\n",
              "    }\n",
              "\n",
              "    .dataframe thead th {\n",
              "        text-align: right;\n",
              "    }\n",
              "</style>\n",
              "<table border=\"1\" class=\"dataframe\">\n",
              "  <thead>\n",
              "    <tr style=\"text-align: right;\">\n",
              "      <th></th>\n",
              "      <th>vano</th>\n",
              "      <th>mes</th>\n",
              "      <th>hom_doloso</th>\n",
              "      <th>lesao_corp_morte</th>\n",
              "      <th>latrocinio</th>\n",
              "      <th>hom_por_interv_policial</th>\n",
              "      <th>tentat_hom</th>\n",
              "      <th>lesao_corp_dolosa</th>\n",
              "      <th>estupro</th>\n",
              "      <th>hom_culposo</th>\n",
              "      <th>lesao_corp_culposa</th>\n",
              "      <th>roubo_comercio</th>\n",
              "      <th>roubo_residencia</th>\n",
              "      <th>roubo_veiculo</th>\n",
              "      <th>roubo_carga</th>\n",
              "      <th>roubo_transeunte</th>\n",
              "      <th>roubo_em_coletivo</th>\n",
              "      <th>roubo_banco</th>\n",
              "      <th>roubo_cx_eletronico</th>\n",
              "      <th>roubo_celular</th>\n",
              "      <th>roubo_conducao_saque</th>\n",
              "      <th>roubo_apos_saque</th>\n",
              "      <th>roubo_bicicleta</th>\n",
              "      <th>outros_roubos</th>\n",
              "      <th>total_roubos</th>\n",
              "      <th>furto_veiculos</th>\n",
              "      <th>furto_transeunte</th>\n",
              "      <th>furto_coletivo</th>\n",
              "      <th>furto_celular</th>\n",
              "      <th>furto_bicicleta</th>\n",
              "      <th>outros_furtos</th>\n",
              "      <th>total_furtos</th>\n",
              "      <th>sequestro</th>\n",
              "      <th>extorsao</th>\n",
              "      <th>sequestro_relampago</th>\n",
              "      <th>estelionato</th>\n",
              "      <th>apreensao_drogas</th>\n",
              "      <th>posse_drogas</th>\n",
              "      <th>trafico_drogas</th>\n",
              "      <th>apreensao_drogas_sem_autor</th>\n",
              "      <th>recuperacao_veiculos</th>\n",
              "      <th>apf</th>\n",
              "      <th>aaapai</th>\n",
              "      <th>cmp</th>\n",
              "      <th>cmba</th>\n",
              "      <th>ameaca</th>\n",
              "      <th>pessoas_desaparecidas</th>\n",
              "      <th>encontro_cadaver</th>\n",
              "      <th>encontro_ossada</th>\n",
              "      <th>pol_militares_mortos_serv</th>\n",
              "      <th>pol_civis_mortos_serv</th>\n",
              "      <th>indicador_letalidade</th>\n",
              "      <th>indicador_roubo_rua</th>\n",
              "      <th>indicador_roubo_veic</th>\n",
              "      <th>registro_ocorrencias</th>\n",
              "      <th>fase</th>\n",
              "    </tr>\n",
              "  </thead>\n",
              "  <tbody>\n",
              "    <tr>\n",
              "      <th>339</th>\n",
              "      <td>2019</td>\n",
              "      <td>4</td>\n",
              "      <td>360</td>\n",
              "      <td>1.0</td>\n",
              "      <td>11</td>\n",
              "      <td>124.0</td>\n",
              "      <td>466</td>\n",
              "      <td>5573</td>\n",
              "      <td>483.0</td>\n",
              "      <td>172.0</td>\n",
              "      <td>2182.0</td>\n",
              "      <td>502</td>\n",
              "      <td>124</td>\n",
              "      <td>3755</td>\n",
              "      <td>667</td>\n",
              "      <td>7031</td>\n",
              "      <td>1585</td>\n",
              "      <td>2</td>\n",
              "      <td>4.0</td>\n",
              "      <td>2424.0</td>\n",
              "      <td>10.0</td>\n",
              "      <td>82.0</td>\n",
              "      <td>23.0</td>\n",
              "      <td>2245</td>\n",
              "      <td>18454</td>\n",
              "      <td>1244</td>\n",
              "      <td>1519</td>\n",
              "      <td>607.0</td>\n",
              "      <td>1318.0</td>\n",
              "      <td>211.0</td>\n",
              "      <td>7633</td>\n",
              "      <td>12532</td>\n",
              "      <td>0.0</td>\n",
              "      <td>151.0</td>\n",
              "      <td>11.0</td>\n",
              "      <td>3260.0</td>\n",
              "      <td>1909</td>\n",
              "      <td>745.0</td>\n",
              "      <td>1021.0</td>\n",
              "      <td>187.0</td>\n",
              "      <td>2624</td>\n",
              "      <td>3128.0</td>\n",
              "      <td>497.0</td>\n",
              "      <td>1648.0</td>\n",
              "      <td>350.0</td>\n",
              "      <td>5310.0</td>\n",
              "      <td>408.0</td>\n",
              "      <td>22</td>\n",
              "      <td>3.0</td>\n",
              "      <td>1.0</td>\n",
              "      <td>0.0</td>\n",
              "      <td>496</td>\n",
              "      <td>11040</td>\n",
              "      <td>3755</td>\n",
              "      <td>67797.0</td>\n",
              "      <td>3</td>\n",
              "    </tr>\n",
              "    <tr>\n",
              "      <th>340</th>\n",
              "      <td>2019</td>\n",
              "      <td>5</td>\n",
              "      <td>345</td>\n",
              "      <td>2.0</td>\n",
              "      <td>15</td>\n",
              "      <td>172.0</td>\n",
              "      <td>478</td>\n",
              "      <td>4958</td>\n",
              "      <td>465.0</td>\n",
              "      <td>145.0</td>\n",
              "      <td>2304.0</td>\n",
              "      <td>514</td>\n",
              "      <td>93</td>\n",
              "      <td>3649</td>\n",
              "      <td>710</td>\n",
              "      <td>7332</td>\n",
              "      <td>1625</td>\n",
              "      <td>1</td>\n",
              "      <td>3.0</td>\n",
              "      <td>2427.0</td>\n",
              "      <td>9.0</td>\n",
              "      <td>87.0</td>\n",
              "      <td>7.0</td>\n",
              "      <td>2216</td>\n",
              "      <td>18673</td>\n",
              "      <td>1480</td>\n",
              "      <td>1475</td>\n",
              "      <td>715.0</td>\n",
              "      <td>1423.0</td>\n",
              "      <td>220.0</td>\n",
              "      <td>7711</td>\n",
              "      <td>13024</td>\n",
              "      <td>0.0</td>\n",
              "      <td>147.0</td>\n",
              "      <td>7.0</td>\n",
              "      <td>3498.0</td>\n",
              "      <td>2034</td>\n",
              "      <td>735.0</td>\n",
              "      <td>1133.0</td>\n",
              "      <td>199.0</td>\n",
              "      <td>2450</td>\n",
              "      <td>3169.0</td>\n",
              "      <td>527.0</td>\n",
              "      <td>1771.0</td>\n",
              "      <td>248.0</td>\n",
              "      <td>5068.0</td>\n",
              "      <td>390.0</td>\n",
              "      <td>20</td>\n",
              "      <td>1.0</td>\n",
              "      <td>0.0</td>\n",
              "      <td>0.0</td>\n",
              "      <td>534</td>\n",
              "      <td>11384</td>\n",
              "      <td>3649</td>\n",
              "      <td>68336.0</td>\n",
              "      <td>3</td>\n",
              "    </tr>\n",
              "    <tr>\n",
              "      <th>341</th>\n",
              "      <td>2019</td>\n",
              "      <td>6</td>\n",
              "      <td>332</td>\n",
              "      <td>3.0</td>\n",
              "      <td>8</td>\n",
              "      <td>153.0</td>\n",
              "      <td>436</td>\n",
              "      <td>4769</td>\n",
              "      <td>414.0</td>\n",
              "      <td>152.0</td>\n",
              "      <td>2481.0</td>\n",
              "      <td>382</td>\n",
              "      <td>85</td>\n",
              "      <td>3115</td>\n",
              "      <td>599</td>\n",
              "      <td>6077</td>\n",
              "      <td>1287</td>\n",
              "      <td>1</td>\n",
              "      <td>4.0</td>\n",
              "      <td>2187.0</td>\n",
              "      <td>19.0</td>\n",
              "      <td>83.0</td>\n",
              "      <td>9.0</td>\n",
              "      <td>1984</td>\n",
              "      <td>15832</td>\n",
              "      <td>1251</td>\n",
              "      <td>1443</td>\n",
              "      <td>630.0</td>\n",
              "      <td>1345.0</td>\n",
              "      <td>189.0</td>\n",
              "      <td>7224</td>\n",
              "      <td>12082</td>\n",
              "      <td>0.0</td>\n",
              "      <td>133.0</td>\n",
              "      <td>6.0</td>\n",
              "      <td>3029.0</td>\n",
              "      <td>1854</td>\n",
              "      <td>763.0</td>\n",
              "      <td>976.0</td>\n",
              "      <td>158.0</td>\n",
              "      <td>2041</td>\n",
              "      <td>2848.0</td>\n",
              "      <td>467.0</td>\n",
              "      <td>1585.0</td>\n",
              "      <td>233.0</td>\n",
              "      <td>4497.0</td>\n",
              "      <td>403.0</td>\n",
              "      <td>20</td>\n",
              "      <td>1.0</td>\n",
              "      <td>3.0</td>\n",
              "      <td>0.0</td>\n",
              "      <td>496</td>\n",
              "      <td>9551</td>\n",
              "      <td>3115</td>\n",
              "      <td>61202.0</td>\n",
              "      <td>3</td>\n",
              "    </tr>\n",
              "    <tr>\n",
              "      <th>342</th>\n",
              "      <td>2019</td>\n",
              "      <td>7</td>\n",
              "      <td>309</td>\n",
              "      <td>5.0</td>\n",
              "      <td>10</td>\n",
              "      <td>194.0</td>\n",
              "      <td>399</td>\n",
              "      <td>4740</td>\n",
              "      <td>402.0</td>\n",
              "      <td>140.0</td>\n",
              "      <td>2334.0</td>\n",
              "      <td>386</td>\n",
              "      <td>72</td>\n",
              "      <td>3198</td>\n",
              "      <td>691</td>\n",
              "      <td>6637</td>\n",
              "      <td>1208</td>\n",
              "      <td>1</td>\n",
              "      <td>0.0</td>\n",
              "      <td>2226.0</td>\n",
              "      <td>12.0</td>\n",
              "      <td>97.0</td>\n",
              "      <td>16.0</td>\n",
              "      <td>2110</td>\n",
              "      <td>16654</td>\n",
              "      <td>1353</td>\n",
              "      <td>1570</td>\n",
              "      <td>746.0</td>\n",
              "      <td>1391.0</td>\n",
              "      <td>230.0</td>\n",
              "      <td>7632</td>\n",
              "      <td>12922</td>\n",
              "      <td>0.0</td>\n",
              "      <td>135.0</td>\n",
              "      <td>12.0</td>\n",
              "      <td>3627.0</td>\n",
              "      <td>1861</td>\n",
              "      <td>709.0</td>\n",
              "      <td>996.0</td>\n",
              "      <td>187.0</td>\n",
              "      <td>2355</td>\n",
              "      <td>2907.0</td>\n",
              "      <td>490.0</td>\n",
              "      <td>1856.0</td>\n",
              "      <td>267.0</td>\n",
              "      <td>4678.0</td>\n",
              "      <td>400.0</td>\n",
              "      <td>32</td>\n",
              "      <td>7.0</td>\n",
              "      <td>0.0</td>\n",
              "      <td>0.0</td>\n",
              "      <td>518</td>\n",
              "      <td>10071</td>\n",
              "      <td>3198</td>\n",
              "      <td>65817.0</td>\n",
              "      <td>2</td>\n",
              "    </tr>\n",
              "    <tr>\n",
              "      <th>343</th>\n",
              "      <td>2019</td>\n",
              "      <td>8</td>\n",
              "      <td>318</td>\n",
              "      <td>1.0</td>\n",
              "      <td>6</td>\n",
              "      <td>170.0</td>\n",
              "      <td>457</td>\n",
              "      <td>4760</td>\n",
              "      <td>460.0</td>\n",
              "      <td>156.0</td>\n",
              "      <td>2437.0</td>\n",
              "      <td>433</td>\n",
              "      <td>103</td>\n",
              "      <td>3181</td>\n",
              "      <td>587</td>\n",
              "      <td>6452</td>\n",
              "      <td>1215</td>\n",
              "      <td>1</td>\n",
              "      <td>1.0</td>\n",
              "      <td>2245.0</td>\n",
              "      <td>9.0</td>\n",
              "      <td>98.0</td>\n",
              "      <td>17.0</td>\n",
              "      <td>1794</td>\n",
              "      <td>16136</td>\n",
              "      <td>1361</td>\n",
              "      <td>1568</td>\n",
              "      <td>674.0</td>\n",
              "      <td>1534.0</td>\n",
              "      <td>185.0</td>\n",
              "      <td>7280</td>\n",
              "      <td>12602</td>\n",
              "      <td>0.0</td>\n",
              "      <td>132.0</td>\n",
              "      <td>12.0</td>\n",
              "      <td>3546.0</td>\n",
              "      <td>1862</td>\n",
              "      <td>668.0</td>\n",
              "      <td>1067.0</td>\n",
              "      <td>171.0</td>\n",
              "      <td>2081</td>\n",
              "      <td>3114.0</td>\n",
              "      <td>476.0</td>\n",
              "      <td>2028.0</td>\n",
              "      <td>265.0</td>\n",
              "      <td>4662.0</td>\n",
              "      <td>367.0</td>\n",
              "      <td>27</td>\n",
              "      <td>8.0</td>\n",
              "      <td>2.0</td>\n",
              "      <td>0.0</td>\n",
              "      <td>495</td>\n",
              "      <td>9912</td>\n",
              "      <td>3181</td>\n",
              "      <td>65285.0</td>\n",
              "      <td>2</td>\n",
              "    </tr>\n",
              "  </tbody>\n",
              "</table>\n",
              "</div>"
            ],
            "text/plain": [
              "     vano  mes  hom_doloso  ...  indicador_roubo_veic  registro_ocorrencias  fase\n",
              "339  2019    4         360  ...                  3755               67797.0     3\n",
              "340  2019    5         345  ...                  3649               68336.0     3\n",
              "341  2019    6         332  ...                  3115               61202.0     3\n",
              "342  2019    7         309  ...                  3198               65817.0     2\n",
              "343  2019    8         318  ...                  3181               65285.0     2\n",
              "\n",
              "[5 rows x 56 columns]"
            ]
          },
          "metadata": {
            "tags": []
          },
          "execution_count": 6
        }
      ]
    },
    {
      "cell_type": "markdown",
      "metadata": {
        "id": "CaN0GQIlyYHd"
      },
      "source": [
        "###**Analisando o percentual de valores ausentes por coluna**"
      ]
    },
    {
      "cell_type": "code",
      "metadata": {
        "id": "zX3gZsx3ygTt",
        "colab": {
          "base_uri": "https://localhost:8080/",
          "height": 1000
        },
        "outputId": "22f814d8-ce1e-4b27-8577-399719d27097"
      },
      "source": [
        "# verificando a presença e porcentagem de dados ausentes no DataFrame\n",
        "print('Colunas         \\t      Porcentagem')\n",
        "(df.isnull().sum() / df.shape[0]*100).sort_values(ascending=False)"
      ],
      "execution_count": null,
      "outputs": [
        {
          "output_type": "stream",
          "text": [
            "Colunas         \t      Porcentagem\n"
          ],
          "name": "stdout"
        },
        {
          "output_type": "execute_result",
          "data": {
            "text/plain": [
              "roubo_bicicleta               80.232558\n",
              "furto_bicicleta               80.232558\n",
              "apreensao_drogas_sem_autor    52.325581\n",
              "posse_drogas                  52.325581\n",
              "apf                           52.325581\n",
              "aaapai                        52.325581\n",
              "cmp                           52.325581\n",
              "trafico_drogas                52.325581\n",
              "cmba                          52.325581\n",
              "sequestro_relampago           41.860465\n",
              "furto_coletivo                41.860465\n",
              "extorsao                      41.860465\n",
              "furto_celular                 41.860465\n",
              "roubo_apos_saque              41.860465\n",
              "roubo_conducao_saque          41.860465\n",
              "roubo_cx_eletronico           41.860465\n",
              "estupro                       41.860465\n",
              "estelionato                   41.860465\n",
              "pol_civis_mortos_serv         41.860465\n",
              "pol_militares_mortos_serv     41.860465\n",
              "pessoas_desaparecidas         38.372093\n",
              "encontro_ossada               38.372093\n",
              "roubo_celular                 31.395349\n",
              "lesao_corp_culposa            27.906977\n",
              "ameaca                        27.906977\n",
              "sequestro                     27.906977\n",
              "lesao_corp_morte              27.906977\n",
              "registro_ocorrencias          27.906977\n",
              "hom_por_interv_policial       24.418605\n",
              "hom_culposo                   24.418605\n",
              "tentat_hom                     0.000000\n",
              "roubo_comercio                 0.000000\n",
              "roubo_residencia               0.000000\n",
              "latrocinio                     0.000000\n",
              "lesao_corp_dolosa              0.000000\n",
              "hom_doloso                     0.000000\n",
              "roubo_transeunte               0.000000\n",
              "mes                            0.000000\n",
              "roubo_veiculo                  0.000000\n",
              "roubo_carga                    0.000000\n",
              "fase                           0.000000\n",
              "roubo_em_coletivo              0.000000\n",
              "roubo_banco                    0.000000\n",
              "outros_roubos                  0.000000\n",
              "total_roubos                   0.000000\n",
              "furto_veiculos                 0.000000\n",
              "furto_transeunte               0.000000\n",
              "outros_furtos                  0.000000\n",
              "total_furtos                   0.000000\n",
              "apreensao_drogas               0.000000\n",
              "recuperacao_veiculos           0.000000\n",
              "encontro_cadaver               0.000000\n",
              "indicador_letalidade           0.000000\n",
              "indicador_roubo_rua            0.000000\n",
              "indicador_roubo_veic           0.000000\n",
              "vano                           0.000000\n",
              "dtype: float64"
            ]
          },
          "metadata": {
            "tags": []
          },
          "execution_count": 39
        }
      ]
    },
    {
      "cell_type": "markdown",
      "metadata": {
        "id": "2Gqwb_gXz9HP"
      },
      "source": [
        "###**Resumo das Observações**\n",
        "\n",
        "O DataFrame possui muitas colunas com dados ausentes ou nulos sento elas:\n",
        "\n",
        "* roubo_bicicleta e furto_bicicleta com 80% dos dados ausentes;\n",
        "* apreensao_drogas_sem_autor, posse_drogas, apf, aaapai,cmp, trafico_drogas, cmba com 52% dos dados ausentes;\n",
        "* sequestro_relampago, furto_coletivo, extorsao,furto_celular, roubo_apos_saque, roubo_conducao_saque, roubo_cx_eletronico, estupro, estelionato, pol_civis_mortos_serv, pol_militares_mortos_serv dos dados ausentes 41%;\n",
        "* pessoas_desaparecidas e encontro_ossada com 38% dos dados ausentes;\n",
        "* roubo_celular com 31% dos dados ausentes;\n",
        "* lesao_corp_culposa, ameaca, sequestro, lesao_corp_morte, registro_ocorrencias com 27% dos dados ausentes;\n",
        "* hom_por_interv_policial e hom_culposo com 24% dos dados ausentes;"
      ]
    },
    {
      "cell_type": "markdown",
      "metadata": {
        "id": "t3azwjkr00X8"
      },
      "source": [
        "##**Limpeza dos dados**\n",
        "\n",
        "As colunas com dados **ausentes** serão removidas DateFrame, para uma melhor análise exploratória."
      ]
    },
    {
      "cell_type": "code",
      "metadata": {
        "id": "zD-qMb-81FtN"
      },
      "source": [
        "# removendo colunas com dados ausentes ou nulos\n",
        "df_limpo = df.dropna(axis=1)"
      ],
      "execution_count": null,
      "outputs": []
    },
    {
      "cell_type": "code",
      "metadata": {
        "id": "hbeedfrd1NNc",
        "colab": {
          "base_uri": "https://localhost:8080/",
          "height": 493
        },
        "outputId": "71ec2075-b2ba-4768-8a21-cc58d2ed633f"
      },
      "source": [
        "# verificando se a colunas com valores ausentes foram removidas\n",
        "print('Colunas \\t Número de dados ausentes')\n",
        "df_limpo.isnull().sum()"
      ],
      "execution_count": null,
      "outputs": [
        {
          "output_type": "stream",
          "text": [
            "Colunas \t Número de dados ausentes\n"
          ],
          "name": "stdout"
        },
        {
          "output_type": "execute_result",
          "data": {
            "text/plain": [
              "vano                    0\n",
              "mes                     0\n",
              "hom_doloso              0\n",
              "latrocinio              0\n",
              "tentat_hom              0\n",
              "lesao_corp_dolosa       0\n",
              "roubo_comercio          0\n",
              "roubo_residencia        0\n",
              "roubo_veiculo           0\n",
              "roubo_carga             0\n",
              "roubo_transeunte        0\n",
              "roubo_em_coletivo       0\n",
              "roubo_banco             0\n",
              "outros_roubos           0\n",
              "total_roubos            0\n",
              "furto_veiculos          0\n",
              "furto_transeunte        0\n",
              "outros_furtos           0\n",
              "total_furtos            0\n",
              "apreensao_drogas        0\n",
              "recuperacao_veiculos    0\n",
              "encontro_cadaver        0\n",
              "indicador_letalidade    0\n",
              "indicador_roubo_rua     0\n",
              "indicador_roubo_veic    0\n",
              "fase                    0\n",
              "dtype: int64"
            ]
          },
          "metadata": {
            "tags": []
          },
          "execution_count": 123
        }
      ]
    },
    {
      "cell_type": "markdown",
      "metadata": {
        "id": "G6dnsNYm-41g"
      },
      "source": [
        "##**Resumo Estatístico dos Dados da Violência no Rio de Janeiro**\n",
        "\n",
        "Usando o método `describe()` podemos visualizar a distribuição estatística do dataframe.\n",
        "\n",
        "Utilizando esse método, temos informações que podem nos ajudar a:\n",
        "\n",
        "* Identificar outliers.\n",
        "* Entender melhor a distribuição dos dados.\n",
        "* Identificar falhas na distribuição dos dados.\n",
        "* Após a limpeza dos dados, verificar a eficácia e as diferenças entre os dados tratados e não tratados."
      ]
    },
    {
      "cell_type": "code",
      "metadata": {
        "id": "hC7Eaemh2_jA",
        "colab": {
          "base_uri": "https://localhost:8080/",
          "height": 317
        },
        "outputId": "35ef7bc6-3339-462a-9923-40a453eabf5d"
      },
      "source": [
        "# imprimir o resultado estatístico do DataFrame\n",
        "df_limpo.describe()"
      ],
      "execution_count": null,
      "outputs": [
        {
          "output_type": "execute_result",
          "data": {
            "text/html": [
              "<div>\n",
              "<style scoped>\n",
              "    .dataframe tbody tr th:only-of-type {\n",
              "        vertical-align: middle;\n",
              "    }\n",
              "\n",
              "    .dataframe tbody tr th {\n",
              "        vertical-align: top;\n",
              "    }\n",
              "\n",
              "    .dataframe thead th {\n",
              "        text-align: right;\n",
              "    }\n",
              "</style>\n",
              "<table border=\"1\" class=\"dataframe\">\n",
              "  <thead>\n",
              "    <tr style=\"text-align: right;\">\n",
              "      <th></th>\n",
              "      <th>vano</th>\n",
              "      <th>mes</th>\n",
              "      <th>hom_doloso</th>\n",
              "      <th>latrocinio</th>\n",
              "      <th>tentat_hom</th>\n",
              "      <th>lesao_corp_dolosa</th>\n",
              "      <th>roubo_comercio</th>\n",
              "      <th>roubo_residencia</th>\n",
              "      <th>roubo_veiculo</th>\n",
              "      <th>roubo_carga</th>\n",
              "      <th>roubo_transeunte</th>\n",
              "      <th>roubo_em_coletivo</th>\n",
              "      <th>roubo_banco</th>\n",
              "      <th>outros_roubos</th>\n",
              "      <th>total_roubos</th>\n",
              "      <th>furto_veiculos</th>\n",
              "      <th>furto_transeunte</th>\n",
              "      <th>outros_furtos</th>\n",
              "      <th>total_furtos</th>\n",
              "      <th>apreensao_drogas</th>\n",
              "      <th>recuperacao_veiculos</th>\n",
              "      <th>encontro_cadaver</th>\n",
              "      <th>indicador_letalidade</th>\n",
              "      <th>indicador_roubo_rua</th>\n",
              "      <th>indicador_roubo_veic</th>\n",
              "      <th>fase</th>\n",
              "    </tr>\n",
              "  </thead>\n",
              "  <tbody>\n",
              "    <tr>\n",
              "      <th>count</th>\n",
              "      <td>344.000000</td>\n",
              "      <td>344.000000</td>\n",
              "      <td>344.000000</td>\n",
              "      <td>344.000000</td>\n",
              "      <td>344.000000</td>\n",
              "      <td>344.000000</td>\n",
              "      <td>344.000000</td>\n",
              "      <td>344.000000</td>\n",
              "      <td>344.000000</td>\n",
              "      <td>344.000000</td>\n",
              "      <td>344.000000</td>\n",
              "      <td>344.000000</td>\n",
              "      <td>344.000000</td>\n",
              "      <td>344.000000</td>\n",
              "      <td>344.000000</td>\n",
              "      <td>344.000000</td>\n",
              "      <td>344.000000</td>\n",
              "      <td>344.000000</td>\n",
              "      <td>344.000000</td>\n",
              "      <td>344.000000</td>\n",
              "      <td>344.000000</td>\n",
              "      <td>344.000000</td>\n",
              "      <td>344.000000</td>\n",
              "      <td>344.000000</td>\n",
              "      <td>344.000000</td>\n",
              "      <td>344.000000</td>\n",
              "    </tr>\n",
              "    <tr>\n",
              "      <th>mean</th>\n",
              "      <td>2004.837209</td>\n",
              "      <td>6.453488</td>\n",
              "      <td>504.555233</td>\n",
              "      <td>15.668605</td>\n",
              "      <td>318.267442</td>\n",
              "      <td>5492.799419</td>\n",
              "      <td>455.005814</td>\n",
              "      <td>133.284884</td>\n",
              "      <td>2448.697674</td>\n",
              "      <td>340.322674</td>\n",
              "      <td>3418.520349</td>\n",
              "      <td>659.002907</td>\n",
              "      <td>9.375000</td>\n",
              "      <td>1211.223837</td>\n",
              "      <td>9428.119186</td>\n",
              "      <td>1674.671512</td>\n",
              "      <td>1518.921512</td>\n",
              "      <td>5994.328488</td>\n",
              "      <td>10433.177326</td>\n",
              "      <td>1071.930233</td>\n",
              "      <td>1772.238372</td>\n",
              "      <td>66.261628</td>\n",
              "      <td>577.691860</td>\n",
              "      <td>4734.738372</td>\n",
              "      <td>2448.697674</td>\n",
              "      <td>2.994186</td>\n",
              "    </tr>\n",
              "    <tr>\n",
              "      <th>std</th>\n",
              "      <td>8.289036</td>\n",
              "      <td>3.447759</td>\n",
              "      <td>113.774481</td>\n",
              "      <td>5.861427</td>\n",
              "      <td>127.606645</td>\n",
              "      <td>1514.220579</td>\n",
              "      <td>119.765076</td>\n",
              "      <td>44.317963</td>\n",
              "      <td>789.689559</td>\n",
              "      <td>223.855243</td>\n",
              "      <td>2459.017549</td>\n",
              "      <td>297.622342</td>\n",
              "      <td>10.564894</td>\n",
              "      <td>800.576723</td>\n",
              "      <td>4578.013053</td>\n",
              "      <td>294.852020</td>\n",
              "      <td>971.853102</td>\n",
              "      <td>1964.767779</td>\n",
              "      <td>3696.725756</td>\n",
              "      <td>643.381991</td>\n",
              "      <td>656.761843</td>\n",
              "      <td>34.464519</td>\n",
              "      <td>104.973929</td>\n",
              "      <td>3204.054864</td>\n",
              "      <td>789.689559</td>\n",
              "      <td>0.076138</td>\n",
              "    </tr>\n",
              "    <tr>\n",
              "      <th>min</th>\n",
              "      <td>1991.000000</td>\n",
              "      <td>1.000000</td>\n",
              "      <td>272.000000</td>\n",
              "      <td>2.000000</td>\n",
              "      <td>122.000000</td>\n",
              "      <td>2350.000000</td>\n",
              "      <td>243.000000</td>\n",
              "      <td>49.000000</td>\n",
              "      <td>1097.000000</td>\n",
              "      <td>59.000000</td>\n",
              "      <td>688.000000</td>\n",
              "      <td>281.000000</td>\n",
              "      <td>0.000000</td>\n",
              "      <td>81.000000</td>\n",
              "      <td>3261.000000</td>\n",
              "      <td>1159.000000</td>\n",
              "      <td>322.000000</td>\n",
              "      <td>2322.000000</td>\n",
              "      <td>4691.000000</td>\n",
              "      <td>80.000000</td>\n",
              "      <td>729.000000</td>\n",
              "      <td>0.000000</td>\n",
              "      <td>334.000000</td>\n",
              "      <td>1086.000000</td>\n",
              "      <td>1097.000000</td>\n",
              "      <td>2.000000</td>\n",
              "    </tr>\n",
              "    <tr>\n",
              "      <th>25%</th>\n",
              "      <td>1998.000000</td>\n",
              "      <td>3.000000</td>\n",
              "      <td>413.750000</td>\n",
              "      <td>11.000000</td>\n",
              "      <td>200.000000</td>\n",
              "      <td>4067.000000</td>\n",
              "      <td>365.750000</td>\n",
              "      <td>103.750000</td>\n",
              "      <td>1889.750000</td>\n",
              "      <td>208.250000</td>\n",
              "      <td>1053.000000</td>\n",
              "      <td>430.750000</td>\n",
              "      <td>2.000000</td>\n",
              "      <td>811.750000</td>\n",
              "      <td>5107.750000</td>\n",
              "      <td>1430.500000</td>\n",
              "      <td>732.000000</td>\n",
              "      <td>3978.000000</td>\n",
              "      <td>6700.250000</td>\n",
              "      <td>714.500000</td>\n",
              "      <td>1276.750000</td>\n",
              "      <td>42.000000</td>\n",
              "      <td>500.000000</td>\n",
              "      <td>1557.000000</td>\n",
              "      <td>1889.750000</td>\n",
              "      <td>3.000000</td>\n",
              "    </tr>\n",
              "    <tr>\n",
              "      <th>50%</th>\n",
              "      <td>2005.000000</td>\n",
              "      <td>6.000000</td>\n",
              "      <td>507.000000</td>\n",
              "      <td>15.000000</td>\n",
              "      <td>318.500000</td>\n",
              "      <td>5830.500000</td>\n",
              "      <td>433.500000</td>\n",
              "      <td>125.000000</td>\n",
              "      <td>2322.000000</td>\n",
              "      <td>285.500000</td>\n",
              "      <td>2788.500000</td>\n",
              "      <td>592.000000</td>\n",
              "      <td>4.500000</td>\n",
              "      <td>1154.000000</td>\n",
              "      <td>9243.500000</td>\n",
              "      <td>1637.500000</td>\n",
              "      <td>1076.500000</td>\n",
              "      <td>6559.000000</td>\n",
              "      <td>10448.500000</td>\n",
              "      <td>979.500000</td>\n",
              "      <td>1755.000000</td>\n",
              "      <td>60.500000</td>\n",
              "      <td>590.000000</td>\n",
              "      <td>4190.000000</td>\n",
              "      <td>2322.000000</td>\n",
              "      <td>3.000000</td>\n",
              "    </tr>\n",
              "    <tr>\n",
              "      <th>75%</th>\n",
              "      <td>2012.000000</td>\n",
              "      <td>9.000000</td>\n",
              "      <td>577.250000</td>\n",
              "      <td>19.000000</td>\n",
              "      <td>398.250000</td>\n",
              "      <td>6582.500000</td>\n",
              "      <td>536.250000</td>\n",
              "      <td>151.250000</td>\n",
              "      <td>2778.000000</td>\n",
              "      <td>401.250000</td>\n",
              "      <td>5385.250000</td>\n",
              "      <td>784.000000</td>\n",
              "      <td>14.000000</td>\n",
              "      <td>1635.000000</td>\n",
              "      <td>11590.500000</td>\n",
              "      <td>1833.250000</td>\n",
              "      <td>2334.250000</td>\n",
              "      <td>7601.500000</td>\n",
              "      <td>13877.500000</td>\n",
              "      <td>1546.000000</td>\n",
              "      <td>2202.000000</td>\n",
              "      <td>87.000000</td>\n",
              "      <td>649.000000</td>\n",
              "      <td>6872.750000</td>\n",
              "      <td>2778.000000</td>\n",
              "      <td>3.000000</td>\n",
              "    </tr>\n",
              "    <tr>\n",
              "      <th>max</th>\n",
              "      <td>2019.000000</td>\n",
              "      <td>12.000000</td>\n",
              "      <td>831.000000</td>\n",
              "      <td>36.000000</td>\n",
              "      <td>645.000000</td>\n",
              "      <td>9050.000000</td>\n",
              "      <td>914.000000</td>\n",
              "      <td>300.000000</td>\n",
              "      <td>5358.000000</td>\n",
              "      <td>1329.000000</td>\n",
              "      <td>9669.000000</td>\n",
              "      <td>1628.000000</td>\n",
              "      <td>54.000000</td>\n",
              "      <td>3661.000000</td>\n",
              "      <td>23203.000000</td>\n",
              "      <td>2630.000000</td>\n",
              "      <td>5368.000000</td>\n",
              "      <td>9880.000000</td>\n",
              "      <td>18003.000000</td>\n",
              "      <td>2543.000000</td>\n",
              "      <td>3695.000000</td>\n",
              "      <td>217.000000</td>\n",
              "      <td>848.000000</td>\n",
              "      <td>13833.000000</td>\n",
              "      <td>5358.000000</td>\n",
              "      <td>3.000000</td>\n",
              "    </tr>\n",
              "  </tbody>\n",
              "</table>\n",
              "</div>"
            ],
            "text/plain": [
              "              vano         mes  ...  indicador_roubo_veic        fase\n",
              "count   344.000000  344.000000  ...            344.000000  344.000000\n",
              "mean   2004.837209    6.453488  ...           2448.697674    2.994186\n",
              "std       8.289036    3.447759  ...            789.689559    0.076138\n",
              "min    1991.000000    1.000000  ...           1097.000000    2.000000\n",
              "25%    1998.000000    3.000000  ...           1889.750000    3.000000\n",
              "50%    2005.000000    6.000000  ...           2322.000000    3.000000\n",
              "75%    2012.000000    9.000000  ...           2778.000000    3.000000\n",
              "max    2019.000000   12.000000  ...           5358.000000    3.000000\n",
              "\n",
              "[8 rows x 26 columns]"
            ]
          },
          "metadata": {
            "tags": []
          },
          "execution_count": 124
        }
      ]
    },
    {
      "cell_type": "markdown",
      "metadata": {
        "id": "Bj95d67M3MG6"
      },
      "source": [
        "##**Crimes contra o patrimônio**\n",
        "\n",
        "Nesta seção serão analisados: **roubo de veículos, furto de veículos e recuperação de veículos**."
      ]
    },
    {
      "cell_type": "markdown",
      "metadata": {
        "id": "oPPREQ4-37vG"
      },
      "source": [
        "###**Cálculo das Médias**"
      ]
    },
    {
      "cell_type": "code",
      "metadata": {
        "id": "RBqNNnJr3_ZF",
        "colab": {
          "base_uri": "https://localhost:8080/",
          "height": 68
        },
        "outputId": "a149f256-4496-43f3-ba27-fe234d961220"
      },
      "source": [
        "# visualizando a média de veiculos Roubados, furtados e recuperados\n",
        "print(f'Média de Veículos Roubados: {df_limpo.roubo_veiculo.mean():.2f} veículos')\n",
        "print(f'Média de Veículos Furtados: {df_limpo.furto_veiculos.mean():.2f} veículos')\n",
        "print(f'Média de Veículos Recuperados: {df_limpo.recuperacao_veiculos.mean():.2f} veículos')"
      ],
      "execution_count": null,
      "outputs": [
        {
          "output_type": "stream",
          "text": [
            "Média de Veículos Roubados: 2448.70 veículos\n",
            "Média de Veículos Furtados: 1674.67 veículos\n",
            "Média de Veículos Recuperados: 1772.24 veículos\n"
          ],
          "name": "stdout"
        }
      ]
    },
    {
      "cell_type": "markdown",
      "metadata": {
        "id": "yYu6_A8722BB"
      },
      "source": [
        "###**Percentual de veículos recuperados em relação aos veículos roubados e furtados**\n",
        "  * $\\frac{\\text{recuperacao_veiculos}}{\\text{roubo_veiculo} + \\text{furto_veiculos}}$"
      ]
    },
    {
      "cell_type": "code",
      "metadata": {
        "id": "3FTIuANC5jc3",
        "colab": {
          "base_uri": "https://localhost:8080/",
          "height": 51
        },
        "outputId": "f9d6762f-3cc0-4ae0-bca2-30a061a7ab7e"
      },
      "source": [
        "# porcentagem de veículos recuperados em relação a quantidade veículos roubados e furtados.\n",
        "roubo = df_limpo.roubo_veiculo.sum()\n",
        "furto = df_limpo.furto_veiculos.sum()\n",
        "recuperados = df_limpo.recuperacao_veiculos.sum()\n",
        "\n",
        "print('A porcentegem de veículos recuperados em relação a \\nquantidade de veículos roubados '\n",
        "f'e furtados e de: {recuperados / (roubo + furto):.2f}%')"
      ],
      "execution_count": null,
      "outputs": [
        {
          "output_type": "stream",
          "text": [
            "A porcentegem de veículos recuperados em relação a \n",
            "quantidade de veículos roubados e furtados e de: 0.43%\n"
          ],
          "name": "stdout"
        }
      ]
    },
    {
      "cell_type": "markdown",
      "metadata": {
        "id": "qz4TeKZN59z1"
      },
      "source": [
        "##**Crimes contra a vida**\n",
        "\n",
        "Para analisar os homicídios ocorridos começaremos analisar a variável **hom_doloso**, através dos métodos **máximo** e **mínimo**."
      ]
    },
    {
      "cell_type": "code",
      "metadata": {
        "id": "3A2fWGog6yna",
        "colab": {
          "base_uri": "https://localhost:8080/",
          "height": 68
        },
        "outputId": "50739c0a-db06-45fc-9e1f-caf2655686b2"
      },
      "source": [
        "# visualizando o maior e o menor numero de homicídios dolosos\n",
        "print('Homicídios Dolosos registrados no período presentes no DataFrame:')\n",
        "print(f'Maior número: {df_limpo.hom_doloso.max()} ')\n",
        "print(f'Menor número: {df_limpo.hom_doloso.min()}')"
      ],
      "execution_count": null,
      "outputs": [
        {
          "output_type": "stream",
          "text": [
            "Homicídios Dolosos registrados no período presentes no DataFrame:\n",
            "Maior número: 831 \n",
            "Menor número: 272\n"
          ],
          "name": "stdout"
        }
      ]
    },
    {
      "cell_type": "markdown",
      "metadata": {
        "id": "xXy6v_JCNAuW"
      },
      "source": [
        "No mês que foi registrado menor número de homicídios dolosos, que têm intenção de matar, foi registrado 272 mortes.\n",
        "\n",
        "Já o mês com maior número de mortes contabilizado constou 831 registros.\n",
        "\n",
        "Vamos saber agora os meses e ano que ocorreram esses registros"
      ]
    },
    {
      "cell_type": "code",
      "metadata": {
        "id": "pITA3WvcNLiR",
        "colab": {
          "base_uri": "https://localhost:8080/",
          "height": 100
        },
        "outputId": "585eb7b6-5392-4680-870a-16885a29a2dc"
      },
      "source": [
        "# verificando o mês e ano com menor número registrado de homicídios dolosos\n",
        "df_limpo[df_limpo.hom_doloso == 272]"
      ],
      "execution_count": null,
      "outputs": [
        {
          "output_type": "execute_result",
          "data": {
            "text/html": [
              "<div>\n",
              "<style scoped>\n",
              "    .dataframe tbody tr th:only-of-type {\n",
              "        vertical-align: middle;\n",
              "    }\n",
              "\n",
              "    .dataframe tbody tr th {\n",
              "        vertical-align: top;\n",
              "    }\n",
              "\n",
              "    .dataframe thead th {\n",
              "        text-align: right;\n",
              "    }\n",
              "</style>\n",
              "<table border=\"1\" class=\"dataframe\">\n",
              "  <thead>\n",
              "    <tr style=\"text-align: right;\">\n",
              "      <th></th>\n",
              "      <th>vano</th>\n",
              "      <th>mes</th>\n",
              "      <th>hom_doloso</th>\n",
              "      <th>latrocinio</th>\n",
              "      <th>tentat_hom</th>\n",
              "      <th>lesao_corp_dolosa</th>\n",
              "      <th>roubo_comercio</th>\n",
              "      <th>roubo_residencia</th>\n",
              "      <th>roubo_veiculo</th>\n",
              "      <th>roubo_carga</th>\n",
              "      <th>roubo_transeunte</th>\n",
              "      <th>roubo_em_coletivo</th>\n",
              "      <th>roubo_banco</th>\n",
              "      <th>outros_roubos</th>\n",
              "      <th>total_roubos</th>\n",
              "      <th>furto_veiculos</th>\n",
              "      <th>furto_transeunte</th>\n",
              "      <th>outros_furtos</th>\n",
              "      <th>total_furtos</th>\n",
              "      <th>apreensao_drogas</th>\n",
              "      <th>recuperacao_veiculos</th>\n",
              "      <th>encontro_cadaver</th>\n",
              "      <th>indicador_letalidade</th>\n",
              "      <th>indicador_roubo_rua</th>\n",
              "      <th>indicador_roubo_veic</th>\n",
              "      <th>fase</th>\n",
              "    </tr>\n",
              "  </thead>\n",
              "  <tbody>\n",
              "    <tr>\n",
              "      <th>293</th>\n",
              "      <td>2015</td>\n",
              "      <td>6</td>\n",
              "      <td>272</td>\n",
              "      <td>16</td>\n",
              "      <td>477</td>\n",
              "      <td>5535</td>\n",
              "      <td>465</td>\n",
              "      <td>96</td>\n",
              "      <td>2254</td>\n",
              "      <td>566</td>\n",
              "      <td>4421</td>\n",
              "      <td>619</td>\n",
              "      <td>3</td>\n",
              "      <td>1243</td>\n",
              "      <td>10678</td>\n",
              "      <td>1333</td>\n",
              "      <td>2974</td>\n",
              "      <td>7475</td>\n",
              "      <td>14269</td>\n",
              "      <td>2134</td>\n",
              "      <td>1768</td>\n",
              "      <td>52</td>\n",
              "      <td>334</td>\n",
              "      <td>5936</td>\n",
              "      <td>2254</td>\n",
              "      <td>3</td>\n",
              "    </tr>\n",
              "  </tbody>\n",
              "</table>\n",
              "</div>"
            ],
            "text/plain": [
              "     vano  mes  hom_doloso  ...  indicador_roubo_rua  indicador_roubo_veic  fase\n",
              "293  2015    6         272  ...                 5936                  2254     3\n",
              "\n",
              "[1 rows x 26 columns]"
            ]
          },
          "metadata": {
            "tags": []
          },
          "execution_count": 91
        }
      ]
    },
    {
      "cell_type": "code",
      "metadata": {
        "id": "YAHYDVGpNcr9",
        "colab": {
          "base_uri": "https://localhost:8080/",
          "height": 100
        },
        "outputId": "8bf40d37-2527-4a83-b67b-6923f0dad6ff"
      },
      "source": [
        "# verificando o mês e ano com maior número de registros de homicídios dolosos\n",
        "df_limpo[df_limpo.hom_doloso == 831]"
      ],
      "execution_count": null,
      "outputs": [
        {
          "output_type": "execute_result",
          "data": {
            "text/html": [
              "<div>\n",
              "<style scoped>\n",
              "    .dataframe tbody tr th:only-of-type {\n",
              "        vertical-align: middle;\n",
              "    }\n",
              "\n",
              "    .dataframe tbody tr th {\n",
              "        vertical-align: top;\n",
              "    }\n",
              "\n",
              "    .dataframe thead th {\n",
              "        text-align: right;\n",
              "    }\n",
              "</style>\n",
              "<table border=\"1\" class=\"dataframe\">\n",
              "  <thead>\n",
              "    <tr style=\"text-align: right;\">\n",
              "      <th></th>\n",
              "      <th>vano</th>\n",
              "      <th>mes</th>\n",
              "      <th>hom_doloso</th>\n",
              "      <th>latrocinio</th>\n",
              "      <th>tentat_hom</th>\n",
              "      <th>lesao_corp_dolosa</th>\n",
              "      <th>roubo_comercio</th>\n",
              "      <th>roubo_residencia</th>\n",
              "      <th>roubo_veiculo</th>\n",
              "      <th>roubo_carga</th>\n",
              "      <th>roubo_transeunte</th>\n",
              "      <th>roubo_em_coletivo</th>\n",
              "      <th>roubo_banco</th>\n",
              "      <th>outros_roubos</th>\n",
              "      <th>total_roubos</th>\n",
              "      <th>furto_veiculos</th>\n",
              "      <th>furto_transeunte</th>\n",
              "      <th>outros_furtos</th>\n",
              "      <th>total_furtos</th>\n",
              "      <th>apreensao_drogas</th>\n",
              "      <th>recuperacao_veiculos</th>\n",
              "      <th>encontro_cadaver</th>\n",
              "      <th>indicador_letalidade</th>\n",
              "      <th>indicador_roubo_rua</th>\n",
              "      <th>indicador_roubo_veic</th>\n",
              "      <th>fase</th>\n",
              "    </tr>\n",
              "  </thead>\n",
              "  <tbody>\n",
              "    <tr>\n",
              "      <th>48</th>\n",
              "      <td>1995</td>\n",
              "      <td>1</td>\n",
              "      <td>831</td>\n",
              "      <td>17</td>\n",
              "      <td>166</td>\n",
              "      <td>3626</td>\n",
              "      <td>323</td>\n",
              "      <td>174</td>\n",
              "      <td>2060</td>\n",
              "      <td>188</td>\n",
              "      <td>1056</td>\n",
              "      <td>377</td>\n",
              "      <td>38</td>\n",
              "      <td>134</td>\n",
              "      <td>4350</td>\n",
              "      <td>1924</td>\n",
              "      <td>520</td>\n",
              "      <td>2941</td>\n",
              "      <td>5385</td>\n",
              "      <td>147</td>\n",
              "      <td>1435</td>\n",
              "      <td>98</td>\n",
              "      <td>848</td>\n",
              "      <td>1433</td>\n",
              "      <td>2060</td>\n",
              "      <td>3</td>\n",
              "    </tr>\n",
              "  </tbody>\n",
              "</table>\n",
              "</div>"
            ],
            "text/plain": [
              "    vano  mes  hom_doloso  ...  indicador_roubo_rua  indicador_roubo_veic  fase\n",
              "48  1995    1         831  ...                 1433                  2060     3\n",
              "\n",
              "[1 rows x 26 columns]"
            ]
          },
          "metadata": {
            "tags": []
          },
          "execution_count": 92
        }
      ]
    },
    {
      "cell_type": "markdown",
      "metadata": {
        "id": "1e6mVgLENije"
      },
      "source": [
        "É possível  concluir que o número de crimes por homicídio doloso (tem a intenção de matar), vem diminuindo, o mês registrado com menor índice de homicídios dolosos foi em janeiro de 2015 e o maior índice foi em junho de 1995.\n",
        "\n",
        "Com uma análise mais detalhada é possível afirmar se realmente isso se sustenta. É preciso levar em consideração como as informações foram inseridas no dataset."
      ]
    },
    {
      "cell_type": "markdown",
      "metadata": {
        "id": "c6CCL-kkMDds"
      },
      "source": [
        "##**Análise Exploratória dos Dados**"
      ]
    },
    {
      "cell_type": "markdown",
      "metadata": {
        "id": "pcqg_jQW8xG7"
      },
      "source": [
        "###**Crimes contra o Patrimônio**\n",
        "\n",
        "**Visualização da distribuição dos dados utilizando Histogramas**\n",
        "\n",
        "**Roubo de Veículos**\n",
        "Por quase 80 meses o número de roubos de veículos ficou entre 2.000 e 3.000 roubos no período analisado. ;\n",
        "O número de roubos de veículos num período entre 4 e 5 meses ultrapassaram 5.000 roubos no período analisado.\n"
      ]
    },
    {
      "cell_type": "markdown",
      "metadata": {
        "id": "vnEtn5eb8jRq"
      },
      "source": [
        "####**Histogramas das colunas analisadas**##"
      ]
    },
    {
      "cell_type": "code",
      "metadata": {
        "id": "ftqtRdZF4KFw",
        "colab": {
          "base_uri": "https://localhost:8080/",
          "height": 279
        },
        "outputId": "5ad8413b-e544-41fe-9533-51039be40652"
      },
      "source": [
        "plt.hist(df_limpo.roubo_veiculo)\n",
        "plt.ylabel('Total de Meses')\n",
        "plt.xlabel('Número de Roubo de veículos');\n",
        "plt.grid(zorder=0)"
      ],
      "execution_count": null,
      "outputs": [
        {
          "output_type": "display_data",
          "data": {
            "image/png": "[encoded data removed]",
            "text/plain": [
              "<Figure size 432x288 with 1 Axes>"
            ]
          },
          "metadata": {
            "tags": [],
            "needs_background": "light"
          }
        }
      ]
    },
    {
      "cell_type": "markdown",
      "metadata": {
        "id": "r75lP6f8E3xV"
      },
      "source": [
        "**Furto de Veículos**\n",
        "Por quase 50 meses o número de furto de veículos ficou entre 1300 e 1.900 furtos no período analisado. ;\n",
        "O número de furtosde veículos num período entre 2 e 3 meses ultrapassaram 2.600 roubos no período analisado."
      ]
    },
    {
      "cell_type": "code",
      "metadata": {
        "id": "fSmuKcjP5o5F",
        "colab": {
          "base_uri": "https://localhost:8080/",
          "height": 279
        },
        "outputId": "fdcbcd54-4136-4af2-e9b3-3d7de336d1d9"
      },
      "source": [
        "plt.hist(df_limpo.furto_veiculos)  # `density=False` would make counts\n",
        "plt.ylabel('Total de Meses')\n",
        "plt.xlabel('Número de Roubo de veículos');\n",
        "plt.grid(zorder=0)"
      ],
      "execution_count": null,
      "outputs": [
        {
          "output_type": "display_data",
          "data": {
            "image/png": "[encoded data removed]",
            "text/plain": [
              "<Figure size 432x288 with 1 Axes>"
            ]
          },
          "metadata": {
            "tags": [],
            "needs_background": "light"
          }
        }
      ]
    },
    {
      "cell_type": "markdown",
      "metadata": {
        "id": "lNSny3RiIsKv"
      },
      "source": [
        "**Recuperação de Veículos**\n",
        "Por quase 32 meses o número de recuperação de veículos ficou entre 400 e 2.000 recuperações no período analisado;\n",
        "\n",
        "O número de recuperação de veículos ficou entre 400 e 1.000 por mais de 60 meses."
      ]
    },
    {
      "cell_type": "code",
      "metadata": {
        "id": "Ihf0tbRI5wMs",
        "colab": {
          "base_uri": "https://localhost:8080/",
          "height": 279
        },
        "outputId": "29ed664e-58ea-4828-cdfa-422c87c6de76"
      },
      "source": [
        "plt.hist(df_limpo.recuperacao_veiculos)  # `density=False` would make counts\n",
        "plt.ylabel('Total de Meses')\n",
        "plt.xlabel('Número de Roubo de veículos');\n",
        "plt.grid(zorder=0)"
      ],
      "execution_count": null,
      "outputs": [
        {
          "output_type": "display_data",
          "data": {
            "image/png": "[encoded data removed]",
            "text/plain": [
              "<Figure size 432x288 with 1 Axes>"
            ]
          },
          "metadata": {
            "tags": [],
            "needs_background": "light"
          }
        }
      ]
    },
    {
      "cell_type": "markdown",
      "metadata": {
        "id": "LCsiXvM3BcsO"
      },
      "source": [
        "####**Boxplot dos Dados**##"
      ]
    },
    {
      "cell_type": "markdown",
      "metadata": {
        "id": "5AYuDhpDJxpE"
      },
      "source": [
        "É possível observar que o conjunto de dados roubo de veículos encontra-se bastante disperso, com muitos [outliers](https://medium.com/ensina-ai/outlier-o-ponto-fora-da-curva-1f28f3d9c23). Enquanto o conjunto de dados Furto de Veículos é o que se encontra menos disperso. Uma análise mais detalhada dos dados será necessária para estudar os outliers, buscando descobrir se os valores são erros ou eventos reais que ocorreram nos dados.\n",
        "\n",
        "Os três gráficos de boxplot mostram exatamente o comportamento dos dados observados nos histogramas. Para uma introdução a Análise Exploratóri de Dados, recomendo acessar o artigo [Introdução a Análise Exploratória de Dados (AED) utilizando a biblioteca Pandas do Python](https://colab.research.google.com/drive/1ZK1zqBeBeFJ315yizvAt5UQyc7TNI1yy?usp=sharing#scrollTo=sBcBktKxHwZJ)."
      ]
    },
    {
      "cell_type": "code",
      "metadata": {
        "id": "gu3Uc-H06YnG",
        "colab": {
          "base_uri": "https://localhost:8080/",
          "height": 606
        },
        "outputId": "c849c0fa-efed-452c-8e20-d4161ef0eef1"
      },
      "source": [
        "#dados por tipo de crime\n",
        "vrouboVeiculo=df_limpo.roubo_veiculo\n",
        "vfurtoVeiculo=df_limpo.furto_veiculos\n",
        "vrecuperaVeiculo=df_limpo.recuperacao_veiculos\n",
        "plt.figure(figsize=(15, 10))\n",
        "plt.xlabel('No. de ocorrências')\n",
        "box_plot_data=[vrouboVeiculo,vfurtoVeiculo,vrecuperaVeiculo]\n",
        "box=plt.boxplot(box_plot_data,vert=0,patch_artist=True,\n",
        "               labels=['Roubo de Veículos','Furto de Veículos','Recuperação de Veiculos'],\n",
        "               )\n",
        "colors = ['cyan', 'lightblue', 'lightgreen']\n",
        "for patch, color in zip(box['boxes'], colors):\n",
        "    patch.set_facecolor(color)"
      ],
      "execution_count": null,
      "outputs": [
        {
          "output_type": "display_data",
          "data": {
            "image/png": "[encoded data removed]",
            "text/plain": [
              "<Figure size 1080x720 with 1 Axes>"
            ]
          },
          "metadata": {
            "tags": [],
            "needs_background": "light"
          }
        }
      ]
    },
    {
      "cell_type": "markdown",
      "metadata": {
        "id": "e2pRm1BqMg2j"
      },
      "source": [
        "###**Crimes contra a Vida**\n",
        "\n",
        "**Visualização da distribuição dos dados utilizando Histogramas**\n",
        "\n",
        "**Homicídio Doloso**\n",
        "\n",
        "O maior número de homicídios dolosos duraram quase 70 meses;\n",
        "Os maiores números ultrapassaram a casa dos 800 casos durante um período entre 3 e 5 meses."
      ]
    },
    {
      "cell_type": "markdown",
      "metadata": {
        "id": "2IsUSJXwQgBb"
      },
      "source": [
        "####**Histograma**"
      ]
    },
    {
      "cell_type": "code",
      "metadata": {
        "id": "KDjwQ9inO2hJ",
        "colab": {
          "base_uri": "https://localhost:8080/",
          "height": 279
        },
        "outputId": "d0d52f6c-dbc2-48a9-f481-4dda2078240c"
      },
      "source": [
        "plt.hist(df_limpo.hom_doloso)  # `density=False` would make counts\n",
        "plt.ylabel('Total de Meses')\n",
        "plt.xlabel('Homicídios Dolosos');\n",
        "plt.grid(zorder=0)"
      ],
      "execution_count": null,
      "outputs": [
        {
          "output_type": "display_data",
          "data": {
            "image/png": "[encoded data removed]",
            "text/plain": [
              "<Figure size 432x288 with 1 Axes>"
            ]
          },
          "metadata": {
            "tags": [],
            "needs_background": "light"
          }
        }
      ]
    },
    {
      "cell_type": "markdown",
      "metadata": {
        "id": "_uCMPnBsPGFS"
      },
      "source": [
        "####**Boxplot dos Dados**##\n",
        "\n",
        "O conjunto de dados homicídios dolosos possuem poucos outliers, cabe analisar os outliers e verificar com mais detalhes essas ocorrências."
      ]
    },
    {
      "cell_type": "code",
      "metadata": {
        "id": "iuA0M9HUQzrz",
        "colab": {
          "base_uri": "https://localhost:8080/",
          "height": 606
        },
        "outputId": "0c209cd9-f8fa-49af-d747-001436e9a839"
      },
      "source": [
        "#dados por tipo de crime\n",
        "df_limpo.hom_doloso\n",
        "plt.figure(figsize=(15, 10))\n",
        "plt.xlabel('No. de ocorrências')\n",
        "box_plot_data=[df_limpo.hom_doloso]\n",
        "box=plt.boxplot(box_plot_data,vert=0,patch_artist=True,\n",
        "               labels=['Homicídio Dolosos'],\n",
        "               )\n",
        "colors = ['lightgreen']\n",
        "for patch, color in zip(box['boxes'], colors):\n",
        "    patch.set_facecolor(color)"
      ],
      "execution_count": null,
      "outputs": [
        {
          "output_type": "display_data",
          "data": {
            "image/png": "[encoded data removed]",
            "text/plain": [
              "<Figure size 1080x720 with 1 Axes>"
            ]
          },
          "metadata": {
            "tags": [],
            "needs_background": "light"
          }
        }
      ]
    },
    {
      "cell_type": "markdown",
      "metadata": {
        "id": "7WK0NBQZASKC"
      },
      "source": [
        "##**Visualização de Dados**\n",
        "\n",
        "Nesta seção iremos usar alguns gráficos para comparar roubos, furtos e recuperação de veículos ao longo dos anos;\n",
        "Como cada um dos tipos de crimes se comportam ao longo dos anos (contra o patrimônio e contra a vida);\n",
        "\n",
        "\n",
        "\n"
      ]
    },
    {
      "cell_type": "markdown",
      "metadata": {
        "id": "WybmuGQwSR4p"
      },
      "source": [
        "###**Resumo dos dados por Ano**\n",
        "\n",
        "Criando as listas para armazenar por ano."
      ]
    },
    {
      "cell_type": "code",
      "metadata": {
        "id": "eBdkXdUf-20p",
        "colab": {
          "base_uri": "https://localhost:8080/",
          "height": 122
        },
        "outputId": "7f935b80-3275-436d-cde9-1541f404eb62"
      },
      "source": [
        "# criando as listas para receber o ano e a somatória\n",
        "lista_ano = []\n",
        "lista_soma_roubo = []\n",
        "lista_soma_furto = []\n",
        "lista_soma_recuperacao = []\n",
        "lista_soma_homicidio = []\n",
        "\n",
        "# criando um validador\n",
        "num = 0\n",
        "# lendo a coluna vano separando o ano realizando a somatória e carregando a lista\n",
        "for c in df_limpo.vano:\n",
        "  if c > num:\n",
        "    num = c\n",
        "    lista_ano.append(c)\n",
        "    lista_soma_roubo.append(df_limpo.roubo_veiculo[df_limpo.vano == c].sum())\n",
        "    lista_soma_furto.append(df_limpo.furto_veiculos[df_limpo.vano == c].sum())\n",
        "    lista_soma_recuperacao.append(df_limpo.recuperacao_veiculos[df_limpo.vano == c].sum())\n",
        "    lista_soma_homicidio.append(df_limpo.hom_doloso[df_limpo.vano == c].sum())\n",
        "# visualizando os dados das listas\n",
        "print(lista_ano)\n",
        "print(lista_soma_roubo)\n",
        "print(lista_soma_furto)\n",
        "print(lista_soma_recuperacao)\n",
        "print(lista_soma_homicidio)\n"
      ],
      "execution_count": null,
      "outputs": [
        {
          "output_type": "stream",
          "text": [
            "[1991, 1992, 1993, 1994, 1995, 1996, 1997, 1998, 1999, 2000, 2001, 2002, 2003, 2004, 2005, 2006, 2007, 2008, 2009, 2010, 2011, 2012, 2013, 2014, 2015, 2016, 2017, 2018, 2019]\n",
            "[16452, 24502, 24790, 27470, 23676, 18367, 19576, 21519, 29666, 27728, 28099, 34432, 33531, 32408, 32690, 34324, 31490, 27847, 25036, 20052, 18773, 22065, 28002, 32651, 31035, 41696, 54366, 52097, 28012]\n",
            "[23979, 27619, 26897, 26231, 21928, 20126, 21834, 21309, 20523, 17760, 18197, 20720, 19942, 19449, 21322, 22637, 21668, 21628, 20342, 18752, 15593, 16263, 17668, 17683, 16944, 16759, 15708, 15794, 10812]\n",
            "[9890, 11246, 11619, 16030, 17622, 11151, 10630, 12161, 15811, 21916, 23774, 30945, 29947, 26522, 26332, 26073, 24452, 21060, 19913, 16568, 16142, 17446, 21355, 25227, 23663, 28690, 37630, 36448, 19387]\n",
            "[7518, 7635, 7720, 8408, 8438, 7259, 6923, 5726, 5888, 6287, 6163, 6885, 6624, 6438, 6620, 6323, 6133, 5717, 5793, 4767, 4279, 4081, 4745, 4942, 4200, 5042, 5346, 4950, 2717]\n"
          ],
          "name": "stdout"
        }
      ]
    },
    {
      "cell_type": "markdown",
      "metadata": {
        "id": "WEjdl9x0T0vV"
      },
      "source": [
        "Criando um dicionário para receber os dados das listas e o dataframe resumido"
      ]
    },
    {
      "cell_type": "code",
      "metadata": {
        "id": "yspiTuwB-8T4",
        "colab": {
          "base_uri": "https://localhost:8080/",
          "height": 204
        },
        "outputId": "923ac5ea-ef73-42a9-817c-ddfaa291e44f"
      },
      "source": [
        "# criando um dicionário para receber os dados das listas\n",
        "dic_som_ano = {}\n",
        "# carregando os dados no dicionário\n",
        "dic_som_ano['ano'] = lista_ano\n",
        "dic_som_ano['roubo_veiculo'] = lista_soma_roubo\n",
        "dic_som_ano['furto_veiculos'] = lista_soma_furto\n",
        "dic_som_ano['recuperacao_veiculos'] = lista_soma_recuperacao\n",
        "dic_som_ano['hom_doloso'] = lista_soma_homicidio\n",
        "\n",
        "\n",
        "# criando o DataFrame com o ano e a somatória, carregando os dados do dicionário\n",
        "df_resumo_ano = pd.DataFrame(dic_som_ano)\n",
        "# visualizando as 5 primeiras linhas do DataFrame\n",
        "df_resumo_ano.head()"
      ],
      "execution_count": null,
      "outputs": [
        {
          "output_type": "execute_result",
          "data": {
            "text/html": [
              "<div>\n",
              "<style scoped>\n",
              "    .dataframe tbody tr th:only-of-type {\n",
              "        vertical-align: middle;\n",
              "    }\n",
              "\n",
              "    .dataframe tbody tr th {\n",
              "        vertical-align: top;\n",
              "    }\n",
              "\n",
              "    .dataframe thead th {\n",
              "        text-align: right;\n",
              "    }\n",
              "</style>\n",
              "<table border=\"1\" class=\"dataframe\">\n",
              "  <thead>\n",
              "    <tr style=\"text-align: right;\">\n",
              "      <th></th>\n",
              "      <th>ano</th>\n",
              "      <th>roubo_veiculo</th>\n",
              "      <th>furto_veiculos</th>\n",
              "      <th>recuperacao_veiculos</th>\n",
              "      <th>hom_doloso</th>\n",
              "    </tr>\n",
              "  </thead>\n",
              "  <tbody>\n",
              "    <tr>\n",
              "      <th>0</th>\n",
              "      <td>1991</td>\n",
              "      <td>16452</td>\n",
              "      <td>23979</td>\n",
              "      <td>9890</td>\n",
              "      <td>7518</td>\n",
              "    </tr>\n",
              "    <tr>\n",
              "      <th>1</th>\n",
              "      <td>1992</td>\n",
              "      <td>24502</td>\n",
              "      <td>27619</td>\n",
              "      <td>11246</td>\n",
              "      <td>7635</td>\n",
              "    </tr>\n",
              "    <tr>\n",
              "      <th>2</th>\n",
              "      <td>1993</td>\n",
              "      <td>24790</td>\n",
              "      <td>26897</td>\n",
              "      <td>11619</td>\n",
              "      <td>7720</td>\n",
              "    </tr>\n",
              "    <tr>\n",
              "      <th>3</th>\n",
              "      <td>1994</td>\n",
              "      <td>27470</td>\n",
              "      <td>26231</td>\n",
              "      <td>16030</td>\n",
              "      <td>8408</td>\n",
              "    </tr>\n",
              "    <tr>\n",
              "      <th>4</th>\n",
              "      <td>1995</td>\n",
              "      <td>23676</td>\n",
              "      <td>21928</td>\n",
              "      <td>17622</td>\n",
              "      <td>8438</td>\n",
              "    </tr>\n",
              "  </tbody>\n",
              "</table>\n",
              "</div>"
            ],
            "text/plain": [
              "    ano  roubo_veiculo  furto_veiculos  recuperacao_veiculos  hom_doloso\n",
              "0  1991          16452           23979                  9890        7518\n",
              "1  1992          24502           27619                 11246        7635\n",
              "2  1993          24790           26897                 11619        7720\n",
              "3  1994          27470           26231                 16030        8408\n",
              "4  1995          23676           21928                 17622        8438"
            ]
          },
          "metadata": {
            "tags": []
          },
          "execution_count": 133
        }
      ]
    },
    {
      "cell_type": "markdown",
      "metadata": {
        "id": "zQrvVZHAT_2z"
      },
      "source": [
        "###**Roubos, furtos e recuperação de veículos ao longo dos anos**"
      ]
    },
    {
      "cell_type": "code",
      "metadata": {
        "id": "08RTGn_xE3MP",
        "colab": {
          "base_uri": "https://localhost:8080/",
          "height": 499
        },
        "outputId": "485eac48-a2be-4936-c1cc-fda073ad11b1"
      },
      "source": [
        "import matplotlib.pyplot as plt\n",
        "plt.figure(figsize=(20,8))\n",
        "plt.grid(b=True, which='major', linestyle='-')\n",
        "x  = dic_som_ano['ano']\n",
        "y1 = dic_som_ano['roubo_veiculo']\n",
        "y2 = dic_som_ano['furto_veiculos']\n",
        "y3 = dic_som_ano['recuperacao_veiculos']\n",
        "\n",
        "plt.plot(x, y1, label=\"Roubo de Veículos\")\n",
        "plt.plot(x, y2, label=\"Furto de Veículos\")\n",
        "plt.plot(x, y3, label=\"Recuperação de Veículos\")\n",
        "\n",
        "plt.plot()\n",
        "\n",
        "#plt.xlabel(\"Ano\")\n",
        "#plt.ylabel(\"y axis\")\n",
        "plt.title(\"Comparação Roubo de Veículos X Furto de Veículos X Recuperação de Veículos\")\n",
        "plt.legend()\n",
        "plt.show()"
      ],
      "execution_count": null,
      "outputs": [
        {
          "output_type": "display_data",
          "data": {
            "image/png": "[encoded data removed]",
            "text/plain": [
              "<Figure size 1440x576 with 1 Axes>"
            ]
          },
          "metadata": {
            "tags": [],
            "needs_background": "light"
          }
        }
      ]
    },
    {
      "cell_type": "markdown",
      "metadata": {
        "id": "mLQHiomkUeDD"
      },
      "source": [
        "###**Roubo de Veículo**\n"
      ]
    },
    {
      "cell_type": "code",
      "metadata": {
        "id": "kCzcO6rS_hBN",
        "colab": {
          "base_uri": "https://localhost:8080/",
          "height": 334
        },
        "outputId": "e15a3925-47dd-45e9-f478-b3a27fff08d4"
      },
      "source": [
        "#roubo_veiculo\n",
        "fig, (axis1) = plt.subplots(figsize=(20,5))\n",
        "sns.barplot(x='ano', y='roubo_veiculo', data=df_resumo_ano, ax=axis1);"
      ],
      "execution_count": null,
      "outputs": [
        {
          "output_type": "display_data",
          "data": {
            "image/png": "[encoded data removed]",
            "text/plain": [
              "<Figure size 1440x360 with 1 Axes>"
            ]
          },
          "metadata": {
            "tags": [],
            "needs_background": "light"
          }
        }
      ]
    },
    {
      "cell_type": "markdown",
      "metadata": {
        "id": "Lcz_Of_FUo8u"
      },
      "source": [
        "###**Furto de Veículo**\n"
      ]
    },
    {
      "cell_type": "code",
      "metadata": {
        "id": "ZMoBc7I1I0zH",
        "colab": {
          "base_uri": "https://localhost:8080/",
          "height": 334
        },
        "outputId": "6f9ea403-96cd-4a41-933e-9bd469a750b9"
      },
      "source": [
        "#furto_veiculos\n",
        "fig, (axis1) = plt.subplots(figsize=(20,5))\n",
        "sns.barplot(x='ano', y='furto_veiculos', data=df_resumo_ano, ax=axis1);"
      ],
      "execution_count": null,
      "outputs": [
        {
          "output_type": "display_data",
          "data": {
            "image/png": "[encoded data removed]",
            "text/plain": [
              "<Figure size 1440x360 with 1 Axes>"
            ]
          },
          "metadata": {
            "tags": [],
            "needs_background": "light"
          }
        }
      ]
    },
    {
      "cell_type": "markdown",
      "metadata": {
        "id": "YNjaxrCqUsNM"
      },
      "source": [
        "###**Recuperação de Veículos**"
      ]
    },
    {
      "cell_type": "code",
      "metadata": {
        "id": "_knXuSB7I2jv",
        "colab": {
          "base_uri": "https://localhost:8080/",
          "height": 334
        },
        "outputId": "bf3ba334-37f8-4f2e-d2e4-fc3ddb246f1a"
      },
      "source": [
        "#recuperacao_veiculos\n",
        "fig, (axis1) = plt.subplots(figsize=(20,5))\n",
        "sns.barplot(x='ano', y='recuperacao_veiculos', data=df_resumo_ano, ax=axis1);"
      ],
      "execution_count": null,
      "outputs": [
        {
          "output_type": "display_data",
          "data": {
            "image/png": "[encoded data removed]",
            "text/plain": [
              "<Figure size 1440x360 with 1 Axes>"
            ]
          },
          "metadata": {
            "tags": [],
            "needs_background": "light"
          }
        }
      ]
    },
    {
      "cell_type": "markdown",
      "metadata": {
        "id": "gjc5bo0vU1yG"
      },
      "source": [
        "###**Homicídio Doloso**"
      ]
    },
    {
      "cell_type": "code",
      "metadata": {
        "id": "ZPyuu7enU4Em",
        "colab": {
          "base_uri": "https://localhost:8080/",
          "height": 334
        },
        "outputId": "52a29e3f-8101-4bb9-f8fd-b5fe09f2a82e"
      },
      "source": [
        "#Homicídio Doloso\n",
        "fig, (axis1) = plt.subplots(figsize=(20,5))\n",
        "sns.barplot(x='ano', y='hom_doloso', data=df_resumo_ano, ax=axis1);"
      ],
      "execution_count": null,
      "outputs": [
        {
          "output_type": "display_data",
          "data": {
            "image/png": "[encoded data removed]",
            "text/plain": [
              "<Figure size 1440x360 with 1 Axes>"
            ]
          },
          "metadata": {
            "tags": [],
            "needs_background": "light"
          }
        }
      ]
    },
    {
      "cell_type": "markdown",
      "metadata": {
        "id": "5sfffa9LVoxs"
      },
      "source": [
        "##**Conclusões**\n",
        "\n",
        "Com os gráficos analisados em relação as dados podemos obsservar:\n",
        "\n",
        "* Observou-se que roubos e furtos de veículos, teve um aumento de 2015 a 2017, com uma leve queda em 2018;\n",
        "\n",
        "* Os furtos de veículos vem caindo desde 2013;\n",
        "\n",
        "* A recuperação de veículos aumentou nos anos de 2015 a 2017, com uma leve queda em 2018;\n",
        "\n",
        "* O número de homicídios dolosos vem caindo, começou a subir em 2012 e se mantém relativamente constante até 2018.\n",
        "\n"
      ]
    }
  ]
}