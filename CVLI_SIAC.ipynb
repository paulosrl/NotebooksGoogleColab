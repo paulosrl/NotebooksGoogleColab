{
  "nbformat": 4,
  "nbformat_minor": 0,
  "metadata": {
    "colab": {
      "provenance": [],
      "include_colab_link": true
    },
    "kernelspec": {
      "name": "python3",
      "display_name": "Python 3"
    }
  },
  "cells": [
    {
      "cell_type": "markdown",
      "metadata": {
        "id": "view-in-github",
        "colab_type": "text"
      },
      "source": [
        "<a href=\"https://colab.research.google.com/github/paulosrl/NotebooksGoogleColab/blob/main/CVLI_SIAC.ipynb\" target=\"_parent\"><img src=\"https://colab.research.google.com/assets/colab-badge.svg\" alt=\"Open In Colab\"/></a>"
      ]
    },
    {
      "cell_type": "markdown",
      "metadata": {
        "id": "0zxQHhIUDF_2"
      },
      "source": [
        "# CRIMES VIOLENTOS LETAIS E INTENCIONAIS – CVLI\n",
        "# ANÁLISE DA HORA DO FATO DOS CRIMES CVLI\n",
        "# 420 - Homicídio\n",
        "# 472 - Latrocínio\n",
        "# 477 - Lesão corporal seguida de morte\n"
      ]
    },
    {
      "cell_type": "code",
      "metadata": {
        "id": "Vhp2wMPgJ6zX"
      },
      "source": [
        "# importar os pacotes necessarios\n",
        "import pandas as pd\n",
        "import matplotlib.pyplot as plt\n",
        "import seaborn as sns # bibliotecas para apresentação visual\n",
        "import plotly.express  as  px\n",
        "import plotly.io as pio\n",
        "#plt.style.use('dark_background')\n",
        "\n",
        "#configuração da biblioteca seaborn para os gráficos\n",
        "sns.set(rc={'figure.figsize':(10, 6)}) # tamanho da área de plotagem\n",
        "#sns.set_context(\"talk\") # fontes maiores na visualização\n",
        "\n",
        "# importar o arquivo listings.csv para um DataFrame\n",
        "df = pd.read_csv(\"https://raw.githubusercontent.com/paulosrl/datasets/master/tipoCrimeCVLIHoraMunic.csv\")"
      ],
      "execution_count": null,
      "outputs": []
    },
    {
      "cell_type": "code",
      "metadata": {
        "id": "2iS_dae7YQtO",
        "colab": {
          "base_uri": "https://localhost:8080/",
          "height": 419
        },
        "outputId": "193141b0-c0ec-4446-9776-3a0a1d5c6858"
      },
      "source": [
        "# dataset resumo\n",
        "df"
      ],
      "execution_count": null,
      "outputs": [
        {
          "output_type": "execute_result",
          "data": {
            "text/html": [
              "<div>\n",
              "<style scoped>\n",
              "    .dataframe tbody tr th:only-of-type {\n",
              "        vertical-align: middle;\n",
              "    }\n",
              "\n",
              "    .dataframe tbody tr th {\n",
              "        vertical-align: top;\n",
              "    }\n",
              "\n",
              "    .dataframe thead th {\n",
              "        text-align: right;\n",
              "    }\n",
              "</style>\n",
              "<table border=\"1\" class=\"dataframe\">\n",
              "  <thead>\n",
              "    <tr style=\"text-align: right;\">\n",
              "      <th></th>\n",
              "      <th>tipoCrime</th>\n",
              "      <th>horaFato</th>\n",
              "      <th>municipio</th>\n",
              "    </tr>\n",
              "  </thead>\n",
              "  <tbody>\n",
              "    <tr>\n",
              "      <th>0</th>\n",
              "      <td>420</td>\n",
              "      <td>18</td>\n",
              "      <td>45</td>\n",
              "    </tr>\n",
              "    <tr>\n",
              "      <th>1</th>\n",
              "      <td>420</td>\n",
              "      <td>19</td>\n",
              "      <td>19</td>\n",
              "    </tr>\n",
              "    <tr>\n",
              "      <th>2</th>\n",
              "      <td>420</td>\n",
              "      <td>18</td>\n",
              "      <td>19</td>\n",
              "    </tr>\n",
              "    <tr>\n",
              "      <th>3</th>\n",
              "      <td>420</td>\n",
              "      <td>2</td>\n",
              "      <td>133</td>\n",
              "    </tr>\n",
              "    <tr>\n",
              "      <th>4</th>\n",
              "      <td>420</td>\n",
              "      <td>0</td>\n",
              "      <td>116</td>\n",
              "    </tr>\n",
              "    <tr>\n",
              "      <th>...</th>\n",
              "      <td>...</td>\n",
              "      <td>...</td>\n",
              "      <td>...</td>\n",
              "    </tr>\n",
              "    <tr>\n",
              "      <th>8002</th>\n",
              "      <td>477</td>\n",
              "      <td>8</td>\n",
              "      <td>73</td>\n",
              "    </tr>\n",
              "    <tr>\n",
              "      <th>8003</th>\n",
              "      <td>477</td>\n",
              "      <td>16</td>\n",
              "      <td>95</td>\n",
              "    </tr>\n",
              "    <tr>\n",
              "      <th>8004</th>\n",
              "      <td>477</td>\n",
              "      <td>19</td>\n",
              "      <td>131</td>\n",
              "    </tr>\n",
              "    <tr>\n",
              "      <th>8005</th>\n",
              "      <td>477</td>\n",
              "      <td>23</td>\n",
              "      <td>133</td>\n",
              "    </tr>\n",
              "    <tr>\n",
              "      <th>8006</th>\n",
              "      <td>477</td>\n",
              "      <td>17</td>\n",
              "      <td>143</td>\n",
              "    </tr>\n",
              "  </tbody>\n",
              "</table>\n",
              "<p>8007 rows × 3 columns</p>\n",
              "</div>"
            ],
            "text/plain": [
              "      tipoCrime  horaFato  municipio\n",
              "0           420        18         45\n",
              "1           420        19         19\n",
              "2           420        18         19\n",
              "3           420         2        133\n",
              "4           420         0        116\n",
              "...         ...       ...        ...\n",
              "8002        477         8         73\n",
              "8003        477        16         95\n",
              "8004        477        19        131\n",
              "8005        477        23        133\n",
              "8006        477        17        143\n",
              "\n",
              "[8007 rows x 3 columns]"
            ]
          },
          "metadata": {},
          "execution_count": 5
        }
      ]
    },
    {
      "cell_type": "code",
      "metadata": {
        "colab": {
          "base_uri": "https://localhost:8080/",
          "height": 173
        },
        "id": "Y1OHM0nchnpc",
        "outputId": "52f88d75-dbe7-485f-a712-b14db593576a"
      },
      "source": [
        "df.groupby(by=\"tipoCrime\").count()\n",
        "# 420 - Homicídio\n",
        "# 472 - Latrocínio\n",
        "# 477 - Lesão corporal seguida de morte"
      ],
      "execution_count": null,
      "outputs": [
        {
          "output_type": "execute_result",
          "data": {
            "text/html": [
              "<div>\n",
              "<style scoped>\n",
              "    .dataframe tbody tr th:only-of-type {\n",
              "        vertical-align: middle;\n",
              "    }\n",
              "\n",
              "    .dataframe tbody tr th {\n",
              "        vertical-align: top;\n",
              "    }\n",
              "\n",
              "    .dataframe thead th {\n",
              "        text-align: right;\n",
              "    }\n",
              "</style>\n",
              "<table border=\"1\" class=\"dataframe\">\n",
              "  <thead>\n",
              "    <tr style=\"text-align: right;\">\n",
              "      <th></th>\n",
              "      <th>horaFato</th>\n",
              "      <th>municipio</th>\n",
              "    </tr>\n",
              "    <tr>\n",
              "      <th>tipoCrime</th>\n",
              "      <th></th>\n",
              "      <th></th>\n",
              "    </tr>\n",
              "  </thead>\n",
              "  <tbody>\n",
              "    <tr>\n",
              "      <th>420</th>\n",
              "      <td>7473</td>\n",
              "      <td>7473</td>\n",
              "    </tr>\n",
              "    <tr>\n",
              "      <th>472</th>\n",
              "      <td>446</td>\n",
              "      <td>446</td>\n",
              "    </tr>\n",
              "    <tr>\n",
              "      <th>477</th>\n",
              "      <td>88</td>\n",
              "      <td>88</td>\n",
              "    </tr>\n",
              "  </tbody>\n",
              "</table>\n",
              "</div>"
            ],
            "text/plain": [
              "           horaFato  municipio\n",
              "tipoCrime                     \n",
              "420            7473       7473\n",
              "472             446        446\n",
              "477              88         88"
            ]
          },
          "metadata": {},
          "execution_count": 6
        }
      ]
    },
    {
      "cell_type": "markdown",
      "metadata": {
        "id": "iHXvvHIxaoNc"
      },
      "source": [
        "# **Q3. Como estão distribuídas as colunas numéricas do dataset?**"
      ]
    },
    {
      "cell_type": "code",
      "metadata": {
        "id": "q2wWSfeRbmBo",
        "colab": {
          "base_uri": "https://localhost:8080/",
          "height": 882
        },
        "outputId": "cbd57874-649d-42c4-9a28-a5858bb16d4e"
      },
      "source": [
        "df.hist(bins=7, figsize=(25,15));"
      ],
      "execution_count": null,
      "outputs": [
        {
          "output_type": "display_data",
          "data": {
            "image/png": "[encoded data removed]",
            "text/plain": [
              "<Figure size 1800x1080 with 4 Axes>"
            ]
          },
          "metadata": {}
        }
      ]
    },
    {
      "cell_type": "markdown",
      "metadata": {
        "id": "IXn2oIo5qx-w"
      },
      "source": [
        "# **Q4. Qual o resumo estatístico das colunas numéricas ?**"
      ]
    },
    {
      "cell_type": "code",
      "metadata": {
        "id": "x2ayzBajqxyd",
        "colab": {
          "base_uri": "https://localhost:8080/",
          "height": 297
        },
        "outputId": "070bf047-9682-4002-9562-2b7e0e1106e7"
      },
      "source": [
        "# ver o resumo estatístico das colunas numéricas\n",
        "df.describe()"
      ],
      "execution_count": null,
      "outputs": [
        {
          "output_type": "execute_result",
          "data": {
            "text/html": [
              "<div>\n",
              "<style scoped>\n",
              "    .dataframe tbody tr th:only-of-type {\n",
              "        vertical-align: middle;\n",
              "    }\n",
              "\n",
              "    .dataframe tbody tr th {\n",
              "        vertical-align: top;\n",
              "    }\n",
              "\n",
              "    .dataframe thead th {\n",
              "        text-align: right;\n",
              "    }\n",
              "</style>\n",
              "<table border=\"1\" class=\"dataframe\">\n",
              "  <thead>\n",
              "    <tr style=\"text-align: right;\">\n",
              "      <th></th>\n",
              "      <th>tipoCrime</th>\n",
              "      <th>horaFato</th>\n",
              "      <th>municipio</th>\n",
              "    </tr>\n",
              "  </thead>\n",
              "  <tbody>\n",
              "    <tr>\n",
              "      <th>count</th>\n",
              "      <td>8007.000000</td>\n",
              "      <td>8007.000000</td>\n",
              "      <td>8007.000000</td>\n",
              "    </tr>\n",
              "    <tr>\n",
              "      <th>mean</th>\n",
              "      <td>423.522917</td>\n",
              "      <td>13.217934</td>\n",
              "      <td>52.682528</td>\n",
              "    </tr>\n",
              "    <tr>\n",
              "      <th>std</th>\n",
              "      <td>13.188432</td>\n",
              "      <td>7.409616</td>\n",
              "      <td>43.182437</td>\n",
              "    </tr>\n",
              "    <tr>\n",
              "      <th>min</th>\n",
              "      <td>420.000000</td>\n",
              "      <td>0.000000</td>\n",
              "      <td>1.000000</td>\n",
              "    </tr>\n",
              "    <tr>\n",
              "      <th>25%</th>\n",
              "      <td>420.000000</td>\n",
              "      <td>7.000000</td>\n",
              "      <td>19.000000</td>\n",
              "    </tr>\n",
              "    <tr>\n",
              "      <th>50%</th>\n",
              "      <td>420.000000</td>\n",
              "      <td>15.000000</td>\n",
              "      <td>35.000000</td>\n",
              "    </tr>\n",
              "    <tr>\n",
              "      <th>75%</th>\n",
              "      <td>420.000000</td>\n",
              "      <td>20.000000</td>\n",
              "      <td>86.000000</td>\n",
              "    </tr>\n",
              "    <tr>\n",
              "      <th>max</th>\n",
              "      <td>477.000000</td>\n",
              "      <td>23.000000</td>\n",
              "      <td>148.000000</td>\n",
              "    </tr>\n",
              "  </tbody>\n",
              "</table>\n",
              "</div>"
            ],
            "text/plain": [
              "         tipoCrime     horaFato    municipio\n",
              "count  8007.000000  8007.000000  8007.000000\n",
              "mean    423.522917    13.217934    52.682528\n",
              "std      13.188432     7.409616    43.182437\n",
              "min     420.000000     0.000000     1.000000\n",
              "25%     420.000000     7.000000    19.000000\n",
              "50%     420.000000    15.000000    35.000000\n",
              "75%     420.000000    20.000000    86.000000\n",
              "max     477.000000    23.000000   148.000000"
            ]
          },
          "metadata": {},
          "execution_count": 8
        }
      ]
    },
    {
      "cell_type": "code",
      "metadata": {
        "colab": {
          "base_uri": "https://localhost:8080/",
          "height": 517
        },
        "id": "zSFHS3KYnnFk",
        "outputId": "871926c2-0ea5-439d-85f7-336cdafc6c6f"
      },
      "source": [
        "# realizando uma análise através do método Boxplot\n",
        "fig = px.box(df,y=\"horaFato\",title=\"Distribuição de crimes CVLI por hora do fato\",width=400,height=500)\n",
        "fig.show()"
      ],
      "execution_count": null,
      "outputs": [
        {
          "output_type": "display_data",
          "data": {
            "text/html": [
              "<html>\n",
              "<head><meta charset=\"utf-8\" /></head>\n",
              "<body>\n",
              "    <div>\n",
              "            <script src=\"https://cdnjs.cloudflare.com/ajax/libs/mathjax/2.7.5/MathJax.js?config=TeX-AMS-MML_SVG\"></script><script type=\"text/javascript\">if (window.MathJax) {MathJax.Hub.Config({SVG: {font: \"STIX-Web\"}});}</script>\n",
              "                <script type=\"text/javascript\">window.PlotlyConfig = {MathJaxConfig: 'local'};</script>\n",
              "        <script src=\"https://cdn.plot.ly/plotly-latest.min.js\"></script>    \n",
              "            <div id=\"65e59418-3765-4779-b2bc-386c874f341d\" class=\"plotly-graph-div\" style=\"height:500px; width:400px;\"></div>\n",
              "            <script type=\"text/javascript\">\n",
              "                \n",
              "                    window.PLOTLYENV=window.PLOTLYENV || {};\n",
              "                    \n",
              "                if (document.getElementById(\"65e59418-3765-4779-b2bc-386c874f341d\")) {\n",
              "                    Plotly.newPlot(\n",
              "                        '65e59418-3765-4779-b2bc-386c874f341d',\n",
              "                        [{\"alignmentgroup\": \"True\", \"hoverlabel\": {\"namelength\": 0}, \"hovertemplate\": \"horaFato=%{y}\", \"legendgroup\": \"\", \"marker\": {\"color\": \"#636efa\"}, \"name\": \"\", \"notched\": false, \"offsetgroup\": \"\", \"orientation\": \"v\", \"showlegend\": false, \"type\": \"box\", \"x0\": \" \", \"xaxis\": \"x\", \"y\": [18, 19, 18, 2, 0, 21, 20, 20, 22, 0, 0, 14, 1, 3, 4, 9, 13, 19, 18, 19, 19, 19, 19, 20, 21, 21, 21, 20, 21, 21, 22, 22, 22, 23, 1, 5, 6, 11, 12, 12, 15, 19, 21, 21, 20, 21, 20, 20, 22, 23, 0, 1, 1, 0, 1, 1, 0, 1, 0, 0, 2, 3, 4, 5, 6, 7, 6, 8, 8, 11, 10, 11, 11, 13, 13, 13, 15, 14, 14, 16, 16, 19, 19, 19, 18, 19, 19, 19, 19, 19, 18, 19, 19, 20, 20, 20, 20, 20, 20, 22, 22, 23, 23, 22, 22, 23, 22, 17, 20, 1, 12, 18, 19, 21, 21, 22, 17, 20, 21, 21, 2, 18, 4, 11, 11, 17, 16, 14, 13, 13, 17, 22, 11, 4, 5, 23, 1, 2, 11, 19, 23, 20, 1, 19, 7, 6, 7, 8, 8, 9, 10, 11, 11, 11, 12, 16, 16, 19, 20, 12, 23, 19, 10, 7, 3, 8, 1, 17, 23, 1, 4, 7, 9, 10, 13, 13, 12, 16, 17, 16, 17, 19, 19, 22, 23, 11, 1, 4, 4, 4, 7, 7, 7, 7, 11, 12, 15, 19, 18, 18, 20, 21, 21, 21, 10, 10, 18, 18, 21, 22, 8, 17, 5, 17, 4, 6, 12, 18, 1, 16, 2, 23, 3, 17, 17, 2, 18, 20, 5, 11, 10, 2, 2, 2, 18, 2, 11, 17, 17, 3, 4, 4, 9, 18, 20, 23, 3, 10, 12, 2, 17, 22, 1, 1, 2, 16, 22, 16, 20, 1, 1, 20, 5, 15, 17, 19, 5, 11, 2, 8, 12, 23, 23, 23, 7, 0, 1, 1, 0, 0, 1, 1, 1, 0, 3, 3, 2, 2, 2, 5, 5, 4, 9, 10, 13, 12, 12, 13, 12, 13, 14, 17, 17, 17, 16, 19, 19, 19, 18, 19, 19, 19, 19, 18, 18, 21, 20, 23, 22, 23, 22, 22, 6, 7, 15, 21, 14, 11, 5, 7, 17, 20, 23, 1, 7, 9, 11, 18, 18, 23, 20, 13, 13, 13, 20, 2, 10, 16, 17, 18, 19, 21, 21, 21, 6, 9, 9, 10, 13, 17, 19, 19, 19, 19, 18, 1, 0, 0, 2, 3, 2, 2, 4, 6, 6, 9, 10, 11, 10, 11, 11, 13, 13, 12, 12, 14, 14, 15, 14, 14, 17, 16, 17, 18, 19, 19, 19, 18, 20, 20, 21, 21, 21, 21, 23, 23, 22, 23, 23, 23, 22, 23, 22, 22, 22, 23, 15, 17, 3, 19, 22, 17, 0, 10, 22, 2, 21, 1, 3, 3, 4, 7, 8, 13, 12, 21, 22, 0, 2, 5, 5, 5, 14, 16, 19, 21, 20, 20, 20, 21, 3, 16, 20, 3, 2, 7, 6, 18, 21, 15, 3, 17, 10, 13, 4, 20, 19, 0, 3, 2, 11, 10, 13, 13, 23, 22, 22, 22, 13, 1, 1, 3, 4, 4, 16, 17, 18, 19, 20, 23, 23, 3, 4, 19, 19, 23, 5, 3, 6, 17, 1, 3, 3, 11, 12, 18, 18, 20, 21, 21, 21, 20, 22, 22, 22, 1, 6, 21, 22, 23, 1, 5, 4, 11, 11, 11, 16, 19, 19, 23, 3, 4, 4, 9, 10, 16, 19, 20, 23, 10, 13, 1, 3, 5, 15, 15, 16, 16, 17, 17, 19, 19, 18, 21, 20, 20, 20, 20, 19, 18, 2, 23, 1, 2, 5, 13, 19, 20, 23, 22, 22, 23, 9, 17, 22, 1, 1, 2, 5, 4, 4, 7, 9, 13, 21, 21, 20, 20, 23, 23, 11, 14, 14, 22, 22, 3, 4, 11, 11, 13, 14, 14, 21, 22, 22, 22, 23, 3, 5, 5, 0, 0, 3, 2, 5, 4, 9, 11, 12, 15, 14, 17, 17, 19, 18, 20, 20, 20, 20, 20, 20, 20, 23, 23, 23, 22, 22, 22, 23, 21, 3, 1, 2, 2, 4, 14, 16, 16, 17, 18, 20, 21, 23, 23, 23, 4, 11, 11, 10, 11, 13, 14, 14, 19, 20, 3, 14, 3, 3, 9, 9, 16, 2, 1, 2, 2, 14, 14, 21, 11, 2, 18, 1, 2, 3, 5, 8, 14, 17, 23, 18, 19, 1, 7, 15, 20, 21, 23, 19, 1, 3, 11, 16, 7, 18, 1, 20, 15, 21, 20, 1, 2, 2, 5, 8, 11, 19, 5, 11, 15, 17, 3, 11, 17, 19, 20, 22, 14, 8, 14, 14, 17, 19, 22, 2, 5, 0, 1, 0, 2, 3, 6, 9, 8, 16, 16, 16, 16, 23, 23, 1, 11, 13, 18, 22, 3, 2, 2, 4, 7, 8, 11, 16, 19, 21, 21, 20, 21, 23, 3, 4, 0, 12, 16, 19, 23, 0, 3, 3, 3, 7, 9, 11, 14, 14, 21, 21, 21, 21, 23, 23, 0, 1, 5, 8, 8, 10, 12, 14, 14, 14, 16, 18, 18, 22, 23, 23, 9, 1, 7, 8, 9, 8, 8, 8, 9, 8, 8, 8, 10, 11, 13, 21, 1, 14, 16, 4, 10, 21, 12, 18, 18, 18, 4, 4, 9, 22, 1, 0, 0, 1, 1, 1, 1, 3, 2, 3, 2, 3, 3, 5, 4, 5, 4, 5, 5, 4, 6, 6, 7, 7, 6, 6, 9, 8, 9, 8, 8, 8, 9, 9, 8, 8, 8, 8, 11, 11, 11, 11, 11, 10, 10, 13, 14, 14, 15, 16, 17, 17, 16, 17, 17, 16, 16, 16, 16, 16, 17, 17, 19, 19, 18, 19, 19, 21, 20, 21, 20, 20, 21, 21, 21, 21, 20, 20, 20, 21, 22, 22, 22, 22, 23, 22, 23, 23, 22, 23, 23, 22, 23, 22, 22, 22, 23, 23, 13, 15, 15, 7, 0, 3, 6, 10, 10, 10, 10, 18, 22, 1, 1, 1, 1, 2, 8, 9, 11, 11, 17, 19, 0, 3, 6, 0, 0, 0, 0, 3, 12, 15, 17, 17, 19, 21, 20, 20, 1, 4, 6, 8, 17, 19, 18, 18, 20, 22, 1, 13, 12, 20, 6, 21, 0, 2, 4, 4, 8, 13, 13, 15, 15, 17, 19, 19, 20, 22, 22, 23, 22, 20, 23, 18, 18, 20, 22, 4, 4, 8, 18, 22, 23, 23, 18, 0, 2, 2, 7, 7, 10, 18, 23, 20, 20, 23, 23, 1, 1, 2, 2, 2, 2, 5, 8, 10, 20, 3, 6, 7, 8, 19, 23, 1, 5, 7, 7, 6, 10, 10, 14, 14, 18, 18, 19, 23, 20, 21, 0, 1, 0, 2, 4, 8, 13, 14, 16, 17, 17, 19, 21, 21, 22, 4, 6, 8, 20, 20, 7, 10, 4, 18, 23, 0, 3, 5, 11, 13, 12, 19, 19, 20, 20, 21, 20, 23, 23, 3, 12, 12, 16, 1, 1, 17, 23, 23, 23, 7, 4, 1, 3, 3, 2, 6, 6, 9, 9, 8, 10, 10, 10, 15, 14, 15, 16, 17, 19, 18, 22, 23, 23, 0, 1, 4, 10, 18, 21, 20, 3, 3, 4, 19, 22, 2, 15, 17, 17, 18, 19, 19, 21, 20, 23, 4, 8, 10, 15, 15, 19, 19, 21, 21, 23, 22, 22, 4, 6, 6, 13, 13, 13, 19, 22, 5, 4, 7, 7, 8, 11, 11, 13, 14, 15, 15, 14, 18, 19, 18, 19, 21, 20, 20, 22, 23, 22, 0, 2, 21, 21, 20, 23, 23, 1, 22, 1, 1, 1, 2, 2, 2, 4, 4, 4, 9, 17, 16, 2, 6, 8, 9, 9, 13, 12, 12, 15, 14, 19, 19, 19, 20, 23, 22, 1, 5, 12, 20, 0, 0, 9, 1, 7, 1, 22, 0, 3, 3, 7, 11, 10, 12, 12, 14, 14, 14, 16, 19, 19, 19, 21, 20, 20, 22, 22, 14, 17, 20, 23, 2, 6, 17, 17, 17, 16, 17, 20, 22, 19, 1, 2, 3, 2, 9, 10, 15, 15, 20, 23, 23, 22, 0, 1, 0, 3, 3, 4, 4, 6, 6, 9, 13, 17, 17, 18, 18, 19, 21, 21, 21, 21, 22, 22, 22, 0, 4, 9, 10, 10, 14, 19, 19, 10, 23, 0, 0, 1, 2, 5, 6, 9, 11, 12, 12, 12, 15, 15, 14, 14, 14, 15, 15, 15, 16, 16, 17, 19, 18, 19, 19, 19, 20, 21, 21, 21, 20, 20, 21, 20, 23, 22, 22, 23, 23, 23, 22, 23, 22, 22, 22, 22, 16, 4, 4, 9, 19, 20, 22, 23, 10, 10, 13, 2, 2, 4, 4, 7, 11, 11, 10, 18, 23, 23, 18, 10, 14, 16, 22, 22, 0, 0, 0, 2, 2, 3, 2, 3, 6, 7, 7, 9, 11, 13, 12, 12, 17, 19, 20, 20, 22, 23, 22, 3, 5, 6, 10, 15, 17, 17, 19, 18, 18, 18, 20, 21, 20, 21, 23, 22, 2, 0, 3, 4, 5, 9, 15, 16, 17, 19, 19, 18, 19, 20, 21, 21, 21, 23, 22, 3, 3, 18, 1, 0, 0, 1, 3, 3, 7, 10, 12, 13, 14, 17, 17, 16, 17, 18, 18, 19, 19, 18, 19, 19, 21, 21, 20, 20, 20, 20, 22, 0, 5, 8, 8, 11, 12, 12, 14, 19, 19, 20, 23, 22, 6, 7, 8, 14, 21, 1, 0, 1, 4, 12, 14, 14, 22, 5, 21, 11, 14, 19, 6, 8, 8, 0, 2, 3, 5, 6, 7, 11, 13, 13, 14, 14, 16, 17, 16, 19, 18, 20, 20, 21, 22, 23, 23, 22, 22, 23, 17, 1, 1, 1, 0, 3, 3, 5, 7, 11, 11, 14, 16, 17, 16, 19, 18, 20, 21, 21, 21, 20, 20, 20, 21, 23, 23, 1, 6, 11, 14, 15, 19, 20, 21, 21, 20, 22, 3, 2, 10, 19, 0, 13, 17, 19, 21, 20, 22, 22, 8, 18, 0, 4, 7, 8, 21, 6, 0, 3, 15, 21, 20, 22, 1, 0, 2, 5, 4, 4, 15, 21, 1, 6, 12, 14, 14, 17, 18, 20, 23, 23, 3, 3, 3, 4, 7, 11, 12, 15, 17, 17, 18, 18, 19, 18, 19, 20, 21, 20, 22, 23, 23, 23, 0, 3, 5, 9, 12, 23, 2, 13, 23, 23, 21, 1, 0, 0, 1, 2, 3, 4, 5, 5, 6, 7, 7, 9, 9, 11, 12, 12, 17, 18, 20, 21, 20, 21, 20, 23, 19, 18, 6, 17, 21, 0, 2, 8, 10, 17, 17, 18, 19, 19, 18, 18, 21, 22, 22, 22, 20, 1, 2, 21, 2, 5, 9, 18, 22, 20, 21, 22, 20, 3, 15, 23, 23, 19, 9, 10, 16, 23, 23, 13, 17, 9, 21, 17, 11, 3, 1, 1, 0, 6, 18, 21, 23, 8, 0, 20, 6, 19, 19, 21, 22, 3, 5, 1, 0, 0, 1, 0, 1, 1, 0, 2, 2, 2, 2, 3, 4, 4, 5, 11, 11, 13, 13, 13, 12, 12, 12, 14, 14, 17, 17, 16, 16, 16, 17, 16, 16, 17, 17, 17, 16, 16, 16, 17, 17, 17, 19, 19, 18, 18, 18, 18, 19, 18, 18, 18, 19, 19, 18, 18, 20, 21, 21, 20, 21, 21, 20, 21, 21, 20, 20, 20, 21, 20, 20, 20, 20, 20, 22, 22, 22, 23, 23, 0, 0, 2, 4, 4, 4, 5, 8, 11, 12, 17, 19, 20, 20, 21, 21, 20, 22, 23, 3, 3, 6, 12, 18, 22, 23, 22, 1, 0, 0, 0, 1, 0, 1, 2, 3, 4, 6, 6, 7, 8, 10, 11, 10, 10, 11, 12, 12, 12, 13, 12, 12, 12, 12, 12, 15, 14, 15, 15, 16, 16, 17, 17, 16, 17, 18, 18, 19, 19, 19, 19, 18, 18, 21, 20, 20, 20, 21, 20, 21, 20, 21, 20, 23, 22, 22, 22, 22, 23, 22, 22, 21, 0, 2, 11, 10, 17, 19, 23, 7, 7, 9, 11, 12, 18, 19, 21, 9, 12, 14, 14, 16, 23, 4, 5, 8, 8, 10, 14, 16, 18, 18, 19, 18, 0, 3, 2, 6, 10, 15, 18, 15, 19, 3, 12, 0, 1, 4, 4, 6, 6, 11, 10, 12, 13, 12, 15, 15, 15, 16, 16, 16, 18, 21, 21, 20, 20, 20, 22, 22, 23, 18, 0, 4, 6, 6, 10, 10, 12, 15, 14, 14, 14, 16, 16, 19, 19, 19, 19, 19, 19, 21, 20, 20, 23, 22, 4, 8, 9, 11, 22, 22, 22, 3, 9, 19, 3, 2, 8, 15, 23, 23, 0, 11, 17, 21, 20, 4, 4, 6, 8, 2, 22, 22, 22, 16, 19, 22, 19, 21, 23, 2, 5, 19, 1, 4, 7, 6, 9, 1, 1, 0, 0, 1, 0, 2, 5, 4, 6, 6, 9, 11, 10, 10, 11, 11, 13, 12, 13, 15, 14, 14, 17, 16, 17, 16, 18, 19, 19, 19, 19, 19, 19, 21, 21, 21, 20, 21, 21, 20, 20, 21, 20, 21, 21, 22, 23, 22, 23, 22, 22, 22, 22, 4, 4, 0, 1, 20, 23, 0, 1, 5, 5, 11, 19, 23, 23, 23, 0, 16, 11, 16, 1, 0, 2, 5, 4, 4, 4, 4, 6, 13, 19, 21, 21, 23, 23, 23, 22, 21, 0, 4, 21, 19, 1, 3, 2, 6, 13, 15, 17, 17, 16, 19, 19, 18, 19, 21, 20, 22, 22, 23, 22, 22, 23, 19, 10, 10, 12, 15, 17, 17, 19, 19, 19, 19, 19, 21, 21, 21, 20, 21, 23, 22, 22, 23, 15, 22, 8, 13, 13, 14, 19, 22, 22, 0, 2, 4, 9, 8, 13, 13, 18, 0, 0, 2, 5, 13, 14, 14, 15, 16, 18, 20, 21, 21, 21, 22, 22, 22, 22, 3, 1, 0, 0, 0, 1, 0, 1, 1, 2, 2, 2, 5, 11, 11, 11, 11, 15, 15, 14, 17, 17, 17, 17, 19, 19, 19, 19, 19, 18, 18, 19, 19, 18, 20, 21, 20, 21, 20, 22, 22, 22, 23, 23, 23, 12, 19, 21, 22, 22, 1, 1, 2, 7, 7, 10, 11, 12, 12, 15, 15, 19, 18, 19, 19, 21, 21, 21, 21, 21, 23, 23, 0, 1, 1, 1, 0, 0, 2, 2, 2, 5, 4, 7, 7, 6, 6, 9, 8, 10, 10, 11, 12, 13, 15, 14, 15, 14, 15, 16, 17, 17, 17, 17, 16, 17, 19, 18, 18, 18, 19, 19, 19, 19, 19, 21, 21, 21, 21, 21, 20, 21, 20, 21, 21, 20, 20, 21, 21, 20, 21, 21, 20, 21, 22, 22, 23, 22, 22, 22, 7, 7, 20, 2, 4, 14, 21, 21, 23, 22, 10, 0, 0, 3, 7, 7, 7, 7, 9, 9, 8, 12, 12, 12, 15, 15, 16, 17, 18, 19, 18, 19, 18, 18, 20, 21, 20, 21, 20, 22, 22, 22, 23, 5, 21, 22, 5, 11, 10, 14, 14, 18, 23, 2, 23, 23, 17, 21, 22, 2, 2, 3, 9, 22, 7, 23, 23, 11, 11, 17, 11, 21, 5, 6, 1, 2, 16, 21, 18, 1, 1, 1, 0, 1, 1, 1, 1, 2, 3, 2, 2, 3, 3, 3, 3, 3, 3, 5, 5, 5, 5, 7, 6, 7, 7, 7, 8, 8, 8, 8, 8, 8, 10, 11, 11, 11, 10, 10, 12, 13, 13, 16, 17, 16, 16, 16, 19, 18, 18, 19, 19, 20, 21, 20, 20, 20, 20, 21, 20, 23, 22, 22, 22, 22, 22, 23, 22, 23, 23, 1, 5, 12, 17, 22, 23, 1, 4, 10, 10, 21, 22, 15, 0, 13, 14, 3, 7, 9, 4, 4, 14, 20, 5, 13, 15, 0, 17, 7, 19, 5, 9, 22, 4, 7, 8, 11, 12, 21, 20, 22, 3, 3, 7, 21, 18, 3, 3, 4, 17, 11, 13, 15, 18, 19, 16, 1, 3, 4, 15, 18, 18, 21, 22, 22, 2, 2, 2, 11, 13, 19, 21, 21, 20, 20, 4, 9, 10, 12, 20, 23, 23, 0, 4, 5, 11, 11, 10, 12, 18, 22, 22, 23, 10, 8, 1, 20, 0, 19, 10, 6, 13, 20, 4, 10, 8, 19, 19, 19, 19, 20, 22, 22, 0, 7, 9, 9, 10, 12, 14, 14, 15, 14, 17, 17, 19, 19, 19, 19, 19, 19, 20, 23, 4, 4, 1, 2, 2, 5, 9, 11, 13, 12, 15, 17, 16, 17, 17, 19, 19, 20, 20, 21, 20, 22, 23, 23, 20, 20, 1, 0, 0, 1, 1, 0, 3, 3, 2, 11, 11, 11, 13, 15, 15, 17, 17, 19, 18, 18, 21, 21, 21, 21, 21, 21, 23, 23, 22, 22, 22, 23, 22, 22, 22, 22, 23, 4, 16, 21, 12, 18, 15, 2, 16, 9, 15, 0, 7, 12, 20, 3, 13, 19, 21, 3, 3, 3, 17, 18, 23, 19, 3, 16, 20, 14, 2, 0, 2, 7, 8, 10, 12, 13, 15, 15, 17, 16, 17, 19, 19, 19, 19, 19, 19, 20, 20, 20, 20, 21, 21, 21, 21, 23, 23, 23, 23, 22, 22, 22, 13, 1, 2, 20, 9, 18, 20, 11, 7, 19, 0, 2, 3, 5, 5, 5, 5, 7, 9, 10, 14, 15, 16, 17, 17, 18, 19, 19, 20, 20, 20, 23, 22, 3, 20, 19, 4, 2, 5, 20, 0, 0, 2, 16, 18, 21, 22, 15, 18, 3, 9, 8, 15, 14, 17, 19, 20, 20, 23, 11, 0, 13, 15, 19, 1, 0, 1, 1, 10, 10, 12, 16, 16, 19, 18, 23, 11, 12, 23, 5, 11, 12, 15, 16, 17, 16, 16, 17, 17, 18, 19, 19, 18, 21, 20, 20, 20, 20, 21, 20, 21, 20, 21, 22, 23, 23, 23, 23, 23, 23, 23, 22, 22, 23, 3, 5, 22, 3, 17, 19, 20, 20, 3, 8, 9, 22, 5, 4, 5, 9, 14, 19, 20, 21, 22, 23, 1, 3, 5, 23, 3, 7, 9, 12, 21, 2, 23, 23, 3, 4, 6, 6, 9, 15, 21, 23, 1, 1, 4, 10, 19, 20, 20, 14, 22, 23, 13, 18, 19, 1, 3, 7, 21, 23, 23, 23, 1, 1, 21, 3, 18, 7, 11, 14, 15, 0, 23, 10, 11, 10, 3, 5, 11, 10, 16, 21, 20, 22, 18, 12, 18, 21, 23, 21, 22, 12, 22, 3, 19, 21, 4, 6, 16, 11, 13, 12, 14, 20, 0, 0, 3, 3, 5, 8, 15, 15, 17, 17, 17, 19, 19, 19, 19, 21, 20, 20, 22, 22, 23, 1, 21, 21, 22, 1, 4, 9, 17, 22, 3, 10, 1, 19, 16, 17, 17, 19, 21, 1, 22, 20, 23, 10, 13, 22, 16, 7, 2, 0, 1, 1, 1, 1, 2, 2, 2, 4, 5, 4, 7, 6, 6, 11, 11, 11, 11, 10, 10, 12, 12, 12, 12, 15, 15, 14, 15, 16, 16, 17, 17, 16, 17, 17, 19, 18, 19, 19, 18, 18, 18, 18, 19, 18, 19, 20, 21, 20, 21, 20, 20, 21, 21, 21, 21, 22, 22, 23, 22, 23, 22, 23, 22, 23, 23, 2, 13, 11, 22, 0, 0, 0, 2, 3, 3, 5, 8, 9, 10, 10, 12, 13, 15, 16, 16, 16, 16, 19, 18, 21, 20, 20, 21, 21, 21, 23, 22, 22, 22, 23, 23, 1, 1, 3, 2, 3, 8, 8, 12, 19, 19, 19, 19, 21, 21, 21, 21, 21, 21, 22, 23, 23, 3, 22, 23, 22, 1, 0, 0, 3, 5, 7, 7, 10, 11, 11, 15, 15, 17, 17, 16, 16, 19, 19, 21, 21, 21, 20, 20, 23, 22, 21, 23, 18, 21, 15, 17, 22, 22, 1, 4, 5, 1, 14, 20, 9, 18, 1, 1, 4, 15, 23, 5, 4, 19, 21, 20, 15, 2, 15, 19, 23, 16, 20, 8, 1, 5, 10, 14, 17, 19, 22, 23, 9, 12, 15, 15, 0, 0, 0, 0, 2, 2, 2, 4, 4, 5, 4, 7, 7, 7, 8, 13, 13, 15, 16, 16, 18, 19, 21, 21, 22, 22, 23, 23, 20, 16, 16, 23, 1, 3, 3, 8, 12, 8, 10, 21, 10, 21, 0, 14, 17, 19, 22, 22, 22, 11, 12, 23, 4, 17, 2, 17, 22, 6, 14, 19, 7, 1, 7, 23, 12, 22, 16, 18, 20, 21, 4, 15, 17, 18, 19, 19, 23, 23, 23, 17, 9, 16, 17, 17, 21, 3, 4, 12, 17, 14, 1, 6, 8, 11, 11, 11, 12, 14, 14, 20, 15, 14, 22, 23, 3, 14, 18, 20, 11, 6, 11, 10, 13, 16, 21, 22, 1, 3, 5, 12, 18, 19, 0, 8, 11, 11, 17, 17, 17, 19, 20, 22, 3, 3, 3, 3, 13, 15, 15, 16, 17, 21, 23, 7, 6, 9, 9, 10, 19, 3, 9, 21, 21, 2, 6, 17, 19, 0, 3, 8, 8, 8, 15, 17, 19, 21, 20, 23, 23, 23, 23, 22, 22, 9, 22, 9, 9, 8, 8, 8, 9, 8, 8, 11, 10, 11, 12, 13, 15, 14, 17, 17, 17, 17, 16, 16, 20, 22, 2, 19, 18, 22, 6, 16, 18, 20, 1, 1, 1, 3, 13, 14, 17, 18, 21, 20, 20, 21, 21, 23, 0, 3, 3, 5, 6, 6, 9, 8, 18, 18, 18, 20, 23, 23, 7, 10, 18, 0, 8, 15, 16, 16, 22, 3, 5, 13, 6, 9, 18, 8, 9, 12, 17, 7, 7, 8, 8, 8, 8, 10, 10, 13, 13, 15, 15, 17, 17, 17, 16, 18, 19, 19, 18, 19, 21, 20, 20, 22, 22, 22, 0, 8, 14, 23, 23, 0, 3, 3, 5, 4, 7, 7, 10, 10, 15, 15, 17, 18, 18, 18, 19, 18, 19, 20, 9, 9, 13, 21, 20, 7, 22, 3, 11, 0, 3, 2, 2, 4, 6, 8, 13, 14, 14, 16, 16, 19, 19, 19, 19, 18, 18, 22, 18, 19, 19, 18, 3, 4, 10, 10, 10, 14, 18, 21, 21, 21, 23, 22, 12, 17, 23, 15, 16, 7, 7, 10, 19, 19, 1, 0, 2, 2, 2, 5, 5, 5, 5, 6, 8, 9, 9, 9, 11, 11, 13, 13, 13, 13, 12, 15, 14, 15, 16, 16, 17, 18, 21, 21, 23, 23, 23, 18, 0, 12, 1, 1, 15, 19, 22, 22, 21, 21, 15, 20, 17, 23, 0, 4, 20, 20, 19, 19, 20, 11, 19, 6, 13, 6, 20, 1, 4, 5, 23, 23, 23, 1, 2, 6, 4, 6, 14, 14, 7, 10, 23, 1, 20, 11, 5, 6, 7, 8, 21, 9, 16, 20, 5, 5, 9, 23, 2, 16, 20, 11, 10, 20, 20, 20, 19, 4, 1, 9, 4, 22, 1, 1, 10, 19, 19, 20, 2, 3, 23, 0, 0, 3, 1, 3, 20, 5, 10, 11, 4, 6, 9, 11, 12, 21, 0, 6, 15, 20, 21, 20, 4, 20, 12, 12, 13, 17, 8, 20, 0, 20, 19, 20, 19, 20, 23, 22, 6, 23, 15, 0, 3, 20, 16, 8, 19, 21, 7, 21, 21, 21, 21, 18, 22, 2, 7, 13, 19, 21, 21, 18, 20, 22, 12, 0, 19, 5, 17, 22, 23, 11, 4, 21, 21, 12, 19, 3, 23, 22, 20, 2, 10, 16, 18, 20, 23, 23, 23, 11, 13, 12, 1, 22, 8, 21, 22, 22, 10, 5, 6, 6, 2, 10, 12, 3, 5, 9, 18, 0, 11, 22, 17, 17, 22, 16, 18, 8, 16, 20, 20, 23, 4, 2, 12, 23, 1, 10, 19, 15, 22, 23, 2, 11, 1, 1, 12, 12, 15, 16, 6, 21, 10, 14, 17, 15, 0, 17, 12, 4, 22, 19, 10, 14, 17, 17, 22, 10, 23, 10, 21, 9, 7, 17, 10, 21, 21, 1, 2, 17, 23, 15, 3, 0, 1, 19, 12, 19, 23, 0, 7, 10, 22, 8, 15, 22, 10, 9, 8, 21, 12, 15, 0, 11, 0, 12, 5, 8, 22, 21, 20, 1, 21, 19, 6, 21, 6, 2, 14, 21, 7, 16, 17, 3, 2, 3, 22, 10, 23, 21, 1, 17, 10, 17, 12, 22, 8, 18, 22, 20, 7, 0, 21, 22, 23, 9, 14, 23, 21, 23, 17, 20, 10, 13, 3, 11, 16, 7, 20, 22, 19, 18, 8, 23, 7, 16, 5, 1, 23, 23, 16, 22, 7, 11, 2, 19, 23, 22, 14, 10, 22, 19, 4, 6, 16, 15, 13, 15, 19, 12, 20, 7, 12, 7, 0, 5, 0, 3, 11, 21, 8, 17, 20, 11, 16, 11, 8, 6, 21, 6, 18, 12, 12, 2, 18, 18, 11, 18, 3, 10, 12, 20, 22, 9, 11, 2, 17, 4, 17, 12, 17, 2, 5, 23, 6, 15, 10, 21, 16, 16, 19, 19, 19, 12, 15, 12, 17, 18, 22, 20, 15, 18, 22, 22, 7, 9, 4, 12, 11, 22, 15, 15, 19, 6, 1, 22, 8, 18, 21, 19, 8, 22, 22, 21, 21, 21, 23, 19, 2, 17, 20, 22, 17, 4, 21, 19, 21, 2, 11, 14, 11, 11, 13, 16, 17, 22, 19, 17, 23, 4, 0, 9, 21, 9, 12, 6, 15, 22, 23, 14, 12, 21, 17, 1, 1, 12, 21, 11, 9, 11, 22, 21, 6, 9, 2, 22, 11, 15, 0, 7, 2, 2, 20, 21, 0, 0, 7, 16, 4, 1, 20, 12, 7, 3, 4, 20, 5, 11, 22, 2, 22, 16, 21, 22, 1, 23, 0, 16, 20, 20, 2, 16, 0, 11, 21, 8, 4, 12, 16, 3, 20, 4, 22, 5, 20, 19, 14, 21, 21, 22, 10, 10, 23, 14, 1, 18, 21, 21, 22, 20, 20, 13, 16, 21, 20, 4, 6, 3, 20, 23, 14, 4, 22, 21, 15, 13, 20, 21, 17, 4, 19, 0, 21, 7, 2, 17, 21, 0, 17, 1, 17, 13, 10, 20, 1, 2, 21, 17, 17, 23, 1, 12, 16, 20, 2, 8, 12, 13, 19, 6, 20, 10, 13, 1, 5, 20, 14, 5, 22, 0, 1, 23, 5, 15, 12, 2, 19, 11, 0, 20, 12, 4, 15, 18, 14, 3, 23, 9, 13, 12, 2, 1, 0, 11, 20, 12, 17, 14, 17, 5, 21, 20, 0, 1, 16, 0, 4, 22, 23, 20, 22, 16, 16, 8, 6, 4, 0, 7, 21, 22, 10, 19, 15, 20, 22, 1, 15, 7, 19, 21, 18, 22, 20, 16, 21, 14, 21, 6, 22, 2, 18, 10, 4, 19, 20, 4, 13, 10, 21, 4, 15, 2, 1, 22, 0, 2, 0, 8, 20, 14, 14, 14, 15, 17, 19, 3, 8, 22, 11, 20, 2, 0, 19, 16, 22, 7, 19, 10, 8, 1, 22, 10, 8, 7, 22, 21, 9, 21, 14, 18, 13, 1, 20, 22, 15, 7, 10, 15, 0, 22, 19, 20, 6, 21, 19, 23, 21, 13, 20, 8, 23, 2, 1, 19, 16, 0, 1, 22, 21, 8, 13, 0, 23, 22, 22, 17, 0, 19, 19, 6, 19, 14, 2, 4, 7, 8, 2, 20, 3, 7, 1, 18, 18, 12, 17, 10, 21, 0, 17, 21, 21, 19, 17, 21, 19, 14, 7, 23, 2, 23, 13, 20, 20, 10, 19, 23, 8, 11, 0, 21, 19, 20, 23, 19, 1, 21, 6, 21, 3, 17, 1, 20, 1, 7, 6, 18, 17, 19, 22, 23, 10, 16, 17, 23, 22, 12, 18, 1, 20, 22, 0, 8, 23, 20, 17, 20, 1, 23, 16, 12, 16, 3, 19, 1, 9, 20, 20, 3, 23, 22, 10, 20, 17, 19, 6, 2, 20, 20, 22, 18, 20, 9, 14, 23, 13, 23, 9, 23, 19, 15, 21, 15, 18, 4, 1, 7, 0, 16, 19, 7, 16, 10, 20, 19, 17, 8, 10, 2, 14, 9, 8, 11, 10, 12, 17, 12, 7, 16, 20, 8, 3, 21, 20, 23, 23, 10, 20, 11, 3, 5, 21, 20, 17, 3, 17, 8, 9, 19, 1, 19, 11, 18, 20, 21, 13, 11, 21, 3, 5, 1, 15, 20, 3, 2, 18, 12, 5, 8, 1, 15, 7, 18, 21, 15, 20, 7, 5, 3, 18, 0, 2, 21, 16, 22, 15, 13, 20, 14, 17, 18, 22, 16, 14, 14, 19, 19, 4, 0, 13, 19, 0, 19, 19, 19, 8, 1, 17, 19, 16, 19, 10, 17, 10, 1, 21, 1, 12, 16, 1, 18, 1, 19, 2, 12, 12, 23, 12, 17, 17, 0, 0, 14, 19, 9, 1, 13, 15, 0, 3, 11, 16, 15, 3, 14, 3, 20, 4, 16, 23, 18, 15, 17, 15, 13, 3, 7, 11, 23, 12, 14, 20, 13, 18, 11, 20, 7, 17, 15, 21, 22, 9, 3, 4, 22, 21, 19, 4, 19, 15, 17, 9, 11, 16, 4, 19, 22, 18, 22, 20, 21, 4, 23, 10, 19, 23, 8, 0, 19, 22, 7, 23, 15, 5, 22, 0, 16, 21, 14, 22, 1, 17, 23, 19, 22, 15, 20, 21, 19, 2, 12, 10, 20, 20, 17, 19, 14, 17, 14, 17, 1, 18, 19, 20, 22, 20, 20, 13, 21, 1, 3, 20, 20, 14, 18, 22, 4, 0, 19, 0, 10, 21, 20, 18, 21, 12, 21, 22, 23, 19, 23, 1, 18, 20, 1, 17, 22, 20, 19, 14, 2, 0, 21, 3, 23, 11, 18, 22, 5, 21, 21, 20, 20, 20, 22, 23, 21, 14, 17, 21, 5, 23, 23, 23, 12, 3, 20, 19, 1, 19, 4, 16, 1, 20, 23, 18, 15, 20, 15, 13, 21, 17, 14, 22, 13, 16, 23, 23, 17, 17, 1, 19, 21, 2, 11, 17, 14, 19, 10, 3, 10, 2, 22, 2, 21, 20, 5, 0, 4, 20, 1, 22, 3, 21, 23, 2, 23, 17, 7, 17, 20, 14, 3, 21, 17, 15, 3, 19, 4, 16, 22, 18, 5, 17, 4, 17, 9, 21, 0, 12, 1, 11, 15, 15, 1, 23, 23, 12, 19, 21, 3, 16, 20, 13, 12, 14, 19, 21, 19, 22, 11, 19, 4, 0, 17, 13, 4, 18, 16, 16, 17, 21, 17, 0, 20, 21, 17, 1, 19, 12, 4, 4, 7, 21, 2, 11, 19, 22, 8, 23, 12, 14, 17, 1, 12, 16, 22, 17, 3, 3, 1, 13, 13, 19, 20, 13, 14, 4, 1, 18, 19, 10, 16, 17, 18, 16, 15, 16, 19, 3, 17, 20, 22, 23, 16, 23, 22, 3, 18, 7, 20, 14, 6, 23, 12, 19, 7, 20, 13, 17, 20, 22, 20, 18, 12, 2, 14, 17, 21, 15, 2, 21, 22, 0, 3, 21, 23, 6, 19, 19, 22, 21, 16, 23, 17, 2, 1, 22, 20, 19, 14, 21, 22, 23, 12, 23, 19, 1, 13, 11, 20, 16, 15, 23, 20, 22, 12, 11, 17, 5, 16, 16, 23, 14, 19, 11, 22, 3, 15, 15, 19, 12, 6, 10, 19, 4, 12, 15, 20, 16, 18, 0, 3, 19, 18, 18, 19, 14, 23, 1, 23, 14, 17, 11, 23, 11, 19, 9, 23, 20, 17, 19, 15, 21, 19, 3, 14, 0, 14, 17, 6, 4, 2, 22, 0, 19, 12, 20, 9, 4, 16, 19, 13, 23, 19, 1, 23, 23, 9, 14, 23, 4, 19, 22, 1, 5, 0, 22, 21, 5, 20, 19, 22, 20, 1, 20, 23, 23, 11, 2, 6, 15, 16, 6, 21, 21, 18, 19, 11, 23, 6, 11, 19, 12, 14, 19, 19, 21, 23, 14, 7, 18, 21, 20, 9, 16, 7, 3, 3, 21, 7, 17, 22, 2, 16, 19, 21, 15, 21, 1, 18, 18, 10, 16, 19, 0, 5, 9, 20, 11, 2, 23, 19, 20, 16, 18, 19, 21, 3, 9, 0, 15, 20, 22, 19, 16, 18, 16, 20, 12, 13, 18, 1, 23, 20, 0, 23, 22, 11, 22, 17, 14, 11, 11, 17, 3, 4, 17, 23, 20, 3, 1, 19, 19, 10, 22, 21, 12, 12, 22, 20, 21, 1, 20, 23, 16, 2, 11, 7, 22, 10, 23, 12, 3, 22, 21, 22, 17, 21, 20, 3, 21, 21, 1, 11, 5, 11, 6, 20, 20, 0, 21, 19, 12, 6, 21, 18, 12, 0, 1, 10, 16, 17, 20, 20, 16, 1, 20, 14, 18, 13, 20, 21, 15, 15, 8, 15, 17, 12, 18, 22, 19, 23, 19, 20, 1, 11, 21, 9, 23, 10, 11, 0, 20, 19, 5, 6, 21, 13, 18, 1, 19, 14, 19, 20, 17, 11, 23, 5, 20, 3, 23, 11, 6, 12, 15, 21, 16, 17, 10, 19, 15, 20, 21, 20, 20, 17, 18, 16, 1, 20, 1, 2, 21, 3, 19, 7, 19, 20, 11, 13, 1, 21, 21, 23, 1, 21, 13, 19, 13, 23, 17, 22, 3, 4, 8, 0, 3, 22, 1, 9, 16, 20, 5, 20, 20, 16, 12, 19, 21, 11, 15, 16, 7, 5, 21, 14, 20, 13, 6, 0, 16, 18, 17, 4, 12, 19, 22, 21, 12, 18, 15, 2, 18, 2, 16, 0, 3, 19, 18, 20, 19, 19, 20, 17, 17, 13, 14, 20, 22, 21, 17, 21, 17, 19, 21, 14, 20, 14, 18, 18, 10, 2, 19, 16, 14, 3, 8, 18, 23, 20, 12, 1, 21, 19, 12, 19, 4, 11, 17, 1, 10, 12, 4, 22, 22, 17, 23, 21, 16, 23, 22, 9, 13, 20, 16, 22, 19, 16, 2, 23, 20, 13, 21, 13, 15, 19, 17, 23, 22, 23, 19, 23, 17, 19, 19, 3, 20, 13, 13, 22, 20, 5, 16, 22, 11, 20, 21, 22, 5, 23, 8, 1, 4, 0, 14, 3, 1, 0, 20, 8, 20, 14, 11, 17, 22, 21, 3, 18, 17, 10, 19, 22, 22, 3, 14, 20, 16, 20, 21, 20, 14, 11, 1, 15, 6, 11, 16, 18, 10, 18, 18, 18, 2, 19, 22, 4, 22, 15, 15, 10, 12, 19, 8, 21, 23, 22, 20, 3, 19, 13, 0, 4, 13, 17, 21, 1, 20, 22, 0, 10, 20, 23, 4, 3, 17, 21, 0, 8, 1, 10, 13, 23, 22, 11, 2, 12, 6, 6, 11, 17, 7, 4, 4, 17, 2, 10, 16, 17, 18, 1, 13, 21, 2, 1, 20, 11, 11, 23, 2, 6, 14, 7, 12, 17, 8, 12, 5, 19, 17, 10, 17, 10, 5, 22, 21, 4, 9, 22, 21, 23, 0, 4, 2, 19, 23, 3, 0, 19, 13, 23, 1, 3, 16, 3, 2, 21, 18, 18, 20, 2, 1, 3, 15, 3, 22, 2, 23, 0, 2, 22, 6, 17, 16, 17, 20, 9, 22, 6, 22, 2, 10, 16, 15, 12, 10, 17, 12, 12, 23, 9, 13, 18, 10, 6, 15, 6, 1, 15, 8, 20, 1, 11, 21, 16, 4, 15, 8, 15, 14, 23, 2, 1, 3, 6, 5, 19, 20, 1, 10, 19, 18, 18, 20, 6, 15, 3, 20, 2, 4, 21, 18, 22, 11, 14, 21, 2, 4, 23, 19, 6, 4, 16, 6, 20, 23, 20, 12, 20, 20, 23, 9, 12, 6, 4, 21, 15, 1, 16, 10, 7, 21, 3, 4, 6, 9, 18, 22, 19, 21, 19, 6, 1, 22, 16, 19, 22, 23, 6, 17, 14, 9, 5, 12, 19, 19, 21, 13, 11, 10, 17, 14, 20, 17, 2, 20, 12, 6, 20, 1, 8, 4, 5, 9, 20, 20, 5, 14, 11, 0, 2, 4, 11, 19, 19, 18, 15, 5, 14, 20, 18, 13, 23, 19, 5, 22, 11, 1, 1, 23, 21, 13, 10, 5, 5, 5, 12, 11, 22, 14, 21, 18, 21, 1, 21, 7, 2, 21, 6, 21, 4, 22, 22, 17, 20, 10, 10, 2, 0, 23, 17, 8, 8, 22, 19, 18, 11, 19, 3, 4, 11, 3, 23, 10, 0, 17, 3, 22, 10, 13, 3, 3, 3, 8, 8, 19, 5, 17, 22, 21, 22, 10, 21, 18, 5, 22, 21, 19, 16, 21, 19, 21, 21, 18, 8, 21, 22, 7, 10, 19, 7, 7, 0, 19, 7, 7, 18, 19, 18, 8, 0, 8, 2, 22, 4, 20, 5, 23, 5, 20, 15, 20, 2, 15, 14, 9, 20, 14, 10, 22, 21, 8, 4, 11, 12, 22, 8, 23, 4, 8, 6, 6, 6, 4, 2, 7, 11, 18, 7, 13, 22, 14, 18, 0, 21, 9, 3, 21, 21, 1, 1, 17, 19, 15, 23, 3, 3, 2, 5, 3, 0, 15, 22, 14, 12, 5, 16, 21, 13, 1, 23, 6, 15, 23, 10, 6, 8, 1, 1, 8, 8, 21, 1, 5, 1, 8, 3, 23, 1, 5, 22, 0, 8, 9, 4, 23, 22, 7, 21, 1, 17, 3, 23, 22, 1, 7, 23, 21, 13, 23, 10, 6, 4, 13, 15, 16, 10, 16, 12, 0, 22, 3, 2, 20, 3, 10, 16, 23, 0, 17, 14, 19, 0, 17, 19, 12, 10, 11, 11, 20, 19, 13, 10, 3, 14, 21, 4, 21, 16, 11, 14, 15, 18, 17, 15, 12, 13, 10, 17, 13, 1, 13, 2, 19, 23, 11, 5, 19, 13, 16, 15, 19, 21, 23, 0, 12, 0, 7, 22, 10, 10, 9, 21, 18, 23, 5, 2, 23, 23, 0, 6, 1, 6, 0, 0, 20, 20, 11, 16, 4, 10, 13, 10, 23, 23, 21, 15, 3, 18, 4, 18, 19, 20, 20, 5, 10, 23, 3, 22, 8, 21, 7, 23, 2, 22, 21, 19, 5, 2, 9, 5, 12, 4, 20, 20, 7, 6, 17, 8, 14, 18, 22, 18, 22, 19, 18, 4, 18, 15, 16, 2, 22, 2, 6, 1, 0, 21, 0, 21, 0, 9, 12, 22, 18, 1, 23, 12, 19, 23, 20, 14, 21, 19, 3, 3, 9, 15, 2, 3, 5, 20, 2, 7, 5, 7, 17, 13, 4, 19, 12, 2, 14, 14, 10, 8, 20, 6, 23, 14, 15, 5, 8, 19, 1, 21, 1, 12, 19, 19, 8, 18, 18, 1, 20, 21, 19, 8, 1, 18, 0, 17, 19, 23, 17, 23, 19, 14, 15, 17, 0, 21, 7, 7, 19, 8, 12, 6, 8, 23, 6, 17, 2, 9, 0, 14, 16, 21, 9, 0, 21, 18, 9, 5, 23, 15, 13, 6, 15, 13, 20, 13, 12, 4, 4, 20, 20, 0, 18, 7, 5, 23, 10, 13, 20, 19, 17, 12, 1, 0, 10, 21, 22, 21, 17, 1, 22, 16, 0, 0, 12, 12, 21, 19, 5, 6, 9, 23, 16, 22, 17, 19, 16, 21, 14, 20, 5, 23, 3, 4, 8, 15, 7, 21, 22, 1, 7, 21, 8, 22, 21, 3, 17, 4, 2, 20, 23, 15, 10, 14, 2, 17, 17, 20, 20, 21, 8, 23, 14, 8, 22, 3, 17, 1, 12, 6, 21, 8, 11, 20, 7, 21, 5, 23, 6, 14, 2, 22, 13, 23, 19, 17, 3, 15, 17, 3, 11, 3, 1, 19, 20, 4, 23, 5, 17, 13, 18, 21, 17, 16, 0, 23, 12, 16, 8, 20, 17, 23, 12, 22, 1, 21, 0, 9, 5, 19, 15, 22, 11, 21, 4, 4, 3, 8, 18, 18, 1, 22, 1, 14, 9, 12, 21, 2, 10, 0, 12, 4, 21, 21, 8, 3, 20, 11, 13, 19, 19, 5, 3, 23, 16, 21, 20, 19, 22, 23, 19, 20, 5, 21, 7, 11, 20, 20, 4, 22, 20, 15, 20, 21, 10, 20, 6, 2, 6, 10, 3, 3, 19, 22, 10, 13, 16, 23, 21, 22, 23, 0, 19, 2, 22, 22, 6, 23, 0, 22, 6, 21, 12, 18, 18, 21, 17, 23, 13, 13, 20, 13, 22, 13, 16, 23, 8, 16, 21, 4, 5, 3, 19, 0, 16, 22, 21, 21, 21, 2, 19, 17, 20, 21, 19, 1, 21, 22, 23, 14, 9, 9, 23, 4, 17, 19, 22, 18, 14, 19, 3, 23, 23, 21, 6, 1, 22, 0, 10, 22, 14, 22, 19, 11, 4, 20, 18, 17, 19, 22, 10, 1, 4, 1, 17, 23, 19, 19, 0, 4, 1, 10, 19, 3, 21, 21, 11, 20, 21, 1, 21, 2, 15, 11, 7, 16, 2, 9, 11, 18, 7, 0, 5, 6, 9, 21, 10, 20, 7, 21, 8, 5, 9, 22, 19, 9, 2, 2, 0, 3, 8, 9, 11, 19, 4, 12, 0, 11, 0, 0, 20, 22, 1, 1, 16, 23, 3, 3, 0, 1, 3, 22, 20, 3, 3, 21, 3, 11, 5, 23, 10, 11, 5, 2, 8, 21, 22, 20, 21, 19, 21, 4, 1, 15, 0, 19, 1, 19, 11, 1, 1, 0, 21, 10, 19, 19, 3, 18, 15, 12, 20, 10, 17, 17, 16, 9, 9, 11, 10, 17, 19, 20, 8, 7, 23, 9, 13, 9, 15, 11, 16, 14, 9, 14, 8, 16, 17, 14, 20, 11, 11, 8, 8, 7, 8, 22, 14, 10, 16, 14, 9, 11, 22, 19, 9, 23, 2, 20, 1, 18, 2, 22, 7, 15, 22, 20, 3, 21, 1, 21, 1, 0, 20, 1, 0, 20, 23, 23, 21, 10, 20, 22, 4, 9, 4, 18, 1, 10, 8, 11, 3, 1, 9, 15, 1, 15, 3, 16, 8, 19, 23, 21, 17, 6, 15, 21, 22, 19, 17, 20, 5, 3, 22, 7, 18, 19, 4, 19, 21, 2, 15, 6, 7, 21, 19, 16, 6, 6, 20, 8, 0, 8, 15, 8, 18, 10, 19, 23, 12, 20, 12, 13, 20, 20, 5, 20, 18, 5, 1, 18, 19, 17, 11, 8, 16, 3, 2, 3, 0, 6, 2, 21, 2, 15, 7, 15, 6, 15, 21, 18, 22, 10, 2, 1, 2, 3, 22, 1, 19, 22, 2, 11, 23, 22, 4, 12, 17, 16, 3, 6, 2, 10, 13, 15, 14, 2, 16, 18, 3, 4, 2, 7, 8, 19, 22, 8, 1, 9, 9, 15, 1, 19, 10, 3, 13, 21, 8, 18, 7, 3, 20, 9, 2, 13, 22, 22, 6, 12, 22, 9, 20, 1, 9, 15, 14, 5, 3, 18, 18, 13, 9, 9, 22, 10, 2, 20, 18, 3, 23, 14, 23, 4, 13, 23, 8, 12, 4, 4, 18, 9, 20, 18, 17, 3, 18, 23, 22, 9, 3, 0, 18, 20, 16, 21, 21, 2, 9, 0, 21, 19, 0, 9, 10, 10, 10, 10, 17, 17, 23, 5, 10, 10, 10, 10, 10, 10, 18, 3, 2, 8, 16, 23, 13, 14, 20, 2, 16, 14, 13, 20, 17, 13, 11, 3, 3, 21, 2, 0, 10, 23, 6, 2, 20, 20, 20, 1, 5, 1, 0, 0, 17, 13, 17, 17, 18, 5, 11, 9, 4, 9, 21, 21, 20, 4, 6, 19, 22, 11, 13, 11, 5, 20, 19, 0, 14, 13, 4, 17, 19, 16, 22, 9, 10, 20, 8, 7, 19, 4, 1, 9, 3, 11, 16, 16, 20, 20, 3, 21, 9, 14, 22, 17, 15, 20, 18, 1, 22, 20, 19, 21, 19, 9, 21, 2, 15, 19, 6, 22, 19, 5, 16, 19, 23, 21, 6, 17, 23, 17, 23, 21, 7, 19, 0, 18, 23, 9, 9, 14, 20, 22, 17, 11, 7, 21, 15, 19, 17, 22, 6, 9, 10, 7, 19, 7, 16, 17, 10, 0, 22, 17, 19, 3, 15, 3, 14, 22, 0, 1, 8, 12, 3, 7, 20, 5, 23, 20, 6, 15, 18, 21, 18, 1, 13, 22, 2, 8, 5, 17, 9, 15, 23, 23, 7, 21, 17, 20, 21, 11, 16, 5, 6, 17, 0, 13, 21, 7, 20, 17, 4, 19, 22, 10, 18, 20, 23, 3, 21, 19, 19, 19, 9, 16, 9, 6, 16, 16, 18, 20, 17, 17, 19, 14, 19, 23, 2, 0, 23, 23, 9, 3, 23, 19, 9, 1, 19, 20, 15, 3, 3, 14, 14, 19, 18, 14, 14, 5, 0, 18, 8, 6, 5, 20, 20, 18, 6, 11, 14, 8, 7, 20, 15, 0, 23, 21, 2, 12, 12, 23, 16, 20, 0, 10, 23, 3, 22, 19, 9, 12, 1, 21, 3, 18, 23, 15, 15, 7, 1, 20, 15, 21, 8, 11, 19, 23, 1, 16, 1, 11, 23, 20, 19, 4, 21, 5, 13, 10, 2, 1, 2, 7, 22, 14, 7, 17, 3, 3, 22, 19, 23, 22, 14, 14, 0, 5, 20, 21, 21, 11, 23, 0, 8, 19, 2, 20, 2, 11, 9, 3, 1, 21, 0, 5, 0, 23, 3, 20, 18, 11, 11, 6, 17, 21, 18, 18, 20, 6, 7, 19, 16, 3, 5, 7, 4, 22, 17, 22, 18, 11, 9, 22, 5, 11, 8, 10, 14, 3, 18, 21, 8, 10, 21, 20, 7, 10, 9, 19, 21, 12, 13, 10, 3, 19, 23, 23, 3, 2, 23, 21, 20, 20, 0, 11, 20, 22, 8, 2, 7, 15, 22, 17, 3, 15, 19, 19, 2, 21, 8, 12, 7, 15, 19, 8, 21, 19, 22, 3, 3, 8, 21, 14, 1, 14, 9, 16, 23, 2, 9, 9, 23, 3, 18, 21, 18, 8, 5, 9, 1, 21, 10, 1, 8, 22, 21, 23, 9, 12, 22, 8, 18, 23, 20, 23, 4, 21, 11, 3, 8, 18, 5, 14, 8, 6, 8, 21, 3, 19, 20, 8, 21, 10, 10, 11, 10, 13, 13, 20, 11, 17, 22, 4, 18, 21, 17, 16, 9, 11, 7, 23, 3, 3, 20, 0, 23, 22, 22, 20, 5, 4, 3, 11, 20, 12, 10, 23, 18, 18, 17, 16, 12, 1, 2, 2, 23, 18, 19, 15, 0, 20, 15, 20, 1, 10, 23, 1, 19, 19, 19, 19, 15, 23, 19, 3, 21, 21, 19, 0, 18, 4, 20, 0, 13, 10, 8, 10, 9, 15, 0, 6, 8, 20, 17, 20, 8, 6, 19, 9, 2, 21, 15, 14, 20, 0, 16, 23, 23, 18, 23, 5, 22, 22, 7, 3, 22, 3, 23, 13, 17, 7, 3, 9, 1, 8, 14, 16, 0, 4, 18, 21, 9, 12, 7, 13, 4, 2, 4, 20, 1, 9, 13, 16, 21, 9, 13, 13, 2, 23, 3, 0, 2, 23, 13, 21, 10, 11, 7, 20, 15, 2, 8, 6, 5, 20, 12, 19, 3, 19, 8, 18, 23, 15, 19, 14, 23, 4, 23, 17, 21, 17, 16, 0, 2, 17, 16, 2, 17, 8, 13, 15, 16, 14, 22, 22, 9, 11, 4, 21, 3, 21, 4, 20, 4, 7, 17, 8, 16, 15, 21, 13, 12, 3, 8, 4, 1, 19, 10, 12, 21, 21, 8, 10, 3, 0, 7, 10, 20, 9, 6, 20, 19, 19, 18, 0, 16, 23, 12, 2, 22, 2, 7, 5, 14, 6, 2, 3, 12, 14, 19, 17, 1, 7, 4, 23, 12, 16, 7, 6, 7, 20, 23, 21, 16, 20, 8, 19, 22, 9, 2, 0, 21, 21, 22, 8, 23, 9, 3, 21, 1, 19, 22, 16, 15, 18, 5, 4, 19, 5, 1, 22, 14, 19, 14, 17, 3, 10, 11, 12, 14, 8, 22, 5, 8, 3, 23, 23, 20, 4, 10, 10, 17, 3, 17, 2, 19, 15, 22, 7, 20, 12, 20, 1, 14, 14, 6, 12, 2, 20, 3, 18, 21, 20, 19, 9, 23, 21, 6, 0, 4, 20, 11, 20, 12, 3, 11, 22, 8, 20, 9, 8, 19, 19, 10, 19, 22, 8, 7, 1, 0, 20, 3, 7, 22, 16, 9, 21, 23, 16, 20, 11, 0, 7, 7, 10, 5, 22, 0, 21, 19, 21, 4, 21, 16, 20, 12, 16, 21, 19, 19, 17, 5, 19, 20, 10, 18, 22, 13, 19, 20, 13, 19, 19, 21, 12, 10, 22, 18, 20, 19, 20, 1, 19, 22, 15, 22, 11, 3, 9, 9, 0, 5, 5, 19, 0, 19, 18, 18, 4, 20, 20, 22, 20, 21, 9, 6, 3, 5, 13, 13, 11, 23, 19, 19, 16, 10, 1, 7, 18, 20, 23, 21, 7, 14, 22, 17, 13, 7, 20, 0, 12, 18, 23, 11, 11, 21, 4, 21, 22, 8, 15, 10, 14, 23, 1, 17, 1, 9, 22, 6, 23, 18, 0, 15, 2, 22, 19, 7, 3, 9, 13, 16, 2, 1, 21, 9, 21, 17, 14, 6, 12, 8, 8, 6, 15, 22, 20, 19, 13, 15, 20, 0, 9, 23, 15, 19, 14, 22, 12, 22, 20, 18, 10, 10, 0, 9, 5, 15, 21, 13, 19, 9, 22, 7, 23, 2, 20, 20, 2, 19, 4, 20, 8, 21, 13, 12, 23, 0, 20, 14, 21, 10, 5, 22, 2, 14, 6, 8, 7, 3, 3, 3, 7, 1, 19, 0, 22, 23, 22, 16, 19, 12, 9, 2, 8, 16, 19, 23, 17], \"y0\": \" \", \"yaxis\": \"y\"}],\n",
              "                        {\"boxmode\": \"group\", \"height\": 500, \"legend\": {\"tracegroupgap\": 0}, \"template\": {\"data\": {\"bar\": [{\"error_x\": {\"color\": \"#2a3f5f\"}, \"error_y\": {\"color\": \"#2a3f5f\"}, \"marker\": {\"line\": {\"color\": \"#E5ECF6\", \"width\": 0.5}}, \"type\": \"bar\"}], \"barpolar\": [{\"marker\": {\"line\": {\"color\": \"#E5ECF6\", \"width\": 0.5}}, \"type\": \"barpolar\"}], \"carpet\": [{\"aaxis\": {\"endlinecolor\": \"#2a3f5f\", \"gridcolor\": \"white\", \"linecolor\": \"white\", \"minorgridcolor\": \"white\", \"startlinecolor\": \"#2a3f5f\"}, \"baxis\": {\"endlinecolor\": \"#2a3f5f\", \"gridcolor\": \"white\", \"linecolor\": \"white\", \"minorgridcolor\": \"white\", \"startlinecolor\": \"#2a3f5f\"}, \"type\": \"carpet\"}], \"choropleth\": [{\"colorbar\": {\"outlinewidth\": 0, \"ticks\": \"\"}, \"type\": \"choropleth\"}], \"contour\": [{\"colorbar\": {\"outlinewidth\": 0, \"ticks\": \"\"}, \"colorscale\": [[0.0, \"#0d0887\"], [0.1111111111111111, \"#46039f\"], [0.2222222222222222, \"#7201a8\"], [0.3333333333333333, \"#9c179e\"], [0.4444444444444444, \"#bd3786\"], [0.5555555555555556, \"#d8576b\"], [0.6666666666666666, \"#ed7953\"], [0.7777777777777778, \"#fb9f3a\"], [0.8888888888888888, \"#fdca26\"], [1.0, \"#f0f921\"]], \"type\": \"contour\"}], \"contourcarpet\": [{\"colorbar\": {\"outlinewidth\": 0, \"ticks\": \"\"}, \"type\": \"contourcarpet\"}], \"heatmap\": [{\"colorbar\": {\"outlinewidth\": 0, \"ticks\": \"\"}, \"colorscale\": [[0.0, \"#0d0887\"], [0.1111111111111111, \"#46039f\"], [0.2222222222222222, \"#7201a8\"], [0.3333333333333333, \"#9c179e\"], [0.4444444444444444, \"#bd3786\"], [0.5555555555555556, \"#d8576b\"], [0.6666666666666666, \"#ed7953\"], [0.7777777777777778, \"#fb9f3a\"], [0.8888888888888888, \"#fdca26\"], [1.0, \"#f0f921\"]], \"type\": \"heatmap\"}], \"heatmapgl\": [{\"colorbar\": {\"outlinewidth\": 0, \"ticks\": \"\"}, \"colorscale\": [[0.0, \"#0d0887\"], [0.1111111111111111, \"#46039f\"], [0.2222222222222222, \"#7201a8\"], [0.3333333333333333, \"#9c179e\"], [0.4444444444444444, \"#bd3786\"], [0.5555555555555556, \"#d8576b\"], [0.6666666666666666, \"#ed7953\"], [0.7777777777777778, \"#fb9f3a\"], [0.8888888888888888, \"#fdca26\"], [1.0, \"#f0f921\"]], \"type\": \"heatmapgl\"}], \"histogram\": [{\"marker\": {\"colorbar\": {\"outlinewidth\": 0, \"ticks\": \"\"}}, \"type\": \"histogram\"}], \"histogram2d\": [{\"colorbar\": {\"outlinewidth\": 0, \"ticks\": \"\"}, \"colorscale\": [[0.0, \"#0d0887\"], [0.1111111111111111, \"#46039f\"], [0.2222222222222222, \"#7201a8\"], [0.3333333333333333, \"#9c179e\"], [0.4444444444444444, \"#bd3786\"], [0.5555555555555556, \"#d8576b\"], [0.6666666666666666, \"#ed7953\"], [0.7777777777777778, \"#fb9f3a\"], [0.8888888888888888, \"#fdca26\"], [1.0, \"#f0f921\"]], \"type\": \"histogram2d\"}], \"histogram2dcontour\": [{\"colorbar\": {\"outlinewidth\": 0, \"ticks\": \"\"}, \"colorscale\": [[0.0, \"#0d0887\"], [0.1111111111111111, \"#46039f\"], [0.2222222222222222, \"#7201a8\"], [0.3333333333333333, \"#9c179e\"], [0.4444444444444444, \"#bd3786\"], [0.5555555555555556, \"#d8576b\"], [0.6666666666666666, \"#ed7953\"], [0.7777777777777778, \"#fb9f3a\"], [0.8888888888888888, \"#fdca26\"], [1.0, \"#f0f921\"]], \"type\": \"histogram2dcontour\"}], \"mesh3d\": [{\"colorbar\": {\"outlinewidth\": 0, \"ticks\": \"\"}, \"type\": \"mesh3d\"}], \"parcoords\": [{\"line\": {\"colorbar\": {\"outlinewidth\": 0, \"ticks\": \"\"}}, \"type\": \"parcoords\"}], \"pie\": [{\"automargin\": true, \"type\": \"pie\"}], \"scatter\": [{\"marker\": {\"colorbar\": {\"outlinewidth\": 0, \"ticks\": \"\"}}, \"type\": \"scatter\"}], \"scatter3d\": [{\"line\": {\"colorbar\": {\"outlinewidth\": 0, \"ticks\": \"\"}}, \"marker\": {\"colorbar\": {\"outlinewidth\": 0, \"ticks\": \"\"}}, \"type\": \"scatter3d\"}], \"scattercarpet\": [{\"marker\": {\"colorbar\": {\"outlinewidth\": 0, \"ticks\": \"\"}}, \"type\": \"scattercarpet\"}], \"scattergeo\": [{\"marker\": {\"colorbar\": {\"outlinewidth\": 0, \"ticks\": \"\"}}, \"type\": \"scattergeo\"}], \"scattergl\": [{\"marker\": {\"colorbar\": {\"outlinewidth\": 0, \"ticks\": \"\"}}, \"type\": \"scattergl\"}], \"scattermapbox\": [{\"marker\": {\"colorbar\": {\"outlinewidth\": 0, \"ticks\": \"\"}}, \"type\": \"scattermapbox\"}], \"scatterpolar\": [{\"marker\": {\"colorbar\": {\"outlinewidth\": 0, \"ticks\": \"\"}}, \"type\": \"scatterpolar\"}], \"scatterpolargl\": [{\"marker\": {\"colorbar\": {\"outlinewidth\": 0, \"ticks\": \"\"}}, \"type\": \"scatterpolargl\"}], \"scatterternary\": [{\"marker\": {\"colorbar\": {\"outlinewidth\": 0, \"ticks\": \"\"}}, \"type\": \"scatterternary\"}], \"surface\": [{\"colorbar\": {\"outlinewidth\": 0, \"ticks\": \"\"}, \"colorscale\": [[0.0, \"#0d0887\"], [0.1111111111111111, \"#46039f\"], [0.2222222222222222, \"#7201a8\"], [0.3333333333333333, \"#9c179e\"], [0.4444444444444444, \"#bd3786\"], [0.5555555555555556, \"#d8576b\"], [0.6666666666666666, \"#ed7953\"], [0.7777777777777778, \"#fb9f3a\"], [0.8888888888888888, \"#fdca26\"], [1.0, \"#f0f921\"]], \"type\": \"surface\"}], \"table\": [{\"cells\": {\"fill\": {\"color\": \"#EBF0F8\"}, \"line\": {\"color\": \"white\"}}, \"header\": {\"fill\": {\"color\": \"#C8D4E3\"}, \"line\": {\"color\": \"white\"}}, \"type\": \"table\"}]}, \"layout\": {\"annotationdefaults\": {\"arrowcolor\": \"#2a3f5f\", \"arrowhead\": 0, \"arrowwidth\": 1}, \"coloraxis\": {\"colorbar\": {\"outlinewidth\": 0, \"ticks\": \"\"}}, \"colorscale\": {\"diverging\": [[0, \"#8e0152\"], [0.1, \"#c51b7d\"], [0.2, \"#de77ae\"], [0.3, \"#f1b6da\"], [0.4, \"#fde0ef\"], [0.5, \"#f7f7f7\"], [0.6, \"#e6f5d0\"], [0.7, \"#b8e186\"], [0.8, \"#7fbc41\"], [0.9, \"#4d9221\"], [1, \"#276419\"]], \"sequential\": [[0.0, \"#0d0887\"], [0.1111111111111111, \"#46039f\"], [0.2222222222222222, \"#7201a8\"], [0.3333333333333333, \"#9c179e\"], [0.4444444444444444, \"#bd3786\"], [0.5555555555555556, \"#d8576b\"], [0.6666666666666666, \"#ed7953\"], [0.7777777777777778, \"#fb9f3a\"], [0.8888888888888888, \"#fdca26\"], [1.0, \"#f0f921\"]], \"sequentialminus\": [[0.0, \"#0d0887\"], [0.1111111111111111, \"#46039f\"], [0.2222222222222222, \"#7201a8\"], [0.3333333333333333, \"#9c179e\"], [0.4444444444444444, \"#bd3786\"], [0.5555555555555556, \"#d8576b\"], [0.6666666666666666, \"#ed7953\"], [0.7777777777777778, \"#fb9f3a\"], [0.8888888888888888, \"#fdca26\"], [1.0, \"#f0f921\"]]}, \"colorway\": [\"#636efa\", \"#EF553B\", \"#00cc96\", \"#ab63fa\", \"#FFA15A\", \"#19d3f3\", \"#FF6692\", \"#B6E880\", \"#FF97FF\", \"#FECB52\"], \"font\": {\"color\": \"#2a3f5f\"}, \"geo\": {\"bgcolor\": \"white\", \"lakecolor\": \"white\", \"landcolor\": \"#E5ECF6\", \"showlakes\": true, \"showland\": true, \"subunitcolor\": \"white\"}, \"hoverlabel\": {\"align\": \"left\"}, \"hovermode\": \"closest\", \"mapbox\": {\"style\": \"light\"}, \"paper_bgcolor\": \"white\", \"plot_bgcolor\": \"#E5ECF6\", \"polar\": {\"angularaxis\": {\"gridcolor\": \"white\", \"linecolor\": \"white\", \"ticks\": \"\"}, \"bgcolor\": \"#E5ECF6\", \"radialaxis\": {\"gridcolor\": \"white\", \"linecolor\": \"white\", \"ticks\": \"\"}}, \"scene\": {\"xaxis\": {\"backgroundcolor\": \"#E5ECF6\", \"gridcolor\": \"white\", \"gridwidth\": 2, \"linecolor\": \"white\", \"showbackground\": true, \"ticks\": \"\", \"zerolinecolor\": \"white\"}, \"yaxis\": {\"backgroundcolor\": \"#E5ECF6\", \"gridcolor\": \"white\", \"gridwidth\": 2, \"linecolor\": \"white\", \"showbackground\": true, \"ticks\": \"\", \"zerolinecolor\": \"white\"}, \"zaxis\": {\"backgroundcolor\": \"#E5ECF6\", \"gridcolor\": \"white\", \"gridwidth\": 2, \"linecolor\": \"white\", \"showbackground\": true, \"ticks\": \"\", \"zerolinecolor\": \"white\"}}, \"shapedefaults\": {\"line\": {\"color\": \"#2a3f5f\"}}, \"ternary\": {\"aaxis\": {\"gridcolor\": \"white\", \"linecolor\": \"white\", \"ticks\": \"\"}, \"baxis\": {\"gridcolor\": \"white\", \"linecolor\": \"white\", \"ticks\": \"\"}, \"bgcolor\": \"#E5ECF6\", \"caxis\": {\"gridcolor\": \"white\", \"linecolor\": \"white\", \"ticks\": \"\"}}, \"title\": {\"x\": 0.05}, \"xaxis\": {\"automargin\": true, \"gridcolor\": \"white\", \"linecolor\": \"white\", \"ticks\": \"\", \"title\": {\"standoff\": 15}, \"zerolinecolor\": \"white\", \"zerolinewidth\": 2}, \"yaxis\": {\"automargin\": true, \"gridcolor\": \"white\", \"linecolor\": \"white\", \"ticks\": \"\", \"title\": {\"standoff\": 15}, \"zerolinecolor\": \"white\", \"zerolinewidth\": 2}}}, \"title\": {\"text\": \"Distribui\\u00e7\\u00e3o de crimes CVLI por hora do fato\"}, \"width\": 400, \"xaxis\": {\"anchor\": \"y\", \"domain\": [0.0, 1.0]}, \"yaxis\": {\"anchor\": \"x\", \"domain\": [0.0, 1.0], \"title\": {\"text\": \"horaFato\"}}},\n",
              "                        {\"responsive\": true}\n",
              "                    ).then(function(){\n",
              "                            \n",
              "var gd = document.getElementById('65e59418-3765-4779-b2bc-386c874f341d');\n",
              "var x = new MutationObserver(function (mutations, observer) {{\n",
              "        var display = window.getComputedStyle(gd).display;\n",
              "        if (!display || display === 'none') {{\n",
              "            console.log([gd, 'removed!']);\n",
              "            Plotly.purge(gd);\n",
              "            observer.disconnect();\n",
              "        }}\n",
              "}});\n",
              "\n",
              "// Listen for the removal of the full notebook cells\n",
              "var notebookContainer = gd.closest('#notebook-container');\n",
              "if (notebookContainer) {{\n",
              "    x.observe(notebookContainer, {childList: true});\n",
              "}}\n",
              "\n",
              "// Listen for the clearing of the current output cell\n",
              "var outputEl = gd.closest('.output');\n",
              "if (outputEl) {{\n",
              "    x.observe(outputEl, {childList: true});\n",
              "}}\n",
              "\n",
              "                        })\n",
              "                };\n",
              "                \n",
              "            </script>\n",
              "        </div>\n",
              "</body>\n",
              "</html>"
            ]
          },
          "metadata": {}
        }
      ]
    },
    {
      "cell_type": "code",
      "metadata": {
        "colab": {
          "base_uri": "https://localhost:8080/",
          "height": 517
        },
        "id": "GxH2l1IfmZFr",
        "outputId": "2b696bd7-58f5-4421-ceb2-3d87b839b08d"
      },
      "source": [
        "fig = px.box(df,y=\"horaFato\", points=\"all\",title=\"Distribuição dos dados x histograma horaFato\",width=700,height=500)\n",
        "fig.show()"
      ],
      "execution_count": null,
      "outputs": [
        {
          "output_type": "display_data",
          "data": {
            "text/html": [
              "<html>\n",
              "<head><meta charset=\"utf-8\" /></head>\n",
              "<body>\n",
              "    <div>\n",
              "            <script src=\"https://cdnjs.cloudflare.com/ajax/libs/mathjax/2.7.5/MathJax.js?config=TeX-AMS-MML_SVG\"></script><script type=\"text/javascript\">if (window.MathJax) {MathJax.Hub.Config({SVG: {font: \"STIX-Web\"}});}</script>\n",
              "                <script type=\"text/javascript\">window.PlotlyConfig = {MathJaxConfig: 'local'};</script>\n",
              "        <script src=\"https://cdn.plot.ly/plotly-latest.min.js\"></script>    \n",
              "            <div id=\"55ccebda-084b-4a0a-84c4-c0142466b9cd\" class=\"plotly-graph-div\" style=\"height:500px; width:700px;\"></div>\n",
              "            <script type=\"text/javascript\">\n",
              "                \n",
              "                    window.PLOTLYENV=window.PLOTLYENV || {};\n",
              "                    \n",
              "                if (document.getElementById(\"55ccebda-084b-4a0a-84c4-c0142466b9cd\")) {\n",
              "                    Plotly.newPlot(\n",
              "                        '55ccebda-084b-4a0a-84c4-c0142466b9cd',\n",
              "                        [{\"alignmentgroup\": \"True\", \"boxpoints\": \"all\", \"hoverlabel\": {\"namelength\": 0}, \"hovertemplate\": \"horaFato=%{y}\", \"legendgroup\": \"\", \"marker\": {\"color\": \"#636efa\"}, \"name\": \"\", \"notched\": false, \"offsetgroup\": \"\", \"orientation\": \"v\", \"showlegend\": false, \"type\": \"box\", \"x0\": \" \", \"xaxis\": \"x\", \"y\": [18, 19, 18, 2, 0, 21, 20, 20, 22, 0, 0, 14, 1, 3, 4, 9, 13, 19, 18, 19, 19, 19, 19, 20, 21, 21, 21, 20, 21, 21, 22, 22, 22, 23, 1, 5, 6, 11, 12, 12, 15, 19, 21, 21, 20, 21, 20, 20, 22, 23, 0, 1, 1, 0, 1, 1, 0, 1, 0, 0, 2, 3, 4, 5, 6, 7, 6, 8, 8, 11, 10, 11, 11, 13, 13, 13, 15, 14, 14, 16, 16, 19, 19, 19, 18, 19, 19, 19, 19, 19, 18, 19, 19, 20, 20, 20, 20, 20, 20, 22, 22, 23, 23, 22, 22, 23, 22, 17, 20, 1, 12, 18, 19, 21, 21, 22, 17, 20, 21, 21, 2, 18, 4, 11, 11, 17, 16, 14, 13, 13, 17, 22, 11, 4, 5, 23, 1, 2, 11, 19, 23, 20, 1, 19, 7, 6, 7, 8, 8, 9, 10, 11, 11, 11, 12, 16, 16, 19, 20, 12, 23, 19, 10, 7, 3, 8, 1, 17, 23, 1, 4, 7, 9, 10, 13, 13, 12, 16, 17, 16, 17, 19, 19, 22, 23, 11, 1, 4, 4, 4, 7, 7, 7, 7, 11, 12, 15, 19, 18, 18, 20, 21, 21, 21, 10, 10, 18, 18, 21, 22, 8, 17, 5, 17, 4, 6, 12, 18, 1, 16, 2, 23, 3, 17, 17, 2, 18, 20, 5, 11, 10, 2, 2, 2, 18, 2, 11, 17, 17, 3, 4, 4, 9, 18, 20, 23, 3, 10, 12, 2, 17, 22, 1, 1, 2, 16, 22, 16, 20, 1, 1, 20, 5, 15, 17, 19, 5, 11, 2, 8, 12, 23, 23, 23, 7, 0, 1, 1, 0, 0, 1, 1, 1, 0, 3, 3, 2, 2, 2, 5, 5, 4, 9, 10, 13, 12, 12, 13, 12, 13, 14, 17, 17, 17, 16, 19, 19, 19, 18, 19, 19, 19, 19, 18, 18, 21, 20, 23, 22, 23, 22, 22, 6, 7, 15, 21, 14, 11, 5, 7, 17, 20, 23, 1, 7, 9, 11, 18, 18, 23, 20, 13, 13, 13, 20, 2, 10, 16, 17, 18, 19, 21, 21, 21, 6, 9, 9, 10, 13, 17, 19, 19, 19, 19, 18, 1, 0, 0, 2, 3, 2, 2, 4, 6, 6, 9, 10, 11, 10, 11, 11, 13, 13, 12, 12, 14, 14, 15, 14, 14, 17, 16, 17, 18, 19, 19, 19, 18, 20, 20, 21, 21, 21, 21, 23, 23, 22, 23, 23, 23, 22, 23, 22, 22, 22, 23, 15, 17, 3, 19, 22, 17, 0, 10, 22, 2, 21, 1, 3, 3, 4, 7, 8, 13, 12, 21, 22, 0, 2, 5, 5, 5, 14, 16, 19, 21, 20, 20, 20, 21, 3, 16, 20, 3, 2, 7, 6, 18, 21, 15, 3, 17, 10, 13, 4, 20, 19, 0, 3, 2, 11, 10, 13, 13, 23, 22, 22, 22, 13, 1, 1, 3, 4, 4, 16, 17, 18, 19, 20, 23, 23, 3, 4, 19, 19, 23, 5, 3, 6, 17, 1, 3, 3, 11, 12, 18, 18, 20, 21, 21, 21, 20, 22, 22, 22, 1, 6, 21, 22, 23, 1, 5, 4, 11, 11, 11, 16, 19, 19, 23, 3, 4, 4, 9, 10, 16, 19, 20, 23, 10, 13, 1, 3, 5, 15, 15, 16, 16, 17, 17, 19, 19, 18, 21, 20, 20, 20, 20, 19, 18, 2, 23, 1, 2, 5, 13, 19, 20, 23, 22, 22, 23, 9, 17, 22, 1, 1, 2, 5, 4, 4, 7, 9, 13, 21, 21, 20, 20, 23, 23, 11, 14, 14, 22, 22, 3, 4, 11, 11, 13, 14, 14, 21, 22, 22, 22, 23, 3, 5, 5, 0, 0, 3, 2, 5, 4, 9, 11, 12, 15, 14, 17, 17, 19, 18, 20, 20, 20, 20, 20, 20, 20, 23, 23, 23, 22, 22, 22, 23, 21, 3, 1, 2, 2, 4, 14, 16, 16, 17, 18, 20, 21, 23, 23, 23, 4, 11, 11, 10, 11, 13, 14, 14, 19, 20, 3, 14, 3, 3, 9, 9, 16, 2, 1, 2, 2, 14, 14, 21, 11, 2, 18, 1, 2, 3, 5, 8, 14, 17, 23, 18, 19, 1, 7, 15, 20, 21, 23, 19, 1, 3, 11, 16, 7, 18, 1, 20, 15, 21, 20, 1, 2, 2, 5, 8, 11, 19, 5, 11, 15, 17, 3, 11, 17, 19, 20, 22, 14, 8, 14, 14, 17, 19, 22, 2, 5, 0, 1, 0, 2, 3, 6, 9, 8, 16, 16, 16, 16, 23, 23, 1, 11, 13, 18, 22, 3, 2, 2, 4, 7, 8, 11, 16, 19, 21, 21, 20, 21, 23, 3, 4, 0, 12, 16, 19, 23, 0, 3, 3, 3, 7, 9, 11, 14, 14, 21, 21, 21, 21, 23, 23, 0, 1, 5, 8, 8, 10, 12, 14, 14, 14, 16, 18, 18, 22, 23, 23, 9, 1, 7, 8, 9, 8, 8, 8, 9, 8, 8, 8, 10, 11, 13, 21, 1, 14, 16, 4, 10, 21, 12, 18, 18, 18, 4, 4, 9, 22, 1, 0, 0, 1, 1, 1, 1, 3, 2, 3, 2, 3, 3, 5, 4, 5, 4, 5, 5, 4, 6, 6, 7, 7, 6, 6, 9, 8, 9, 8, 8, 8, 9, 9, 8, 8, 8, 8, 11, 11, 11, 11, 11, 10, 10, 13, 14, 14, 15, 16, 17, 17, 16, 17, 17, 16, 16, 16, 16, 16, 17, 17, 19, 19, 18, 19, 19, 21, 20, 21, 20, 20, 21, 21, 21, 21, 20, 20, 20, 21, 22, 22, 22, 22, 23, 22, 23, 23, 22, 23, 23, 22, 23, 22, 22, 22, 23, 23, 13, 15, 15, 7, 0, 3, 6, 10, 10, 10, 10, 18, 22, 1, 1, 1, 1, 2, 8, 9, 11, 11, 17, 19, 0, 3, 6, 0, 0, 0, 0, 3, 12, 15, 17, 17, 19, 21, 20, 20, 1, 4, 6, 8, 17, 19, 18, 18, 20, 22, 1, 13, 12, 20, 6, 21, 0, 2, 4, 4, 8, 13, 13, 15, 15, 17, 19, 19, 20, 22, 22, 23, 22, 20, 23, 18, 18, 20, 22, 4, 4, 8, 18, 22, 23, 23, 18, 0, 2, 2, 7, 7, 10, 18, 23, 20, 20, 23, 23, 1, 1, 2, 2, 2, 2, 5, 8, 10, 20, 3, 6, 7, 8, 19, 23, 1, 5, 7, 7, 6, 10, 10, 14, 14, 18, 18, 19, 23, 20, 21, 0, 1, 0, 2, 4, 8, 13, 14, 16, 17, 17, 19, 21, 21, 22, 4, 6, 8, 20, 20, 7, 10, 4, 18, 23, 0, 3, 5, 11, 13, 12, 19, 19, 20, 20, 21, 20, 23, 23, 3, 12, 12, 16, 1, 1, 17, 23, 23, 23, 7, 4, 1, 3, 3, 2, 6, 6, 9, 9, 8, 10, 10, 10, 15, 14, 15, 16, 17, 19, 18, 22, 23, 23, 0, 1, 4, 10, 18, 21, 20, 3, 3, 4, 19, 22, 2, 15, 17, 17, 18, 19, 19, 21, 20, 23, 4, 8, 10, 15, 15, 19, 19, 21, 21, 23, 22, 22, 4, 6, 6, 13, 13, 13, 19, 22, 5, 4, 7, 7, 8, 11, 11, 13, 14, 15, 15, 14, 18, 19, 18, 19, 21, 20, 20, 22, 23, 22, 0, 2, 21, 21, 20, 23, 23, 1, 22, 1, 1, 1, 2, 2, 2, 4, 4, 4, 9, 17, 16, 2, 6, 8, 9, 9, 13, 12, 12, 15, 14, 19, 19, 19, 20, 23, 22, 1, 5, 12, 20, 0, 0, 9, 1, 7, 1, 22, 0, 3, 3, 7, 11, 10, 12, 12, 14, 14, 14, 16, 19, 19, 19, 21, 20, 20, 22, 22, 14, 17, 20, 23, 2, 6, 17, 17, 17, 16, 17, 20, 22, 19, 1, 2, 3, 2, 9, 10, 15, 15, 20, 23, 23, 22, 0, 1, 0, 3, 3, 4, 4, 6, 6, 9, 13, 17, 17, 18, 18, 19, 21, 21, 21, 21, 22, 22, 22, 0, 4, 9, 10, 10, 14, 19, 19, 10, 23, 0, 0, 1, 2, 5, 6, 9, 11, 12, 12, 12, 15, 15, 14, 14, 14, 15, 15, 15, 16, 16, 17, 19, 18, 19, 19, 19, 20, 21, 21, 21, 20, 20, 21, 20, 23, 22, 22, 23, 23, 23, 22, 23, 22, 22, 22, 22, 16, 4, 4, 9, 19, 20, 22, 23, 10, 10, 13, 2, 2, 4, 4, 7, 11, 11, 10, 18, 23, 23, 18, 10, 14, 16, 22, 22, 0, 0, 0, 2, 2, 3, 2, 3, 6, 7, 7, 9, 11, 13, 12, 12, 17, 19, 20, 20, 22, 23, 22, 3, 5, 6, 10, 15, 17, 17, 19, 18, 18, 18, 20, 21, 20, 21, 23, 22, 2, 0, 3, 4, 5, 9, 15, 16, 17, 19, 19, 18, 19, 20, 21, 21, 21, 23, 22, 3, 3, 18, 1, 0, 0, 1, 3, 3, 7, 10, 12, 13, 14, 17, 17, 16, 17, 18, 18, 19, 19, 18, 19, 19, 21, 21, 20, 20, 20, 20, 22, 0, 5, 8, 8, 11, 12, 12, 14, 19, 19, 20, 23, 22, 6, 7, 8, 14, 21, 1, 0, 1, 4, 12, 14, 14, 22, 5, 21, 11, 14, 19, 6, 8, 8, 0, 2, 3, 5, 6, 7, 11, 13, 13, 14, 14, 16, 17, 16, 19, 18, 20, 20, 21, 22, 23, 23, 22, 22, 23, 17, 1, 1, 1, 0, 3, 3, 5, 7, 11, 11, 14, 16, 17, 16, 19, 18, 20, 21, 21, 21, 20, 20, 20, 21, 23, 23, 1, 6, 11, 14, 15, 19, 20, 21, 21, 20, 22, 3, 2, 10, 19, 0, 13, 17, 19, 21, 20, 22, 22, 8, 18, 0, 4, 7, 8, 21, 6, 0, 3, 15, 21, 20, 22, 1, 0, 2, 5, 4, 4, 15, 21, 1, 6, 12, 14, 14, 17, 18, 20, 23, 23, 3, 3, 3, 4, 7, 11, 12, 15, 17, 17, 18, 18, 19, 18, 19, 20, 21, 20, 22, 23, 23, 23, 0, 3, 5, 9, 12, 23, 2, 13, 23, 23, 21, 1, 0, 0, 1, 2, 3, 4, 5, 5, 6, 7, 7, 9, 9, 11, 12, 12, 17, 18, 20, 21, 20, 21, 20, 23, 19, 18, 6, 17, 21, 0, 2, 8, 10, 17, 17, 18, 19, 19, 18, 18, 21, 22, 22, 22, 20, 1, 2, 21, 2, 5, 9, 18, 22, 20, 21, 22, 20, 3, 15, 23, 23, 19, 9, 10, 16, 23, 23, 13, 17, 9, 21, 17, 11, 3, 1, 1, 0, 6, 18, 21, 23, 8, 0, 20, 6, 19, 19, 21, 22, 3, 5, 1, 0, 0, 1, 0, 1, 1, 0, 2, 2, 2, 2, 3, 4, 4, 5, 11, 11, 13, 13, 13, 12, 12, 12, 14, 14, 17, 17, 16, 16, 16, 17, 16, 16, 17, 17, 17, 16, 16, 16, 17, 17, 17, 19, 19, 18, 18, 18, 18, 19, 18, 18, 18, 19, 19, 18, 18, 20, 21, 21, 20, 21, 21, 20, 21, 21, 20, 20, 20, 21, 20, 20, 20, 20, 20, 22, 22, 22, 23, 23, 0, 0, 2, 4, 4, 4, 5, 8, 11, 12, 17, 19, 20, 20, 21, 21, 20, 22, 23, 3, 3, 6, 12, 18, 22, 23, 22, 1, 0, 0, 0, 1, 0, 1, 2, 3, 4, 6, 6, 7, 8, 10, 11, 10, 10, 11, 12, 12, 12, 13, 12, 12, 12, 12, 12, 15, 14, 15, 15, 16, 16, 17, 17, 16, 17, 18, 18, 19, 19, 19, 19, 18, 18, 21, 20, 20, 20, 21, 20, 21, 20, 21, 20, 23, 22, 22, 22, 22, 23, 22, 22, 21, 0, 2, 11, 10, 17, 19, 23, 7, 7, 9, 11, 12, 18, 19, 21, 9, 12, 14, 14, 16, 23, 4, 5, 8, 8, 10, 14, 16, 18, 18, 19, 18, 0, 3, 2, 6, 10, 15, 18, 15, 19, 3, 12, 0, 1, 4, 4, 6, 6, 11, 10, 12, 13, 12, 15, 15, 15, 16, 16, 16, 18, 21, 21, 20, 20, 20, 22, 22, 23, 18, 0, 4, 6, 6, 10, 10, 12, 15, 14, 14, 14, 16, 16, 19, 19, 19, 19, 19, 19, 21, 20, 20, 23, 22, 4, 8, 9, 11, 22, 22, 22, 3, 9, 19, 3, 2, 8, 15, 23, 23, 0, 11, 17, 21, 20, 4, 4, 6, 8, 2, 22, 22, 22, 16, 19, 22, 19, 21, 23, 2, 5, 19, 1, 4, 7, 6, 9, 1, 1, 0, 0, 1, 0, 2, 5, 4, 6, 6, 9, 11, 10, 10, 11, 11, 13, 12, 13, 15, 14, 14, 17, 16, 17, 16, 18, 19, 19, 19, 19, 19, 19, 21, 21, 21, 20, 21, 21, 20, 20, 21, 20, 21, 21, 22, 23, 22, 23, 22, 22, 22, 22, 4, 4, 0, 1, 20, 23, 0, 1, 5, 5, 11, 19, 23, 23, 23, 0, 16, 11, 16, 1, 0, 2, 5, 4, 4, 4, 4, 6, 13, 19, 21, 21, 23, 23, 23, 22, 21, 0, 4, 21, 19, 1, 3, 2, 6, 13, 15, 17, 17, 16, 19, 19, 18, 19, 21, 20, 22, 22, 23, 22, 22, 23, 19, 10, 10, 12, 15, 17, 17, 19, 19, 19, 19, 19, 21, 21, 21, 20, 21, 23, 22, 22, 23, 15, 22, 8, 13, 13, 14, 19, 22, 22, 0, 2, 4, 9, 8, 13, 13, 18, 0, 0, 2, 5, 13, 14, 14, 15, 16, 18, 20, 21, 21, 21, 22, 22, 22, 22, 3, 1, 0, 0, 0, 1, 0, 1, 1, 2, 2, 2, 5, 11, 11, 11, 11, 15, 15, 14, 17, 17, 17, 17, 19, 19, 19, 19, 19, 18, 18, 19, 19, 18, 20, 21, 20, 21, 20, 22, 22, 22, 23, 23, 23, 12, 19, 21, 22, 22, 1, 1, 2, 7, 7, 10, 11, 12, 12, 15, 15, 19, 18, 19, 19, 21, 21, 21, 21, 21, 23, 23, 0, 1, 1, 1, 0, 0, 2, 2, 2, 5, 4, 7, 7, 6, 6, 9, 8, 10, 10, 11, 12, 13, 15, 14, 15, 14, 15, 16, 17, 17, 17, 17, 16, 17, 19, 18, 18, 18, 19, 19, 19, 19, 19, 21, 21, 21, 21, 21, 20, 21, 20, 21, 21, 20, 20, 21, 21, 20, 21, 21, 20, 21, 22, 22, 23, 22, 22, 22, 7, 7, 20, 2, 4, 14, 21, 21, 23, 22, 10, 0, 0, 3, 7, 7, 7, 7, 9, 9, 8, 12, 12, 12, 15, 15, 16, 17, 18, 19, 18, 19, 18, 18, 20, 21, 20, 21, 20, 22, 22, 22, 23, 5, 21, 22, 5, 11, 10, 14, 14, 18, 23, 2, 23, 23, 17, 21, 22, 2, 2, 3, 9, 22, 7, 23, 23, 11, 11, 17, 11, 21, 5, 6, 1, 2, 16, 21, 18, 1, 1, 1, 0, 1, 1, 1, 1, 2, 3, 2, 2, 3, 3, 3, 3, 3, 3, 5, 5, 5, 5, 7, 6, 7, 7, 7, 8, 8, 8, 8, 8, 8, 10, 11, 11, 11, 10, 10, 12, 13, 13, 16, 17, 16, 16, 16, 19, 18, 18, 19, 19, 20, 21, 20, 20, 20, 20, 21, 20, 23, 22, 22, 22, 22, 22, 23, 22, 23, 23, 1, 5, 12, 17, 22, 23, 1, 4, 10, 10, 21, 22, 15, 0, 13, 14, 3, 7, 9, 4, 4, 14, 20, 5, 13, 15, 0, 17, 7, 19, 5, 9, 22, 4, 7, 8, 11, 12, 21, 20, 22, 3, 3, 7, 21, 18, 3, 3, 4, 17, 11, 13, 15, 18, 19, 16, 1, 3, 4, 15, 18, 18, 21, 22, 22, 2, 2, 2, 11, 13, 19, 21, 21, 20, 20, 4, 9, 10, 12, 20, 23, 23, 0, 4, 5, 11, 11, 10, 12, 18, 22, 22, 23, 10, 8, 1, 20, 0, 19, 10, 6, 13, 20, 4, 10, 8, 19, 19, 19, 19, 20, 22, 22, 0, 7, 9, 9, 10, 12, 14, 14, 15, 14, 17, 17, 19, 19, 19, 19, 19, 19, 20, 23, 4, 4, 1, 2, 2, 5, 9, 11, 13, 12, 15, 17, 16, 17, 17, 19, 19, 20, 20, 21, 20, 22, 23, 23, 20, 20, 1, 0, 0, 1, 1, 0, 3, 3, 2, 11, 11, 11, 13, 15, 15, 17, 17, 19, 18, 18, 21, 21, 21, 21, 21, 21, 23, 23, 22, 22, 22, 23, 22, 22, 22, 22, 23, 4, 16, 21, 12, 18, 15, 2, 16, 9, 15, 0, 7, 12, 20, 3, 13, 19, 21, 3, 3, 3, 17, 18, 23, 19, 3, 16, 20, 14, 2, 0, 2, 7, 8, 10, 12, 13, 15, 15, 17, 16, 17, 19, 19, 19, 19, 19, 19, 20, 20, 20, 20, 21, 21, 21, 21, 23, 23, 23, 23, 22, 22, 22, 13, 1, 2, 20, 9, 18, 20, 11, 7, 19, 0, 2, 3, 5, 5, 5, 5, 7, 9, 10, 14, 15, 16, 17, 17, 18, 19, 19, 20, 20, 20, 23, 22, 3, 20, 19, 4, 2, 5, 20, 0, 0, 2, 16, 18, 21, 22, 15, 18, 3, 9, 8, 15, 14, 17, 19, 20, 20, 23, 11, 0, 13, 15, 19, 1, 0, 1, 1, 10, 10, 12, 16, 16, 19, 18, 23, 11, 12, 23, 5, 11, 12, 15, 16, 17, 16, 16, 17, 17, 18, 19, 19, 18, 21, 20, 20, 20, 20, 21, 20, 21, 20, 21, 22, 23, 23, 23, 23, 23, 23, 23, 22, 22, 23, 3, 5, 22, 3, 17, 19, 20, 20, 3, 8, 9, 22, 5, 4, 5, 9, 14, 19, 20, 21, 22, 23, 1, 3, 5, 23, 3, 7, 9, 12, 21, 2, 23, 23, 3, 4, 6, 6, 9, 15, 21, 23, 1, 1, 4, 10, 19, 20, 20, 14, 22, 23, 13, 18, 19, 1, 3, 7, 21, 23, 23, 23, 1, 1, 21, 3, 18, 7, 11, 14, 15, 0, 23, 10, 11, 10, 3, 5, 11, 10, 16, 21, 20, 22, 18, 12, 18, 21, 23, 21, 22, 12, 22, 3, 19, 21, 4, 6, 16, 11, 13, 12, 14, 20, 0, 0, 3, 3, 5, 8, 15, 15, 17, 17, 17, 19, 19, 19, 19, 21, 20, 20, 22, 22, 23, 1, 21, 21, 22, 1, 4, 9, 17, 22, 3, 10, 1, 19, 16, 17, 17, 19, 21, 1, 22, 20, 23, 10, 13, 22, 16, 7, 2, 0, 1, 1, 1, 1, 2, 2, 2, 4, 5, 4, 7, 6, 6, 11, 11, 11, 11, 10, 10, 12, 12, 12, 12, 15, 15, 14, 15, 16, 16, 17, 17, 16, 17, 17, 19, 18, 19, 19, 18, 18, 18, 18, 19, 18, 19, 20, 21, 20, 21, 20, 20, 21, 21, 21, 21, 22, 22, 23, 22, 23, 22, 23, 22, 23, 23, 2, 13, 11, 22, 0, 0, 0, 2, 3, 3, 5, 8, 9, 10, 10, 12, 13, 15, 16, 16, 16, 16, 19, 18, 21, 20, 20, 21, 21, 21, 23, 22, 22, 22, 23, 23, 1, 1, 3, 2, 3, 8, 8, 12, 19, 19, 19, 19, 21, 21, 21, 21, 21, 21, 22, 23, 23, 3, 22, 23, 22, 1, 0, 0, 3, 5, 7, 7, 10, 11, 11, 15, 15, 17, 17, 16, 16, 19, 19, 21, 21, 21, 20, 20, 23, 22, 21, 23, 18, 21, 15, 17, 22, 22, 1, 4, 5, 1, 14, 20, 9, 18, 1, 1, 4, 15, 23, 5, 4, 19, 21, 20, 15, 2, 15, 19, 23, 16, 20, 8, 1, 5, 10, 14, 17, 19, 22, 23, 9, 12, 15, 15, 0, 0, 0, 0, 2, 2, 2, 4, 4, 5, 4, 7, 7, 7, 8, 13, 13, 15, 16, 16, 18, 19, 21, 21, 22, 22, 23, 23, 20, 16, 16, 23, 1, 3, 3, 8, 12, 8, 10, 21, 10, 21, 0, 14, 17, 19, 22, 22, 22, 11, 12, 23, 4, 17, 2, 17, 22, 6, 14, 19, 7, 1, 7, 23, 12, 22, 16, 18, 20, 21, 4, 15, 17, 18, 19, 19, 23, 23, 23, 17, 9, 16, 17, 17, 21, 3, 4, 12, 17, 14, 1, 6, 8, 11, 11, 11, 12, 14, 14, 20, 15, 14, 22, 23, 3, 14, 18, 20, 11, 6, 11, 10, 13, 16, 21, 22, 1, 3, 5, 12, 18, 19, 0, 8, 11, 11, 17, 17, 17, 19, 20, 22, 3, 3, 3, 3, 13, 15, 15, 16, 17, 21, 23, 7, 6, 9, 9, 10, 19, 3, 9, 21, 21, 2, 6, 17, 19, 0, 3, 8, 8, 8, 15, 17, 19, 21, 20, 23, 23, 23, 23, 22, 22, 9, 22, 9, 9, 8, 8, 8, 9, 8, 8, 11, 10, 11, 12, 13, 15, 14, 17, 17, 17, 17, 16, 16, 20, 22, 2, 19, 18, 22, 6, 16, 18, 20, 1, 1, 1, 3, 13, 14, 17, 18, 21, 20, 20, 21, 21, 23, 0, 3, 3, 5, 6, 6, 9, 8, 18, 18, 18, 20, 23, 23, 7, 10, 18, 0, 8, 15, 16, 16, 22, 3, 5, 13, 6, 9, 18, 8, 9, 12, 17, 7, 7, 8, 8, 8, 8, 10, 10, 13, 13, 15, 15, 17, 17, 17, 16, 18, 19, 19, 18, 19, 21, 20, 20, 22, 22, 22, 0, 8, 14, 23, 23, 0, 3, 3, 5, 4, 7, 7, 10, 10, 15, 15, 17, 18, 18, 18, 19, 18, 19, 20, 9, 9, 13, 21, 20, 7, 22, 3, 11, 0, 3, 2, 2, 4, 6, 8, 13, 14, 14, 16, 16, 19, 19, 19, 19, 18, 18, 22, 18, 19, 19, 18, 3, 4, 10, 10, 10, 14, 18, 21, 21, 21, 23, 22, 12, 17, 23, 15, 16, 7, 7, 10, 19, 19, 1, 0, 2, 2, 2, 5, 5, 5, 5, 6, 8, 9, 9, 9, 11, 11, 13, 13, 13, 13, 12, 15, 14, 15, 16, 16, 17, 18, 21, 21, 23, 23, 23, 18, 0, 12, 1, 1, 15, 19, 22, 22, 21, 21, 15, 20, 17, 23, 0, 4, 20, 20, 19, 19, 20, 11, 19, 6, 13, 6, 20, 1, 4, 5, 23, 23, 23, 1, 2, 6, 4, 6, 14, 14, 7, 10, 23, 1, 20, 11, 5, 6, 7, 8, 21, 9, 16, 20, 5, 5, 9, 23, 2, 16, 20, 11, 10, 20, 20, 20, 19, 4, 1, 9, 4, 22, 1, 1, 10, 19, 19, 20, 2, 3, 23, 0, 0, 3, 1, 3, 20, 5, 10, 11, 4, 6, 9, 11, 12, 21, 0, 6, 15, 20, 21, 20, 4, 20, 12, 12, 13, 17, 8, 20, 0, 20, 19, 20, 19, 20, 23, 22, 6, 23, 15, 0, 3, 20, 16, 8, 19, 21, 7, 21, 21, 21, 21, 18, 22, 2, 7, 13, 19, 21, 21, 18, 20, 22, 12, 0, 19, 5, 17, 22, 23, 11, 4, 21, 21, 12, 19, 3, 23, 22, 20, 2, 10, 16, 18, 20, 23, 23, 23, 11, 13, 12, 1, 22, 8, 21, 22, 22, 10, 5, 6, 6, 2, 10, 12, 3, 5, 9, 18, 0, 11, 22, 17, 17, 22, 16, 18, 8, 16, 20, 20, 23, 4, 2, 12, 23, 1, 10, 19, 15, 22, 23, 2, 11, 1, 1, 12, 12, 15, 16, 6, 21, 10, 14, 17, 15, 0, 17, 12, 4, 22, 19, 10, 14, 17, 17, 22, 10, 23, 10, 21, 9, 7, 17, 10, 21, 21, 1, 2, 17, 23, 15, 3, 0, 1, 19, 12, 19, 23, 0, 7, 10, 22, 8, 15, 22, 10, 9, 8, 21, 12, 15, 0, 11, 0, 12, 5, 8, 22, 21, 20, 1, 21, 19, 6, 21, 6, 2, 14, 21, 7, 16, 17, 3, 2, 3, 22, 10, 23, 21, 1, 17, 10, 17, 12, 22, 8, 18, 22, 20, 7, 0, 21, 22, 23, 9, 14, 23, 21, 23, 17, 20, 10, 13, 3, 11, 16, 7, 20, 22, 19, 18, 8, 23, 7, 16, 5, 1, 23, 23, 16, 22, 7, 11, 2, 19, 23, 22, 14, 10, 22, 19, 4, 6, 16, 15, 13, 15, 19, 12, 20, 7, 12, 7, 0, 5, 0, 3, 11, 21, 8, 17, 20, 11, 16, 11, 8, 6, 21, 6, 18, 12, 12, 2, 18, 18, 11, 18, 3, 10, 12, 20, 22, 9, 11, 2, 17, 4, 17, 12, 17, 2, 5, 23, 6, 15, 10, 21, 16, 16, 19, 19, 19, 12, 15, 12, 17, 18, 22, 20, 15, 18, 22, 22, 7, 9, 4, 12, 11, 22, 15, 15, 19, 6, 1, 22, 8, 18, 21, 19, 8, 22, 22, 21, 21, 21, 23, 19, 2, 17, 20, 22, 17, 4, 21, 19, 21, 2, 11, 14, 11, 11, 13, 16, 17, 22, 19, 17, 23, 4, 0, 9, 21, 9, 12, 6, 15, 22, 23, 14, 12, 21, 17, 1, 1, 12, 21, 11, 9, 11, 22, 21, 6, 9, 2, 22, 11, 15, 0, 7, 2, 2, 20, 21, 0, 0, 7, 16, 4, 1, 20, 12, 7, 3, 4, 20, 5, 11, 22, 2, 22, 16, 21, 22, 1, 23, 0, 16, 20, 20, 2, 16, 0, 11, 21, 8, 4, 12, 16, 3, 20, 4, 22, 5, 20, 19, 14, 21, 21, 22, 10, 10, 23, 14, 1, 18, 21, 21, 22, 20, 20, 13, 16, 21, 20, 4, 6, 3, 20, 23, 14, 4, 22, 21, 15, 13, 20, 21, 17, 4, 19, 0, 21, 7, 2, 17, 21, 0, 17, 1, 17, 13, 10, 20, 1, 2, 21, 17, 17, 23, 1, 12, 16, 20, 2, 8, 12, 13, 19, 6, 20, 10, 13, 1, 5, 20, 14, 5, 22, 0, 1, 23, 5, 15, 12, 2, 19, 11, 0, 20, 12, 4, 15, 18, 14, 3, 23, 9, 13, 12, 2, 1, 0, 11, 20, 12, 17, 14, 17, 5, 21, 20, 0, 1, 16, 0, 4, 22, 23, 20, 22, 16, 16, 8, 6, 4, 0, 7, 21, 22, 10, 19, 15, 20, 22, 1, 15, 7, 19, 21, 18, 22, 20, 16, 21, 14, 21, 6, 22, 2, 18, 10, 4, 19, 20, 4, 13, 10, 21, 4, 15, 2, 1, 22, 0, 2, 0, 8, 20, 14, 14, 14, 15, 17, 19, 3, 8, 22, 11, 20, 2, 0, 19, 16, 22, 7, 19, 10, 8, 1, 22, 10, 8, 7, 22, 21, 9, 21, 14, 18, 13, 1, 20, 22, 15, 7, 10, 15, 0, 22, 19, 20, 6, 21, 19, 23, 21, 13, 20, 8, 23, 2, 1, 19, 16, 0, 1, 22, 21, 8, 13, 0, 23, 22, 22, 17, 0, 19, 19, 6, 19, 14, 2, 4, 7, 8, 2, 20, 3, 7, 1, 18, 18, 12, 17, 10, 21, 0, 17, 21, 21, 19, 17, 21, 19, 14, 7, 23, 2, 23, 13, 20, 20, 10, 19, 23, 8, 11, 0, 21, 19, 20, 23, 19, 1, 21, 6, 21, 3, 17, 1, 20, 1, 7, 6, 18, 17, 19, 22, 23, 10, 16, 17, 23, 22, 12, 18, 1, 20, 22, 0, 8, 23, 20, 17, 20, 1, 23, 16, 12, 16, 3, 19, 1, 9, 20, 20, 3, 23, 22, 10, 20, 17, 19, 6, 2, 20, 20, 22, 18, 20, 9, 14, 23, 13, 23, 9, 23, 19, 15, 21, 15, 18, 4, 1, 7, 0, 16, 19, 7, 16, 10, 20, 19, 17, 8, 10, 2, 14, 9, 8, 11, 10, 12, 17, 12, 7, 16, 20, 8, 3, 21, 20, 23, 23, 10, 20, 11, 3, 5, 21, 20, 17, 3, 17, 8, 9, 19, 1, 19, 11, 18, 20, 21, 13, 11, 21, 3, 5, 1, 15, 20, 3, 2, 18, 12, 5, 8, 1, 15, 7, 18, 21, 15, 20, 7, 5, 3, 18, 0, 2, 21, 16, 22, 15, 13, 20, 14, 17, 18, 22, 16, 14, 14, 19, 19, 4, 0, 13, 19, 0, 19, 19, 19, 8, 1, 17, 19, 16, 19, 10, 17, 10, 1, 21, 1, 12, 16, 1, 18, 1, 19, 2, 12, 12, 23, 12, 17, 17, 0, 0, 14, 19, 9, 1, 13, 15, 0, 3, 11, 16, 15, 3, 14, 3, 20, 4, 16, 23, 18, 15, 17, 15, 13, 3, 7, 11, 23, 12, 14, 20, 13, 18, 11, 20, 7, 17, 15, 21, 22, 9, 3, 4, 22, 21, 19, 4, 19, 15, 17, 9, 11, 16, 4, 19, 22, 18, 22, 20, 21, 4, 23, 10, 19, 23, 8, 0, 19, 22, 7, 23, 15, 5, 22, 0, 16, 21, 14, 22, 1, 17, 23, 19, 22, 15, 20, 21, 19, 2, 12, 10, 20, 20, 17, 19, 14, 17, 14, 17, 1, 18, 19, 20, 22, 20, 20, 13, 21, 1, 3, 20, 20, 14, 18, 22, 4, 0, 19, 0, 10, 21, 20, 18, 21, 12, 21, 22, 23, 19, 23, 1, 18, 20, 1, 17, 22, 20, 19, 14, 2, 0, 21, 3, 23, 11, 18, 22, 5, 21, 21, 20, 20, 20, 22, 23, 21, 14, 17, 21, 5, 23, 23, 23, 12, 3, 20, 19, 1, 19, 4, 16, 1, 20, 23, 18, 15, 20, 15, 13, 21, 17, 14, 22, 13, 16, 23, 23, 17, 17, 1, 19, 21, 2, 11, 17, 14, 19, 10, 3, 10, 2, 22, 2, 21, 20, 5, 0, 4, 20, 1, 22, 3, 21, 23, 2, 23, 17, 7, 17, 20, 14, 3, 21, 17, 15, 3, 19, 4, 16, 22, 18, 5, 17, 4, 17, 9, 21, 0, 12, 1, 11, 15, 15, 1, 23, 23, 12, 19, 21, 3, 16, 20, 13, 12, 14, 19, 21, 19, 22, 11, 19, 4, 0, 17, 13, 4, 18, 16, 16, 17, 21, 17, 0, 20, 21, 17, 1, 19, 12, 4, 4, 7, 21, 2, 11, 19, 22, 8, 23, 12, 14, 17, 1, 12, 16, 22, 17, 3, 3, 1, 13, 13, 19, 20, 13, 14, 4, 1, 18, 19, 10, 16, 17, 18, 16, 15, 16, 19, 3, 17, 20, 22, 23, 16, 23, 22, 3, 18, 7, 20, 14, 6, 23, 12, 19, 7, 20, 13, 17, 20, 22, 20, 18, 12, 2, 14, 17, 21, 15, 2, 21, 22, 0, 3, 21, 23, 6, 19, 19, 22, 21, 16, 23, 17, 2, 1, 22, 20, 19, 14, 21, 22, 23, 12, 23, 19, 1, 13, 11, 20, 16, 15, 23, 20, 22, 12, 11, 17, 5, 16, 16, 23, 14, 19, 11, 22, 3, 15, 15, 19, 12, 6, 10, 19, 4, 12, 15, 20, 16, 18, 0, 3, 19, 18, 18, 19, 14, 23, 1, 23, 14, 17, 11, 23, 11, 19, 9, 23, 20, 17, 19, 15, 21, 19, 3, 14, 0, 14, 17, 6, 4, 2, 22, 0, 19, 12, 20, 9, 4, 16, 19, 13, 23, 19, 1, 23, 23, 9, 14, 23, 4, 19, 22, 1, 5, 0, 22, 21, 5, 20, 19, 22, 20, 1, 20, 23, 23, 11, 2, 6, 15, 16, 6, 21, 21, 18, 19, 11, 23, 6, 11, 19, 12, 14, 19, 19, 21, 23, 14, 7, 18, 21, 20, 9, 16, 7, 3, 3, 21, 7, 17, 22, 2, 16, 19, 21, 15, 21, 1, 18, 18, 10, 16, 19, 0, 5, 9, 20, 11, 2, 23, 19, 20, 16, 18, 19, 21, 3, 9, 0, 15, 20, 22, 19, 16, 18, 16, 20, 12, 13, 18, 1, 23, 20, 0, 23, 22, 11, 22, 17, 14, 11, 11, 17, 3, 4, 17, 23, 20, 3, 1, 19, 19, 10, 22, 21, 12, 12, 22, 20, 21, 1, 20, 23, 16, 2, 11, 7, 22, 10, 23, 12, 3, 22, 21, 22, 17, 21, 20, 3, 21, 21, 1, 11, 5, 11, 6, 20, 20, 0, 21, 19, 12, 6, 21, 18, 12, 0, 1, 10, 16, 17, 20, 20, 16, 1, 20, 14, 18, 13, 20, 21, 15, 15, 8, 15, 17, 12, 18, 22, 19, 23, 19, 20, 1, 11, 21, 9, 23, 10, 11, 0, 20, 19, 5, 6, 21, 13, 18, 1, 19, 14, 19, 20, 17, 11, 23, 5, 20, 3, 23, 11, 6, 12, 15, 21, 16, 17, 10, 19, 15, 20, 21, 20, 20, 17, 18, 16, 1, 20, 1, 2, 21, 3, 19, 7, 19, 20, 11, 13, 1, 21, 21, 23, 1, 21, 13, 19, 13, 23, 17, 22, 3, 4, 8, 0, 3, 22, 1, 9, 16, 20, 5, 20, 20, 16, 12, 19, 21, 11, 15, 16, 7, 5, 21, 14, 20, 13, 6, 0, 16, 18, 17, 4, 12, 19, 22, 21, 12, 18, 15, 2, 18, 2, 16, 0, 3, 19, 18, 20, 19, 19, 20, 17, 17, 13, 14, 20, 22, 21, 17, 21, 17, 19, 21, 14, 20, 14, 18, 18, 10, 2, 19, 16, 14, 3, 8, 18, 23, 20, 12, 1, 21, 19, 12, 19, 4, 11, 17, 1, 10, 12, 4, 22, 22, 17, 23, 21, 16, 23, 22, 9, 13, 20, 16, 22, 19, 16, 2, 23, 20, 13, 21, 13, 15, 19, 17, 23, 22, 23, 19, 23, 17, 19, 19, 3, 20, 13, 13, 22, 20, 5, 16, 22, 11, 20, 21, 22, 5, 23, 8, 1, 4, 0, 14, 3, 1, 0, 20, 8, 20, 14, 11, 17, 22, 21, 3, 18, 17, 10, 19, 22, 22, 3, 14, 20, 16, 20, 21, 20, 14, 11, 1, 15, 6, 11, 16, 18, 10, 18, 18, 18, 2, 19, 22, 4, 22, 15, 15, 10, 12, 19, 8, 21, 23, 22, 20, 3, 19, 13, 0, 4, 13, 17, 21, 1, 20, 22, 0, 10, 20, 23, 4, 3, 17, 21, 0, 8, 1, 10, 13, 23, 22, 11, 2, 12, 6, 6, 11, 17, 7, 4, 4, 17, 2, 10, 16, 17, 18, 1, 13, 21, 2, 1, 20, 11, 11, 23, 2, 6, 14, 7, 12, 17, 8, 12, 5, 19, 17, 10, 17, 10, 5, 22, 21, 4, 9, 22, 21, 23, 0, 4, 2, 19, 23, 3, 0, 19, 13, 23, 1, 3, 16, 3, 2, 21, 18, 18, 20, 2, 1, 3, 15, 3, 22, 2, 23, 0, 2, 22, 6, 17, 16, 17, 20, 9, 22, 6, 22, 2, 10, 16, 15, 12, 10, 17, 12, 12, 23, 9, 13, 18, 10, 6, 15, 6, 1, 15, 8, 20, 1, 11, 21, 16, 4, 15, 8, 15, 14, 23, 2, 1, 3, 6, 5, 19, 20, 1, 10, 19, 18, 18, 20, 6, 15, 3, 20, 2, 4, 21, 18, 22, 11, 14, 21, 2, 4, 23, 19, 6, 4, 16, 6, 20, 23, 20, 12, 20, 20, 23, 9, 12, 6, 4, 21, 15, 1, 16, 10, 7, 21, 3, 4, 6, 9, 18, 22, 19, 21, 19, 6, 1, 22, 16, 19, 22, 23, 6, 17, 14, 9, 5, 12, 19, 19, 21, 13, 11, 10, 17, 14, 20, 17, 2, 20, 12, 6, 20, 1, 8, 4, 5, 9, 20, 20, 5, 14, 11, 0, 2, 4, 11, 19, 19, 18, 15, 5, 14, 20, 18, 13, 23, 19, 5, 22, 11, 1, 1, 23, 21, 13, 10, 5, 5, 5, 12, 11, 22, 14, 21, 18, 21, 1, 21, 7, 2, 21, 6, 21, 4, 22, 22, 17, 20, 10, 10, 2, 0, 23, 17, 8, 8, 22, 19, 18, 11, 19, 3, 4, 11, 3, 23, 10, 0, 17, 3, 22, 10, 13, 3, 3, 3, 8, 8, 19, 5, 17, 22, 21, 22, 10, 21, 18, 5, 22, 21, 19, 16, 21, 19, 21, 21, 18, 8, 21, 22, 7, 10, 19, 7, 7, 0, 19, 7, 7, 18, 19, 18, 8, 0, 8, 2, 22, 4, 20, 5, 23, 5, 20, 15, 20, 2, 15, 14, 9, 20, 14, 10, 22, 21, 8, 4, 11, 12, 22, 8, 23, 4, 8, 6, 6, 6, 4, 2, 7, 11, 18, 7, 13, 22, 14, 18, 0, 21, 9, 3, 21, 21, 1, 1, 17, 19, 15, 23, 3, 3, 2, 5, 3, 0, 15, 22, 14, 12, 5, 16, 21, 13, 1, 23, 6, 15, 23, 10, 6, 8, 1, 1, 8, 8, 21, 1, 5, 1, 8, 3, 23, 1, 5, 22, 0, 8, 9, 4, 23, 22, 7, 21, 1, 17, 3, 23, 22, 1, 7, 23, 21, 13, 23, 10, 6, 4, 13, 15, 16, 10, 16, 12, 0, 22, 3, 2, 20, 3, 10, 16, 23, 0, 17, 14, 19, 0, 17, 19, 12, 10, 11, 11, 20, 19, 13, 10, 3, 14, 21, 4, 21, 16, 11, 14, 15, 18, 17, 15, 12, 13, 10, 17, 13, 1, 13, 2, 19, 23, 11, 5, 19, 13, 16, 15, 19, 21, 23, 0, 12, 0, 7, 22, 10, 10, 9, 21, 18, 23, 5, 2, 23, 23, 0, 6, 1, 6, 0, 0, 20, 20, 11, 16, 4, 10, 13, 10, 23, 23, 21, 15, 3, 18, 4, 18, 19, 20, 20, 5, 10, 23, 3, 22, 8, 21, 7, 23, 2, 22, 21, 19, 5, 2, 9, 5, 12, 4, 20, 20, 7, 6, 17, 8, 14, 18, 22, 18, 22, 19, 18, 4, 18, 15, 16, 2, 22, 2, 6, 1, 0, 21, 0, 21, 0, 9, 12, 22, 18, 1, 23, 12, 19, 23, 20, 14, 21, 19, 3, 3, 9, 15, 2, 3, 5, 20, 2, 7, 5, 7, 17, 13, 4, 19, 12, 2, 14, 14, 10, 8, 20, 6, 23, 14, 15, 5, 8, 19, 1, 21, 1, 12, 19, 19, 8, 18, 18, 1, 20, 21, 19, 8, 1, 18, 0, 17, 19, 23, 17, 23, 19, 14, 15, 17, 0, 21, 7, 7, 19, 8, 12, 6, 8, 23, 6, 17, 2, 9, 0, 14, 16, 21, 9, 0, 21, 18, 9, 5, 23, 15, 13, 6, 15, 13, 20, 13, 12, 4, 4, 20, 20, 0, 18, 7, 5, 23, 10, 13, 20, 19, 17, 12, 1, 0, 10, 21, 22, 21, 17, 1, 22, 16, 0, 0, 12, 12, 21, 19, 5, 6, 9, 23, 16, 22, 17, 19, 16, 21, 14, 20, 5, 23, 3, 4, 8, 15, 7, 21, 22, 1, 7, 21, 8, 22, 21, 3, 17, 4, 2, 20, 23, 15, 10, 14, 2, 17, 17, 20, 20, 21, 8, 23, 14, 8, 22, 3, 17, 1, 12, 6, 21, 8, 11, 20, 7, 21, 5, 23, 6, 14, 2, 22, 13, 23, 19, 17, 3, 15, 17, 3, 11, 3, 1, 19, 20, 4, 23, 5, 17, 13, 18, 21, 17, 16, 0, 23, 12, 16, 8, 20, 17, 23, 12, 22, 1, 21, 0, 9, 5, 19, 15, 22, 11, 21, 4, 4, 3, 8, 18, 18, 1, 22, 1, 14, 9, 12, 21, 2, 10, 0, 12, 4, 21, 21, 8, 3, 20, 11, 13, 19, 19, 5, 3, 23, 16, 21, 20, 19, 22, 23, 19, 20, 5, 21, 7, 11, 20, 20, 4, 22, 20, 15, 20, 21, 10, 20, 6, 2, 6, 10, 3, 3, 19, 22, 10, 13, 16, 23, 21, 22, 23, 0, 19, 2, 22, 22, 6, 23, 0, 22, 6, 21, 12, 18, 18, 21, 17, 23, 13, 13, 20, 13, 22, 13, 16, 23, 8, 16, 21, 4, 5, 3, 19, 0, 16, 22, 21, 21, 21, 2, 19, 17, 20, 21, 19, 1, 21, 22, 23, 14, 9, 9, 23, 4, 17, 19, 22, 18, 14, 19, 3, 23, 23, 21, 6, 1, 22, 0, 10, 22, 14, 22, 19, 11, 4, 20, 18, 17, 19, 22, 10, 1, 4, 1, 17, 23, 19, 19, 0, 4, 1, 10, 19, 3, 21, 21, 11, 20, 21, 1, 21, 2, 15, 11, 7, 16, 2, 9, 11, 18, 7, 0, 5, 6, 9, 21, 10, 20, 7, 21, 8, 5, 9, 22, 19, 9, 2, 2, 0, 3, 8, 9, 11, 19, 4, 12, 0, 11, 0, 0, 20, 22, 1, 1, 16, 23, 3, 3, 0, 1, 3, 22, 20, 3, 3, 21, 3, 11, 5, 23, 10, 11, 5, 2, 8, 21, 22, 20, 21, 19, 21, 4, 1, 15, 0, 19, 1, 19, 11, 1, 1, 0, 21, 10, 19, 19, 3, 18, 15, 12, 20, 10, 17, 17, 16, 9, 9, 11, 10, 17, 19, 20, 8, 7, 23, 9, 13, 9, 15, 11, 16, 14, 9, 14, 8, 16, 17, 14, 20, 11, 11, 8, 8, 7, 8, 22, 14, 10, 16, 14, 9, 11, 22, 19, 9, 23, 2, 20, 1, 18, 2, 22, 7, 15, 22, 20, 3, 21, 1, 21, 1, 0, 20, 1, 0, 20, 23, 23, 21, 10, 20, 22, 4, 9, 4, 18, 1, 10, 8, 11, 3, 1, 9, 15, 1, 15, 3, 16, 8, 19, 23, 21, 17, 6, 15, 21, 22, 19, 17, 20, 5, 3, 22, 7, 18, 19, 4, 19, 21, 2, 15, 6, 7, 21, 19, 16, 6, 6, 20, 8, 0, 8, 15, 8, 18, 10, 19, 23, 12, 20, 12, 13, 20, 20, 5, 20, 18, 5, 1, 18, 19, 17, 11, 8, 16, 3, 2, 3, 0, 6, 2, 21, 2, 15, 7, 15, 6, 15, 21, 18, 22, 10, 2, 1, 2, 3, 22, 1, 19, 22, 2, 11, 23, 22, 4, 12, 17, 16, 3, 6, 2, 10, 13, 15, 14, 2, 16, 18, 3, 4, 2, 7, 8, 19, 22, 8, 1, 9, 9, 15, 1, 19, 10, 3, 13, 21, 8, 18, 7, 3, 20, 9, 2, 13, 22, 22, 6, 12, 22, 9, 20, 1, 9, 15, 14, 5, 3, 18, 18, 13, 9, 9, 22, 10, 2, 20, 18, 3, 23, 14, 23, 4, 13, 23, 8, 12, 4, 4, 18, 9, 20, 18, 17, 3, 18, 23, 22, 9, 3, 0, 18, 20, 16, 21, 21, 2, 9, 0, 21, 19, 0, 9, 10, 10, 10, 10, 17, 17, 23, 5, 10, 10, 10, 10, 10, 10, 18, 3, 2, 8, 16, 23, 13, 14, 20, 2, 16, 14, 13, 20, 17, 13, 11, 3, 3, 21, 2, 0, 10, 23, 6, 2, 20, 20, 20, 1, 5, 1, 0, 0, 17, 13, 17, 17, 18, 5, 11, 9, 4, 9, 21, 21, 20, 4, 6, 19, 22, 11, 13, 11, 5, 20, 19, 0, 14, 13, 4, 17, 19, 16, 22, 9, 10, 20, 8, 7, 19, 4, 1, 9, 3, 11, 16, 16, 20, 20, 3, 21, 9, 14, 22, 17, 15, 20, 18, 1, 22, 20, 19, 21, 19, 9, 21, 2, 15, 19, 6, 22, 19, 5, 16, 19, 23, 21, 6, 17, 23, 17, 23, 21, 7, 19, 0, 18, 23, 9, 9, 14, 20, 22, 17, 11, 7, 21, 15, 19, 17, 22, 6, 9, 10, 7, 19, 7, 16, 17, 10, 0, 22, 17, 19, 3, 15, 3, 14, 22, 0, 1, 8, 12, 3, 7, 20, 5, 23, 20, 6, 15, 18, 21, 18, 1, 13, 22, 2, 8, 5, 17, 9, 15, 23, 23, 7, 21, 17, 20, 21, 11, 16, 5, 6, 17, 0, 13, 21, 7, 20, 17, 4, 19, 22, 10, 18, 20, 23, 3, 21, 19, 19, 19, 9, 16, 9, 6, 16, 16, 18, 20, 17, 17, 19, 14, 19, 23, 2, 0, 23, 23, 9, 3, 23, 19, 9, 1, 19, 20, 15, 3, 3, 14, 14, 19, 18, 14, 14, 5, 0, 18, 8, 6, 5, 20, 20, 18, 6, 11, 14, 8, 7, 20, 15, 0, 23, 21, 2, 12, 12, 23, 16, 20, 0, 10, 23, 3, 22, 19, 9, 12, 1, 21, 3, 18, 23, 15, 15, 7, 1, 20, 15, 21, 8, 11, 19, 23, 1, 16, 1, 11, 23, 20, 19, 4, 21, 5, 13, 10, 2, 1, 2, 7, 22, 14, 7, 17, 3, 3, 22, 19, 23, 22, 14, 14, 0, 5, 20, 21, 21, 11, 23, 0, 8, 19, 2, 20, 2, 11, 9, 3, 1, 21, 0, 5, 0, 23, 3, 20, 18, 11, 11, 6, 17, 21, 18, 18, 20, 6, 7, 19, 16, 3, 5, 7, 4, 22, 17, 22, 18, 11, 9, 22, 5, 11, 8, 10, 14, 3, 18, 21, 8, 10, 21, 20, 7, 10, 9, 19, 21, 12, 13, 10, 3, 19, 23, 23, 3, 2, 23, 21, 20, 20, 0, 11, 20, 22, 8, 2, 7, 15, 22, 17, 3, 15, 19, 19, 2, 21, 8, 12, 7, 15, 19, 8, 21, 19, 22, 3, 3, 8, 21, 14, 1, 14, 9, 16, 23, 2, 9, 9, 23, 3, 18, 21, 18, 8, 5, 9, 1, 21, 10, 1, 8, 22, 21, 23, 9, 12, 22, 8, 18, 23, 20, 23, 4, 21, 11, 3, 8, 18, 5, 14, 8, 6, 8, 21, 3, 19, 20, 8, 21, 10, 10, 11, 10, 13, 13, 20, 11, 17, 22, 4, 18, 21, 17, 16, 9, 11, 7, 23, 3, 3, 20, 0, 23, 22, 22, 20, 5, 4, 3, 11, 20, 12, 10, 23, 18, 18, 17, 16, 12, 1, 2, 2, 23, 18, 19, 15, 0, 20, 15, 20, 1, 10, 23, 1, 19, 19, 19, 19, 15, 23, 19, 3, 21, 21, 19, 0, 18, 4, 20, 0, 13, 10, 8, 10, 9, 15, 0, 6, 8, 20, 17, 20, 8, 6, 19, 9, 2, 21, 15, 14, 20, 0, 16, 23, 23, 18, 23, 5, 22, 22, 7, 3, 22, 3, 23, 13, 17, 7, 3, 9, 1, 8, 14, 16, 0, 4, 18, 21, 9, 12, 7, 13, 4, 2, 4, 20, 1, 9, 13, 16, 21, 9, 13, 13, 2, 23, 3, 0, 2, 23, 13, 21, 10, 11, 7, 20, 15, 2, 8, 6, 5, 20, 12, 19, 3, 19, 8, 18, 23, 15, 19, 14, 23, 4, 23, 17, 21, 17, 16, 0, 2, 17, 16, 2, 17, 8, 13, 15, 16, 14, 22, 22, 9, 11, 4, 21, 3, 21, 4, 20, 4, 7, 17, 8, 16, 15, 21, 13, 12, 3, 8, 4, 1, 19, 10, 12, 21, 21, 8, 10, 3, 0, 7, 10, 20, 9, 6, 20, 19, 19, 18, 0, 16, 23, 12, 2, 22, 2, 7, 5, 14, 6, 2, 3, 12, 14, 19, 17, 1, 7, 4, 23, 12, 16, 7, 6, 7, 20, 23, 21, 16, 20, 8, 19, 22, 9, 2, 0, 21, 21, 22, 8, 23, 9, 3, 21, 1, 19, 22, 16, 15, 18, 5, 4, 19, 5, 1, 22, 14, 19, 14, 17, 3, 10, 11, 12, 14, 8, 22, 5, 8, 3, 23, 23, 20, 4, 10, 10, 17, 3, 17, 2, 19, 15, 22, 7, 20, 12, 20, 1, 14, 14, 6, 12, 2, 20, 3, 18, 21, 20, 19, 9, 23, 21, 6, 0, 4, 20, 11, 20, 12, 3, 11, 22, 8, 20, 9, 8, 19, 19, 10, 19, 22, 8, 7, 1, 0, 20, 3, 7, 22, 16, 9, 21, 23, 16, 20, 11, 0, 7, 7, 10, 5, 22, 0, 21, 19, 21, 4, 21, 16, 20, 12, 16, 21, 19, 19, 17, 5, 19, 20, 10, 18, 22, 13, 19, 20, 13, 19, 19, 21, 12, 10, 22, 18, 20, 19, 20, 1, 19, 22, 15, 22, 11, 3, 9, 9, 0, 5, 5, 19, 0, 19, 18, 18, 4, 20, 20, 22, 20, 21, 9, 6, 3, 5, 13, 13, 11, 23, 19, 19, 16, 10, 1, 7, 18, 20, 23, 21, 7, 14, 22, 17, 13, 7, 20, 0, 12, 18, 23, 11, 11, 21, 4, 21, 22, 8, 15, 10, 14, 23, 1, 17, 1, 9, 22, 6, 23, 18, 0, 15, 2, 22, 19, 7, 3, 9, 13, 16, 2, 1, 21, 9, 21, 17, 14, 6, 12, 8, 8, 6, 15, 22, 20, 19, 13, 15, 20, 0, 9, 23, 15, 19, 14, 22, 12, 22, 20, 18, 10, 10, 0, 9, 5, 15, 21, 13, 19, 9, 22, 7, 23, 2, 20, 20, 2, 19, 4, 20, 8, 21, 13, 12, 23, 0, 20, 14, 21, 10, 5, 22, 2, 14, 6, 8, 7, 3, 3, 3, 7, 1, 19, 0, 22, 23, 22, 16, 19, 12, 9, 2, 8, 16, 19, 23, 17], \"y0\": \" \", \"yaxis\": \"y\"}],\n",
              "                        {\"boxmode\": \"group\", \"height\": 500, \"legend\": {\"tracegroupgap\": 0}, \"template\": {\"data\": {\"bar\": [{\"error_x\": {\"color\": \"#2a3f5f\"}, \"error_y\": {\"color\": \"#2a3f5f\"}, \"marker\": {\"line\": {\"color\": \"#E5ECF6\", \"width\": 0.5}}, \"type\": \"bar\"}], \"barpolar\": [{\"marker\": {\"line\": {\"color\": \"#E5ECF6\", \"width\": 0.5}}, \"type\": \"barpolar\"}], \"carpet\": [{\"aaxis\": {\"endlinecolor\": \"#2a3f5f\", \"gridcolor\": \"white\", \"linecolor\": \"white\", \"minorgridcolor\": \"white\", \"startlinecolor\": \"#2a3f5f\"}, \"baxis\": {\"endlinecolor\": \"#2a3f5f\", \"gridcolor\": \"white\", \"linecolor\": \"white\", \"minorgridcolor\": \"white\", \"startlinecolor\": \"#2a3f5f\"}, \"type\": \"carpet\"}], \"choropleth\": [{\"colorbar\": {\"outlinewidth\": 0, \"ticks\": \"\"}, \"type\": \"choropleth\"}], \"contour\": [{\"colorbar\": {\"outlinewidth\": 0, \"ticks\": \"\"}, \"colorscale\": [[0.0, \"#0d0887\"], [0.1111111111111111, \"#46039f\"], [0.2222222222222222, \"#7201a8\"], [0.3333333333333333, \"#9c179e\"], [0.4444444444444444, \"#bd3786\"], [0.5555555555555556, \"#d8576b\"], [0.6666666666666666, \"#ed7953\"], [0.7777777777777778, \"#fb9f3a\"], [0.8888888888888888, \"#fdca26\"], [1.0, \"#f0f921\"]], \"type\": \"contour\"}], \"contourcarpet\": [{\"colorbar\": {\"outlinewidth\": 0, \"ticks\": \"\"}, \"type\": \"contourcarpet\"}], \"heatmap\": [{\"colorbar\": {\"outlinewidth\": 0, \"ticks\": \"\"}, \"colorscale\": [[0.0, \"#0d0887\"], [0.1111111111111111, \"#46039f\"], [0.2222222222222222, \"#7201a8\"], [0.3333333333333333, \"#9c179e\"], [0.4444444444444444, \"#bd3786\"], [0.5555555555555556, \"#d8576b\"], [0.6666666666666666, \"#ed7953\"], [0.7777777777777778, \"#fb9f3a\"], [0.8888888888888888, \"#fdca26\"], [1.0, \"#f0f921\"]], \"type\": \"heatmap\"}], \"heatmapgl\": [{\"colorbar\": {\"outlinewidth\": 0, \"ticks\": \"\"}, \"colorscale\": [[0.0, \"#0d0887\"], [0.1111111111111111, \"#46039f\"], [0.2222222222222222, \"#7201a8\"], [0.3333333333333333, \"#9c179e\"], [0.4444444444444444, \"#bd3786\"], [0.5555555555555556, \"#d8576b\"], [0.6666666666666666, \"#ed7953\"], [0.7777777777777778, \"#fb9f3a\"], [0.8888888888888888, \"#fdca26\"], [1.0, \"#f0f921\"]], \"type\": \"heatmapgl\"}], \"histogram\": [{\"marker\": {\"colorbar\": {\"outlinewidth\": 0, \"ticks\": \"\"}}, \"type\": \"histogram\"}], \"histogram2d\": [{\"colorbar\": {\"outlinewidth\": 0, \"ticks\": \"\"}, \"colorscale\": [[0.0, \"#0d0887\"], [0.1111111111111111, \"#46039f\"], [0.2222222222222222, \"#7201a8\"], [0.3333333333333333, \"#9c179e\"], [0.4444444444444444, \"#bd3786\"], [0.5555555555555556, \"#d8576b\"], [0.6666666666666666, \"#ed7953\"], [0.7777777777777778, \"#fb9f3a\"], [0.8888888888888888, \"#fdca26\"], [1.0, \"#f0f921\"]], \"type\": \"histogram2d\"}], \"histogram2dcontour\": [{\"colorbar\": {\"outlinewidth\": 0, \"ticks\": \"\"}, \"colorscale\": [[0.0, \"#0d0887\"], [0.1111111111111111, \"#46039f\"], [0.2222222222222222, \"#7201a8\"], [0.3333333333333333, \"#9c179e\"], [0.4444444444444444, \"#bd3786\"], [0.5555555555555556, \"#d8576b\"], [0.6666666666666666, \"#ed7953\"], [0.7777777777777778, \"#fb9f3a\"], [0.8888888888888888, \"#fdca26\"], [1.0, \"#f0f921\"]], \"type\": \"histogram2dcontour\"}], \"mesh3d\": [{\"colorbar\": {\"outlinewidth\": 0, \"ticks\": \"\"}, \"type\": \"mesh3d\"}], \"parcoords\": [{\"line\": {\"colorbar\": {\"outlinewidth\": 0, \"ticks\": \"\"}}, \"type\": \"parcoords\"}], \"pie\": [{\"automargin\": true, \"type\": \"pie\"}], \"scatter\": [{\"marker\": {\"colorbar\": {\"outlinewidth\": 0, \"ticks\": \"\"}}, \"type\": \"scatter\"}], \"scatter3d\": [{\"line\": {\"colorbar\": {\"outlinewidth\": 0, \"ticks\": \"\"}}, \"marker\": {\"colorbar\": {\"outlinewidth\": 0, \"ticks\": \"\"}}, \"type\": \"scatter3d\"}], \"scattercarpet\": [{\"marker\": {\"colorbar\": {\"outlinewidth\": 0, \"ticks\": \"\"}}, \"type\": \"scattercarpet\"}], \"scattergeo\": [{\"marker\": {\"colorbar\": {\"outlinewidth\": 0, \"ticks\": \"\"}}, \"type\": \"scattergeo\"}], \"scattergl\": [{\"marker\": {\"colorbar\": {\"outlinewidth\": 0, \"ticks\": \"\"}}, \"type\": \"scattergl\"}], \"scattermapbox\": [{\"marker\": {\"colorbar\": {\"outlinewidth\": 0, \"ticks\": \"\"}}, \"type\": \"scattermapbox\"}], \"scatterpolar\": [{\"marker\": {\"colorbar\": {\"outlinewidth\": 0, \"ticks\": \"\"}}, \"type\": \"scatterpolar\"}], \"scatterpolargl\": [{\"marker\": {\"colorbar\": {\"outlinewidth\": 0, \"ticks\": \"\"}}, \"type\": \"scatterpolargl\"}], \"scatterternary\": [{\"marker\": {\"colorbar\": {\"outlinewidth\": 0, \"ticks\": \"\"}}, \"type\": \"scatterternary\"}], \"surface\": [{\"colorbar\": {\"outlinewidth\": 0, \"ticks\": \"\"}, \"colorscale\": [[0.0, \"#0d0887\"], [0.1111111111111111, \"#46039f\"], [0.2222222222222222, \"#7201a8\"], [0.3333333333333333, \"#9c179e\"], [0.4444444444444444, \"#bd3786\"], [0.5555555555555556, \"#d8576b\"], [0.6666666666666666, \"#ed7953\"], [0.7777777777777778, \"#fb9f3a\"], [0.8888888888888888, \"#fdca26\"], [1.0, \"#f0f921\"]], \"type\": \"surface\"}], \"table\": [{\"cells\": {\"fill\": {\"color\": \"#EBF0F8\"}, \"line\": {\"color\": \"white\"}}, \"header\": {\"fill\": {\"color\": \"#C8D4E3\"}, \"line\": {\"color\": \"white\"}}, \"type\": \"table\"}]}, \"layout\": {\"annotationdefaults\": {\"arrowcolor\": \"#2a3f5f\", \"arrowhead\": 0, \"arrowwidth\": 1}, \"coloraxis\": {\"colorbar\": {\"outlinewidth\": 0, \"ticks\": \"\"}}, \"colorscale\": {\"diverging\": [[0, \"#8e0152\"], [0.1, \"#c51b7d\"], [0.2, \"#de77ae\"], [0.3, \"#f1b6da\"], [0.4, \"#fde0ef\"], [0.5, \"#f7f7f7\"], [0.6, \"#e6f5d0\"], [0.7, \"#b8e186\"], [0.8, \"#7fbc41\"], [0.9, \"#4d9221\"], [1, \"#276419\"]], \"sequential\": [[0.0, \"#0d0887\"], [0.1111111111111111, \"#46039f\"], [0.2222222222222222, \"#7201a8\"], [0.3333333333333333, \"#9c179e\"], [0.4444444444444444, \"#bd3786\"], [0.5555555555555556, \"#d8576b\"], [0.6666666666666666, \"#ed7953\"], [0.7777777777777778, \"#fb9f3a\"], [0.8888888888888888, \"#fdca26\"], [1.0, \"#f0f921\"]], \"sequentialminus\": [[0.0, \"#0d0887\"], [0.1111111111111111, \"#46039f\"], [0.2222222222222222, \"#7201a8\"], [0.3333333333333333, \"#9c179e\"], [0.4444444444444444, \"#bd3786\"], [0.5555555555555556, \"#d8576b\"], [0.6666666666666666, \"#ed7953\"], [0.7777777777777778, \"#fb9f3a\"], [0.8888888888888888, \"#fdca26\"], [1.0, \"#f0f921\"]]}, \"colorway\": [\"#636efa\", \"#EF553B\", \"#00cc96\", \"#ab63fa\", \"#FFA15A\", \"#19d3f3\", \"#FF6692\", \"#B6E880\", \"#FF97FF\", \"#FECB52\"], \"font\": {\"color\": \"#2a3f5f\"}, \"geo\": {\"bgcolor\": \"white\", \"lakecolor\": \"white\", \"landcolor\": \"#E5ECF6\", \"showlakes\": true, \"showland\": true, \"subunitcolor\": \"white\"}, \"hoverlabel\": {\"align\": \"left\"}, \"hovermode\": \"closest\", \"mapbox\": {\"style\": \"light\"}, \"paper_bgcolor\": \"white\", \"plot_bgcolor\": \"#E5ECF6\", \"polar\": {\"angularaxis\": {\"gridcolor\": \"white\", \"linecolor\": \"white\", \"ticks\": \"\"}, \"bgcolor\": \"#E5ECF6\", \"radialaxis\": {\"gridcolor\": \"white\", \"linecolor\": \"white\", \"ticks\": \"\"}}, \"scene\": {\"xaxis\": {\"backgroundcolor\": \"#E5ECF6\", \"gridcolor\": \"white\", \"gridwidth\": 2, \"linecolor\": \"white\", \"showbackground\": true, \"ticks\": \"\", \"zerolinecolor\": \"white\"}, \"yaxis\": {\"backgroundcolor\": \"#E5ECF6\", \"gridcolor\": \"white\", \"gridwidth\": 2, \"linecolor\": \"white\", \"showbackground\": true, \"ticks\": \"\", \"zerolinecolor\": \"white\"}, \"zaxis\": {\"backgroundcolor\": \"#E5ECF6\", \"gridcolor\": \"white\", \"gridwidth\": 2, \"linecolor\": \"white\", \"showbackground\": true, \"ticks\": \"\", \"zerolinecolor\": \"white\"}}, \"shapedefaults\": {\"line\": {\"color\": \"#2a3f5f\"}}, \"ternary\": {\"aaxis\": {\"gridcolor\": \"white\", \"linecolor\": \"white\", \"ticks\": \"\"}, \"baxis\": {\"gridcolor\": \"white\", \"linecolor\": \"white\", \"ticks\": \"\"}, \"bgcolor\": \"#E5ECF6\", \"caxis\": {\"gridcolor\": \"white\", \"linecolor\": \"white\", \"ticks\": \"\"}}, \"title\": {\"x\": 0.05}, \"xaxis\": {\"automargin\": true, \"gridcolor\": \"white\", \"linecolor\": \"white\", \"ticks\": \"\", \"title\": {\"standoff\": 15}, \"zerolinecolor\": \"white\", \"zerolinewidth\": 2}, \"yaxis\": {\"automargin\": true, \"gridcolor\": \"white\", \"linecolor\": \"white\", \"ticks\": \"\", \"title\": {\"standoff\": 15}, \"zerolinecolor\": \"white\", \"zerolinewidth\": 2}}}, \"title\": {\"text\": \"Distribui\\u00e7\\u00e3o dos dados x histograma horaFato\"}, \"width\": 700, \"xaxis\": {\"anchor\": \"y\", \"domain\": [0.0, 1.0]}, \"yaxis\": {\"anchor\": \"x\", \"domain\": [0.0, 1.0], \"title\": {\"text\": \"horaFato\"}}},\n",
              "                        {\"responsive\": true}\n",
              "                    ).then(function(){\n",
              "                            \n",
              "var gd = document.getElementById('55ccebda-084b-4a0a-84c4-c0142466b9cd');\n",
              "var x = new MutationObserver(function (mutations, observer) {{\n",
              "        var display = window.getComputedStyle(gd).display;\n",
              "        if (!display || display === 'none') {{\n",
              "            console.log([gd, 'removed!']);\n",
              "            Plotly.purge(gd);\n",
              "            observer.disconnect();\n",
              "        }}\n",
              "}});\n",
              "\n",
              "// Listen for the removal of the full notebook cells\n",
              "var notebookContainer = gd.closest('#notebook-container');\n",
              "if (notebookContainer) {{\n",
              "    x.observe(notebookContainer, {childList: true});\n",
              "}}\n",
              "\n",
              "// Listen for the clearing of the current output cell\n",
              "var outputEl = gd.closest('.output');\n",
              "if (outputEl) {{\n",
              "    x.observe(outputEl, {childList: true});\n",
              "}}\n",
              "\n",
              "                        })\n",
              "                };\n",
              "                \n",
              "            </script>\n",
              "        </div>\n",
              "</body>\n",
              "</html>"
            ]
          },
          "metadata": {}
        }
      ]
    },
    {
      "cell_type": "code",
      "metadata": {
        "colab": {
          "base_uri": "https://localhost:8080/",
          "height": 297
        },
        "id": "TmM6P0U10LzV",
        "outputId": "fb1043ab-b9d7-4cf8-c1cb-f777d2821acf"
      },
      "source": [
        "#apenas ocorrencias com código 420 (Homicído)\n",
        "df_420=df[df['tipoCrime']==420]\n",
        "df_420.describe()"
      ],
      "execution_count": null,
      "outputs": [
        {
          "output_type": "execute_result",
          "data": {
            "text/html": [
              "<div>\n",
              "<style scoped>\n",
              "    .dataframe tbody tr th:only-of-type {\n",
              "        vertical-align: middle;\n",
              "    }\n",
              "\n",
              "    .dataframe tbody tr th {\n",
              "        vertical-align: top;\n",
              "    }\n",
              "\n",
              "    .dataframe thead th {\n",
              "        text-align: right;\n",
              "    }\n",
              "</style>\n",
              "<table border=\"1\" class=\"dataframe\">\n",
              "  <thead>\n",
              "    <tr style=\"text-align: right;\">\n",
              "      <th></th>\n",
              "      <th>tipoCrime</th>\n",
              "      <th>horaFato</th>\n",
              "      <th>municipio</th>\n",
              "    </tr>\n",
              "  </thead>\n",
              "  <tbody>\n",
              "    <tr>\n",
              "      <th>count</th>\n",
              "      <td>7473.0</td>\n",
              "      <td>7473.000000</td>\n",
              "      <td>7473.000000</td>\n",
              "    </tr>\n",
              "    <tr>\n",
              "      <th>mean</th>\n",
              "      <td>420.0</td>\n",
              "      <td>13.225345</td>\n",
              "      <td>53.115884</td>\n",
              "    </tr>\n",
              "    <tr>\n",
              "      <th>std</th>\n",
              "      <td>0.0</td>\n",
              "      <td>7.410029</td>\n",
              "      <td>43.284558</td>\n",
              "    </tr>\n",
              "    <tr>\n",
              "      <th>min</th>\n",
              "      <td>420.0</td>\n",
              "      <td>0.000000</td>\n",
              "      <td>1.000000</td>\n",
              "    </tr>\n",
              "    <tr>\n",
              "      <th>25%</th>\n",
              "      <td>420.0</td>\n",
              "      <td>7.000000</td>\n",
              "      <td>19.000000</td>\n",
              "    </tr>\n",
              "    <tr>\n",
              "      <th>50%</th>\n",
              "      <td>420.0</td>\n",
              "      <td>15.000000</td>\n",
              "      <td>35.000000</td>\n",
              "    </tr>\n",
              "    <tr>\n",
              "      <th>75%</th>\n",
              "      <td>420.0</td>\n",
              "      <td>20.000000</td>\n",
              "      <td>87.000000</td>\n",
              "    </tr>\n",
              "    <tr>\n",
              "      <th>max</th>\n",
              "      <td>420.0</td>\n",
              "      <td>23.000000</td>\n",
              "      <td>148.000000</td>\n",
              "    </tr>\n",
              "  </tbody>\n",
              "</table>\n",
              "</div>"
            ],
            "text/plain": [
              "       tipoCrime     horaFato    municipio\n",
              "count     7473.0  7473.000000  7473.000000\n",
              "mean       420.0    13.225345    53.115884\n",
              "std          0.0     7.410029    43.284558\n",
              "min        420.0     0.000000     1.000000\n",
              "25%        420.0     7.000000    19.000000\n",
              "50%        420.0    15.000000    35.000000\n",
              "75%        420.0    20.000000    87.000000\n",
              "max        420.0    23.000000   148.000000"
            ]
          },
          "metadata": {},
          "execution_count": 11
        }
      ]
    },
    {
      "cell_type": "code",
      "metadata": {
        "colab": {
          "base_uri": "https://localhost:8080/",
          "height": 817
        },
        "id": "WMt_O6KtPdTI",
        "outputId": "4dd72ee0-ffbd-44b1-e796-80b33ac173a7"
      },
      "source": [
        "fig = px.box(df_420,y=\"horaFato\", points=\"all\",title=\"Distribuição de crimes de Homicídio por hora do dia\",width=700,height=800)\n",
        "fig.show()"
      ],
      "execution_count": null,
      "outputs": [
        {
          "output_type": "display_data",
          "data": {
            "text/html": [
              "<html>\n",
              "<head><meta charset=\"utf-8\" /></head>\n",
              "<body>\n",
              "    <div>\n",
              "            <script src=\"https://cdnjs.cloudflare.com/ajax/libs/mathjax/2.7.5/MathJax.js?config=TeX-AMS-MML_SVG\"></script><script type=\"text/javascript\">if (window.MathJax) {MathJax.Hub.Config({SVG: {font: \"STIX-Web\"}});}</script>\n",
              "                <script type=\"text/javascript\">window.PlotlyConfig = {MathJaxConfig: 'local'};</script>\n",
              "        <script src=\"https://cdn.plot.ly/plotly-latest.min.js\"></script>    \n",
              "            <div id=\"55d18a43-12bb-45b5-9736-af9001076a53\" class=\"plotly-graph-div\" style=\"height:800px; width:700px;\"></div>\n",
              "            <script type=\"text/javascript\">\n",
              "                \n",
              "                    window.PLOTLYENV=window.PLOTLYENV || {};\n",
              "                    \n",
              "                if (document.getElementById(\"55d18a43-12bb-45b5-9736-af9001076a53\")) {\n",
              "                    Plotly.newPlot(\n",
              "                        '55d18a43-12bb-45b5-9736-af9001076a53',\n",
              "                        [{\"alignmentgroup\": \"True\", \"boxpoints\": \"all\", \"hoverlabel\": {\"namelength\": 0}, \"hovertemplate\": \"horaFato=%{y}\", \"legendgroup\": \"\", \"marker\": {\"color\": \"#636efa\"}, \"name\": \"\", \"notched\": false, \"offsetgroup\": \"\", \"orientation\": \"v\", \"showlegend\": false, \"type\": \"box\", \"x0\": \" \", \"xaxis\": \"x\", \"y\": [18, 19, 18, 2, 0, 21, 20, 20, 22, 0, 0, 14, 1, 3, 4, 9, 13, 19, 18, 19, 19, 19, 19, 20, 21, 21, 21, 20, 21, 21, 22, 22, 22, 23, 1, 5, 6, 11, 12, 12, 15, 19, 21, 21, 20, 21, 20, 20, 22, 23, 0, 1, 1, 0, 1, 1, 0, 1, 0, 0, 2, 3, 4, 5, 6, 7, 6, 8, 8, 11, 10, 11, 11, 13, 13, 13, 15, 14, 14, 16, 16, 19, 19, 19, 18, 19, 19, 19, 19, 19, 18, 19, 19, 20, 20, 20, 20, 20, 20, 22, 22, 23, 23, 22, 22, 23, 22, 17, 20, 1, 12, 18, 19, 21, 21, 22, 17, 20, 21, 21, 2, 18, 4, 11, 11, 17, 16, 14, 13, 13, 17, 22, 11, 4, 5, 23, 1, 2, 11, 19, 23, 20, 1, 19, 7, 6, 7, 8, 8, 9, 10, 11, 11, 11, 12, 16, 16, 19, 20, 12, 23, 19, 10, 7, 3, 8, 1, 17, 23, 1, 4, 7, 9, 10, 13, 13, 12, 16, 17, 16, 17, 19, 19, 22, 23, 11, 1, 4, 4, 4, 7, 7, 7, 7, 11, 12, 15, 19, 18, 18, 20, 21, 21, 21, 10, 10, 18, 18, 21, 22, 8, 17, 5, 17, 4, 6, 12, 18, 1, 16, 2, 23, 3, 17, 17, 2, 18, 20, 5, 11, 10, 2, 2, 2, 18, 2, 11, 17, 17, 3, 4, 4, 9, 18, 20, 23, 3, 10, 12, 2, 17, 22, 1, 1, 2, 16, 22, 16, 20, 1, 1, 20, 5, 15, 17, 19, 5, 11, 2, 8, 12, 23, 23, 23, 7, 0, 1, 1, 0, 0, 1, 1, 1, 0, 3, 3, 2, 2, 2, 5, 5, 4, 9, 10, 13, 12, 12, 13, 12, 13, 14, 17, 17, 17, 16, 19, 19, 19, 18, 19, 19, 19, 19, 18, 18, 21, 20, 23, 22, 23, 22, 22, 6, 7, 15, 21, 14, 11, 5, 7, 17, 20, 23, 1, 7, 9, 11, 18, 18, 23, 20, 13, 13, 13, 20, 2, 10, 16, 17, 18, 19, 21, 21, 21, 6, 9, 9, 10, 13, 17, 19, 19, 19, 19, 18, 1, 0, 0, 2, 3, 2, 2, 4, 6, 6, 9, 10, 11, 10, 11, 11, 13, 13, 12, 12, 14, 14, 15, 14, 14, 17, 16, 17, 18, 19, 19, 19, 18, 20, 20, 21, 21, 21, 21, 23, 23, 22, 23, 23, 23, 22, 23, 22, 22, 22, 23, 15, 17, 3, 19, 22, 17, 0, 10, 22, 2, 21, 1, 3, 3, 4, 7, 8, 13, 12, 21, 22, 0, 2, 5, 5, 5, 14, 16, 19, 21, 20, 20, 20, 21, 3, 16, 20, 3, 2, 7, 6, 18, 21, 15, 3, 17, 10, 13, 4, 20, 19, 0, 3, 2, 11, 10, 13, 13, 23, 22, 22, 22, 13, 1, 1, 3, 4, 4, 16, 17, 18, 19, 20, 23, 23, 3, 4, 19, 19, 23, 5, 3, 6, 17, 1, 3, 3, 11, 12, 18, 18, 20, 21, 21, 21, 20, 22, 22, 22, 1, 6, 21, 22, 23, 1, 5, 4, 11, 11, 11, 16, 19, 19, 23, 3, 4, 4, 9, 10, 16, 19, 20, 23, 10, 13, 1, 3, 5, 15, 15, 16, 16, 17, 17, 19, 19, 18, 21, 20, 20, 20, 20, 19, 18, 2, 23, 1, 2, 5, 13, 19, 20, 23, 22, 22, 23, 9, 17, 22, 1, 1, 2, 5, 4, 4, 7, 9, 13, 21, 21, 20, 20, 23, 23, 11, 14, 14, 22, 22, 3, 4, 11, 11, 13, 14, 14, 21, 22, 22, 22, 23, 3, 5, 5, 0, 0, 3, 2, 5, 4, 9, 11, 12, 15, 14, 17, 17, 19, 18, 20, 20, 20, 20, 20, 20, 20, 23, 23, 23, 22, 22, 22, 23, 21, 3, 1, 2, 2, 4, 14, 16, 16, 17, 18, 20, 21, 23, 23, 23, 4, 11, 11, 10, 11, 13, 14, 14, 19, 20, 3, 14, 3, 3, 9, 9, 16, 2, 1, 2, 2, 14, 14, 21, 11, 2, 18, 1, 2, 3, 5, 8, 14, 17, 23, 18, 19, 1, 7, 15, 20, 21, 23, 19, 1, 3, 11, 16, 7, 18, 1, 20, 15, 21, 20, 1, 2, 2, 5, 8, 11, 19, 5, 11, 15, 17, 3, 11, 17, 19, 20, 22, 14, 8, 14, 14, 17, 19, 22, 2, 5, 0, 1, 0, 2, 3, 6, 9, 8, 16, 16, 16, 16, 23, 23, 1, 11, 13, 18, 22, 3, 2, 2, 4, 7, 8, 11, 16, 19, 21, 21, 20, 21, 23, 3, 4, 0, 12, 16, 19, 23, 0, 3, 3, 3, 7, 9, 11, 14, 14, 21, 21, 21, 21, 23, 23, 0, 1, 5, 8, 8, 10, 12, 14, 14, 14, 16, 18, 18, 22, 23, 23, 9, 1, 7, 8, 9, 8, 8, 8, 9, 8, 8, 8, 10, 11, 13, 21, 1, 14, 16, 4, 10, 21, 12, 18, 18, 18, 4, 4, 9, 22, 1, 0, 0, 1, 1, 1, 1, 3, 2, 3, 2, 3, 3, 5, 4, 5, 4, 5, 5, 4, 6, 6, 7, 7, 6, 6, 9, 8, 9, 8, 8, 8, 9, 9, 8, 8, 8, 8, 11, 11, 11, 11, 11, 10, 10, 13, 14, 14, 15, 16, 17, 17, 16, 17, 17, 16, 16, 16, 16, 16, 17, 17, 19, 19, 18, 19, 19, 21, 20, 21, 20, 20, 21, 21, 21, 21, 20, 20, 20, 21, 22, 22, 22, 22, 23, 22, 23, 23, 22, 23, 23, 22, 23, 22, 22, 22, 23, 23, 13, 15, 15, 7, 0, 3, 6, 10, 10, 10, 10, 18, 22, 1, 1, 1, 1, 2, 8, 9, 11, 11, 17, 19, 0, 3, 6, 0, 0, 0, 0, 3, 12, 15, 17, 17, 19, 21, 20, 20, 1, 4, 6, 8, 17, 19, 18, 18, 20, 22, 1, 13, 12, 20, 6, 21, 0, 2, 4, 4, 8, 13, 13, 15, 15, 17, 19, 19, 20, 22, 22, 23, 22, 20, 23, 18, 18, 20, 22, 4, 4, 8, 18, 22, 23, 23, 18, 0, 2, 2, 7, 7, 10, 18, 23, 20, 20, 23, 23, 1, 1, 2, 2, 2, 2, 5, 8, 10, 20, 3, 6, 7, 8, 19, 23, 1, 5, 7, 7, 6, 10, 10, 14, 14, 18, 18, 19, 23, 20, 21, 0, 1, 0, 2, 4, 8, 13, 14, 16, 17, 17, 19, 21, 21, 22, 4, 6, 8, 20, 20, 7, 10, 4, 18, 23, 0, 3, 5, 11, 13, 12, 19, 19, 20, 20, 21, 20, 23, 23, 3, 12, 12, 16, 1, 1, 17, 23, 23, 23, 7, 4, 1, 3, 3, 2, 6, 6, 9, 9, 8, 10, 10, 10, 15, 14, 15, 16, 17, 19, 18, 22, 23, 23, 0, 1, 4, 10, 18, 21, 20, 3, 3, 4, 19, 22, 2, 15, 17, 17, 18, 19, 19, 21, 20, 23, 4, 8, 10, 15, 15, 19, 19, 21, 21, 23, 22, 22, 4, 6, 6, 13, 13, 13, 19, 22, 5, 4, 7, 7, 8, 11, 11, 13, 14, 15, 15, 14, 18, 19, 18, 19, 21, 20, 20, 22, 23, 22, 0, 2, 21, 21, 20, 23, 23, 1, 22, 1, 1, 1, 2, 2, 2, 4, 4, 4, 9, 17, 16, 2, 6, 8, 9, 9, 13, 12, 12, 15, 14, 19, 19, 19, 20, 23, 22, 1, 5, 12, 20, 0, 0, 9, 1, 7, 1, 22, 0, 3, 3, 7, 11, 10, 12, 12, 14, 14, 14, 16, 19, 19, 19, 21, 20, 20, 22, 22, 14, 17, 20, 23, 2, 6, 17, 17, 17, 16, 17, 20, 22, 19, 1, 2, 3, 2, 9, 10, 15, 15, 20, 23, 23, 22, 0, 1, 0, 3, 3, 4, 4, 6, 6, 9, 13, 17, 17, 18, 18, 19, 21, 21, 21, 21, 22, 22, 22, 0, 4, 9, 10, 10, 14, 19, 19, 10, 23, 0, 0, 1, 2, 5, 6, 9, 11, 12, 12, 12, 15, 15, 14, 14, 14, 15, 15, 15, 16, 16, 17, 19, 18, 19, 19, 19, 20, 21, 21, 21, 20, 20, 21, 20, 23, 22, 22, 23, 23, 23, 22, 23, 22, 22, 22, 22, 16, 4, 4, 9, 19, 20, 22, 23, 10, 10, 13, 2, 2, 4, 4, 7, 11, 11, 10, 18, 23, 23, 18, 10, 14, 16, 22, 22, 0, 0, 0, 2, 2, 3, 2, 3, 6, 7, 7, 9, 11, 13, 12, 12, 17, 19, 20, 20, 22, 23, 22, 3, 5, 6, 10, 15, 17, 17, 19, 18, 18, 18, 20, 21, 20, 21, 23, 22, 2, 0, 3, 4, 5, 9, 15, 16, 17, 19, 19, 18, 19, 20, 21, 21, 21, 23, 22, 3, 3, 18, 1, 0, 0, 1, 3, 3, 7, 10, 12, 13, 14, 17, 17, 16, 17, 18, 18, 19, 19, 18, 19, 19, 21, 21, 20, 20, 20, 20, 22, 0, 5, 8, 8, 11, 12, 12, 14, 19, 19, 20, 23, 22, 6, 7, 8, 14, 21, 1, 0, 1, 4, 12, 14, 14, 22, 5, 21, 11, 14, 19, 6, 8, 8, 0, 2, 3, 5, 6, 7, 11, 13, 13, 14, 14, 16, 17, 16, 19, 18, 20, 20, 21, 22, 23, 23, 22, 22, 23, 17, 1, 1, 1, 0, 3, 3, 5, 7, 11, 11, 14, 16, 17, 16, 19, 18, 20, 21, 21, 21, 20, 20, 20, 21, 23, 23, 1, 6, 11, 14, 15, 19, 20, 21, 21, 20, 22, 3, 2, 10, 19, 0, 13, 17, 19, 21, 20, 22, 22, 8, 18, 0, 4, 7, 8, 21, 6, 0, 3, 15, 21, 20, 22, 1, 0, 2, 5, 4, 4, 15, 21, 1, 6, 12, 14, 14, 17, 18, 20, 23, 23, 3, 3, 3, 4, 7, 11, 12, 15, 17, 17, 18, 18, 19, 18, 19, 20, 21, 20, 22, 23, 23, 23, 0, 3, 5, 9, 12, 23, 2, 13, 23, 23, 21, 1, 0, 0, 1, 2, 3, 4, 5, 5, 6, 7, 7, 9, 9, 11, 12, 12, 17, 18, 20, 21, 20, 21, 20, 23, 19, 18, 6, 17, 21, 0, 2, 8, 10, 17, 17, 18, 19, 19, 18, 18, 21, 22, 22, 22, 20, 1, 2, 21, 2, 5, 9, 18, 22, 20, 21, 22, 20, 3, 15, 23, 23, 19, 9, 10, 16, 23, 23, 13, 17, 9, 21, 17, 11, 3, 1, 1, 0, 6, 18, 21, 23, 8, 0, 20, 6, 19, 19, 21, 22, 3, 5, 1, 0, 0, 1, 0, 1, 1, 0, 2, 2, 2, 2, 3, 4, 4, 5, 11, 11, 13, 13, 13, 12, 12, 12, 14, 14, 17, 17, 16, 16, 16, 17, 16, 16, 17, 17, 17, 16, 16, 16, 17, 17, 17, 19, 19, 18, 18, 18, 18, 19, 18, 18, 18, 19, 19, 18, 18, 20, 21, 21, 20, 21, 21, 20, 21, 21, 20, 20, 20, 21, 20, 20, 20, 20, 20, 22, 22, 22, 23, 23, 0, 0, 2, 4, 4, 4, 5, 8, 11, 12, 17, 19, 20, 20, 21, 21, 20, 22, 23, 3, 3, 6, 12, 18, 22, 23, 22, 1, 0, 0, 0, 1, 0, 1, 2, 3, 4, 6, 6, 7, 8, 10, 11, 10, 10, 11, 12, 12, 12, 13, 12, 12, 12, 12, 12, 15, 14, 15, 15, 16, 16, 17, 17, 16, 17, 18, 18, 19, 19, 19, 19, 18, 18, 21, 20, 20, 20, 21, 20, 21, 20, 21, 20, 23, 22, 22, 22, 22, 23, 22, 22, 21, 0, 2, 11, 10, 17, 19, 23, 7, 7, 9, 11, 12, 18, 19, 21, 9, 12, 14, 14, 16, 23, 4, 5, 8, 8, 10, 14, 16, 18, 18, 19, 18, 0, 3, 2, 6, 10, 15, 18, 15, 19, 3, 12, 0, 1, 4, 4, 6, 6, 11, 10, 12, 13, 12, 15, 15, 15, 16, 16, 16, 18, 21, 21, 20, 20, 20, 22, 22, 23, 18, 0, 4, 6, 6, 10, 10, 12, 15, 14, 14, 14, 16, 16, 19, 19, 19, 19, 19, 19, 21, 20, 20, 23, 22, 4, 8, 9, 11, 22, 22, 22, 3, 9, 19, 3, 2, 8, 15, 23, 23, 0, 11, 17, 21, 20, 4, 4, 6, 8, 2, 22, 22, 22, 16, 19, 22, 19, 21, 23, 2, 5, 19, 1, 4, 7, 6, 9, 1, 1, 0, 0, 1, 0, 2, 5, 4, 6, 6, 9, 11, 10, 10, 11, 11, 13, 12, 13, 15, 14, 14, 17, 16, 17, 16, 18, 19, 19, 19, 19, 19, 19, 21, 21, 21, 20, 21, 21, 20, 20, 21, 20, 21, 21, 22, 23, 22, 23, 22, 22, 22, 22, 4, 4, 0, 1, 20, 23, 0, 1, 5, 5, 11, 19, 23, 23, 23, 0, 16, 11, 16, 1, 0, 2, 5, 4, 4, 4, 4, 6, 13, 19, 21, 21, 23, 23, 23, 22, 21, 0, 4, 21, 19, 1, 3, 2, 6, 13, 15, 17, 17, 16, 19, 19, 18, 19, 21, 20, 22, 22, 23, 22, 22, 23, 19, 10, 10, 12, 15, 17, 17, 19, 19, 19, 19, 19, 21, 21, 21, 20, 21, 23, 22, 22, 23, 15, 22, 8, 13, 13, 14, 19, 22, 22, 0, 2, 4, 9, 8, 13, 13, 18, 0, 0, 2, 5, 13, 14, 14, 15, 16, 18, 20, 21, 21, 21, 22, 22, 22, 22, 3, 1, 0, 0, 0, 1, 0, 1, 1, 2, 2, 2, 5, 11, 11, 11, 11, 15, 15, 14, 17, 17, 17, 17, 19, 19, 19, 19, 19, 18, 18, 19, 19, 18, 20, 21, 20, 21, 20, 22, 22, 22, 23, 23, 23, 12, 19, 21, 22, 22, 1, 1, 2, 7, 7, 10, 11, 12, 12, 15, 15, 19, 18, 19, 19, 21, 21, 21, 21, 21, 23, 23, 0, 1, 1, 1, 0, 0, 2, 2, 2, 5, 4, 7, 7, 6, 6, 9, 8, 10, 10, 11, 12, 13, 15, 14, 15, 14, 15, 16, 17, 17, 17, 17, 16, 17, 19, 18, 18, 18, 19, 19, 19, 19, 19, 21, 21, 21, 21, 21, 20, 21, 20, 21, 21, 20, 20, 21, 21, 20, 21, 21, 20, 21, 22, 22, 23, 22, 22, 22, 7, 7, 20, 2, 4, 14, 21, 21, 23, 22, 10, 0, 0, 3, 7, 7, 7, 7, 9, 9, 8, 12, 12, 12, 15, 15, 16, 17, 18, 19, 18, 19, 18, 18, 20, 21, 20, 21, 20, 22, 22, 22, 23, 5, 21, 22, 5, 11, 10, 14, 14, 18, 23, 2, 23, 23, 17, 21, 22, 2, 2, 3, 9, 22, 7, 23, 23, 11, 11, 17, 11, 21, 5, 6, 1, 2, 16, 21, 18, 1, 1, 1, 0, 1, 1, 1, 1, 2, 3, 2, 2, 3, 3, 3, 3, 3, 3, 5, 5, 5, 5, 7, 6, 7, 7, 7, 8, 8, 8, 8, 8, 8, 10, 11, 11, 11, 10, 10, 12, 13, 13, 16, 17, 16, 16, 16, 19, 18, 18, 19, 19, 20, 21, 20, 20, 20, 20, 21, 20, 23, 22, 22, 22, 22, 22, 23, 22, 23, 23, 1, 5, 12, 17, 22, 23, 1, 4, 10, 10, 21, 22, 15, 0, 13, 14, 3, 7, 9, 4, 4, 14, 20, 5, 13, 15, 0, 17, 7, 19, 5, 9, 22, 4, 7, 8, 11, 12, 21, 20, 22, 3, 3, 7, 21, 18, 3, 3, 4, 17, 11, 13, 15, 18, 19, 16, 1, 3, 4, 15, 18, 18, 21, 22, 22, 2, 2, 2, 11, 13, 19, 21, 21, 20, 20, 4, 9, 10, 12, 20, 23, 23, 0, 4, 5, 11, 11, 10, 12, 18, 22, 22, 23, 10, 8, 1, 20, 0, 19, 10, 6, 13, 20, 4, 10, 8, 19, 19, 19, 19, 20, 22, 22, 0, 7, 9, 9, 10, 12, 14, 14, 15, 14, 17, 17, 19, 19, 19, 19, 19, 19, 20, 23, 4, 4, 1, 2, 2, 5, 9, 11, 13, 12, 15, 17, 16, 17, 17, 19, 19, 20, 20, 21, 20, 22, 23, 23, 20, 20, 1, 0, 0, 1, 1, 0, 3, 3, 2, 11, 11, 11, 13, 15, 15, 17, 17, 19, 18, 18, 21, 21, 21, 21, 21, 21, 23, 23, 22, 22, 22, 23, 22, 22, 22, 22, 23, 4, 16, 21, 12, 18, 15, 2, 16, 9, 15, 0, 7, 12, 20, 3, 13, 19, 21, 3, 3, 3, 17, 18, 23, 19, 3, 16, 20, 14, 2, 0, 2, 7, 8, 10, 12, 13, 15, 15, 17, 16, 17, 19, 19, 19, 19, 19, 19, 20, 20, 20, 20, 21, 21, 21, 21, 23, 23, 23, 23, 22, 22, 22, 13, 1, 2, 20, 9, 18, 20, 11, 7, 19, 0, 2, 3, 5, 5, 5, 5, 7, 9, 10, 14, 15, 16, 17, 17, 18, 19, 19, 20, 20, 20, 23, 22, 3, 20, 19, 4, 2, 5, 20, 0, 0, 2, 16, 18, 21, 22, 15, 18, 3, 9, 8, 15, 14, 17, 19, 20, 20, 23, 11, 0, 13, 15, 19, 1, 0, 1, 1, 10, 10, 12, 16, 16, 19, 18, 23, 11, 12, 23, 5, 11, 12, 15, 16, 17, 16, 16, 17, 17, 18, 19, 19, 18, 21, 20, 20, 20, 20, 21, 20, 21, 20, 21, 22, 23, 23, 23, 23, 23, 23, 23, 22, 22, 23, 3, 5, 22, 3, 17, 19, 20, 20, 3, 8, 9, 22, 5, 4, 5, 9, 14, 19, 20, 21, 22, 23, 1, 3, 5, 23, 3, 7, 9, 12, 21, 2, 23, 23, 3, 4, 6, 6, 9, 15, 21, 23, 1, 1, 4, 10, 19, 20, 20, 14, 22, 23, 13, 18, 19, 1, 3, 7, 21, 23, 23, 23, 1, 1, 21, 3, 18, 7, 11, 14, 15, 0, 23, 10, 11, 10, 3, 5, 11, 10, 16, 21, 20, 22, 18, 12, 18, 21, 23, 21, 22, 12, 22, 3, 19, 21, 4, 6, 16, 11, 13, 12, 14, 20, 0, 0, 3, 3, 5, 8, 15, 15, 17, 17, 17, 19, 19, 19, 19, 21, 20, 20, 22, 22, 23, 1, 21, 21, 22, 1, 4, 9, 17, 22, 3, 10, 1, 19, 16, 17, 17, 19, 21, 1, 22, 20, 23, 10, 13, 22, 16, 7, 2, 0, 1, 1, 1, 1, 2, 2, 2, 4, 5, 4, 7, 6, 6, 11, 11, 11, 11, 10, 10, 12, 12, 12, 12, 15, 15, 14, 15, 16, 16, 17, 17, 16, 17, 17, 19, 18, 19, 19, 18, 18, 18, 18, 19, 18, 19, 20, 21, 20, 21, 20, 20, 21, 21, 21, 21, 22, 22, 23, 22, 23, 22, 23, 22, 23, 23, 2, 13, 11, 22, 0, 0, 0, 2, 3, 3, 5, 8, 9, 10, 10, 12, 13, 15, 16, 16, 16, 16, 19, 18, 21, 20, 20, 21, 21, 21, 23, 22, 22, 22, 23, 23, 1, 1, 3, 2, 3, 8, 8, 12, 19, 19, 19, 19, 21, 21, 21, 21, 21, 21, 22, 23, 23, 3, 22, 23, 22, 1, 0, 0, 3, 5, 7, 7, 10, 11, 11, 15, 15, 17, 17, 16, 16, 19, 19, 21, 21, 21, 20, 20, 23, 22, 21, 23, 18, 21, 15, 17, 22, 22, 1, 4, 5, 1, 14, 20, 9, 18, 1, 1, 4, 15, 23, 5, 4, 19, 21, 20, 15, 2, 15, 19, 23, 16, 20, 8, 1, 5, 10, 14, 17, 19, 22, 23, 9, 12, 15, 15, 0, 0, 0, 0, 2, 2, 2, 4, 4, 5, 4, 7, 7, 7, 8, 13, 13, 15, 16, 16, 18, 19, 21, 21, 22, 22, 23, 23, 20, 16, 16, 23, 1, 3, 3, 8, 12, 8, 10, 21, 10, 21, 0, 14, 17, 19, 22, 22, 22, 11, 12, 23, 4, 17, 2, 17, 22, 6, 14, 19, 7, 1, 7, 23, 12, 22, 16, 18, 20, 21, 4, 15, 17, 18, 19, 19, 23, 23, 23, 17, 9, 16, 17, 17, 21, 3, 4, 12, 17, 14, 1, 6, 8, 11, 11, 11, 12, 14, 14, 20, 15, 14, 22, 23, 3, 14, 18, 20, 11, 6, 11, 10, 13, 16, 21, 22, 1, 3, 5, 12, 18, 19, 0, 8, 11, 11, 17, 17, 17, 19, 20, 22, 3, 3, 3, 3, 13, 15, 15, 16, 17, 21, 23, 7, 6, 9, 9, 10, 19, 3, 9, 21, 21, 2, 6, 17, 19, 0, 3, 8, 8, 8, 15, 17, 19, 21, 20, 23, 23, 23, 23, 22, 22, 9, 22, 9, 9, 8, 8, 8, 9, 8, 8, 11, 10, 11, 12, 13, 15, 14, 17, 17, 17, 17, 16, 16, 20, 22, 2, 19, 18, 22, 6, 16, 18, 20, 1, 1, 1, 3, 13, 14, 17, 18, 21, 20, 20, 21, 21, 23, 0, 3, 3, 5, 6, 6, 9, 8, 18, 18, 18, 20, 23, 23, 7, 10, 18, 0, 8, 15, 16, 16, 22, 3, 5, 13, 6, 9, 18, 8, 9, 12, 17, 7, 7, 8, 8, 8, 8, 10, 10, 13, 13, 15, 15, 17, 17, 17, 16, 18, 19, 19, 18, 19, 21, 20, 20, 22, 22, 22, 0, 8, 14, 23, 23, 0, 3, 3, 5, 4, 7, 7, 10, 10, 15, 15, 17, 18, 18, 18, 19, 18, 19, 20, 9, 9, 13, 21, 20, 7, 22, 3, 11, 0, 3, 2, 2, 4, 6, 8, 13, 14, 14, 16, 16, 19, 19, 19, 19, 18, 18, 22, 18, 19, 19, 18, 3, 4, 10, 10, 10, 14, 18, 21, 21, 21, 23, 22, 12, 17, 23, 15, 16, 7, 7, 10, 19, 19, 1, 0, 2, 2, 2, 5, 5, 5, 5, 6, 8, 9, 9, 9, 11, 11, 13, 13, 13, 13, 12, 15, 14, 15, 16, 16, 17, 18, 21, 21, 23, 23, 23, 18, 0, 22, 21, 20, 1, 21, 19, 6, 21, 6, 2, 14, 21, 7, 16, 17, 3, 2, 3, 22, 10, 23, 21, 1, 17, 10, 17, 12, 22, 8, 18, 22, 20, 7, 0, 21, 22, 23, 9, 14, 23, 21, 23, 17, 20, 10, 13, 3, 11, 16, 7, 20, 22, 19, 18, 8, 23, 7, 16, 5, 1, 23, 23, 16, 22, 7, 11, 2, 19, 23, 22, 14, 10, 22, 19, 4, 6, 16, 15, 13, 15, 19, 12, 20, 7, 12, 7, 0, 5, 0, 3, 11, 21, 8, 17, 20, 11, 16, 11, 8, 6, 21, 6, 18, 12, 12, 2, 18, 18, 11, 18, 3, 10, 12, 20, 22, 9, 11, 2, 17, 4, 17, 12, 17, 2, 5, 23, 6, 15, 10, 21, 16, 16, 19, 19, 19, 12, 15, 12, 17, 18, 22, 20, 15, 18, 22, 22, 7, 9, 4, 12, 11, 22, 15, 15, 19, 6, 1, 22, 8, 18, 21, 19, 8, 22, 22, 21, 21, 21, 23, 19, 2, 17, 20, 22, 17, 4, 21, 19, 21, 2, 11, 14, 11, 11, 13, 16, 17, 22, 19, 17, 23, 4, 0, 9, 21, 9, 12, 6, 15, 22, 23, 14, 12, 21, 17, 1, 1, 12, 21, 11, 9, 11, 22, 21, 6, 9, 2, 22, 11, 15, 0, 7, 2, 2, 20, 21, 0, 0, 7, 16, 4, 1, 20, 12, 7, 3, 4, 20, 5, 11, 22, 2, 22, 16, 21, 22, 1, 23, 0, 16, 20, 20, 2, 16, 0, 11, 21, 8, 4, 12, 16, 3, 20, 4, 22, 5, 20, 19, 14, 21, 21, 22, 10, 10, 23, 14, 1, 18, 21, 21, 22, 20, 20, 13, 16, 21, 20, 4, 6, 3, 20, 23, 14, 4, 22, 21, 15, 13, 20, 21, 17, 4, 19, 0, 21, 7, 2, 17, 21, 0, 17, 1, 17, 13, 10, 20, 1, 2, 21, 17, 17, 23, 1, 12, 16, 20, 2, 8, 12, 13, 19, 6, 20, 10, 13, 1, 5, 20, 14, 5, 22, 0, 1, 23, 5, 15, 12, 2, 19, 11, 0, 20, 12, 4, 15, 18, 14, 3, 23, 9, 13, 12, 2, 1, 0, 11, 20, 12, 17, 14, 17, 5, 21, 20, 0, 1, 16, 0, 4, 22, 23, 20, 22, 16, 16, 8, 6, 4, 0, 7, 21, 22, 10, 19, 15, 20, 22, 1, 15, 7, 19, 21, 18, 22, 20, 16, 21, 14, 21, 6, 22, 2, 18, 10, 4, 19, 20, 4, 13, 10, 21, 4, 15, 2, 1, 22, 0, 2, 0, 8, 20, 14, 14, 14, 15, 17, 19, 3, 8, 22, 11, 20, 2, 0, 19, 16, 22, 7, 19, 10, 8, 1, 22, 10, 8, 7, 22, 21, 9, 21, 14, 18, 13, 1, 20, 22, 15, 7, 10, 15, 0, 22, 19, 20, 6, 21, 19, 23, 21, 13, 20, 8, 23, 2, 1, 19, 16, 0, 1, 22, 21, 8, 13, 0, 23, 22, 22, 17, 0, 19, 19, 6, 19, 14, 2, 4, 7, 8, 2, 20, 3, 7, 1, 18, 18, 12, 17, 10, 21, 0, 17, 21, 21, 19, 17, 21, 19, 14, 7, 23, 2, 23, 13, 20, 20, 10, 19, 23, 8, 11, 0, 21, 19, 20, 23, 19, 1, 21, 6, 21, 3, 17, 1, 20, 1, 7, 6, 18, 17, 19, 22, 23, 10, 16, 17, 23, 22, 12, 18, 1, 20, 22, 0, 8, 23, 20, 17, 20, 1, 23, 16, 12, 16, 3, 19, 1, 9, 20, 20, 3, 23, 22, 10, 20, 17, 19, 6, 2, 20, 20, 22, 18, 20, 9, 14, 23, 13, 23, 9, 23, 19, 15, 21, 15, 18, 4, 1, 7, 0, 16, 19, 7, 16, 10, 20, 19, 17, 8, 10, 2, 14, 9, 8, 11, 10, 12, 17, 12, 7, 16, 20, 8, 3, 21, 20, 23, 23, 10, 20, 11, 3, 5, 21, 20, 17, 3, 17, 8, 9, 19, 1, 19, 11, 18, 20, 21, 13, 11, 21, 3, 5, 1, 15, 20, 3, 2, 18, 12, 5, 8, 1, 15, 7, 18, 21, 15, 20, 7, 5, 3, 18, 0, 2, 21, 16, 22, 15, 13, 20, 14, 17, 18, 22, 16, 14, 14, 19, 19, 4, 0, 13, 19, 0, 19, 19, 19, 8, 1, 17, 19, 16, 19, 10, 17, 10, 1, 21, 1, 12, 16, 1, 18, 1, 19, 2, 12, 12, 23, 12, 17, 17, 0, 0, 14, 19, 9, 1, 13, 15, 0, 3, 11, 16, 15, 3, 14, 3, 20, 4, 16, 23, 18, 15, 17, 15, 13, 3, 7, 11, 23, 12, 14, 20, 13, 18, 11, 20, 7, 17, 15, 21, 22, 9, 3, 4, 22, 21, 19, 4, 19, 15, 17, 9, 11, 16, 4, 19, 22, 18, 22, 20, 21, 4, 23, 10, 19, 23, 8, 0, 19, 22, 7, 23, 15, 5, 22, 0, 16, 21, 14, 22, 1, 17, 23, 19, 22, 15, 20, 21, 19, 2, 12, 10, 20, 20, 17, 19, 14, 17, 14, 17, 1, 18, 19, 20, 22, 20, 20, 13, 21, 1, 3, 20, 20, 14, 18, 22, 4, 0, 19, 0, 10, 21, 20, 18, 21, 12, 21, 22, 23, 19, 23, 1, 18, 20, 1, 17, 22, 20, 19, 14, 2, 0, 21, 3, 23, 11, 18, 22, 5, 21, 21, 20, 20, 20, 22, 23, 21, 14, 17, 21, 5, 23, 23, 23, 12, 3, 20, 19, 1, 19, 4, 16, 1, 20, 23, 18, 15, 20, 15, 13, 21, 17, 14, 22, 13, 16, 23, 23, 17, 17, 1, 19, 21, 2, 11, 17, 14, 19, 10, 3, 10, 2, 22, 2, 21, 20, 5, 0, 4, 20, 1, 22, 3, 21, 23, 2, 23, 17, 7, 17, 20, 14, 3, 21, 17, 15, 3, 19, 4, 16, 22, 18, 5, 17, 4, 17, 9, 21, 0, 12, 1, 11, 15, 15, 1, 23, 23, 12, 19, 21, 3, 16, 20, 13, 12, 14, 19, 21, 19, 22, 11, 19, 4, 0, 17, 13, 4, 18, 16, 16, 17, 21, 17, 0, 20, 21, 17, 1, 19, 12, 4, 4, 7, 21, 2, 11, 19, 22, 8, 23, 12, 14, 17, 1, 12, 16, 22, 17, 3, 3, 1, 13, 13, 19, 20, 13, 14, 4, 1, 18, 19, 10, 16, 17, 18, 16, 15, 16, 19, 3, 17, 20, 22, 23, 16, 23, 22, 3, 18, 7, 20, 14, 6, 23, 12, 19, 7, 20, 13, 17, 20, 22, 20, 18, 12, 2, 14, 17, 21, 15, 2, 21, 22, 0, 3, 21, 23, 6, 19, 19, 22, 21, 16, 23, 17, 2, 1, 22, 20, 19, 14, 21, 22, 23, 12, 23, 19, 1, 13, 11, 20, 16, 15, 23, 20, 22, 12, 11, 17, 5, 16, 16, 23, 14, 19, 11, 22, 3, 15, 15, 19, 12, 6, 10, 19, 4, 12, 15, 20, 16, 18, 0, 3, 19, 18, 18, 19, 14, 23, 1, 23, 14, 17, 11, 23, 11, 19, 9, 23, 20, 17, 19, 15, 21, 19, 3, 14, 0, 14, 17, 6, 4, 2, 22, 0, 19, 12, 20, 9, 4, 16, 19, 13, 23, 19, 1, 23, 23, 9, 14, 23, 4, 19, 22, 1, 5, 0, 22, 21, 5, 20, 19, 22, 20, 1, 20, 23, 23, 11, 2, 6, 15, 16, 6, 21, 21, 18, 19, 11, 23, 6, 11, 19, 12, 14, 19, 19, 21, 23, 14, 7, 18, 21, 20, 9, 16, 7, 3, 3, 21, 7, 17, 22, 2, 16, 19, 21, 15, 21, 1, 18, 18, 10, 16, 19, 0, 5, 9, 20, 11, 2, 23, 19, 20, 16, 18, 19, 21, 3, 9, 0, 15, 20, 22, 19, 16, 18, 16, 20, 12, 13, 18, 1, 23, 20, 0, 23, 22, 11, 22, 17, 14, 11, 11, 17, 3, 4, 17, 23, 20, 3, 1, 19, 19, 10, 22, 21, 12, 12, 22, 20, 21, 1, 20, 23, 16, 2, 11, 7, 22, 10, 23, 12, 3, 22, 21, 22, 17, 21, 20, 3, 21, 21, 1, 11, 5, 11, 6, 20, 20, 0, 21, 19, 12, 6, 21, 18, 12, 0, 1, 10, 16, 17, 20, 20, 16, 1, 20, 14, 18, 13, 20, 21, 15, 15, 8, 15, 17, 12, 18, 22, 19, 23, 19, 20, 1, 11, 21, 9, 23, 10, 11, 0, 20, 19, 5, 6, 21, 13, 18, 1, 19, 14, 19, 20, 17, 11, 23, 5, 20, 3, 23, 11, 6, 12, 15, 21, 16, 17, 10, 19, 15, 20, 21, 20, 20, 17, 18, 16, 1, 20, 1, 2, 21, 3, 19, 7, 19, 20, 11, 13, 1, 21, 21, 23, 1, 21, 13, 19, 13, 23, 17, 22, 3, 4, 8, 0, 3, 22, 1, 9, 16, 20, 5, 20, 20, 16, 12, 19, 21, 11, 15, 16, 7, 5, 21, 14, 20, 13, 6, 0, 16, 18, 17, 4, 12, 19, 22, 21, 12, 18, 15, 2, 18, 2, 16, 0, 3, 19, 18, 20, 19, 19, 20, 17, 17, 13, 14, 20, 22, 21, 17, 21, 17, 19, 21, 14, 20, 14, 18, 18, 10, 2, 19, 16, 14, 3, 8, 18, 23, 20, 12, 1, 21, 19, 12, 19, 4, 11, 17, 1, 10, 12, 4, 22, 22, 17, 23, 21, 16, 23, 22, 9, 13, 20, 16, 22, 19, 16, 2, 23, 20, 13, 21, 13, 15, 19, 17, 23, 22, 23, 19, 23, 17, 19, 19, 3, 20, 13, 13, 22, 20, 5, 16, 22, 11, 20, 21, 22, 5, 23, 8, 1, 4, 0, 14, 3, 1, 0, 20, 8, 20, 14, 11, 17, 22, 21, 3, 18, 17, 10, 19, 22, 22, 3, 14, 20, 16, 20, 21, 20, 14, 11, 1, 15, 6, 11, 16, 18, 10, 18, 18, 18, 2, 19, 22, 4, 22, 15, 15, 10, 12, 19, 8, 21, 23, 22, 20, 3, 19, 13, 0, 4, 13, 17, 21, 1, 20, 22, 0, 10, 20, 23, 4, 3, 17, 21, 0, 8, 1, 10, 13, 23, 22, 11, 2, 12, 6, 6, 11, 17, 7, 4, 4, 17, 2, 10, 16, 17, 18, 1, 13, 21, 2, 1, 20, 11, 11, 23, 2, 6, 14, 7, 12, 17, 8, 12, 5, 19, 17, 10, 17, 10, 5, 22, 21, 4, 9, 22, 21, 23, 0, 4, 2, 19, 23, 3, 0, 19, 13, 23, 1, 3, 16, 3, 2, 21, 18, 18, 20, 2, 1, 3, 15, 3, 22, 2, 23, 0, 2, 22, 6, 17, 16, 17, 20, 9, 22, 6, 22, 2, 10, 16, 15, 12, 10, 17, 12, 12, 23, 9, 13, 18, 10, 6, 15, 6, 1, 15, 8, 20, 1, 11, 21, 16, 4, 15, 8, 15, 14, 23, 2, 1, 3, 6, 5, 19, 20, 1, 10, 19, 18, 18, 20, 6, 15, 3, 20, 2, 4, 21, 18, 22, 11, 14, 21, 2, 4, 23, 19, 6, 4, 16, 6, 20, 23, 20, 12, 20, 20, 23, 9, 12, 6, 4, 21, 15, 1, 16, 10, 7, 21, 3, 4, 6, 9, 18, 22, 19, 21, 19, 6, 1, 22, 16, 19, 22, 23, 6, 17, 14, 9, 5, 12, 19, 19, 21, 13, 11, 10, 17, 14, 20, 17, 2, 20, 12, 6, 20, 1, 8, 4, 5, 9, 20, 20, 5, 14, 11, 0, 2, 4, 11, 19, 19, 18, 15, 5, 14, 20, 18, 13, 23, 19, 5, 22, 11, 1, 1, 23, 21, 13, 10, 5, 5, 5, 12, 11, 22, 14, 21, 18, 21, 1, 21, 7, 2, 21, 6, 21, 4, 22, 22, 17, 20, 10, 10, 2, 0, 23, 17, 8, 8, 22, 19, 18, 11, 19, 3, 4, 11, 3, 23, 10, 0, 17, 3, 22, 10, 13, 3, 3, 3, 8, 8, 19, 5, 17, 22, 21, 22, 10, 21, 18, 5, 22, 21, 19, 16, 21, 19, 21, 21, 18, 8, 21, 22, 7, 10, 19, 7, 7, 0, 19, 7, 7, 18, 19, 18, 8, 0, 8, 2, 22, 4, 20, 5, 23, 5, 20, 15, 20, 2, 15, 14, 9, 20, 14, 10, 22, 21, 8, 4, 11, 12, 22, 8, 23, 4, 8, 6, 6, 6, 4, 2, 7, 11, 18, 7, 13, 22, 14, 18, 0, 21, 9, 3, 21, 21, 1, 1, 17, 19, 15, 23, 3, 3, 2, 5, 3, 0, 15, 22, 14, 12, 5, 16, 21, 13, 1, 23, 6, 15, 23, 10, 6, 8, 1, 1, 8, 8, 21, 1, 5, 1, 8, 3, 23, 1, 5, 22, 0, 8, 9, 4, 23, 22, 7, 21, 1, 17, 3, 23, 22, 1, 7, 23, 21, 13, 23, 10, 6, 4, 13, 15, 16, 10, 16, 12, 0, 22, 3, 2, 20, 3, 10, 16, 23, 0, 17, 14, 19, 0, 17, 19, 12, 10, 11, 11, 20, 19, 13, 10, 3, 14, 21, 4, 21, 16, 11, 14, 15, 18, 17, 15, 12, 13, 10, 17, 13, 1, 13, 2, 19, 23, 11, 5, 19, 13, 16, 15, 19, 21, 23, 0, 12, 0, 7, 22, 10, 10, 9, 21, 18, 23, 5, 2, 23, 23, 0, 6, 1, 6, 0, 0, 20, 20, 11, 16, 4, 10, 13, 10, 23, 23, 21, 15, 3, 18, 4, 18, 19, 20, 20, 5, 10, 23, 3, 22, 8, 21, 7, 23, 2, 22, 21, 19, 5, 2, 9, 5, 12, 4, 20, 20, 7, 6, 17, 8, 14, 18, 22, 18, 22, 19, 18, 4, 18, 15, 16, 2, 22, 2, 6, 1, 0, 21, 0, 21, 0, 9, 12, 22, 18, 1, 23, 12, 19, 23, 20, 14, 21, 19, 3, 3, 9, 15, 2, 3, 5, 20, 2, 7, 5, 7, 17, 13, 4, 19, 12, 2, 14, 14, 10, 8, 20, 6, 23, 14, 15, 5, 8, 19, 1, 21, 1, 12, 19, 19, 8, 18, 18, 1, 20, 21, 19, 8, 1, 18, 0, 17, 19, 23, 17, 23, 19, 14, 15, 17, 0, 21, 7, 7, 19, 8, 12, 6, 8, 23, 6, 17, 2, 9, 0, 14, 16, 21, 9, 0, 21, 18, 9, 5, 23, 15, 13, 6, 15, 13, 20, 13, 12, 4, 4, 20, 20, 0, 18, 7, 5, 23, 10, 13, 20, 19, 17, 12, 1, 0, 10, 21, 22, 21, 17, 1, 22, 16, 0, 0, 12, 12, 21, 19, 5, 6, 9, 23, 16, 22, 17, 19, 16, 21, 14, 20, 5, 23, 3, 4, 8, 15, 7, 21, 22, 1, 7, 21, 8, 22, 21, 3, 17, 4, 2, 20, 23, 15, 10, 14, 2, 17, 17, 20, 20, 21, 8, 23, 14, 8, 22, 3, 17, 1, 12, 6, 21, 8, 11, 20, 7, 21, 5, 23, 6, 14, 2, 22, 13, 23, 19, 17, 3, 15, 17, 3, 11, 3, 1, 19, 20, 4, 23, 5, 17, 13, 18, 21, 17, 16, 0, 23, 12, 16, 8, 20, 17, 23, 12, 22, 1, 21, 0, 9, 5, 19, 15, 22, 11, 21, 4, 4, 3, 8, 18, 18, 1, 22, 1, 14, 9, 12, 21, 2, 10, 0, 12, 4, 21, 21, 8, 3, 20, 11, 13, 19, 19, 5, 3, 23, 16, 21, 20, 19, 22, 23, 19, 20, 5, 21, 7, 11, 20, 20, 4, 22, 20, 15, 20, 21, 10, 20, 6, 2, 6, 10, 3, 3, 19, 22, 10, 13, 16, 23, 21, 22, 23, 0, 19, 2, 22, 22, 6, 23, 0, 22, 6, 21, 12, 18, 18, 21, 17, 23, 13, 13, 20, 13, 22, 13, 16, 23, 8, 16, 21, 4, 5, 3, 19, 0, 16, 22, 21, 21, 21, 2, 19, 17, 20, 21, 19, 1, 21, 22, 23, 14, 9, 9, 23, 4, 17, 19, 22, 18, 14, 19, 3, 23, 23, 21, 6, 1, 22, 0, 10, 22, 14, 22, 19, 11, 4, 20, 18, 17, 19, 22, 10, 1, 4, 1, 17, 23, 19, 19, 0, 4, 1, 10, 19, 3, 21, 21, 11, 20, 21, 1, 21, 2, 15, 11, 7, 16, 2, 9, 11, 18, 7, 0, 5, 6, 9, 21, 10, 20, 7, 21, 8, 5, 9, 22, 19, 9, 2, 2, 0, 3, 8, 9, 11, 19, 4, 12, 0, 11, 0, 0, 20, 22, 1, 1, 16, 23, 3, 3, 0, 1, 3, 22, 20, 3, 3, 21, 3, 11, 5, 23, 10, 11, 5, 2, 8, 21, 22, 20, 21, 19, 21, 4, 1, 15, 0, 19, 1, 19, 11, 1, 1, 0, 21, 10, 19, 19, 3, 18, 15, 12, 20, 10, 17, 17, 16, 9, 9, 11, 10, 17, 19, 20, 8, 7, 23, 9, 13, 9, 15, 11, 16, 14, 9, 14, 8, 16, 17, 14, 20, 11, 11, 8, 8, 7, 8, 22, 14, 10, 16, 14, 9, 11, 22, 19, 9, 23, 2, 20, 1, 18, 2, 22, 7, 15, 22, 20, 3, 21, 1, 21, 1, 0, 20, 1, 0, 20, 23, 23, 21, 10, 20, 22, 4, 9, 4, 18, 1, 10, 8, 11, 3, 1, 9, 15, 1, 15, 3, 16, 8, 19, 23, 21, 17, 6, 15, 21, 22, 19, 17, 20, 5, 3, 22, 7, 18, 19, 4, 19, 21, 2, 15, 6, 7, 21, 19, 16, 6, 6, 20, 8, 0, 8, 15, 8, 18, 10, 19, 23, 12, 20, 12, 13, 20, 20, 5, 20, 18, 5, 1, 18, 19, 17, 11, 8, 16, 3, 2, 3, 0, 6, 2, 21, 2, 15, 7, 15, 6, 15, 21, 18, 22, 10, 2, 1, 2, 3, 22, 1, 19, 22, 2, 11, 23, 22, 4, 12, 17, 16, 3, 6, 2, 10, 13, 15, 14, 2, 16, 18, 3, 4, 2, 7, 8, 19, 22, 8, 1, 9, 9, 15, 1, 19, 10, 3, 13, 21, 8, 18, 7, 3, 20, 9, 2, 13, 22, 22, 6, 12, 22, 9, 20, 1, 9, 15, 14, 5, 3, 18, 18, 13, 9, 9, 22, 10, 2, 20, 18, 3, 23, 14, 23, 4, 13, 23, 8, 12, 4, 4, 18, 9, 20, 18, 17, 3, 18, 23, 22, 9, 3, 0, 18, 20, 16, 21, 21, 2, 9, 0, 21, 19, 0, 9, 10, 10, 10, 10, 17, 17, 23, 5, 10, 10, 10, 10, 10, 10, 18, 3, 2, 8, 16, 23, 13, 14, 20, 2, 16, 14, 13, 20, 17, 13, 11, 3, 3, 21, 2, 0, 10, 23, 6, 2, 20, 20, 20, 1, 5, 1, 0, 0, 17, 13, 17, 17, 18, 5, 11, 9, 4, 9, 21, 21, 20, 4, 6, 19, 22, 11, 13, 11, 5, 20, 19, 0, 14, 13, 4, 17, 19, 16, 22, 9, 10, 20, 8, 7, 19, 4, 1, 9, 3, 11, 16, 16, 20, 20, 3, 21, 9, 14, 22, 17, 15, 20, 18, 1, 22, 20, 19, 21, 19, 9, 21, 2, 15, 19, 6, 22, 19, 5, 16, 19, 23, 21, 6, 17, 23, 17, 23, 21, 7, 19, 0, 18, 23, 9, 9, 14, 20, 22, 17, 11, 7, 21, 15, 19, 17, 22, 6, 9, 10, 7, 19, 7, 16, 17, 10, 0, 22, 17, 19, 3, 15, 3, 14, 22, 0, 1, 8, 12, 3, 7, 20, 5, 23, 20, 6, 15, 18, 21, 18, 1, 13, 22, 2, 8, 5, 17, 9, 15, 23, 23, 7, 21, 17, 20, 21, 11, 16, 5, 6, 17, 0, 13, 21, 7, 20, 17, 4, 19, 22, 10, 18, 20, 23, 3, 21, 19, 19, 19, 9, 16, 9, 6, 16, 16, 18, 20, 17, 17, 19, 14, 19, 23, 2, 0, 23, 23, 9, 3, 23, 19, 9, 1, 19, 20, 15, 3, 3, 14, 14, 19, 18, 14, 14, 5, 0, 18, 8, 6, 5, 20, 20, 18, 6, 11, 14, 8, 7, 20, 15, 0, 23, 21, 2, 12, 12, 23, 16, 20, 0, 10, 23, 3, 22, 19, 9, 12, 1, 21, 3, 18, 23, 15, 15, 7, 1, 20, 15, 21, 8, 11, 19, 23, 1, 16, 1, 11, 23, 20, 19, 4, 21, 5, 13, 10, 2, 1, 2, 7, 22, 14, 7, 17, 3, 3, 22, 19, 23, 22, 14, 14, 0, 5, 20, 21, 21, 11, 23, 0, 8, 19, 2, 20, 2, 11, 9, 3, 1, 21, 0, 5, 0, 23, 3, 20, 18, 11, 11, 6, 17, 21, 18, 18, 20, 6, 7, 19, 16, 3, 5, 7, 4, 22, 17, 22, 18, 11, 9, 22, 5, 11, 8, 10, 14, 3, 18, 21, 8, 10, 21, 20, 7, 10, 9, 19, 21, 12, 13, 10, 3, 19, 23, 23, 3, 2, 23, 21, 20, 20, 0, 11, 20, 22, 8, 2, 7, 15, 22, 17, 3, 15, 19, 19, 2, 21, 8, 12, 7, 15, 19, 8, 21, 19, 22, 3, 3, 8, 21, 14, 1, 14, 9, 16, 23, 2, 9, 9, 23, 3, 18, 21, 18, 8, 5, 9, 1, 21, 10, 1, 8, 22, 21, 23, 9, 12, 22, 8, 18, 23, 20, 23, 4, 21, 11, 3, 8, 18, 5, 14, 8, 6, 8, 21, 3, 19, 20, 8, 21, 10, 10, 11, 10, 13, 13, 20, 11, 17, 22, 4, 18, 21, 17, 16, 9, 11, 7, 23, 3, 3, 20, 0, 23, 22, 22, 20, 5, 4, 3, 11, 20, 12, 10, 23, 18, 18, 17, 16, 12, 1, 2, 2, 23, 18, 19, 15, 0, 20, 15, 20, 1, 10, 23, 1, 19, 19, 19, 19, 15, 23, 19, 3, 21, 21, 19, 0, 18, 4, 20, 0, 13, 10, 8, 10, 9, 15, 0, 6, 8, 20, 17, 20, 8, 6, 19, 9, 2, 21, 15, 14, 20, 0, 16, 23, 23, 18, 23, 5, 22, 22, 7, 3, 22, 3, 23, 13, 17, 7, 3, 9, 1, 8, 14, 16, 0, 4, 18, 21, 9, 12, 7, 13, 4, 2, 4, 20, 1, 9, 13, 16, 21, 9, 13, 13, 2, 23, 3, 0, 2, 23, 13, 21, 10, 11, 7, 20, 15, 2, 8, 6, 5, 20, 12, 19, 3, 19, 8, 18, 23, 15, 19, 14, 23, 4, 23, 17, 21, 17, 16, 0, 2, 17, 16, 2, 17, 8, 13, 15, 16, 14, 22, 22, 9, 11, 4, 21, 3, 21, 4, 20, 4, 7, 17, 8, 16, 15, 21, 13, 12, 3, 8, 4, 1, 19, 10, 12, 21, 21, 8, 10, 3, 0, 7, 10, 20, 9, 6, 20, 19, 19, 18, 0, 16, 23, 12, 2, 22, 2, 7, 5, 14, 6, 2, 3, 12, 14, 19, 17, 1, 7, 4, 23, 12, 16, 7, 6, 7, 20, 23, 21, 16, 20, 8, 19, 22, 9, 2, 0, 21, 21, 22, 8, 23, 9, 3, 21, 1, 19, 22, 16, 15, 18, 5, 4, 19, 5, 1, 22, 14, 19, 14, 17, 3, 10, 11, 12, 14, 8, 22, 5, 8, 3, 23, 23, 20, 4, 10, 10, 17, 3, 17, 2, 19, 15, 22, 7, 20, 12, 21], \"y0\": \" \", \"yaxis\": \"y\"}],\n",
              "                        {\"boxmode\": \"group\", \"height\": 800, \"legend\": {\"tracegroupgap\": 0}, \"template\": {\"data\": {\"bar\": [{\"error_x\": {\"color\": \"#2a3f5f\"}, \"error_y\": {\"color\": \"#2a3f5f\"}, \"marker\": {\"line\": {\"color\": \"#E5ECF6\", \"width\": 0.5}}, \"type\": \"bar\"}], \"barpolar\": [{\"marker\": {\"line\": {\"color\": \"#E5ECF6\", \"width\": 0.5}}, \"type\": \"barpolar\"}], \"carpet\": [{\"aaxis\": {\"endlinecolor\": \"#2a3f5f\", \"gridcolor\": \"white\", \"linecolor\": \"white\", \"minorgridcolor\": \"white\", \"startlinecolor\": \"#2a3f5f\"}, \"baxis\": {\"endlinecolor\": \"#2a3f5f\", \"gridcolor\": \"white\", \"linecolor\": \"white\", \"minorgridcolor\": \"white\", \"startlinecolor\": \"#2a3f5f\"}, \"type\": \"carpet\"}], \"choropleth\": [{\"colorbar\": {\"outlinewidth\": 0, \"ticks\": \"\"}, \"type\": \"choropleth\"}], \"contour\": [{\"colorbar\": {\"outlinewidth\": 0, \"ticks\": \"\"}, \"colorscale\": [[0.0, \"#0d0887\"], [0.1111111111111111, \"#46039f\"], [0.2222222222222222, \"#7201a8\"], [0.3333333333333333, \"#9c179e\"], [0.4444444444444444, \"#bd3786\"], [0.5555555555555556, \"#d8576b\"], [0.6666666666666666, \"#ed7953\"], [0.7777777777777778, \"#fb9f3a\"], [0.8888888888888888, \"#fdca26\"], [1.0, \"#f0f921\"]], \"type\": \"contour\"}], \"contourcarpet\": [{\"colorbar\": {\"outlinewidth\": 0, \"ticks\": \"\"}, \"type\": \"contourcarpet\"}], \"heatmap\": [{\"colorbar\": {\"outlinewidth\": 0, \"ticks\": \"\"}, \"colorscale\": [[0.0, \"#0d0887\"], [0.1111111111111111, \"#46039f\"], [0.2222222222222222, \"#7201a8\"], [0.3333333333333333, \"#9c179e\"], [0.4444444444444444, \"#bd3786\"], [0.5555555555555556, \"#d8576b\"], [0.6666666666666666, \"#ed7953\"], [0.7777777777777778, \"#fb9f3a\"], [0.8888888888888888, \"#fdca26\"], [1.0, \"#f0f921\"]], \"type\": \"heatmap\"}], \"heatmapgl\": [{\"colorbar\": {\"outlinewidth\": 0, \"ticks\": \"\"}, \"colorscale\": [[0.0, \"#0d0887\"], [0.1111111111111111, \"#46039f\"], [0.2222222222222222, \"#7201a8\"], [0.3333333333333333, \"#9c179e\"], [0.4444444444444444, \"#bd3786\"], [0.5555555555555556, \"#d8576b\"], [0.6666666666666666, \"#ed7953\"], [0.7777777777777778, \"#fb9f3a\"], [0.8888888888888888, \"#fdca26\"], [1.0, \"#f0f921\"]], \"type\": \"heatmapgl\"}], \"histogram\": [{\"marker\": {\"colorbar\": {\"outlinewidth\": 0, \"ticks\": \"\"}}, \"type\": \"histogram\"}], \"histogram2d\": [{\"colorbar\": {\"outlinewidth\": 0, \"ticks\": \"\"}, \"colorscale\": [[0.0, \"#0d0887\"], [0.1111111111111111, \"#46039f\"], [0.2222222222222222, \"#7201a8\"], [0.3333333333333333, \"#9c179e\"], [0.4444444444444444, \"#bd3786\"], [0.5555555555555556, \"#d8576b\"], [0.6666666666666666, \"#ed7953\"], [0.7777777777777778, \"#fb9f3a\"], [0.8888888888888888, \"#fdca26\"], [1.0, \"#f0f921\"]], \"type\": \"histogram2d\"}], \"histogram2dcontour\": [{\"colorbar\": {\"outlinewidth\": 0, \"ticks\": \"\"}, \"colorscale\": [[0.0, \"#0d0887\"], [0.1111111111111111, \"#46039f\"], [0.2222222222222222, \"#7201a8\"], [0.3333333333333333, \"#9c179e\"], [0.4444444444444444, \"#bd3786\"], [0.5555555555555556, \"#d8576b\"], [0.6666666666666666, \"#ed7953\"], [0.7777777777777778, \"#fb9f3a\"], [0.8888888888888888, \"#fdca26\"], [1.0, \"#f0f921\"]], \"type\": \"histogram2dcontour\"}], \"mesh3d\": [{\"colorbar\": {\"outlinewidth\": 0, \"ticks\": \"\"}, \"type\": \"mesh3d\"}], \"parcoords\": [{\"line\": {\"colorbar\": {\"outlinewidth\": 0, \"ticks\": \"\"}}, \"type\": \"parcoords\"}], \"pie\": [{\"automargin\": true, \"type\": \"pie\"}], \"scatter\": [{\"marker\": {\"colorbar\": {\"outlinewidth\": 0, \"ticks\": \"\"}}, \"type\": \"scatter\"}], \"scatter3d\": [{\"line\": {\"colorbar\": {\"outlinewidth\": 0, \"ticks\": \"\"}}, \"marker\": {\"colorbar\": {\"outlinewidth\": 0, \"ticks\": \"\"}}, \"type\": \"scatter3d\"}], \"scattercarpet\": [{\"marker\": {\"colorbar\": {\"outlinewidth\": 0, \"ticks\": \"\"}}, \"type\": \"scattercarpet\"}], \"scattergeo\": [{\"marker\": {\"colorbar\": {\"outlinewidth\": 0, \"ticks\": \"\"}}, \"type\": \"scattergeo\"}], \"scattergl\": [{\"marker\": {\"colorbar\": {\"outlinewidth\": 0, \"ticks\": \"\"}}, \"type\": \"scattergl\"}], \"scattermapbox\": [{\"marker\": {\"colorbar\": {\"outlinewidth\": 0, \"ticks\": \"\"}}, \"type\": \"scattermapbox\"}], \"scatterpolar\": [{\"marker\": {\"colorbar\": {\"outlinewidth\": 0, \"ticks\": \"\"}}, \"type\": \"scatterpolar\"}], \"scatterpolargl\": [{\"marker\": {\"colorbar\": {\"outlinewidth\": 0, \"ticks\": \"\"}}, \"type\": \"scatterpolargl\"}], \"scatterternary\": [{\"marker\": {\"colorbar\": {\"outlinewidth\": 0, \"ticks\": \"\"}}, \"type\": \"scatterternary\"}], \"surface\": [{\"colorbar\": {\"outlinewidth\": 0, \"ticks\": \"\"}, \"colorscale\": [[0.0, \"#0d0887\"], [0.1111111111111111, \"#46039f\"], [0.2222222222222222, \"#7201a8\"], [0.3333333333333333, \"#9c179e\"], [0.4444444444444444, \"#bd3786\"], [0.5555555555555556, \"#d8576b\"], [0.6666666666666666, \"#ed7953\"], [0.7777777777777778, \"#fb9f3a\"], [0.8888888888888888, \"#fdca26\"], [1.0, \"#f0f921\"]], \"type\": \"surface\"}], \"table\": [{\"cells\": {\"fill\": {\"color\": \"#EBF0F8\"}, \"line\": {\"color\": \"white\"}}, \"header\": {\"fill\": {\"color\": \"#C8D4E3\"}, \"line\": {\"color\": \"white\"}}, \"type\": \"table\"}]}, \"layout\": {\"annotationdefaults\": {\"arrowcolor\": \"#2a3f5f\", \"arrowhead\": 0, \"arrowwidth\": 1}, \"coloraxis\": {\"colorbar\": {\"outlinewidth\": 0, \"ticks\": \"\"}}, \"colorscale\": {\"diverging\": [[0, \"#8e0152\"], [0.1, \"#c51b7d\"], [0.2, \"#de77ae\"], [0.3, \"#f1b6da\"], [0.4, \"#fde0ef\"], [0.5, \"#f7f7f7\"], [0.6, \"#e6f5d0\"], [0.7, \"#b8e186\"], [0.8, \"#7fbc41\"], [0.9, \"#4d9221\"], [1, \"#276419\"]], \"sequential\": [[0.0, \"#0d0887\"], [0.1111111111111111, \"#46039f\"], [0.2222222222222222, \"#7201a8\"], [0.3333333333333333, \"#9c179e\"], [0.4444444444444444, \"#bd3786\"], [0.5555555555555556, \"#d8576b\"], [0.6666666666666666, \"#ed7953\"], [0.7777777777777778, \"#fb9f3a\"], [0.8888888888888888, \"#fdca26\"], [1.0, \"#f0f921\"]], \"sequentialminus\": [[0.0, \"#0d0887\"], [0.1111111111111111, \"#46039f\"], [0.2222222222222222, \"#7201a8\"], [0.3333333333333333, \"#9c179e\"], [0.4444444444444444, \"#bd3786\"], [0.5555555555555556, \"#d8576b\"], [0.6666666666666666, \"#ed7953\"], [0.7777777777777778, \"#fb9f3a\"], [0.8888888888888888, \"#fdca26\"], [1.0, \"#f0f921\"]]}, \"colorway\": [\"#636efa\", \"#EF553B\", \"#00cc96\", \"#ab63fa\", \"#FFA15A\", \"#19d3f3\", \"#FF6692\", \"#B6E880\", \"#FF97FF\", \"#FECB52\"], \"font\": {\"color\": \"#2a3f5f\"}, \"geo\": {\"bgcolor\": \"white\", \"lakecolor\": \"white\", \"landcolor\": \"#E5ECF6\", \"showlakes\": true, \"showland\": true, \"subunitcolor\": \"white\"}, \"hoverlabel\": {\"align\": \"left\"}, \"hovermode\": \"closest\", \"mapbox\": {\"style\": \"light\"}, \"paper_bgcolor\": \"white\", \"plot_bgcolor\": \"#E5ECF6\", \"polar\": {\"angularaxis\": {\"gridcolor\": \"white\", \"linecolor\": \"white\", \"ticks\": \"\"}, \"bgcolor\": \"#E5ECF6\", \"radialaxis\": {\"gridcolor\": \"white\", \"linecolor\": \"white\", \"ticks\": \"\"}}, \"scene\": {\"xaxis\": {\"backgroundcolor\": \"#E5ECF6\", \"gridcolor\": \"white\", \"gridwidth\": 2, \"linecolor\": \"white\", \"showbackground\": true, \"ticks\": \"\", \"zerolinecolor\": \"white\"}, \"yaxis\": {\"backgroundcolor\": \"#E5ECF6\", \"gridcolor\": \"white\", \"gridwidth\": 2, \"linecolor\": \"white\", \"showbackground\": true, \"ticks\": \"\", \"zerolinecolor\": \"white\"}, \"zaxis\": {\"backgroundcolor\": \"#E5ECF6\", \"gridcolor\": \"white\", \"gridwidth\": 2, \"linecolor\": \"white\", \"showbackground\": true, \"ticks\": \"\", \"zerolinecolor\": \"white\"}}, \"shapedefaults\": {\"line\": {\"color\": \"#2a3f5f\"}}, \"ternary\": {\"aaxis\": {\"gridcolor\": \"white\", \"linecolor\": \"white\", \"ticks\": \"\"}, \"baxis\": {\"gridcolor\": \"white\", \"linecolor\": \"white\", \"ticks\": \"\"}, \"bgcolor\": \"#E5ECF6\", \"caxis\": {\"gridcolor\": \"white\", \"linecolor\": \"white\", \"ticks\": \"\"}}, \"title\": {\"x\": 0.05}, \"xaxis\": {\"automargin\": true, \"gridcolor\": \"white\", \"linecolor\": \"white\", \"ticks\": \"\", \"title\": {\"standoff\": 15}, \"zerolinecolor\": \"white\", \"zerolinewidth\": 2}, \"yaxis\": {\"automargin\": true, \"gridcolor\": \"white\", \"linecolor\": \"white\", \"ticks\": \"\", \"title\": {\"standoff\": 15}, \"zerolinecolor\": \"white\", \"zerolinewidth\": 2}}}, \"title\": {\"text\": \"Distribui\\u00e7\\u00e3o de crimes de Homic\\u00eddio por hora do dia\"}, \"width\": 700, \"xaxis\": {\"anchor\": \"y\", \"domain\": [0.0, 1.0]}, \"yaxis\": {\"anchor\": \"x\", \"domain\": [0.0, 1.0], \"title\": {\"text\": \"horaFato\"}}},\n",
              "                        {\"responsive\": true}\n",
              "                    ).then(function(){\n",
              "                            \n",
              "var gd = document.getElementById('55d18a43-12bb-45b5-9736-af9001076a53');\n",
              "var x = new MutationObserver(function (mutations, observer) {{\n",
              "        var display = window.getComputedStyle(gd).display;\n",
              "        if (!display || display === 'none') {{\n",
              "            console.log([gd, 'removed!']);\n",
              "            Plotly.purge(gd);\n",
              "            observer.disconnect();\n",
              "        }}\n",
              "}});\n",
              "\n",
              "// Listen for the removal of the full notebook cells\n",
              "var notebookContainer = gd.closest('#notebook-container');\n",
              "if (notebookContainer) {{\n",
              "    x.observe(notebookContainer, {childList: true});\n",
              "}}\n",
              "\n",
              "// Listen for the clearing of the current output cell\n",
              "var outputEl = gd.closest('.output');\n",
              "if (outputEl) {{\n",
              "    x.observe(outputEl, {childList: true});\n",
              "}}\n",
              "\n",
              "                        })\n",
              "                };\n",
              "                \n",
              "            </script>\n",
              "        </div>\n",
              "</body>\n",
              "</html>"
            ]
          },
          "metadata": {}
        }
      ]
    },
    {
      "cell_type": "code",
      "metadata": {
        "id": "eP8Fud4a0LYr",
        "colab": {
          "base_uri": "https://localhost:8080/",
          "height": 297
        },
        "outputId": "5d66871b-c221-4a77-bbaa-438ed06ca6a4"
      },
      "source": [
        "#apenas ocorrencias com código 472 (Latrocínio)\n",
        "df_472=df[df['tipoCrime']==472]\n",
        "df_472.describe()"
      ],
      "execution_count": null,
      "outputs": [
        {
          "output_type": "execute_result",
          "data": {
            "text/html": [
              "<div>\n",
              "<style scoped>\n",
              "    .dataframe tbody tr th:only-of-type {\n",
              "        vertical-align: middle;\n",
              "    }\n",
              "\n",
              "    .dataframe tbody tr th {\n",
              "        vertical-align: top;\n",
              "    }\n",
              "\n",
              "    .dataframe thead th {\n",
              "        text-align: right;\n",
              "    }\n",
              "</style>\n",
              "<table border=\"1\" class=\"dataframe\">\n",
              "  <thead>\n",
              "    <tr style=\"text-align: right;\">\n",
              "      <th></th>\n",
              "      <th>tipoCrime</th>\n",
              "      <th>horaFato</th>\n",
              "      <th>municipio</th>\n",
              "    </tr>\n",
              "  </thead>\n",
              "  <tbody>\n",
              "    <tr>\n",
              "      <th>count</th>\n",
              "      <td>446.0</td>\n",
              "      <td>446.000000</td>\n",
              "      <td>446.000000</td>\n",
              "    </tr>\n",
              "    <tr>\n",
              "      <th>mean</th>\n",
              "      <td>472.0</td>\n",
              "      <td>13.304933</td>\n",
              "      <td>47.515695</td>\n",
              "    </tr>\n",
              "    <tr>\n",
              "      <th>std</th>\n",
              "      <td>0.0</td>\n",
              "      <td>7.392758</td>\n",
              "      <td>41.133747</td>\n",
              "    </tr>\n",
              "    <tr>\n",
              "      <th>min</th>\n",
              "      <td>472.0</td>\n",
              "      <td>0.000000</td>\n",
              "      <td>1.000000</td>\n",
              "    </tr>\n",
              "    <tr>\n",
              "      <th>25%</th>\n",
              "      <td>472.0</td>\n",
              "      <td>7.000000</td>\n",
              "      <td>19.000000</td>\n",
              "    </tr>\n",
              "    <tr>\n",
              "      <th>50%</th>\n",
              "      <td>472.0</td>\n",
              "      <td>15.000000</td>\n",
              "      <td>32.000000</td>\n",
              "    </tr>\n",
              "    <tr>\n",
              "      <th>75%</th>\n",
              "      <td>472.0</td>\n",
              "      <td>20.000000</td>\n",
              "      <td>72.750000</td>\n",
              "    </tr>\n",
              "    <tr>\n",
              "      <th>max</th>\n",
              "      <td>472.0</td>\n",
              "      <td>23.000000</td>\n",
              "      <td>145.000000</td>\n",
              "    </tr>\n",
              "  </tbody>\n",
              "</table>\n",
              "</div>"
            ],
            "text/plain": [
              "       tipoCrime    horaFato   municipio\n",
              "count      446.0  446.000000  446.000000\n",
              "mean       472.0   13.304933   47.515695\n",
              "std          0.0    7.392758   41.133747\n",
              "min        472.0    0.000000    1.000000\n",
              "25%        472.0    7.000000   19.000000\n",
              "50%        472.0   15.000000   32.000000\n",
              "75%        472.0   20.000000   72.750000\n",
              "max        472.0   23.000000  145.000000"
            ]
          },
          "metadata": {},
          "execution_count": 13
        }
      ]
    },
    {
      "cell_type": "code",
      "metadata": {
        "colab": {
          "base_uri": "https://localhost:8080/",
          "height": 817
        },
        "id": "iUvTZyXXQRwx",
        "outputId": "e4afcd40-f93f-4a20-c609-a52041fd5771"
      },
      "source": [
        "fig = px.box(df_472,y=\"horaFato\", points=\"all\",title=\"Distribuição de crimes de Latrocínio por hora do dia\",width=700,height=800)\n",
        "fig.show()"
      ],
      "execution_count": null,
      "outputs": [
        {
          "output_type": "display_data",
          "data": {
            "text/html": [
              "<html>\n",
              "<head><meta charset=\"utf-8\" /></head>\n",
              "<body>\n",
              "    <div>\n",
              "            <script src=\"https://cdnjs.cloudflare.com/ajax/libs/mathjax/2.7.5/MathJax.js?config=TeX-AMS-MML_SVG\"></script><script type=\"text/javascript\">if (window.MathJax) {MathJax.Hub.Config({SVG: {font: \"STIX-Web\"}});}</script>\n",
              "                <script type=\"text/javascript\">window.PlotlyConfig = {MathJaxConfig: 'local'};</script>\n",
              "        <script src=\"https://cdn.plot.ly/plotly-latest.min.js\"></script>    \n",
              "            <div id=\"907cdf42-f052-49bb-9ce4-521e5df91b8d\" class=\"plotly-graph-div\" style=\"height:800px; width:700px;\"></div>\n",
              "            <script type=\"text/javascript\">\n",
              "                \n",
              "                    window.PLOTLYENV=window.PLOTLYENV || {};\n",
              "                    \n",
              "                if (document.getElementById(\"907cdf42-f052-49bb-9ce4-521e5df91b8d\")) {\n",
              "                    Plotly.newPlot(\n",
              "                        '907cdf42-f052-49bb-9ce4-521e5df91b8d',\n",
              "                        [{\"alignmentgroup\": \"True\", \"boxpoints\": \"all\", \"hoverlabel\": {\"namelength\": 0}, \"hovertemplate\": \"horaFato=%{y}\", \"legendgroup\": \"\", \"marker\": {\"color\": \"#636efa\"}, \"name\": \"\", \"notched\": false, \"offsetgroup\": \"\", \"orientation\": \"v\", \"showlegend\": false, \"type\": \"box\", \"x0\": \" \", \"xaxis\": \"x\", \"y\": [12, 1, 1, 15, 19, 22, 22, 21, 21, 15, 20, 17, 23, 0, 4, 20, 20, 19, 19, 20, 11, 19, 6, 13, 6, 20, 1, 4, 5, 23, 23, 23, 1, 2, 6, 4, 6, 14, 14, 7, 10, 23, 1, 20, 11, 5, 6, 7, 8, 21, 9, 16, 20, 5, 5, 9, 23, 2, 16, 20, 11, 10, 20, 20, 20, 19, 4, 1, 9, 4, 22, 1, 1, 10, 19, 19, 20, 2, 3, 23, 0, 0, 3, 1, 3, 20, 5, 10, 11, 4, 6, 9, 11, 12, 21, 0, 6, 15, 20, 21, 20, 4, 20, 12, 12, 13, 17, 8, 20, 0, 20, 19, 20, 19, 20, 23, 22, 6, 23, 15, 0, 3, 20, 16, 8, 19, 21, 7, 21, 21, 21, 21, 18, 22, 2, 7, 13, 19, 21, 21, 18, 20, 22, 12, 0, 19, 5, 17, 22, 23, 11, 4, 21, 21, 12, 19, 3, 23, 22, 20, 2, 10, 16, 18, 20, 23, 23, 23, 11, 13, 12, 1, 22, 8, 21, 22, 22, 10, 5, 6, 6, 2, 10, 12, 3, 5, 9, 18, 0, 11, 22, 17, 17, 22, 16, 18, 8, 16, 20, 20, 23, 4, 2, 12, 23, 1, 10, 19, 15, 22, 23, 2, 11, 1, 1, 12, 12, 15, 16, 6, 21, 10, 14, 17, 20, 1, 14, 14, 6, 12, 2, 20, 3, 18, 21, 20, 19, 9, 23, 21, 6, 0, 4, 20, 11, 20, 12, 3, 11, 22, 8, 20, 9, 8, 19, 19, 10, 19, 22, 8, 7, 1, 0, 20, 3, 7, 22, 16, 9, 21, 23, 16, 20, 11, 0, 7, 7, 10, 5, 22, 0, 21, 19, 21, 4, 21, 16, 20, 12, 16, 21, 19, 19, 17, 5, 19, 20, 10, 18, 22, 13, 19, 20, 13, 19, 19, 21, 12, 10, 22, 18, 20, 19, 20, 1, 19, 22, 15, 22, 11, 3, 9, 9, 0, 5, 5, 19, 0, 19, 18, 18, 4, 20, 20, 22, 20, 21, 9, 6, 3, 5, 13, 13, 11, 23, 19, 19, 16, 10, 1, 7, 18, 20, 23, 21, 7, 14, 22, 17, 13, 7, 20, 0, 12, 18, 23, 11, 11, 21, 4, 21, 22, 8, 15, 10, 14, 23, 1, 17, 1, 9, 22, 6, 23, 18, 0, 15, 2, 22, 19, 7, 3, 9, 13, 16, 2, 1, 21, 9, 21, 17, 14, 6, 12, 8, 8, 6, 15, 22, 20, 19, 13, 15, 20, 0, 9, 23, 15, 19, 14, 22, 12, 22, 20, 18, 10, 10, 0, 9, 5, 15, 21, 13, 19, 9, 22, 7, 23, 2, 20, 20, 2, 19, 4, 20, 8], \"y0\": \" \", \"yaxis\": \"y\"}],\n",
              "                        {\"boxmode\": \"group\", \"height\": 800, \"legend\": {\"tracegroupgap\": 0}, \"template\": {\"data\": {\"bar\": [{\"error_x\": {\"color\": \"#2a3f5f\"}, \"error_y\": {\"color\": \"#2a3f5f\"}, \"marker\": {\"line\": {\"color\": \"#E5ECF6\", \"width\": 0.5}}, \"type\": \"bar\"}], \"barpolar\": [{\"marker\": {\"line\": {\"color\": \"#E5ECF6\", \"width\": 0.5}}, \"type\": \"barpolar\"}], \"carpet\": [{\"aaxis\": {\"endlinecolor\": \"#2a3f5f\", \"gridcolor\": \"white\", \"linecolor\": \"white\", \"minorgridcolor\": \"white\", \"startlinecolor\": \"#2a3f5f\"}, \"baxis\": {\"endlinecolor\": \"#2a3f5f\", \"gridcolor\": \"white\", \"linecolor\": \"white\", \"minorgridcolor\": \"white\", \"startlinecolor\": \"#2a3f5f\"}, \"type\": \"carpet\"}], \"choropleth\": [{\"colorbar\": {\"outlinewidth\": 0, \"ticks\": \"\"}, \"type\": \"choropleth\"}], \"contour\": [{\"colorbar\": {\"outlinewidth\": 0, \"ticks\": \"\"}, \"colorscale\": [[0.0, \"#0d0887\"], [0.1111111111111111, \"#46039f\"], [0.2222222222222222, \"#7201a8\"], [0.3333333333333333, \"#9c179e\"], [0.4444444444444444, \"#bd3786\"], [0.5555555555555556, \"#d8576b\"], [0.6666666666666666, \"#ed7953\"], [0.7777777777777778, \"#fb9f3a\"], [0.8888888888888888, \"#fdca26\"], [1.0, \"#f0f921\"]], \"type\": \"contour\"}], \"contourcarpet\": [{\"colorbar\": {\"outlinewidth\": 0, \"ticks\": \"\"}, \"type\": \"contourcarpet\"}], \"heatmap\": [{\"colorbar\": {\"outlinewidth\": 0, \"ticks\": \"\"}, \"colorscale\": [[0.0, \"#0d0887\"], [0.1111111111111111, \"#46039f\"], [0.2222222222222222, \"#7201a8\"], [0.3333333333333333, \"#9c179e\"], [0.4444444444444444, \"#bd3786\"], [0.5555555555555556, \"#d8576b\"], [0.6666666666666666, \"#ed7953\"], [0.7777777777777778, \"#fb9f3a\"], [0.8888888888888888, \"#fdca26\"], [1.0, \"#f0f921\"]], \"type\": \"heatmap\"}], \"heatmapgl\": [{\"colorbar\": {\"outlinewidth\": 0, \"ticks\": \"\"}, \"colorscale\": [[0.0, \"#0d0887\"], [0.1111111111111111, \"#46039f\"], [0.2222222222222222, \"#7201a8\"], [0.3333333333333333, \"#9c179e\"], [0.4444444444444444, \"#bd3786\"], [0.5555555555555556, \"#d8576b\"], [0.6666666666666666, \"#ed7953\"], [0.7777777777777778, \"#fb9f3a\"], [0.8888888888888888, \"#fdca26\"], [1.0, \"#f0f921\"]], \"type\": \"heatmapgl\"}], \"histogram\": [{\"marker\": {\"colorbar\": {\"outlinewidth\": 0, \"ticks\": \"\"}}, \"type\": \"histogram\"}], \"histogram2d\": [{\"colorbar\": {\"outlinewidth\": 0, \"ticks\": \"\"}, \"colorscale\": [[0.0, \"#0d0887\"], [0.1111111111111111, \"#46039f\"], [0.2222222222222222, \"#7201a8\"], [0.3333333333333333, \"#9c179e\"], [0.4444444444444444, \"#bd3786\"], [0.5555555555555556, \"#d8576b\"], [0.6666666666666666, \"#ed7953\"], [0.7777777777777778, \"#fb9f3a\"], [0.8888888888888888, \"#fdca26\"], [1.0, \"#f0f921\"]], \"type\": \"histogram2d\"}], \"histogram2dcontour\": [{\"colorbar\": {\"outlinewidth\": 0, \"ticks\": \"\"}, \"colorscale\": [[0.0, \"#0d0887\"], [0.1111111111111111, \"#46039f\"], [0.2222222222222222, \"#7201a8\"], [0.3333333333333333, \"#9c179e\"], [0.4444444444444444, \"#bd3786\"], [0.5555555555555556, \"#d8576b\"], [0.6666666666666666, \"#ed7953\"], [0.7777777777777778, \"#fb9f3a\"], [0.8888888888888888, \"#fdca26\"], [1.0, \"#f0f921\"]], \"type\": \"histogram2dcontour\"}], \"mesh3d\": [{\"colorbar\": {\"outlinewidth\": 0, \"ticks\": \"\"}, \"type\": \"mesh3d\"}], \"parcoords\": [{\"line\": {\"colorbar\": {\"outlinewidth\": 0, \"ticks\": \"\"}}, \"type\": \"parcoords\"}], \"pie\": [{\"automargin\": true, \"type\": \"pie\"}], \"scatter\": [{\"marker\": {\"colorbar\": {\"outlinewidth\": 0, \"ticks\": \"\"}}, \"type\": \"scatter\"}], \"scatter3d\": [{\"line\": {\"colorbar\": {\"outlinewidth\": 0, \"ticks\": \"\"}}, \"marker\": {\"colorbar\": {\"outlinewidth\": 0, \"ticks\": \"\"}}, \"type\": \"scatter3d\"}], \"scattercarpet\": [{\"marker\": {\"colorbar\": {\"outlinewidth\": 0, \"ticks\": \"\"}}, \"type\": \"scattercarpet\"}], \"scattergeo\": [{\"marker\": {\"colorbar\": {\"outlinewidth\": 0, \"ticks\": \"\"}}, \"type\": \"scattergeo\"}], \"scattergl\": [{\"marker\": {\"colorbar\": {\"outlinewidth\": 0, \"ticks\": \"\"}}, \"type\": \"scattergl\"}], \"scattermapbox\": [{\"marker\": {\"colorbar\": {\"outlinewidth\": 0, \"ticks\": \"\"}}, \"type\": \"scattermapbox\"}], \"scatterpolar\": [{\"marker\": {\"colorbar\": {\"outlinewidth\": 0, \"ticks\": \"\"}}, \"type\": \"scatterpolar\"}], \"scatterpolargl\": [{\"marker\": {\"colorbar\": {\"outlinewidth\": 0, \"ticks\": \"\"}}, \"type\": \"scatterpolargl\"}], \"scatterternary\": [{\"marker\": {\"colorbar\": {\"outlinewidth\": 0, \"ticks\": \"\"}}, \"type\": \"scatterternary\"}], \"surface\": [{\"colorbar\": {\"outlinewidth\": 0, \"ticks\": \"\"}, \"colorscale\": [[0.0, \"#0d0887\"], [0.1111111111111111, \"#46039f\"], [0.2222222222222222, \"#7201a8\"], [0.3333333333333333, \"#9c179e\"], [0.4444444444444444, \"#bd3786\"], [0.5555555555555556, \"#d8576b\"], [0.6666666666666666, \"#ed7953\"], [0.7777777777777778, \"#fb9f3a\"], [0.8888888888888888, \"#fdca26\"], [1.0, \"#f0f921\"]], \"type\": \"surface\"}], \"table\": [{\"cells\": {\"fill\": {\"color\": \"#EBF0F8\"}, \"line\": {\"color\": \"white\"}}, \"header\": {\"fill\": {\"color\": \"#C8D4E3\"}, \"line\": {\"color\": \"white\"}}, \"type\": \"table\"}]}, \"layout\": {\"annotationdefaults\": {\"arrowcolor\": \"#2a3f5f\", \"arrowhead\": 0, \"arrowwidth\": 1}, \"coloraxis\": {\"colorbar\": {\"outlinewidth\": 0, \"ticks\": \"\"}}, \"colorscale\": {\"diverging\": [[0, \"#8e0152\"], [0.1, \"#c51b7d\"], [0.2, \"#de77ae\"], [0.3, \"#f1b6da\"], [0.4, \"#fde0ef\"], [0.5, \"#f7f7f7\"], [0.6, \"#e6f5d0\"], [0.7, \"#b8e186\"], [0.8, \"#7fbc41\"], [0.9, \"#4d9221\"], [1, \"#276419\"]], \"sequential\": [[0.0, \"#0d0887\"], [0.1111111111111111, \"#46039f\"], [0.2222222222222222, \"#7201a8\"], [0.3333333333333333, \"#9c179e\"], [0.4444444444444444, \"#bd3786\"], [0.5555555555555556, \"#d8576b\"], [0.6666666666666666, \"#ed7953\"], [0.7777777777777778, \"#fb9f3a\"], [0.8888888888888888, \"#fdca26\"], [1.0, \"#f0f921\"]], \"sequentialminus\": [[0.0, \"#0d0887\"], [0.1111111111111111, \"#46039f\"], [0.2222222222222222, \"#7201a8\"], [0.3333333333333333, \"#9c179e\"], [0.4444444444444444, \"#bd3786\"], [0.5555555555555556, \"#d8576b\"], [0.6666666666666666, \"#ed7953\"], [0.7777777777777778, \"#fb9f3a\"], [0.8888888888888888, \"#fdca26\"], [1.0, \"#f0f921\"]]}, \"colorway\": [\"#636efa\", \"#EF553B\", \"#00cc96\", \"#ab63fa\", \"#FFA15A\", \"#19d3f3\", \"#FF6692\", \"#B6E880\", \"#FF97FF\", \"#FECB52\"], \"font\": {\"color\": \"#2a3f5f\"}, \"geo\": {\"bgcolor\": \"white\", \"lakecolor\": \"white\", \"landcolor\": \"#E5ECF6\", \"showlakes\": true, \"showland\": true, \"subunitcolor\": \"white\"}, \"hoverlabel\": {\"align\": \"left\"}, \"hovermode\": \"closest\", \"mapbox\": {\"style\": \"light\"}, \"paper_bgcolor\": \"white\", \"plot_bgcolor\": \"#E5ECF6\", \"polar\": {\"angularaxis\": {\"gridcolor\": \"white\", \"linecolor\": \"white\", \"ticks\": \"\"}, \"bgcolor\": \"#E5ECF6\", \"radialaxis\": {\"gridcolor\": \"white\", \"linecolor\": \"white\", \"ticks\": \"\"}}, \"scene\": {\"xaxis\": {\"backgroundcolor\": \"#E5ECF6\", \"gridcolor\": \"white\", \"gridwidth\": 2, \"linecolor\": \"white\", \"showbackground\": true, \"ticks\": \"\", \"zerolinecolor\": \"white\"}, \"yaxis\": {\"backgroundcolor\": \"#E5ECF6\", \"gridcolor\": \"white\", \"gridwidth\": 2, \"linecolor\": \"white\", \"showbackground\": true, \"ticks\": \"\", \"zerolinecolor\": \"white\"}, \"zaxis\": {\"backgroundcolor\": \"#E5ECF6\", \"gridcolor\": \"white\", \"gridwidth\": 2, \"linecolor\": \"white\", \"showbackground\": true, \"ticks\": \"\", \"zerolinecolor\": \"white\"}}, \"shapedefaults\": {\"line\": {\"color\": \"#2a3f5f\"}}, \"ternary\": {\"aaxis\": {\"gridcolor\": \"white\", \"linecolor\": \"white\", \"ticks\": \"\"}, \"baxis\": {\"gridcolor\": \"white\", \"linecolor\": \"white\", \"ticks\": \"\"}, \"bgcolor\": \"#E5ECF6\", \"caxis\": {\"gridcolor\": \"white\", \"linecolor\": \"white\", \"ticks\": \"\"}}, \"title\": {\"x\": 0.05}, \"xaxis\": {\"automargin\": true, \"gridcolor\": \"white\", \"linecolor\": \"white\", \"ticks\": \"\", \"title\": {\"standoff\": 15}, \"zerolinecolor\": \"white\", \"zerolinewidth\": 2}, \"yaxis\": {\"automargin\": true, \"gridcolor\": \"white\", \"linecolor\": \"white\", \"ticks\": \"\", \"title\": {\"standoff\": 15}, \"zerolinecolor\": \"white\", \"zerolinewidth\": 2}}}, \"title\": {\"text\": \"Distribui\\u00e7\\u00e3o de crimes de Latroc\\u00ednio por hora do dia\"}, \"width\": 700, \"xaxis\": {\"anchor\": \"y\", \"domain\": [0.0, 1.0]}, \"yaxis\": {\"anchor\": \"x\", \"domain\": [0.0, 1.0], \"title\": {\"text\": \"horaFato\"}}},\n",
              "                        {\"responsive\": true}\n",
              "                    ).then(function(){\n",
              "                            \n",
              "var gd = document.getElementById('907cdf42-f052-49bb-9ce4-521e5df91b8d');\n",
              "var x = new MutationObserver(function (mutations, observer) {{\n",
              "        var display = window.getComputedStyle(gd).display;\n",
              "        if (!display || display === 'none') {{\n",
              "            console.log([gd, 'removed!']);\n",
              "            Plotly.purge(gd);\n",
              "            observer.disconnect();\n",
              "        }}\n",
              "}});\n",
              "\n",
              "// Listen for the removal of the full notebook cells\n",
              "var notebookContainer = gd.closest('#notebook-container');\n",
              "if (notebookContainer) {{\n",
              "    x.observe(notebookContainer, {childList: true});\n",
              "}}\n",
              "\n",
              "// Listen for the clearing of the current output cell\n",
              "var outputEl = gd.closest('.output');\n",
              "if (outputEl) {{\n",
              "    x.observe(outputEl, {childList: true});\n",
              "}}\n",
              "\n",
              "                        })\n",
              "                };\n",
              "                \n",
              "            </script>\n",
              "        </div>\n",
              "</body>\n",
              "</html>"
            ]
          },
          "metadata": {}
        }
      ]
    },
    {
      "cell_type": "code",
      "metadata": {
        "colab": {
          "base_uri": "https://localhost:8080/",
          "height": 297
        },
        "id": "oGS06NhkHjay",
        "outputId": "ad1e9ee1-4f15-4055-8a0f-f3f5b1d047b0"
      },
      "source": [
        "#apenas ocorrencias com código 477 (Lesão corporal seguida de morte)\n",
        "df_477=df[df['tipoCrime']==477]\n",
        "df_477.describe()"
      ],
      "execution_count": null,
      "outputs": [
        {
          "output_type": "execute_result",
          "data": {
            "text/html": [
              "<div>\n",
              "<style scoped>\n",
              "    .dataframe tbody tr th:only-of-type {\n",
              "        vertical-align: middle;\n",
              "    }\n",
              "\n",
              "    .dataframe tbody tr th {\n",
              "        vertical-align: top;\n",
              "    }\n",
              "\n",
              "    .dataframe thead th {\n",
              "        text-align: right;\n",
              "    }\n",
              "</style>\n",
              "<table border=\"1\" class=\"dataframe\">\n",
              "  <thead>\n",
              "    <tr style=\"text-align: right;\">\n",
              "      <th></th>\n",
              "      <th>tipoCrime</th>\n",
              "      <th>horaFato</th>\n",
              "      <th>municipio</th>\n",
              "    </tr>\n",
              "  </thead>\n",
              "  <tbody>\n",
              "    <tr>\n",
              "      <th>count</th>\n",
              "      <td>88.0</td>\n",
              "      <td>88.000000</td>\n",
              "      <td>88.000000</td>\n",
              "    </tr>\n",
              "    <tr>\n",
              "      <th>mean</th>\n",
              "      <td>477.0</td>\n",
              "      <td>12.147727</td>\n",
              "      <td>42.068182</td>\n",
              "    </tr>\n",
              "    <tr>\n",
              "      <th>std</th>\n",
              "      <td>0.0</td>\n",
              "      <td>7.464152</td>\n",
              "      <td>42.021559</td>\n",
              "    </tr>\n",
              "    <tr>\n",
              "      <th>min</th>\n",
              "      <td>477.0</td>\n",
              "      <td>0.000000</td>\n",
              "      <td>1.000000</td>\n",
              "    </tr>\n",
              "    <tr>\n",
              "      <th>25%</th>\n",
              "      <td>477.0</td>\n",
              "      <td>7.000000</td>\n",
              "      <td>19.000000</td>\n",
              "    </tr>\n",
              "    <tr>\n",
              "      <th>50%</th>\n",
              "      <td>477.0</td>\n",
              "      <td>12.000000</td>\n",
              "      <td>19.000000</td>\n",
              "    </tr>\n",
              "    <tr>\n",
              "      <th>75%</th>\n",
              "      <td>477.0</td>\n",
              "      <td>19.000000</td>\n",
              "      <td>58.000000</td>\n",
              "    </tr>\n",
              "    <tr>\n",
              "      <th>max</th>\n",
              "      <td>477.0</td>\n",
              "      <td>23.000000</td>\n",
              "      <td>147.000000</td>\n",
              "    </tr>\n",
              "  </tbody>\n",
              "</table>\n",
              "</div>"
            ],
            "text/plain": [
              "       tipoCrime   horaFato   municipio\n",
              "count       88.0  88.000000   88.000000\n",
              "mean       477.0  12.147727   42.068182\n",
              "std          0.0   7.464152   42.021559\n",
              "min        477.0   0.000000    1.000000\n",
              "25%        477.0   7.000000   19.000000\n",
              "50%        477.0  12.000000   19.000000\n",
              "75%        477.0  19.000000   58.000000\n",
              "max        477.0  23.000000  147.000000"
            ]
          },
          "metadata": {},
          "execution_count": 16
        }
      ]
    },
    {
      "cell_type": "code",
      "metadata": {
        "colab": {
          "base_uri": "https://localhost:8080/",
          "height": 817
        },
        "id": "va9JP_XxRCym",
        "outputId": "cfd8777d-fa7e-4bea-8f34-4a8136db0975"
      },
      "source": [
        "fig = px.box(df_477,y=\"horaFato\", points=\"all\",title=\"Distribuição de crimes de Lesão corporal seguida de morte por hora do dia\",width=700,height=800)\n",
        "fig.show()"
      ],
      "execution_count": null,
      "outputs": [
        {
          "output_type": "display_data",
          "data": {
            "text/html": [
              "<html>\n",
              "<head><meta charset=\"utf-8\" /></head>\n",
              "<body>\n",
              "    <div>\n",
              "            <script src=\"https://cdnjs.cloudflare.com/ajax/libs/mathjax/2.7.5/MathJax.js?config=TeX-AMS-MML_SVG\"></script><script type=\"text/javascript\">if (window.MathJax) {MathJax.Hub.Config({SVG: {font: \"STIX-Web\"}});}</script>\n",
              "                <script type=\"text/javascript\">window.PlotlyConfig = {MathJaxConfig: 'local'};</script>\n",
              "        <script src=\"https://cdn.plot.ly/plotly-latest.min.js\"></script>    \n",
              "            <div id=\"f111a58e-6478-4ea8-b66f-152e86e30c55\" class=\"plotly-graph-div\" style=\"height:800px; width:700px;\"></div>\n",
              "            <script type=\"text/javascript\">\n",
              "                \n",
              "                    window.PLOTLYENV=window.PLOTLYENV || {};\n",
              "                    \n",
              "                if (document.getElementById(\"f111a58e-6478-4ea8-b66f-152e86e30c55\")) {\n",
              "                    Plotly.newPlot(\n",
              "                        'f111a58e-6478-4ea8-b66f-152e86e30c55',\n",
              "                        [{\"alignmentgroup\": \"True\", \"boxpoints\": \"all\", \"hoverlabel\": {\"namelength\": 0}, \"hovertemplate\": \"horaFato=%{y}\", \"legendgroup\": \"\", \"marker\": {\"color\": \"#636efa\"}, \"name\": \"\", \"notched\": false, \"offsetgroup\": \"\", \"orientation\": \"v\", \"showlegend\": false, \"type\": \"box\", \"x0\": \" \", \"xaxis\": \"x\", \"y\": [15, 0, 17, 12, 4, 22, 19, 10, 14, 17, 17, 22, 10, 23, 10, 21, 9, 7, 17, 10, 21, 21, 1, 2, 17, 23, 15, 3, 0, 1, 19, 12, 19, 23, 0, 7, 10, 22, 8, 15, 22, 10, 9, 8, 21, 12, 15, 0, 11, 0, 12, 5, 8, 13, 12, 23, 0, 20, 14, 21, 10, 5, 22, 2, 14, 6, 8, 7, 3, 3, 3, 7, 1, 19, 0, 22, 23, 22, 16, 19, 12, 9, 2, 8, 16, 19, 23, 17], \"y0\": \" \", \"yaxis\": \"y\"}],\n",
              "                        {\"boxmode\": \"group\", \"height\": 800, \"legend\": {\"tracegroupgap\": 0}, \"template\": {\"data\": {\"bar\": [{\"error_x\": {\"color\": \"#2a3f5f\"}, \"error_y\": {\"color\": \"#2a3f5f\"}, \"marker\": {\"line\": {\"color\": \"#E5ECF6\", \"width\": 0.5}}, \"type\": \"bar\"}], \"barpolar\": [{\"marker\": {\"line\": {\"color\": \"#E5ECF6\", \"width\": 0.5}}, \"type\": \"barpolar\"}], \"carpet\": [{\"aaxis\": {\"endlinecolor\": \"#2a3f5f\", \"gridcolor\": \"white\", \"linecolor\": \"white\", \"minorgridcolor\": \"white\", \"startlinecolor\": \"#2a3f5f\"}, \"baxis\": {\"endlinecolor\": \"#2a3f5f\", \"gridcolor\": \"white\", \"linecolor\": \"white\", \"minorgridcolor\": \"white\", \"startlinecolor\": \"#2a3f5f\"}, \"type\": \"carpet\"}], \"choropleth\": [{\"colorbar\": {\"outlinewidth\": 0, \"ticks\": \"\"}, \"type\": \"choropleth\"}], \"contour\": [{\"colorbar\": {\"outlinewidth\": 0, \"ticks\": \"\"}, \"colorscale\": [[0.0, \"#0d0887\"], [0.1111111111111111, \"#46039f\"], [0.2222222222222222, \"#7201a8\"], [0.3333333333333333, \"#9c179e\"], [0.4444444444444444, \"#bd3786\"], [0.5555555555555556, \"#d8576b\"], [0.6666666666666666, \"#ed7953\"], [0.7777777777777778, \"#fb9f3a\"], [0.8888888888888888, \"#fdca26\"], [1.0, \"#f0f921\"]], \"type\": \"contour\"}], \"contourcarpet\": [{\"colorbar\": {\"outlinewidth\": 0, \"ticks\": \"\"}, \"type\": \"contourcarpet\"}], \"heatmap\": [{\"colorbar\": {\"outlinewidth\": 0, \"ticks\": \"\"}, \"colorscale\": [[0.0, \"#0d0887\"], [0.1111111111111111, \"#46039f\"], [0.2222222222222222, \"#7201a8\"], [0.3333333333333333, \"#9c179e\"], [0.4444444444444444, \"#bd3786\"], [0.5555555555555556, \"#d8576b\"], [0.6666666666666666, \"#ed7953\"], [0.7777777777777778, \"#fb9f3a\"], [0.8888888888888888, \"#fdca26\"], [1.0, \"#f0f921\"]], \"type\": \"heatmap\"}], \"heatmapgl\": [{\"colorbar\": {\"outlinewidth\": 0, \"ticks\": \"\"}, \"colorscale\": [[0.0, \"#0d0887\"], [0.1111111111111111, \"#46039f\"], [0.2222222222222222, \"#7201a8\"], [0.3333333333333333, \"#9c179e\"], [0.4444444444444444, \"#bd3786\"], [0.5555555555555556, \"#d8576b\"], [0.6666666666666666, \"#ed7953\"], [0.7777777777777778, \"#fb9f3a\"], [0.8888888888888888, \"#fdca26\"], [1.0, \"#f0f921\"]], \"type\": \"heatmapgl\"}], \"histogram\": [{\"marker\": {\"colorbar\": {\"outlinewidth\": 0, \"ticks\": \"\"}}, \"type\": \"histogram\"}], \"histogram2d\": [{\"colorbar\": {\"outlinewidth\": 0, \"ticks\": \"\"}, \"colorscale\": [[0.0, \"#0d0887\"], [0.1111111111111111, \"#46039f\"], [0.2222222222222222, \"#7201a8\"], [0.3333333333333333, \"#9c179e\"], [0.4444444444444444, \"#bd3786\"], [0.5555555555555556, \"#d8576b\"], [0.6666666666666666, \"#ed7953\"], [0.7777777777777778, \"#fb9f3a\"], [0.8888888888888888, \"#fdca26\"], [1.0, \"#f0f921\"]], \"type\": \"histogram2d\"}], \"histogram2dcontour\": [{\"colorbar\": {\"outlinewidth\": 0, \"ticks\": \"\"}, \"colorscale\": [[0.0, \"#0d0887\"], [0.1111111111111111, \"#46039f\"], [0.2222222222222222, \"#7201a8\"], [0.3333333333333333, \"#9c179e\"], [0.4444444444444444, \"#bd3786\"], [0.5555555555555556, \"#d8576b\"], [0.6666666666666666, \"#ed7953\"], [0.7777777777777778, \"#fb9f3a\"], [0.8888888888888888, \"#fdca26\"], [1.0, \"#f0f921\"]], \"type\": \"histogram2dcontour\"}], \"mesh3d\": [{\"colorbar\": {\"outlinewidth\": 0, \"ticks\": \"\"}, \"type\": \"mesh3d\"}], \"parcoords\": [{\"line\": {\"colorbar\": {\"outlinewidth\": 0, \"ticks\": \"\"}}, \"type\": \"parcoords\"}], \"pie\": [{\"automargin\": true, \"type\": \"pie\"}], \"scatter\": [{\"marker\": {\"colorbar\": {\"outlinewidth\": 0, \"ticks\": \"\"}}, \"type\": \"scatter\"}], \"scatter3d\": [{\"line\": {\"colorbar\": {\"outlinewidth\": 0, \"ticks\": \"\"}}, \"marker\": {\"colorbar\": {\"outlinewidth\": 0, \"ticks\": \"\"}}, \"type\": \"scatter3d\"}], \"scattercarpet\": [{\"marker\": {\"colorbar\": {\"outlinewidth\": 0, \"ticks\": \"\"}}, \"type\": \"scattercarpet\"}], \"scattergeo\": [{\"marker\": {\"colorbar\": {\"outlinewidth\": 0, \"ticks\": \"\"}}, \"type\": \"scattergeo\"}], \"scattergl\": [{\"marker\": {\"colorbar\": {\"outlinewidth\": 0, \"ticks\": \"\"}}, \"type\": \"scattergl\"}], \"scattermapbox\": [{\"marker\": {\"colorbar\": {\"outlinewidth\": 0, \"ticks\": \"\"}}, \"type\": \"scattermapbox\"}], \"scatterpolar\": [{\"marker\": {\"colorbar\": {\"outlinewidth\": 0, \"ticks\": \"\"}}, \"type\": \"scatterpolar\"}], \"scatterpolargl\": [{\"marker\": {\"colorbar\": {\"outlinewidth\": 0, \"ticks\": \"\"}}, \"type\": \"scatterpolargl\"}], \"scatterternary\": [{\"marker\": {\"colorbar\": {\"outlinewidth\": 0, \"ticks\": \"\"}}, \"type\": \"scatterternary\"}], \"surface\": [{\"colorbar\": {\"outlinewidth\": 0, \"ticks\": \"\"}, \"colorscale\": [[0.0, \"#0d0887\"], [0.1111111111111111, \"#46039f\"], [0.2222222222222222, \"#7201a8\"], [0.3333333333333333, \"#9c179e\"], [0.4444444444444444, \"#bd3786\"], [0.5555555555555556, \"#d8576b\"], [0.6666666666666666, \"#ed7953\"], [0.7777777777777778, \"#fb9f3a\"], [0.8888888888888888, \"#fdca26\"], [1.0, \"#f0f921\"]], \"type\": \"surface\"}], \"table\": [{\"cells\": {\"fill\": {\"color\": \"#EBF0F8\"}, \"line\": {\"color\": \"white\"}}, \"header\": {\"fill\": {\"color\": \"#C8D4E3\"}, \"line\": {\"color\": \"white\"}}, \"type\": \"table\"}]}, \"layout\": {\"annotationdefaults\": {\"arrowcolor\": \"#2a3f5f\", \"arrowhead\": 0, \"arrowwidth\": 1}, \"coloraxis\": {\"colorbar\": {\"outlinewidth\": 0, \"ticks\": \"\"}}, \"colorscale\": {\"diverging\": [[0, \"#8e0152\"], [0.1, \"#c51b7d\"], [0.2, \"#de77ae\"], [0.3, \"#f1b6da\"], [0.4, \"#fde0ef\"], [0.5, \"#f7f7f7\"], [0.6, \"#e6f5d0\"], [0.7, \"#b8e186\"], [0.8, \"#7fbc41\"], [0.9, \"#4d9221\"], [1, \"#276419\"]], \"sequential\": [[0.0, \"#0d0887\"], [0.1111111111111111, \"#46039f\"], [0.2222222222222222, \"#7201a8\"], [0.3333333333333333, \"#9c179e\"], [0.4444444444444444, \"#bd3786\"], [0.5555555555555556, \"#d8576b\"], [0.6666666666666666, \"#ed7953\"], [0.7777777777777778, \"#fb9f3a\"], [0.8888888888888888, \"#fdca26\"], [1.0, \"#f0f921\"]], \"sequentialminus\": [[0.0, \"#0d0887\"], [0.1111111111111111, \"#46039f\"], [0.2222222222222222, \"#7201a8\"], [0.3333333333333333, \"#9c179e\"], [0.4444444444444444, \"#bd3786\"], [0.5555555555555556, \"#d8576b\"], [0.6666666666666666, \"#ed7953\"], [0.7777777777777778, \"#fb9f3a\"], [0.8888888888888888, \"#fdca26\"], [1.0, \"#f0f921\"]]}, \"colorway\": [\"#636efa\", \"#EF553B\", \"#00cc96\", \"#ab63fa\", \"#FFA15A\", \"#19d3f3\", \"#FF6692\", \"#B6E880\", \"#FF97FF\", \"#FECB52\"], \"font\": {\"color\": \"#2a3f5f\"}, \"geo\": {\"bgcolor\": \"white\", \"lakecolor\": \"white\", \"landcolor\": \"#E5ECF6\", \"showlakes\": true, \"showland\": true, \"subunitcolor\": \"white\"}, \"hoverlabel\": {\"align\": \"left\"}, \"hovermode\": \"closest\", \"mapbox\": {\"style\": \"light\"}, \"paper_bgcolor\": \"white\", \"plot_bgcolor\": \"#E5ECF6\", \"polar\": {\"angularaxis\": {\"gridcolor\": \"white\", \"linecolor\": \"white\", \"ticks\": \"\"}, \"bgcolor\": \"#E5ECF6\", \"radialaxis\": {\"gridcolor\": \"white\", \"linecolor\": \"white\", \"ticks\": \"\"}}, \"scene\": {\"xaxis\": {\"backgroundcolor\": \"#E5ECF6\", \"gridcolor\": \"white\", \"gridwidth\": 2, \"linecolor\": \"white\", \"showbackground\": true, \"ticks\": \"\", \"zerolinecolor\": \"white\"}, \"yaxis\": {\"backgroundcolor\": \"#E5ECF6\", \"gridcolor\": \"white\", \"gridwidth\": 2, \"linecolor\": \"white\", \"showbackground\": true, \"ticks\": \"\", \"zerolinecolor\": \"white\"}, \"zaxis\": {\"backgroundcolor\": \"#E5ECF6\", \"gridcolor\": \"white\", \"gridwidth\": 2, \"linecolor\": \"white\", \"showbackground\": true, \"ticks\": \"\", \"zerolinecolor\": \"white\"}}, \"shapedefaults\": {\"line\": {\"color\": \"#2a3f5f\"}}, \"ternary\": {\"aaxis\": {\"gridcolor\": \"white\", \"linecolor\": \"white\", \"ticks\": \"\"}, \"baxis\": {\"gridcolor\": \"white\", \"linecolor\": \"white\", \"ticks\": \"\"}, \"bgcolor\": \"#E5ECF6\", \"caxis\": {\"gridcolor\": \"white\", \"linecolor\": \"white\", \"ticks\": \"\"}}, \"title\": {\"x\": 0.05}, \"xaxis\": {\"automargin\": true, \"gridcolor\": \"white\", \"linecolor\": \"white\", \"ticks\": \"\", \"title\": {\"standoff\": 15}, \"zerolinecolor\": \"white\", \"zerolinewidth\": 2}, \"yaxis\": {\"automargin\": true, \"gridcolor\": \"white\", \"linecolor\": \"white\", \"ticks\": \"\", \"title\": {\"standoff\": 15}, \"zerolinecolor\": \"white\", \"zerolinewidth\": 2}}}, \"title\": {\"text\": \"Distribui\\u00e7\\u00e3o de crimes de Les\\u00e3o corporal seguida de morte por hora do dia\"}, \"width\": 700, \"xaxis\": {\"anchor\": \"y\", \"domain\": [0.0, 1.0]}, \"yaxis\": {\"anchor\": \"x\", \"domain\": [0.0, 1.0], \"title\": {\"text\": \"horaFato\"}}},\n",
              "                        {\"responsive\": true}\n",
              "                    ).then(function(){\n",
              "                            \n",
              "var gd = document.getElementById('f111a58e-6478-4ea8-b66f-152e86e30c55');\n",
              "var x = new MutationObserver(function (mutations, observer) {{\n",
              "        var display = window.getComputedStyle(gd).display;\n",
              "        if (!display || display === 'none') {{\n",
              "            console.log([gd, 'removed!']);\n",
              "            Plotly.purge(gd);\n",
              "            observer.disconnect();\n",
              "        }}\n",
              "}});\n",
              "\n",
              "// Listen for the removal of the full notebook cells\n",
              "var notebookContainer = gd.closest('#notebook-container');\n",
              "if (notebookContainer) {{\n",
              "    x.observe(notebookContainer, {childList: true});\n",
              "}}\n",
              "\n",
              "// Listen for the clearing of the current output cell\n",
              "var outputEl = gd.closest('.output');\n",
              "if (outputEl) {{\n",
              "    x.observe(outputEl, {childList: true});\n",
              "}}\n",
              "\n",
              "                        })\n",
              "                };\n",
              "                \n",
              "            </script>\n",
              "        </div>\n",
              "</body>\n",
              "</html>"
            ]
          },
          "metadata": {}
        }
      ]
    }
  ]
}