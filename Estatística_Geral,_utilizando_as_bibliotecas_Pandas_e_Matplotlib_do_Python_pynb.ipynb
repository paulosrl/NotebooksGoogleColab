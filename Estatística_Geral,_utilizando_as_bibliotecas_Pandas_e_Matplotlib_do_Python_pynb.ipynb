{
  "nbformat": 4,
  "nbformat_minor": 0,
  "metadata": {
    "colab": {
      "provenance": [],
      "toc_visible": true,
      "include_colab_link": true
    },
    "kernelspec": {
      "name": "python3",
      "display_name": "Python 3"
    }
  },
  "cells": [
    {
      "cell_type": "markdown",
      "metadata": {
        "id": "view-in-github",
        "colab_type": "text"
      },
      "source": [
        "<a href=\"https://colab.research.google.com/github/paulosrl/NotebooksGoogleColab/blob/main/Estat%C3%ADstica_Geral%2C_utilizando_as_bibliotecas_Pandas_e_Matplotlib_do_Python_pynb.ipynb\" target=\"_parent\"><img src=\"https://colab.research.google.com/assets/colab-badge.svg\" alt=\"Open In Colab\"/></a>"
      ]
    },
    {
      "cell_type": "markdown",
      "metadata": {
        "id": "UNYlDhnOFdq8"
      },
      "source": [
        "# **Estatística Geral, utilizando as bibliotecas Pandas e Matplotlib do Python**\n",
        "---\n",
        "Pesquisa e Desenvolvimento: [Paulo Lima](https://paulolima.net.br)"
      ]
    },
    {
      "cell_type": "markdown",
      "metadata": {
        "id": "3ccinBG7WdeH"
      },
      "source": [
        "##**01. Ferramentas e bibliotecas utilizadas**\n",
        "\n",
        "* [Google Colab ](https://www.google.com/url?sa=t&rct=j&q=&esrc=s&source=web&cd=&cad=rja&uact=8&ved=2ahUKEwjRgtCVrqDqAhUUKLkGHc6jDnQQFjAAegQIARAC&url=https%3A%2F%2Fcolab.research.google.com%2F&usg=AOvVaw3A5aPK2kLFzKOzb6sOckVw): serviço de nuvem gratuito hospedado pelo Google para incentivar a pesquisa de Aprendizado de Máquina e Inteligência Artificial;\n",
        "* Bibliotecas **Python**: **pandas**, **matplotlib**\n",
        "\n",
        "### Referências sobre a biblioteca **pandas** e **matplotlib**:\n",
        "\n",
        "* [pandas](https://pandas.pydata.org/docs/getting_started/index.html#getting-started) é uma biblioteca para análise de dados em Python, de código aberto, licenciada por BSD, utiliza o conceito de dataframes que funcionam como uma matriz de dados, formada por linhas e colunas;\n",
        "\n",
        "* [Matplotlib](https://matplotlib.org/) é uma biblioteca para criação de gráficos e visualizações de dados em geral, feita para e da linguagem de programação Python e sua extensão de matemática [NumPy](https://www.w3schools.com/python/numpy_intro.asp).\n",
        "\n",
        "* O [NumPy](https://numpy.org/) é uma poderosa biblioteca Python que é usada principalmente para realizar cálculos em Arrays Multidimensionais. O NumPy fornece um grande conjunto de funções e operações de biblioteca que ajudam os programadores a executar facilmente cálculos numéricos.\n",
        "\n",
        "\n",
        "Documentação da biblioteca [pandas](https://pandas.pydata.org/).\n",
        "\n",
        "Exemplos de uso da biblioteca [pandas](https://minerandodados.com.br/analise-de-dados-com-python-usando-pandas/).\n",
        "\n",
        "Documentação da biblioteca [matplotlib](https://matplotlib.org/).\n",
        "\n",
        "Notebook introdução aos dataframes em pandas [Dataframes em Pandas](https://colab.research.google.com/drive/1-b-e_xmhWVljGEmb7VGzSHRjmHcKIVAK?usp=sharing)."
      ]
    },
    {
      "cell_type": "code",
      "metadata": {
        "id": "TF8OykVIBKlB"
      },
      "source": [
        "# importar a biblioteca pandas\n",
        "import pandas as pd\n",
        "import matplotlib.pyplot as plt\n",
        "import numpy as np\n",
        "\n",
        "#bibliotecas de apoio\n",
        "import math # biblioteca para cálculos matemáticos\n",
        "import seaborn as sns # biblioteca para apresentação visual\n",
        "\n",
        "#configurção da biblioteca seaborn para os gráficos\n",
        "sns.set(rc={'figure.figsize':(10, 6)})\n",
        "sns.set_context(\"talk\")"
      ],
      "execution_count": null,
      "outputs": []
    },
    {
      "cell_type": "markdown",
      "metadata": {
        "id": "glyAUx9Ga2UE"
      },
      "source": [
        "##**02. Medidas Estatísticas**\n",
        "\n",
        "Neste notebook, estudaremos três tipos fundamentais de medidas\n",
        "estatísticas: medidas de tendência central, medidas de dispersão e\n",
        "medidas de posição relativa.\n",
        "\n",
        "* As **medidas de tendência** central mostram o valor representativo\n",
        "em torno do qual os dados tendem a agrupar-se, dão o ponto\n",
        "central em torno do qual os dados se distribuem;\n",
        "* As **medidas de dispersão** mostram o grau de afastamento dos\n",
        "valores observados em relação ao ponto central da distribuição dos\n",
        "dados;\n",
        "* As **medidas de posição relativa** mostram pontos de corte na\n",
        "distribuição relativa dos dados da amostra.\n",
        "\n",
        "**Análise univariada**\n",
        "\n",
        "A análise univariada consiste em analisar **cada** variável da amostra:\n",
        "* Classificar o seu tipo: **qualitativa** (nominal ou ordinal) ou **quantitativa** (discreta ou contínua);\n",
        "\n",
        "* Obter tabelas, gráficos e/ou medidas que **resumam** a variável;\n",
        "\n",
        "* A partir destes resultados pode-se montar um **resumo geral** dos dados.\n",
        "\n",
        "**Variáveis**\n",
        "\n",
        "Quando fazemos uma amostragem, coletamos não apenas a informação sobre a característica de interesse, mas diversas outras informações que auxiliarão no entendimento desta característica.\n",
        "\n",
        "**Cada** uma das **características** da população amostrada, como peso, altura, sexo ou idade, é denominada de uma **variável**.\n",
        "\n",
        "As variáveis podem assumir diferentes valores, que basicamente podem ser **separados** em\n",
        "\n",
        "* **Quantitativos** ou numéricos\n",
        "* **Qualitativos** ou não numéricos, ou categóricos\n",
        "\n",
        "<br>\n",
        "<p align=\"center\"><img src=\"https://raw.githubusercontent.com/paulosrl/imagens/master/variaveis.png\n",
        "\"></p>\n",
        "\n",
        "**Classificação de variáveis**\n",
        "\n",
        "**As variáveis quantitativas ou numéricas podem ser**\n",
        "\n",
        "* **Discretas**: assumem apenas valores inteiros. Ex.: número de irmãos, número de passageiros;\n",
        "* **Contínuas**: assume qualquer valor no intervalo dos números reais. Ex.: peso, altura.\n",
        "\n",
        "Fonte: http://leg.ufpr.br/~fernandomayer/aulas/ce001e-2016-2/02_Analise_Exploratoria_de_Dados.html\n",
        "\n",
        "**As variáveis qualitativas ou categóricas podem ser**\n",
        "\n",
        "* **Nominais**: quando as categorias não possuem uma ordem natural. Ex.: nomes, cores, sexo;\n",
        "* **Ordinais**: quando as categorias podem ser ordenadas. Ex.: tamanho (pequeno, médio, grande), classe social (baixa, média, alta), grau de instrução (básico, médio, graduação, pós-graduação)."
      ]
    },
    {
      "cell_type": "markdown",
      "metadata": {
        "id": "-XaUbkCBH8NC"
      },
      "source": [
        "###**Medidas de tendência Central**\n",
        "\n",
        "Uma maneira de se resumir os dados de uma variável quantitativa é utilizando medidas descritivas. Estas medidas, se calculadas a partir de dados populacionais, são denominadas parâmetros e se calculadas\n",
        "a partir de dados amostrais são denominadas estimadores ou estatísticas.\n",
        "\n",
        "As medidas descritivas auxiliam a análise do comportamento dos dados. Tais dados são provenientes de uma população ou de uma amostra.\n",
        "\n",
        "Essas medidas descritivas são também chamadas de medida de **tendência central**. As medidas de tendência central são assim denominadas por indicarem um **ponto** em torno do qual se **concentram** os dados. Este ponto **tende** a ser o centro da **distribuição** dos dados.\n",
        "\n",
        "Neste artigo iremos nos concentrar nas seguintes medidas: **média, mediana e moda**, estas medidas resumem os dados em torno de um ponto **central**."
      ]
    },
    {
      "cell_type": "markdown",
      "metadata": {
        "id": "y5JHbyk4XPsd"
      },
      "source": [
        "####**Média**\n",
        "\n",
        "A média aritmética é uma medida muito utilizada no cotidiano. Surge do resultado da divisão do somatório dos números dados pela quantidade de números somados. Muito utilizada, por exemplo, em campeonatos de futebol, no intuito de determinar a média de gols da rodada; em escolas, para o cálculo da média final dos alunos, etc.\n",
        "\n",
        "No exemplo a seguir veremos como calcular a **média** da séria **(0,1,0,1,1,1,0,0,0,15,11,10,9)**."
      ]
    },
    {
      "cell_type": "code",
      "metadata": {
        "id": "14L4qxMhLcee",
        "colab": {
          "base_uri": "https://localhost:8080/"
        },
        "outputId": "6b1973e2-57d0-4a45-a942-74204ff14fe4"
      },
      "source": [
        "# calcular a média da série (0,1,0,1,1,1,0,0,0,15,11,10,9)\n",
        "pd.Series([0,1,0,1,1,1,0,0,0,15,11,10,9]).mean()"
      ],
      "execution_count": null,
      "outputs": [
        {
          "output_type": "execute_result",
          "data": {
            "text/plain": [
              "3.769230769230769"
            ]
          },
          "metadata": {},
          "execution_count": 2
        }
      ]
    },
    {
      "cell_type": "markdown",
      "metadata": {
        "id": "hy_i5KpvUlSn"
      },
      "source": [
        "####**Mediana**\n",
        "\n",
        "O termo “mediana” refere-se a “meio”, é o valor que divide o conjunto de dados ao **meio**, deixando os 50% menores valores de um lado e os 50% maiores valores do outro lado. Em um conjunto de informações numéricas, o valor central corresponde à mediana desse conjunto. Para que seja calculada a mediana, é necessário que esses todos os valores estejam em ordem crescente.\n",
        "\n",
        "Se no conjunto de dados houver uma quantidade ímpar de valores numéricos, a mediana será o valor central do conjunto numérico. Se a quantidade de valores for um número par, será feito o cálculo da média aritmética dos dois números centrais, o resultado será o valor da mediana.\n",
        "\n",
        "No exemplo a seguir veremos como calcular a **mediana** da séria **(0,1,0,1,1,1,0,0,0,15,11,10,9)**.\n",
        "\n",
        "https://pt.khanacademy.org/math/ap-statistics/summarizing-quantitative-data-ap/measuring-center-quantitative/e/calculating-the-median"
      ]
    },
    {
      "cell_type": "code",
      "metadata": {
        "id": "svOSriZx3mK_",
        "colab": {
          "base_uri": "https://localhost:8080/"
        },
        "outputId": "30b36207-a7cd-4b7c-9c7b-e365ed9628a4"
      },
      "source": [
        "# calcular a mediana\n",
        "pd.Series([0,1,0,1,1,1,0,0,0,15,11,10,9]).median()"
      ],
      "execution_count": null,
      "outputs": [
        {
          "output_type": "execute_result",
          "data": {
            "text/plain": [
              "1.0"
            ]
          },
          "metadata": {},
          "execution_count": 3
        }
      ]
    },
    {
      "cell_type": "markdown",
      "metadata": {
        "id": "8Sd7zWtiOWrH"
      },
      "source": [
        "####**Média *X* Mediana**\n",
        "\n",
        "É sempre necessário observar ambas as medidas, cada medida depende diretamente de como estão distribuídos os dados. No Exemplo a seguir iremo utilizar dois exemplos de conjuntos de dados.\n",
        "\n",
        "Conjunto1 = [1,2,3,4,5]\n",
        "\n",
        "Conjunto2 = [1,2,3,4,50]\n",
        "\n",
        "A seguir iremos aplicar o cálculo da média e da mediana para ambos os conjuntos."
      ]
    },
    {
      "cell_type": "code",
      "metadata": {
        "id": "VegAHLWrOWEi"
      },
      "source": [
        "# conjunto de dados\n",
        "Conjunto1 = [1,2,3,4,5]\n",
        "Conjunto2 = [1,2,3,4,50]"
      ],
      "execution_count": null,
      "outputs": []
    },
    {
      "cell_type": "code",
      "metadata": {
        "id": "MLnYYMm4OzD1",
        "colab": {
          "base_uri": "https://localhost:8080/"
        },
        "outputId": "2361b73c-1394-45b0-d1b8-f17cd3ba8c7d"
      },
      "source": [
        "#média para o primeiro conjunto de dados\n",
        "pd.Series(Conjunto1).mean()"
      ],
      "execution_count": null,
      "outputs": [
        {
          "output_type": "execute_result",
          "data": {
            "text/plain": [
              "3.0"
            ]
          },
          "metadata": {},
          "execution_count": 5
        }
      ]
    },
    {
      "cell_type": "code",
      "metadata": {
        "id": "HyGUB8e4V6S6",
        "colab": {
          "base_uri": "https://localhost:8080/"
        },
        "outputId": "b3bfbffb-f188-4cda-8e72-916799842a69"
      },
      "source": [
        "#mediana para o primeiro conjunto de dados\n",
        "pd.Series(Conjunto1).median()"
      ],
      "execution_count": null,
      "outputs": [
        {
          "output_type": "execute_result",
          "data": {
            "text/plain": [
              "3.0"
            ]
          },
          "metadata": {},
          "execution_count": 6
        }
      ]
    },
    {
      "cell_type": "code",
      "metadata": {
        "id": "9MKyw_spXr_A",
        "colab": {
          "base_uri": "https://localhost:8080/"
        },
        "outputId": "946dde86-9b38-47be-d57e-3f34fc453de7"
      },
      "source": [
        "#média para o segundo conjunto de dados\n",
        "pd.Series(Conjunto2).mean()"
      ],
      "execution_count": null,
      "outputs": [
        {
          "output_type": "execute_result",
          "data": {
            "text/plain": [
              "12.0"
            ]
          },
          "metadata": {},
          "execution_count": 7
        }
      ]
    },
    {
      "cell_type": "code",
      "metadata": {
        "id": "Iehehz1nXrtb",
        "colab": {
          "base_uri": "https://localhost:8080/"
        },
        "outputId": "2b250158-dd45-4986-a5e0-c127d941f386"
      },
      "source": [
        "#mediana para o segundo conjunto de dados\n",
        "pd.Series(Conjunto2).median()"
      ],
      "execution_count": null,
      "outputs": [
        {
          "output_type": "execute_result",
          "data": {
            "text/plain": [
              "3.0"
            ]
          },
          "metadata": {},
          "execution_count": 8
        }
      ]
    },
    {
      "cell_type": "markdown",
      "metadata": {
        "id": "AjRn6C15X0Nx"
      },
      "source": [
        "As duas amostras se diferenciam apenas pelo **último valor**, foi inserido um valor discrepante, chamado de **outlier**. Um *outlier* é um valor que é muito diferente dos demais, quando presentes na amostra, esses valores acabam por \"contaminar\" a **MÉDIA**.\n",
        "\n",
        "O outlier distorce a média, devido a este problema, quando for escolher uma medida de tendência central, é importante analisar os dados, se a média e a mediana estiverem próximas é possível que não existam valores discrepantes na amostra.\n",
        "\n",
        "Se **não houverem valores discrepantes** na amostra a melhor escolha é a **média**, mas ainda assim é importante calcular a mediana e analisar os dois valores.\n",
        "\n",
        "Caso **existam valores discrepantes** o melhor usar a **mediana**.\n",
        "\n",
        "É importante entender os valores discrepantes. Nem sempre um valor discrepante é um erro nos dados. Caso seja um erro, esse valor deverá ser eliminado da amostra e refeito os cálculos da média e mediana, analisando novamente os dois valores. Se o valor não for um erro, deve-se analisar os valores de informa separada, pois esses valores podem ser exatamente o que se busca na amostra.\n",
        "\n",
        "A mediana deve ser usada, sempre que possível, como medida representativa de distribuições fortemente assimétricas, como por exemplo a variável distribuição de renda."
      ]
    },
    {
      "cell_type": "markdown",
      "metadata": {
        "id": "asbb1nUMDbGA"
      },
      "source": [
        "#### **Moda**"
      ]
    },
    {
      "cell_type": "markdown",
      "metadata": {
        "id": "83P6nUZ8EDdk"
      },
      "source": [
        "Dado um conjunto de valores, a Moda desses valores será aquele que se repetir o maior número de vezes, ou seja , o valor **mais frequente** do conjunto.\n",
        "\n",
        "Essa a **única** função estatística que pode ser usada com valores **não numéricos**.\n",
        "\n",
        "Exemplo:\n",
        "\n",
        "* lista=[1,2,1,3,4,5]\n",
        "\n",
        "* m = 1\n",
        "\n",
        "O valor da moda desta lista seria o número 1, pois é o número que mais se repete.\n",
        "\n",
        "Na lista a seguir, terem,os dois valores de moda, pois os dois valores 1 e 5 se repetem com a mesma frequência.\n",
        "\n",
        "* lista=[1,5,1,3,4,5]\n",
        "\n",
        "* m = 1 e 5\n",
        "\n",
        "Caso não haja repetição de nenhum valor na amostra, a moda será igual a zero.\n",
        "\n",
        "* lista=[1,2,3,4,5]\n",
        "\n",
        "* m = 0, ou seja, todos os valores só aparecem um vez na amostra."
      ]
    },
    {
      "cell_type": "code",
      "metadata": {
        "id": "gyPIzgO4Eg14"
      },
      "source": [
        "#lista\n",
        "lista=[1,2,1,3,4,5]"
      ],
      "execution_count": null,
      "outputs": []
    },
    {
      "cell_type": "code",
      "metadata": {
        "id": "LMQWiq05E8eX",
        "colab": {
          "base_uri": "https://localhost:8080/"
        },
        "outputId": "ac391ea2-5429-4e8d-ec72-364b50da9321"
      },
      "source": [
        "#Cálculo da Moda\n",
        "pd.Series(lista).mode()"
      ],
      "execution_count": null,
      "outputs": [
        {
          "output_type": "execute_result",
          "data": {
            "text/plain": [
              "0    1\n",
              "dtype: int64"
            ]
          },
          "metadata": {},
          "execution_count": 10
        }
      ]
    },
    {
      "cell_type": "code",
      "metadata": {
        "id": "Osk1pL5WFEyQ"
      },
      "source": [
        "#lista\n",
        "lista2=[1,5,1,2,4,5]"
      ],
      "execution_count": null,
      "outputs": []
    },
    {
      "cell_type": "code",
      "metadata": {
        "id": "ZIihHGY4FMVR",
        "colab": {
          "base_uri": "https://localhost:8080/"
        },
        "outputId": "b367888e-f93b-43f5-8442-77915ad73fb0"
      },
      "source": [
        "#Cálculo da Moda\n",
        "pd.Series(lista2).mode()"
      ],
      "execution_count": null,
      "outputs": [
        {
          "output_type": "execute_result",
          "data": {
            "text/plain": [
              "0    1\n",
              "1    5\n",
              "dtype: int64"
            ]
          },
          "metadata": {},
          "execution_count": 12
        }
      ]
    },
    {
      "cell_type": "code",
      "metadata": {
        "id": "qSDLRVoRGcdS"
      },
      "source": [
        "#lista\n",
        "lista3=[1,2,3,4,5]"
      ],
      "execution_count": null,
      "outputs": []
    },
    {
      "cell_type": "code",
      "metadata": {
        "id": "5_jc3ChRGcPx",
        "colab": {
          "base_uri": "https://localhost:8080/"
        },
        "outputId": "e5e1dfba-81e0-4a20-ca3f-35e2e3bbf105"
      },
      "source": [
        "#Cálculo da Moda\n",
        "pd.Series(lista3).mode()"
      ],
      "execution_count": null,
      "outputs": [
        {
          "output_type": "execute_result",
          "data": {
            "text/plain": [
              "0    1\n",
              "1    2\n",
              "2    3\n",
              "3    4\n",
              "4    5\n",
              "dtype: int64"
            ]
          },
          "metadata": {},
          "execution_count": 14
        }
      ]
    },
    {
      "cell_type": "markdown",
      "metadata": {
        "id": "15_rCnBLI0Rr"
      },
      "source": [
        "###**Medidas de dispersão ou variabilidade**"
      ]
    },
    {
      "cell_type": "markdown",
      "metadata": {
        "id": "bvl352ZOLB0t"
      },
      "source": [
        "A mediana deve ser usada sempre que possível como medida representativa de distribuições fortemente assimétricas, como distribuição de renda, etc.\n",
        "\n",
        "As medidas de dispersão são medidas que indicam o **quão espalhados** estão os dados, ou como eles variam. São elas a **amplitude, a variância e o desvio padrão**.\n",
        "\n",
        "Tomemos como exemplo o caso da média aritmética, que é uma medida de tendência central largamente empregada, e consideremos os dois conjuntos de observações:\n",
        "\n",
        "* A = [25, 28, 31, 34, 37]\n",
        "* B = [17, 23, 30, 39, 46]\n",
        "\n",
        "Ambos têm a mesma média, 31. No entanto, pode-se perceber **intuitivamente** que o conjunto B tem maior dispersão do que o conjunto A.\n",
        "\n",
        "É necessário estabelecer medidas que indiquem o grau de dispersão, ou variabilidade, em relação ao valor central."
      ]
    },
    {
      "cell_type": "markdown",
      "metadata": {
        "id": "HWHR7z7SLG-H"
      },
      "source": [
        "#### **Amplitude**"
      ]
    },
    {
      "cell_type": "markdown",
      "metadata": {
        "id": "D860t6JuLQC7"
      },
      "source": [
        "A **amplitude** nada mais é do que a **diferença** entre o **maior** e o **menor** valor de um conjunto de dados. Para fazer este cálculo no Pandas, usaremos as funções max() e min(), que obviamente, retornam o valor máximo e mínimo de um conjunto de dados, e depois subtrairemos um do outro.\n",
        "\n",
        "A vantagem da amplitude é sua facilidade de cálculo porém, tem a desvantagem de levar em conta apenas dois valores, desprezando todos os outros.\n",
        "\n",
        "Exemplo:\n",
        "\n",
        "Um pesquisador está interessado em avaliar o tempo (em segundos) que os consumidores demoram entre o início e a finalização de uma compra em um determinado site na Internet. Para isso, observou 12 consumidores escolhidos aleatoriamente no sistema. Os dados encontram-se abaixo:\n",
        "\n",
        "tempos = [71,73,73,74,74,75,76,77,77,79,81,83]\n"
      ]
    },
    {
      "cell_type": "code",
      "metadata": {
        "id": "1FxYjQKFLZJy",
        "colab": {
          "base_uri": "https://localhost:8080/"
        },
        "outputId": "84b045d7-5092-4de2-c537-cef5436f0623"
      },
      "source": [
        "# amplitude\n",
        "pd.Series([71,73,73,74,74,75,76,77,77,79,81,83]).max() - pd.Series([71,73,73,74,74,75,76,77,77,79,81,83]).min()"
      ],
      "execution_count": null,
      "outputs": [
        {
          "output_type": "execute_result",
          "data": {
            "text/plain": [
              "12"
            ]
          },
          "metadata": {},
          "execution_count": 15
        }
      ]
    },
    {
      "cell_type": "markdown",
      "metadata": {
        "id": "l9HbIh6xl-TX"
      },
      "source": [
        "A amplitude (A) é de 12 segundos."
      ]
    },
    {
      "cell_type": "markdown",
      "metadata": {
        "id": "NxH25AF6MtmP"
      },
      "source": [
        "#### **Variância**"
      ]
    },
    {
      "cell_type": "markdown",
      "metadata": {
        "id": "pcax68NOMxoF"
      },
      "source": [
        "Expressa quanto os dados de um conjunto estão afastados do valor central. Calculamos a variância no Pandas através da função var(). Quanto menor é a variância, mais próximos os valores estão da média; quanto maior mais os valores estão distantes da média.\n",
        "\n",
        "Exemplo: Calcular o tempo em cada cada atleta está de um valor médio calculado entre 7 atletas numa corrida de atletismo de 100 metros.\n",
        "\n",
        "**Conjunto de dados 1:**\n",
        "\n",
        "* tempos = [25.51,23.41,27.14,23.44,22.03,22.09,29.43]\n",
        "\n",
        "* variância = 24.72142857142857\n",
        "\n",
        "**Conjunto de dados 2:**\n",
        "\n",
        "* tempos = [25.51,25.41,25.14,25.44,24.03,24.09,25.43]\n",
        "\n",
        "* variância = 0.43249047619047626\n",
        "\n",
        "**Conjunto de dados 3:**\n",
        "\n",
        "* tempos = [25.51,25.41,25.14,25.44,25.43,25.09,25.43]\n",
        "\n",
        "* variância = 0.43249047619047626"
      ]
    },
    {
      "cell_type": "markdown",
      "metadata": {
        "id": "lfeu2Dq6me_p"
      },
      "source": [
        "**Conjunto de dados 1**"
      ]
    },
    {
      "cell_type": "code",
      "metadata": {
        "id": "NJqhu9QCPRoT",
        "colab": {
          "base_uri": "https://localhost:8080/"
        },
        "outputId": "c06aed84-77cc-4f57-e103-43372648c9cc"
      },
      "source": [
        "# variância - Conjunto de dados 1\n",
        "pd.Series([25.51,23.41,27.14,23.44,22.03,22.09,29.43]).var()"
      ],
      "execution_count": null,
      "outputs": [
        {
          "output_type": "execute_result",
          "data": {
            "text/plain": [
              "7.6953476190476175"
            ]
          },
          "metadata": {},
          "execution_count": 16
        }
      ]
    },
    {
      "cell_type": "code",
      "metadata": {
        "id": "VIJBHcKbPhMx",
        "colab": {
          "base_uri": "https://localhost:8080/"
        },
        "outputId": "2c9345d9-0760-4f3e-97fb-612d30c7ec95"
      },
      "source": [
        "# média - Conjunto de dados 1\n",
        "pd.Series([25.51,23.41,27.14,23.44,22.03,22.09,29.43]).mean()"
      ],
      "execution_count": null,
      "outputs": [
        {
          "output_type": "execute_result",
          "data": {
            "text/plain": [
              "24.72142857142857"
            ]
          },
          "metadata": {},
          "execution_count": 17
        }
      ]
    },
    {
      "cell_type": "markdown",
      "metadata": {
        "id": "xaqmfIXJmkdK"
      },
      "source": [
        "**Conjunto de dados 2**"
      ]
    },
    {
      "cell_type": "code",
      "metadata": {
        "id": "iaJhMh_GPrGA",
        "colab": {
          "base_uri": "https://localhost:8080/"
        },
        "outputId": "39153b01-caf5-4b4d-8780-7e4b2cc61946"
      },
      "source": [
        "# variância - Conjunto de dados 2\n",
        "pd.Series([25.51,25.41,25.14,25.44,24.03,24.09,25.43]).var()"
      ],
      "execution_count": null,
      "outputs": [
        {
          "output_type": "execute_result",
          "data": {
            "text/plain": [
              "0.43249047619047626"
            ]
          },
          "metadata": {},
          "execution_count": 18
        }
      ]
    },
    {
      "cell_type": "code",
      "metadata": {
        "id": "ba1TIFMEP2uX",
        "colab": {
          "base_uri": "https://localhost:8080/"
        },
        "outputId": "5a3d37b0-57b9-4ffd-f187-3cde57147571"
      },
      "source": [
        "# média - Conjunto de dados 2\n",
        "pd.Series([25.51,25.41,25.14,25.44,24.03,24.09,25.43]).mean()"
      ],
      "execution_count": null,
      "outputs": [
        {
          "output_type": "execute_result",
          "data": {
            "text/plain": [
              "25.00714285714286"
            ]
          },
          "metadata": {},
          "execution_count": 86
        }
      ]
    },
    {
      "cell_type": "markdown",
      "metadata": {
        "id": "x4d4uaSXmm4-"
      },
      "source": [
        "**Conjunto de dados 3**"
      ]
    },
    {
      "cell_type": "code",
      "metadata": {
        "id": "vL2oGIjVPq4t",
        "colab": {
          "base_uri": "https://localhost:8080/"
        },
        "outputId": "d03abe1e-86b3-4c22-ae2d-105aedd6abe6"
      },
      "source": [
        "# variância - Conjunto de dados 3\n",
        "pd.Series([25.51,25.41,25.14,25.44,25.43,25.09,25.43]).var()"
      ],
      "execution_count": null,
      "outputs": [
        {
          "output_type": "execute_result",
          "data": {
            "text/plain": [
              "0.02696666666666675"
            ]
          },
          "metadata": {},
          "execution_count": 20
        }
      ]
    },
    {
      "cell_type": "code",
      "metadata": {
        "id": "11t6TBu9QrZy",
        "colab": {
          "base_uri": "https://localhost:8080/"
        },
        "outputId": "630083d3-436a-48c4-95b5-8462d1a300af"
      },
      "source": [
        "# média - Conjunto de dados 3\n",
        "pd.Series([25.51,25.41,25.14,25.44,25.43,25.09,25.43]).mean()"
      ],
      "execution_count": null,
      "outputs": [
        {
          "output_type": "execute_result",
          "data": {
            "text/plain": [
              "25.35"
            ]
          },
          "metadata": {},
          "execution_count": 21
        }
      ]
    },
    {
      "cell_type": "markdown",
      "metadata": {
        "id": "q8d-r_2bGehv"
      },
      "source": [
        "#### **Desvio Padrão**\n",
        "\n",
        "Desvio padrão  indica quanto os dados estão afastados da média. Um valor de desvio padrão alto indica que os valores estão mais espalhados, mais longe da média, e um desvio padrão baixo indica que os valores estão mais próximos da média.\n",
        "\n",
        "$$SD = \\sqrt{\\frac{1}{n}\\sum_{i=1}^{n}(x_i - \\overline{x}) ^ 2}$$"
      ]
    },
    {
      "cell_type": "markdown",
      "metadata": {
        "id": "uo6in7Lg_cu9"
      },
      "source": [
        "Na figura abaixo temos um exemplo de valores altos e baixos para o desvio padrão. Em vermelho os dados estão mais próximos à sua média (**desvio baixo**), e em azul estão bem mais espalhados (**desvio alto**).\n",
        "\n",
        "<center><img src=\"https://upload.wikimedia.org/wikipedia/commons/thumb/f/f9/Comparison_standard_deviations.svg/450px-Comparison_standard_deviations.svg.png\" height=\"450px\">\n",
        "</center>\n",
        "\n",
        "Este exemplo mostra duas populações com médias iguais e desvio padrões diferentes. A população em veremlho tem média 100 e desvio padrão igual a 10, a população em azul, tem média 100 e desvio padrão de 50.\n",
        "\n",
        "Para quem não está acostumado com gráficos de distribuições, um exemplo que funciona muito bem é o do tiro ao alvo.\n",
        "\n",
        "Olhe na figura abaixo como os tiros estão localizados em cada uma das situações. Identifique mentalmente quais tem maior ou menor dispersão, ou seja, desvio padrão.\n",
        "\n",
        "<center><img src=\"https://raw.githubusercontent.com/carlosfab/dsnp2/master/img/precisao_exatidao.jpg\" height=\"450px\"></center>\n",
        "\n",
        "Com o achatamento da curva os valores se \"aglomeram\" em torno da média ou se dispersam em torno dela. Veja também mais essa outra figura abaixo, colocando as distribuições lado a lado.\n",
        "\n",
        "<center><img src=\"https://raw.githubusercontent.com/carlosfab/dsnp2/master/img/precisao_vs_exatidao2.jpg\" height=\"400px\"></center>\n",
        "\n",
        "Para calcular o desvio padrão de qualquer coluna, basta executar o método `std()` para a variável.\n",
        "\n",
        "* Curso Data Science na Prática 2.0 by [sigmoidal.ai](https://sigmoidal.ai)*\n",
        "\n",
        "É uma medida de separação do conjunto de dados, que mede o quão diferente os valores de um conjunto de dados se diferem entre si, conhecido também como desvio padrão populacional.\n",
        "\n",
        "Na área estatística, o desvio de padrão é chamado especificamente de desvio de padrão amostral. Um baixo desvio indica que os dados estão próximos da média ou do valor esperado. Já um alto desvio padrão, indica que os dados estão espalhados por uma ampla gama de valores.\n",
        "\n",
        "**Conclusões**\n",
        "\n",
        "* O **desvio padrão** é um valor positivo, indica a **distância** entre os valores medidos e a **média**;\n",
        "* O **desvio padrão** junto a média aritmética, ajudam a **entender** o quão \"confiável\" é um valor;\n",
        "* Um desvio padrão **grande** significa que os valores amostrais estão **distantes** da média;\n",
        "* Um desvio padrão **pequeno** (próximo de zero) indica que eles estão **condensados próximos** da média;\n",
        "* Quanto **menor** o desvio padrão, mais **homogênea** é a amostra;\n",
        "* Quando o desvio padrão é **igual a zero** é porque ele é **igual** a média;\n",
        "* Quanto mais próximo da média for o desvio padrão, maior será a variabilidade dos dados.\n",
        "\n",
        "No exemplo a seguir veremos como calcular o **desvio padrão**, e como ele é diretamente influenciado pelos dados. Utilzaremos sempre o mesmo número de elementos no conjunto, porém com dados diferentes.\n"
      ]
    },
    {
      "cell_type": "code",
      "source": [
        "# média\n",
        "pd.Series([0,1,0,1,1,1,0,0,0,15,11,10,9]).mean()"
      ],
      "metadata": {
        "colab": {
          "base_uri": "https://localhost:8080/"
        },
        "id": "c89bkx-xyL0k",
        "outputId": "88efdbf8-8de1-4265-c474-07d9cc5b4b90"
      },
      "execution_count": null,
      "outputs": [
        {
          "output_type": "execute_result",
          "data": {
            "text/plain": [
              "3.769230769230769"
            ]
          },
          "metadata": {},
          "execution_count": 87
        }
      ]
    },
    {
      "cell_type": "code",
      "metadata": {
        "id": "qeFxL7j139jJ",
        "colab": {
          "base_uri": "https://localhost:8080/"
        },
        "outputId": "c1d95612-7919-4a7f-de76-c8a85ada3009"
      },
      "source": [
        "# desvio padrão\n",
        "pd.Series([0,1,0,1,1,1,0,0,0,15,11,10,9]).std()"
      ],
      "execution_count": null,
      "outputs": [
        {
          "output_type": "execute_result",
          "data": {
            "text/plain": [
              "5.372054947501407"
            ]
          },
          "metadata": {},
          "execution_count": 22
        }
      ]
    },
    {
      "cell_type": "code",
      "source": [
        "# média\n",
        "pd.Series([5,12,25,43,67]).mean()"
      ],
      "metadata": {
        "colab": {
          "base_uri": "https://localhost:8080/"
        },
        "id": "rv3_zxIyysjc",
        "outputId": "c84a89b8-dd7a-438b-89af-8fda6d94ab5a"
      },
      "execution_count": null,
      "outputs": [
        {
          "output_type": "execute_result",
          "data": {
            "text/plain": [
              "30.4"
            ]
          },
          "metadata": {},
          "execution_count": 88
        }
      ]
    },
    {
      "cell_type": "code",
      "metadata": {
        "id": "JSnOcFwcKhWE",
        "colab": {
          "base_uri": "https://localhost:8080/"
        },
        "outputId": "596a3e0d-c7e3-4ac9-d951-bc70d3284d1b"
      },
      "source": [
        "pd.Series([5,12,25,43,67]).std()"
      ],
      "execution_count": null,
      "outputs": [
        {
          "output_type": "execute_result",
          "data": {
            "text/plain": [
              "25.055937420100648"
            ]
          },
          "metadata": {},
          "execution_count": 23
        }
      ]
    },
    {
      "cell_type": "code",
      "source": [
        "# média\n",
        "pd.Series([0,0,0,1,1,1,0,0,0,1,1,1,1]).mean()"
      ],
      "metadata": {
        "colab": {
          "base_uri": "https://localhost:8080/"
        },
        "id": "EqYOdzm6y2jE",
        "outputId": "f719b718-29c5-4e55-9819-8d4471d26fed"
      },
      "execution_count": null,
      "outputs": [
        {
          "output_type": "execute_result",
          "data": {
            "text/plain": [
              "0.5384615384615384"
            ]
          },
          "metadata": {},
          "execution_count": 89
        }
      ]
    },
    {
      "cell_type": "code",
      "metadata": {
        "id": "16PZgFP6Jeab",
        "colab": {
          "base_uri": "https://localhost:8080/"
        },
        "outputId": "30d8c60d-c897-499f-ca40-b0553a47fc98"
      },
      "source": [
        "# desvio padrão\n",
        "pd.Series([0,0,0,1,1,1,0,0,0,1,1,1,1]).std()"
      ],
      "execution_count": null,
      "outputs": [
        {
          "output_type": "execute_result",
          "data": {
            "text/plain": [
              "0.5188745216627709"
            ]
          },
          "metadata": {},
          "execution_count": 24
        }
      ]
    },
    {
      "cell_type": "code",
      "source": [
        "# média\n",
        "pd.Series([0,0,0,0,0,0,0,0,0,1,1,1,1]).mean()"
      ],
      "metadata": {
        "colab": {
          "base_uri": "https://localhost:8080/"
        },
        "id": "-apqdLYXzBqV",
        "outputId": "4c559616-d5a5-4e46-ae65-b4b18690cfbc"
      },
      "execution_count": null,
      "outputs": [
        {
          "output_type": "execute_result",
          "data": {
            "text/plain": [
              "0.3076923076923077"
            ]
          },
          "metadata": {},
          "execution_count": 90
        }
      ]
    },
    {
      "cell_type": "code",
      "metadata": {
        "id": "PvNxAieUJmxa",
        "colab": {
          "base_uri": "https://localhost:8080/"
        },
        "outputId": "56b54fb4-e19a-456e-d5db-b1b0f637a1e3"
      },
      "source": [
        "# desvio padrão\n",
        "pd.Series([0,0,0,0,0,0,0,0,0,1,1,1,1]).std()"
      ],
      "execution_count": null,
      "outputs": [
        {
          "output_type": "execute_result",
          "data": {
            "text/plain": [
              "0.48038446141526137"
            ]
          },
          "metadata": {},
          "execution_count": 91
        }
      ]
    },
    {
      "cell_type": "code",
      "metadata": {
        "id": "YF8voTRyJq1u",
        "colab": {
          "base_uri": "https://localhost:8080/"
        },
        "outputId": "ee2dd075-deae-4335-ae44-e527a7542a55"
      },
      "source": [
        "# média\n",
        "pd.Series([0.003,0,0,0,0,0,0,0,0,0,0,0,0]).mean()"
      ],
      "execution_count": null,
      "outputs": [
        {
          "output_type": "execute_result",
          "data": {
            "text/plain": [
              "0.00023076923076923076"
            ]
          },
          "metadata": {},
          "execution_count": 96
        }
      ]
    },
    {
      "cell_type": "code",
      "source": [
        "# desvio padrão\n",
        "pd.Series([0.003,0,0,0,0,0,0,0,0,0,0,0,0]).std()"
      ],
      "metadata": {
        "colab": {
          "base_uri": "https://localhost:8080/"
        },
        "id": "NapWMx55zIDE",
        "outputId": "f6cecbab-fc1f-497e-9f94-17d67c275ac3"
      },
      "execution_count": null,
      "outputs": [
        {
          "output_type": "execute_result",
          "data": {
            "text/plain": [
              "0.0008320502943378437"
            ]
          },
          "metadata": {},
          "execution_count": 95
        }
      ]
    },
    {
      "cell_type": "code",
      "source": [
        "# média\n",
        "pd.Series([0,1,2,3,4,5,6,7,8,9,10,11,12]).mean()"
      ],
      "metadata": {
        "colab": {
          "base_uri": "https://localhost:8080/"
        },
        "id": "wXi5kjdvzlis",
        "outputId": "a2d9e29e-31bb-4c0f-b6f5-63d08fbde17f"
      },
      "execution_count": null,
      "outputs": [
        {
          "output_type": "execute_result",
          "data": {
            "text/plain": [
              "6.0"
            ]
          },
          "metadata": {},
          "execution_count": 100
        }
      ]
    },
    {
      "cell_type": "code",
      "metadata": {
        "id": "L2g7TFVIJvSU",
        "colab": {
          "base_uri": "https://localhost:8080/"
        },
        "outputId": "ec18516d-4a88-4589-e0be-e9afc4ae4c35"
      },
      "source": [
        "# desvio padrão\n",
        "pd.Series([0,1,2,3,4,5,6,7,8,9,10,11,12]).std()"
      ],
      "execution_count": null,
      "outputs": [
        {
          "output_type": "execute_result",
          "data": {
            "text/plain": [
              "3.8944404818493075"
            ]
          },
          "metadata": {},
          "execution_count": 107
        }
      ]
    },
    {
      "cell_type": "code",
      "metadata": {
        "id": "RzzNtnSOJ0rd",
        "colab": {
          "base_uri": "https://localhost:8080/"
        },
        "outputId": "b71a5292-9d60-4ddc-c073-22ef21eb3f18"
      },
      "source": [
        "# média\n",
        "pd.Series([0,100,2,30,400000,555,675,7000,8909,5679,568710,16561,45612]).mean()"
      ],
      "execution_count": null,
      "outputs": [
        {
          "output_type": "execute_result",
          "data": {
            "text/plain": [
              "81064.07692307692"
            ]
          },
          "metadata": {},
          "execution_count": 104
        }
      ]
    },
    {
      "cell_type": "code",
      "metadata": {
        "id": "zFhsTmKyJ_78",
        "colab": {
          "base_uri": "https://localhost:8080/"
        },
        "outputId": "f6568197-d517-4030-ca9a-ef2a1c28f54b"
      },
      "source": [
        "# desvio padrão\n",
        "pd.Series([0,100,2,30,400000,555,675,7000,8909,5679,568710,16561,45612]).std()"
      ],
      "execution_count": null,
      "outputs": [
        {
          "output_type": "execute_result",
          "data": {
            "text/plain": [
              "182692.6339203187"
            ]
          },
          "metadata": {},
          "execution_count": 105
        }
      ]
    },
    {
      "cell_type": "markdown",
      "metadata": {
        "id": "NLJbzT9rnwXV"
      },
      "source": [
        "####**Coeficiente de variação (CV)**"
      ]
    },
    {
      "cell_type": "markdown",
      "metadata": {
        "id": "bLblT_N_n4jZ"
      },
      "source": [
        "O desvio padrão embora seja a medida de dispersão mais utilizada, ela mede a dispersão em termos absolutos.\n",
        "\n",
        "O coeficiente de variação (CV) definido por\n",
        "$$CV = \\frac{s}{\\overline {x}}.100$$\n",
        "\n",
        "mede a dispersão em termos relativos.\n",
        "\n",
        "Por vezes é conveniente exprimir a variabilidade em **termos relativos**, isto porque, por exemplo, um desvio padrão de 10 pode ser insignificante se a média é 10.000 mas altamente significativo para um conjunto de dados onde a média é 100.\n",
        "\n",
        "O coeficiente de variação é **adimensional** (não tem unidade de medida), tornando-se útil quando queremos comparar a variabilidade de observações com diferentes unidades de medidas.\n",
        "\n",
        "**Exemplo 1**\n",
        "\n",
        "|Conjunto | Valores | Média   | Desvio padrão | Coeficiente de variação |\n",
        "|:---|:---|:---|:--- |:--- |\n",
        "|1| [1, 2, 3]     | 2   | 1   | 0,5 |\n",
        "|2|[101, 102, 103]| 102 | 1   | 0,01|\n",
        "|3|[100, 200, 300]| 200 | 100 | 0,5 |\n",
        "\n",
        "Os conjuntos 1 e 2 têm o mesmo desvio padrão, pois os intervalos entre os valores são iguais.\n",
        "\n",
        "Os níveis de variabilidade nos conjuntos 1 e 3 são proporcionalmente iguais, logo, eles têm o mesmo coeficiente de variação.\n",
        "\n",
        "O CV é expresso em porcentagem. É zero quando não houver variabilidade entre os dados, ou seja, todos os valores da amostra são iguais.\n",
        "\n",
        "O CV é útil para fornece uma medida de quanto os dados possuem homogeneidade. Quanto menor o coeficiente de variação, mais homogêneo é o conjunto de dados.\n",
        "\n",
        "Uma possível classificação de homogeneidade de acordo com o CV é:\n",
        "\n",
        "* menor que 10%: homogeneidade muito alta.\n",
        "* de 10% a 20%: homogeneidade alta:\n",
        "* de 20% a 30%: homogeneidade média;\n",
        "* maior que 30%: homogeneidade baixa;\n",
        "\n",
        "**Exemplo 2**\n",
        "\n",
        "Dado os dados de três turmas, onde as médias de todas as turmas é igual a 5, deseja-se saber qual a turma apresenta maior variablidade nas notas\n",
        "\n",
        "| Turma | Média   | Desvio padrão | Coef. de variação |\n",
        "|:---|:---|:--- |:--- |\n",
        "|A   | 5  | 1,5 | 30 %|\n",
        "|B   | 5  | 3   | 60 %|\n",
        "|C   | 5  | 4,5 | 90 %|\n",
        "\n",
        "Analisando a tabela acima: Os alunos das três tenderam a ter notas em torno de seis. Pelos desvios padrões concluímos que os alunos da turma A obtiveram notas relativamente próximas umas das outras, quando comparados aos alunos das outras turmas. Por outro lado, as notas dos alunos da turma B foram as que se apresentaram mais heterogêneas.\n",
        "\n",
        "As três turmas a seguir apresentam médias diferentes, quando isso ocorre é necessário aplicar o coeficiente de variação para poder aferir a variabilidade em termos relativos.\n",
        "\n",
        "| Turma | Média   | Desvio padrão | Coef. de variação |\n",
        "|:---|:---|:--- |:--- |\n",
        "|D   | 3  | 1,5 | 50 %|\n",
        "|E   | 8  | 3   | 37,5 %|\n",
        "|F   | 5  | 4,5 | 90 %|\n",
        "\n",
        "Exemplo prático: Calcular a média, o desvio padrão e o coeficiente de variação em relação ao tempo de 7 atletas dividos em três grupos numa corrida de atletismo de 100 metros.\n",
        "\n",
        "**Grupo 1:**\n",
        "\n",
        "* tempos_grupo1 = [25.51,23.41,27.14,23.44,22.03,22.09,29.43]\n",
        "\n",
        "**Grupo 2:**\n",
        "\n",
        "* tempos_grupo2 = [25.51,25.41,25.14,25.44,24.03,24.09,25.43]\n",
        "\n",
        "**Grupo 3:**\n",
        "\n",
        "* tempos_grupo3 = [25.51,25.41,25.14,25.44,25.43,25.09,25.43]"
      ]
    },
    {
      "cell_type": "code",
      "metadata": {
        "id": "eAx2DwKw4Jk7"
      },
      "source": [
        "tempos_grupo1 = [25.51,23.41,27.14,23.44,22.03,22.09,29.43]\n",
        "tempos_grupo2 = [25.51,25.41,25.14,25.44,24.03,24.09,25.43]\n",
        "tempos_grupo3 = [25.51,25.41,25.14,25.44,25.43,25.09,25.43]"
      ],
      "execution_count": null,
      "outputs": []
    },
    {
      "cell_type": "code",
      "metadata": {
        "id": "us5HINZv4ftW"
      },
      "source": [
        "# grupo1\n",
        "media1 = pd.Series(tempos_grupo1).mean()\n",
        "desvio_p1 = pd.Series(tempos_grupo1).std()\n",
        "coef_var1 = pd.Series(tempos_grupo1).std() / pd.Series(tempos_grupo1).mean() *100\n"
      ],
      "execution_count": null,
      "outputs": []
    },
    {
      "cell_type": "code",
      "metadata": {
        "id": "X6g0hnby5JLT"
      },
      "source": [
        "# grupo2\n",
        "media2 = pd.Series(tempos_grupo2).mean()\n",
        "desvio_p2 = pd.Series(tempos_grupo2).std()\n",
        "coef_var2 = pd.Series(tempos_grupo2).std() / pd.Series(tempos_grupo2).mean() *100"
      ],
      "execution_count": null,
      "outputs": []
    },
    {
      "cell_type": "code",
      "metadata": {
        "id": "8hkaGnlY5I3m"
      },
      "source": [
        "# grupo3\n",
        "media3 = pd.Series(tempos_grupo3).mean()\n",
        "desvio_p3 = pd.Series(tempos_grupo3).std()\n",
        "coef_var3 = pd.Series(tempos_grupo3).std() / pd.Series(tempos_grupo3).mean() *100"
      ],
      "execution_count": null,
      "outputs": []
    },
    {
      "cell_type": "code",
      "metadata": {
        "id": "HJIxH8Zg5Yd4",
        "colab": {
          "base_uri": "https://localhost:8080/"
        },
        "outputId": "d0828add-6578-40bb-97d5-5160576fe918"
      },
      "source": [
        "print ('Grupos ', 'Média', 'DP', '  CV')\n",
        "print ('------ ', '-----', '----', '----')\n",
        "print ('   1   ', \"{:.2f}\".format(media1), \"{:.2f}\".format(desvio_p1), \"{:.2f}\".format(coef_var1),'%')\n",
        "print ('   2   ', \"{:.2f}\".format(media2), \"{:.2f}\".format(desvio_p2), \"{:.2f}\".format(coef_var2),'%')\n",
        "print ('   3   ', \"{:.2f}\".format(media3), \"{:.2f}\".format(desvio_p3), \"{:.2f}\".format(coef_var3),'%')"
      ],
      "execution_count": null,
      "outputs": [
        {
          "output_type": "stream",
          "name": "stdout",
          "text": [
            "Grupos  Média DP   CV\n",
            "------  ----- ---- ----\n",
            "   1    24.72 2.77 11.22 %\n",
            "   2    25.01 0.66 2.63 %\n",
            "   3    25.35 0.16 0.65 %\n"
          ]
        }
      ]
    },
    {
      "cell_type": "markdown",
      "metadata": {
        "id": "xKB3rV547RbK"
      },
      "source": [
        "É possivel observar, através do uso do coeficiente de correlação, que o Grupo 3 é o que apresenta menor variabilidade nos dados, ou seja, nesse grupo a performance dos atletas estão muito próximas.  "
      ]
    },
    {
      "cell_type": "markdown",
      "metadata": {
        "id": "mEr-Tun_8dxm"
      },
      "source": [
        "####**Observações atípicas (Outliers)**"
      ]
    },
    {
      "cell_type": "markdown",
      "metadata": {
        "id": "nyHQuiJ88hbn"
      },
      "source": [
        "São valores muito grandes ou muito pequenos em relação aos demais. Quando aparecem na amostra alteram enormemente a média e a variabilidade dos dados.\n",
        "\n",
        "As principais causas do aparecimento de outliers são:\n",
        "* Leitura, anotação ou transcrição incorreta dos dados;\n",
        "* Erro na execução do experimento ou na tomada da medida;\n",
        "* Característica inerente à variável estudada (grande variabilidade do que está sendo medido).\n",
        "\n",
        "É importante lembrar que devido a média ser calculada levando-se em consideração TODOS os valores da amostra, ela é uma medida muito SENSÍVEL a valores discrepantes (outliers) e portanto deve ser utilizada com cautela.\n",
        "\n",
        "O mesmo ocorre com a variância, desvio padrão e coeficiente de variação.\n",
        "\n",
        "Já a mediana, pelo fato de ser calculada com base apenas na posição (elemento do meio), ela é uma medida robusta, ou seja, NÃO é tão sensível quanto a média, quando a amostra apresenta valores discrepantes (Outliers)."
      ]
    },
    {
      "cell_type": "markdown",
      "metadata": {
        "id": "9H3G1-vO9lkR"
      },
      "source": [
        "###**Medidas de posição relativa**\n",
        "\n",
        "A maneira mais comum de informar a posição relativa é por meio do uso de uma medida chamada de **percentil**. O percentil é a porcentagem de indivíduos dentro de um conjunto de dados que estão abaixo da posição que se deseja investigar. Por exemplo, se a posição desejada estiver no percentil 90º significa que 90% dos dados estão abaixo de sua posição.\n",
        "\n",
        "A seguir abordaremos a medida conhecida como percentil."
      ]
    },
    {
      "cell_type": "markdown",
      "metadata": {
        "id": "WWxK-jU7SgAW"
      },
      "source": [
        "#### **Percentil**"
      ]
    },
    {
      "cell_type": "markdown",
      "metadata": {
        "id": "CBaD6JkASi_M"
      },
      "source": [
        "Medida que divide a amostra (por ordem crescente dos dados) em 100 partes, cada uma com uma percentagem de dados aproximadamente igual. O k-ésimo percentil Pk é o valor x (xk) que corresponde à frequência cumulativa de N .k/100, onde N é o tamanho amostral.\n",
        "\n",
        "Portanto:\n",
        "* o 1º percentil determina o 1% menor dos dados; e\n",
        "* o 98º percentil determina os 98% menores dos dados.\n",
        "* O 25º percentil é o primeiro quartil; o 50º percentil é a mediana. De igual forma, o 10º percentil é o primeiro decil e o 80º percentil é o oitavo decil.\n",
        "\n",
        "[Wikipedia.](https://pt.wikipedia.org/wiki/Percentil)\n",
        "\n",
        "Um pesquisador está interessado em avaliar o tempo (em\n",
        "segundos) que os consumidores demoram entre o início e a\n",
        "finalização de uma compra em um determinado site na\n",
        "Internet. Para isso, observou 12 consumidores escolhidos\n",
        "aleatoriamente no sistema. Os dados encontram-se abaixo:\n",
        "\n",
        "tempos = [71,73,73,74,74,75,76,77,77,79,81,83]\n",
        "\n",
        "Calcular:\n",
        "\n",
        "* O terceiro quartil (75 % dos dados);"
      ]
    },
    {
      "cell_type": "code",
      "metadata": {
        "id": "GZKnsqPiTZlf",
        "colab": {
          "base_uri": "https://localhost:8080/"
        },
        "outputId": "f639042a-3ae8-4a10-9018-be274a788168"
      },
      "source": [
        "# Aproximadamente 75% dos consumidores demoram até 77.5 segundos entre o início e a finalização da compra.\n",
        "pd.Series([71,73,73,74,74,75,76,77,77,79,81,83]).quantile(0.75)"
      ],
      "execution_count": null,
      "outputs": [
        {
          "output_type": "execute_result",
          "data": {
            "text/plain": [
              "77.5"
            ]
          },
          "metadata": {},
          "execution_count": 35
        }
      ]
    },
    {
      "cell_type": "markdown",
      "metadata": {
        "id": "-prMsl6xUQTi"
      },
      "source": [
        "* O quarto decil (40% dos dados);"
      ]
    },
    {
      "cell_type": "code",
      "metadata": {
        "id": "DUG4mLClUWu_",
        "colab": {
          "base_uri": "https://localhost:8080/"
        },
        "outputId": "bb08fa91-0087-4a38-95b8-b8e62e5806ec"
      },
      "source": [
        "#Aproximadamente 40% dos consumidores demoram até 74.4 segundos entre o início e a finalização da compra.\n",
        "pd.Series([71,73,73,74,74,75,76,77,77,79,81,83]).quantile(0.4)"
      ],
      "execution_count": null,
      "outputs": [
        {
          "output_type": "execute_result",
          "data": {
            "text/plain": [
              "74.4"
            ]
          },
          "metadata": {},
          "execution_count": 36
        }
      ]
    },
    {
      "cell_type": "markdown",
      "metadata": {
        "id": "xRd_GZr8U_uj"
      },
      "source": [
        "* 10% dos consumidores mais rápidos demoram, no máximo, quantos segundos entre o início e a finalização da compra?"
      ]
    },
    {
      "cell_type": "code",
      "metadata": {
        "id": "_yhl537GVC93",
        "colab": {
          "base_uri": "https://localhost:8080/"
        },
        "outputId": "69187421-e501-4fe2-ea4d-0b7207529edc"
      },
      "source": [
        "#Aproximadamente 10% dos consumidores demoram até 73 segundos entre o início e a finalização da compra. (são os 10% iniciais dos dados)\n",
        "pd.Series([71,73,73,74,74,75,76,77,77,79,81,83]).quantile(0.1)"
      ],
      "execution_count": null,
      "outputs": [
        {
          "output_type": "execute_result",
          "data": {
            "text/plain": [
              "73.0"
            ]
          },
          "metadata": {},
          "execution_count": 37
        }
      ]
    },
    {
      "cell_type": "markdown",
      "metadata": {
        "id": "3yNissB9VKut"
      },
      "source": [
        "* 20% dos consumidores demoram, no mínimo, quantos segundos entre o início e a finalização da compra?"
      ]
    },
    {
      "cell_type": "code",
      "metadata": {
        "id": "pqbJ5YvWVPT5",
        "colab": {
          "base_uri": "https://localhost:8080/"
        },
        "outputId": "94f137aa-dbcd-4946-c096-be6253eb88e1"
      },
      "source": [
        "#Aproximadamente 20% dos consumidores que mais demoram é até 78.6 segundos entre o início e a finalização da compra. (são os 20% finais dos dados).\n",
        "pd.Series([71,73,73,74,74,75,76,77,77,79,81,83]).quantile(0.8)"
      ],
      "execution_count": null,
      "outputs": [
        {
          "output_type": "execute_result",
          "data": {
            "text/plain": [
              "78.6"
            ]
          },
          "metadata": {},
          "execution_count": 38
        }
      ]
    },
    {
      "cell_type": "markdown",
      "metadata": {
        "id": "zBxOHuj5Yud7"
      },
      "source": [
        "#### **Score Z ou Score Padronizado**"
      ]
    },
    {
      "cell_type": "markdown",
      "metadata": {
        "id": "mq5z9O5OYxXa"
      },
      "source": [
        "O objetivo de se calcular o escore z é expressar em unidades de\n",
        "desvio padrão quanto um determinado número está distante da\n",
        "média.\n",
        "\n",
        "Para o cálculo do escore z é necessário conhecer a média ($\\overline {x}$) e o desvio padrão (s). Usando a seguinte fórmula:\n",
        "\n",
        "\n",
        "$$EscoreZ = \\frac{x - \\overline {x}}{s}$$\n",
        "\n",
        "\n",
        "No exemplo a seguir usaremos o mesmo conjunto de dados.\n",
        "\n",
        "tempos = [71,73,73,74,74,75,76,77,77,79,81,83]\n",
        "\n",
        "Derseja-se calcular o escore padronizado para o menor e o maior valor da amostra:\n",
        "\n",
        "* Escore padronizado para o primeiro valor da amostra (71):\n",
        "\n"
      ]
    },
    {
      "cell_type": "code",
      "metadata": {
        "id": "5dAlVYSlYzf6",
        "colab": {
          "base_uri": "https://localhost:8080/"
        },
        "outputId": "62026003-51c8-4963-d59b-86f9763e4bc5"
      },
      "source": [
        "# ScoreZ para o primeiro valor da amostra\n",
        "primeiro_valor = 71\n",
        "scoreZ = (primeiro_valor - pd.Series([71,73,73,74,74,75,76,77,77,79,81,83]).mean())/ pd.Series([71,73,73,74,74,75,76,77,77,79,81,83]).std()\n",
        "scoreZ\n",
        "#Quando o valor é NEGATIVO, é pq ele está ABAIXO da média"
      ],
      "execution_count": null,
      "outputs": [
        {
          "output_type": "execute_result",
          "data": {
            "text/plain": [
              "-1.4408433712977609"
            ]
          },
          "metadata": {},
          "execution_count": 39
        }
      ]
    },
    {
      "cell_type": "markdown",
      "metadata": {
        "id": "rPzFezyEbBlj"
      },
      "source": [
        "O consumidor mais rápido está a 1,4408 desvio padrão ABAIXO da\n",
        "média **negrito** do tempo gasto entre o início e a finalização da compra."
      ]
    },
    {
      "cell_type": "code",
      "metadata": {
        "id": "2ItwyF5rZ8f8",
        "colab": {
          "base_uri": "https://localhost:8080/"
        },
        "outputId": "8db16be3-78b8-4a59-f33f-e6cc5996a8be"
      },
      "source": [
        "pd.Series([71,73,73,74,74,75,76,77,77,79,81,83]).mad()"
      ],
      "execution_count": null,
      "outputs": [
        {
          "output_type": "execute_result",
          "data": {
            "text/plain": [
              "2.763888888888888"
            ]
          },
          "metadata": {},
          "execution_count": 40
        }
      ]
    },
    {
      "cell_type": "code",
      "metadata": {
        "id": "tZUIvvGmbRkn",
        "colab": {
          "base_uri": "https://localhost:8080/"
        },
        "outputId": "aaf2ae27-832e-4d7e-c557-4c86fc99db15"
      },
      "source": [
        "# ScoreZ para o último valor da amostra\n",
        "ultimo_valor = 83\n",
        "scoreZ = (ultimo_valor - pd.Series([71,73,73,74,74,75,76,77,77,79,81,83]).mean())/ pd.Series([71,73,73,74,74,75,76,77,77,79,81,83]).std()\n",
        "scoreZ\n",
        "#Quando o valor é POSITIVO ele está ACIMA da média."
      ],
      "execution_count": null,
      "outputs": [
        {
          "output_type": "execute_result",
          "data": {
            "text/plain": [
              "1.960491800290399"
            ]
          },
          "metadata": {},
          "execution_count": 41
        }
      ]
    },
    {
      "cell_type": "markdown",
      "metadata": {
        "id": "ErUbaxFLbj_h"
      },
      "source": [
        "\n",
        "O consumidor mais lento está a 1,9605 desvio padrão ACIMA da média do tempo gasto entre o início e a finalização da compra."
      ]
    },
    {
      "cell_type": "markdown",
      "metadata": {
        "id": "mE5qlQ-edStj"
      },
      "source": [
        "* Qual medida de tempo está a 1 desvio padrão acima da\n",
        "média?"
      ]
    },
    {
      "cell_type": "code",
      "metadata": {
        "id": "i9BekkN1dbc4",
        "colab": {
          "base_uri": "https://localhost:8080/"
        },
        "outputId": "09ba8f34-69b1-442c-86c5-62756fa6bad7"
      },
      "source": [
        "# Qual a medida de tempo que tem ScoreZ = 1\n",
        "scoreZ = 1\n",
        "medida = scoreZ * pd.Series([71,73,73,74,74,75,76,77,77,79,81,83]).std() + pd.Series([71,73,73,74,74,75,76,77,77,79,81,83]).mean()\n",
        "medida"
      ],
      "execution_count": null,
      "outputs": [
        {
          "output_type": "execute_result",
          "data": {
            "text/plain": [
              "79.61135965083291"
            ]
          },
          "metadata": {},
          "execution_count": 42
        }
      ]
    },
    {
      "cell_type": "markdown",
      "metadata": {
        "id": "Xf9DInTOgY5r"
      },
      "source": [
        "* Qual está a 0,5 desvio padrão abaixo da média?"
      ]
    },
    {
      "cell_type": "code",
      "metadata": {
        "id": "lus9RRpSgbx9",
        "colab": {
          "base_uri": "https://localhost:8080/"
        },
        "outputId": "7b196137-7666-455d-ecff-f8311bde1ec8"
      },
      "source": [
        "# Qual a medida de tempo que tem ScoreZ = -0.5\n",
        "scoreZ = -0.5\n",
        "medida = scoreZ * pd.Series([71,73,73,74,74,75,76,77,77,79,81,83]).std() + pd.Series([71,73,73,74,74,75,76,77,77,79,81,83]).mean()\n",
        "medida"
      ],
      "execution_count": null,
      "outputs": [
        {
          "output_type": "execute_result",
          "data": {
            "text/plain": [
              "74.31932017458354"
            ]
          },
          "metadata": {},
          "execution_count": 43
        }
      ]
    },
    {
      "cell_type": "markdown",
      "metadata": {
        "id": "14auGsSD_hDX"
      },
      "source": [
        "A importância dos escores z na estatística reside no fato de que eles permitem distinguir entre valores usuais e valores raros, ou incomuns. Consideramos usuais os valores cujos escores padronizados estão entre –2,00 e 2,00, e incomuns os valores com escore z inferior a –2,00 ou superior a 2,00. Veja o esquema a seguir:\n",
        "\n",
        "\n",
        "\n",
        "<center><img src=\"https://github.com/paulosrl/imagens/blob/master/scoreZ.jpg?raw=true\" height=\"200px\">\n",
        "</center>"
      ]
    },
    {
      "cell_type": "markdown",
      "metadata": {
        "id": "X41fhzsoX1Ue"
      },
      "source": [
        "##**03. Gráficos**"
      ]
    },
    {
      "cell_type": "markdown",
      "metadata": {
        "id": "M7uWgBqKX6rz"
      },
      "source": [
        "A utilização de recursos visuais na criação de gráficos deve ser feita cuidadosamente; um gráfico desproporcional em suas medidas pode dar\n",
        "falsa impressão de desempenho e conduzir a conclusões equivocadas.\n",
        "\n",
        "O uso e a divulgação ética e criteriosa de dados devem ser pré-requisitos indispensáveis e inegociáveis.\n",
        "\n",
        "Regras gerais para construção de gráficos:\n",
        "\n",
        "* Os gráficos devem ser construídos de tal maneira que a frase “basta olhar para entender” seja válida;\n",
        "* Um gráfico deve conter um título e os seus eixos (X e Y) devem estar\n",
        "rotulados incluindo as unidades (gr, R$, Kg, etc.);\n",
        "* Um gráfico deve ser completo de tal maneira que todas as informações necessárias para entendê-lo devem estar sobre ele, o que o torna autoexplicativo;\n",
        "* Gráficos utilizados para comparação entre si devem ter a mesma escala,\n",
        "caso contrário a comparação fica comprometida;\n",
        "* Quando for construir gráficos de barras o valor zero deve ser o ponto de\n",
        "início dos eixos, caso isto não seja feito, ocorre uma distorção no gráfico."
      ]
    },
    {
      "cell_type": "markdown",
      "metadata": {
        "id": "JNvzobt9okTP"
      },
      "source": [
        "###**Gráfico de Setores**\n",
        "\n",
        "É um gráfico muito comum para representar distribuições de freqüências de variáveis qualitativas. É construído repartindo um disco em setores correspondentes às freqüências relativas de cada valor ou categoria. É particularmente útil quando o número de categorias não é grande e as categorias não obedecem a alguma ordem específica.\n",
        "\n",
        "Vantagem: todas as informações contidas na tabela de frequências podem ser transportadas para o gráfico.\n",
        "\n",
        "**Exemplo:** Gráfico de setores que mostra a popularidade das linguagens de programação em Outubro de 2017."
      ]
    },
    {
      "cell_type": "code",
      "metadata": {
        "id": "VUutWOECsNin",
        "colab": {
          "base_uri": "https://localhost:8080/",
          "height": 594
        },
        "outputId": "88a62a09-8b06-431d-8b8c-7cffae0e615d"
      },
      "source": [
        "#https://minerandodados.com.br/plotando-graficos-de-forma-facil-com-python/\n",
        "\n",
        "# Dados\n",
        "linguagens = ['Java', 'Python', 'PHP', 'JavaScript', 'C#']\n",
        "popularidade = [16.38, 31.02, 5.83, 8.41, 6.52]\n",
        "#cores = ['red', 'gold', 'yellowgreen', 'blue', 'lightcoral', 'lightskyblue']\n",
        "cores = [\"#1f77b4\", \"#ff7f0e\", \"#2ca02c\", \"#d62728\", \"#9467bd\", \"#8c564b\"]\n",
        "# destaca o segundo elemento do conjunto (Python)\n",
        "destaque = (0, 0.1, 0, 0, 0)\n",
        "# montagem do gráfico\n",
        "fig = plt.figure(figsize =(15, 10)) # tamanho\n",
        "plt.pie(popularidade, explode=destaque, labels=linguagens, colors=cores,autopct='%1.1f%%', shadow=True, startangle=140) # outros parâmetros\n",
        "plt.title(\"Popularidade das linguagens de programação no mundo - Outubro de 2020\", bbox={'facecolor':'0.8', 'pad':5}) # título\n",
        "plt.legend(linguagens, loc=3) # legendas\n",
        "plt.show() # exibição"
      ],
      "execution_count": null,
      "outputs": [
        {
          "output_type": "display_data",
          "data": {
            "text/plain": [
              "<Figure size 1080x720 with 1 Axes>"
            ],
            "image/png": "[encoded data removed]"
          },
          "metadata": {}
        }
      ]
    },
    {
      "cell_type": "markdown",
      "metadata": {
        "id": "vVCtWKgbwNA8"
      },
      "source": [
        "###**Gráfico de Colunas ou Barras**"
      ]
    },
    {
      "cell_type": "markdown",
      "metadata": {
        "id": "AHII0aYp3IDa"
      },
      "source": [
        "Utiliza o plano cartesiano com os valores ou categorias da variável no eixo X\n",
        "e as frequências ou porcentagens no eixo Y. Para cada valor\n",
        "da variável desenha-se uma barra com altura correspondendo à sua freqüência ou\n",
        "porcentagem. Esse tipo de gráfico se adapta bem à variáveis qualitativas (ou\n",
        "categóricas).\n",
        "\n",
        "Exemplo de gráficos de barras que representam vendas de carros no primeiro trimestres de 2020. Dois exemplos com os mesmos dados, o primeiro exibe as barras verticalmente, já o segundo horizontalmente."
      ]
    },
    {
      "cell_type": "code",
      "metadata": {
        "id": "HRY9VjmH4py3",
        "colab": {
          "base_uri": "https://localhost:8080/",
          "height": 375
        },
        "outputId": "c7e26844-e75a-480b-e6c7-99ae2ac053dd"
      },
      "source": [
        "# Define as configurações dos plots\n",
        "fig,ax1 = plt.subplots(figsize=(10,5)) # tamanho de figura (10,5)\n",
        "# Dados\n",
        "ax1.bar( ['Jan','Fev','Mar'],[30,50,35],color='#649DE6')\n",
        "ax1.set(title=\"Vendas de carros no primeiro trimestre de 2020\", xlabel=\"Meses\", ylabel=\"Total de vendas\")\n",
        "plt.show()"
      ],
      "execution_count": null,
      "outputs": [
        {
          "output_type": "display_data",
          "data": {
            "text/plain": [
              "<Figure size 720x360 with 1 Axes>"
            ],
            "image/png": "[encoded data removed]"
          },
          "metadata": {}
        }
      ]
    },
    {
      "cell_type": "code",
      "metadata": {
        "id": "8ZAD995e49Yh",
        "colab": {
          "base_uri": "https://localhost:8080/",
          "height": 367
        },
        "outputId": "9a38344a-fb1a-4537-f26f-1f4d41b5ed6b"
      },
      "source": [
        "# Define as configurações dos plots\n",
        "plt.style.use(\"ggplot\") # Define o stilo para ggplot\n",
        "fig,ax1 = plt.subplots(figsize=(10,5)) # tamanho de figura (10,5)\n",
        "# Dados\n",
        "ax1.barh( ['Jan','Fev','Mar'],[30,50,35],color='#E67B64')\n",
        "ax1.set(title=\"Vendas de carros no primeiro trimestre de 2020\", xlabel=\"Meses\", ylabel=\"Total de vendas\")\n",
        "plt.show()"
      ],
      "execution_count": null,
      "outputs": [
        {
          "output_type": "display_data",
          "data": {
            "text/plain": [
              "<Figure size 720x360 with 1 Axes>"
            ],
            "image/png": "[encoded data removed]"
          },
          "metadata": {}
        }
      ]
    },
    {
      "cell_type": "markdown",
      "metadata": {
        "id": "IWYkhIMc9kPT"
      },
      "source": [
        "###**Gráficos de Linhas**"
      ]
    },
    {
      "cell_type": "markdown",
      "metadata": {
        "id": "3MdOZlf39qH-"
      },
      "source": [
        "Sua construção é muito semelhante à do gráfico de barras porém utiliza-se\n",
        "linhas interligadas ao invés de barras para representar a freqüência ou a\n",
        "porcentagem de cada valor ou categoria da variável estudada.\n",
        "\n",
        "É particularmente indicado para retratar séries temporais, ou seja, dados\n",
        "relativos a variáveis observadas anualmente, mensalmente, trimestralmente, de\n",
        "hora em hora, diariamente, etc.\n",
        "\n",
        "No exemplo a seguir o gráfico de linha mostra a evolução e comparação dos valores do dólar, nos meses de janeiro a outubro nos anos de 2019 e 2020 no brasil."
      ]
    },
    {
      "cell_type": "code",
      "metadata": {
        "id": "qQIOLeDd9w6Q",
        "colab": {
          "base_uri": "https://localhost:8080/",
          "height": 531
        },
        "outputId": "661c5631-f03f-4720-df3f-32be90dc81b6"
      },
      "source": [
        "# dados\n",
        "# https://br.investing.com/currencies/usd-brl-historical-data\n",
        "meses=['Jan','Fev','Mar','Abr','Mai','Jun','Jul','Ago','Set','Out']\n",
        "valores2020=[4.2824,4.4736,5.2053,5.4875,5.3370,5.4661,5.2240,5.4914,5.6112,5.5912]\n",
        "valores2019=[3.6440,3.7514,3.9247,3.9215,3.9228,3.8520,3.8129,4.1453,4.1556,4.0184]\n",
        "fig,ax1 = plt.subplots(figsize=(15,8)) # tamanho de figura (15,10)\n",
        "# plotando valores de 2019\n",
        "plt.plot(meses, valores2019, label = \"2019\",marker='o',color='green')\n",
        "# plotando valores de 2020\n",
        "plt.plot(meses, valores2020, label = \"2020\",marker='o',color='red')\n",
        "#rótulo eixo X\n",
        "plt.xlabel('Meses')\n",
        "#rótulo eixo Y\n",
        "plt.ylabel('Valor em R$')\n",
        "# Título do gráfico.\n",
        "plt.title('Comparação da variação do dólar nos meses de Janeiro a Outubro / Anos de 2019 e 2020')\n",
        "# legenda\n",
        "plt.legend()\n",
        "# montagem do gráfico\n",
        "plt.show()\n",
        "\n",
        "#dicas\n",
        "#https://datatofish.com/line-chart-python-matplotlib/"
      ],
      "execution_count": null,
      "outputs": [
        {
          "output_type": "display_data",
          "data": {
            "text/plain": [
              "<Figure size 1080x576 with 1 Axes>"
            ],
            "image/png": "[encoded data removed]"
          },
          "metadata": {}
        }
      ]
    },
    {
      "cell_type": "markdown",
      "metadata": {
        "id": "Y_9KBbbVxpjh"
      },
      "source": [
        "### **Histogramas**\n",
        "\n",
        "Um **histograma** é uma visualização gráfica de dados usando barras de diferentes alturas. Em um histograma, cada barra **agrupa** números em intervalos. As barras mais **altas** mostram que **mais dados** estão nesse intervalo. Um histograma exibe a forma e distribuição de dados amostrais discretos ou contínuos. ([Kanacademy](https://pt.khanacademy.org/math/ap-statistics/quantitative-data-ap/histograms-stem-leaf/v/histograms-intro))\n",
        "\n",
        "Em resumo, o histograma mostra a distribuição das frequencias de um conjunto de dados quantitavivos contínuos ou discretos.\n",
        "\n",
        "O [histograma](https://www.fm2s.com.br/histograma/) permite obter as seguintes informações\n",
        "\n",
        "* **Centralidade**: qual é o centro de distribuição? Onde é esperado que esteja a maioria das observações?\n",
        "* **Amplitude**: a distribuição normalmente contém observações entre quais valores? Qual é o ponto de máximo e o ponto de mínimo?\n",
        "* **Simetria**: será que devemos esperar a mesma frequência de pontos com valor alto e com valor baixo? Será que o processo é simétrico ou valores mais altos são mais raros?\n",
        "\n",
        "**Exemplo**:\n",
        "\n",
        "Para estudar o comportamento das vendas, um administrador coleta informações sobre o número de itens vendidos nos últimos 30 dias e constrói um histograma com o auxílio do Minitab. Com esse gráfico, ele percebeu que suas vendas variavam entre **28 e 52 unidades** e na maioria dos dias ele vendia em torno de 40 unidades.\n",
        "\n",
        "\n",
        "![texto alternativo](https://d1lc5plzz0mq74.cloudfront.net/wp-content/uploads/2015/08/21202945/ED_1.png)\n",
        "\n",
        "**Cuidados ao elaborar um Histograma**\n",
        "\n",
        "Um ponto **negativo** do histograma, quando falamos de análise de dados, é que ele é uma medida **estática**, ou seja, **não leva o tempo em consideração**. Por exemplo, eu não sei se todos os dias bons aconteceram na mesma época ou se eles estão dispersos aleatoriamente no processo.\n",
        "\n",
        "Muitas vezes, ter essa informação sobre o período é crucial. Imagine que todos os dias bons aconteceram em uma semana, na qual o administrador estava com uma campanha de marketing em andamento. Ele poderia dizer, com certeza, que a campanha dele foi boa! Da mesma maneira, se todo os dias ruins também tivessem acontecido em uma semana mais fria, ele também entenderia melhor o que impacta nas vendas dele.\n",
        "\n",
        "Ao fazer análises como essa, olhando como os dados se comportam ao longo do tempo, podemos procurar por causas comuns e causas especiais de variação.\n",
        "\n",
        "Fonte: https://www.fm2s.com.br/histograma/\n",
        "\n",
        "**Considerações sobre os dados com uso de Histograma**\n",
        "\n",
        "Para o gráfico representar seus dados de forma mais eficaz, considere as seguintes diretrizes.\n",
        "\n",
        "**O tamanho amostral deve ser de aproximadamente maior ou igual a 20 unidades**;\n",
        "\n",
        "Se o tamanho de amostra for muito pequeno, cada barra no histograma pode não conter pontos de dados suficientes para demonstrar precisamente a distribuição dos dados.\n",
        "\n",
        "Se o tamanho amostral for menor do que 20, considere usar um gráfico de valor individual.\n",
        "\n",
        "* Os dados de amostra devem ser selecionados **aleatoriamente**;\n",
        "* Amostras aleatórias são usadas para fazer generalizações ou inferências, sobre uma população. Se os dados não foram coletados aleatoriamente, os resultados podem **não representar **a população.\n",
        "\n",
        "Fonte: https://support.minitab.com/pt-br/minitab/18/help-and-how-to/graphs/how-to/histogram/before-you-start/data-considerations/\n",
        "\n",
        "O Exemplo a seguir utiliza dados de sobre **expectativa de vidas do Brasil, Bolívia e EUA**. Os dados são relativos aos anos de 1960 a 2013 e possui a média em anos de expectativa de vida por país.\n",
        "\n",
        "O arquivo origininal pode ser obtido em: https://www.kaggle.com/kumarajarshi/life-expectancy-who/data\n",
        "\n",
        "**Formas de distribuição de um Histograma**\n",
        "\n",
        "**Distribuição normal ou simétrica (curva de sino / Bell Curve)**\n",
        "\n",
        "Os dados possuem variações pequenas. O pico dos dados fica ao centro do gráfico, e suas variações vão decrescendo de maneira simétrica dos dois lados;\n",
        "\n",
        "![](https://github.com/paulosrl/imagens/blob/master/histogramanormal.png?raw=true)\n",
        "\n",
        "**Histograma assimétrico**\n",
        "\n",
        "O pico do histograma é concentrado em um dos lados (espalhado a esquerda ou a direita), e os dados fora de padrão decrescem para o lado oposto;\n",
        "\n",
        "**Espalhado a esquerda**\n",
        "\n",
        "![](https://github.com/paulosrl/imagens/blob/master/histo-esquerda.png?raw=true)\n",
        "\n",
        "**Espalhado a direita**\n",
        "\n",
        "![](https://github.com/paulosrl/imagens/blob/master/histo-direita.png?raw=true)\n",
        "\n",
        "**Análise de Histogramas**\n",
        "\n",
        "**Estudo de caso: Análise de histograma por uma coluna de dados**\n",
        "\n",
        "No exemplo, consideremos que uma empresa de contratação de mão de obra decidiu fazer um estudo do tempo que demora cada selecionador com um entrevistado.\n",
        "\n",
        "Os valores foram coletados e criados um Histograma. A partir dos dados coletados é possível observar que a maioria dos entrevistados leva de 12 a 13 minutos em uma entrevista."
      ]
    },
    {
      "cell_type": "code",
      "metadata": {
        "id": "39o92CG114Eh",
        "colab": {
          "base_uri": "https://localhost:8080/",
          "height": 640
        },
        "outputId": "bf5a7566-2195-4a5b-9f04-6dcdb4da8e5a"
      },
      "source": [
        "#Brasil\n",
        "#intervalos_histograma = [0,40,50,60,70,80,100] (se desejar usar intervalos fixo)\n",
        "tempo_entrevista = [\n",
        "                    11.5, 10.26,\t10.08,\t13.0,\t11.14, 13.73,\t13.41,\t10.44,\t11.36,\t14.4, 11.64,\t12.39,\t12.82,\t14.25,\t15.41,\n",
        "                    14.35,\t9.35,\t12.4,\t9.04,\t15.3,14.79,\t15.27,\t10.63,\t14.3,\t15.48, 14.8,\t8.78,\t14.0,  \t13.09,\t10.0,\n",
        "                    12.2,\t11.7,\t15.37,\t11.81,\t10.06, 12.49,\t8.58,\t11.32,\t12.2,\t12.45, 11.28,\t12.6,\t14.36,\t13.08,\t13.5,\n",
        "                    12.68,\t9.19,\t14.32,\t12.17,\t9.1\n",
        "                   ]\n",
        "fig, ax = plt.subplots(1, 1, figsize=(15, 10))\n",
        "fig.set_facecolor(\"white\") # cor de fundo\n",
        "plt.hist(tempo_entrevista,\n",
        "         #bins=intervalos_histograma,\n",
        "         density=False,\n",
        "         histtype='bar',\n",
        "         color='g',\n",
        "         edgecolor='k',\n",
        "         alpha=0.5)\n",
        "\n",
        "#parâmetros do gráfico\n",
        "vTitulo='Análise dos tempos de entrevista'\n",
        "vRotuloY='Frequência de tempos'\n",
        "vRotuloX='Tempo gasto'\n",
        "#exibição do gráfico\n",
        "ax.set_title(vTitulo)\n",
        "ax.set_ylabel(vRotuloY)\n",
        "ax.set_xlabel(vRotuloX)\n",
        "plt.show()"
      ],
      "execution_count": null,
      "outputs": [
        {
          "output_type": "display_data",
          "data": {
            "text/plain": [
              "<Figure size 1080x720 with 1 Axes>"
            ],
            "image/png": "[encoded data removed]"
          },
          "metadata": {}
        }
      ]
    },
    {
      "cell_type": "markdown",
      "metadata": {
        "id": "QDJvn9Hlw_Ig"
      },
      "source": [
        "###**Boxplots**\n",
        "\n",
        "O **Boxplot** (gráfico de caixa) é um gráfico utilizado para representar dados quantitativos sendo conveniente para revelar medidas de tendência central, dispersão, distribuição dos dados e a presença de outliers (valores discrepantes).\n",
        "\n",
        "\n",
        "\n",
        "O boxplot é formado pelo **primeiro** e **terceiro** quartil e pela **mediana**. As hastes inferiores e superiores se estendem, respectivamente, do quartil **inferior** até o **menor valor** não inferior ao **limite inferior** e do quartil **superior** até o **maior valor** não superior ao **limite superior**.\n",
        "\n",
        "**VARIAÇÃO INTERQUARTIL = Q3-Q1**\n",
        "\n",
        "Onde **Q3** (terceiro quartil) representa **75%** dos dados e **Q1** (primeiro quartil) representa **25%** dos dados\n",
        "# IQR = Q3 - Q1\n",
        "\n",
        "O **desvio padrão** e a **variância** dependem da **média**, e por isso ão **afetados** por valores **extremos**. A **variação interquartil** (IQR em inglês), é uma medida de dispersão baseada na **mediana**, funciona de maneira bem mais **eficiente** na presença de **outliers**, ou seja, é pouco afetada pelo outliers.\n",
        "\n",
        "Os limites são **calculados** da seguinte forma:\n",
        "\n",
        "**Limite** **inferior (mínimo)**: $ Q_1-1,5 * (Q_3-Q_1)\\ $\n",
        "\n",
        "**Limite** **superior (máximo)**: $ Q_3+1,5 * (Q_3-Q_1)\\ $\n",
        "\n",
        "Os pontos fora destes limites são considerados valores **discrepantes (outliers)** e são denotados por asterisco (*). A Figura  a seguir apresenta um exemplo do formato de um boxplot.\n",
        "\n",
        "<center><img src=\"https://raw.githubusercontent.com/paulosrl/imagens/master/boxplot-1-1024x664.png\" height=\"450px\"></center>\n",
        "\n",
        "Use o Boxplot para avaliar e comparar o formato, tendência central e variabilidade de distribuições de amostra, e para procurar por outliers. Um boxplot funciona melhor quando o tamanho amostral é de pelo menos 20. Por padrão, um boxplot demonstra a mediana, amplitude interquartil, amplitude e outliers para cada grupo.\n",
        "\n",
        "Fonte: https://support.minitab.com/pt-br/minitab/18/help-and-how-to/graphs/how-to/boxplot/before-you-start/overview/\n",
        "\n",
        "**Resumo** @estatisticaintuitiva\n",
        "\n",
        "<center><img src=\"https://raw.githubusercontent.com/paulosrl/imagens/master/Screenshot_1.jpg\"></center>\n",
        "\n",
        "**Resultado**\n",
        "<center><img src=\"https://raw.githubusercontent.com/paulosrl/imagens/master/bplotresumo.jpg\"></center>\n",
        "\n",
        "\n",
        "**Estudo de caso: Aplicando Boxplots em uma coluna de dados**\n",
        "Nos exemplos a seguir será utilizado um banco de dados que armazena a expectativa de vida, dos Brasileiros, Bolivianos e Norte Americanos (em anos), no período de 1960 a 2013. Os três gráficos a seguir (boxplots) mostram como está a distribuição dos dados para os três países."
      ]
    },
    {
      "cell_type": "code",
      "metadata": {
        "id": "zyVzjo8UWUKX",
        "colab": {
          "base_uri": "https://localhost:8080/",
          "height": 440
        },
        "outputId": "bccfa8f0-1b58-4d74-c4b4-00ec9c18a21b"
      },
      "source": [
        "#Brasil\n",
        "vExpectativaBrasil = [54.69214634,55.16963415,55.63309756,56.08,56.51029268,56.92387805,57.32319512,57.7117561,58.09460976,58.47529268,58.85697561,59.24436585,59.63753659,60.0355122,60.43819512,60.83978049,61.23543902,61.62039024,61.9925122,62.35382927,62.70604878,63.05646341,63.4104878,63.77392683,64.14792683,64.53253659,64.92614634,65.32353659,65.72207317,66.11921951,66.515,66.90997561,67.30573171,67.70080488,68.09465854,68.48273171,68.86195122,69.23121951,69.58746341,69.92968293,70.25739024,70.56965854,70.86956098,71.15960976,71.44178049,71.71853659,71.99178049,72.26290244,72.53387805,72.80417073,73.07531707,73.34736585,73.61787805,73.88595122]\n",
        "ax = sns.boxplot(x=vExpectativaBrasil);\n",
        "ax.axes.set_title(\"Distribuição da Média da Expectativa de vida - Brasil (1960 a 2013)\", fontsize=20, y=1.01);\n",
        "plt.xlabel(\"Idade\", labelpad=14);"
      ],
      "execution_count": null,
      "outputs": [
        {
          "output_type": "display_data",
          "data": {
            "text/plain": [
              "<Figure size 720x432 with 1 Axes>"
            ],
            "image/png": "[encoded data removed]"
          },
          "metadata": {}
        }
      ]
    },
    {
      "cell_type": "code",
      "metadata": {
        "id": "Cqxf717AaYOc",
        "colab": {
          "base_uri": "https://localhost:8080/",
          "height": 440
        },
        "outputId": "00617377-74f9-44a2-c6f2-4d2ee830d97b"
      },
      "source": [
        "#Bolívia\n",
        "vExpectativaVidaBolivia = [42.66812195,42.97687805,43.28914634,43.60341463,43.92117073,44.23641463,44.54312195,44.84078049,45.13641463,45.43956098,45.76626829,46.13563415,46.56017073,47.05041463,47.60787805,48.23297561,48.92019512,49.65292683,50.41363415,51.18980488,51.96843902,52.74312195,53.50836585,54.26021951,54.98965854,55.69212195,56.36504878,57.01036585,57.6295122,58.21943902,58.77858537,59.30241463,59.79297561,60.25178049,60.68290244,61.09087805,61.48029268,61.85721951,62.22621951,62.59182927,62.95460976,63.31553659,63.67160976,64.02026829,64.3635122,64.70078049,65.03309756,65.36190244,65.68570732,66.00546341,66.31970732,66.62692683,66.92663415,67.21736585]\n",
        "ax = sns.boxplot(x=vExpectativaVidaBolivia);\n",
        "ax.axes.set_title(\"Distribuição da Média da Expectativa de vida - Bolívia (1960 a 2013)\", fontsize=20, y=1.01);\n",
        "plt.xlabel(\"Idade\", labelpad=14);"
      ],
      "execution_count": null,
      "outputs": [
        {
          "output_type": "display_data",
          "data": {
            "text/plain": [
              "<Figure size 720x432 with 1 Axes>"
            ],
            "image/png": "[encoded data removed]"
          },
          "metadata": {}
        }
      ]
    },
    {
      "cell_type": "code",
      "metadata": {
        "id": "J32kcc7majFM",
        "colab": {
          "base_uri": "https://localhost:8080/",
          "height": 440
        },
        "outputId": "a5c324ff-609b-4340-c295-d00ec8281b36"
      },
      "source": [
        "#EUA\n",
        "vExpectativaVidaEUA = [69.77073171,70.27073171,70.1195122,69.91707317,70.16585366,70.21463415,70.21219512,70.56097561,69.95121951,70.50731707,70.80731707,71.10731707,71.15609756,71.35609756,71.95609756,72.60487805,72.85609756,73.25609756,73.35609756,73.80487805,73.65853659,74.00731707,74.36097561,74.46341463,74.56341463,74.56341463,74.61463415,74.76585366,74.76585366,75.01707317,75.21463415,75.36585366,75.64219512,75.4195122,75.57439024,75.62195122,75.99658537,76.42926829,76.5804878,76.58292683,76.63658537,76.73658537,76.83658537,76.98780488,77.33902439,77.33902439,77.58780488,77.83902439,77.93902439,78.0902439,78.54146341,78.64146341,78.74146341,78.84146341]\n",
        "ax = sns.boxplot(x=vExpectativaVidaEUA);\n",
        "ax.axes.set_title(\"Distribuição da Média da Expectativa de vida - EUA (1960 a 2013)\", fontsize=20, y=1.01);\n",
        "plt.xlabel(\"Idade\", labelpad=14);"
      ],
      "execution_count": null,
      "outputs": [
        {
          "output_type": "display_data",
          "data": {
            "text/plain": [
              "<Figure size 720x432 with 1 Axes>"
            ],
            "image/png": "[encoded data removed]"
          },
          "metadata": {}
        }
      ]
    },
    {
      "cell_type": "markdown",
      "metadata": {
        "id": "z_Y9eCfQdZJ7"
      },
      "source": [
        "**Estudo de caso: Boxplots comparando três colunas de dados (países)**\n",
        "\n",
        "No exemplo a seguir foi utilizado o mesmo banco de dados do exemplo anterior, porém os histogramas foram plotados no mesmo gráfico, desta forma torna-se a mais fácil comparar a coluna expectativa de vida, pois será possível analisar os conjuntos de dados lado a lado para os três países."
      ]
    },
    {
      "cell_type": "code",
      "metadata": {
        "id": "yRZOFcyHXvyX",
        "colab": {
          "base_uri": "https://localhost:8080/",
          "height": 440
        },
        "outputId": "11b5690e-9108-430f-a837-096bfc8d79d3"
      },
      "source": [
        "#dados por país\n",
        "vExpectativaVidaBrasil = [54.69214634,55.16963415,55.63309756,56.08,56.51029268,56.92387805,57.32319512,57.7117561,58.09460976,58.47529268,58.85697561,59.24436585,59.63753659,60.0355122,60.43819512,60.83978049,61.23543902,61.62039024,61.9925122,62.35382927,62.70604878,63.05646341,63.4104878,63.77392683,64.14792683,64.53253659,64.92614634,65.32353659,65.72207317,66.11921951,66.515,66.90997561,67.30573171,67.70080488,68.09465854,68.48273171,68.86195122,69.23121951,69.58746341,69.92968293,70.25739024,70.56965854,70.86956098,71.15960976,71.44178049,71.71853659,71.99178049,72.26290244,72.53387805,72.80417073,73.07531707,73.34736585,73.61787805,73.88595122]\n",
        "vExpectativaVidaBolivia = [42.66812195,42.97687805,43.28914634,43.60341463,43.92117073,44.23641463,44.54312195,44.84078049,45.13641463,45.43956098,45.76626829,46.13563415,46.56017073,47.05041463,47.60787805,48.23297561,48.92019512,49.65292683,50.41363415,51.18980488,51.96843902,52.74312195,53.50836585,54.26021951,54.98965854,55.69212195,56.36504878,57.01036585,57.6295122,58.21943902,58.77858537,59.30241463,59.79297561,60.25178049,60.68290244,61.09087805,61.48029268,61.85721951,62.22621951,62.59182927,62.95460976,63.31553659,63.67160976,64.02026829,64.3635122,64.70078049,65.03309756,65.36190244,65.68570732,66.00546341,66.31970732,66.62692683,66.92663415,67.21736585]\n",
        "vExpectativaVidaEUA = [69.77073171,70.27073171,70.1195122,69.91707317,70.16585366,70.21463415,70.21219512,70.56097561,69.95121951,70.50731707,70.80731707,71.10731707,71.15609756,71.35609756,71.95609756,72.60487805,72.85609756,73.25609756,73.35609756,73.80487805,73.65853659,74.00731707,74.36097561,74.46341463,74.56341463,74.56341463,74.61463415,74.76585366,74.76585366,75.01707317,75.21463415,75.36585366,75.64219512,75.4195122,75.57439024,75.62195122,75.99658537,76.42926829,76.5804878,76.58292683,76.63658537,76.73658537,76.83658537,76.98780488,77.33902439,77.33902439,77.58780488,77.83902439,77.93902439,78.0902439,78.54146341,78.64146341,78.74146341,78.84146341]\n",
        "\n",
        "# juntar os dados em um dataset de registros\n",
        "dados = {'Brasil': vExpectativaVidaBrasil, 'Bolivia': vExpectativaVidaBolivia,'EUA':vExpectativaVidaEUA}\n",
        "df = pd.DataFrame(data=dados)\n",
        "\n",
        "ax = sns.boxplot(data=df,orient=\"h\")\n",
        "plt.title(\"Distribuição da Média da Expectativa de vida - Brasil X Bolívia X EUA\", fontsize=20, y=1.01)\n",
        "plt.ylabel(\"País\", labelpad=14)\n",
        "plt.xlabel(\"Idade\", labelpad=14);"
      ],
      "execution_count": null,
      "outputs": [
        {
          "output_type": "display_data",
          "data": {
            "text/plain": [
              "<Figure size 720x432 with 1 Axes>"
            ],
            "image/png": "[encoded data removed]"
          },
          "metadata": {}
        }
      ]
    },
    {
      "cell_type": "markdown",
      "metadata": {
        "id": "rX1ohtfq0zEG"
      },
      "source": [
        "A forma da distribuição dos dados pode ser analisada por meio do diagrama em caixas de acordo com a figura a seguir, a distribuição amostral pode ser comparada com a distribuição também observada nos histogramas.\n",
        "\n",
        "![](https://raw.githubusercontent.com/paulosrl/imagens/master/Histogramas.jpg)\n",
        "\n",
        "\n"
      ]
    },
    {
      "cell_type": "markdown",
      "metadata": {
        "id": "zdPi6IRVCJsQ"
      },
      "source": [
        "## **04. Estudo de caso**\n"
      ]
    },
    {
      "cell_type": "markdown",
      "metadata": {
        "id": "U13U8rs9bny_"
      },
      "source": [
        "### **4.1 Banco de dados de funcionários**\n",
        "\n",
        "Neste estudo de caso será analisada uma tabela com os dados de funcionários de uma empresa, na tabela constam: os números de matrícula, o estado civil, o grau de de instrução, o número de filhos, o salário, a idade e a região de cada funcionário.\n",
        "\n",
        "Serão analisados:\n",
        "\n",
        "* Estrutura dos dados;\n",
        "* Resumo estatístico dos dados;\n",
        "* Histogramas;\n",
        "* Boxplots;\n",
        "* Análises das variáveis qualitativas e quantitativas;\n",
        "* Cálculo de frequencias absolutas e relativas."
      ]
    },
    {
      "cell_type": "code",
      "metadata": {
        "id": "KUpT-pj03KGj"
      },
      "source": [
        "#referência: https://www.inf.ufsc.br/~andre.zibetti/probabilidade/aed.html#vari%C3%A1vel_quantitativa_discreta\n",
        "# importar a biblioteca pandas\n",
        "\n",
        "#caminhop do arquivo\n",
        "df = pd.read_csv(\"https://raw.github.com/paulosrl/datasets/master/funcionarios.csv\")"
      ],
      "execution_count": null,
      "outputs": []
    },
    {
      "cell_type": "markdown",
      "metadata": {
        "id": "W3OUJtw3BsOb"
      },
      "source": [
        "#### **Estrutura e Dados**"
      ]
    },
    {
      "cell_type": "code",
      "metadata": {
        "id": "LYtXdRF55Ijn",
        "colab": {
          "base_uri": "https://localhost:8080/"
        },
        "outputId": "b1194457-9e69-45c7-887f-d27fa39ed59c"
      },
      "source": [
        "# mostrar o total de linhas e colunas da tabela lida\n",
        "df.shape"
      ],
      "execution_count": null,
      "outputs": [
        {
          "output_type": "execute_result",
          "data": {
            "text/plain": [
              "(36, 7)"
            ]
          },
          "metadata": {},
          "execution_count": 54
        }
      ]
    },
    {
      "cell_type": "code",
      "metadata": {
        "id": "aKQs4MDT5Rpc",
        "colab": {
          "base_uri": "https://localhost:8080/",
          "height": 206
        },
        "outputId": "d6afe23b-66d1-4c1c-e00a-879128c57b65"
      },
      "source": [
        "#mostra as 5 primeiras linhas do arquivo\n",
        "df.head()"
      ],
      "execution_count": null,
      "outputs": [
        {
          "output_type": "execute_result",
          "data": {
            "text/plain": [
              "   matricula_funcionario estado_civil grau_instrucao  filhos  salario  idade  \\\n",
              "0                      1     solteiro        1o Grau       0     4000     26   \n",
              "1                      2       casado        1o Grau       1     4560     32   \n",
              "2                      3       casado        1o Grau       2     5250     36   \n",
              "3                      4     solteiro        2o Grau       0     5730     20   \n",
              "4                      5     solteiro        1o Grau       0     6260     40   \n",
              "\n",
              "     regiao  \n",
              "0  interior  \n",
              "1   capital  \n",
              "2   capital  \n",
              "3     outro  \n",
              "4     outro  "
            ],
            "text/html": [
              "\n",
              "  <div id=\"df-d59faaa1-0c36-4eeb-ab3c-d315a247dc37\">\n",
              "    <div class=\"colab-df-container\">\n",
              "      <div>\n",
              "<style scoped>\n",
              "    .dataframe tbody tr th:only-of-type {\n",
              "        vertical-align: middle;\n",
              "    }\n",
              "\n",
              "    .dataframe tbody tr th {\n",
              "        vertical-align: top;\n",
              "    }\n",
              "\n",
              "    .dataframe thead th {\n",
              "        text-align: right;\n",
              "    }\n",
              "</style>\n",
              "<table border=\"1\" class=\"dataframe\">\n",
              "  <thead>\n",
              "    <tr style=\"text-align: right;\">\n",
              "      <th></th>\n",
              "      <th>matricula_funcionario</th>\n",
              "      <th>estado_civil</th>\n",
              "      <th>grau_instrucao</th>\n",
              "      <th>filhos</th>\n",
              "      <th>salario</th>\n",
              "      <th>idade</th>\n",
              "      <th>regiao</th>\n",
              "    </tr>\n",
              "  </thead>\n",
              "  <tbody>\n",
              "    <tr>\n",
              "      <th>0</th>\n",
              "      <td>1</td>\n",
              "      <td>solteiro</td>\n",
              "      <td>1o Grau</td>\n",
              "      <td>0</td>\n",
              "      <td>4000</td>\n",
              "      <td>26</td>\n",
              "      <td>interior</td>\n",
              "    </tr>\n",
              "    <tr>\n",
              "      <th>1</th>\n",
              "      <td>2</td>\n",
              "      <td>casado</td>\n",
              "      <td>1o Grau</td>\n",
              "      <td>1</td>\n",
              "      <td>4560</td>\n",
              "      <td>32</td>\n",
              "      <td>capital</td>\n",
              "    </tr>\n",
              "    <tr>\n",
              "      <th>2</th>\n",
              "      <td>3</td>\n",
              "      <td>casado</td>\n",
              "      <td>1o Grau</td>\n",
              "      <td>2</td>\n",
              "      <td>5250</td>\n",
              "      <td>36</td>\n",
              "      <td>capital</td>\n",
              "    </tr>\n",
              "    <tr>\n",
              "      <th>3</th>\n",
              "      <td>4</td>\n",
              "      <td>solteiro</td>\n",
              "      <td>2o Grau</td>\n",
              "      <td>0</td>\n",
              "      <td>5730</td>\n",
              "      <td>20</td>\n",
              "      <td>outro</td>\n",
              "    </tr>\n",
              "    <tr>\n",
              "      <th>4</th>\n",
              "      <td>5</td>\n",
              "      <td>solteiro</td>\n",
              "      <td>1o Grau</td>\n",
              "      <td>0</td>\n",
              "      <td>6260</td>\n",
              "      <td>40</td>\n",
              "      <td>outro</td>\n",
              "    </tr>\n",
              "  </tbody>\n",
              "</table>\n",
              "</div>\n",
              "      <button class=\"colab-df-convert\" onclick=\"convertToInteractive('df-d59faaa1-0c36-4eeb-ab3c-d315a247dc37')\"\n",
              "              title=\"Convert this dataframe to an interactive table.\"\n",
              "              style=\"display:none;\">\n",
              "        \n",
              "  <svg xmlns=\"http://www.w3.org/2000/svg\" height=\"24px\"viewBox=\"0 0 24 24\"\n",
              "       width=\"24px\">\n",
              "    <path d=\"M0 0h24v24H0V0z\" fill=\"none\"/>\n",
              "    <path d=\"M18.56 5.44l.94 2.06.94-2.06 2.06-.94-2.06-.94-.94-2.06-.94 2.06-2.06.94zm-11 1L8.5 8.5l.94-2.06 2.06-.94-2.06-.94L8.5 2.5l-.94 2.06-2.06.94zm10 10l.94 2.06.94-2.06 2.06-.94-2.06-.94-.94-2.06-.94 2.06-2.06.94z\"/><path d=\"M17.41 7.96l-1.37-1.37c-.4-.4-.92-.59-1.43-.59-.52 0-1.04.2-1.43.59L10.3 9.45l-7.72 7.72c-.78.78-.78 2.05 0 2.83L4 21.41c.39.39.9.59 1.41.59.51 0 1.02-.2 1.41-.59l7.78-7.78 2.81-2.81c.8-.78.8-2.07 0-2.86zM5.41 20L4 18.59l7.72-7.72 1.47 1.35L5.41 20z\"/>\n",
              "  </svg>\n",
              "      </button>\n",
              "      \n",
              "  <style>\n",
              "    .colab-df-container {\n",
              "      display:flex;\n",
              "      flex-wrap:wrap;\n",
              "      gap: 12px;\n",
              "    }\n",
              "\n",
              "    .colab-df-convert {\n",
              "      background-color: #E8F0FE;\n",
              "      border: none;\n",
              "      border-radius: 50%;\n",
              "      cursor: pointer;\n",
              "      display: none;\n",
              "      fill: #1967D2;\n",
              "      height: 32px;\n",
              "      padding: 0 0 0 0;\n",
              "      width: 32px;\n",
              "    }\n",
              "\n",
              "    .colab-df-convert:hover {\n",
              "      background-color: #E2EBFA;\n",
              "      box-shadow: 0px 1px 2px rgba(60, 64, 67, 0.3), 0px 1px 3px 1px rgba(60, 64, 67, 0.15);\n",
              "      fill: #174EA6;\n",
              "    }\n",
              "\n",
              "    [theme=dark] .colab-df-convert {\n",
              "      background-color: #3B4455;\n",
              "      fill: #D2E3FC;\n",
              "    }\n",
              "\n",
              "    [theme=dark] .colab-df-convert:hover {\n",
              "      background-color: #434B5C;\n",
              "      box-shadow: 0px 1px 3px 1px rgba(0, 0, 0, 0.15);\n",
              "      filter: drop-shadow(0px 1px 2px rgba(0, 0, 0, 0.3));\n",
              "      fill: #FFFFFF;\n",
              "    }\n",
              "  </style>\n",
              "\n",
              "      <script>\n",
              "        const buttonEl =\n",
              "          document.querySelector('#df-d59faaa1-0c36-4eeb-ab3c-d315a247dc37 button.colab-df-convert');\n",
              "        buttonEl.style.display =\n",
              "          google.colab.kernel.accessAllowed ? 'block' : 'none';\n",
              "\n",
              "        async function convertToInteractive(key) {\n",
              "          const element = document.querySelector('#df-d59faaa1-0c36-4eeb-ab3c-d315a247dc37');\n",
              "          const dataTable =\n",
              "            await google.colab.kernel.invokeFunction('convertToInteractive',\n",
              "                                                     [key], {});\n",
              "          if (!dataTable) return;\n",
              "\n",
              "          const docLinkHtml = 'Like what you see? Visit the ' +\n",
              "            '<a target=\"_blank\" href=https://colab.research.google.com/notebooks/data_table.ipynb>data table notebook</a>'\n",
              "            + ' to learn more about interactive tables.';\n",
              "          element.innerHTML = '';\n",
              "          dataTable['output_type'] = 'display_data';\n",
              "          await google.colab.output.renderOutput(dataTable, element);\n",
              "          const docLink = document.createElement('div');\n",
              "          docLink.innerHTML = docLinkHtml;\n",
              "          element.appendChild(docLink);\n",
              "        }\n",
              "      </script>\n",
              "    </div>\n",
              "  </div>\n",
              "  "
            ]
          },
          "metadata": {},
          "execution_count": 55
        }
      ]
    },
    {
      "cell_type": "code",
      "metadata": {
        "id": "QvhUNR8W5lAi",
        "colab": {
          "base_uri": "https://localhost:8080/"
        },
        "outputId": "938c2586-61dc-4f01-a759-a4b1ffb3e2f6"
      },
      "source": [
        "#mostra a estrutura da tabela lida (colunas e tipos)\n",
        "df.info()"
      ],
      "execution_count": null,
      "outputs": [
        {
          "output_type": "stream",
          "name": "stdout",
          "text": [
            "<class 'pandas.core.frame.DataFrame'>\n",
            "RangeIndex: 36 entries, 0 to 35\n",
            "Data columns (total 7 columns):\n",
            " #   Column                 Non-Null Count  Dtype \n",
            "---  ------                 --------------  ----- \n",
            " 0   matricula_funcionario  36 non-null     int64 \n",
            " 1   estado_civil           36 non-null     object\n",
            " 2   grau_instrucao         36 non-null     object\n",
            " 3   filhos                 36 non-null     int64 \n",
            " 4   salario                36 non-null     int64 \n",
            " 5   idade                  36 non-null     int64 \n",
            " 6   regiao                 36 non-null     object\n",
            "dtypes: int64(4), object(3)\n",
            "memory usage: 2.1+ KB\n"
          ]
        }
      ]
    },
    {
      "cell_type": "markdown",
      "metadata": {
        "id": "SZ8n2yo_CBDM"
      },
      "source": [
        "####**Resumo Estatístico dos dados**"
      ]
    },
    {
      "cell_type": "code",
      "metadata": {
        "id": "K0tMarws513P",
        "colab": {
          "base_uri": "https://localhost:8080/",
          "height": 300
        },
        "outputId": "c93b9336-5e16-4997-d0b0-7795290c8c8d"
      },
      "source": [
        "# faz um resumo estatístico dos dados\n",
        "df.describe()"
      ],
      "execution_count": null,
      "outputs": [
        {
          "output_type": "execute_result",
          "data": {
            "text/plain": [
              "       matricula_funcionario     filhos       salario      idade\n",
              "count              36.000000  36.000000     36.000000  36.000000\n",
              "mean               18.500000   0.916667  11122.222222  34.583333\n",
              "std                10.535654   1.250714   4587.457504   6.737422\n",
              "min                 1.000000   0.000000   4000.000000  20.000000\n",
              "25%                 9.750000   0.000000   7552.500000  30.000000\n",
              "50%                18.500000   0.000000  10165.000000  34.500000\n",
              "75%                27.250000   2.000000  14060.000000  40.000000\n",
              "max                36.000000   5.000000  23300.000000  48.000000"
            ],
            "text/html": [
              "\n",
              "  <div id=\"df-182c53ab-b2a9-4f21-8819-60249eec1a81\">\n",
              "    <div class=\"colab-df-container\">\n",
              "      <div>\n",
              "<style scoped>\n",
              "    .dataframe tbody tr th:only-of-type {\n",
              "        vertical-align: middle;\n",
              "    }\n",
              "\n",
              "    .dataframe tbody tr th {\n",
              "        vertical-align: top;\n",
              "    }\n",
              "\n",
              "    .dataframe thead th {\n",
              "        text-align: right;\n",
              "    }\n",
              "</style>\n",
              "<table border=\"1\" class=\"dataframe\">\n",
              "  <thead>\n",
              "    <tr style=\"text-align: right;\">\n",
              "      <th></th>\n",
              "      <th>matricula_funcionario</th>\n",
              "      <th>filhos</th>\n",
              "      <th>salario</th>\n",
              "      <th>idade</th>\n",
              "    </tr>\n",
              "  </thead>\n",
              "  <tbody>\n",
              "    <tr>\n",
              "      <th>count</th>\n",
              "      <td>36.000000</td>\n",
              "      <td>36.000000</td>\n",
              "      <td>36.000000</td>\n",
              "      <td>36.000000</td>\n",
              "    </tr>\n",
              "    <tr>\n",
              "      <th>mean</th>\n",
              "      <td>18.500000</td>\n",
              "      <td>0.916667</td>\n",
              "      <td>11122.222222</td>\n",
              "      <td>34.583333</td>\n",
              "    </tr>\n",
              "    <tr>\n",
              "      <th>std</th>\n",
              "      <td>10.535654</td>\n",
              "      <td>1.250714</td>\n",
              "      <td>4587.457504</td>\n",
              "      <td>6.737422</td>\n",
              "    </tr>\n",
              "    <tr>\n",
              "      <th>min</th>\n",
              "      <td>1.000000</td>\n",
              "      <td>0.000000</td>\n",
              "      <td>4000.000000</td>\n",
              "      <td>20.000000</td>\n",
              "    </tr>\n",
              "    <tr>\n",
              "      <th>25%</th>\n",
              "      <td>9.750000</td>\n",
              "      <td>0.000000</td>\n",
              "      <td>7552.500000</td>\n",
              "      <td>30.000000</td>\n",
              "    </tr>\n",
              "    <tr>\n",
              "      <th>50%</th>\n",
              "      <td>18.500000</td>\n",
              "      <td>0.000000</td>\n",
              "      <td>10165.000000</td>\n",
              "      <td>34.500000</td>\n",
              "    </tr>\n",
              "    <tr>\n",
              "      <th>75%</th>\n",
              "      <td>27.250000</td>\n",
              "      <td>2.000000</td>\n",
              "      <td>14060.000000</td>\n",
              "      <td>40.000000</td>\n",
              "    </tr>\n",
              "    <tr>\n",
              "      <th>max</th>\n",
              "      <td>36.000000</td>\n",
              "      <td>5.000000</td>\n",
              "      <td>23300.000000</td>\n",
              "      <td>48.000000</td>\n",
              "    </tr>\n",
              "  </tbody>\n",
              "</table>\n",
              "</div>\n",
              "      <button class=\"colab-df-convert\" onclick=\"convertToInteractive('df-182c53ab-b2a9-4f21-8819-60249eec1a81')\"\n",
              "              title=\"Convert this dataframe to an interactive table.\"\n",
              "              style=\"display:none;\">\n",
              "        \n",
              "  <svg xmlns=\"http://www.w3.org/2000/svg\" height=\"24px\"viewBox=\"0 0 24 24\"\n",
              "       width=\"24px\">\n",
              "    <path d=\"M0 0h24v24H0V0z\" fill=\"none\"/>\n",
              "    <path d=\"M18.56 5.44l.94 2.06.94-2.06 2.06-.94-2.06-.94-.94-2.06-.94 2.06-2.06.94zm-11 1L8.5 8.5l.94-2.06 2.06-.94-2.06-.94L8.5 2.5l-.94 2.06-2.06.94zm10 10l.94 2.06.94-2.06 2.06-.94-2.06-.94-.94-2.06-.94 2.06-2.06.94z\"/><path d=\"M17.41 7.96l-1.37-1.37c-.4-.4-.92-.59-1.43-.59-.52 0-1.04.2-1.43.59L10.3 9.45l-7.72 7.72c-.78.78-.78 2.05 0 2.83L4 21.41c.39.39.9.59 1.41.59.51 0 1.02-.2 1.41-.59l7.78-7.78 2.81-2.81c.8-.78.8-2.07 0-2.86zM5.41 20L4 18.59l7.72-7.72 1.47 1.35L5.41 20z\"/>\n",
              "  </svg>\n",
              "      </button>\n",
              "      \n",
              "  <style>\n",
              "    .colab-df-container {\n",
              "      display:flex;\n",
              "      flex-wrap:wrap;\n",
              "      gap: 12px;\n",
              "    }\n",
              "\n",
              "    .colab-df-convert {\n",
              "      background-color: #E8F0FE;\n",
              "      border: none;\n",
              "      border-radius: 50%;\n",
              "      cursor: pointer;\n",
              "      display: none;\n",
              "      fill: #1967D2;\n",
              "      height: 32px;\n",
              "      padding: 0 0 0 0;\n",
              "      width: 32px;\n",
              "    }\n",
              "\n",
              "    .colab-df-convert:hover {\n",
              "      background-color: #E2EBFA;\n",
              "      box-shadow: 0px 1px 2px rgba(60, 64, 67, 0.3), 0px 1px 3px 1px rgba(60, 64, 67, 0.15);\n",
              "      fill: #174EA6;\n",
              "    }\n",
              "\n",
              "    [theme=dark] .colab-df-convert {\n",
              "      background-color: #3B4455;\n",
              "      fill: #D2E3FC;\n",
              "    }\n",
              "\n",
              "    [theme=dark] .colab-df-convert:hover {\n",
              "      background-color: #434B5C;\n",
              "      box-shadow: 0px 1px 3px 1px rgba(0, 0, 0, 0.15);\n",
              "      filter: drop-shadow(0px 1px 2px rgba(0, 0, 0, 0.3));\n",
              "      fill: #FFFFFF;\n",
              "    }\n",
              "  </style>\n",
              "\n",
              "      <script>\n",
              "        const buttonEl =\n",
              "          document.querySelector('#df-182c53ab-b2a9-4f21-8819-60249eec1a81 button.colab-df-convert');\n",
              "        buttonEl.style.display =\n",
              "          google.colab.kernel.accessAllowed ? 'block' : 'none';\n",
              "\n",
              "        async function convertToInteractive(key) {\n",
              "          const element = document.querySelector('#df-182c53ab-b2a9-4f21-8819-60249eec1a81');\n",
              "          const dataTable =\n",
              "            await google.colab.kernel.invokeFunction('convertToInteractive',\n",
              "                                                     [key], {});\n",
              "          if (!dataTable) return;\n",
              "\n",
              "          const docLinkHtml = 'Like what you see? Visit the ' +\n",
              "            '<a target=\"_blank\" href=https://colab.research.google.com/notebooks/data_table.ipynb>data table notebook</a>'\n",
              "            + ' to learn more about interactive tables.';\n",
              "          element.innerHTML = '';\n",
              "          dataTable['output_type'] = 'display_data';\n",
              "          await google.colab.output.renderOutput(dataTable, element);\n",
              "          const docLink = document.createElement('div');\n",
              "          docLink.innerHTML = docLinkHtml;\n",
              "          element.appendChild(docLink);\n",
              "        }\n",
              "      </script>\n",
              "    </div>\n",
              "  </div>\n",
              "  "
            ]
          },
          "metadata": {},
          "execution_count": 57
        }
      ]
    },
    {
      "cell_type": "markdown",
      "metadata": {
        "id": "UYZTVLEdBUxU"
      },
      "source": [
        "####**Histogramas**"
      ]
    },
    {
      "cell_type": "code",
      "metadata": {
        "id": "O_4Ajjp86rN1",
        "colab": {
          "base_uri": "https://localhost:8080/",
          "height": 405
        },
        "outputId": "4f13791b-ecb3-427d-fcdf-a56867551f40"
      },
      "source": [
        "# plotar o histograma das colunas numéricas\n",
        "# número de barras do histograma\n",
        "# figzise(largura,altura) do gráfico\n",
        "df.hist();"
      ],
      "execution_count": null,
      "outputs": [
        {
          "output_type": "display_data",
          "data": {
            "text/plain": [
              "<Figure size 720x432 with 4 Axes>"
            ],
            "image/png": "[encoded data removed]"
          },
          "metadata": {}
        }
      ]
    },
    {
      "cell_type": "markdown",
      "metadata": {
        "id": "nSH6Fxx-BGJF"
      },
      "source": [
        "####**Boxplots**"
      ]
    },
    {
      "cell_type": "code",
      "metadata": {
        "id": "vlGRDL8U_9Zu",
        "colab": {
          "base_uri": "https://localhost:8080/",
          "height": 430
        },
        "outputId": "5504faa8-b86c-480c-897b-f333244121ee"
      },
      "source": [
        "#filhos\n",
        "ax = sns.boxplot(x=df['filhos']);\n",
        "ax.axes.set_title(\"Distribuição dos dados referentes ao número de filhos dos funcionários\", fontsize=20, y=1.01);"
      ],
      "execution_count": null,
      "outputs": [
        {
          "output_type": "display_data",
          "data": {
            "text/plain": [
              "<Figure size 720x432 with 1 Axes>"
            ],
            "image/png": "[encoded data removed]"
          },
          "metadata": {}
        }
      ]
    },
    {
      "cell_type": "code",
      "metadata": {
        "id": "vMi3hwqtANc2",
        "colab": {
          "base_uri": "https://localhost:8080/",
          "height": 430
        },
        "outputId": "ae357b57-2a9b-4e65-eb8f-aecabedf6093"
      },
      "source": [
        "#salario\n",
        "ax = sns.boxplot(x=df['salario']);\n",
        "ax.axes.set_title(\"Distribuição dos dados referentes ao salário dos funcionários\", fontsize=20, y=1.01);"
      ],
      "execution_count": null,
      "outputs": [
        {
          "output_type": "display_data",
          "data": {
            "text/plain": [
              "<Figure size 720x432 with 1 Axes>"
            ],
            "image/png": "[encoded data removed]"
          },
          "metadata": {}
        }
      ]
    },
    {
      "cell_type": "code",
      "metadata": {
        "id": "Mn-akBFRAmME",
        "colab": {
          "base_uri": "https://localhost:8080/",
          "height": 430
        },
        "outputId": "e4ced277-6869-42cf-ea13-51a5c0c481c6"
      },
      "source": [
        "#idade\n",
        "ax = sns.boxplot(x=df['idade']);\n",
        "ax.axes.set_title(\"Distribuição dos dados referentes ao salário dos funcionários\", fontsize=20, y=1.01);"
      ],
      "execution_count": null,
      "outputs": [
        {
          "output_type": "display_data",
          "data": {
            "text/plain": [
              "<Figure size 720x432 with 1 Axes>"
            ],
            "image/png": "[encoded data removed]"
          },
          "metadata": {}
        }
      ]
    },
    {
      "cell_type": "markdown",
      "metadata": {
        "id": "d4mLq7fSe3ap"
      },
      "source": [
        "####**Analisando as variáveis qualitativas nominais**\n",
        "\n",
        "Estas variáveis não possuem uma ordem natural, em nosso exemplo a variável em questão será **estado_civil**. Desta forma podemos obter:\n",
        "\n",
        "* As frequências **(absolutas e/ou relativas)**;\n",
        "\n",
        "* O gráfico de barras e de setores;\n",
        "\n",
        "* A “moda”, i.e. o valor que ocorre com maior frequência.\n",
        "\n",
        "Por ser uma variável qualitativa, para obter a distribuição de frequência desta variável, basta contarmos quantas vezes ocorre cada categoria (ou nível), e organizar em uma tabela.\n",
        "\n",
        "https://minerandodados.com.br/analise-de-dados-com-python-usando-pandas/\n",
        "\n",
        "https://www.inf.ufsc.br/~andre.zibetti/probabilidade/aed.html"
      ]
    },
    {
      "cell_type": "markdown",
      "metadata": {
        "id": "0Vtkc7d9qrCC"
      },
      "source": [
        "#####**Frequência absoluta e relativa**"
      ]
    },
    {
      "cell_type": "code",
      "metadata": {
        "id": "NgVISYddDLEm",
        "colab": {
          "base_uri": "https://localhost:8080/",
          "height": 143
        },
        "outputId": "2c232142-c100-487b-9abc-afe7f76f150b"
      },
      "source": [
        "#frequencia absoluta\n",
        "pd.DataFrame({'Frequência absoluta': df.groupby('estado_civil').size()})"
      ],
      "execution_count": null,
      "outputs": [
        {
          "output_type": "execute_result",
          "data": {
            "text/plain": [
              "              Frequência absoluta\n",
              "estado_civil                     \n",
              "casado                         20\n",
              "solteiro                       16"
            ],
            "text/html": [
              "\n",
              "  <div id=\"df-6d8121c7-6f73-446e-be5d-fbce2f97fa9d\">\n",
              "    <div class=\"colab-df-container\">\n",
              "      <div>\n",
              "<style scoped>\n",
              "    .dataframe tbody tr th:only-of-type {\n",
              "        vertical-align: middle;\n",
              "    }\n",
              "\n",
              "    .dataframe tbody tr th {\n",
              "        vertical-align: top;\n",
              "    }\n",
              "\n",
              "    .dataframe thead th {\n",
              "        text-align: right;\n",
              "    }\n",
              "</style>\n",
              "<table border=\"1\" class=\"dataframe\">\n",
              "  <thead>\n",
              "    <tr style=\"text-align: right;\">\n",
              "      <th></th>\n",
              "      <th>Frequência absoluta</th>\n",
              "    </tr>\n",
              "    <tr>\n",
              "      <th>estado_civil</th>\n",
              "      <th></th>\n",
              "    </tr>\n",
              "  </thead>\n",
              "  <tbody>\n",
              "    <tr>\n",
              "      <th>casado</th>\n",
              "      <td>20</td>\n",
              "    </tr>\n",
              "    <tr>\n",
              "      <th>solteiro</th>\n",
              "      <td>16</td>\n",
              "    </tr>\n",
              "  </tbody>\n",
              "</table>\n",
              "</div>\n",
              "      <button class=\"colab-df-convert\" onclick=\"convertToInteractive('df-6d8121c7-6f73-446e-be5d-fbce2f97fa9d')\"\n",
              "              title=\"Convert this dataframe to an interactive table.\"\n",
              "              style=\"display:none;\">\n",
              "        \n",
              "  <svg xmlns=\"http://www.w3.org/2000/svg\" height=\"24px\"viewBox=\"0 0 24 24\"\n",
              "       width=\"24px\">\n",
              "    <path d=\"M0 0h24v24H0V0z\" fill=\"none\"/>\n",
              "    <path d=\"M18.56 5.44l.94 2.06.94-2.06 2.06-.94-2.06-.94-.94-2.06-.94 2.06-2.06.94zm-11 1L8.5 8.5l.94-2.06 2.06-.94-2.06-.94L8.5 2.5l-.94 2.06-2.06.94zm10 10l.94 2.06.94-2.06 2.06-.94-2.06-.94-.94-2.06-.94 2.06-2.06.94z\"/><path d=\"M17.41 7.96l-1.37-1.37c-.4-.4-.92-.59-1.43-.59-.52 0-1.04.2-1.43.59L10.3 9.45l-7.72 7.72c-.78.78-.78 2.05 0 2.83L4 21.41c.39.39.9.59 1.41.59.51 0 1.02-.2 1.41-.59l7.78-7.78 2.81-2.81c.8-.78.8-2.07 0-2.86zM5.41 20L4 18.59l7.72-7.72 1.47 1.35L5.41 20z\"/>\n",
              "  </svg>\n",
              "      </button>\n",
              "      \n",
              "  <style>\n",
              "    .colab-df-container {\n",
              "      display:flex;\n",
              "      flex-wrap:wrap;\n",
              "      gap: 12px;\n",
              "    }\n",
              "\n",
              "    .colab-df-convert {\n",
              "      background-color: #E8F0FE;\n",
              "      border: none;\n",
              "      border-radius: 50%;\n",
              "      cursor: pointer;\n",
              "      display: none;\n",
              "      fill: #1967D2;\n",
              "      height: 32px;\n",
              "      padding: 0 0 0 0;\n",
              "      width: 32px;\n",
              "    }\n",
              "\n",
              "    .colab-df-convert:hover {\n",
              "      background-color: #E2EBFA;\n",
              "      box-shadow: 0px 1px 2px rgba(60, 64, 67, 0.3), 0px 1px 3px 1px rgba(60, 64, 67, 0.15);\n",
              "      fill: #174EA6;\n",
              "    }\n",
              "\n",
              "    [theme=dark] .colab-df-convert {\n",
              "      background-color: #3B4455;\n",
              "      fill: #D2E3FC;\n",
              "    }\n",
              "\n",
              "    [theme=dark] .colab-df-convert:hover {\n",
              "      background-color: #434B5C;\n",
              "      box-shadow: 0px 1px 3px 1px rgba(0, 0, 0, 0.15);\n",
              "      filter: drop-shadow(0px 1px 2px rgba(0, 0, 0, 0.3));\n",
              "      fill: #FFFFFF;\n",
              "    }\n",
              "  </style>\n",
              "\n",
              "      <script>\n",
              "        const buttonEl =\n",
              "          document.querySelector('#df-6d8121c7-6f73-446e-be5d-fbce2f97fa9d button.colab-df-convert');\n",
              "        buttonEl.style.display =\n",
              "          google.colab.kernel.accessAllowed ? 'block' : 'none';\n",
              "\n",
              "        async function convertToInteractive(key) {\n",
              "          const element = document.querySelector('#df-6d8121c7-6f73-446e-be5d-fbce2f97fa9d');\n",
              "          const dataTable =\n",
              "            await google.colab.kernel.invokeFunction('convertToInteractive',\n",
              "                                                     [key], {});\n",
              "          if (!dataTable) return;\n",
              "\n",
              "          const docLinkHtml = 'Like what you see? Visit the ' +\n",
              "            '<a target=\"_blank\" href=https://colab.research.google.com/notebooks/data_table.ipynb>data table notebook</a>'\n",
              "            + ' to learn more about interactive tables.';\n",
              "          element.innerHTML = '';\n",
              "          dataTable['output_type'] = 'display_data';\n",
              "          await google.colab.output.renderOutput(dataTable, element);\n",
              "          const docLink = document.createElement('div');\n",
              "          docLink.innerHTML = docLinkHtml;\n",
              "          element.appendChild(docLink);\n",
              "        }\n",
              "      </script>\n",
              "    </div>\n",
              "  </div>\n",
              "  "
            ]
          },
          "metadata": {},
          "execution_count": 62
        }
      ]
    },
    {
      "cell_type": "code",
      "metadata": {
        "id": "Uu0bE85WF9ep",
        "colab": {
          "base_uri": "https://localhost:8080/",
          "height": 143
        },
        "outputId": "6d509641-ff67-465a-a1ab-de95083ccd34"
      },
      "source": [
        "#frequencia relativa\n",
        "pd.DataFrame({'Frequência relativa': df.groupby(('estado_civil')).size() / len(df)})*100"
      ],
      "execution_count": null,
      "outputs": [
        {
          "output_type": "execute_result",
          "data": {
            "text/plain": [
              "              Frequência relativa\n",
              "estado_civil                     \n",
              "casado                  55.555556\n",
              "solteiro                44.444444"
            ],
            "text/html": [
              "\n",
              "  <div id=\"df-af306e48-659d-427f-9c9d-2f00f781616d\">\n",
              "    <div class=\"colab-df-container\">\n",
              "      <div>\n",
              "<style scoped>\n",
              "    .dataframe tbody tr th:only-of-type {\n",
              "        vertical-align: middle;\n",
              "    }\n",
              "\n",
              "    .dataframe tbody tr th {\n",
              "        vertical-align: top;\n",
              "    }\n",
              "\n",
              "    .dataframe thead th {\n",
              "        text-align: right;\n",
              "    }\n",
              "</style>\n",
              "<table border=\"1\" class=\"dataframe\">\n",
              "  <thead>\n",
              "    <tr style=\"text-align: right;\">\n",
              "      <th></th>\n",
              "      <th>Frequência relativa</th>\n",
              "    </tr>\n",
              "    <tr>\n",
              "      <th>estado_civil</th>\n",
              "      <th></th>\n",
              "    </tr>\n",
              "  </thead>\n",
              "  <tbody>\n",
              "    <tr>\n",
              "      <th>casado</th>\n",
              "      <td>55.555556</td>\n",
              "    </tr>\n",
              "    <tr>\n",
              "      <th>solteiro</th>\n",
              "      <td>44.444444</td>\n",
              "    </tr>\n",
              "  </tbody>\n",
              "</table>\n",
              "</div>\n",
              "      <button class=\"colab-df-convert\" onclick=\"convertToInteractive('df-af306e48-659d-427f-9c9d-2f00f781616d')\"\n",
              "              title=\"Convert this dataframe to an interactive table.\"\n",
              "              style=\"display:none;\">\n",
              "        \n",
              "  <svg xmlns=\"http://www.w3.org/2000/svg\" height=\"24px\"viewBox=\"0 0 24 24\"\n",
              "       width=\"24px\">\n",
              "    <path d=\"M0 0h24v24H0V0z\" fill=\"none\"/>\n",
              "    <path d=\"M18.56 5.44l.94 2.06.94-2.06 2.06-.94-2.06-.94-.94-2.06-.94 2.06-2.06.94zm-11 1L8.5 8.5l.94-2.06 2.06-.94-2.06-.94L8.5 2.5l-.94 2.06-2.06.94zm10 10l.94 2.06.94-2.06 2.06-.94-2.06-.94-.94-2.06-.94 2.06-2.06.94z\"/><path d=\"M17.41 7.96l-1.37-1.37c-.4-.4-.92-.59-1.43-.59-.52 0-1.04.2-1.43.59L10.3 9.45l-7.72 7.72c-.78.78-.78 2.05 0 2.83L4 21.41c.39.39.9.59 1.41.59.51 0 1.02-.2 1.41-.59l7.78-7.78 2.81-2.81c.8-.78.8-2.07 0-2.86zM5.41 20L4 18.59l7.72-7.72 1.47 1.35L5.41 20z\"/>\n",
              "  </svg>\n",
              "      </button>\n",
              "      \n",
              "  <style>\n",
              "    .colab-df-container {\n",
              "      display:flex;\n",
              "      flex-wrap:wrap;\n",
              "      gap: 12px;\n",
              "    }\n",
              "\n",
              "    .colab-df-convert {\n",
              "      background-color: #E8F0FE;\n",
              "      border: none;\n",
              "      border-radius: 50%;\n",
              "      cursor: pointer;\n",
              "      display: none;\n",
              "      fill: #1967D2;\n",
              "      height: 32px;\n",
              "      padding: 0 0 0 0;\n",
              "      width: 32px;\n",
              "    }\n",
              "\n",
              "    .colab-df-convert:hover {\n",
              "      background-color: #E2EBFA;\n",
              "      box-shadow: 0px 1px 2px rgba(60, 64, 67, 0.3), 0px 1px 3px 1px rgba(60, 64, 67, 0.15);\n",
              "      fill: #174EA6;\n",
              "    }\n",
              "\n",
              "    [theme=dark] .colab-df-convert {\n",
              "      background-color: #3B4455;\n",
              "      fill: #D2E3FC;\n",
              "    }\n",
              "\n",
              "    [theme=dark] .colab-df-convert:hover {\n",
              "      background-color: #434B5C;\n",
              "      box-shadow: 0px 1px 3px 1px rgba(0, 0, 0, 0.15);\n",
              "      filter: drop-shadow(0px 1px 2px rgba(0, 0, 0, 0.3));\n",
              "      fill: #FFFFFF;\n",
              "    }\n",
              "  </style>\n",
              "\n",
              "      <script>\n",
              "        const buttonEl =\n",
              "          document.querySelector('#df-af306e48-659d-427f-9c9d-2f00f781616d button.colab-df-convert');\n",
              "        buttonEl.style.display =\n",
              "          google.colab.kernel.accessAllowed ? 'block' : 'none';\n",
              "\n",
              "        async function convertToInteractive(key) {\n",
              "          const element = document.querySelector('#df-af306e48-659d-427f-9c9d-2f00f781616d');\n",
              "          const dataTable =\n",
              "            await google.colab.kernel.invokeFunction('convertToInteractive',\n",
              "                                                     [key], {});\n",
              "          if (!dataTable) return;\n",
              "\n",
              "          const docLinkHtml = 'Like what you see? Visit the ' +\n",
              "            '<a target=\"_blank\" href=https://colab.research.google.com/notebooks/data_table.ipynb>data table notebook</a>'\n",
              "            + ' to learn more about interactive tables.';\n",
              "          element.innerHTML = '';\n",
              "          dataTable['output_type'] = 'display_data';\n",
              "          await google.colab.output.renderOutput(dataTable, element);\n",
              "          const docLink = document.createElement('div');\n",
              "          docLink.innerHTML = docLinkHtml;\n",
              "          element.appendChild(docLink);\n",
              "        }\n",
              "      </script>\n",
              "    </div>\n",
              "  </div>\n",
              "  "
            ]
          },
          "metadata": {},
          "execution_count": 63
        }
      ]
    },
    {
      "cell_type": "markdown",
      "metadata": {
        "id": "3EQa-NCQeWdr"
      },
      "source": [
        "#####**Gráfico de barras com valores absolutos de solteiros e casados**"
      ]
    },
    {
      "cell_type": "code",
      "metadata": {
        "id": "mD0dhXKpVkmr",
        "colab": {
          "base_uri": "https://localhost:8080/",
          "height": 465
        },
        "outputId": "729625aa-81a2-4ced-8638-9f6272a8bf7c"
      },
      "source": [
        "fig, ax = plt.subplots()\n",
        "df.groupby('estado_civil')['matricula_funcionario'].nunique().plot(kind='bar')\n",
        "plt.title('Total de funcionários por estado civil');\n",
        "plt.grid(axis='x')"
      ],
      "execution_count": null,
      "outputs": [
        {
          "output_type": "display_data",
          "data": {
            "text/plain": [
              "<Figure size 720x432 with 1 Axes>"
            ],
            "image/png": "[encoded data removed]"
          },
          "metadata": {}
        }
      ]
    },
    {
      "cell_type": "markdown",
      "metadata": {
        "id": "7rGoglpPemlu"
      },
      "source": [
        "#####**Gráfico de setores com valores relativos de solteiros e casados**"
      ]
    },
    {
      "cell_type": "code",
      "metadata": {
        "id": "IVw1YnRSacng",
        "colab": {
          "base_uri": "https://localhost:8080/",
          "height": 375
        },
        "outputId": "ac39e334-f9d3-4356-f701-088a968fcc8f"
      },
      "source": [
        "fig, ax = plt.subplots()\n",
        "df.groupby('estado_civil')['matricula_funcionario'].nunique().plot(kind='pie', autopct='%1.1f%%');\n",
        "plt.title('Percentual de funcionários por estado civil');\n",
        "plt.ylabel('');"
      ],
      "execution_count": null,
      "outputs": [
        {
          "output_type": "display_data",
          "data": {
            "text/plain": [
              "<Figure size 720x432 with 1 Axes>"
            ],
            "image/png": "[encoded data removed]"
          },
          "metadata": {}
        }
      ]
    },
    {
      "cell_type": "markdown",
      "metadata": {
        "id": "IDH6qbdtltcV"
      },
      "source": [
        "#####**Calculando a Moda**"
      ]
    },
    {
      "cell_type": "markdown",
      "metadata": {
        "id": "ZV2rPfFUes7G"
      },
      "source": [
        "A **moda** de qualquer variável é definida como o valor mais frequente encontrado na amostra. No caso de variáveis qualitativas, a moda é a categoria que apresenta maior frequência. Nesse exemplo, a moda seria então"
      ]
    },
    {
      "cell_type": "code",
      "metadata": {
        "id": "nh25e96Effbd",
        "colab": {
          "base_uri": "https://localhost:8080/"
        },
        "outputId": "a3cde8cc-a177-41e0-aeeb-98525d2cd976"
      },
      "source": [
        "#moda\n",
        "df['estado_civil'].mode()"
      ],
      "execution_count": null,
      "outputs": [
        {
          "output_type": "execute_result",
          "data": {
            "text/plain": [
              "0    casado\n",
              "dtype: object"
            ]
          },
          "metadata": {},
          "execution_count": 66
        }
      ]
    },
    {
      "cell_type": "markdown",
      "metadata": {
        "id": "w8wuyJ88f-4B"
      },
      "source": [
        "####**Analisando variáveis qualitativas ordinais**\n",
        "\n",
        "Estas variáveis podem ser ordendas, neste exemplo iremos utilizar a variável **grau_instrucao** dos funcionários.\n",
        "\n",
        "As tabelas de frequências são obtidas de forma semelhante à mostrada anteriormente.\n",
        "\n",
        "A frequência absoluta é a contagem do número de vezes que cada categoria foi observada. A ordem tem importância, portanto, a tabela também deve seguir a ordem natural das categorias.\n",
        "\n",
        "Abaixo, mostramos a tabela de frequência absoluta já com o somatório de todas as classes."
      ]
    },
    {
      "cell_type": "markdown",
      "metadata": {
        "id": "KACfRnLjr3pe"
      },
      "source": [
        "#####**Frequência absoluta e relativa**"
      ]
    },
    {
      "cell_type": "code",
      "metadata": {
        "id": "vXtpLTIRDbKl",
        "colab": {
          "base_uri": "https://localhost:8080/"
        },
        "outputId": "040dde5e-f4e4-4bbb-e4a5-b27679b7c5dc"
      },
      "source": [
        "df.groupby(by='grau_instrucao').size()"
      ],
      "execution_count": null,
      "outputs": [
        {
          "output_type": "execute_result",
          "data": {
            "text/plain": [
              "grau_instrucao\n",
              "1o Grau     12\n",
              "2o Grau     18\n",
              "Superior     6\n",
              "dtype: int64"
            ]
          },
          "metadata": {},
          "execution_count": 67
        }
      ]
    },
    {
      "cell_type": "code",
      "metadata": {
        "id": "FXG8CSZihBMs",
        "colab": {
          "base_uri": "https://localhost:8080/",
          "height": 175
        },
        "outputId": "c5ff18ac-c164-455a-9704-5dc095f0b376"
      },
      "source": [
        "#frequencia absoluta\n",
        "pd.DataFrame({'Frequência absoluta': df.groupby('grau_instrucao').size()})"
      ],
      "execution_count": null,
      "outputs": [
        {
          "output_type": "execute_result",
          "data": {
            "text/plain": [
              "                Frequência absoluta\n",
              "grau_instrucao                     \n",
              "1o Grau                          12\n",
              "2o Grau                          18\n",
              "Superior                          6"
            ],
            "text/html": [
              "\n",
              "  <div id=\"df-454f1310-bc12-48fa-99f0-98a89d7c8f77\">\n",
              "    <div class=\"colab-df-container\">\n",
              "      <div>\n",
              "<style scoped>\n",
              "    .dataframe tbody tr th:only-of-type {\n",
              "        vertical-align: middle;\n",
              "    }\n",
              "\n",
              "    .dataframe tbody tr th {\n",
              "        vertical-align: top;\n",
              "    }\n",
              "\n",
              "    .dataframe thead th {\n",
              "        text-align: right;\n",
              "    }\n",
              "</style>\n",
              "<table border=\"1\" class=\"dataframe\">\n",
              "  <thead>\n",
              "    <tr style=\"text-align: right;\">\n",
              "      <th></th>\n",
              "      <th>Frequência absoluta</th>\n",
              "    </tr>\n",
              "    <tr>\n",
              "      <th>grau_instrucao</th>\n",
              "      <th></th>\n",
              "    </tr>\n",
              "  </thead>\n",
              "  <tbody>\n",
              "    <tr>\n",
              "      <th>1o Grau</th>\n",
              "      <td>12</td>\n",
              "    </tr>\n",
              "    <tr>\n",
              "      <th>2o Grau</th>\n",
              "      <td>18</td>\n",
              "    </tr>\n",
              "    <tr>\n",
              "      <th>Superior</th>\n",
              "      <td>6</td>\n",
              "    </tr>\n",
              "  </tbody>\n",
              "</table>\n",
              "</div>\n",
              "      <button class=\"colab-df-convert\" onclick=\"convertToInteractive('df-454f1310-bc12-48fa-99f0-98a89d7c8f77')\"\n",
              "              title=\"Convert this dataframe to an interactive table.\"\n",
              "              style=\"display:none;\">\n",
              "        \n",
              "  <svg xmlns=\"http://www.w3.org/2000/svg\" height=\"24px\"viewBox=\"0 0 24 24\"\n",
              "       width=\"24px\">\n",
              "    <path d=\"M0 0h24v24H0V0z\" fill=\"none\"/>\n",
              "    <path d=\"M18.56 5.44l.94 2.06.94-2.06 2.06-.94-2.06-.94-.94-2.06-.94 2.06-2.06.94zm-11 1L8.5 8.5l.94-2.06 2.06-.94-2.06-.94L8.5 2.5l-.94 2.06-2.06.94zm10 10l.94 2.06.94-2.06 2.06-.94-2.06-.94-.94-2.06-.94 2.06-2.06.94z\"/><path d=\"M17.41 7.96l-1.37-1.37c-.4-.4-.92-.59-1.43-.59-.52 0-1.04.2-1.43.59L10.3 9.45l-7.72 7.72c-.78.78-.78 2.05 0 2.83L4 21.41c.39.39.9.59 1.41.59.51 0 1.02-.2 1.41-.59l7.78-7.78 2.81-2.81c.8-.78.8-2.07 0-2.86zM5.41 20L4 18.59l7.72-7.72 1.47 1.35L5.41 20z\"/>\n",
              "  </svg>\n",
              "      </button>\n",
              "      \n",
              "  <style>\n",
              "    .colab-df-container {\n",
              "      display:flex;\n",
              "      flex-wrap:wrap;\n",
              "      gap: 12px;\n",
              "    }\n",
              "\n",
              "    .colab-df-convert {\n",
              "      background-color: #E8F0FE;\n",
              "      border: none;\n",
              "      border-radius: 50%;\n",
              "      cursor: pointer;\n",
              "      display: none;\n",
              "      fill: #1967D2;\n",
              "      height: 32px;\n",
              "      padding: 0 0 0 0;\n",
              "      width: 32px;\n",
              "    }\n",
              "\n",
              "    .colab-df-convert:hover {\n",
              "      background-color: #E2EBFA;\n",
              "      box-shadow: 0px 1px 2px rgba(60, 64, 67, 0.3), 0px 1px 3px 1px rgba(60, 64, 67, 0.15);\n",
              "      fill: #174EA6;\n",
              "    }\n",
              "\n",
              "    [theme=dark] .colab-df-convert {\n",
              "      background-color: #3B4455;\n",
              "      fill: #D2E3FC;\n",
              "    }\n",
              "\n",
              "    [theme=dark] .colab-df-convert:hover {\n",
              "      background-color: #434B5C;\n",
              "      box-shadow: 0px 1px 3px 1px rgba(0, 0, 0, 0.15);\n",
              "      filter: drop-shadow(0px 1px 2px rgba(0, 0, 0, 0.3));\n",
              "      fill: #FFFFFF;\n",
              "    }\n",
              "  </style>\n",
              "\n",
              "      <script>\n",
              "        const buttonEl =\n",
              "          document.querySelector('#df-454f1310-bc12-48fa-99f0-98a89d7c8f77 button.colab-df-convert');\n",
              "        buttonEl.style.display =\n",
              "          google.colab.kernel.accessAllowed ? 'block' : 'none';\n",
              "\n",
              "        async function convertToInteractive(key) {\n",
              "          const element = document.querySelector('#df-454f1310-bc12-48fa-99f0-98a89d7c8f77');\n",
              "          const dataTable =\n",
              "            await google.colab.kernel.invokeFunction('convertToInteractive',\n",
              "                                                     [key], {});\n",
              "          if (!dataTable) return;\n",
              "\n",
              "          const docLinkHtml = 'Like what you see? Visit the ' +\n",
              "            '<a target=\"_blank\" href=https://colab.research.google.com/notebooks/data_table.ipynb>data table notebook</a>'\n",
              "            + ' to learn more about interactive tables.';\n",
              "          element.innerHTML = '';\n",
              "          dataTable['output_type'] = 'display_data';\n",
              "          await google.colab.output.renderOutput(dataTable, element);\n",
              "          const docLink = document.createElement('div');\n",
              "          docLink.innerHTML = docLinkHtml;\n",
              "          element.appendChild(docLink);\n",
              "        }\n",
              "      </script>\n",
              "    </div>\n",
              "  </div>\n",
              "  "
            ]
          },
          "metadata": {},
          "execution_count": 68
        }
      ]
    },
    {
      "cell_type": "code",
      "metadata": {
        "id": "yKcKQE8ChBMv",
        "colab": {
          "base_uri": "https://localhost:8080/",
          "height": 175
        },
        "outputId": "1d42cae3-1632-407e-d847-0a2a2057e2df"
      },
      "source": [
        "#frequencia relativa\n",
        "pd.DataFrame({'Frequência relativa': df.groupby(('grau_instrucao')).size() / len(df)})*100"
      ],
      "execution_count": null,
      "outputs": [
        {
          "output_type": "execute_result",
          "data": {
            "text/plain": [
              "                Frequência relativa\n",
              "grau_instrucao                     \n",
              "1o Grau                   33.333333\n",
              "2o Grau                   50.000000\n",
              "Superior                  16.666667"
            ],
            "text/html": [
              "\n",
              "  <div id=\"df-cafaae09-59db-4066-9e6a-72105160eaa6\">\n",
              "    <div class=\"colab-df-container\">\n",
              "      <div>\n",
              "<style scoped>\n",
              "    .dataframe tbody tr th:only-of-type {\n",
              "        vertical-align: middle;\n",
              "    }\n",
              "\n",
              "    .dataframe tbody tr th {\n",
              "        vertical-align: top;\n",
              "    }\n",
              "\n",
              "    .dataframe thead th {\n",
              "        text-align: right;\n",
              "    }\n",
              "</style>\n",
              "<table border=\"1\" class=\"dataframe\">\n",
              "  <thead>\n",
              "    <tr style=\"text-align: right;\">\n",
              "      <th></th>\n",
              "      <th>Frequência relativa</th>\n",
              "    </tr>\n",
              "    <tr>\n",
              "      <th>grau_instrucao</th>\n",
              "      <th></th>\n",
              "    </tr>\n",
              "  </thead>\n",
              "  <tbody>\n",
              "    <tr>\n",
              "      <th>1o Grau</th>\n",
              "      <td>33.333333</td>\n",
              "    </tr>\n",
              "    <tr>\n",
              "      <th>2o Grau</th>\n",
              "      <td>50.000000</td>\n",
              "    </tr>\n",
              "    <tr>\n",
              "      <th>Superior</th>\n",
              "      <td>16.666667</td>\n",
              "    </tr>\n",
              "  </tbody>\n",
              "</table>\n",
              "</div>\n",
              "      <button class=\"colab-df-convert\" onclick=\"convertToInteractive('df-cafaae09-59db-4066-9e6a-72105160eaa6')\"\n",
              "              title=\"Convert this dataframe to an interactive table.\"\n",
              "              style=\"display:none;\">\n",
              "        \n",
              "  <svg xmlns=\"http://www.w3.org/2000/svg\" height=\"24px\"viewBox=\"0 0 24 24\"\n",
              "       width=\"24px\">\n",
              "    <path d=\"M0 0h24v24H0V0z\" fill=\"none\"/>\n",
              "    <path d=\"M18.56 5.44l.94 2.06.94-2.06 2.06-.94-2.06-.94-.94-2.06-.94 2.06-2.06.94zm-11 1L8.5 8.5l.94-2.06 2.06-.94-2.06-.94L8.5 2.5l-.94 2.06-2.06.94zm10 10l.94 2.06.94-2.06 2.06-.94-2.06-.94-.94-2.06-.94 2.06-2.06.94z\"/><path d=\"M17.41 7.96l-1.37-1.37c-.4-.4-.92-.59-1.43-.59-.52 0-1.04.2-1.43.59L10.3 9.45l-7.72 7.72c-.78.78-.78 2.05 0 2.83L4 21.41c.39.39.9.59 1.41.59.51 0 1.02-.2 1.41-.59l7.78-7.78 2.81-2.81c.8-.78.8-2.07 0-2.86zM5.41 20L4 18.59l7.72-7.72 1.47 1.35L5.41 20z\"/>\n",
              "  </svg>\n",
              "      </button>\n",
              "      \n",
              "  <style>\n",
              "    .colab-df-container {\n",
              "      display:flex;\n",
              "      flex-wrap:wrap;\n",
              "      gap: 12px;\n",
              "    }\n",
              "\n",
              "    .colab-df-convert {\n",
              "      background-color: #E8F0FE;\n",
              "      border: none;\n",
              "      border-radius: 50%;\n",
              "      cursor: pointer;\n",
              "      display: none;\n",
              "      fill: #1967D2;\n",
              "      height: 32px;\n",
              "      padding: 0 0 0 0;\n",
              "      width: 32px;\n",
              "    }\n",
              "\n",
              "    .colab-df-convert:hover {\n",
              "      background-color: #E2EBFA;\n",
              "      box-shadow: 0px 1px 2px rgba(60, 64, 67, 0.3), 0px 1px 3px 1px rgba(60, 64, 67, 0.15);\n",
              "      fill: #174EA6;\n",
              "    }\n",
              "\n",
              "    [theme=dark] .colab-df-convert {\n",
              "      background-color: #3B4455;\n",
              "      fill: #D2E3FC;\n",
              "    }\n",
              "\n",
              "    [theme=dark] .colab-df-convert:hover {\n",
              "      background-color: #434B5C;\n",
              "      box-shadow: 0px 1px 3px 1px rgba(0, 0, 0, 0.15);\n",
              "      filter: drop-shadow(0px 1px 2px rgba(0, 0, 0, 0.3));\n",
              "      fill: #FFFFFF;\n",
              "    }\n",
              "  </style>\n",
              "\n",
              "      <script>\n",
              "        const buttonEl =\n",
              "          document.querySelector('#df-cafaae09-59db-4066-9e6a-72105160eaa6 button.colab-df-convert');\n",
              "        buttonEl.style.display =\n",
              "          google.colab.kernel.accessAllowed ? 'block' : 'none';\n",
              "\n",
              "        async function convertToInteractive(key) {\n",
              "          const element = document.querySelector('#df-cafaae09-59db-4066-9e6a-72105160eaa6');\n",
              "          const dataTable =\n",
              "            await google.colab.kernel.invokeFunction('convertToInteractive',\n",
              "                                                     [key], {});\n",
              "          if (!dataTable) return;\n",
              "\n",
              "          const docLinkHtml = 'Like what you see? Visit the ' +\n",
              "            '<a target=\"_blank\" href=https://colab.research.google.com/notebooks/data_table.ipynb>data table notebook</a>'\n",
              "            + ' to learn more about interactive tables.';\n",
              "          element.innerHTML = '';\n",
              "          dataTable['output_type'] = 'display_data';\n",
              "          await google.colab.output.renderOutput(dataTable, element);\n",
              "          const docLink = document.createElement('div');\n",
              "          docLink.innerHTML = docLinkHtml;\n",
              "          element.appendChild(docLink);\n",
              "        }\n",
              "      </script>\n",
              "    </div>\n",
              "  </div>\n",
              "  "
            ]
          },
          "metadata": {},
          "execution_count": 69
        }
      ]
    },
    {
      "cell_type": "markdown",
      "metadata": {
        "id": "6_BowjU3hOzM"
      },
      "source": [
        "#####**Gráfico de barras com valores absolutos dos graus de instrução**"
      ]
    },
    {
      "cell_type": "code",
      "metadata": {
        "id": "t1gXaKfGhOzO",
        "colab": {
          "base_uri": "https://localhost:8080/",
          "height": 456
        },
        "outputId": "07c95e1d-89b8-43cd-9ebd-88a0aee97101"
      },
      "source": [
        "fig, ax = plt.subplots()\n",
        "df.groupby('grau_instrucao')['matricula_funcionario'].nunique().plot(kind='bar')\n",
        "plt.grid(axis='x')"
      ],
      "execution_count": null,
      "outputs": [
        {
          "output_type": "display_data",
          "data": {
            "text/plain": [
              "<Figure size 720x432 with 1 Axes>"
            ],
            "image/png": "[encoded data removed]"
          },
          "metadata": {}
        }
      ]
    },
    {
      "cell_type": "markdown",
      "metadata": {
        "id": "32_NJY5Hhafk"
      },
      "source": [
        "#####**Gráfico de setores com valores relativos ao grau de instrução**"
      ]
    },
    {
      "cell_type": "code",
      "metadata": {
        "id": "GbwXU0IXhafm",
        "colab": {
          "base_uri": "https://localhost:8080/",
          "height": 374
        },
        "outputId": "55b3f528-2f81-42f9-fe56-9724a236db1a"
      },
      "source": [
        "fig, ax = plt.subplots()\n",
        "df.groupby('grau_instrucao')['matricula_funcionario'].nunique().plot(kind='pie', autopct='%1.1f%%');\n",
        "plt.title('Percentual por grau de instrução');\n",
        "plt.ylabel('');"
      ],
      "execution_count": null,
      "outputs": [
        {
          "output_type": "display_data",
          "data": {
            "text/plain": [
              "<Figure size 720x432 with 1 Axes>"
            ],
            "image/png": "[encoded data removed]"
          },
          "metadata": {}
        }
      ]
    },
    {
      "cell_type": "markdown",
      "metadata": {
        "id": "J57VOle6iBj7"
      },
      "source": [
        "#####**Calculando a Moda**"
      ]
    },
    {
      "cell_type": "code",
      "metadata": {
        "id": "gB2SaLeviBj9",
        "colab": {
          "base_uri": "https://localhost:8080/"
        },
        "outputId": "29c82ac8-6fe4-4b10-9b8f-c07245014cd9"
      },
      "source": [
        "#moda\n",
        "df['grau_instrucao'].mode()"
      ],
      "execution_count": null,
      "outputs": [
        {
          "output_type": "execute_result",
          "data": {
            "text/plain": [
              "0    2o Grau\n",
              "dtype: object"
            ]
          },
          "metadata": {},
          "execution_count": 72
        }
      ]
    },
    {
      "cell_type": "markdown",
      "metadata": {
        "id": "IWcMohqLiL0p"
      },
      "source": [
        "####**Analisando variáveis quantitativas discretas**\n",
        "\n",
        "Vamos agora usar a variável **Filhos** (número de filhos) para ilustrar algumas análises que podem ser feitas com uma quantitativa discreta. Iremos obter também:\n",
        "\n",
        "* As frequências **(absolutas e/ou relativas)**;\n",
        "\n",
        "* O gráfico de barras e de setores;\n",
        "\n",
        "* A “moda”, i.e. o valor que ocorre com maior frequência."
      ]
    },
    {
      "cell_type": "markdown",
      "metadata": {
        "id": "VcIwKQKpwoNH"
      },
      "source": [
        "#####**Frequência absoluta e relativa**"
      ]
    },
    {
      "cell_type": "code",
      "metadata": {
        "id": "QOHaSZdUwoNJ",
        "colab": {
          "base_uri": "https://localhost:8080/",
          "height": 238
        },
        "outputId": "1fcb1188-2f88-4423-ea66-b56096848d04"
      },
      "source": [
        "#frequencia absoluta\n",
        "pd.DataFrame({'Frequência absoluta': df.groupby('filhos').size()})"
      ],
      "execution_count": null,
      "outputs": [
        {
          "output_type": "execute_result",
          "data": {
            "text/plain": [
              "        Frequência absoluta\n",
              "filhos                     \n",
              "0                        20\n",
              "1                         5\n",
              "2                         7\n",
              "3                         3\n",
              "5                         1"
            ],
            "text/html": [
              "\n",
              "  <div id=\"df-99650faa-77f5-4cfc-b366-596c6caac13a\">\n",
              "    <div class=\"colab-df-container\">\n",
              "      <div>\n",
              "<style scoped>\n",
              "    .dataframe tbody tr th:only-of-type {\n",
              "        vertical-align: middle;\n",
              "    }\n",
              "\n",
              "    .dataframe tbody tr th {\n",
              "        vertical-align: top;\n",
              "    }\n",
              "\n",
              "    .dataframe thead th {\n",
              "        text-align: right;\n",
              "    }\n",
              "</style>\n",
              "<table border=\"1\" class=\"dataframe\">\n",
              "  <thead>\n",
              "    <tr style=\"text-align: right;\">\n",
              "      <th></th>\n",
              "      <th>Frequência absoluta</th>\n",
              "    </tr>\n",
              "    <tr>\n",
              "      <th>filhos</th>\n",
              "      <th></th>\n",
              "    </tr>\n",
              "  </thead>\n",
              "  <tbody>\n",
              "    <tr>\n",
              "      <th>0</th>\n",
              "      <td>20</td>\n",
              "    </tr>\n",
              "    <tr>\n",
              "      <th>1</th>\n",
              "      <td>5</td>\n",
              "    </tr>\n",
              "    <tr>\n",
              "      <th>2</th>\n",
              "      <td>7</td>\n",
              "    </tr>\n",
              "    <tr>\n",
              "      <th>3</th>\n",
              "      <td>3</td>\n",
              "    </tr>\n",
              "    <tr>\n",
              "      <th>5</th>\n",
              "      <td>1</td>\n",
              "    </tr>\n",
              "  </tbody>\n",
              "</table>\n",
              "</div>\n",
              "      <button class=\"colab-df-convert\" onclick=\"convertToInteractive('df-99650faa-77f5-4cfc-b366-596c6caac13a')\"\n",
              "              title=\"Convert this dataframe to an interactive table.\"\n",
              "              style=\"display:none;\">\n",
              "        \n",
              "  <svg xmlns=\"http://www.w3.org/2000/svg\" height=\"24px\"viewBox=\"0 0 24 24\"\n",
              "       width=\"24px\">\n",
              "    <path d=\"M0 0h24v24H0V0z\" fill=\"none\"/>\n",
              "    <path d=\"M18.56 5.44l.94 2.06.94-2.06 2.06-.94-2.06-.94-.94-2.06-.94 2.06-2.06.94zm-11 1L8.5 8.5l.94-2.06 2.06-.94-2.06-.94L8.5 2.5l-.94 2.06-2.06.94zm10 10l.94 2.06.94-2.06 2.06-.94-2.06-.94-.94-2.06-.94 2.06-2.06.94z\"/><path d=\"M17.41 7.96l-1.37-1.37c-.4-.4-.92-.59-1.43-.59-.52 0-1.04.2-1.43.59L10.3 9.45l-7.72 7.72c-.78.78-.78 2.05 0 2.83L4 21.41c.39.39.9.59 1.41.59.51 0 1.02-.2 1.41-.59l7.78-7.78 2.81-2.81c.8-.78.8-2.07 0-2.86zM5.41 20L4 18.59l7.72-7.72 1.47 1.35L5.41 20z\"/>\n",
              "  </svg>\n",
              "      </button>\n",
              "      \n",
              "  <style>\n",
              "    .colab-df-container {\n",
              "      display:flex;\n",
              "      flex-wrap:wrap;\n",
              "      gap: 12px;\n",
              "    }\n",
              "\n",
              "    .colab-df-convert {\n",
              "      background-color: #E8F0FE;\n",
              "      border: none;\n",
              "      border-radius: 50%;\n",
              "      cursor: pointer;\n",
              "      display: none;\n",
              "      fill: #1967D2;\n",
              "      height: 32px;\n",
              "      padding: 0 0 0 0;\n",
              "      width: 32px;\n",
              "    }\n",
              "\n",
              "    .colab-df-convert:hover {\n",
              "      background-color: #E2EBFA;\n",
              "      box-shadow: 0px 1px 2px rgba(60, 64, 67, 0.3), 0px 1px 3px 1px rgba(60, 64, 67, 0.15);\n",
              "      fill: #174EA6;\n",
              "    }\n",
              "\n",
              "    [theme=dark] .colab-df-convert {\n",
              "      background-color: #3B4455;\n",
              "      fill: #D2E3FC;\n",
              "    }\n",
              "\n",
              "    [theme=dark] .colab-df-convert:hover {\n",
              "      background-color: #434B5C;\n",
              "      box-shadow: 0px 1px 3px 1px rgba(0, 0, 0, 0.15);\n",
              "      filter: drop-shadow(0px 1px 2px rgba(0, 0, 0, 0.3));\n",
              "      fill: #FFFFFF;\n",
              "    }\n",
              "  </style>\n",
              "\n",
              "      <script>\n",
              "        const buttonEl =\n",
              "          document.querySelector('#df-99650faa-77f5-4cfc-b366-596c6caac13a button.colab-df-convert');\n",
              "        buttonEl.style.display =\n",
              "          google.colab.kernel.accessAllowed ? 'block' : 'none';\n",
              "\n",
              "        async function convertToInteractive(key) {\n",
              "          const element = document.querySelector('#df-99650faa-77f5-4cfc-b366-596c6caac13a');\n",
              "          const dataTable =\n",
              "            await google.colab.kernel.invokeFunction('convertToInteractive',\n",
              "                                                     [key], {});\n",
              "          if (!dataTable) return;\n",
              "\n",
              "          const docLinkHtml = 'Like what you see? Visit the ' +\n",
              "            '<a target=\"_blank\" href=https://colab.research.google.com/notebooks/data_table.ipynb>data table notebook</a>'\n",
              "            + ' to learn more about interactive tables.';\n",
              "          element.innerHTML = '';\n",
              "          dataTable['output_type'] = 'display_data';\n",
              "          await google.colab.output.renderOutput(dataTable, element);\n",
              "          const docLink = document.createElement('div');\n",
              "          docLink.innerHTML = docLinkHtml;\n",
              "          element.appendChild(docLink);\n",
              "        }\n",
              "      </script>\n",
              "    </div>\n",
              "  </div>\n",
              "  "
            ]
          },
          "metadata": {},
          "execution_count": 73
        }
      ]
    },
    {
      "cell_type": "code",
      "metadata": {
        "id": "V2fjq3rowoNN",
        "colab": {
          "base_uri": "https://localhost:8080/",
          "height": 238
        },
        "outputId": "a113be94-1cb5-4555-a52c-488f768ef2e6"
      },
      "source": [
        "#frequencia relativa\n",
        "pd.DataFrame({'Frequência relativa': df.groupby(('filhos')).size() / len(df)})*100"
      ],
      "execution_count": null,
      "outputs": [
        {
          "output_type": "execute_result",
          "data": {
            "text/plain": [
              "        Frequência relativa\n",
              "filhos                     \n",
              "0                 55.555556\n",
              "1                 13.888889\n",
              "2                 19.444444\n",
              "3                  8.333333\n",
              "5                  2.777778"
            ],
            "text/html": [
              "\n",
              "  <div id=\"df-707264e8-64ea-41a0-b737-522790fb69fe\">\n",
              "    <div class=\"colab-df-container\">\n",
              "      <div>\n",
              "<style scoped>\n",
              "    .dataframe tbody tr th:only-of-type {\n",
              "        vertical-align: middle;\n",
              "    }\n",
              "\n",
              "    .dataframe tbody tr th {\n",
              "        vertical-align: top;\n",
              "    }\n",
              "\n",
              "    .dataframe thead th {\n",
              "        text-align: right;\n",
              "    }\n",
              "</style>\n",
              "<table border=\"1\" class=\"dataframe\">\n",
              "  <thead>\n",
              "    <tr style=\"text-align: right;\">\n",
              "      <th></th>\n",
              "      <th>Frequência relativa</th>\n",
              "    </tr>\n",
              "    <tr>\n",
              "      <th>filhos</th>\n",
              "      <th></th>\n",
              "    </tr>\n",
              "  </thead>\n",
              "  <tbody>\n",
              "    <tr>\n",
              "      <th>0</th>\n",
              "      <td>55.555556</td>\n",
              "    </tr>\n",
              "    <tr>\n",
              "      <th>1</th>\n",
              "      <td>13.888889</td>\n",
              "    </tr>\n",
              "    <tr>\n",
              "      <th>2</th>\n",
              "      <td>19.444444</td>\n",
              "    </tr>\n",
              "    <tr>\n",
              "      <th>3</th>\n",
              "      <td>8.333333</td>\n",
              "    </tr>\n",
              "    <tr>\n",
              "      <th>5</th>\n",
              "      <td>2.777778</td>\n",
              "    </tr>\n",
              "  </tbody>\n",
              "</table>\n",
              "</div>\n",
              "      <button class=\"colab-df-convert\" onclick=\"convertToInteractive('df-707264e8-64ea-41a0-b737-522790fb69fe')\"\n",
              "              title=\"Convert this dataframe to an interactive table.\"\n",
              "              style=\"display:none;\">\n",
              "        \n",
              "  <svg xmlns=\"http://www.w3.org/2000/svg\" height=\"24px\"viewBox=\"0 0 24 24\"\n",
              "       width=\"24px\">\n",
              "    <path d=\"M0 0h24v24H0V0z\" fill=\"none\"/>\n",
              "    <path d=\"M18.56 5.44l.94 2.06.94-2.06 2.06-.94-2.06-.94-.94-2.06-.94 2.06-2.06.94zm-11 1L8.5 8.5l.94-2.06 2.06-.94-2.06-.94L8.5 2.5l-.94 2.06-2.06.94zm10 10l.94 2.06.94-2.06 2.06-.94-2.06-.94-.94-2.06-.94 2.06-2.06.94z\"/><path d=\"M17.41 7.96l-1.37-1.37c-.4-.4-.92-.59-1.43-.59-.52 0-1.04.2-1.43.59L10.3 9.45l-7.72 7.72c-.78.78-.78 2.05 0 2.83L4 21.41c.39.39.9.59 1.41.59.51 0 1.02-.2 1.41-.59l7.78-7.78 2.81-2.81c.8-.78.8-2.07 0-2.86zM5.41 20L4 18.59l7.72-7.72 1.47 1.35L5.41 20z\"/>\n",
              "  </svg>\n",
              "      </button>\n",
              "      \n",
              "  <style>\n",
              "    .colab-df-container {\n",
              "      display:flex;\n",
              "      flex-wrap:wrap;\n",
              "      gap: 12px;\n",
              "    }\n",
              "\n",
              "    .colab-df-convert {\n",
              "      background-color: #E8F0FE;\n",
              "      border: none;\n",
              "      border-radius: 50%;\n",
              "      cursor: pointer;\n",
              "      display: none;\n",
              "      fill: #1967D2;\n",
              "      height: 32px;\n",
              "      padding: 0 0 0 0;\n",
              "      width: 32px;\n",
              "    }\n",
              "\n",
              "    .colab-df-convert:hover {\n",
              "      background-color: #E2EBFA;\n",
              "      box-shadow: 0px 1px 2px rgba(60, 64, 67, 0.3), 0px 1px 3px 1px rgba(60, 64, 67, 0.15);\n",
              "      fill: #174EA6;\n",
              "    }\n",
              "\n",
              "    [theme=dark] .colab-df-convert {\n",
              "      background-color: #3B4455;\n",
              "      fill: #D2E3FC;\n",
              "    }\n",
              "\n",
              "    [theme=dark] .colab-df-convert:hover {\n",
              "      background-color: #434B5C;\n",
              "      box-shadow: 0px 1px 3px 1px rgba(0, 0, 0, 0.15);\n",
              "      filter: drop-shadow(0px 1px 2px rgba(0, 0, 0, 0.3));\n",
              "      fill: #FFFFFF;\n",
              "    }\n",
              "  </style>\n",
              "\n",
              "      <script>\n",
              "        const buttonEl =\n",
              "          document.querySelector('#df-707264e8-64ea-41a0-b737-522790fb69fe button.colab-df-convert');\n",
              "        buttonEl.style.display =\n",
              "          google.colab.kernel.accessAllowed ? 'block' : 'none';\n",
              "\n",
              "        async function convertToInteractive(key) {\n",
              "          const element = document.querySelector('#df-707264e8-64ea-41a0-b737-522790fb69fe');\n",
              "          const dataTable =\n",
              "            await google.colab.kernel.invokeFunction('convertToInteractive',\n",
              "                                                     [key], {});\n",
              "          if (!dataTable) return;\n",
              "\n",
              "          const docLinkHtml = 'Like what you see? Visit the ' +\n",
              "            '<a target=\"_blank\" href=https://colab.research.google.com/notebooks/data_table.ipynb>data table notebook</a>'\n",
              "            + ' to learn more about interactive tables.';\n",
              "          element.innerHTML = '';\n",
              "          dataTable['output_type'] = 'display_data';\n",
              "          await google.colab.output.renderOutput(dataTable, element);\n",
              "          const docLink = document.createElement('div');\n",
              "          docLink.innerHTML = docLinkHtml;\n",
              "          element.appendChild(docLink);\n",
              "        }\n",
              "      </script>\n",
              "    </div>\n",
              "  </div>\n",
              "  "
            ]
          },
          "metadata": {},
          "execution_count": 74
        }
      ]
    },
    {
      "cell_type": "markdown",
      "metadata": {
        "id": "rhqop6B_xM0e"
      },
      "source": [
        "#####**Gráfico de barras com valores absolutos de solteiros e casados**"
      ]
    },
    {
      "cell_type": "code",
      "metadata": {
        "id": "-JSLX8izxM0g",
        "colab": {
          "base_uri": "https://localhost:8080/",
          "height": 415
        },
        "outputId": "6ba386c1-e868-4174-e40f-6810fba291cf"
      },
      "source": [
        "fig, ax = plt.subplots()\n",
        "df.groupby('filhos')['matricula_funcionario'].nunique().plot(kind='bar')\n",
        "plt.title('Total de funcionários por número de filhos');\n",
        "plt.grid(axis='x')"
      ],
      "execution_count": null,
      "outputs": [
        {
          "output_type": "display_data",
          "data": {
            "text/plain": [
              "<Figure size 720x432 with 1 Axes>"
            ],
            "image/png": "[encoded data removed]"
          },
          "metadata": {}
        }
      ]
    },
    {
      "cell_type": "markdown",
      "metadata": {
        "id": "VCtr1TyxxM0m"
      },
      "source": [
        "#####**Gráfico de setores com valores relativos de solteiros e casados**"
      ]
    },
    {
      "cell_type": "code",
      "metadata": {
        "id": "8y_cTRVYxM0m",
        "colab": {
          "base_uri": "https://localhost:8080/",
          "height": 375
        },
        "outputId": "3a48ea54-8732-4f1c-e263-5091bda39957"
      },
      "source": [
        "fig, ax = plt.subplots()\n",
        "df.groupby('filhos')['matricula_funcionario'].nunique().plot(kind='pie', autopct='%1.1f%%');\n",
        "plt.title('Percentual de funcionários por número de filhos');\n",
        "plt.ylabel('');"
      ],
      "execution_count": null,
      "outputs": [
        {
          "output_type": "display_data",
          "data": {
            "text/plain": [
              "<Figure size 720x432 with 1 Axes>"
            ],
            "image/png": "[encoded data removed]"
          },
          "metadata": {}
        }
      ]
    },
    {
      "cell_type": "markdown",
      "metadata": {
        "id": "saxXt_s3y211"
      },
      "source": [
        "#####**Calculando a Moda**"
      ]
    },
    {
      "cell_type": "code",
      "metadata": {
        "id": "AClR0hZdy213",
        "colab": {
          "base_uri": "https://localhost:8080/"
        },
        "outputId": "1a79ae6c-58a1-476d-f0fc-e988737554e8"
      },
      "source": [
        "#moda\n",
        "df['filhos'].mode()"
      ],
      "execution_count": null,
      "outputs": [
        {
          "output_type": "execute_result",
          "data": {
            "text/plain": [
              "0    0\n",
              "dtype: int64"
            ]
          },
          "metadata": {},
          "execution_count": 77
        }
      ]
    },
    {
      "cell_type": "markdown",
      "metadata": {
        "id": "js3fQid-U1Yd"
      },
      "source": [
        "####**Analisando variáveis quantitativas contínuas**\n",
        "\n",
        "Para concluir os exemplos para análise univariada vamos considerar a variável quantitativa contínua Salario.\n",
        "\n",
        "Para se fazer uma tabela de frequências de uma variável contínua, é preciso primeiro agrupar os dados em classes pré-estabelecidas. A escolha dos intervalos de classe geralmente é arbitrária, e a familiaridade do pesquisador com os dados é que lhe indicará quantas e quais classes devem ser utilizadas.\n",
        "\n",
        "Para calcular o número de intervalos (k), iremos utilizar a seguinte fórmula:\n",
        "\n",
        "**k = int(1 + 3.322 * math.log(len(df['salario']),10))**"
      ]
    },
    {
      "cell_type": "markdown",
      "metadata": {
        "id": "XZZdYMGWYVPt"
      },
      "source": [
        "#####**Distribuição por faixa calculada**"
      ]
    },
    {
      "cell_type": "code",
      "metadata": {
        "id": "0XGeRQwAvNgk",
        "colab": {
          "base_uri": "https://localhost:8080/"
        },
        "outputId": "acdc1bcb-49d8-41c4-9a71-954f5fb5d7ab"
      },
      "source": [
        "#A Regra de Sturges\n",
        "# No de Intervalos da tabela (convertido SEMPRE para um inteiro)\n",
        "K = int(1 + 3.322 * math.log(len(df['salario']),10))\n",
        "\n",
        "#mínimo e máximo\n",
        "minimo = df['salario'].min()\n",
        "maximo = df['salario'].max()\n",
        "\n",
        "#amplitude\n",
        "A = maximo - minimo\n",
        "\n",
        "#cálculo da amplitude dos intervalos\n",
        "Ak =  A / K\n",
        "\n",
        "#separação em grupos\n",
        "bins = np.arange(minimo,maximo,Ak)\n",
        "\n",
        "df['salario'].groupby(pd.cut(df['salario'], bins=K)).count()"
      ],
      "execution_count": null,
      "outputs": [
        {
          "output_type": "execute_result",
          "data": {
            "text/plain": [
              "salario\n",
              "(3980.7, 7216.667]         7\n",
              "(7216.667, 10433.333]     11\n",
              "(10433.333, 13650.0]       8\n",
              "(13650.0, 16866.667]       6\n",
              "(16866.667, 20083.333]     3\n",
              "(20083.333, 23300.0]       1\n",
              "Name: salario, dtype: int64"
            ]
          },
          "metadata": {},
          "execution_count": 78
        }
      ]
    },
    {
      "cell_type": "markdown",
      "metadata": {
        "id": "vHaaofkXYiOR"
      },
      "source": [
        "#####**Histograma**"
      ]
    },
    {
      "cell_type": "code",
      "metadata": {
        "id": "btd9J8oKX9pr",
        "colab": {
          "base_uri": "https://localhost:8080/",
          "height": 388
        },
        "outputId": "108e7200-6e4a-462c-b525-583286cd5610"
      },
      "source": [
        "df['salario'].hist(bins=K);"
      ],
      "execution_count": null,
      "outputs": [
        {
          "output_type": "display_data",
          "data": {
            "text/plain": [
              "<Figure size 720x432 with 1 Axes>"
            ],
            "image/png": "[encoded data removed]"
          },
          "metadata": {}
        }
      ]
    },
    {
      "cell_type": "markdown",
      "metadata": {
        "id": "rST9LJ7huwJy"
      },
      "source": [
        "###**4.2 Análise de defeitos na fabriação de uma peça**\n",
        "Este estudo de caso tem por obejtivo montar uma tabela de distribuição de frequencia, para isso iremos analisar um arquivo com o registro de vários defeitos que foram observado na fabricação de uma peça.\n",
        "\n",
        "Os defeitos são representados por números. Será construído um histograma com a distribuição dos defeitos e em seguida será montada uma tabela com a distribuição de frequencia por defeito, seu percentual, a frequência acumulada e a porcentagem acumulada.\n"
      ]
    },
    {
      "cell_type": "code",
      "metadata": {
        "id": "TBBe65Gciq92"
      },
      "source": [
        "#https://pt.stackoverflow.com/questions/270580/como-fazer-uma-tabela-de-distribui%C3%A7%C3%A3o-de-frequ%C3%AAncia-em-python\n",
        "\n",
        "# tabela a ser lida na INternet\n",
        "dados = pd.read_csv(\"https://raw.githubusercontent.com/paulosrl/datasets/master/defeitos.csv\")\n",
        "\n",
        "#criação da tabela em memória usando APENAS o campo \"defeitos_encontrados\" e armazenando na tabela df (dataframe)\n",
        "# tabela com a relação dos defeitos\n",
        "df = dados['defeitos_encontrados']"
      ],
      "execution_count": null,
      "outputs": []
    },
    {
      "cell_type": "code",
      "metadata": {
        "id": "pEO1WiDBt1os",
        "colab": {
          "base_uri": "https://localhost:8080/"
        },
        "outputId": "d08aaeac-2342-43fe-f613-f73a871e7d67"
      },
      "source": [
        "#Total de defeitos encontrados\n",
        "total_defeitos_encontrados = df.count()\n",
        "total_defeitos_encontrados"
      ],
      "execution_count": null,
      "outputs": [
        {
          "output_type": "execute_result",
          "data": {
            "text/plain": [
              "48"
            ]
          },
          "metadata": {},
          "execution_count": 81
        }
      ]
    },
    {
      "cell_type": "markdown",
      "metadata": {
        "id": "NijzEE2-dT-5"
      },
      "source": [
        "####**Histograma**"
      ]
    },
    {
      "cell_type": "code",
      "metadata": {
        "id": "ddTs4KOQPqu4",
        "colab": {
          "base_uri": "https://localhost:8080/",
          "height": 388
        },
        "outputId": "7abb15f0-d9b2-4ea5-a31f-f5dafff498cb"
      },
      "source": [
        "#histograma\n",
        "df.hist();"
      ],
      "execution_count": null,
      "outputs": [
        {
          "output_type": "display_data",
          "data": {
            "text/plain": [
              "<Figure size 720x432 with 1 Axes>"
            ],
            "image/png": "[encoded data removed]"
          },
          "metadata": {}
        }
      ]
    },
    {
      "cell_type": "markdown",
      "metadata": {
        "id": "xL7Bl_5Hdb_O"
      },
      "source": [
        "####**Tabela com a distribuição de frequência**"
      ]
    },
    {
      "cell_type": "code",
      "metadata": {
        "id": "Ho44vTKJ3GkV",
        "colab": {
          "base_uri": "https://localhost:8080/",
          "height": 238
        },
        "outputId": "be7d2325-b718-4d68-c70a-e53ca9cad5ed"
      },
      "source": [
        "#cálculo da distribuição de frequência\n",
        "\n",
        "#criacao do dicionário frequencia (total de defeitos por tipo de defeito)\n",
        "frequencia = df.value_counts().to_dict()\n",
        "\n",
        "#criacao do dataframe df1 (tipo de defeito e total de defeitos)\n",
        "df1 = pd.DataFrame(list(frequencia.items()),columns = ['TipoDefeito','TotalDefeito'])\n",
        "\n",
        "#criacao do dicionário percentual (percentual de defeitos por tipo de defeito)\n",
        "percentual = (df.value_counts()/total_defeitos_encontrados*100).to_dict()\n",
        "\n",
        "#criacao do dataframe df2 (tipo de defeito e percentual de defeitos)\n",
        "df2 = pd.DataFrame(list(percentual.items()),columns = ['TipoDefeito','PercentualDefeito'])\n",
        "\n",
        "#junção dos dataframas df1 e df2 (tipo, total e percentual de defeitos)\n",
        "frames = [df1,df2]\n",
        "df3 = pd.merge(df1, df2, how='inner', on=['TipoDefeito', 'TipoDefeito'])\n",
        "\n",
        "# acumulo de colunas\n",
        "#soma dos acumulos do total de defeitos\n",
        "df3['DefeitoAcumulado'] = df3['TotalDefeito'].cumsum()\n",
        "#soma dos acumulos do percentual de defeitos\n",
        "df3['PercentualAcumulado'] = df3['PercentualDefeito'].cumsum()\n",
        "\n",
        "#reposicionamento das colunas\n",
        "distribuicao_frequencia = df3[['TipoDefeito','TotalDefeito','DefeitoAcumulado','PercentualDefeito','PercentualAcumulado']]\n",
        "distribuicao_frequencia"
      ],
      "execution_count": null,
      "outputs": [
        {
          "output_type": "execute_result",
          "data": {
            "text/plain": [
              "   TipoDefeito  TotalDefeito  DefeitoAcumulado  PercentualDefeito  \\\n",
              "0            1            15                15          31.250000   \n",
              "1            0            13                28          27.083333   \n",
              "2            2            10                38          20.833333   \n",
              "3            3             7                45          14.583333   \n",
              "4            4             2                47           4.166667   \n",
              "5            7             1                48           2.083333   \n",
              "\n",
              "   PercentualAcumulado  \n",
              "0            31.250000  \n",
              "1            58.333333  \n",
              "2            79.166667  \n",
              "3            93.750000  \n",
              "4            97.916667  \n",
              "5           100.000000  "
            ],
            "text/html": [
              "\n",
              "  <div id=\"df-c23552ec-844b-404a-a2de-11c80e4a6ed8\">\n",
              "    <div class=\"colab-df-container\">\n",
              "      <div>\n",
              "<style scoped>\n",
              "    .dataframe tbody tr th:only-of-type {\n",
              "        vertical-align: middle;\n",
              "    }\n",
              "\n",
              "    .dataframe tbody tr th {\n",
              "        vertical-align: top;\n",
              "    }\n",
              "\n",
              "    .dataframe thead th {\n",
              "        text-align: right;\n",
              "    }\n",
              "</style>\n",
              "<table border=\"1\" class=\"dataframe\">\n",
              "  <thead>\n",
              "    <tr style=\"text-align: right;\">\n",
              "      <th></th>\n",
              "      <th>TipoDefeito</th>\n",
              "      <th>TotalDefeito</th>\n",
              "      <th>DefeitoAcumulado</th>\n",
              "      <th>PercentualDefeito</th>\n",
              "      <th>PercentualAcumulado</th>\n",
              "    </tr>\n",
              "  </thead>\n",
              "  <tbody>\n",
              "    <tr>\n",
              "      <th>0</th>\n",
              "      <td>1</td>\n",
              "      <td>15</td>\n",
              "      <td>15</td>\n",
              "      <td>31.250000</td>\n",
              "      <td>31.250000</td>\n",
              "    </tr>\n",
              "    <tr>\n",
              "      <th>1</th>\n",
              "      <td>0</td>\n",
              "      <td>13</td>\n",
              "      <td>28</td>\n",
              "      <td>27.083333</td>\n",
              "      <td>58.333333</td>\n",
              "    </tr>\n",
              "    <tr>\n",
              "      <th>2</th>\n",
              "      <td>2</td>\n",
              "      <td>10</td>\n",
              "      <td>38</td>\n",
              "      <td>20.833333</td>\n",
              "      <td>79.166667</td>\n",
              "    </tr>\n",
              "    <tr>\n",
              "      <th>3</th>\n",
              "      <td>3</td>\n",
              "      <td>7</td>\n",
              "      <td>45</td>\n",
              "      <td>14.583333</td>\n",
              "      <td>93.750000</td>\n",
              "    </tr>\n",
              "    <tr>\n",
              "      <th>4</th>\n",
              "      <td>4</td>\n",
              "      <td>2</td>\n",
              "      <td>47</td>\n",
              "      <td>4.166667</td>\n",
              "      <td>97.916667</td>\n",
              "    </tr>\n",
              "    <tr>\n",
              "      <th>5</th>\n",
              "      <td>7</td>\n",
              "      <td>1</td>\n",
              "      <td>48</td>\n",
              "      <td>2.083333</td>\n",
              "      <td>100.000000</td>\n",
              "    </tr>\n",
              "  </tbody>\n",
              "</table>\n",
              "</div>\n",
              "      <button class=\"colab-df-convert\" onclick=\"convertToInteractive('df-c23552ec-844b-404a-a2de-11c80e4a6ed8')\"\n",
              "              title=\"Convert this dataframe to an interactive table.\"\n",
              "              style=\"display:none;\">\n",
              "        \n",
              "  <svg xmlns=\"http://www.w3.org/2000/svg\" height=\"24px\"viewBox=\"0 0 24 24\"\n",
              "       width=\"24px\">\n",
              "    <path d=\"M0 0h24v24H0V0z\" fill=\"none\"/>\n",
              "    <path d=\"M18.56 5.44l.94 2.06.94-2.06 2.06-.94-2.06-.94-.94-2.06-.94 2.06-2.06.94zm-11 1L8.5 8.5l.94-2.06 2.06-.94-2.06-.94L8.5 2.5l-.94 2.06-2.06.94zm10 10l.94 2.06.94-2.06 2.06-.94-2.06-.94-.94-2.06-.94 2.06-2.06.94z\"/><path d=\"M17.41 7.96l-1.37-1.37c-.4-.4-.92-.59-1.43-.59-.52 0-1.04.2-1.43.59L10.3 9.45l-7.72 7.72c-.78.78-.78 2.05 0 2.83L4 21.41c.39.39.9.59 1.41.59.51 0 1.02-.2 1.41-.59l7.78-7.78 2.81-2.81c.8-.78.8-2.07 0-2.86zM5.41 20L4 18.59l7.72-7.72 1.47 1.35L5.41 20z\"/>\n",
              "  </svg>\n",
              "      </button>\n",
              "      \n",
              "  <style>\n",
              "    .colab-df-container {\n",
              "      display:flex;\n",
              "      flex-wrap:wrap;\n",
              "      gap: 12px;\n",
              "    }\n",
              "\n",
              "    .colab-df-convert {\n",
              "      background-color: #E8F0FE;\n",
              "      border: none;\n",
              "      border-radius: 50%;\n",
              "      cursor: pointer;\n",
              "      display: none;\n",
              "      fill: #1967D2;\n",
              "      height: 32px;\n",
              "      padding: 0 0 0 0;\n",
              "      width: 32px;\n",
              "    }\n",
              "\n",
              "    .colab-df-convert:hover {\n",
              "      background-color: #E2EBFA;\n",
              "      box-shadow: 0px 1px 2px rgba(60, 64, 67, 0.3), 0px 1px 3px 1px rgba(60, 64, 67, 0.15);\n",
              "      fill: #174EA6;\n",
              "    }\n",
              "\n",
              "    [theme=dark] .colab-df-convert {\n",
              "      background-color: #3B4455;\n",
              "      fill: #D2E3FC;\n",
              "    }\n",
              "\n",
              "    [theme=dark] .colab-df-convert:hover {\n",
              "      background-color: #434B5C;\n",
              "      box-shadow: 0px 1px 3px 1px rgba(0, 0, 0, 0.15);\n",
              "      filter: drop-shadow(0px 1px 2px rgba(0, 0, 0, 0.3));\n",
              "      fill: #FFFFFF;\n",
              "    }\n",
              "  </style>\n",
              "\n",
              "      <script>\n",
              "        const buttonEl =\n",
              "          document.querySelector('#df-c23552ec-844b-404a-a2de-11c80e4a6ed8 button.colab-df-convert');\n",
              "        buttonEl.style.display =\n",
              "          google.colab.kernel.accessAllowed ? 'block' : 'none';\n",
              "\n",
              "        async function convertToInteractive(key) {\n",
              "          const element = document.querySelector('#df-c23552ec-844b-404a-a2de-11c80e4a6ed8');\n",
              "          const dataTable =\n",
              "            await google.colab.kernel.invokeFunction('convertToInteractive',\n",
              "                                                     [key], {});\n",
              "          if (!dataTable) return;\n",
              "\n",
              "          const docLinkHtml = 'Like what you see? Visit the ' +\n",
              "            '<a target=\"_blank\" href=https://colab.research.google.com/notebooks/data_table.ipynb>data table notebook</a>'\n",
              "            + ' to learn more about interactive tables.';\n",
              "          element.innerHTML = '';\n",
              "          dataTable['output_type'] = 'display_data';\n",
              "          await google.colab.output.renderOutput(dataTable, element);\n",
              "          const docLink = document.createElement('div');\n",
              "          docLink.innerHTML = docLinkHtml;\n",
              "          element.appendChild(docLink);\n",
              "        }\n",
              "      </script>\n",
              "    </div>\n",
              "  </div>\n",
              "  "
            ]
          },
          "metadata": {},
          "execution_count": 83
        }
      ]
    },
    {
      "cell_type": "markdown",
      "metadata": {
        "id": "C9RA4wrTLJ9L"
      },
      "source": [
        "##**Referências de apoio:**\n",
        "\n",
        "* [Exemplo de média, mediana e moda](https://pt.khanacademy.org/math/ap-statistics/summarizing-quantitative-data-ap/measuring-center-quantitative/v/mean-median-and-mode)\n",
        "* [Medidas de dispersão: intervalo, variância e desvio-padrão](https://pt.khanacademy.org/math/probability/data-distributions-a1/summarizing-spread-distributions/v/range-variance-and-standard-deviation-as-measures-of-dispersion)\n",
        "* [Desvio-padrão amostral e viés](https://pt.khanacademy.org/math/ap-statistics/summarizing-quantitative-data-ap/measuring-spread-quantitative/v/sample-standard-deviation-and-bias)\n",
        "\n",
        "* Notas de aula da disciplina Estatística Geral - Teoria e aplicações (Profa Julienne Borges Fujii - PUC-MG)"
      ]
    }
  ]
}