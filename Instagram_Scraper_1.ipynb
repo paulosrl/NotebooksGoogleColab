{
  "nbformat": 4,
  "nbformat_minor": 0,
  "metadata": {
    "colab": {
      "provenance": [],
      "include_colab_link": true
    },
    "kernelspec": {
      "name": "python3",
      "display_name": "Python 3"
    }
  },
  "cells": [
    {
      "cell_type": "markdown",
      "metadata": {
        "id": "view-in-github",
        "colab_type": "text"
      },
      "source": [
        "<a href=\"https://colab.research.google.com/github/paulosrl/NotebooksGoogleColab/blob/main/Instagram_Scraper_1.ipynb\" target=\"_parent\"><img src=\"https://colab.research.google.com/assets/colab-badge.svg\" alt=\"Open In Colab\"/></a>"
      ]
    },
    {
      "cell_type": "markdown",
      "metadata": {
        "id": "MQR75pS0Tcmx"
      },
      "source": [
        "Credits: https://github.com/realsirjoe/instagram-scraper\n",
        "\n",
        "Adapted by Carlos Toxtli http://www.carlostoxtli.com/#inst01"
      ]
    },
    {
      "cell_type": "code",
      "metadata": {
        "id": "hBLI2jLWZAh_",
        "colab": {
          "base_uri": "https://localhost:8080/"
        },
        "outputId": "0493285e-0c4a-450e-c769-3fac7d1895cc"
      },
      "source": [
        "drive_dir = '/content/drive/'\n",
        "from google.colab import drive\n",
        "from google.colab import files\n",
        "drive.mount(drive_dir)"
      ],
      "execution_count": null,
      "outputs": [
        {
          "output_type": "stream",
          "name": "stdout",
          "text": [
            "Drive already mounted at /content/drive/; to attempt to forcibly remount, call drive.mount(\"/content/drive/\", force_remount=True).\n"
          ]
        }
      ]
    },
    {
      "cell_type": "code",
      "metadata": {
        "id": "Xq9HMYgtAh86"
      },
      "source": [
        "username = '@paulosrl'\n",
        "password = 'abril1968'\n",
        "hashtag = 'bolsonaro'\n",
        "num_posts = 230000\n",
        "output_dir = drive_dir + 'My Drive/'"
      ],
      "execution_count": null,
      "outputs": []
    },
    {
      "cell_type": "code",
      "metadata": {
        "id": "GHviVz124jFn",
        "colab": {
          "base_uri": "https://localhost:8080/"
        },
        "outputId": "da540f9d-2da6-4324-9b27-2175e120fd09"
      },
      "source": [
        "!git clone https://github.com/toxtli/instagram-scraper.git\n",
        "%cd instagram-scraper\n",
        "!pip install -r requirements.txt\n",
        "# instagram.py\n",
        "# 460 try:\n",
        "# 502 except: print(sys.exc_info)"
      ],
      "execution_count": null,
      "outputs": [
        {
          "output_type": "stream",
          "name": "stdout",
          "text": [
            "fatal: destination path 'instagram-scraper' already exists and is not an empty directory.\n",
            "/content/instagram-scraper\n",
            "Looking in indexes: https://pypi.org/simple, https://us-python.pkg.dev/colab-wheels/public/simple/\n",
            "Requirement already satisfied: requests==2.21.0 in /usr/local/lib/python3.7/dist-packages (from -r requirements.txt (line 1)) (2.21.0)\n",
            "Requirement already satisfied: python-slugify==3.0.2 in /usr/local/lib/python3.7/dist-packages (from -r requirements.txt (line 2)) (3.0.2)\n",
            "Requirement already satisfied: urllib3<1.25,>=1.21.1 in /usr/local/lib/python3.7/dist-packages (from requests==2.21.0->-r requirements.txt (line 1)) (1.24.3)\n",
            "Requirement already satisfied: idna<2.9,>=2.5 in /usr/local/lib/python3.7/dist-packages (from requests==2.21.0->-r requirements.txt (line 1)) (2.8)\n",
            "Requirement already satisfied: chardet<3.1.0,>=3.0.2 in /usr/local/lib/python3.7/dist-packages (from requests==2.21.0->-r requirements.txt (line 1)) (3.0.4)\n",
            "Requirement already satisfied: certifi>=2017.4.17 in /usr/local/lib/python3.7/dist-packages (from requests==2.21.0->-r requirements.txt (line 1)) (2022.9.24)\n",
            "Requirement already satisfied: text-unidecode==1.2 in /usr/local/lib/python3.7/dist-packages (from python-slugify==3.0.2->-r requirements.txt (line 2)) (1.2)\n"
          ]
        }
      ]
    },
    {
      "cell_type": "code",
      "metadata": {
        "id": "GIAQhg7hAIkS"
      },
      "source": [
        "import pandas as pd\n",
        "from igramscraper.instagram import Instagram"
      ],
      "execution_count": null,
      "outputs": []
    },
    {
      "cell_type": "code",
      "metadata": {
        "id": "Rq7dNkV_8c77",
        "colab": {
          "base_uri": "https://localhost:8080/",
          "height": 329
        },
        "outputId": "f7c58b46-f203-423d-92f2-86629e7db716"
      },
      "source": [
        "instagram = Instagram()\n",
        "instagram.with_credentials(username, password, '/tmp')\n",
        "instagram.login()"
      ],
      "execution_count": null,
      "outputs": [
        {
          "output_type": "error",
          "ename": "JSONDecodeError",
          "evalue": "ignored",
          "traceback": [
            "\u001b[0;31m---------------------------------------------------------------------------\u001b[0m",
            "\u001b[0;31mJSONDecodeError\u001b[0m                           Traceback (most recent call last)",
            "\u001b[0;32m<ipython-input-5-b3bb0de483c2>\u001b[0m in \u001b[0;36m<module>\u001b[0;34m\u001b[0m\n\u001b[1;32m      1\u001b[0m \u001b[0minstagram\u001b[0m \u001b[0;34m=\u001b[0m \u001b[0mInstagram\u001b[0m\u001b[0;34m(\u001b[0m\u001b[0;34m)\u001b[0m\u001b[0;34m\u001b[0m\u001b[0;34m\u001b[0m\u001b[0m\n\u001b[1;32m      2\u001b[0m \u001b[0minstagram\u001b[0m\u001b[0;34m.\u001b[0m\u001b[0mwith_credentials\u001b[0m\u001b[0;34m(\u001b[0m\u001b[0musername\u001b[0m\u001b[0;34m,\u001b[0m \u001b[0mpassword\u001b[0m\u001b[0;34m,\u001b[0m \u001b[0;34m'/tmp'\u001b[0m\u001b[0;34m)\u001b[0m\u001b[0;34m\u001b[0m\u001b[0;34m\u001b[0m\u001b[0m\n\u001b[0;32m----> 3\u001b[0;31m \u001b[0minstagram\u001b[0m\u001b[0;34m.\u001b[0m\u001b[0mlogin\u001b[0m\u001b[0;34m(\u001b[0m\u001b[0;34m)\u001b[0m\u001b[0;34m\u001b[0m\u001b[0;34m\u001b[0m\u001b[0m\n\u001b[0m",
            "\u001b[0;32m/content/instagram-scraper/igramscraper/instagram.py\u001b[0m in \u001b[0;36mlogin\u001b[0;34m(self, force, two_step_verificator)\u001b[0m\n\u001b[1;32m   1319\u001b[0m                         \u001b[0mresponse\u001b[0m\u001b[0;34m.\u001b[0m\u001b[0mstatus_code\u001b[0m \u001b[0;34m==\u001b[0m \u001b[0mInstagram\u001b[0m\u001b[0;34m.\u001b[0m\u001b[0mHTTP_BAD_REQUEST\u001b[0m\u001b[0;34m\u001b[0m\u001b[0;34m\u001b[0m\u001b[0m\n\u001b[1;32m   1320\u001b[0m                         \u001b[0;32mand\u001b[0m \u001b[0mresponse\u001b[0m\u001b[0;34m.\u001b[0m\u001b[0mtext\u001b[0m \u001b[0;32mis\u001b[0m \u001b[0;32mnot\u001b[0m \u001b[0;32mNone\u001b[0m\u001b[0;34m\u001b[0m\u001b[0;34m\u001b[0m\u001b[0m\n\u001b[0;32m-> 1321\u001b[0;31m                         \u001b[0;32mand\u001b[0m \u001b[0mresponse\u001b[0m\u001b[0;34m.\u001b[0m\u001b[0mjson\u001b[0m\u001b[0;34m(\u001b[0m\u001b[0;34m)\u001b[0m\u001b[0;34m[\u001b[0m\u001b[0;34m'message'\u001b[0m\u001b[0;34m]\u001b[0m \u001b[0;34m==\u001b[0m \u001b[0;34m'checkpoint_required'\u001b[0m\u001b[0;34m\u001b[0m\u001b[0;34m\u001b[0m\u001b[0m\n\u001b[0m\u001b[1;32m   1322\u001b[0m                         and two_step_verificator is not None):\n\u001b[1;32m   1323\u001b[0m                     response = self.__verify_two_step(response, cookies,\n",
            "\u001b[0;32m/usr/local/lib/python3.7/dist-packages/requests/models.py\u001b[0m in \u001b[0;36mjson\u001b[0;34m(self, **kwargs)\u001b[0m\n\u001b[1;32m    895\u001b[0m                     \u001b[0;31m# used.\u001b[0m\u001b[0;34m\u001b[0m\u001b[0;34m\u001b[0m\u001b[0;34m\u001b[0m\u001b[0m\n\u001b[1;32m    896\u001b[0m                     \u001b[0;32mpass\u001b[0m\u001b[0;34m\u001b[0m\u001b[0;34m\u001b[0m\u001b[0m\n\u001b[0;32m--> 897\u001b[0;31m         \u001b[0;32mreturn\u001b[0m \u001b[0mcomplexjson\u001b[0m\u001b[0;34m.\u001b[0m\u001b[0mloads\u001b[0m\u001b[0;34m(\u001b[0m\u001b[0mself\u001b[0m\u001b[0;34m.\u001b[0m\u001b[0mtext\u001b[0m\u001b[0;34m,\u001b[0m \u001b[0;34m**\u001b[0m\u001b[0mkwargs\u001b[0m\u001b[0;34m)\u001b[0m\u001b[0;34m\u001b[0m\u001b[0;34m\u001b[0m\u001b[0m\n\u001b[0m\u001b[1;32m    898\u001b[0m \u001b[0;34m\u001b[0m\u001b[0m\n\u001b[1;32m    899\u001b[0m     \u001b[0;34m@\u001b[0m\u001b[0mproperty\u001b[0m\u001b[0;34m\u001b[0m\u001b[0;34m\u001b[0m\u001b[0m\n",
            "\u001b[0;32m/usr/lib/python3.7/json/__init__.py\u001b[0m in \u001b[0;36mloads\u001b[0;34m(s, encoding, cls, object_hook, parse_float, parse_int, parse_constant, object_pairs_hook, **kw)\u001b[0m\n\u001b[1;32m    346\u001b[0m             \u001b[0mparse_int\u001b[0m \u001b[0;32mis\u001b[0m \u001b[0;32mNone\u001b[0m \u001b[0;32mand\u001b[0m \u001b[0mparse_float\u001b[0m \u001b[0;32mis\u001b[0m \u001b[0;32mNone\u001b[0m \u001b[0;32mand\u001b[0m\u001b[0;34m\u001b[0m\u001b[0;34m\u001b[0m\u001b[0m\n\u001b[1;32m    347\u001b[0m             parse_constant is None and object_pairs_hook is None and not kw):\n\u001b[0;32m--> 348\u001b[0;31m         \u001b[0;32mreturn\u001b[0m \u001b[0m_default_decoder\u001b[0m\u001b[0;34m.\u001b[0m\u001b[0mdecode\u001b[0m\u001b[0;34m(\u001b[0m\u001b[0ms\u001b[0m\u001b[0;34m)\u001b[0m\u001b[0;34m\u001b[0m\u001b[0;34m\u001b[0m\u001b[0m\n\u001b[0m\u001b[1;32m    349\u001b[0m     \u001b[0;32mif\u001b[0m \u001b[0mcls\u001b[0m \u001b[0;32mis\u001b[0m \u001b[0;32mNone\u001b[0m\u001b[0;34m:\u001b[0m\u001b[0;34m\u001b[0m\u001b[0;34m\u001b[0m\u001b[0m\n\u001b[1;32m    350\u001b[0m         \u001b[0mcls\u001b[0m \u001b[0;34m=\u001b[0m \u001b[0mJSONDecoder\u001b[0m\u001b[0;34m\u001b[0m\u001b[0;34m\u001b[0m\u001b[0m\n",
            "\u001b[0;32m/usr/lib/python3.7/json/decoder.py\u001b[0m in \u001b[0;36mdecode\u001b[0;34m(self, s, _w)\u001b[0m\n\u001b[1;32m    335\u001b[0m \u001b[0;34m\u001b[0m\u001b[0m\n\u001b[1;32m    336\u001b[0m         \"\"\"\n\u001b[0;32m--> 337\u001b[0;31m         \u001b[0mobj\u001b[0m\u001b[0;34m,\u001b[0m \u001b[0mend\u001b[0m \u001b[0;34m=\u001b[0m \u001b[0mself\u001b[0m\u001b[0;34m.\u001b[0m\u001b[0mraw_decode\u001b[0m\u001b[0;34m(\u001b[0m\u001b[0ms\u001b[0m\u001b[0;34m,\u001b[0m \u001b[0midx\u001b[0m\u001b[0;34m=\u001b[0m\u001b[0m_w\u001b[0m\u001b[0;34m(\u001b[0m\u001b[0ms\u001b[0m\u001b[0;34m,\u001b[0m \u001b[0;36m0\u001b[0m\u001b[0;34m)\u001b[0m\u001b[0;34m.\u001b[0m\u001b[0mend\u001b[0m\u001b[0;34m(\u001b[0m\u001b[0;34m)\u001b[0m\u001b[0;34m)\u001b[0m\u001b[0;34m\u001b[0m\u001b[0;34m\u001b[0m\u001b[0m\n\u001b[0m\u001b[1;32m    338\u001b[0m         \u001b[0mend\u001b[0m \u001b[0;34m=\u001b[0m \u001b[0m_w\u001b[0m\u001b[0;34m(\u001b[0m\u001b[0ms\u001b[0m\u001b[0;34m,\u001b[0m \u001b[0mend\u001b[0m\u001b[0;34m)\u001b[0m\u001b[0;34m.\u001b[0m\u001b[0mend\u001b[0m\u001b[0;34m(\u001b[0m\u001b[0;34m)\u001b[0m\u001b[0;34m\u001b[0m\u001b[0;34m\u001b[0m\u001b[0m\n\u001b[1;32m    339\u001b[0m         \u001b[0;32mif\u001b[0m \u001b[0mend\u001b[0m \u001b[0;34m!=\u001b[0m \u001b[0mlen\u001b[0m\u001b[0;34m(\u001b[0m\u001b[0ms\u001b[0m\u001b[0;34m)\u001b[0m\u001b[0;34m:\u001b[0m\u001b[0;34m\u001b[0m\u001b[0;34m\u001b[0m\u001b[0m\n",
            "\u001b[0;32m/usr/lib/python3.7/json/decoder.py\u001b[0m in \u001b[0;36mraw_decode\u001b[0;34m(self, s, idx)\u001b[0m\n\u001b[1;32m    353\u001b[0m             \u001b[0mobj\u001b[0m\u001b[0;34m,\u001b[0m \u001b[0mend\u001b[0m \u001b[0;34m=\u001b[0m \u001b[0mself\u001b[0m\u001b[0;34m.\u001b[0m\u001b[0mscan_once\u001b[0m\u001b[0;34m(\u001b[0m\u001b[0ms\u001b[0m\u001b[0;34m,\u001b[0m \u001b[0midx\u001b[0m\u001b[0;34m)\u001b[0m\u001b[0;34m\u001b[0m\u001b[0;34m\u001b[0m\u001b[0m\n\u001b[1;32m    354\u001b[0m         \u001b[0;32mexcept\u001b[0m \u001b[0mStopIteration\u001b[0m \u001b[0;32mas\u001b[0m \u001b[0merr\u001b[0m\u001b[0;34m:\u001b[0m\u001b[0;34m\u001b[0m\u001b[0;34m\u001b[0m\u001b[0m\n\u001b[0;32m--> 355\u001b[0;31m             \u001b[0;32mraise\u001b[0m \u001b[0mJSONDecodeError\u001b[0m\u001b[0;34m(\u001b[0m\u001b[0;34m\"Expecting value\"\u001b[0m\u001b[0;34m,\u001b[0m \u001b[0ms\u001b[0m\u001b[0;34m,\u001b[0m \u001b[0merr\u001b[0m\u001b[0;34m.\u001b[0m\u001b[0mvalue\u001b[0m\u001b[0;34m)\u001b[0m \u001b[0;32mfrom\u001b[0m \u001b[0;32mNone\u001b[0m\u001b[0;34m\u001b[0m\u001b[0;34m\u001b[0m\u001b[0m\n\u001b[0m\u001b[1;32m    356\u001b[0m         \u001b[0;32mreturn\u001b[0m \u001b[0mobj\u001b[0m\u001b[0;34m,\u001b[0m \u001b[0mend\u001b[0m\u001b[0;34m\u001b[0m\u001b[0;34m\u001b[0m\u001b[0m\n",
            "\u001b[0;31mJSONDecodeError\u001b[0m: Expecting value: line 1 column 1 (char 0)"
          ]
        }
      ]
    },
    {
      "cell_type": "code",
      "metadata": {
        "id": "7dy3yW-V9MKI",
        "colab": {
          "base_uri": "https://localhost:8080/"
        },
        "outputId": "5d0a4970-d79c-434a-f766-f7a63277c037"
      },
      "source": [
        "medias = instagram.get_medias_by_tag(hashtag, count=num_posts)\n",
        "len(medias)"
      ],
      "execution_count": null,
      "outputs": [
        {
          "output_type": "stream",
          "name": "stdout",
          "text": [
            "<built-in function exc_info>\n",
            "<built-in function exc_info>\n",
            "<built-in function exc_info>\n",
            "<built-in function exc_info>\n",
            "<built-in function exc_info>\n",
            "<built-in function exc_info>\n",
            "<built-in function exc_info>\n",
            "<built-in function exc_info>\n",
            "<built-in function exc_info>\n",
            "<built-in function exc_info>\n",
            "<built-in function exc_info>\n",
            "<built-in function exc_info>\n",
            "<built-in function exc_info>\n",
            "<built-in function exc_info>\n",
            "<built-in function exc_info>\n",
            "<built-in function exc_info>\n",
            "<built-in function exc_info>\n",
            "<built-in function exc_info>\n",
            "<built-in function exc_info>\n",
            "<built-in function exc_info>\n",
            "<built-in function exc_info>\n",
            "<built-in function exc_info>\n",
            "<built-in function exc_info>\n",
            "<built-in function exc_info>\n",
            "<built-in function exc_info>\n",
            "<built-in function exc_info>\n",
            "<built-in function exc_info>\n",
            "<built-in function exc_info>\n",
            "<built-in function exc_info>\n",
            "<built-in function exc_info>\n",
            "<built-in function exc_info>\n",
            "<built-in function exc_info>\n",
            "<built-in function exc_info>\n",
            "<built-in function exc_info>\n",
            "<built-in function exc_info>\n",
            "<built-in function exc_info>\n",
            "<built-in function exc_info>\n",
            "<built-in function exc_info>\n",
            "<built-in function exc_info>\n",
            "<built-in function exc_info>\n",
            "<built-in function exc_info>\n",
            "<built-in function exc_info>\n",
            "<built-in function exc_info>\n",
            "<built-in function exc_info>\n",
            "<built-in function exc_info>\n",
            "<built-in function exc_info>\n",
            "<built-in function exc_info>\n",
            "<built-in function exc_info>\n",
            "<built-in function exc_info>\n",
            "<built-in function exc_info>\n",
            "<built-in function exc_info>\n",
            "<built-in function exc_info>\n",
            "<built-in function exc_info>\n",
            "<built-in function exc_info>\n",
            "<built-in function exc_info>\n",
            "<built-in function exc_info>\n",
            "<built-in function exc_info>\n",
            "<built-in function exc_info>\n",
            "<built-in function exc_info>\n",
            "<built-in function exc_info>\n",
            "<built-in function exc_info>\n",
            "<built-in function exc_info>\n",
            "<built-in function exc_info>\n",
            "<built-in function exc_info>\n",
            "<built-in function exc_info>\n",
            "<built-in function exc_info>\n",
            "<built-in function exc_info>\n",
            "<built-in function exc_info>\n",
            "<built-in function exc_info>\n",
            "<built-in function exc_info>\n",
            "<built-in function exc_info>\n",
            "<built-in function exc_info>\n",
            "<built-in function exc_info>\n",
            "<built-in function exc_info>\n",
            "<built-in function exc_info>\n",
            "<built-in function exc_info>\n",
            "<built-in function exc_info>\n",
            "<built-in function exc_info>\n",
            "<built-in function exc_info>\n",
            "<built-in function exc_info>\n",
            "<built-in function exc_info>\n",
            "<built-in function exc_info>\n",
            "<built-in function exc_info>\n",
            "<built-in function exc_info>\n",
            "<built-in function exc_info>\n",
            "<built-in function exc_info>\n",
            "<built-in function exc_info>\n",
            "<built-in function exc_info>\n",
            "<built-in function exc_info>\n",
            "<built-in function exc_info>\n",
            "<built-in function exc_info>\n",
            "<built-in function exc_info>\n",
            "<built-in function exc_info>\n",
            "<built-in function exc_info>\n",
            "<built-in function exc_info>\n",
            "<built-in function exc_info>\n",
            "<built-in function exc_info>\n",
            "<built-in function exc_info>\n",
            "<built-in function exc_info>\n",
            "<built-in function exc_info>\n",
            "<built-in function exc_info>\n",
            "<built-in function exc_info>\n",
            "<built-in function exc_info>\n",
            "<built-in function exc_info>\n",
            "<built-in function exc_info>\n",
            "<built-in function exc_info>\n",
            "<built-in function exc_info>\n",
            "<built-in function exc_info>\n",
            "<built-in function exc_info>\n",
            "<built-in function exc_info>\n",
            "<built-in function exc_info>\n",
            "<built-in function exc_info>\n",
            "<built-in function exc_info>\n",
            "<built-in function exc_info>\n",
            "<built-in function exc_info>\n",
            "<built-in function exc_info>\n",
            "<built-in function exc_info>\n",
            "<built-in function exc_info>\n",
            "<built-in function exc_info>\n",
            "<built-in function exc_info>\n",
            "<built-in function exc_info>\n",
            "<built-in function exc_info>\n",
            "<built-in function exc_info>\n",
            "<built-in function exc_info>\n",
            "<built-in function exc_info>\n",
            "<built-in function exc_info>\n",
            "<built-in function exc_info>\n",
            "<built-in function exc_info>\n",
            "<built-in function exc_info>\n",
            "<built-in function exc_info>\n",
            "<built-in function exc_info>\n",
            "<built-in function exc_info>\n",
            "<built-in function exc_info>\n",
            "<built-in function exc_info>\n",
            "<built-in function exc_info>\n",
            "<built-in function exc_info>\n",
            "<built-in function exc_info>\n",
            "<built-in function exc_info>\n",
            "<built-in function exc_info>\n",
            "<built-in function exc_info>\n",
            "<built-in function exc_info>\n",
            "<built-in function exc_info>\n",
            "<built-in function exc_info>\n",
            "<built-in function exc_info>\n",
            "<built-in function exc_info>\n",
            "<built-in function exc_info>\n",
            "<built-in function exc_info>\n",
            "<built-in function exc_info>\n",
            "<built-in function exc_info>\n",
            "<built-in function exc_info>\n",
            "<built-in function exc_info>\n",
            "<built-in function exc_info>\n",
            "<built-in function exc_info>\n",
            "<built-in function exc_info>\n",
            "<built-in function exc_info>\n",
            "<built-in function exc_info>\n",
            "<built-in function exc_info>\n",
            "<built-in function exc_info>\n",
            "<built-in function exc_info>\n",
            "<built-in function exc_info>\n",
            "<built-in function exc_info>\n",
            "<built-in function exc_info>\n",
            "<built-in function exc_info>\n",
            "<built-in function exc_info>\n",
            "<built-in function exc_info>\n",
            "<built-in function exc_info>\n",
            "<built-in function exc_info>\n",
            "<built-in function exc_info>\n",
            "<built-in function exc_info>\n",
            "<built-in function exc_info>\n",
            "<built-in function exc_info>\n",
            "<built-in function exc_info>\n",
            "<built-in function exc_info>\n",
            "<built-in function exc_info>\n",
            "<built-in function exc_info>\n",
            "<built-in function exc_info>\n",
            "<built-in function exc_info>\n",
            "<built-in function exc_info>\n",
            "<built-in function exc_info>\n",
            "<built-in function exc_info>\n",
            "<built-in function exc_info>\n",
            "<built-in function exc_info>\n",
            "<built-in function exc_info>\n",
            "<built-in function exc_info>\n",
            "<built-in function exc_info>\n",
            "<built-in function exc_info>\n",
            "<built-in function exc_info>\n",
            "<built-in function exc_info>\n",
            "<built-in function exc_info>\n",
            "<built-in function exc_info>\n",
            "<built-in function exc_info>\n",
            "<built-in function exc_info>\n",
            "<built-in function exc_info>\n",
            "<built-in function exc_info>\n",
            "<built-in function exc_info>\n",
            "<built-in function exc_info>\n",
            "<built-in function exc_info>\n",
            "<built-in function exc_info>\n",
            "<built-in function exc_info>\n",
            "<built-in function exc_info>\n",
            "<built-in function exc_info>\n",
            "<built-in function exc_info>\n",
            "<built-in function exc_info>\n",
            "<built-in function exc_info>\n",
            "<built-in function exc_info>\n",
            "<built-in function exc_info>\n",
            "<built-in function exc_info>\n",
            "<built-in function exc_info>\n",
            "<built-in function exc_info>\n",
            "<built-in function exc_info>\n",
            "<built-in function exc_info>\n",
            "<built-in function exc_info>\n",
            "<built-in function exc_info>\n",
            "<built-in function exc_info>\n",
            "<built-in function exc_info>\n",
            "<built-in function exc_info>\n",
            "<built-in function exc_info>\n",
            "<built-in function exc_info>\n",
            "<built-in function exc_info>\n",
            "<built-in function exc_info>\n",
            "<built-in function exc_info>\n",
            "<built-in function exc_info>\n",
            "<built-in function exc_info>\n",
            "<built-in function exc_info>\n",
            "<built-in function exc_info>\n",
            "<built-in function exc_info>\n",
            "<built-in function exc_info>\n",
            "<built-in function exc_info>\n",
            "<built-in function exc_info>\n",
            "<built-in function exc_info>\n",
            "<built-in function exc_info>\n",
            "<built-in function exc_info>\n",
            "<built-in function exc_info>\n",
            "<built-in function exc_info>\n",
            "<built-in function exc_info>\n",
            "<built-in function exc_info>\n",
            "<built-in function exc_info>\n",
            "<built-in function exc_info>\n",
            "<built-in function exc_info>\n",
            "<built-in function exc_info>\n",
            "<built-in function exc_info>\n",
            "<built-in function exc_info>\n",
            "<built-in function exc_info>\n",
            "<built-in function exc_info>\n",
            "<built-in function exc_info>\n",
            "<built-in function exc_info>\n",
            "<built-in function exc_info>\n",
            "<built-in function exc_info>\n",
            "<built-in function exc_info>\n",
            "<built-in function exc_info>\n",
            "<built-in function exc_info>\n",
            "<built-in function exc_info>\n",
            "<built-in function exc_info>\n",
            "<built-in function exc_info>\n",
            "<built-in function exc_info>\n",
            "<built-in function exc_info>\n",
            "<built-in function exc_info>\n",
            "<built-in function exc_info>\n",
            "<built-in function exc_info>\n",
            "<built-in function exc_info>\n",
            "<built-in function exc_info>\n",
            "<built-in function exc_info>\n",
            "<built-in function exc_info>\n",
            "<built-in function exc_info>\n",
            "<built-in function exc_info>\n",
            "<built-in function exc_info>\n",
            "<built-in function exc_info>\n",
            "<built-in function exc_info>\n",
            "<built-in function exc_info>\n",
            "<built-in function exc_info>\n",
            "<built-in function exc_info>\n",
            "<built-in function exc_info>\n",
            "<built-in function exc_info>\n",
            "<built-in function exc_info>\n",
            "<built-in function exc_info>\n",
            "<built-in function exc_info>\n",
            "<built-in function exc_info>\n",
            "<built-in function exc_info>\n",
            "<built-in function exc_info>\n",
            "<built-in function exc_info>\n"
          ]
        }
      ]
    },
    {
      "cell_type": "code",
      "metadata": {
        "id": "1YmGx6Eb-Miy",
        "colab": {
          "base_uri": "https://localhost:8080/",
          "height": 201
        },
        "outputId": "c70b7e35-ede4-462d-b4b8-3d6aea90ba79"
      },
      "source": [
        "df = pd.DataFrame([vars(media) for media in medias])\n",
        "file_path = output_dir + hashtag + '.csv'\n",
        "df.to_csv(file_path)"
      ],
      "execution_count": null,
      "outputs": [
        {
          "output_type": "error",
          "ename": "NameError",
          "evalue": "ignored",
          "traceback": [
            "\u001b[0;31m---------------------------------------------------------------------------\u001b[0m",
            "\u001b[0;31mNameError\u001b[0m                                 Traceback (most recent call last)",
            "\u001b[0;32m<ipython-input-6-7013c1675783>\u001b[0m in \u001b[0;36m<module>\u001b[0;34m\u001b[0m\n\u001b[0;32m----> 1\u001b[0;31m \u001b[0mdf\u001b[0m \u001b[0;34m=\u001b[0m \u001b[0mpd\u001b[0m\u001b[0;34m.\u001b[0m\u001b[0mDataFrame\u001b[0m\u001b[0;34m(\u001b[0m\u001b[0;34m[\u001b[0m\u001b[0mvars\u001b[0m\u001b[0;34m(\u001b[0m\u001b[0mmedia\u001b[0m\u001b[0;34m)\u001b[0m \u001b[0;32mfor\u001b[0m \u001b[0mmedia\u001b[0m \u001b[0;32min\u001b[0m \u001b[0mmedias\u001b[0m\u001b[0;34m]\u001b[0m\u001b[0;34m)\u001b[0m\u001b[0;34m\u001b[0m\u001b[0;34m\u001b[0m\u001b[0m\n\u001b[0m\u001b[1;32m      2\u001b[0m \u001b[0mfile_path\u001b[0m \u001b[0;34m=\u001b[0m \u001b[0moutput_dir\u001b[0m \u001b[0;34m+\u001b[0m \u001b[0mhashtag\u001b[0m \u001b[0;34m+\u001b[0m \u001b[0;34m'.csv'\u001b[0m\u001b[0;34m\u001b[0m\u001b[0;34m\u001b[0m\u001b[0m\n\u001b[1;32m      3\u001b[0m \u001b[0mdf\u001b[0m\u001b[0;34m.\u001b[0m\u001b[0mto_csv\u001b[0m\u001b[0;34m(\u001b[0m\u001b[0mfile_path\u001b[0m\u001b[0;34m)\u001b[0m\u001b[0;34m\u001b[0m\u001b[0;34m\u001b[0m\u001b[0m\n",
            "\u001b[0;31mNameError\u001b[0m: name 'medias' is not defined"
          ]
        }
      ]
    },
    {
      "cell_type": "code",
      "metadata": {
        "id": "vg0IK4A1U7qs",
        "colab": {
          "base_uri": "https://localhost:8080/",
          "height": 374
        },
        "outputId": "7f5d06b4-1ff5-4513-a9dc-1b9a1b03b2fb"
      },
      "source": [
        "import time\n",
        "try:\n",
        "  time.sleep(2)\n",
        "  files.download(file_path)\n",
        "except:\n",
        "  time.sleep(2)\n",
        "  files.download(file_path)"
      ],
      "execution_count": null,
      "outputs": [
        {
          "output_type": "error",
          "ename": "NameError",
          "evalue": "ignored",
          "traceback": [
            "\u001b[0;31m---------------------------------------------------------------------------\u001b[0m",
            "\u001b[0;31mNameError\u001b[0m                                 Traceback (most recent call last)",
            "\u001b[0;32m<ipython-input-7-1cd0309874f8>\u001b[0m in \u001b[0;36m<module>\u001b[0;34m\u001b[0m\n\u001b[1;32m      3\u001b[0m   \u001b[0mtime\u001b[0m\u001b[0;34m.\u001b[0m\u001b[0msleep\u001b[0m\u001b[0;34m(\u001b[0m\u001b[0;36m2\u001b[0m\u001b[0;34m)\u001b[0m\u001b[0;34m\u001b[0m\u001b[0;34m\u001b[0m\u001b[0m\n\u001b[0;32m----> 4\u001b[0;31m   \u001b[0mfiles\u001b[0m\u001b[0;34m.\u001b[0m\u001b[0mdownload\u001b[0m\u001b[0;34m(\u001b[0m\u001b[0mfile_path\u001b[0m\u001b[0;34m)\u001b[0m\u001b[0;34m\u001b[0m\u001b[0;34m\u001b[0m\u001b[0m\n\u001b[0m\u001b[1;32m      5\u001b[0m \u001b[0;32mexcept\u001b[0m\u001b[0;34m:\u001b[0m\u001b[0;34m\u001b[0m\u001b[0;34m\u001b[0m\u001b[0m\n",
            "\u001b[0;31mNameError\u001b[0m: name 'file_path' is not defined",
            "\nDuring handling of the above exception, another exception occurred:\n",
            "\u001b[0;31mNameError\u001b[0m                                 Traceback (most recent call last)",
            "\u001b[0;32m<ipython-input-7-1cd0309874f8>\u001b[0m in \u001b[0;36m<module>\u001b[0;34m\u001b[0m\n\u001b[1;32m      5\u001b[0m \u001b[0;32mexcept\u001b[0m\u001b[0;34m:\u001b[0m\u001b[0;34m\u001b[0m\u001b[0;34m\u001b[0m\u001b[0m\n\u001b[1;32m      6\u001b[0m   \u001b[0mtime\u001b[0m\u001b[0;34m.\u001b[0m\u001b[0msleep\u001b[0m\u001b[0;34m(\u001b[0m\u001b[0;36m2\u001b[0m\u001b[0;34m)\u001b[0m\u001b[0;34m\u001b[0m\u001b[0;34m\u001b[0m\u001b[0m\n\u001b[0;32m----> 7\u001b[0;31m   \u001b[0mfiles\u001b[0m\u001b[0;34m.\u001b[0m\u001b[0mdownload\u001b[0m\u001b[0;34m(\u001b[0m\u001b[0mfile_path\u001b[0m\u001b[0;34m)\u001b[0m\u001b[0;34m\u001b[0m\u001b[0;34m\u001b[0m\u001b[0m\n\u001b[0m",
            "\u001b[0;31mNameError\u001b[0m: name 'file_path' is not defined"
          ]
        }
      ]
    }
  ]
}