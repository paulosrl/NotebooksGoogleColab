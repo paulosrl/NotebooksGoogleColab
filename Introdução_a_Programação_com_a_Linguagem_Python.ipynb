{
  "cells": [
    {
      "cell_type": "markdown",
      "metadata": {
        "id": "view-in-github",
        "colab_type": "text"
      },
      "source": [
        "<a href=\"https://colab.research.google.com/github/paulosrl/NotebooksGoogleColab/blob/main/Introdu%C3%A7%C3%A3o_a_Programa%C3%A7%C3%A3o_com_a_Linguagem_Python.ipynb\" target=\"_parent\"><img src=\"https://colab.research.google.com/assets/colab-badge.svg\" alt=\"Open In Colab\"/></a>"
      ]
    },
    {
      "cell_type": "markdown",
      "metadata": {
        "id": "-F7LD5SJy2eq"
      },
      "source": [
        "#Programando em Python no ambiente Google Colaboratory\n",
        "---\n",
        "Desenvolvimento: [Prof. Paulo Lima](https://paulolima.net.br)\n"
      ]
    },
    {
      "cell_type": "markdown",
      "metadata": {
        "id": "FXYBPEX2fPFQ"
      },
      "source": [
        "##01.A linguagem Python##"
      ]
    },
    {
      "cell_type": "markdown",
      "metadata": {
        "id": "jXIqa_ZecRxS"
      },
      "source": [
        "**Python** é uma linguagem de programação que permite desenvolver aplicações para jogos, web, computadores desktop além de dispostivos dispositivos móveis. A linguagem foi concebida no final de 1989 por Guido van Rossum no Instituto de Pesquisa Nacional para Matemática e Ciência da Computação (CWI), nos Países Baixos.\n",
        "\n",
        "Atualmente, possui um modelo de desenvolvimento comunitário, aberto e gerenciado pela organização sem fins lucrativos Python Software Foundation.\n",
        "\n",
        "<center><img src=\"https://github.com/paulosrl/imagens/blob/master/Guido.jpg?raw=true\" height=\"300px\">\n",
        "\n",
        "**[Guido van Rossum](https://www.unixmen.com/guido-van-rossum-python-creator/)**, criador da linguagem Python\n",
        "</center>"
      ]
    },
    {
      "cell_type": "markdown",
      "metadata": {
        "id": "bLDiA26ManAN"
      },
      "source": [
        "### **Ambiente de programação em nuvem Google Colaboratory**"
      ]
    },
    {
      "cell_type": "markdown",
      "metadata": {
        "id": "5fCEDCU_qrC0"
      },
      "source": [
        "\n",
        "<p><img alt=\"Colaboratory logo\" height=\"45px\" src=\"/img/colab_favicon.ico\" align=\"left\" hspace=\"10px\" vspace=\"0px\"></p>\n",
        "\n",
        "<h1>Google Colaboratory / Colab ?</h1>\n",
        "\n",
        "Permite escrever código **Python** no seu navegador, sem a necessidade de configuração local, acesso gratuito a GPUs* e de fácil compartilhamento.\n",
        "\n",
        "(*) A unidade de processamento gráfico, ou [GPU](https://www.intel.com/content/www/us/en/products/docs/processors/what-is-a-gpu.html), tornou-se um dos tipos mais importantes de tecnologia de computação, tanto para computação pessoal quanto empresarial. Projetada para processamento paralelo, a GPU é usada em uma ampla gama de aplicações, incluindo gráficos e renderização de vídeo. Embora sejam mais conhecidos por suas capacidades em jogos, as GPUs estão se tornando mais populares para uso em produção criativa e inteligência artificial (IA).\n",
        "\n",
        "Você pode ser um <strong>estudante</strong>, um <strong>cientista de dados</strong> ou um <strong>pesquisador de IA</strong>, o Colab pode facilitar seu trabalho. Assista ao vídeo <a href=\"https://www.youtube.com/watch?v=inN8seMm7UI\">Introdução ao Colab</a> para saber mais ou simplesmente comece a usá-lo abaixo!"
      ]
    },
    {
      "cell_type": "markdown",
      "metadata": {
        "id": "GJBs_flRovLc"
      },
      "source": [
        "<strong>Conhecendo o ambiente</strong>\n",
        "\n",
        "O documento que você está lendo não é uma página da Web estática, mas sim um ambiente interativo chamado <strong>notebook Colab</strong> que permite escrever e executar código.\n",
        "\n",
        "Por exemplo, aqui está uma <strong>célula de código</strong> com um breve script Python que calcula um valor, armazena-o em uma variável e imprime o resultado:"
      ]
    },
    {
      "cell_type": "code",
      "execution_count": null,
      "metadata": {
        "colab": {
          "base_uri": "https://localhost:8080/"
        },
        "id": "gJr_9dXGpJ05",
        "outputId": "38b873e3-0570-4aba-e98e-148338ce81d3"
      },
      "outputs": [
        {
          "data": {
            "text/plain": [
              "86400"
            ]
          },
          "execution_count": 1,
          "metadata": {},
          "output_type": "execute_result"
        }
      ],
      "source": [
        "segundos_em_um_dia = 24 * 60 * 60\n",
        "segundos_em_um_dia"
      ]
    },
    {
      "cell_type": "markdown",
      "metadata": {
        "id": "2fhs6GZ4qFMx"
      },
      "source": [
        "Para executar o código na célula acima, clique nela e depois pressione o botão Play à esquerda do código ou use o atalho do teclado \"Command/Ctrl+Enter\". Para editar o código, basta clicar na célula e começar a editar.\n",
        "\n",
        "As variáveis definidas em uma célula podem ser usadas mais tarde em outras células:"
      ]
    },
    {
      "cell_type": "code",
      "execution_count": null,
      "metadata": {
        "colab": {
          "background_save": true,
          "base_uri": "https://localhost:8080/"
        },
        "id": "-gE-Ez1qtyIA",
        "outputId": "936fa487-c754-4341-8186-f2453b383f7a"
      },
      "outputs": [
        {
          "data": {
            "text/plain": [
              "604800"
            ]
          },
          "execution_count": 2,
          "metadata": {},
          "output_type": "execute_result"
        }
      ],
      "source": [
        "segundos_em_uma_semana = 7 * segundos_em_um_dia\n",
        "segundos_em_uma_semana"
      ]
    },
    {
      "cell_type": "markdown",
      "metadata": {
        "id": "lSrWNr3MuFUS"
      },
      "source": [
        "Os notebooks do Colab permitem combinar <strong>código executável</strong> e <strong>rich text</strong> em um só documento, além de <strong>imagens</strong>, <strong>HTML</strong>, <strong>LaTeX</strong> e muito mais. Quando você cria seus próprios notebooks do Colab, eles são armazenados na sua conta do Google Drive. É possível compartilhar os notebooks do Colab facilmente com colegas de trabalho ou amigos e permitir que eles façam comentários ou até editem o documento. Para saber mais, consulte a <a href=\"/notebooks/basic_features_overview.ipynb\">Visão Geral do Colab</a>. Para criar um novo notebook do Colab, use o menu Arquivo acima ou acesse o seguinte: <a href=\"http://colab.research.google.com#create=true\">criar um novo notebook do Colab</a>.\n",
        "\n",
        "Os notebooks do **Colab** são notebooks do **Jupyter** hospedados no Colab. Para saber mais sobre o projeto Jupyter, acesse <a href=\"https://www.jupyter.org\">jupyter.org</a>."
      ]
    },
    {
      "cell_type": "markdown",
      "metadata": {
        "id": "Hndq-qd5us3q"
      },
      "source": [
        "## 02.Tipos de Dados, Identificadores e Operadores"
      ]
    },
    {
      "cell_type": "markdown",
      "metadata": {
        "id": "WbjvbRQh0JG8"
      },
      "source": [
        "### **Indentificadores**"
      ]
    },
    {
      "cell_type": "markdown",
      "metadata": {
        "id": "M7m98GIl0TUd"
      },
      "source": [
        "**Identificador** é o nome dado as variáveis, constantes e funções.\n",
        "\n",
        "Em **Python**, um identificador pode conter **apenas**:\n",
        "\n",
        "1.   As letras de A a Z (maiúsculas e minúsculas, sem acentuação)\n",
        "2.   Os dígitos de 0 a 9\n",
        "3.   O símbolo underscore _\n",
        "\n",
        "Um identificador deve começar obrigatoriamente com uma letra ou underscore.\n",
        "\n",
        "**Regras para formatação de Identificadores**\n",
        "\n",
        "Não devem conter espaços, caracteres especiais (@, !, *, -, &, ˜, etc) ou letras acentuadas (é, à, ã, ç, í, ö, ü, û, etc..).;\n",
        "\n",
        "Python faz diferenciação entre maiúsculas e minúsculas.\n",
        "\n",
        "Portanto, os caracteres permitidos em identificadores são:\n",
        "\n",
        "`ABCDEFGHIJKLMNOPQRSTUVWXYZabcdefghijklmnopqrstuvwxyz_0123456789`\n",
        "\n",
        "Exemplo: **MediaFinal** é diferente de **mediafinal**, que é diferente de **MEDIAFINAL**.\n",
        "\n",
        "**Exemplos de identificadores válidos**: i, _J, FRUTA, salario, A12, i23ER21\n",
        "\n",
        "**Exemplos de identificadores inválidos**: 25, nome-fruta, salário, 5Jose, A$1,Nome do aluno\n",
        "\n",
        "**Boas práticas para nomes de identificadores**\n",
        "\n",
        "*   Um identificador deve ser não apenas válido, mas também significativo/adequado;\n",
        "*   Um identificador deve descrever precisamente o dado que a variável armazena,\n",
        "\n",
        "**Exemplos de bons identificadores**\n",
        "\n",
        "1.   nome\n",
        "2.   preco_de_custo\n",
        "1.   nome_aluno\n",
        "2.   data_nascimento\n",
        "1.   sobre_nome\n",
        "2.   endereco_completo\n",
        "\n",
        "**Exemplos de identificadores ruins**\n",
        "\n",
        "1.   x\n",
        "2.   var1\n",
        "1.   teste1\n",
        "2.   valor\n",
        "1.   abc\n",
        "2.   temp123"
      ]
    },
    {
      "cell_type": "markdown",
      "metadata": {
        "id": "ojHCKlCy0iFU"
      },
      "source": [
        "### **Variável**"
      ]
    },
    {
      "cell_type": "markdown",
      "metadata": {
        "id": "oohxpY63u2JS"
      },
      "source": [
        "Uma **variável** é um espaço reservado na memória do computador (memória RAM) capaz de armazenar um valor ou uma expressão. Variáveis devem receber nomes (**identificadores**) para poderem ser referenciadas e modificadas quando necessário.\n",
        "\n",
        "**Atributos de uma variável**\n",
        "\n",
        "**Tipo:**Inteiro (int), real (float), lógico (bool) ou string (str);\n",
        "\n",
        "**Identificador:** apenas letras, números e underscore, iniciando com letra ou underscore;\n",
        "\n",
        "**Criação de variáveis em Pyhton**\n",
        "\n",
        "Para criar uma variável em Python basta atribuir um valor conforme a sintaxe a seguir:\n",
        "\n",
        "**variavel = expressão**\n",
        "\n",
        "Exemplos:\n",
        "\n",
        "*    nome = \"Bernardo\"\n",
        "*    nota_final = 10.0\n",
        "*    aprovado=True\n",
        "*    semestre=1\n",
        "\n",
        "**Expressão** pode ser um valor, uma outra variável, uma expressão aritmética ou o retorno de uma função.\n",
        "\n",
        "O **tipo da variável** é definido **dinamicamente** conforme o tipo do valor atribuído.\n",
        "\n",
        "**Criando variáveis**\n",
        "\n",
        "Variáveis em Python **não são declaradas** como em outras linguagens (como: Pascal, C, C++, Java, etc),  as variáveis são **criadas** a partir da atribuição de um valor a uma variável ou expressão. O comando de atribuição, representado pelo sinal de igualdade (**=**), é o responsável por atribuir (ou armazenar) um valor em uma variável.\n",
        "\n",
        "Vejamos agora alguns exemplos:"
      ]
    },
    {
      "cell_type": "markdown",
      "metadata": {
        "id": "lp2Wvr8GkHMW"
      },
      "source": [
        "**Comentários no Programa Python**"
      ]
    },
    {
      "cell_type": "markdown",
      "metadata": {
        "id": "HVadwnjh_niu"
      },
      "source": [
        "Algumas vezes é necessário inserir comentários para documentar um programa. Para escrever um comentário deve-se iniciá-lo com o caractere \"#\", caso o comentário seja de uma linha apenas.\n",
        "\n",
        "**Exemplo:**\n",
        "\n",
        "media_final = (p1+p2+p3) / 3 **# calcula a média final**\n",
        "\n",
        "Os comentários não farão parte da execução do programa, é apenas um recurso para que o programador documente o que está fazendo dentro do programa.\n",
        "\n",
        "Caso deseje comentários com mais de uma linha eles devem iniciar por três aspas duplas e finalizar também com três aspas duplas.\n",
        "\n",
        "**Exemplo:**\n",
        "\n",
        "\"\"\"\n",
        "Este programa\n",
        "\n",
        "faz a leitura de um arquivo de notas\n",
        "\n",
        "de 100 alunos e calcula a média da\n",
        "\n",
        "turma\n",
        "\n",
        "\"\"\""
      ]
    },
    {
      "cell_type": "code",
      "execution_count": null,
      "metadata": {
        "colab": {
          "background_save": true,
          "base_uri": "https://localhost:8080/",
          "height": 35
        },
        "id": "ycE3vTmD__RM",
        "outputId": "a065bb42-47ea-4565-b7b5-a78ee4ad6bff"
      },
      "outputs": [
        {
          "data": {
            "application/vnd.google.colaboratory.intrinsic+json": {
              "type": "string"
            },
            "text/plain": [
              "'\\nComentário de mais\\nde uma linha\\n'"
            ]
          },
          "execution_count": 3,
          "metadata": {},
          "output_type": "execute_result"
        }
      ],
      "source": [
        "#comentário de uma linha 1 use \"#\" no início do comentário\n",
        "#comentário dois\n",
        "# a seguir comentário em mais de uma linha, usado: \"\"\"\n",
        "\n",
        "\"\"\"\n",
        "Comentário de mais\n",
        "de uma linha\n",
        "\"\"\""
      ]
    },
    {
      "cell_type": "markdown",
      "metadata": {
        "id": "FkjmKe6TLFRa"
      },
      "source": [
        "#### <font color='#A9C9FC'> Exemplo-001: Criando variáveis</font>\n",
        "---"
      ]
    },
    {
      "cell_type": "code",
      "execution_count": null,
      "metadata": {
        "colab": {
          "background_save": true
        },
        "id": "sBg7I7ELS6Dy"
      },
      "outputs": [],
      "source": [
        "#criando a variável idade\n",
        "idade = 22"
      ]
    },
    {
      "cell_type": "code",
      "execution_count": null,
      "metadata": {
        "colab": {
          "background_save": true,
          "base_uri": "https://localhost:8080/"
        },
        "id": "0EpYlzZ4TFFA",
        "outputId": "b4a7ed45-0a3b-41d3-9abc-35f73ce71490"
      },
      "outputs": [
        {
          "data": {
            "text/plain": [
              "22"
            ]
          },
          "execution_count": 5,
          "metadata": {},
          "output_type": "execute_result"
        }
      ],
      "source": [
        "#exibindo o conteúdo da variável idade\n",
        "idade"
      ]
    },
    {
      "cell_type": "code",
      "execution_count": null,
      "metadata": {
        "colab": {
          "background_save": true,
          "base_uri": "https://localhost:8080/"
        },
        "id": "VjQ0GVlNXO_8",
        "outputId": "065b8173-c5a3-42d9-805a-c3c485f109da"
      },
      "outputs": [
        {
          "data": {
            "text/plain": [
              "8.0"
            ]
          },
          "execution_count": 6,
          "metadata": {},
          "output_type": "execute_result"
        }
      ],
      "source": [
        "#calcula media entre Nota1 e Nota2\n",
        "Nota1 = 7\n",
        "Nota2 = 9\n",
        "Media = (Nota1 + Nota2)/2\n",
        "Media"
      ]
    },
    {
      "cell_type": "code",
      "execution_count": null,
      "metadata": {
        "colab": {
          "background_save": true
        },
        "id": "YcBpnU9QTHFJ"
      },
      "outputs": [],
      "source": [
        "#criando a variável sobreNome\n",
        "sobreNome = 'Lima'"
      ]
    },
    {
      "cell_type": "code",
      "execution_count": null,
      "metadata": {
        "colab": {
          "background_save": true,
          "base_uri": "https://localhost:8080/",
          "height": 35
        },
        "id": "TrQWzzIVTQSE",
        "outputId": "73c039d5-29f9-44d9-c72f-657d8e40dea9"
      },
      "outputs": [
        {
          "data": {
            "application/vnd.google.colaboratory.intrinsic+json": {
              "type": "string"
            },
            "text/plain": [
              "'Lima'"
            ]
          },
          "execution_count": 8,
          "metadata": {},
          "output_type": "execute_result"
        }
      ],
      "source": [
        "#exibindo o conteúdo da variável sobreNome\n",
        "sobreNome"
      ]
    },
    {
      "cell_type": "code",
      "execution_count": null,
      "metadata": {
        "colab": {
          "background_save": true
        },
        "id": "-77JhzxlTe0E"
      },
      "outputs": [],
      "source": [
        "#criando a variável aprovado\n",
        "aprovado = True"
      ]
    },
    {
      "cell_type": "code",
      "execution_count": null,
      "metadata": {
        "colab": {
          "background_save": true,
          "base_uri": "https://localhost:8080/"
        },
        "id": "BF4yV-QLTkvw",
        "outputId": "03f2bee5-8ba6-4a6a-b2ec-ce0dbd892f6c"
      },
      "outputs": [
        {
          "data": {
            "text/plain": [
              "True"
            ]
          },
          "execution_count": 10,
          "metadata": {},
          "output_type": "execute_result"
        }
      ],
      "source": [
        "#exibindo o conteúdo da variável aprovado\n",
        "aprovado"
      ]
    },
    {
      "cell_type": "markdown",
      "metadata": {
        "id": "cb17MviSrlqP"
      },
      "source": [
        "#### Exibindo o valor de uma variável ou expressão"
      ]
    },
    {
      "cell_type": "markdown",
      "metadata": {
        "id": "EHI1v1unXd-A"
      },
      "source": [
        "Como já visto anteriormente, é possível exibir o valor de uma variável escrevendo apenas o seu nome. Este formato é bastante limitado, pois não permite formatações adicionias, uma vez que exibe apenas o conetúdo da variável.\n",
        "\n",
        "Quando é necessário escrever o conteúdo de mais de uma variável este formato torna-se limitado, pois só é possível escrever apenas um conteúdo de cada vez.\n",
        "\n",
        "Exemplo:\n",
        "\n",
        "Escrevendo o conteúdo da variável **nome** e **dia**."
      ]
    },
    {
      "cell_type": "code",
      "execution_count": null,
      "metadata": {
        "colab": {
          "background_save": true,
          "base_uri": "https://localhost:8080/"
        },
        "id": "ms8Jg3yohHZq",
        "outputId": "9b85ead6-3bdc-4d69-8ffa-a2e97136a143"
      },
      "outputs": [
        {
          "data": {
            "text/plain": [
              "17"
            ]
          },
          "execution_count": 11,
          "metadata": {},
          "output_type": "execute_result"
        }
      ],
      "source": [
        "nome = \"Bernardo\"\n",
        "nome\n",
        "dia = 17\n",
        "dia"
      ]
    },
    {
      "cell_type": "markdown",
      "metadata": {
        "id": "Tg92HsIHunhn"
      },
      "source": [
        "Observe que não foi exibido o conbteúdo da variável nome, apenas o conteúdo da variável dia foi escrito, para que fosse possível escrever os dois conteúdos seria necessário utilizar um método em Python chamado ***print***.\n",
        "\n",
        "Quando usamos o método print com uma variável entre parênteses, ele imprime o conteúdo dessa variável, ou seja, o valor que está armazenado dentro dela.\n",
        "\n",
        "Nós podemos montar mensagens um pouco mais sofisticadas juntando texto e variáveis em um único comando print()."
      ]
    },
    {
      "cell_type": "code",
      "execution_count": null,
      "metadata": {
        "colab": {
          "background_save": true,
          "base_uri": "https://localhost:8080/"
        },
        "id": "gF2Cp4-IvtMA",
        "outputId": "8479e549-3299-4cd1-997a-93fdeb7515cf"
      },
      "outputs": [
        {
          "name": "stdout",
          "output_type": "stream",
          "text": [
            "17\n",
            "Bernardo\n",
            "Lima\n"
          ]
        }
      ],
      "source": [
        "diaNascimento = 17\n",
        "nome=\"Bernardo\"\n",
        "sobreNome=\"Lima\"\n",
        "print(diaNascimento)\n",
        "print(nome)\n",
        "print(sobreNome)"
      ]
    },
    {
      "cell_type": "code",
      "execution_count": null,
      "metadata": {
        "colab": {
          "background_save": true,
          "base_uri": "https://localhost:8080/"
        },
        "id": "-ZhQo5YItYCM",
        "outputId": "4c60c412-a645-4ddd-81d5-27d2b05875a0"
      },
      "outputs": [
        {
          "name": "stdout",
          "output_type": "stream",
          "text": [
            "Nome: Bernardo Sobrenome: Lima Dia nascimento: 17\n"
          ]
        }
      ],
      "source": [
        "diaNascimento = 17\n",
        "nome=\"Bernardo\"\n",
        "sobreNome=\"Lima\"\n",
        "print(\"Nome:\",nome,\"Sobrenome:\",sobreNome,\"Dia nascimento:\",diaNascimento)"
      ]
    },
    {
      "cell_type": "markdown",
      "metadata": {
        "id": "D_Kc_4QquHye"
      },
      "source": [
        "Em Python utiliza-se o método  ***print*** para impressão de valores, variáveis e expressões.\n"
      ]
    },
    {
      "cell_type": "markdown",
      "metadata": {
        "id": "b4lkTOaGhHZs"
      },
      "source": [
        "Já nesse exemplo, ao executar o comando *print(sobrenome)*, o resultado apresentado foi o nome `Rodrigues Lima`.\n",
        "\n",
        "A diferença é que no primeiro exemplo pedimos para o Python imprimir o **texto** `'sobrenome'`, enquanto que no segundo pedimos ao Python para imprimir o conteúdo da variável `sobrenome`. A diferença está no apóstrofo (ou, como alguns costumam chamar, aspas simples). A presença de apóstrofos indica um texto, enquanto que a falta deles indica que se deseja imprimir uma variável."
      ]
    },
    {
      "cell_type": "code",
      "execution_count": null,
      "metadata": {
        "colab": {
          "background_save": true,
          "base_uri": "https://localhost:8080/"
        },
        "id": "j-9IRH2ChHZu",
        "outputId": "21d90e3d-1777-48df-a1aa-3e6c9d487a25"
      },
      "outputs": [
        {
          "name": "stdout",
          "output_type": "stream",
          "text": [
            "22\n"
          ]
        }
      ],
      "source": [
        "print(idade)"
      ]
    },
    {
      "cell_type": "code",
      "execution_count": null,
      "metadata": {
        "colab": {
          "background_save": true,
          "base_uri": "https://localhost:8080/"
        },
        "id": "I4TmDaA2hHZy",
        "outputId": "584d959e-5402-4096-f071-c4c92b5569fe"
      },
      "outputs": [
        {
          "name": "stdout",
          "output_type": "stream",
          "text": [
            "True\n"
          ]
        }
      ],
      "source": [
        "print(aprovado)"
      ]
    },
    {
      "cell_type": "markdown",
      "metadata": {
        "id": "uF26uOHWhHZ1"
      },
      "source": []
    },
    {
      "cell_type": "code",
      "execution_count": null,
      "metadata": {
        "colab": {
          "background_save": true,
          "base_uri": "https://localhost:8080/"
        },
        "id": "10H_e02mhHZ1",
        "outputId": "4e6e629e-1842-4bd4-c88a-fc349b5aacbf"
      },
      "outputs": [
        {
          "name": "stdout",
          "output_type": "stream",
          "text": [
            "Sobrenome: Lima\n"
          ]
        }
      ],
      "source": [
        "print('Sobrenome: '+sobreNome)"
      ]
    },
    {
      "cell_type": "code",
      "execution_count": null,
      "metadata": {
        "colab": {
          "background_save": true,
          "base_uri": "https://localhost:8080/"
        },
        "id": "jobfq_uPhHZ3",
        "outputId": "80d26b79-bc7b-400a-df35-ee49315d0e64"
      },
      "outputs": [
        {
          "name": "stdout",
          "output_type": "stream",
          "text": [
            "Sobrenome: Lima\n"
          ]
        }
      ],
      "source": [
        "# Podemos também usar a vírgula ao invés do símbolo +\n",
        "print('Sobrenome:',sobreNome)"
      ]
    },
    {
      "cell_type": "code",
      "execution_count": null,
      "metadata": {
        "colab": {
          "background_save": true,
          "base_uri": "https://localhost:8080/"
        },
        "id": "c59CVtCyhHZ7",
        "outputId": "34e288ca-484e-4f63-d01c-a50a71b8965d"
      },
      "outputs": [
        {
          "name": "stdout",
          "output_type": "stream",
          "text": [
            "O sobrenome do aluno é Lima, que está com 22 anos de idade\n"
          ]
        }
      ],
      "source": [
        "# A forma mais utilizada na versão 3 do Python, entretanto, é usar o método format.\n",
        "print('O sobrenome do aluno é {}, que está com {} anos de idade'.format(sobreNome, idade))"
      ]
    },
    {
      "cell_type": "markdown",
      "metadata": {
        "id": "eSvR9oeDT34C"
      },
      "source": [
        "###**Operadores**"
      ]
    },
    {
      "cell_type": "markdown",
      "metadata": {
        "id": "QwWbcBKwhjH9"
      },
      "source": [
        "#### <font color='#A9C9FC'> Exemplo-002: Operadores aritméticos</font>\n",
        "---\n",
        "**Operadores aritméticos**\n",
        "\n",
        "\n",
        "| Operador | Significado   | Exemplo                    |\n",
        "|:---|:---|:---|\n",
        "|     +    | Adição        | a = 3 + 2                  |\n",
        "|     -    | Subtração     | b = 7 - a                  |\n",
        "|     *    | Multiplicação | c = a * b                  |\n",
        "|     /    | Divisão       | d = 10/3                   |\n",
        "|    //    | Quociente     | e = 10//3                  |\n",
        "|     %    | Resto         | f = 10%3                   |\n",
        "|    **    | Exponenciação | g = 2 ** 3                 |\n",
        "|    **    | Radiciação    | h = 16 ** (1/2)            |\n",
        "\n",
        "**Precedência de Operadores**\n",
        "\n",
        "1. Parênteses\n",
        "2. Potenciação\n",
        "3. Multiplicação e divisão\n",
        "4. Soma e substração\n"
      ]
    },
    {
      "cell_type": "markdown",
      "metadata": {
        "id": "ORsapKojoBqn"
      },
      "source": [
        "**Exemplo 002 – Operadores**"
      ]
    },
    {
      "cell_type": "code",
      "execution_count": null,
      "metadata": {
        "colab": {
          "background_save": true,
          "base_uri": "https://localhost:8080/"
        },
        "id": "hmtidj8jhHYb",
        "outputId": "10cd020e-62a9-4931-aaac-682486579b9b"
      },
      "outputs": [
        {
          "data": {
            "text/plain": [
              "5"
            ]
          },
          "execution_count": 19,
          "metadata": {},
          "output_type": "execute_result"
        }
      ],
      "source": [
        "# Adição\n",
        "3 + 2"
      ]
    },
    {
      "cell_type": "code",
      "execution_count": null,
      "metadata": {
        "colab": {
          "background_save": true,
          "base_uri": "https://localhost:8080/"
        },
        "id": "AuzWhT4BhHYe",
        "outputId": "81a44d62-e6c3-4edb-8a41-8a967e852652"
      },
      "outputs": [
        {
          "data": {
            "text/plain": [
              "2"
            ]
          },
          "execution_count": 20,
          "metadata": {},
          "output_type": "execute_result"
        }
      ],
      "source": [
        "# Subtração\n",
        "7-5"
      ]
    },
    {
      "cell_type": "code",
      "execution_count": null,
      "metadata": {
        "colab": {
          "background_save": true,
          "base_uri": "https://localhost:8080/"
        },
        "id": "_Z6UOOObhHYg",
        "outputId": "7644c520-c78b-4060-c399-3becd16f4f63"
      },
      "outputs": [
        {
          "data": {
            "text/plain": [
              "6"
            ]
          },
          "execution_count": 21,
          "metadata": {},
          "output_type": "execute_result"
        }
      ],
      "source": [
        "# Multiplicação\n",
        "2 * 3"
      ]
    },
    {
      "cell_type": "code",
      "execution_count": null,
      "metadata": {
        "colab": {
          "background_save": true,
          "base_uri": "https://localhost:8080/"
        },
        "id": "U7xSSAHfhHYk",
        "outputId": "6e7ba4c0-2407-4f25-8384-040edf0be8da"
      },
      "outputs": [
        {
          "data": {
            "text/plain": [
              "10.5"
            ]
          },
          "execution_count": 22,
          "metadata": {},
          "output_type": "execute_result"
        }
      ],
      "source": [
        "3 * 3.5"
      ]
    },
    {
      "cell_type": "code",
      "execution_count": null,
      "metadata": {
        "colab": {
          "background_save": true,
          "base_uri": "https://localhost:8080/"
        },
        "id": "kjVZow0ThHYm",
        "outputId": "e1084093-37e7-4a73-8189-c660133bae46"
      },
      "outputs": [
        {
          "data": {
            "text/plain": [
              "20.0"
            ]
          },
          "execution_count": 23,
          "metadata": {},
          "output_type": "execute_result"
        }
      ],
      "source": [
        "4 * 5.0"
      ]
    },
    {
      "cell_type": "code",
      "execution_count": null,
      "metadata": {
        "colab": {
          "background_save": true,
          "base_uri": "https://localhost:8080/"
        },
        "id": "Q-zId5u2hHYo",
        "outputId": "cd24631c-aa02-41d0-8f84-21c187c8189b"
      },
      "outputs": [
        {
          "data": {
            "text/plain": [
              "3.0"
            ]
          },
          "execution_count": 24,
          "metadata": {},
          "output_type": "execute_result"
        }
      ],
      "source": [
        "# Divisão\n",
        "9 / 3"
      ]
    },
    {
      "cell_type": "code",
      "execution_count": null,
      "metadata": {
        "colab": {
          "background_save": true,
          "base_uri": "https://localhost:8080/"
        },
        "id": "9PdOiKzDhHYq",
        "outputId": "fe870e8b-cfac-4035-f41d-5aa677a50b6c"
      },
      "outputs": [
        {
          "data": {
            "text/plain": [
              "3.3333333333333335"
            ]
          },
          "execution_count": 25,
          "metadata": {},
          "output_type": "execute_result"
        }
      ],
      "source": [
        "10 / 3"
      ]
    },
    {
      "cell_type": "code",
      "execution_count": null,
      "metadata": {
        "colab": {
          "background_save": true,
          "base_uri": "https://localhost:8080/"
        },
        "id": "VYQZbuz5hHYt",
        "outputId": "90d5a255-1ec0-4bd9-c71a-95903890f68c"
      },
      "outputs": [
        {
          "data": {
            "text/plain": [
              "3.0"
            ]
          },
          "execution_count": 26,
          "metadata": {},
          "output_type": "execute_result"
        }
      ],
      "source": [
        "9 / 3.0"
      ]
    },
    {
      "cell_type": "code",
      "execution_count": null,
      "metadata": {
        "colab": {
          "background_save": true,
          "base_uri": "https://localhost:8080/"
        },
        "id": "9hH3-JnohHYu",
        "outputId": "047d3d1f-11ee-4ddb-f8d5-2ff90f5de260"
      },
      "outputs": [
        {
          "data": {
            "text/plain": [
              "2"
            ]
          },
          "execution_count": 27,
          "metadata": {},
          "output_type": "execute_result"
        }
      ],
      "source": [
        "# Divisão - calculando o coeficiente\n",
        "5 // 2"
      ]
    },
    {
      "cell_type": "code",
      "execution_count": null,
      "metadata": {
        "colab": {
          "background_save": true,
          "base_uri": "https://localhost:8080/"
        },
        "id": "p-Fq2w2nhHYw",
        "outputId": "c1f3cbc3-bc8b-4d0b-b8c5-58eca0ff0381"
      },
      "outputs": [
        {
          "data": {
            "text/plain": [
              "2.0"
            ]
          },
          "execution_count": 28,
          "metadata": {},
          "output_type": "execute_result"
        }
      ],
      "source": [
        "# Divisão - calculando o coeficiente\n",
        "5.0 // 2"
      ]
    },
    {
      "cell_type": "code",
      "execution_count": null,
      "metadata": {
        "colab": {
          "background_save": true,
          "base_uri": "https://localhost:8080/"
        },
        "id": "IXdX6a4NhHY0",
        "outputId": "70141081-e801-41d3-8196-6f73c8afef14"
      },
      "outputs": [
        {
          "data": {
            "text/plain": [
              "3.0"
            ]
          },
          "execution_count": 29,
          "metadata": {},
          "output_type": "execute_result"
        }
      ],
      "source": [
        "# Divisão - calculando o coeficiente\n",
        "4 // 1.2"
      ]
    },
    {
      "cell_type": "code",
      "execution_count": null,
      "metadata": {
        "colab": {
          "background_save": true,
          "base_uri": "https://localhost:8080/"
        },
        "id": "kRN-9dPChHY3",
        "outputId": "dfc462dd-4215-46ba-84b8-71b53239d1bf"
      },
      "outputs": [
        {
          "data": {
            "text/plain": [
              "1"
            ]
          },
          "execution_count": 30,
          "metadata": {},
          "output_type": "execute_result"
        }
      ],
      "source": [
        "# Divisão - calculando o resto\n",
        "5 % 2"
      ]
    },
    {
      "cell_type": "code",
      "execution_count": null,
      "metadata": {
        "colab": {
          "background_save": true,
          "base_uri": "https://localhost:8080/"
        },
        "id": "t9g9n7RyhHY4",
        "outputId": "37758e0c-416c-4164-9db2-9dc1013c2eb8"
      },
      "outputs": [
        {
          "data": {
            "text/plain": [
              "1.5"
            ]
          },
          "execution_count": 31,
          "metadata": {},
          "output_type": "execute_result"
        }
      ],
      "source": [
        "# Divisão - calculando o coeficiente\n",
        "9 % 2.5"
      ]
    },
    {
      "cell_type": "code",
      "execution_count": null,
      "metadata": {
        "colab": {
          "background_save": true,
          "base_uri": "https://localhost:8080/"
        },
        "id": "pSy-1N8HhHY6",
        "outputId": "b6b84126-fe35-4ba9-b585-535eb72289dd"
      },
      "outputs": [
        {
          "data": {
            "text/plain": [
              "9"
            ]
          },
          "execution_count": 32,
          "metadata": {},
          "output_type": "execute_result"
        }
      ],
      "source": [
        "# Potenciação: (1) Exponenciação e (2) Radiciação\n",
        "# (1) Exponenciação\n",
        "3 ** 2"
      ]
    },
    {
      "cell_type": "code",
      "execution_count": null,
      "metadata": {
        "colab": {
          "background_save": true,
          "base_uri": "https://localhost:8080/"
        },
        "id": "ZfmO6MH9hHY9",
        "outputId": "2ce91914-c389-457c-aa50-ee28150b3f4b"
      },
      "outputs": [
        {
          "data": {
            "text/plain": [
              "1024"
            ]
          },
          "execution_count": 33,
          "metadata": {},
          "output_type": "execute_result"
        }
      ],
      "source": [
        "2 ** 10"
      ]
    },
    {
      "cell_type": "code",
      "execution_count": null,
      "metadata": {
        "colab": {
          "background_save": true
        },
        "id": "rvgydecYmd2r"
      },
      "outputs": [],
      "source": []
    },
    {
      "cell_type": "code",
      "execution_count": null,
      "metadata": {
        "colab": {
          "background_save": true,
          "base_uri": "https://localhost:8080/"
        },
        "id": "kPsruRwbhHY_",
        "outputId": "19a38862-0b6f-486d-b4bc-1bec9947dfdc"
      },
      "outputs": [
        {
          "data": {
            "text/plain": [
              "3.0"
            ]
          },
          "execution_count": 34,
          "metadata": {},
          "output_type": "execute_result"
        }
      ],
      "source": [
        "# (2) Radiciação\n",
        "# Raiz quadrada de 9\n",
        "9 ** (1/2)"
      ]
    },
    {
      "cell_type": "code",
      "execution_count": null,
      "metadata": {
        "colab": {
          "background_save": true,
          "base_uri": "https://localhost:8080/"
        },
        "id": "g5TOkLtPhHZA",
        "outputId": "6f523f06-e875-4233-faf6-95ad9045e86e"
      },
      "outputs": [
        {
          "data": {
            "text/plain": [
              "4.0"
            ]
          },
          "execution_count": 35,
          "metadata": {},
          "output_type": "execute_result"
        }
      ],
      "source": [
        "# Raiz quadrada de 16 (elevando a 0.5 ao invés da fração 1/2)\n",
        "16 ** 0.5"
      ]
    },
    {
      "cell_type": "code",
      "execution_count": null,
      "metadata": {
        "colab": {
          "background_save": true,
          "base_uri": "https://localhost:8080/"
        },
        "id": "b9ag2WqhhHZC",
        "outputId": "640d28b6-1476-4800-99eb-1f3320b198e5"
      },
      "outputs": [
        {
          "data": {
            "text/plain": [
              "3.0"
            ]
          },
          "execution_count": 36,
          "metadata": {},
          "output_type": "execute_result"
        }
      ],
      "source": [
        "# Raiz cúbica de 27\n",
        "27 ** (1/3)"
      ]
    },
    {
      "cell_type": "code",
      "execution_count": null,
      "metadata": {
        "colab": {
          "background_save": true,
          "base_uri": "https://localhost:8080/"
        },
        "id": "M3FU63Y4iG-y",
        "outputId": "29deae9e-a32c-4f70-bda7-ee65ef378e8a"
      },
      "outputs": [
        {
          "data": {
            "text/plain": [
              "16"
            ]
          },
          "execution_count": 37,
          "metadata": {},
          "output_type": "execute_result"
        }
      ],
      "source": [
        "# Divisão - calculando o coeficiente\n",
        "1015 // 60"
      ]
    },
    {
      "cell_type": "code",
      "execution_count": null,
      "metadata": {
        "colab": {
          "background_save": true,
          "base_uri": "https://localhost:8080/"
        },
        "id": "tcUAtA1diG-z",
        "outputId": "36a11715-81ed-4aae-e594-8bb6966bc7d7"
      },
      "outputs": [
        {
          "data": {
            "text/plain": [
              "55"
            ]
          },
          "execution_count": 38,
          "metadata": {},
          "output_type": "execute_result"
        }
      ],
      "source": [
        "# resto da divisão\n",
        "1015 % 60"
      ]
    },
    {
      "cell_type": "code",
      "execution_count": null,
      "metadata": {
        "colab": {
          "background_save": true,
          "base_uri": "https://localhost:8080/"
        },
        "id": "oSGwVHxviG92",
        "outputId": "e4acec1f-e0f9-4223-88ad-1cef5af72886"
      },
      "outputs": [
        {
          "data": {
            "text/plain": [
              "4.0"
            ]
          },
          "execution_count": 39,
          "metadata": {},
          "output_type": "execute_result"
        }
      ],
      "source": [
        "2 + 4 / 2"
      ]
    },
    {
      "cell_type": "code",
      "execution_count": null,
      "metadata": {
        "colab": {
          "background_save": true,
          "base_uri": "https://localhost:8080/"
        },
        "id": "wuX0wBo_nKB1",
        "outputId": "c68b3127-92cf-46b1-ccc3-754eebe0edf9"
      },
      "outputs": [
        {
          "data": {
            "text/plain": [
              "3.0"
            ]
          },
          "execution_count": 40,
          "metadata": {},
          "output_type": "execute_result"
        }
      ],
      "source": [
        "(2 + 4) / 2"
      ]
    },
    {
      "cell_type": "markdown",
      "metadata": {
        "id": "oAvJGuDznQiU"
      },
      "source": [
        "**Exercício**\n",
        "\n",
        "Converter as equações em expressões aritméticas válidas no Python."
      ]
    },
    {
      "cell_type": "markdown",
      "metadata": {
        "id": "ptDEMGX-hHZE"
      },
      "source": [
        "Eq1.\n",
        "\n",
        "$ 2+3*4/5-6 $"
      ]
    },
    {
      "cell_type": "code",
      "execution_count": null,
      "metadata": {
        "colab": {
          "background_save": true,
          "base_uri": "https://localhost:8080/"
        },
        "id": "-cYYJ0G0hHZE",
        "outputId": "8f1fc3ef-21ad-4734-fdb4-86582791e4c6"
      },
      "outputs": [
        {
          "data": {
            "text/plain": [
              "-1.5999999999999996"
            ]
          },
          "execution_count": 41,
          "metadata": {},
          "output_type": "execute_result"
        }
      ],
      "source": [
        "2 + 3 * 4 / 5 - 6"
      ]
    },
    {
      "cell_type": "markdown",
      "metadata": {
        "id": "d4K5FzBthHZG"
      },
      "source": [
        "Eq2.\n",
        "\n",
        "$ (2+3)*4/(5-6)$"
      ]
    },
    {
      "cell_type": "code",
      "execution_count": null,
      "metadata": {
        "colab": {
          "background_save": true,
          "base_uri": "https://localhost:8080/"
        },
        "id": "Z88tG2-vhHZH",
        "outputId": "35a33520-dce3-42a0-851c-b29bf553602a"
      },
      "outputs": [
        {
          "data": {
            "text/plain": [
              "-20.0"
            ]
          },
          "execution_count": 42,
          "metadata": {},
          "output_type": "execute_result"
        }
      ],
      "source": [
        "(2 + 3) * 4 / (5 - 6)"
      ]
    },
    {
      "cell_type": "markdown",
      "metadata": {
        "id": "9OtX96RZhHZJ"
      },
      "source": [
        "Eq3. $ \\sqrt{\\frac{(2-3)^{2}}{4}}$"
      ]
    },
    {
      "cell_type": "code",
      "execution_count": null,
      "metadata": {
        "colab": {
          "background_save": true,
          "base_uri": "https://localhost:8080/"
        },
        "id": "OSgTTM6ChHZJ",
        "outputId": "a9e721eb-3986-4ae9-918a-2a822ebd9eef"
      },
      "outputs": [
        {
          "data": {
            "text/plain": [
              "0.5"
            ]
          },
          "execution_count": 43,
          "metadata": {},
          "output_type": "execute_result"
        }
      ],
      "source": [
        "((2-3)**2/4)**(1/2)"
      ]
    },
    {
      "cell_type": "markdown",
      "metadata": {
        "id": "QheEQ9cD9IUw"
      },
      "source": [
        "#### <font color='#A9C9FC'> Exemplo-003: Atribuição cumulativa de valores numéricos em uma variável</font>\n",
        "---\n"
      ]
    },
    {
      "cell_type": "markdown",
      "metadata": {
        "id": "T-_XLeffiG-G"
      },
      "source": [
        "#### **Operadores de atribuição cumulativa**\n",
        "\n",
        "\n",
        "| Operador | Exemplo | Significado |\n",
        "|:---|:---|:---|\n",
        "|     =    | a = 5 | Atribuição simples |\n",
        "| += | a += 2 | a = a + 2 |\n",
        "| -= | a -= 2 | a = a - 2 |\n",
        "| \\*= | a \\*= 2 | a = a \\* 2 |\n",
        "| /= | a /= 2 | a = a / 2 |\n",
        "| //= | a //= 2 | a = a // 2 |\n",
        "| %= | a %= 2 | a = a % 2 |\n",
        "| \\*\\*= | a \\*\\*= 2 | a = a \\*\\* 2 |\n",
        "\n",
        "\n"
      ]
    },
    {
      "cell_type": "code",
      "execution_count": null,
      "metadata": {
        "colab": {
          "background_save": true,
          "base_uri": "https://localhost:8080/"
        },
        "id": "ZYrR1jWHiG-G",
        "outputId": "d9c92a49-21c8-47d6-fa6e-2b8df7cc2fb5"
      },
      "outputs": [
        {
          "data": {
            "text/plain": [
              "5"
            ]
          },
          "execution_count": 44,
          "metadata": {},
          "output_type": "execute_result"
        }
      ],
      "source": [
        "#usando o método print para exibir o valor da variável \"a\"\n",
        "a = 5\n",
        "a"
      ]
    },
    {
      "cell_type": "code",
      "execution_count": null,
      "metadata": {
        "colab": {
          "background_save": true,
          "base_uri": "https://localhost:8080/"
        },
        "id": "xzuKFspHiG-I",
        "outputId": "cad52aca-7d7a-4ff8-ec17-5a46117688ff"
      },
      "outputs": [
        {
          "data": {
            "text/plain": [
              "7"
            ]
          },
          "execution_count": 45,
          "metadata": {},
          "output_type": "execute_result"
        }
      ],
      "source": [
        "a += 2\n",
        "a"
      ]
    },
    {
      "cell_type": "code",
      "execution_count": null,
      "metadata": {
        "colab": {
          "background_save": true,
          "base_uri": "https://localhost:8080/"
        },
        "id": "axWqNY_hiG-K",
        "outputId": "4f50d99d-a536-4809-b161-ab70c91100d0"
      },
      "outputs": [
        {
          "data": {
            "text/plain": [
              "5"
            ]
          },
          "execution_count": 46,
          "metadata": {},
          "output_type": "execute_result"
        }
      ],
      "source": [
        "a -= 2\n",
        "a"
      ]
    },
    {
      "cell_type": "code",
      "execution_count": null,
      "metadata": {
        "colab": {
          "background_save": true,
          "base_uri": "https://localhost:8080/"
        },
        "id": "868-Dl9AiG-O",
        "outputId": "6164b07b-46f2-4072-bcb9-7030d6003efd"
      },
      "outputs": [
        {
          "data": {
            "text/plain": [
              "10"
            ]
          },
          "execution_count": 47,
          "metadata": {},
          "output_type": "execute_result"
        }
      ],
      "source": [
        "a *= 2\n",
        "a"
      ]
    },
    {
      "cell_type": "code",
      "execution_count": null,
      "metadata": {
        "colab": {
          "background_save": true,
          "base_uri": "https://localhost:8080/"
        },
        "id": "DoT6_cI0iG-Q",
        "outputId": "f9adb84b-57e2-43d3-c780-69b5e012012c"
      },
      "outputs": [
        {
          "data": {
            "text/plain": [
              "5.0"
            ]
          },
          "execution_count": 48,
          "metadata": {},
          "output_type": "execute_result"
        }
      ],
      "source": [
        "a /= 2\n",
        "a"
      ]
    },
    {
      "cell_type": "code",
      "execution_count": null,
      "metadata": {
        "colab": {
          "background_save": true,
          "base_uri": "https://localhost:8080/"
        },
        "id": "bdZ5EW3XiG-S",
        "outputId": "25058ed9-4ea1-43f0-e39a-951811740c0e"
      },
      "outputs": [
        {
          "data": {
            "text/plain": [
              "3"
            ]
          },
          "execution_count": 49,
          "metadata": {},
          "output_type": "execute_result"
        }
      ],
      "source": [
        "a = 7\n",
        "a //= 2\n",
        "a"
      ]
    },
    {
      "cell_type": "code",
      "execution_count": null,
      "metadata": {
        "colab": {
          "background_save": true,
          "base_uri": "https://localhost:8080/"
        },
        "id": "eLWfYONqiG-U",
        "outputId": "fb3082c8-eff0-4cb0-a2e6-4559058c7f09"
      },
      "outputs": [
        {
          "data": {
            "text/plain": [
              "1"
            ]
          },
          "execution_count": 50,
          "metadata": {},
          "output_type": "execute_result"
        }
      ],
      "source": [
        "a = 7\n",
        "a %= 2\n",
        "a"
      ]
    },
    {
      "cell_type": "code",
      "execution_count": null,
      "metadata": {
        "colab": {
          "background_save": true,
          "base_uri": "https://localhost:8080/"
        },
        "id": "8GVFdLauiG-W",
        "outputId": "55019dd6-e5ac-4270-ee36-0f8314cdf92f"
      },
      "outputs": [
        {
          "data": {
            "text/plain": [
              "9"
            ]
          },
          "execution_count": 51,
          "metadata": {},
          "output_type": "execute_result"
        }
      ],
      "source": [
        "a = 3\n",
        "a **= 2\n",
        "a"
      ]
    },
    {
      "cell_type": "markdown",
      "metadata": {
        "id": "xruGuvIIiG-Y"
      },
      "source": [
        "#### **Operadores relacionais (operadores de comparação**)\n",
        "\n",
        "| Operador | Significado   | Exemplo                    |\n",
        "|:---|:---|:---|\n",
        "| == | Igualdade | a == b |\n",
        "| != | DesiIgualdade | a != b |\n",
        "| > | Maior que | a > b |\n",
        "| < | Menor que | a < b |\n",
        "| >= | Maior ou igual | a >= b |\n",
        "| <= | Menor ou igual | a <= b |"
      ]
    },
    {
      "cell_type": "code",
      "execution_count": null,
      "metadata": {
        "colab": {
          "background_save": true,
          "base_uri": "https://localhost:8080/"
        },
        "id": "qzqZGbq9iG-Y",
        "outputId": "adc0917e-c0c0-46e8-a7a5-a0f362b96985"
      },
      "outputs": [
        {
          "data": {
            "text/plain": [
              "False"
            ]
          },
          "execution_count": 52,
          "metadata": {},
          "output_type": "execute_result"
        }
      ],
      "source": [
        "a = 5\n",
        "b = 3\n",
        "a == b"
      ]
    },
    {
      "cell_type": "code",
      "execution_count": null,
      "metadata": {
        "colab": {
          "background_save": true,
          "base_uri": "https://localhost:8080/"
        },
        "id": "hPmAg5LyiG-a",
        "outputId": "e493d944-a60f-435c-84e1-7f812840a545"
      },
      "outputs": [
        {
          "data": {
            "text/plain": [
              "True"
            ]
          },
          "execution_count": 53,
          "metadata": {},
          "output_type": "execute_result"
        }
      ],
      "source": [
        "a != b"
      ]
    },
    {
      "cell_type": "code",
      "execution_count": null,
      "metadata": {
        "colab": {
          "background_save": true,
          "base_uri": "https://localhost:8080/"
        },
        "id": "70tFSN9LiG-c",
        "outputId": "bb1da9d7-04bd-4c66-9233-d66745e63183"
      },
      "outputs": [
        {
          "data": {
            "text/plain": [
              "True"
            ]
          },
          "execution_count": 54,
          "metadata": {},
          "output_type": "execute_result"
        }
      ],
      "source": [
        "a > b"
      ]
    },
    {
      "cell_type": "code",
      "execution_count": null,
      "metadata": {
        "colab": {
          "background_save": true,
          "base_uri": "https://localhost:8080/"
        },
        "id": "L4gNGm54iG-e",
        "outputId": "1da189d2-1c89-4920-9c05-514468a172c0"
      },
      "outputs": [
        {
          "data": {
            "text/plain": [
              "False"
            ]
          },
          "execution_count": 55,
          "metadata": {},
          "output_type": "execute_result"
        }
      ],
      "source": [
        "a < b"
      ]
    },
    {
      "cell_type": "code",
      "execution_count": null,
      "metadata": {
        "colab": {
          "background_save": true,
          "base_uri": "https://localhost:8080/"
        },
        "id": "6AGvjCuQiG-g",
        "outputId": "b453b1a5-c3b8-4fea-f025-51912969158b"
      },
      "outputs": [
        {
          "data": {
            "text/plain": [
              "True"
            ]
          },
          "execution_count": 56,
          "metadata": {},
          "output_type": "execute_result"
        }
      ],
      "source": [
        "a >= b"
      ]
    },
    {
      "cell_type": "code",
      "execution_count": null,
      "metadata": {
        "colab": {
          "background_save": true,
          "base_uri": "https://localhost:8080/"
        },
        "id": "ZS93xjhYiG-i",
        "outputId": "1fa69b1e-6870-4b57-8e02-97dc3ec5109f"
      },
      "outputs": [
        {
          "data": {
            "text/plain": [
              "True"
            ]
          },
          "execution_count": 57,
          "metadata": {},
          "output_type": "execute_result"
        }
      ],
      "source": [
        "b <= a"
      ]
    },
    {
      "cell_type": "markdown",
      "metadata": {
        "id": "y0Hid-UJiG-l"
      },
      "source": [
        "#### **Operadores lógicos (conectivos lógicos**)\n",
        "\n",
        "| Operador | Significado   | Exemplo                    |\n",
        "|:---|:---|:---|\n",
        "| and | **E** lógico | a == b and b == c |\n",
        "| or | **OU** lógico | a == b or b == c |\n",
        "| ^ | **OU** exclusivo (XOR) | a == b ^ b == c |\n",
        "| not | Negação (inverte o resultado lógico) | not(a == b and b == c) |\n",
        "\n",
        "### Tabela verdade (AND)\n",
        "\n",
        "| a | b | a and b |\n",
        "|:--:|:--:|:--:|\n",
        "| True  | True  | **True** |\n",
        "| True  | False | False |\n",
        "| False | True  | False |\n",
        "| False | False | False |\n",
        "\n",
        "| a | b | c | a and b and c |\n",
        "|:--:|:--:|:--:|:--:|\n",
        "| True  | True  | True  | **True** |\n",
        "| True  | True  | False | False |\n",
        "| True  | False | True  | False |\n",
        "| True  | False | False | False |\n",
        "| False | True  | True  | False |\n",
        "| False | True  | False | False |\n",
        "| False | False | True  | False |\n",
        "| False | False | False | False |\n",
        "\n",
        "### Tabela verdade (OR)\n",
        "\n",
        "| a | b | a and b |\n",
        "|:--:|:--:|:--:|\n",
        "| True  | True  | **True** |\n",
        "| True  | False | **True** |\n",
        "| False | True  | **True** |\n",
        "| False | False | False |\n",
        "\n",
        "### Tabela verdade (XOR)\n",
        "\n",
        "| a | b | a ^ b |\n",
        "|:--:|:--:|:--:|\n",
        "| True  | True  | False |\n",
        "| True  | False | **True** |\n",
        "| False | True  | **True** |\n",
        "| False | False | False |\n",
        "\n",
        "### Tabela verdade (NOT)\n",
        "| a | not(a) |\n",
        "|:--:|:--:|\n",
        "| True  | False |\n",
        "| False | **True** |"
      ]
    },
    {
      "cell_type": "code",
      "execution_count": null,
      "metadata": {
        "colab": {
          "background_save": true,
          "base_uri": "https://localhost:8080/"
        },
        "id": "AFdgE5XniG-l",
        "outputId": "3added19-6ede-4fcf-f996-3afde12b36ad"
      },
      "outputs": [
        {
          "name": "stdout",
          "output_type": "stream",
          "text": [
            " x     | y     | x and y \n",
            "-------------------------\n",
            " True  | True  | True\n",
            " True  | False | False\n",
            " False | True  | False\n",
            " False | False | False\n"
          ]
        }
      ],
      "source": [
        "# TABELA DO AND (com 2 booleanos)\n",
        "print(\" x     | y     | x and y \")\n",
        "print(\"-------------------------\")\n",
        "print(\" True  | True  |\", True and True )\n",
        "print(\" True  | False |\", True and False )\n",
        "print(\" False | True  |\", False and True)\n",
        "print(\" False | False |\", False and False)"
      ]
    },
    {
      "cell_type": "code",
      "execution_count": null,
      "metadata": {
        "colab": {
          "background_save": true,
          "base_uri": "https://localhost:8080/"
        },
        "id": "u9LA1BVKiG-n",
        "outputId": "a14e73bc-cd89-40ef-9a93-a1b196eddf92"
      },
      "outputs": [
        {
          "name": "stdout",
          "output_type": "stream",
          "text": [
            " x     | y     | z     |  x and y and z \n",
            "----------------------------------------\n",
            " True  | True  | True  | True\n",
            " True  | True  | False | False\n",
            " True  | False | True  | False\n",
            " True  | False | False | False\n",
            " False | True  | True  | False\n",
            " False | True  | False | False\n",
            " False | False | True  | False\n",
            " False | False | False | False\n"
          ]
        }
      ],
      "source": [
        "# TABELA DO AND (com 3 booleanos)\n",
        "print(\" x     | y     | z     |  x and y and z \")\n",
        "print(\"----------------------------------------\")\n",
        "print(\" True  | True  | True  |\",True and True and True)\n",
        "print(\" True  | True  | False |\",True and True and False)\n",
        "print(\" True  | False | True  |\",True and False and True)\n",
        "print(\" True  | False | False |\",True and False and False)\n",
        "print(\" False | True  | True  |\",False and True and True)\n",
        "print(\" False | True  | False |\",False and True and False)\n",
        "print(\" False | False | True  |\",False and False and True)\n",
        "print(\" False | False | False |\",False and False and False)"
      ]
    },
    {
      "cell_type": "code",
      "execution_count": null,
      "metadata": {
        "colab": {
          "background_save": true,
          "base_uri": "https://localhost:8080/"
        },
        "id": "JmDC7yidiG-p",
        "outputId": "a5f39fc6-05a1-4360-fa1d-14b764efab41"
      },
      "outputs": [
        {
          "name": "stdout",
          "output_type": "stream",
          "text": [
            " x     | y     | x or y \n",
            "-------------------------\n",
            " True  | True  | True\n",
            " True  | False | True\n",
            " False | True  | True\n",
            " False | False | False\n"
          ]
        }
      ],
      "source": [
        "# TABELA DO OR\n",
        "print(\" x     | y     | x or y \")\n",
        "print(\"-------------------------\")\n",
        "print(\" True  | True  |\",True or True )\n",
        "print(\" True  | False |\",True or False )\n",
        "print(\" False | True  |\",False or True)\n",
        "print(\" False | False |\",False or False)"
      ]
    },
    {
      "cell_type": "code",
      "execution_count": null,
      "metadata": {
        "colab": {
          "background_save": true,
          "base_uri": "https://localhost:8080/"
        },
        "id": "FNZYke6WiG-s",
        "outputId": "bbb6e56c-d753-4a7f-dcfe-0362012d8f53"
      },
      "outputs": [
        {
          "name": "stdout",
          "output_type": "stream",
          "text": [
            " x     | y     | x ^ y \n",
            "-------------------------\n",
            " True  | True  | False\n",
            " True  | False | True\n",
            " False | True  | True\n",
            " False | False | False\n"
          ]
        }
      ],
      "source": [
        "# TABELA DO XOR (EXCLUSIVE OR)\n",
        "print(\" x     | y     | x ^ y \")\n",
        "print(\"-------------------------\")\n",
        "print(\" True  | True  |\",True ^ True )\n",
        "print(\" True  | False |\",True ^ False )\n",
        "print(\" False | True  |\",False ^ True)\n",
        "print(\" False | False |\",False ^ False)"
      ]
    },
    {
      "cell_type": "code",
      "execution_count": null,
      "metadata": {
        "colab": {
          "background_save": true,
          "base_uri": "https://localhost:8080/"
        },
        "id": "muvfcVJciG-u",
        "outputId": "9b666618-7400-4638-a912-e7f9d6ed6684"
      },
      "outputs": [
        {
          "name": "stdout",
          "output_type": "stream",
          "text": [
            " x     | not(x) \n",
            "---------------\n",
            " True  | False\n",
            " False | True\n"
          ]
        }
      ],
      "source": [
        "# TABELA DO NOT\n",
        "print(\" x     | not(x) \")\n",
        "print(\"-\"*15)\n",
        "print(\" True  |\",not(True))\n",
        "print(\" False |\",not(False))"
      ]
    },
    {
      "cell_type": "markdown",
      "metadata": {
        "id": "qshm9KTwiG-w"
      },
      "source": [
        "#### **Operadores de identidade**\n",
        "\n",
        "| Operador | Significado   | Exemplo                    |\n",
        "|:---|:---|:---|\n",
        "| is | Verifica se duas referências apontam para o mesmo objeto | a is b |\n",
        "| is not | Verifica se duas referências apontam para diferentes objetos | a is not b |"
      ]
    },
    {
      "cell_type": "code",
      "execution_count": null,
      "metadata": {
        "colab": {
          "background_save": true,
          "base_uri": "https://localhost:8080/"
        },
        "id": "5112gz2oiG-w",
        "outputId": "a9fdd273-5d33-463d-e4ef-6e940a82e743"
      },
      "outputs": [
        {
          "name": "stdout",
          "output_type": "stream",
          "text": [
            "a is b =  True\n",
            "a is c =  True\n",
            "b is c =  True\n",
            "a is not b =  False\n",
            "a is not c =  False\n",
            "b is not c =  False\n"
          ]
        }
      ],
      "source": [
        "a = 5\n",
        "b = 5\n",
        "c = a\n",
        "print(\"a is b = \", a is b)\n",
        "print(\"a is c = \", a is c)\n",
        "print(\"b is c = \", b is c)\n",
        "print(\"a is not b = \", a is not b)\n",
        "print(\"a is not c = \", a is not c)\n",
        "print(\"b is not c = \", b is not c)"
      ]
    },
    {
      "cell_type": "markdown",
      "metadata": {
        "id": "4Mg9WP0twkwB"
      },
      "source": [
        "### **Expressões**\n",
        "\n",
        "É um conjunto de valores, variáveis, operadores e funções. Expressões são utilizadas para realizar cálculos aritméticos e lógicos. Ao final produz um valor que ficará armazenado em uma **variável**.\n",
        "\n",
        "Exemplo a seguir:"
      ]
    },
    {
      "cell_type": "markdown",
      "metadata": {
        "id": "u28HlQj-jW3Y"
      },
      "source": [
        "####**Recebendo os valores via variável**\n",
        "\n",
        "Quando recebemos os valores que são atribuídos diretamente a uma variável, é necessário que o programador altere o programa todas as vezes que precisar mudar os valores que estão sendo analisados, não há interação entre o usuário e o programa, os valores são inseridos pelo programador."
      ]
    },
    {
      "cell_type": "markdown",
      "metadata": {
        "id": "Wu5Km0qF4EEl"
      },
      "source": [
        "#### <font color='#A9C9FC'> Exemplo-004: Expressões</font>\n",
        "---"
      ]
    },
    {
      "cell_type": "code",
      "execution_count": null,
      "metadata": {
        "colab": {
          "background_save": true,
          "base_uri": "https://localhost:8080/"
        },
        "id": "EyeO0-nkv3IA",
        "outputId": "8f8791dc-6771-4ac0-88af-ab53197a020c"
      },
      "outputs": [
        {
          "name": "stdout",
          "output_type": "stream",
          "text": [
            "Valor nota =  175.5\n"
          ]
        }
      ],
      "source": [
        "quantidade = 5\n",
        "preco_custo = 27\n",
        "valor_notaFiscal = quantidade * preco_custo * 1.3\n",
        "#valor da nota calculado com a expressão\n",
        "print(\"Valor nota = \",valor_notaFiscal)"
      ]
    },
    {
      "cell_type": "code",
      "execution_count": null,
      "metadata": {
        "colab": {
          "background_save": true,
          "base_uri": "https://localhost:8080/"
        },
        "id": "_fUfDAG3jZHM",
        "outputId": "4733c258-d3c4-474d-90a3-552204a1e5d6"
      },
      "outputs": [
        {
          "name": "stdout",
          "output_type": "stream",
          "text": [
            "Delta = 64\n"
          ]
        }
      ],
      "source": [
        "# Exemplo - Cálculo do Delta\n",
        "a = 2\n",
        "b = 4\n",
        "c = -6\n",
        "delta = b ** 2 - 4 * a * c\n",
        "print(\"Delta =\", delta)"
      ]
    },
    {
      "cell_type": "markdown",
      "metadata": {
        "id": "dJnaUWHWmX2p"
      },
      "source": [
        "### **Tipos de Dados**"
      ]
    },
    {
      "cell_type": "markdown",
      "metadata": {
        "id": "14KBu9zjCu2-"
      },
      "source": [
        "#### <font color='#A9C9FC'> Exemplo-005: Tipos de Dados em Python</font>\n",
        "---"
      ]
    },
    {
      "cell_type": "markdown",
      "metadata": {
        "id": "Zn1nY9x-z-h1"
      },
      "source": [
        "O tipo é uma forma de classificar as informação. As linguagens de programação normalmente trazem implementado o que é chamado de tipos primitivos, isto é, o tipo de dado mais genérico possível.\n",
        "\n",
        "Toda informação que manipularemos será, por definição, de um tipo. Os computadores manipulam bits. Quando manipulamos letras estamos trabalhando também com bits, porém, numa camada acima. Então, vamos definir agora, que num primeiro momento, toda informação é de fato um caractere, seja ele uma letra, um número, um simbolo ou então, um caractere especial.\n",
        "\n",
        "Fonte: https://medium.com/analytics-vidhya/data-types-in-python-506009234f89\n",
        "\n",
        "**Tipos Primitivos**\n",
        "\n",
        "A documentação do Python não trata os tipos de dados elementares (primitivos) com a nomenclatura normalmente encontrada na documentação da maioria das linguagens: Tipo Primitivo, na documentação oficial são chamados de tipos built-ins ou então, tipos construídos. Aqui trataremos como tipos primitivos apenas para facilitar o entendimento e a classificação.\n",
        "\n",
        "Tipo Primitivo são os tipos de dados mais simples, isto é, a informação em sua forma mais primitiva. Bons exemplos de valores primitivos são os caractere, os número, o valor True e o False e etc.\n",
        "\n",
        "É normal que as linguagens de programação tenham um conjunto de tipos chamados de: tipos primitivos. Devemos pensar nessa classificação como sendo os tipos primários de informações, como por exemplo, o tipo numérico. Como sabemos, todo número é constituído por algarismos. Dessa forma, o tipo numérico pode ser qualquer valor que seja composto por 1 ou mais caracteres numéricos.\n",
        "\n",
        "Da mesma forma, temos o tipo de dado que representa conjuntos de caracteres, que na programação, é comumente chamado de String e o Python o chama de str. As String são capazes de armazenar conjuntos de caracteres que estão dispostos numa determinada ordem. Todas as vezes que estivermos manipulando dados que contenha caracteres - o tipo mais primitivo, isto é, a maneira mais abstrata para representarmos caracteres - estaremos utilizando uma variável definida como sendo do tipo str.\n",
        "\n",
        "Vamos considerar como tipo de dados primitivos em Python: Strings (texto), Number (números inteiros e reais) e Boolean (lógicos). A figura a seguir mostra todos os tipos de dados existentes em Python.\n",
        "\n",
        "**Estruturas de dados**\n",
        "\n",
        "São entidades (objetos virtuais) que armazenam dados de forma eficiente, oferecendo certos “serviços” para o usuário (ordenação eficiente dos dados, busca por meio de palavras chave, etc). Essas estruturas armazenam os dados primitivos e algumas dessas estruturas podem armazenar também outras estruturas de dados.\n",
        "\n",
        "Usando estruturas de dados adequadas, podemos administrar uma grande quantidade de dados de forma eficiente, com aplicações em bancos de dados ou serviços de busca e indexação de dados, e no desenvolvimento de algoritmos eficientes.\n",
        "\n",
        "Nos tópicos a seguir serão abordadas as estruturas de dados em Python,  representadas por Listas (**list**), Tuplas (**tuple**), Conjuntos (**sets**) e Dicionários (**dict**)\n",
        "\n",
        "\n",
        "<center><img src=\"https://media.geeksforgeeks.org/wp-content/uploads/20191023173512/Python-data-structure.jpg\"\n",
        "\n",
        "</center>\n",
        "\n",
        "**Exemplos**\n",
        "\n",
        "<center><img src=\"https://miro.medium.com/max/700/1*QfI8H_8HplGa1v9IrrWjBA.png\">\n",
        "</center>\n",
        "\n",
        "Referência: http://excript.com/python/tipos-de-dados-python.html, https://www.geeksforgeeks.org/python-data-types/"
      ]
    },
    {
      "cell_type": "markdown",
      "metadata": {
        "id": "DwA7xXvETwcM"
      },
      "source": [
        "**Exibindo o tipó de dados de uma variável**"
      ]
    },
    {
      "cell_type": "code",
      "execution_count": null,
      "metadata": {
        "colab": {
          "background_save": true,
          "base_uri": "https://localhost:8080/"
        },
        "id": "CntxO6MWT2VS",
        "outputId": "b0e2075f-b997-460e-95c1-b4475d025a84"
      },
      "outputs": [
        {
          "data": {
            "text/plain": [
              "int"
            ]
          },
          "execution_count": 66,
          "metadata": {},
          "output_type": "execute_result"
        }
      ],
      "source": [
        "#exibindo o tipo de dados da variável idade\n",
        "type(idade)"
      ]
    },
    {
      "cell_type": "code",
      "execution_count": null,
      "metadata": {
        "colab": {
          "background_save": true,
          "base_uri": "https://localhost:8080/"
        },
        "id": "snPT_osoT8vD",
        "outputId": "0c6e2fcf-6817-4075-bd7d-f93fa325cc6b"
      },
      "outputs": [
        {
          "data": {
            "text/plain": [
              "bool"
            ]
          },
          "execution_count": 67,
          "metadata": {},
          "output_type": "execute_result"
        }
      ],
      "source": [
        "#exibindo o tipo de dados da variável aprovado\n",
        "type(aprovado)"
      ]
    },
    {
      "cell_type": "markdown",
      "metadata": {
        "id": "yZ64g698vZh4"
      },
      "source": [
        "####**Dados numéricos em Python**"
      ]
    },
    {
      "cell_type": "markdown",
      "metadata": {
        "id": "RIEkLTzrhh0q"
      },
      "source": [
        "##### **Números inteiros (int)**\n",
        "\n",
        "Admitem somente números inteiros. Geralmente utilizado para representar uma contagem (quantidade). O conjunto dos números inteiros em algoritmos é formado pelos números naturais (todos os números inteiros positivos incluindo o zero) e pelos números próprios números inteiros (todos os números inteiros positivos e negativos incluindo o zero).\n",
        "\n",
        "Exemplo: **{...,-7,-6,-5,-4,-3,-2,-1,0,1,2,3,4,5,6,7...}**\n",
        "\n",
        "Em Python **números inteiros** são representados pelo tipo de dados **int**.\n",
        "\n",
        "Exemplo:"
      ]
    },
    {
      "cell_type": "code",
      "execution_count": null,
      "metadata": {
        "colab": {
          "background_save": true,
          "base_uri": "https://localhost:8080/"
        },
        "id": "aP9kGNFnuwGi",
        "outputId": "45b5a281-18be-48f1-ef7c-6b5bda30b517"
      },
      "outputs": [
        {
          "data": {
            "text/plain": [
              "int"
            ]
          },
          "execution_count": 68,
          "metadata": {},
          "output_type": "execute_result"
        }
      ],
      "source": [
        "# criação de variável inteira (int) quantidade\n",
        "quantidade = 5\n",
        "type(quantidade) # exibindo o tipo da variável"
      ]
    },
    {
      "cell_type": "code",
      "execution_count": null,
      "metadata": {
        "colab": {
          "background_save": true,
          "base_uri": "https://localhost:8080/"
        },
        "id": "kCgk921acX3e",
        "outputId": "1e7ba225-a9fd-48ec-c722-be3251e4c3de"
      },
      "outputs": [
        {
          "data": {
            "text/plain": [
              "5"
            ]
          },
          "execution_count": 69,
          "metadata": {},
          "output_type": "execute_result"
        }
      ],
      "source": [
        "quantidade"
      ]
    },
    {
      "cell_type": "markdown",
      "metadata": {
        "id": "qgZKyUfCvtdq"
      },
      "source": [
        "##### **Números Reais (float)**\n",
        "\n",
        "Utilizado, normalmente, para representar uma medição. Os números reais podem possuir componentes decimais ou fracionários, podem também ser positivos ou negativos.\n",
        "\n",
        "Exemplo: **{-13.23, 0.0, 4.003,-3.0,0.0001}**\n",
        "\n",
        "Em Python **números reais** são representados pelo tipo de dados **float**.\n",
        "\n",
        "Exemplo:"
      ]
    },
    {
      "cell_type": "code",
      "execution_count": null,
      "metadata": {
        "colab": {
          "background_save": true,
          "base_uri": "https://localhost:8080/"
        },
        "id": "NB6UTyc1u-8e",
        "outputId": "54aaf627-d9a4-41b6-eb27-d55c707e13a7"
      },
      "outputs": [
        {
          "data": {
            "text/plain": [
              "float"
            ]
          },
          "execution_count": 70,
          "metadata": {},
          "output_type": "execute_result"
        }
      ],
      "source": [
        "# criação de variável real (float) preco_custo\n",
        "preco_custo=89.50\n",
        "type(preco_custo)"
      ]
    },
    {
      "cell_type": "code",
      "execution_count": null,
      "metadata": {
        "colab": {
          "background_save": true,
          "base_uri": "https://localhost:8080/"
        },
        "id": "_moLTz8hca_e",
        "outputId": "c461c179-05d5-4643-89f9-1eddda4fa564"
      },
      "outputs": [
        {
          "data": {
            "text/plain": [
              "89.5"
            ]
          },
          "execution_count": 71,
          "metadata": {},
          "output_type": "execute_result"
        }
      ],
      "source": [
        "preco_custo"
      ]
    },
    {
      "cell_type": "markdown",
      "metadata": {
        "id": "u-6E763XzXI6"
      },
      "source": [
        "####**Dados não numéricos em Python**"
      ]
    },
    {
      "cell_type": "markdown",
      "metadata": {
        "id": "-9Sq8bIpwINA"
      },
      "source": [
        "##### **Textos / Strings (str)**\n",
        "\n",
        "Este tipo de dados admite caracteres alfanuméricos. Os números quando declarados como caracteres tornam se apenas **representativos** e perdem a atribuição de valor. Um dado do tipo caractere sempre aparece entre aspas, e pode ser uma letra, um número, um símbolo ou um caractere especial.\n",
        "\n",
        "Exemplo: {\"A\", \"ABC\",\"7\",\"7.13\",\"0.0001\",\"B.A.L.17.07.14\", \"1-2+3=\"}\n",
        "\n",
        "Em Python **string** são representados pelo tipo de dados **str**.\n",
        "\n",
        "Exemplo:"
      ]
    },
    {
      "cell_type": "code",
      "execution_count": null,
      "metadata": {
        "colab": {
          "background_save": true,
          "base_uri": "https://localhost:8080/"
        },
        "id": "xehU35Vovf0Q",
        "outputId": "a0c2dd13-0ea0-411c-8e25-edb3bcdfc4fc"
      },
      "outputs": [
        {
          "data": {
            "text/plain": [
              "str"
            ]
          },
          "execution_count": 72,
          "metadata": {},
          "output_type": "execute_result"
        }
      ],
      "source": [
        "# criação de variável string (str) nome\n",
        "nome=\"Bernardo\"\n",
        "type(nome)"
      ]
    },
    {
      "cell_type": "code",
      "execution_count": null,
      "metadata": {
        "colab": {
          "background_save": true,
          "base_uri": "https://localhost:8080/",
          "height": 35
        },
        "id": "TiJAl1mkcd5O",
        "outputId": "ae1acef5-265e-4255-9b47-b048ef3b70fe"
      },
      "outputs": [
        {
          "data": {
            "application/vnd.google.colaboratory.intrinsic+json": {
              "type": "string"
            },
            "text/plain": [
              "'Bernardo'"
            ]
          },
          "execution_count": 73,
          "metadata": {},
          "output_type": "execute_result"
        }
      ],
      "source": [
        "nome"
      ]
    },
    {
      "cell_type": "markdown",
      "metadata": {
        "id": "_Da4YQK3wXsU"
      },
      "source": [
        "#### **Dados Lógicos ou Booleanos (bool)**\n",
        "\n",
        "O tipo de dados bool (lógico) é usado para representar dois únicos valores lógicos possíveis, que são: verdadeiro (True) e falso (False).\n",
        "\n",
        "Em Python números inteiros são representados pelo tipo de dados **bool**\n",
        "\n",
        "Exemplo:"
      ]
    },
    {
      "cell_type": "code",
      "execution_count": null,
      "metadata": {
        "colab": {
          "background_save": true,
          "base_uri": "https://localhost:8080/"
        },
        "id": "XqABVxtNvkar",
        "outputId": "ddc2c511-5232-429e-e5c9-0db32885da36"
      },
      "outputs": [
        {
          "data": {
            "text/plain": [
              "bool"
            ]
          },
          "execution_count": 74,
          "metadata": {},
          "output_type": "execute_result"
        }
      ],
      "source": [
        "# criação de variável booleana (bool)\n",
        "possui_carro = True\n",
        "type(possui_carro)"
      ]
    },
    {
      "cell_type": "code",
      "execution_count": null,
      "metadata": {
        "colab": {
          "background_save": true,
          "base_uri": "https://localhost:8080/"
        },
        "id": "7k8lxmmdchHF",
        "outputId": "c04e1847-4a06-4efc-e5dd-1387cf664011"
      },
      "outputs": [
        {
          "data": {
            "text/plain": [
              "True"
            ]
          },
          "execution_count": 75,
          "metadata": {},
          "output_type": "execute_result"
        }
      ],
      "source": [
        "possui_carro"
      ]
    },
    {
      "cell_type": "markdown",
      "metadata": {
        "id": "POrpS71baDe2"
      },
      "source": [
        "### Recebendo valores pelo teclado\n",
        "\n",
        "É possível receber os valores diretamente do teclado em Python, e usar esses valores recebidos em variáveis. Como no exemplo a seguir."
      ]
    },
    {
      "cell_type": "markdown",
      "metadata": {
        "id": "CAfaNRidCH1N"
      },
      "source": [
        "#### <font color='#A9C9FC'> Exemplo-006: Recebendo valores pelo teclado</font>\n",
        "---"
      ]
    },
    {
      "cell_type": "markdown",
      "metadata": {
        "id": "6iLhMNRfAnZY"
      },
      "source": [
        "**Exemplo:** Cálculo do volume de um cilindro.\n",
        "\n",
        "\n",
        "![formula-para-o-volume-do-cilindro.png](data:image/png;base64,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)"
      ]
    },
    {
      "cell_type": "code",
      "execution_count": null,
      "metadata": {
        "colab": {
          "base_uri": "https://localhost:8080/",
          "height": 405
        },
        "id": "sDtri867abcj",
        "outputId": "dc6340e0-d047-4b18-f98a-9a6f37bdb8ce"
      },
      "outputs": [
        {
          "ename": "KeyboardInterrupt",
          "evalue": "ignored",
          "output_type": "error",
          "traceback": [
            "\u001b[0;31m---------------------------------------------------------------------------\u001b[0m",
            "\u001b[0;31mKeyboardInterrupt\u001b[0m                         Traceback (most recent call last)",
            "\u001b[0;32m<ipython-input-2-0254f12d8f76>\u001b[0m in \u001b[0;36m<cell line: 3>\u001b[0;34m()\u001b[0m\n\u001b[1;32m      1\u001b[0m \u001b[0;31m# leitura do raio e da altura\u001b[0m\u001b[0;34m\u001b[0m\u001b[0;34m\u001b[0m\u001b[0m\n\u001b[1;32m      2\u001b[0m \u001b[0;31m# float deve ser usado para informar que o número lido poderá ter uma parte decimal\u001b[0m\u001b[0;34m\u001b[0m\u001b[0;34m\u001b[0m\u001b[0m\n\u001b[0;32m----> 3\u001b[0;31m \u001b[0mr\u001b[0m \u001b[0;34m=\u001b[0m \u001b[0mfloat\u001b[0m\u001b[0;34m(\u001b[0m\u001b[0minput\u001b[0m\u001b[0;34m(\u001b[0m\u001b[0;34m\"Informe o valor do raio: \"\u001b[0m\u001b[0;34m)\u001b[0m\u001b[0;34m)\u001b[0m\u001b[0;34m\u001b[0m\u001b[0;34m\u001b[0m\u001b[0m\n\u001b[0m\u001b[1;32m      4\u001b[0m \u001b[0mh\u001b[0m \u001b[0;34m=\u001b[0m \u001b[0mfloat\u001b[0m\u001b[0;34m(\u001b[0m\u001b[0minput\u001b[0m\u001b[0;34m(\u001b[0m\u001b[0;34m\"Informe o valor da altura: \"\u001b[0m\u001b[0;34m)\u001b[0m\u001b[0;34m)\u001b[0m\u001b[0;34m\u001b[0m\u001b[0;34m\u001b[0m\u001b[0m\n\u001b[1;32m      5\u001b[0m \u001b[0mpi\u001b[0m \u001b[0;34m=\u001b[0m \u001b[0;36m3.14\u001b[0m\u001b[0;34m\u001b[0m\u001b[0;34m\u001b[0m\u001b[0m\n",
            "\u001b[0;32m/usr/local/lib/python3.10/dist-packages/ipykernel/kernelbase.py\u001b[0m in \u001b[0;36mraw_input\u001b[0;34m(self, prompt)\u001b[0m\n\u001b[1;32m    849\u001b[0m                 \u001b[0;34m\"raw_input was called, but this frontend does not support input requests.\"\u001b[0m\u001b[0;34m\u001b[0m\u001b[0;34m\u001b[0m\u001b[0m\n\u001b[1;32m    850\u001b[0m             )\n\u001b[0;32m--> 851\u001b[0;31m         return self._input_request(str(prompt),\n\u001b[0m\u001b[1;32m    852\u001b[0m             \u001b[0mself\u001b[0m\u001b[0;34m.\u001b[0m\u001b[0m_parent_ident\u001b[0m\u001b[0;34m,\u001b[0m\u001b[0;34m\u001b[0m\u001b[0;34m\u001b[0m\u001b[0m\n\u001b[1;32m    853\u001b[0m             \u001b[0mself\u001b[0m\u001b[0;34m.\u001b[0m\u001b[0m_parent_header\u001b[0m\u001b[0;34m,\u001b[0m\u001b[0;34m\u001b[0m\u001b[0;34m\u001b[0m\u001b[0m\n",
            "\u001b[0;32m/usr/local/lib/python3.10/dist-packages/ipykernel/kernelbase.py\u001b[0m in \u001b[0;36m_input_request\u001b[0;34m(self, prompt, ident, parent, password)\u001b[0m\n\u001b[1;32m    893\u001b[0m             \u001b[0;32mexcept\u001b[0m \u001b[0mKeyboardInterrupt\u001b[0m\u001b[0;34m:\u001b[0m\u001b[0;34m\u001b[0m\u001b[0;34m\u001b[0m\u001b[0m\n\u001b[1;32m    894\u001b[0m                 \u001b[0;31m# re-raise KeyboardInterrupt, to truncate traceback\u001b[0m\u001b[0;34m\u001b[0m\u001b[0;34m\u001b[0m\u001b[0m\n\u001b[0;32m--> 895\u001b[0;31m                 \u001b[0;32mraise\u001b[0m \u001b[0mKeyboardInterrupt\u001b[0m\u001b[0;34m(\u001b[0m\u001b[0;34m\"Interrupted by user\"\u001b[0m\u001b[0;34m)\u001b[0m \u001b[0;32mfrom\u001b[0m \u001b[0;32mNone\u001b[0m\u001b[0;34m\u001b[0m\u001b[0;34m\u001b[0m\u001b[0m\n\u001b[0m\u001b[1;32m    896\u001b[0m             \u001b[0;32mexcept\u001b[0m \u001b[0mException\u001b[0m \u001b[0;32mas\u001b[0m \u001b[0me\u001b[0m\u001b[0;34m:\u001b[0m\u001b[0;34m\u001b[0m\u001b[0;34m\u001b[0m\u001b[0m\n\u001b[1;32m    897\u001b[0m                 \u001b[0mself\u001b[0m\u001b[0;34m.\u001b[0m\u001b[0mlog\u001b[0m\u001b[0;34m.\u001b[0m\u001b[0mwarning\u001b[0m\u001b[0;34m(\u001b[0m\u001b[0;34m\"Invalid Message:\"\u001b[0m\u001b[0;34m,\u001b[0m \u001b[0mexc_info\u001b[0m\u001b[0;34m=\u001b[0m\u001b[0;32mTrue\u001b[0m\u001b[0;34m)\u001b[0m\u001b[0;34m\u001b[0m\u001b[0;34m\u001b[0m\u001b[0m\n",
            "\u001b[0;31mKeyboardInterrupt\u001b[0m: Interrupted by user"
          ]
        }
      ],
      "source": [
        "# leitura do raio e da altura\n",
        "# float deve ser usado para informar que o número lido poderá ter uma parte decimal\n",
        "r = float(input(\"Informe o valor do raio: \"))\n",
        "h = float(input(\"Informe o valor da altura: \"))\n",
        "pi = 3.14\n",
        "# cálculo do volume\n",
        "v = pi * r**2 * h\n",
        "print(\"Volume do Cilindro =\",v)"
      ]
    },
    {
      "cell_type": "markdown",
      "metadata": {
        "id": "HY4FAi93UYhl"
      },
      "source": [
        "#### <font color='#A9C9FC'> Exemplo-007: Cálculo da área e perímetro do retângulo</font>\n",
        "---\n",
        "$area = base \\times altura$\n",
        "\n",
        "$ perímetro = 2 \\times (base + altura)$"
      ]
    },
    {
      "cell_type": "code",
      "execution_count": null,
      "metadata": {
        "id": "f9BnKEu2UoIh"
      },
      "outputs": [],
      "source": [
        "base = float(input(\"Digite o valor do base: \"))\n",
        "altura = float(input(\"Digite o valor do altura: \"))\n",
        "\n",
        "area = base * altura\n",
        "perimetro = 2 * area\n",
        "print(\"Perímetro = \",perimetro)\n",
        "print(\"Área = \",area)"
      ]
    },
    {
      "cell_type": "markdown",
      "metadata": {
        "id": "S4tGHx0GhHZ_"
      },
      "source": [
        "#### <font color='#A9C9FC'> Exemplo-008: Cálculo da área e comprimento da circunferência</font>\n",
        "---\n",
        "$ area = \\pi \\times raio^{2} $\n",
        "\n",
        "$ comprimento = 2 \\times \\pi * raio $"
      ]
    },
    {
      "cell_type": "code",
      "execution_count": null,
      "metadata": {
        "id": "l3kgCEJJhHZ_"
      },
      "outputs": [],
      "source": [
        "raio = float(input(\"Digite o valor do raio: \"))\n",
        "area = 3.14159 * raio ** 2\n",
        "comprimento = 2 * 3.14159 * raio\n",
        "print('Raio = ', raio)\n",
        "print('Área = ', area)\n",
        "print('Comprimento = ', comprimento)"
      ]
    },
    {
      "cell_type": "markdown",
      "metadata": {
        "id": "9eo85cNxhHaB"
      },
      "source": [
        "#### <font color='#A9C9FC'> Exemplo-009: Cálculo da distância euclidiana entre 2 pontos no plano cartesiano</font>\n",
        "---\n",
        "$ distância = \\sqrt{(x_{1}-x_{2})^{2} + (y_{1}-y_{2})^{2}} $"
      ]
    },
    {
      "cell_type": "code",
      "execution_count": null,
      "metadata": {
        "colab": {
          "base_uri": "https://localhost:8080/"
        },
        "id": "d2vt75H6hHaB",
        "outputId": "f44b033b-0039-430d-bbe2-81cccb14b7d5"
      },
      "outputs": [
        {
          "name": "stdout",
          "output_type": "stream",
          "text": [
            "Digite o valor do X1: 1\n",
            "Digite o valor do Y1: 1\n",
            "Digite o valor do X2: 15\n",
            "Digite o valor do Y2: 17\n",
            "A distância entre os pontos(1.0,1.0) e (15.0,17.0) = 21.2602916254693.\n"
          ]
        }
      ],
      "source": [
        "# Calculando a distância entre os pontos (3,4) e (5,6)\n",
        "x1 = float(input(\"Digite o valor do X1: \"))\n",
        "y1 = float(input(\"Digite o valor do Y1: \"))\n",
        "x2 = float(input(\"Digite o valor do X2: \"))\n",
        "y2 = float(input(\"Digite o valor do Y2: \"))\n",
        "dist = ((x1-x2)**2 + (y1-y2)**2)**(1/2)\n",
        "print('A distância entre os pontos({},{}) e ({},{}) = {}.'.format(x1, y1, x2, y2, dist))"
      ]
    },
    {
      "cell_type": "markdown",
      "metadata": {
        "id": "j3t2JksihHaD"
      },
      "source": [
        "#### <font color='#A9C9FC'> Exemplo-010: Cálculo do delta e das raízes de uma equação do segundo grau</font>\n",
        "---\n",
        "$ \\Delta = b^{2} - 4ac $\n",
        "$ x = \\frac{-b \\pm \\sqrt{\\Delta}}{2a} $"
      ]
    },
    {
      "cell_type": "code",
      "execution_count": null,
      "metadata": {
        "id": "qv7XOOMehHaD"
      },
      "outputs": [],
      "source": [
        "# Calculando o Delta e raízes x1 e x2 para a equação y = x^2 - 5x + 6\n",
        "a = int(input(\"Digite o valor do A: \"))\n",
        "b = int(input(\"Digite o valor do B: \"))\n",
        "c = int(input(\"Digite o valor do C: \"))\n",
        "#a = 1 b = -5 c = 6\n",
        "delta = b**2 - 4*a*c\n",
        "x1 = (-b+delta**(1/2))/(2*a)\n",
        "x2 = (-b-delta**(1/2))/(2*a)\n",
        "print('Delta = {}, x1 = {} e x2 = {}'.format(delta, x1, x2))"
      ]
    },
    {
      "cell_type": "markdown",
      "metadata": {
        "id": "WL8q1Nv4hHaF"
      },
      "source": [
        "#### <font color='#A9C9FC'> Exemplo-011: Cálculo da área do setor circular (fatia de um círculo)</font>\n",
        "---\n",
        "$ S = \\frac{\\alpha \\pi r^{2}}{360} $"
      ]
    },
    {
      "cell_type": "code",
      "execution_count": null,
      "metadata": {
        "id": "ANAhp1tyhHaI"
      },
      "outputs": [],
      "source": [
        "# Para um círculo de raio 15, calcular a área de uma fatia com angulo = 45 graus (um pizza)\n",
        "# Isso equivale a calcular a área de uma das 8 fatias de uma pizza com 30 cm de diâmetro\n",
        "a = float(input(\"Digite o valor do a: \"))\n",
        "raio = float(input(\"Digite o valor do B: \"))\n",
        "#a = 45 raio = 15\n",
        "s = (a * 3.14159 * raio ** 2)/360\n",
        "print('Num círculo de raio {}cm, o setor circular de ângulo {} terá área = {} cm^2.'.format(raio,a,s))"
      ]
    },
    {
      "cell_type": "markdown",
      "metadata": {
        "id": "8f7Vk2GyH6k7"
      },
      "source": [
        "## **03. Estruturas condicionais**"
      ]
    },
    {
      "cell_type": "markdown",
      "metadata": {
        "id": "zwA-1CiiT7kc"
      },
      "source": [
        "###Estrutura condicional simples"
      ]
    },
    {
      "cell_type": "markdown",
      "metadata": {
        "id": "wpsaswOXMM-2"
      },
      "source": [
        "```\n",
        "if (condição):\n",
        "    comando1\n",
        "    comando2\n",
        "```"
      ]
    },
    {
      "cell_type": "markdown",
      "metadata": {
        "id": "4ws02mZIgi--"
      },
      "source": [
        "#### <font color='#A9C9FC'> Exemplo-012: Estrutura condicional simples </font>\n",
        "---"
      ]
    },
    {
      "cell_type": "code",
      "execution_count": null,
      "metadata": {
        "id": "aANuyVMKH6k9"
      },
      "outputs": [],
      "source": [
        "n1 = float(input(\"Digite a 1a nota: \"))\n",
        "n2 = float(input(\"Digite a 2a nota: \"))\n",
        "media = (n1+n2)/2\n",
        "if media>=7:\n",
        "  print(\"Aluno aprovado por média\")"
      ]
    },
    {
      "cell_type": "markdown",
      "metadata": {
        "id": "K9JH2Z1BT3sp"
      },
      "source": [
        "###Estrutura condicional composta"
      ]
    },
    {
      "cell_type": "markdown",
      "metadata": {
        "id": "IyU5df0BH6lD"
      },
      "source": [
        "```\n",
        "if (condição):\n",
        "    comando1\n",
        "else:\n",
        "    comando2\n",
        "```"
      ]
    },
    {
      "cell_type": "markdown",
      "metadata": {
        "id": "IVAbXWtOphY1"
      },
      "source": [
        "#### <font color='#A9C9FC'> Exemplo-013: Estrutura condicional composta</font>\n",
        "---"
      ]
    },
    {
      "cell_type": "code",
      "execution_count": null,
      "metadata": {
        "id": "D_Yh2JsuH6lE"
      },
      "outputs": [],
      "source": [
        "n1 = float(input(\"Digite a 1a nota: \"))\n",
        "n2 = float(input(\"Digite a 2a nota: \"))\n",
        "media = (n1+n2)/2\n",
        "if media>=7:\n",
        "  print(\"Aluno aprovado por média\")\n",
        "else:\n",
        "  print(\"Aluno precisará fazer a prova final\")"
      ]
    },
    {
      "cell_type": "markdown",
      "metadata": {
        "id": "MC8Oad_txBEK"
      },
      "source": [
        "###Estrutura condicional encaixada ou encadeada"
      ]
    },
    {
      "cell_type": "markdown",
      "metadata": {
        "id": "SQ1JfXrsxcaJ"
      },
      "source": [
        "```\n",
        "if (condição):\n",
        "    comando1\n",
        "else:\n",
        "    if (condição2):\n",
        "       comando2\n",
        "    else:\n",
        "        if (condição3):\n",
        "           comando3\n",
        "```"
      ]
    },
    {
      "cell_type": "markdown",
      "metadata": {
        "id": "sMjzDysXyFQL"
      },
      "source": [
        "#### <font color='#A9C9FC'> Exemplo-014: Estrutura condicional encaixada ou encadeada</font>\n",
        "---"
      ]
    },
    {
      "cell_type": "markdown",
      "metadata": {
        "id": "UiYmOx89YB4I"
      },
      "source": [
        "O programa lê a nota final do aluno. Após a leitura verifica se é maior ou igual a 8, em caso afirmativo solicita a idade do aluno.\n",
        "Se a idade for maior ou igual a 23 mostrar a mensagem\n",
        "\"Selecionado para o grupo 1.\", caso contrário mostrar a mensagem\n",
        "\"Selecionado para o grupo 2.\".\n",
        "Caso a nota lida no início seja menor que 8 mostrar a mensagem\n",
        "\"Candidato não selecionado.\"."
      ]
    },
    {
      "cell_type": "code",
      "execution_count": null,
      "metadata": {
        "id": "yJ-BzkPwH6lT"
      },
      "outputs": [],
      "source": [
        "notaFinal = float(input(\"Informe a nota final do aluno:\"))\n",
        "if notaFinal>=8:\n",
        "    idade = int(input(\"Informe a idade: \"))\n",
        "    if (idade>=23):\n",
        "        print(\"Selecionado para o grupo 1\")\n",
        "    else:\n",
        "        print(\"Selecionado para o grupo 2\")\n",
        "else:\n",
        "    print(\"Candidato não Selecionado\")"
      ]
    },
    {
      "cell_type": "markdown",
      "metadata": {
        "id": "st3IHNquLUIB"
      },
      "source": [
        "#### <font color='#A9C9FC'> Exemplo-015: Estrutura condicional encaixada ou encadeada</font>\n",
        "---"
      ]
    },
    {
      "cell_type": "markdown",
      "metadata": {
        "id": "bIKPrjY9iLVr"
      },
      "source": [
        "Se a nota final for menor que 5.0, o conceito será \"INSUFICIENTE\";\n",
        "\n",
        "Se a nota final for maior ou igual 5.0 e menor que 7.0 o conceito será \"REGULAR\";\n",
        "\n",
        "Se a nota final for maior ou igual a 7.0 e menor que 9.0 o conceito será \"BOM\";\n",
        "\n",
        "Se a nota final for maior ou igual a 9.0 o conceito será \"EXCELENTE\"."
      ]
    },
    {
      "cell_type": "code",
      "execution_count": null,
      "metadata": {
        "id": "dZlJAc0TioaE"
      },
      "outputs": [],
      "source": [
        "notaFinal = float(input(\"Digite o valor da Nota Final: \"))\n",
        "if notaFinal<5:\n",
        "  print (\"INSUFICIENTE\")\n",
        "else:\n",
        "  if notaFinal<7:\n",
        "    print (\"REGULAR\")\n",
        "  else:\n",
        "    if notaFinal<9:\n",
        "      print (\"BOM\")\n",
        "    else:\n",
        "      print (\"EXCELENTE\")"
      ]
    },
    {
      "cell_type": "markdown",
      "metadata": {
        "id": "9fwv_JnYH6lS"
      },
      "source": [
        "### Estrutura condicional com múltiplas condições\n",
        "```\n",
        "if (condição1):\n",
        "    comando1\n",
        "elif (condição2):\n",
        "    comando2\n",
        "    comando3\n",
        "...\n",
        "elif (condiçãon):\n",
        "    comandoN\n",
        "else:\n",
        "    comandoX\n",
        "```"
      ]
    },
    {
      "cell_type": "markdown",
      "metadata": {
        "id": "rg1WPr9zImcE"
      },
      "source": [
        "#### <font color='#A9C9FC'> Exemplo-016: Estrutura condicional com múltiplas condições</font>\n",
        "---"
      ]
    },
    {
      "cell_type": "code",
      "execution_count": null,
      "metadata": {
        "id": "B5z30faWnLvW"
      },
      "outputs": [],
      "source": [
        "notaFinal = float(input(\"Digite o valor da Nota Final: \"))\n",
        "if notaFinal<5:\n",
        "  print (\"INSUFICIENTE\")\n",
        "elif notaFinal<7:\n",
        "  print (\"REGULAR\")\n",
        "elif notaFinal<9:\n",
        "  print (\"BOM\")\n",
        "else:\n",
        "  print (\"EXCELENTE\")"
      ]
    },
    {
      "cell_type": "markdown",
      "metadata": {
        "id": "s1dhV5uGAH3O"
      },
      "source": [
        "###Estrutura condicional sem operadores lógicos"
      ]
    },
    {
      "cell_type": "markdown",
      "metadata": {
        "id": "lGFLbJWn1kWx"
      },
      "source": [
        "#### <font color='#A9C9FC'> Exemplo-017: Estrutura condicional sem operadores lógicos</font>\n",
        "---\n",
        "O programa abaixo solicita que o usuário digite 3 lados de um suposto triângulo. Depois de receber os valores dos 3 lados, ele verifica se os 3 lados formam ou não formam um triângulo."
      ]
    },
    {
      "cell_type": "code",
      "execution_count": null,
      "metadata": {
        "id": "0yb7-4A61ogG"
      },
      "outputs": [],
      "source": [
        "a = float(input(\"Digite o 1o lado do triângulo: \"))\n",
        "b = float(input(\"Digite o 2o lado do triângulo: \"))\n",
        "c = float(input(\"Digite o 3o lado do triângulo: \"))\n",
        "if (a<b+c):\n",
        "    if (b<c+a):\n",
        "        if (c<a+b):\n",
        "            print(\"Os lados formam um triângulo\")\n",
        "        else:\n",
        "            print(\"Erro - Lado C\")\n",
        "    else:\n",
        "        print(\"Erro - Lado B\")\n",
        "else:\n",
        "        print(\"Erro - Lado A\")"
      ]
    },
    {
      "cell_type": "markdown",
      "metadata": {
        "id": "vhcOiWjXBgeT"
      },
      "source": [
        "###Estrutura condicional com operadores lógicos"
      ]
    },
    {
      "cell_type": "markdown",
      "metadata": {
        "id": "rudI4aT5KQys"
      },
      "source": [
        "#### <font color='#A9C9FC'> Exemplo-018: Estrutura condicional com operadores lógicos</font>\n",
        "---\n",
        "\n",
        "O programa abaixo solicita que o usuário digite 3 lados de um suposto triângulo. Depois de receber os valores dos 3 lados, ele verifica se os 3 lados formam ou não formam um triângulo."
      ]
    },
    {
      "cell_type": "code",
      "execution_count": null,
      "metadata": {
        "id": "WsQ3yNp7KQyu"
      },
      "outputs": [],
      "source": [
        "a = float(input(\"Digite o 1o lado do triângulo: \"))\n",
        "b = float(input(\"Digite o 2o lado do triângulo: \"))\n",
        "c = float(input(\"Digite o 3o lado do triângulo: \"))\n",
        "\n",
        "if (a<b+c) and (b<a+c) and (c<a+b):\n",
        "    print(\"Os lados {}, {} e {} formam um triângulo\".format(a, b, c))\n",
        "else:\n",
        "    print(\"Os lados {}, {} e {} NÃO formam um triângulo\".format(a, b, c))"
      ]
    },
    {
      "cell_type": "markdown",
      "metadata": {
        "id": "mJdIaAWTB6ql"
      },
      "source": [
        "### Exemplos"
      ]
    },
    {
      "cell_type": "markdown",
      "metadata": {
        "id": "3PSrR_5CJdWO"
      },
      "source": [
        "#### <font color='#A9C9FC'> Exemplo-019: Cálculo do IMC - Índice de Massa Corporal</font>\n",
        "---\n",
        "\n",
        "O IMC é calculado através da equação $ IMC = \\frac{peso}{altura^2} $.\n",
        "\n",
        "Após o cálculo do índice, podemos verificar a situação da pessoa através da tabela abaixo.\n",
        "\n",
        "|         IMC        |         Situação        |\n",
        "|:------------------:|:-----------------------:|\n",
        "| Abaixo de 20       | Abaixo do peso          |\n",
        "| Entre 20 e 24,99   | Peso normal             |\n",
        "| Acima de 25        | Acima do peso           |\n"
      ]
    },
    {
      "cell_type": "code",
      "execution_count": null,
      "metadata": {
        "id": "VVg5dJOaJdWQ"
      },
      "outputs": [],
      "source": [
        "peso = float(input(\"Digite seu peso: \"))\n",
        "altura = float(input(\"Digite sua altura: \"))\n",
        "imc = peso / altura ** 2\n",
        "if imc < 20:\n",
        "    print(\"Seu peso está abaixo do ideal. Seu IMC = {}.\".format(imc))\n",
        "else:\n",
        "    if imc >= 20 and imc<=25:\n",
        "        print(\"Seu peso está dentro da faixa ideal. Seu IMC = {}.\".format(imc))\n",
        "    else:\n",
        "        print(\"Seu peso está acima do ideal. Seu IMC = {}.\".format(imc))"
      ]
    },
    {
      "cell_type": "markdown",
      "metadata": {
        "id": "H_NL5TtSJp_H"
      },
      "source": [
        "#### <font color='#A9C9FC'> Exemplo-020: Cálculo do IMC para diversas classes</font>\n",
        "---\n",
        "O IMC é calculado através da equação $ IMC = \\frac{peso}{altura^2} $.\n",
        "\n",
        "Após o cálculo do índice, podemos verificar a situação da pessoa através da tabela abaixo.\n",
        "\n",
        "|         IMC        |         Situação        |\n",
        "|:------------------:|:-----------------------:|\n",
        "| Abaixo de 17       | Muito abaixo do peso    |\n",
        "| Entre 17 e 18,49   | Abaixo do peso          |\n",
        "| Entre 18,5 e 24,99 | Peso normal             |\n",
        "| Entre 25 e 29,99   | Acima do peso           |\n",
        "| Entre 30 e 34,99   | Obesidade I             |\n",
        "| Entre 35 e 39,99   | Obesidade II (severa)   |\n",
        "| Acima de 40        | Obesidade III (mórbida) |"
      ]
    },
    {
      "cell_type": "code",
      "execution_count": null,
      "metadata": {
        "id": "NeTj9RSWJp_I"
      },
      "outputs": [],
      "source": [
        "peso = float(input(\"Digite seu peso: \"))\n",
        "altura = float(input(\"Digite sua altura: \"))\n",
        "imc = peso / altura ** 2\n",
        "if imc < 17:\n",
        "    print(\"Seu peso está muito abaixo do ideal. Seu IMC = {}.\".format(imc))\n",
        "else:\n",
        "    if imc >= 17 and imc < 18.5:\n",
        "        print(\"Seu peso está abaixo do ideal. Seu IMC = {}.\".format(imc))\n",
        "    else:\n",
        "        if imc >= 18.5 and imc < 25:\n",
        "            print(\"Seu peso está dentro da faixa ideal. Seu IMC = {}.\".format(imc))\n",
        "        else:\n",
        "            if imc >= 25 and imc < 30:\n",
        "                print(\"Seu peso está acima do ideal. Seu IMC = {}.\".format(imc))\n",
        "            else:\n",
        "                if imc >= 30 and imc < 35:\n",
        "                    print(\"Seu peso está acima do ideal (Obesidade I). Seu IMC = {}.\".format(imc))\n",
        "                else:\n",
        "                    if imc >= 35 and imc < 40:\n",
        "                        print(\"Seu peso está acima do ideal (Obesidade II - severa). Seu IMC = {}.\".format(imc))\n",
        "                    else:\n",
        "                        print(\"Seu peso está acima do ideal (Obesidade III - mórbida). Seu IMC = {}.\".format(imc))\n"
      ]
    },
    {
      "cell_type": "markdown",
      "metadata": {
        "id": "vJyuPW10Jp_O"
      },
      "source": [
        "#### <font color='#A9C9FC'> Exemplo-021: Cálculo do IMC para diversas classes com múltiplas condições</font>\n",
        "---"
      ]
    },
    {
      "cell_type": "code",
      "execution_count": null,
      "metadata": {
        "id": "YDYC0dpjJp_P"
      },
      "outputs": [],
      "source": [
        "peso = float(input(\"Digite seu peso: \"))\n",
        "altura = float(input(\"Digite sua altura: \"))\n",
        "imc = peso / altura ** 2\n",
        "if imc < 17:\n",
        "    print(\"Seu peso está muito abaixo do ideal. Seu IMC = {}.\".format(imc))\n",
        "elif imc >= 17 and imc < 18.5:\n",
        "    print(\"Seu peso está abaixo do ideal. Seu IMC = {}.\".format(imc))\n",
        "elif imc >= 18.5 and imc < 25:\n",
        "    print(\"Seu peso está dentro da faixa ideal. Seu IMC = {}.\".format(imc))\n",
        "elif imc >= 25 and imc < 30:\n",
        "    print(\"Seu peso está acima do ideal. Seu IMC = {}.\".format(imc))\n",
        "elif imc >= 30 and imc < 35:\n",
        "    print(\"Seu peso está acima do ideal (Obesidade I). Seu IMC = {}.\".format(imc))\n",
        "elif imc >= 35 and imc < 40:\n",
        "    print(\"Seu peso está acima do ideal (Obesidade II - severa). Seu IMC = {}.\".format(imc))\n",
        "else:\n",
        "    print(\"Seu peso está acima do ideal (Obesidade III - mórbida). Seu IMC = {}.\".format(imc))"
      ]
    },
    {
      "cell_type": "markdown",
      "metadata": {
        "id": "GFUHrzNxKQy0"
      },
      "source": [
        "#### <font color='#A9C9FC'> Exemplo-022: Verifica a existência de um triângulo com estrutura condicional encaixada</font>\n",
        "---\n",
        "O programa abaixo solicita que o usuário digite 3 lados de um suposto triângulo. Depois de receber os valores dos 3 lados, ele verifica se os 3 lados formam ou não formam um triângulo. Se os 3 lados formarem um triângulo, ele imprime que tipo de triângulo será informado."
      ]
    },
    {
      "cell_type": "code",
      "execution_count": null,
      "metadata": {
        "id": "3pqx_zxZKQy1"
      },
      "outputs": [],
      "source": [
        "lado1 = float(input(\"Digite o 1o lado do triângulo: \"))\n",
        "lado2 = float(input(\"Digite o 2o lado do triângulo: \"))\n",
        "lado3 = float(input(\"Digite o 3o lado do triângulo: \"))\n",
        "\n",
        "if (lado1 + lado2 > lado3) and (lado2 + lado3 > lado1) and (lado3 + lado1 > lado2):\n",
        "    if (lado1 == lado2) and (lado2 == lado3): # também poderia usar if a==b==c:\n",
        "        print(\"Os lados {}, {} e {} formam um triângulo equilátero.\".format(lado1, lado2, lado3))\n",
        "    else:\n",
        "        if (lado1 == lado2) or (lado2 == lado3) or (lado3 == lado1):\n",
        "            print(\"Os lados {}, {} e {} formam um triângulo isóceles.\".format(lado1, lado2, lado3))\n",
        "        else:\n",
        "            print(\"Os lados {}, {} e {} formam um triângulo escaleno.\".format(lado1, lado2, lado3))\n",
        "else:\n",
        "    print(\"Os lados {}, {} e {} NÃO formam um triângulo\".format(lado1, lado2, lado3))"
      ]
    },
    {
      "cell_type": "markdown",
      "metadata": {
        "id": "mrkrgHqkVPhk"
      },
      "source": [
        "#### <font color='#A9C9FC'> Exemplo-023: Verifica a existência de um triângulo com estrutura condicional múltipla</font>\n",
        "---"
      ]
    },
    {
      "cell_type": "code",
      "execution_count": null,
      "metadata": {
        "id": "uzoc7C_4KQy5"
      },
      "outputs": [],
      "source": [
        "lado1 = float(input(\"Digite o 1o lado do triângulo: \"))\n",
        "lado2 = float(input(\"Digite o 2o lado do triângulo: \"))\n",
        "lado3 = float(input(\"Digite o 3o lado do triângulo: \"))\n",
        "\n",
        "if (lado1 + lado2 > lado3) and (lado2 + lado3 > lado1) and (lado3 + lado1 > lado2):\n",
        "    if (lado1 == lado2) and (lado2 == lado3): # também poderia usar if a==b==c:\n",
        "        print(\"Os lados {}, {} e {} formam um triângulo equilátero.\".format(lado1, lado2, lado3))\n",
        "    elif (lado1 == lado2) or (lado2 == lado3) or (lado3 == lado1):\n",
        "        print(\"Os lados {}, {} e {} formam um triângulo isóceles.\".format(lado1, lado2, lado3))\n",
        "    else:\n",
        "        print(\"Os lados {}, {} e {} formam um triângulo escaleno.\".format(lado1, lado2, lado3))\n",
        "else:\n",
        "    print(\"Os lados {}, {} e {} NÃO formam um triângulo\".format(lado1, lado2, lado3))"
      ]
    },
    {
      "cell_type": "markdown",
      "metadata": {
        "id": "kLG9MUzYOnN9"
      },
      "source": [
        "## **04. Estruturas de repetição**"
      ]
    },
    {
      "cell_type": "markdown",
      "metadata": {
        "id": "dSM1pgMhO0j9"
      },
      "source": [
        "### **Repetição com o comando for**\n",
        "\n",
        "Esta estrutura deve ser utilizada quando é possível determinar o número de vezes que um determinado conjunto de instruções será executado. Para implementar esta estrutura é necessário utilizar a estrutura de repetição contada do tipo:\n",
        "\n",
        "**for N in range(Valor Inicial, Valor Final):**\n",
        "\n",
        "O valor de N começa com o **Valor Inicial** e vai até **Valor Final -1**, por exemplo se dentro da função **range** os valores inicial e final forem respectivamente (1,5) os valores de **N** na repetição serão: 1,2,3 e 4.  \n",
        "\n",
        "A variável (N) tem o papel de \"contador\", que controla o número de execuções de acordo com os valores existentes nos parênteses (Valor Inicial e Valor Final-1).  "
      ]
    },
    {
      "cell_type": "markdown",
      "metadata": {
        "id": "SnG0SfPrts6W"
      },
      "source": [
        "#### <font color='#A9C9FC'> Exemplo-024</font>\n",
        "---\n",
        "Exemplo: Este programa irá imprimir na tela os 15 primeiros números naturais (um número natural é um número inteiro positivo, não sendo o zero considerado como um número natural)."
      ]
    },
    {
      "cell_type": "code",
      "execution_count": null,
      "metadata": {
        "id": "YWBZn1Ta9-5G"
      },
      "outputs": [],
      "source": [
        "#imprime os números naturais de 1 a 15\n",
        "for N in range(1, 16):\n",
        "  print(N)"
      ]
    },
    {
      "cell_type": "markdown",
      "metadata": {
        "id": "COe_1hlyKsUg"
      },
      "source": [
        "#### <font color='#A9C9FC'> Exemplo-025</font>\n",
        "---\n",
        "Exemplo: Existe uma outra alternativa para resolver o mesmo problema da impressão dos 15 primeiros números naturais em Python, esta solução utiliza o mesmo tipo de estrutura de repetição, porem omite o valor inicial. Quando esse valor é omitido a linguagem Python assume que o valor inicial é SEMPRE ZERO, ou seja, implicitamente o valor inicial da estrutura for será igual a zero, para isso é necessário adaptar o algoritmo para que ele produza o resultado esperado"
      ]
    },
    {
      "cell_type": "code",
      "execution_count": null,
      "metadata": {
        "id": "Jgm9sOj2KA0K"
      },
      "outputs": [],
      "source": [
        "#imprime os números naturais de 1 a 15 - Versão 2\n",
        "for N in range(15):\n",
        "  print(N+1)"
      ]
    },
    {
      "cell_type": "markdown",
      "metadata": {
        "id": "0X73MjxwvwUu"
      },
      "source": [
        "#### <font color='#A9C9FC'> Exemplo-026</font>\n",
        "---\n",
        "\n",
        "Exemplo: Este programa irá imprimir na tela os números pares entre 10 e 30."
      ]
    },
    {
      "cell_type": "code",
      "execution_count": null,
      "metadata": {
        "id": "4iQXi6KasGtU"
      },
      "outputs": [],
      "source": [
        "#imprime os pares entre 10 e 30\n",
        "for N in range(10, 32,2):\n",
        "  print(N)"
      ]
    },
    {
      "cell_type": "markdown",
      "metadata": {
        "id": "c2aQUmJiynBA"
      },
      "source": [
        "#### <font color='#A9C9FC'> Exemplo-027</font>\n",
        "---\n",
        "Estatísticas da turma: Escreva um programa que solicite o número de alunos de uma turma em seguida solicite a nota média de cada alundo desta turma, finalmente calcule e escreva:\n",
        "\n",
        "* A média da turma;\n",
        "* O número de alunos que obtiveram médias maiores ou iguais a 7;\n",
        "* O número de alunos que obtiveram médias menores que 7.\n"
      ]
    },
    {
      "cell_type": "code",
      "execution_count": null,
      "metadata": {
        "id": "NA_RBP1hzIpa"
      },
      "outputs": [],
      "source": [
        "# variáveis que irão acumular os valores da estatística\n",
        "somaMediaTurma=0\n",
        "totalMenor7=0\n",
        "totalMaiorIgual7=0\n",
        "#Informar numero de alunos\n",
        "nrAlunos = int(input(\"Informe o no de alunos da turma: \"))\n",
        "#Estrutura de repetição contada, utilizando a variável \"aluno\" para controlar o número\n",
        "#de repetições. O valor final é obtido da variável nrAlunos\n",
        "for aluno in range(1,nrAlunos+1):\n",
        "    print(\"Aluno\",aluno)\n",
        "    #N+1 porque Pyhton começa a contar a partír do índice 0\n",
        "    notaMedia = float(input(\"Informe a nota média: \"))\n",
        "    #recebe a nota média de cada aluno\n",
        "    somaMediaTurma=somaMediaTurma+notaMedia\n",
        "    #soma a média da turma\n",
        "    #conta as notas menores, maiores ou iguais a 7, usando notaMedia do aluno como\n",
        "    #referência\n",
        "    if notaMedia<7:\n",
        "      totalMenor7 += 1 # incrementa de uma unidade quando cond. verdadeira\n",
        "    else:\n",
        "      totalMaiorIgual7 += 1 # incrementa de uma unidade quando cond. verdadeira\n",
        "# imprime os resultados\n",
        "print(\"Média da turma =\",somaMediaTurma/nrAlunos)\n",
        "print(\"Total de alunos com média menor que 7 =\",totalMenor7)\n",
        "print(\"Total de alunos com média maior ou igual a 7 =\",totalMaiorIgual7)"
      ]
    },
    {
      "cell_type": "markdown",
      "metadata": {
        "id": "A3RNAlOEI-07"
      },
      "source": [
        "#### <font color='#A9C9FC'> Exemplo-028</font>\n",
        "---\n",
        "\n",
        "**Exemplos com a estrutura FOR**"
      ]
    },
    {
      "cell_type": "markdown",
      "metadata": {
        "id": "qvratTgJO0ki"
      },
      "source": [
        "Iterando sobre uma faixa de valores gerada com a função range()"
      ]
    },
    {
      "cell_type": "code",
      "execution_count": null,
      "metadata": {
        "id": "yHLk4tDeO0kj"
      },
      "outputs": [],
      "source": [
        "# Iterando sobre uma faixa de valores gerada com a função range()\n",
        "for i in range(5):\n",
        "    print(i)"
      ]
    },
    {
      "cell_type": "markdown",
      "metadata": {
        "id": "2S6HAmoBItcf"
      },
      "source": [
        "#### <font color='#A9C9FC'> Exemplo-029</font>\n",
        "---\n",
        "Somatório dos múltiplos de 3 entre 1 e 100"
      ]
    },
    {
      "cell_type": "code",
      "execution_count": null,
      "metadata": {
        "id": "6LyuD230O0kn"
      },
      "outputs": [],
      "source": [
        "# Somatório dos múltiplos de 3 entre 1 e 100\n",
        "soma_mult_3 = 0\n",
        "for x in range(3, 100, 3):\n",
        "    soma_mult_3 += x\n",
        "print(soma_mult_3)"
      ]
    },
    {
      "cell_type": "markdown",
      "metadata": {
        "id": "ri5zQf-KP4LA"
      },
      "source": [
        "#### <font color='#A9C9FC'> Exemplo-030</font>\n",
        "---\n",
        "Imprimindo a tabuada de um número qualquer"
      ]
    },
    {
      "cell_type": "code",
      "execution_count": null,
      "metadata": {
        "id": "eivQufQgO0kr"
      },
      "outputs": [],
      "source": [
        "# Imprimindo a tabuada de um número qualquer\n",
        "num = int(input(\"Digite o número que deseja imprimir a tabuada: \"))\n",
        "for mult in range(1,11):\n",
        "    print(\"{} x {} = {}\".format(num, mult, num*mult))"
      ]
    },
    {
      "cell_type": "markdown",
      "metadata": {
        "id": "k5amAbKRO0k1"
      },
      "source": [
        "#### <font color='#A9C9FC'> Exemplo-031</font>\n",
        "---\n",
        "\n",
        "Imprimindo strings"
      ]
    },
    {
      "cell_type": "code",
      "execution_count": null,
      "metadata": {
        "id": "PUrQBbGoO0k2"
      },
      "outputs": [],
      "source": [
        "#Pneumoultramicroscopicossilicovulcanoconiótico. adjetivo Relacionado com a\n",
        "#doença que ataca os pulmões, causada pela inalação de cinzas vulcânicas, provenientes de vulcões.\n",
        "maiorpalavra  = \"pneumoultramicroscopicossilicovulcanoconiótico\"\n",
        "for letra in maiorpalavra:\n",
        "    print(letra)"
      ]
    },
    {
      "cell_type": "markdown",
      "metadata": {
        "id": "30KemGs-XZK4"
      },
      "source": [
        "### **Repetição com comando while**\n",
        "\n",
        "O while é o comando utilizado para programar repetições no Python baseadas na avaliação de uma condição. Enquanto a condição for verdadeira, o bloco de comandos interno ao while é repetido. Quando a condição se torna falsa, o bloco de comandos deixa de repetir.\n",
        "\n",
        "```python\n",
        "while (condição):\n",
        "    comando1\n",
        "    comando2\n",
        "    ...\n",
        "    comandoN\n",
        "```"
      ]
    },
    {
      "cell_type": "markdown",
      "metadata": {
        "id": "V49XQJWhze6a"
      },
      "source": [
        "#### <font color='#A9C9FC'> Exemplo-032</font>\n",
        "---\n",
        "\n",
        "Exemplo: Este programa irá imprimir na tela os 15 primeiros números naturais (um número natural é um número inteiro positivo, não sendo o zero considerado como um número natural). Neste exemplo será utilizada a estrutura condicional **while**."
      ]
    },
    {
      "cell_type": "code",
      "execution_count": null,
      "metadata": {
        "id": "95rH2uX5WIun"
      },
      "outputs": [],
      "source": [
        "n=1\n",
        "while (n<=15):\n",
        "  print(n)\n",
        "  n=n+1"
      ]
    },
    {
      "cell_type": "markdown",
      "metadata": {
        "id": "_u-wzZzcV3VE"
      },
      "source": [
        "#### <font color='#A9C9FC'> Exemplo-033</font>\n",
        "---\n",
        "\n",
        "Este programa soma valores até o valor da variável **n** seja **menor** que zero"
      ]
    },
    {
      "cell_type": "code",
      "execution_count": null,
      "metadata": {
        "id": "z0gWnMXAy0B5"
      },
      "outputs": [],
      "source": [
        "# Este programa soma valores até o valor da variável n seja igual a zero\n",
        "soma=0\n",
        "n = int(input(\"Informe o valor de N: \"))\n",
        "while (n!=0):\n",
        "  soma=soma+n\n",
        "  n = int(input(\"Informe o valor de N: \"))\n",
        "print(\"Soma =\",soma)"
      ]
    },
    {
      "cell_type": "markdown",
      "metadata": {
        "id": "szs7Uqw-aUGz"
      },
      "source": [
        "#### <font color='#A9C9FC'> Exemplo-034</font>\n",
        "---\n",
        "Estatísticas da turma: Escreva um programa que solicite o número de alunos de uma turma em seguida solicite a nota média de cada alundo desta turma, finalmente calcule e escreva:\n",
        "* A média da turma;\n",
        "* O número de alunos que obtiveram médias maiores ou iguais a 7;\n",
        "* O número de alunos que obtiveram médias menores que 7."
      ]
    },
    {
      "cell_type": "code",
      "execution_count": null,
      "metadata": {
        "id": "kc9ntsxLaUyM"
      },
      "outputs": [],
      "source": [
        "# variáveis que irão acumular os valores da estatística\n",
        "somaMediaTurma=0\n",
        "totalMenor7=0\n",
        "totalMaiorIgual7=0\n",
        "totalAlunos=0\n",
        "#Informar numero de alunos\n",
        "nrAlunos = int(input(\"Informe o no de alunos da turma: \"))\n",
        "#Estrutura de repetição contada, utilizando a variável \"aluno\" para controlar o número\n",
        "#de repetições. O valor final é obtido da variável nrAlunos\n",
        "while (totalAlunos<nrAlunos):\n",
        "  totalAlunos=totalAlunos+1\n",
        "  print(\"Aluno\",totalAlunos)\n",
        "  notaMedia = float(input(\"Informe a nota média: \"))\n",
        "  #recebe a nota média de cada aluno\n",
        "  somaMediaTurma=somaMediaTurma+notaMedia\n",
        "  #soma a média da turma\n",
        "  #conta as notas menores, maiores ou iguais a 7, usando notaMedia do aluno como\n",
        "  #referência\n",
        "  if notaMedia<7:\n",
        "    totalMenor7 += 1 # incrementa de uma unidade quando cond. verdadeira\n",
        "  else:\n",
        "    totalMaiorIgual7 += 1 # incrementa de uma unidade quando cond. verdadeira\n",
        "# imprime os resultados\n",
        "print(\"Média da turma =\",somaMediaTurma/nrAlunos)\n",
        "print(\"Total de alunos com média menor que 7 =\",totalMenor7)\n",
        "print(\"Total de alunos com média maior ou igual a 7 =\",totalMaiorIgual7)"
      ]
    },
    {
      "cell_type": "markdown",
      "metadata": {
        "id": "sccQgIvczsc6"
      },
      "source": [
        "#### <font color='#A9C9FC'> Exemplo-035</font>\n",
        "---\n",
        "\n",
        "Este programa imprime os pares de 2 a 20"
      ]
    },
    {
      "cell_type": "code",
      "execution_count": null,
      "metadata": {
        "id": "wKIAqqUHzwhy"
      },
      "outputs": [],
      "source": [
        "# Este programa imprime os pares de 2 a 20\n",
        "n=1\n",
        "par=2\n",
        "while (n<=10):\n",
        "  print(par)\n",
        "  par=par+2\n",
        "  n=n+1"
      ]
    },
    {
      "cell_type": "markdown",
      "metadata": {
        "id": "TvKQTEfm1T84"
      },
      "source": [
        "#### <font color='#A9C9FC'> Exemplo-037</font>\n",
        "---\n",
        "Este programa imprime todos os números pares de 1 até o número fornecido pelo usuário."
      ]
    },
    {
      "cell_type": "code",
      "execution_count": null,
      "metadata": {
        "id": "IMRX75eL1QnO"
      },
      "outputs": [],
      "source": [
        "numero=1\n",
        "max = int(input(\"Digite um inteiro maior que 1: \") )\n",
        "\n",
        "print(\"Numeros pares entre 1 e\", max, \":\")\n",
        "\n",
        "while numero <= max:\n",
        "    if numero%2==0:  # verifica se o resto da divisão de numero por 2 é igual a zero, em caso afirmativo imprime.\n",
        "        print(numero,  end=\" \")\n",
        "    numero+=1"
      ]
    },
    {
      "cell_type": "markdown",
      "metadata": {
        "id": "BPOn0RWqOnOK"
      },
      "source": [
        "#### <font color='#A9C9FC'> Exemplo-038</font>\n",
        "---\n",
        "Calcular a soma dos termos da série, enquanto o valor dos termos for maior que 0.0001\n",
        "\n",
        "$S = \\frac{1}{1}+\\frac{1}{4}+\\frac{1}{9}+\\frac{1}{16}+...$"
      ]
    },
    {
      "cell_type": "code",
      "execution_count": null,
      "metadata": {
        "id": "iYIv3ktAOnOL"
      },
      "outputs": [],
      "source": [
        "soma = 0 # Acumulador que representa a soma de todos os termos da série\n",
        "qtde = 0 # Inicialização do contador que conta a quantidade de termos calculados\n",
        "den = 0 # Inicialização da variável que representa o denominador\n",
        "termo = 1 # Inicialização do termo = 1 (para conseguir entrar no loop while)\n",
        "while (termo > 0.0001):\n",
        "    qtde += 1 # Incrementa a quantidade de termos calculados na série\n",
        "    den = qtde ** 2 # Calcula o valor do denominador em relação à quantidade\n",
        "    termo = 1 / den\n",
        "    soma += termo # Acumula o valor do termo à soma\n",
        "    print(\"{}o termo {}/{} = {}\".format(qtde, 1, den, termo))\n",
        "\n",
        "print(soma)"
      ]
    },
    {
      "cell_type": "markdown",
      "metadata": {
        "id": "H1GrDm_KqZHN"
      },
      "source": [
        "### **Repetição encaixada**\n",
        "\n",
        "Estrutura de repetição ocorre quando é necessário criar uma estrutura de repetição interna a outra estrutura de repetição. O algoritmo avaliará a primeira estrutura de repetição (mais externa) a seguir a próxima (mais interna) e assim sucessivamente até chegar na estrutura mais interna que é completamente executada, ao final de sua execução o controle volta para a repetição mais externa e processo se repete até que a condição mais externa se torna falsa. Este processo pode ser implementado em qualquer tipo de estrutura de repetição.\n",
        "\n",
        "```python\n",
        "while (condição1):\n",
        "  while (condição2):\n",
        "    comando1\n",
        "    comando2\n",
        "  comandoN\n",
        "```\n",
        "\n",
        "```python\n",
        "for (vi,vf):\n",
        "  for (vi2,vf2):\n",
        "    comando1\n",
        "    comando2\n",
        "  comandoN\n",
        "```\n"
      ]
    },
    {
      "cell_type": "markdown",
      "metadata": {
        "id": "A1YK3HEfst_Y"
      },
      "source": [
        "#### <font color='#A9C9FC'> Exemplo-039</font>\n",
        "---\n",
        "Imprime a tabuada de 1 a 10"
      ]
    },
    {
      "cell_type": "code",
      "execution_count": null,
      "metadata": {
        "id": "stzqzm5arooi"
      },
      "outputs": [],
      "source": [
        "# imprime a tabuada de 1 a 10\n",
        "for x in range(1,11):\n",
        "  for y in range(1,11):\n",
        "    print(x , \" X \",y,\"=\",x*y)\n",
        "  print(\"*************\")"
      ]
    },
    {
      "cell_type": "markdown",
      "metadata": {
        "id": "V8U89gyCO_1f"
      },
      "source": [
        "## **05. Procedimentos ou Funções**\n",
        "\n",
        "Em python, so existe uma forma de declarar um procedimento ou função, isso é feito através do comando **def** seguido pelo nome do procedimento ou função e da sua lista de parâmetros, a forma geral é descrita a seguir.\n"
      ]
    },
    {
      "cell_type": "markdown",
      "metadata": {
        "id": "E_bc751qa6_y"
      },
      "source": [
        "```python\n",
        "def func(lista de parâmetros):\n",
        "    bloco de comandos\n",
        "    return # opcional\n",
        "```"
      ]
    },
    {
      "cell_type": "code",
      "execution_count": null,
      "metadata": {
        "id": "HbRlkYXDO_2U"
      },
      "outputs": [],
      "source": [
        "# Parâmetros default\n",
        "# caso não seja informado o valor de será SEMPRE utilizado o índice 2 (raiz quadrada)\n",
        "def raiz(num, r=2):\n",
        "    return num ** (1/r)"
      ]
    },
    {
      "cell_type": "code",
      "execution_count": null,
      "metadata": {
        "id": "EYZC4EcyO_2Q"
      },
      "outputs": [],
      "source": [
        "d = raiz(num = 81, r = 2) # Argumentos nomeados\n",
        "d"
      ]
    },
    {
      "cell_type": "code",
      "execution_count": null,
      "metadata": {
        "id": "nqGvEUmSO_2Y",
        "colab": {
          "base_uri": "https://localhost:8080/"
        },
        "outputId": "c6e9ce4a-1480-44fb-e3d8-6c8614cd0e88"
      },
      "outputs": [
        {
          "output_type": "stream",
          "name": "stdout",
          "text": [
            "2.5198420997897464\n"
          ]
        }
      ],
      "source": [
        "#exemplos\n",
        "print(raiz(16,3))"
      ]
    },
    {
      "cell_type": "code",
      "execution_count": null,
      "metadata": {
        "id": "YxCaaGZbO_2b"
      },
      "outputs": [],
      "source": [
        "print(raiz(32, 5))"
      ]
    },
    {
      "cell_type": "code",
      "execution_count": null,
      "metadata": {
        "id": "J6AWPFSjO_2f"
      },
      "outputs": [],
      "source": [
        "# função usando parâmetros arbitrários\n",
        "def soma(*nums):\n",
        "    print(type(nums))\n",
        "    soma = 0\n",
        "    for num in nums:\n",
        "        soma += num\n",
        "    return soma"
      ]
    },
    {
      "cell_type": "code",
      "execution_count": null,
      "metadata": {
        "id": "-_4d85QtO_2j",
        "colab": {
          "base_uri": "https://localhost:8080/"
        },
        "outputId": "cad40986-2557-442a-cb96-7be252d199be"
      },
      "outputs": [
        {
          "output_type": "stream",
          "name": "stdout",
          "text": [
            "<class 'tuple'>\n"
          ]
        },
        {
          "output_type": "execute_result",
          "data": {
            "text/plain": [
              "14"
            ]
          },
          "metadata": {},
          "execution_count": 12
        }
      ],
      "source": [
        "# irá somar todos os números que estão entre parênteses\n",
        "soma(2, 3,2,3,4)\n"
      ]
    },
    {
      "cell_type": "markdown",
      "metadata": {
        "id": "Gw2uWwFliz3D"
      },
      "source": [
        "#### <font color='#A9C9FC'> Exemplo-040</font>\n",
        "---\n",
        "Esta função (procedimento, pois não retorna valor) imprime o valor dos argumentos (nome e sobrenome) que são passados ao procedimento imprimeNomes."
      ]
    },
    {
      "cell_type": "code",
      "execution_count": null,
      "metadata": {
        "id": "2W6j2UptO_1h"
      },
      "outputs": [],
      "source": [
        "# Exemplo de implementação de Procedimento em Python\n",
        "\n",
        "def imprimeNomes(nome,sobreNome):\n",
        "    saida = \"Nome Completo: \"+nome+\" \"+sobreNome\n",
        "    print(saida)\n",
        "\n",
        "#Esta função imprime o valor do argumento passado por parâmetro.\n"
      ]
    },
    {
      "cell_type": "code",
      "execution_count": null,
      "metadata": {
        "id": "yZe9GaqsO_1m",
        "colab": {
          "base_uri": "https://localhost:8080/"
        },
        "outputId": "0214d98c-97e1-486f-ae77-ac1582c2abb2"
      },
      "outputs": [
        {
          "output_type": "stream",
          "name": "stdout",
          "text": [
            "Nome Completo: Bernardo Lima\n"
          ]
        }
      ],
      "source": [
        "imprimeNomes(\"Bernardo\",\"Lima\")"
      ]
    },
    {
      "cell_type": "markdown",
      "metadata": {
        "id": "JD7i40nJgcK6"
      },
      "source": [
        "#### <font color='#A9C9FC'> Exemplo-041</font>\n",
        "---\n",
        "Este programa calcula as raízes de uma equação do segundo grau utilizando uma função para calcular o valor de **delta**, esta função recebe os coeficientes **a, b e c,** que serão utilizados para calcular as raízes da equação do segundo grau.\n"
      ]
    },
    {
      "cell_type": "code",
      "execution_count": null,
      "metadata": {
        "id": "rl6wi6Ywggm9"
      },
      "outputs": [],
      "source": [
        "import math\n",
        "# necessário para usar cálculos matemáticos\n",
        "\n",
        "#Para testar:\n",
        "# valores: 1,-3 e -10 produzem duas raízes:  5.0  e  -2.0\n",
        "# valores: 1,-6 e 9 produzem apenas uma raiz: 3.0\n",
        "# valores: 1,2 e 3 não produzem raízes reais\n",
        "\n",
        "# Função que calcula DELTA\n",
        "def calcula_delta(a,b,c):\n",
        "    calcula_delta = b*b - 4 * a * c\n",
        "    return calcula_delta\n",
        "#############################\n",
        "\n",
        "### Inicio do Programa\n",
        "\n",
        "a = int(input(\"Informe o valor de A: \"))\n",
        "b = int(input(\"Informe o valor de B: \"))\n",
        "c = int(input(\"Informe o valor de C: \"))\n",
        "\n",
        "delta = calcula_delta(a,b,c)\n",
        "# O delta será usado para calcular as raízes\n",
        "if (delta<0):\n",
        "  print(\"Esta equação não possui raízes reais.\")\n",
        "elif (delta==0):\n",
        "  x1=(-b+math.sqrt(delta))/(2*a)\n",
        "  print(\"Esta equação possui apenas uma raiz: \",x1)\n",
        "else:\n",
        "  x1=(-b+math.sqrt(delta))/(2*a)\n",
        "  x2=(-b-math.sqrt(delta))/(2*a)\n",
        "  print(\"Esta equação possui duas raízes: \",x1,\" e \",x2)"
      ]
    },
    {
      "cell_type": "markdown",
      "metadata": {
        "id": "zYu1TwxliXHw"
      },
      "source": [
        "#### <font color='#A9C9FC'> Exemplo-042</font>\n",
        "---\n",
        "Exercício: Escreva uma nova versão do programa anterior, criando uma função para calcular as raízes da equação, esta função deverá ser chamada dentro do programa principal. Faça as modificações necessárias no código."
      ]
    },
    {
      "cell_type": "code",
      "execution_count": null,
      "metadata": {
        "id": "FS3coQcGqjy-"
      },
      "outputs": [],
      "source": [
        "import math\n",
        "# necessário para usar cálculos matemáticos\n",
        "\n",
        "# Para testar:\n",
        "# valores: 1,-3 e -10 produzem duas raízes:  5.0  e  -2.0\n",
        "# valores: 1,-6 e 9 produzem apenas uma raiz: 3.0\n",
        "# valores: 1,2 e 3 não produzem raízes reais\n",
        "\n",
        "####### Funções e procedimentos ########\n",
        "\n",
        "# Função que calcula DELTA\n",
        "def calcula_delta(a,b,c):\n",
        "    calcula_delta = b*b - 4 * a * c\n",
        "    return calcula_delta\n",
        "\n",
        "# Procedimento que calcula as raízes\n",
        "def calculaRaizes(a,b,c):\n",
        "    delta = calcula_delta(a,b,c)\n",
        "    if (delta<0):\n",
        "        print(\"Esta equação não possui raízes reais.\")\n",
        "    else: # é maior ou igual a ZERO\n",
        "        x1=(-b+math.sqrt(delta))/(2*a)\n",
        "        if (delta==0):\n",
        "          print(\"Esta equação possui apenas uma raiz: \",x1)\n",
        "        else: # delta for maior que ZERO\n",
        "          x2=(-b-math.sqrt(delta))/(2*a)\n",
        "          print(\"Esta equação possui duas raízes: \",x1,\" e \",x2)\n",
        "\n",
        "### Inicio do Programa ######\n",
        "a = int(input(\"Informe o valor de A: \"))\n",
        "b = int(input(\"Informe o valor de B: \"))\n",
        "c = int(input(\"Informe o valor de C: \"))\n",
        "# chama o Procedimento Calcula raízes\n",
        "calculaRaizes(a,b,c)\n"
      ]
    },
    {
      "cell_type": "markdown",
      "metadata": {
        "id": "NTdvyUBOj_zw"
      },
      "source": [
        "#### <font color='#A9C9FC'> Exemplo-043</font>\n",
        "---\n",
        "Este programa utiliza uma função para calcular a raiz de um número, recebendo os parâmetros r e num, que representam o índice e radicando da raiz. O cálculo da raiz é feito através da operação de potência."
      ]
    },
    {
      "cell_type": "code",
      "execution_count": null,
      "metadata": {
        "id": "iooQ0AnqO_2A"
      },
      "outputs": [],
      "source": [
        "# Função que recebe os parâmetros r e num, representam o índice e radicando da raiz,\n",
        "# O cálculo da raiz é feito através da operação de potência.\n",
        "def raiz(r, num):\n",
        "    return num ** (1/r)"
      ]
    },
    {
      "cell_type": "code",
      "execution_count": null,
      "metadata": {
        "id": "IS8JiwRFO_2F"
      },
      "outputs": [],
      "source": [
        "# raiz quadrada de 9\n",
        "print(raiz(2, 9))"
      ]
    },
    {
      "cell_type": "code",
      "execution_count": null,
      "metadata": {
        "id": "aGMyvqpuO_2I"
      },
      "outputs": [],
      "source": [
        "# raiz cúbica de 27\n",
        "print(raiz(3, 27))\n",
        "\n",
        "# A função utilizou\n",
        "#Argumentos posicionais, porém é possível trocar a ordem dos argumentos desde que identificados"
      ]
    },
    {
      "cell_type": "code",
      "execution_count": null,
      "metadata": {
        "id": "Rr_7sP-VO_2M"
      },
      "outputs": [],
      "source": [
        "c = raiz(5, 243)\n",
        "c"
      ]
    },
    {
      "cell_type": "markdown",
      "metadata": {
        "id": "RtfJH4Swf8jB"
      },
      "source": [
        "#### <font color='#A9C9FC'> Exemplo-044</font>\n",
        "---\n",
        "**PROGRAMA PYTHON PARA CALCULAR O NÚMERO DO CAMINHO DE VIDA**\n",
        "Dada uma string de data de formato AAAAMMDD, nossa tarefa é calcular o número do caminho de vida.  O Life Path Number é o número obtido pela soma de dígitos individuais de cada elemento repetidamente até um único dígito da cadeia de dados. Usado em previsões de numerologia."
      ]
    },
    {
      "cell_type": "markdown",
      "metadata": {
        "id": "sDLCFhRrgFW8"
      },
      "source": [
        "Adota-se o 9 como padrão, como sendo o último número da sequência pois, o 10 contém o 1 e 0 já existentes e assim, se\n",
        "sucede com todos os outros que existirem.\n",
        "Realiza-se a Redução Teosófica: 10 = 1 + 0 = 1 , 11 = 1 + 1 = 2 e assim infinitamente;\n",
        "Existe também a Adição Teosófica o 1 é sempre 1 ... Mas os sequenciais assim se sucedem:\n",
        "\n",
        "2 => 1 + 2 = 3 ....\n",
        "\n",
        "3 => 1 + 2 + 3 = 6 ...\n",
        "\n",
        "4 => 1 + 2 + 3 + 4 = 10 ( 1 )\n",
        "e assim infinitamente.\n",
        "\n",
        "Exemplo:\n",
        "\n",
        "Um pessoa que tenha nascido no dia 01/01/2000. Terá seu número do caminho da vida calculado de acordo com a figura a seguir:\n",
        "\n",
        "![Screenshot_2.png](data:image/png;base64,iVBORw0KGgoAAAANSUhEUgAAAP0AAAG8CAYAAAAVRqOBAAAAAXNSR0IArs4c6QAAAARnQU1BAACxjwv8YQUAAAAJcEhZcwAADsMAAA7DAcdvqGQAACcsSURBVHhe7Z29buNKkLZ9OQOsI4e6AgcbTOzcjj5g7mDgdAMDyidQtInjheNvkr0JJ3Mn3C62forNYnc1RVW1yPcBXpwjiWRRZD1sipKHD13g379/9B8XUNse1LanpdqQ3gnUtge1Iw/0xMPDA4IgKw55fko/0tOTYDtsdX/jfUcg/QZB828LSA/Q/BsD0gM0/8aA9ADNvzEgPUDzbwxID9rb39/7bhfWidbrYbfvvo9PLw2kj0D6DdLW/v7q3kh2nrev42vLstU+T983pN8g7ezvIPyOi345AOxuIP5W+zx935B+g7Sxv7+7/Ul4fkrPTvV3+2VP9Lfa5+n7hvQbpIX9/fV2Ev4tjO8JX29H8Xfdkt5D+gik3yBo/m0B6QGaf2PcnfTf+12/fn2kU8Ep+NdAIZrPh5dayjrf393XPpyK7tg69tmF5966/df3zb5+ugZaxxHJ9qJtPefUerC/QsTtntbKJXNB7/tr370l2/603SXodRWl9Qs1d28V+zd8XDnNq70+ObvvBWgZnMalZxd7jlFf1GUbWjuvXvog+1sq+lR2oW5b6tN6jRC2V/VXZ5Is0jKkWlMRv7cf98Uogij0vIqa9dPs32rpr+h7AZqf07b02iaSkHZc4YcfOunZ10x9wk7ff3VfYdT/PuarH4H4NMtfib4GWp8RbHtdzlzqLqSdtx+NhMdllaQnYU7bTcxxFs75ImDI+Yyqn/6r24eD8al2WpqeU5Fdv7Cv98L+zfVlrfTX9L0Azc9pWvrLzn3r3s7/r2zE84YOUrJRObftNNLzhqMdkT2IsJ1dK9AtofUZwRszNPWp6fQHK/YdO0lx/P+y9MfntHAhpmYm+YOU6cs0jwrl+tHHCy7n5LaqfL9X9b0Azc9pWHr2Sy3aUmzDqRrxPD1tLLasjNBF6dk6aH8uellmiGaPG0DrMmLQmPz0MnfWc2G47ZJ9l1IpwYAr5qV5VNTUGIzKE2JWrfOVfS9A83Lalf78Zk8bkm0MjXDJ/Fy+qY1Xkv5yBK456uoOOJbQuoxIG7OqUdlBIs68HekDxd6qWd552pl9L0DzcpqV/iwYe6NV0uU23oR8eennb3z+kaC6yW8ArceIUWMWxOXktrU0b40EKYORte4gSvOoqF0/vk5Sb1Qs7+q+F6B5OY1Kf2mawZGTbbz6RuTPyfNnpdd8lpyC1Z17irYktB4jhMa8bI98s40b9YbShwqDK9uZr+hSaHoV1etX+DikXt4CfS9A83GalH662VgzlY7y5w3Fl8F3zriRs9KzDV8t7jXz3gBajxFSY7ID3eR6s2ku/VgjfXp1nOU4+RjeB8co5KfpVEjbokB2NFYub5G+F6D5OA1Kz8QUTpUuG6awQ84bOtmAmVOxnPTquhLXnCXcAFqPEWJjFkawgLzN9NJnk91WYd2k30pk5KfXVbhIv1DfC9A8nPakL40uWoGmpA9cdtBwA0J64f1lG3ZKbgvpjxy/mx/NK4hDz6tQSTrkaumX6nsBmofTnPQXuYSN11MefXrOG1pYDt+ArDly0vMdt5nT+x4mcCrS5DbWS1/Zv9OEjwOjX0kmC6fnVMxYv2ulX6zvBWgeTmPSZxqMwUfdSYkmGzIiLeNW0vNaizX5FdB6jMg0ptzQudNRB+lP8AN6snx6rKJ6/QpCFpe3YN8L0PSctqRnG0edqY10XtbUkZNt6OOOyko/cXagITsKOEDrMiLXmNKpJ3tu3MiO0gem5KDHKqrXryBtaXnsdXUqepCm5zQlPf+src+ESOcNOS1a2hxZ6cMmvhzNa+TVHcUtoXUZkW3M8Uh22VfStvKVni/fQvriCFxY3qJ9L0DTcxqSvk4O/YbObZxhM++z0g9ris0swHeouJ4O0LqMKDU6f7342/wNST/4OCH3TX55C/e9AE3LaUf66kYobKzz8gpHRFb3komdx2uGlDb64CDRyChP0PqMKG7/4XuPmdq2t5I+HqR3+9wfOoXaE2dk9JwK7foN/qYjM21uedXbgtVU9hRNy2lE+sKFkAn4KDq9McunQePTq8w6hOVejuwh9L0wNSH7UUn8hzXYNIp1sITWaYSi+UbbabrLK6S/bDcxx1kiw49Yu7f98E+aabuf6oakB2V6TkVh/eKfTrMDekh2AJjctjfoewGajtOG9PwUSfMuTrCNOZrv/JpCuMEpGqWwA8L06d9TTyYcFAo/FDOH1mvEZGMyku00vav00pcz3BffidhTkSSk51VUrd8V/4jGLfpegKbjNCH95e/OaQMen1QR/246zpuIypapGWUHzaQ8ber/uSb2jzac0/9zSjQKHSdsDFrHEXx7Te4DNjJltxHbL9IOHR1kMxHrxFE9HW1L252mUVFYP/pHRqiO9jf/U9LfpO8FaDpOE9IDW7a6v/G+I5B+g6D5twWkB2j+jQHpAZp/Y0B6gObfGJAeoPk3BqQHaP6NAekBmn9jQHqA5t8YkB6g+TfGSPp///71TyIIst6Q56e4j/SobQ9q29NS7f4RNoY9qG0Pakf6R9gY9qC2Pagd6R9hY9iD2vagdqR/hI1hD2rbg9qR/hE2hj2obQ9qR/pH2Bj2oLY9qB3pH2Fj2IPa9qB2pH+EjWEPatuD2pH+ETaGPahtD2pH+kfYGPagtj2oHekfYWPYg9r2oHakf4SNYQ9q24Pakf7RNSv0/f3V7Uc3fNDf7OGqjXGqndxtZke3mlIUR+0ZeNY+QjeJGPTbzHu6VbGi990/mrVCYSNobu1UuskjTTMH1e2NChuFppkDamdyo9o9R/Fqa56YW3tt77t/lD5ZpOa2RCG5W/bQ69Ww2wQVkylOr1eD2uUsXTswGuV4bin9Ct93/yh9ssh5Q+y6N37bYDoiSaN/ZuXo9TqGtwem8LOJy/3BTpm+lx29Xgdqn2JXm9pNGOV4bib9Ot93/yh9sgiN9OGzjPhRRjwLmL7JXnXtdEMLR9f0lsp8R3HotSpQO8aydmhrPpD014rC6fbpcZ9bSb/S990/Sp+8juHKxiwnfbqRhf0w3lkTG4deqwG1Yyxrn/uJXzBT1kqprb3W990/ql+hHLeUPl32xOnU6GxDro/aGjxrn0gKmki/3vfdP5q3QlOMPwflVq6udrpseQNrp0NtDZ61JzCRfr3vu3+0yAqdSFcsRDwtOlJVW3lUHe8I+SiN2go8a09hIf2K33f/aJEV6kk3QHnFqmpDvGMg/aVOCKTPktbuHy2yQoH0wsfUBuBU1YZ4x0D6S50QSJ8lrd0/WmKFvvfj7xSnvr7gVNWGeMdA+kudEEifJa3dP7p2heYKT9TVTjewdkfI06G2Bs/aE1hIv+L33T+6aoXSFQnZ5a7cJdTVTjewfFQdHaUnNg5qa/CsPYGL9Ot53/2j2St0pfBEXe30u1PlDyYm1ole04Pap9jVniCtdRPp1/u++0ezVig9wlEm3nCO2tqjjxJCTdUvqQL0Wg2ofYxhbRET6df7vvtH1Su0kPDEErXfzn8E8N19pTtq8rMYaqvxrC1hJP1a33f/qHaF0qObKhMrSK/VUlM/dyyi12tB7XI8a/eZWAF6rZY1vu/+UfpkieqVoSwoPR1l089b49Cf/eaPgzRdPag9ndvU9pR+je+7f5Q+WWL0WUeTRaWPfH/tu7ddsi7hscU/1YXadrVrm3+5P2+9sKb33T9Kn7QEte1BbXtaqt0/wsawB7XtQe1I/wgbwx7Utge1I/0jbAx7UNse1I70j7Ax7EFte1A70j/CxrAHte1B7Uj/CBvDHtS2B7Uj/SNsDHtQ2x7UjvSPsDHsQW17UDvSP8LGsAe17UHtyMO/f//6JxEEWW/I81P6QwA9+b///mdzofftBW18L1DbnpZqQ3on0ID2oHYE0juBBrQHtSOQ3gk0oD2oHYH0TqAB7UHtCKR3Ag1oD2pHIL0TaEB7UDsC6Z1AA9qD2hFI7wQa0B7UjkB6J9CA9qB2BNI7gQa0B7UjkN4JNKA9qB2B9E6gAe1B7cgM6f90n4fX7ufTj36+c8Ljn7/fu09xnqXzp/v4/dw9PrH6IY9Pz92vwx9hejk0jxdoQHtQO1In/SGIxiQTE8T7+CvMu1T+virW4VV18KFpvUAD2oPakQrp/3S/ziPrcVT/G0Z9SnowUEpXnYHw6TrQ2Qdbh5d3eRksNJ0XaEB7UDtSKX3mFD4ZgX8ehGmk9NIKzwv5eCkt/737eV6HH92vwnJpOi/QgPagdqRC+nK4lI+/FZ+tzweKsqCDg0puFA9nHdp1oGm8QAPag9qRRaX//H25uLe49Ezm/FkEG+0Lp/g0jRdoQHtQO3I30l/OIkrTsmsPhWsLNI0XaEB7UDuyoPTDC33FkZsyS/rn7kN4/RK+HvlpIb09qG1PWns56flnbu3Ve7X0+tGboj1AQHp7UNuetPZi0pevrB+/WuM5MOkPwuts3nnS5w8mNI0XaEB7UDuyjPTsIpt88YyfclfkLDikXxLUtqel2tdLz0/rJ0+nvaTH6b0EatvTUu0rpa/7Mcwocz7TFy/kQfoSqG1PS7WvkH4ovPoXeDyzrt5XHCAKZwWQ3h7UtietPVP6IPx55J0pPKVCev4bgGw9/nEDP84RQW17Wqo9Q/qFhKdUSF++WBijPjiE0DReoAHtQe1IpfT8s/WVwlNqpE9qy9Pzjxzlz/6Q3h7UtietXSE9ly6Mor+F79WTyMthqZI+hI/2dNBhf1rb/6Ma59fKozyFpvMCDWgPakf00vPPyspcfSYghJ++y6GDgeKAE0LTe4EGtAe1I3cnfZ+/792vlx/J+oTHL69V/2oPzecFGtAe1I7opV9hIL09qG1PWhvSO4EGtAe1I5DeCTSgPagdgfROoAHtQe0IpHcCDWgPakcgvRNoQHtQOwLpnUAD2oPaEUjvBBrQHtSOQHon0ID2oHYE0juBBrQHtSMP9AQ1P2If2vYIYp1+qKP/8YKaXxqF1x5631547m/UtietDemdAuntQe0IpHcKpLcHtSOQ3imQ3h7UjkB6p0B6e1A7AumdAuntQe0IpHcKpLcHtSOQ3imQ3h7UjkB6p0B6e1A7AumdAuntQe0IpHcKpLcHtSOQ3imQ3h7UjkB6p0B6e1A7cmfS/+k+D6/dz6fkLjfhcX+LK3GepXO8hRa7xRfl8em5+3XQ3VmHQvN4gea3p6Xa9yP9YXivOjFBvJo73FRHc5efwj3xT6FpvUDz29NS7TuRPrlbLrtx5Wd6MFBKV52B8Ok60NkHW4fCffEpNJ0XaH57Wqp9R9JnTuGTEVh9D71eWuF5IR8vpeXz22SX78JL03mB5renpdp3In05XMpHzV1rzwcKxW2y+UElN4qzW2mX1oGm8QLNb09LtVcjPb+F9eLSM5nzZxFstC+c4tM0XqD57WmpNqRXSH85iyhNy649FK4t0DReoPntaan2SqQfXugrjtyUWdI/dx/C65fw9chPC+ntQe3IOqTnn7m1V+/V0utHb4r2AAHp7UHtyCqkL19ZP361xnNg0h+E19m886TPH0xoGi/Q/Pa0VPv+pWcX2eSLZ/yUuyJnwSH9kqC2PWnt+5aen9ZPnk57SY/TewnUtietfcfS1/0YZpQ5n+mLF/IgfQnUtietfafSD4VX/wKPZ9bV+4oDROGsANLbg9qRO5Q+CH8eeWcKT6mQnv8GIFuPf9zAj3NEUNuetPadSb+Q8JQK6csXC2PUB4cQmsYLNL89LdW+I+n5Z+srhafUSJ/UlqfnHznKn/0hvT2oHbkT6bl0YRT9LXyvnkReDkuV9CF8tKeDDvvT2v4f1Ti/Vh7lKTSdF2h+e1qqfR/S88/Kylx9JiCEn77LoYOB4oATQtN7gea3p6XakL42f9+7Xy8/kvUJj19eq/7VHprPCzS/PS3Vvg/pVxhIbw9qRyC9UyC9PagdgfROgfT2oHYE0jsF0tuD2hFI7xRIbw9qRyC9UyC9PagdgfROgfT2oHYE0jsF0tuD2hFI7xRIbw9qRyC9UyC9PagdeaAnPEPNj9hH2hfINuI+0nvWpuaXRuG1h963F1vttZZqQ3pBirUH0tvTUm1IL0ix9kB6e1qqDekFKdYeSG9PS7UhvSDF2gPp7WmpNqQXpFh7IL09LdWG9IIUaw+kt6el2pBekGLtgfT2tFQb0gtSrD2Q3p6WakN6QYq1B9Lb01JtSC9IsfZAentaqg3pBSnWHkhvT0u1Ib0gxdoD6e1pqTakF6SQ86f7PLx2P5+Su9yEx/0trsR5ls7xFlrsFl+Ux6fn7tdBd2cdCs3jBcSzJ60N6QUpRjkM71UnJohXc4eb6mju8lO4J/4pNK0XEM+etDakF6QYJrlbLrtx5Wd6MFBKV52B8Ok60NkHW4fCffEpNJ0XEM+etDakF6QYhqTPnMInI7D6Hnq9tMLzQj5eSsvnt8ku34WXpvMC4tmT1ob0ghS14VI+au5aez5QKG6TzQ8quVGc3Uq7tA40jRcQz560NqQXpKgNv4X14tIzmfNnEWy0L5zi0zReQDx70tqQXpCiNreU/nIWUZqWXXsoXFugabyAePaktSG9IEVdhhf6iiM3ZZb0z92H8PolfD3y00J6e1qqDekFKarCP3Nrr96rpdeP3hTtAQLS29NSbUgvSFGT8pX141drPAcm/UF4nc07T/r8wYSm8QLi2ZPWhvSCFOqwi2zyxTN+yl2Rs+CQfklQOwLpBSlU4af1k6fTXtLj9F4CtSOQXpCinLofw4wy5zN98UIepC+B2hFIL0iRz1B49S/weGZdva84QBTOCiC9PS3VhvSCFNMJwp9H3pnCUyqk578ByNbjHzfw4xwR1I5AekEKOQsJT6mQvnyxMEZ9cAihabyAePaktSG9IMU4/LP1lcJTaqRPasvT848c5c/+kN6elmpDekGKYbh0YRT9LXyvnkReDkuV9CF8tKeDDvvT2v4f1Ti/Vh7lKTSdFxDPnrQ2pBekGIR/Vlbm6jMBIfz0XQ4dDBQHnBCa3guIZ09aG9ILUgzSiPR9/r53v15+JOsTHr+8Vv2rPTSfFxDPnrQ2pBekWHsgvT0t1Yb0ghRrD6S3p6XakF6QYu2B9Pa0VBvSC1KsPZDenpZqQ3pBirUH0tvTUm1IL0ix9kB6e1qqDekFKdYeSG9PS7UhvSDF2gPp7WmpNqQXpFh7IL09LdWG9IIUaw+kt6el2g/0xFZDzY/YR9oXiF02PdJ71qbml0bhtYfetxfo8wikdwLS24M+j0B6JyC9PejzCKR3AtLbgz6PQHonIL096PMIpHcC0tuDPo9AeicgvT3o8wikdwLS24M+j0B6JyC9PejzCKR3AtLbgz6PQHonIL096PMIpHcC0tuDPo9AeicgvT3o8wikd6JO+j/d5+G1+/mU3OUmPO5vcSXOs3SOt9Bit/iiPD49d78OujvrUGgeL9DnEUjvBDW/JMUoh+G96sQE8WrucFMdzV1+CvfEP4Wm9QJ9HoH0TlDzS1IMk9wtl9248jM9GCilq85A+HQd6OyDrUPhvvgUms4L9HkE0jtBzS9JMQxJnzmFT0Zg9T30emmF54V8vJSWz2+TXb4LL03nBfo8AumdoOaXpKgNl/JRc9fa84FCcZtsflDJjeLsVtqldaBpvECfRyC9E9T8khS14bewXlx6JnP+LIKN9oVTfJrGC/R5BNI7Qc0vSVGbW0p/OYsoTcuuPRSuLdA0XqDPI5DeCWp+SYq6DC/0FUduyizpn7sP4fVL+Hrkp4X09qS1Ib0Ti0jPP3Nrr96rpdeP3hTtAQLS25PWhvROLCF9+cr68as1ngOT/iC8zuadJ33+YELTeIE+j0B6J6j5JSnUYRfZ5Itn/JS7ImfBIf2StFQb0jtBzS9JoQo/rZ88nfaSHqf3Ei3VhvROUPNLUpRT92OYUeZ8pi9eyIP0JVqqDemdmCf9UHj1L/B4Zl29rzhAFM4KIL09aW1I70S99EH488g7U3hKhfT8NwDZevzjBn6cI9JSbUjvBDW/JIWchYSnVEhfvlgYoz44hNA0XqDPI5DeCWp+SYpx+GfrK4Wn1Eif1Jan5x85yp/9Ib09aW1I74ROei5dGEV/C9+rJ5GXw1IlfQgf7emgw/60tv9HNc6vlUd5Ck3nBfo8AumdoOaXpBiEf1ZW5uozASH89F0OHQwUB5wQmt4L9HkE0jtBzS9JMUgj0vf5+979evmRrE94/PJa9a/20HxeoM8jkN4Jan5JirUH0tuT1ob0TkB6e9DnEUjvBKS3B30egfROQHp70OcRSO8EpLcHfR6B9E5AenvQ5xFI7wSktwd9HoH0TkB6e9DnEUjvBKS3B30egfROQHp70OeRB3oCsQ81P2IfaV9sLRjpnfCsTc0vjcJrD71vL1rqNUjvhGdtSG9PS70G6Z3wrA3p7Wmp1yC9E561Ib09LfUapHfCszakt6elXoP0TnjWhvT2tNRrkN4Jz9qQ3p6Weg3SO+FZG9Lb01KvQXonPGtDenta6jVI74RnbUhvT0u9Bumd8KwN6e1pqdcgvROetSG9PS31GqR3wrM2pLenpV6D9E541q6T/k/3eXjtfj4ld7kJj/tbXInz3Cp/uo8X/c0y09A8XrTUa5DeCc/a1PySFKMchveqE/P0XHWHm7n5FNYF0utIa0N6JzxrU/NLUgyT3C2X3bhyJODT6+1GfLqdFruJJw+k15HWhvROeNam5pekGIakz5zCJ/fZUwvYHziE56UMatB98967j4p74aehebxoqdcgvROetan5JSlq8/Fykf5Rc9fambfJJtlPBx5+B11IryOtDemd8KxNzS9JURsu4E2kFwLp60lrQ3onPGtT80tS1AbS62mp1yC9E561qfklKeoyvNCnkhjSu5DWhvROeNZeRHp+kU179R7Su5DWhvROeNZeQnp+EU+W7/j1Hs+BSX8QXh8tYxxIX09aG9I74Vmbml+SQp3jVfU+L+/CNPzUvyKKMwZIX09aG9I74Vmbml+SQhV+Wv/w3H1I00D6ES31GqR3wrM2Nb8kRTnv3c+jcLM+l+MzvQtpbUjvhGftedIPha8Vrg+kdyGtDemd8KxdL30Qnv8Of47wFEjvQlob0jvhWbtO+oWEp0B6F9LakN4Jz9p66ZO/tLtGeAqkdyGtDemd8Kytk354Bf7nb+F79STycljmSJ/UGP6V3fA1cX4WmseLlnoN0jvhWZuaX5JikLOg+lx9JpCmch1Kv/+nabxoqdcgvROetan5JSkGgfSL0lKvQXonPGtT80tSrD2QPgLpnfCsDentaanXIL0TnrUhvT0t9Rqkd8KzNqS3p6Veg/ROeNaG9Pa01GuQ3gnP2pDenpZ6DdI74Vkb0tvTUq9Beic8a0N6e1rqNUjvhGdtSG9PS70G6Z3wrA3p7Wmp1x7oCWRboeZH7CPtC49gpHdiq7Wp+aVReO2h9+1Fur8hvRNbrQ3p7Un3N6R3Yqu1Ib096f6G9E5stTaktyfd35Deia3WhvT2pPsb0jux1dqQ3p50f0N6J7ZaG9Lbk+5vSO/EVmtDenvS/Q3pndhqbUhvT7q/Ib0TW60N6e1J9zekd2KrtSG9Pen+hvRObLU2pLcn3d+Q3omt1ob09qT7G9I7sdXaddL/6T4Pr93Pp8utrPqExz9/v3ef4jxLh26l9dw9slt8UR6fnrtfB8WtvI6hebxI9zekd2Krtan5JSlGUd3dZv6NMFXRrMPTq+rgQ9N6ke5vSO/EVmtT80tSDJPcLZdG9dONKvuRv1666gyEL6zDy7u8DBaazot0f0N6J7Zam5pfkmIYkj53Cv/e/TwJV30HXOF5IR8vF6nle/TVrQNN50W6vyG9E1utTc0vSVGbspRJziO34iDBR/ncKH54Pq/DPd08E9I7sdXa1PySFLX5HNynXp5mkBrpmcz5ZbPRvnCKT9N4ke5vSO/EVmtT80tS1OYy0itP7yuk1y+bXXsoXFuA9AzUtsez9iLSs5FYcxGtzyzpn7sP4fVL+AXH/LQ0jRfp/ob0Tmy1NjW/JIUqf4/fmfeShTyVpGRRS68fvSnaAwSkZ6C2PZ61q6TnI/ogpR/nHL9a4zkw6Q/C62zeedLnDyY0jRfp/ob0Tmy1NjW/JIWYSelj6FdxHyPR+Cl3Rc6CQ/qbg9r2eNam5pek0Obz73v364X/LDeVzUt6nN6rQW17PGtT80tS1IZ/ZaeRc9Zn+uKFPEg/C9S2x7M2Nb8kRX24nCWRQ/CV3RlI78RWay8nPZdT8QOdCunVP/w5LzMEP87Rg9r2eNam5pekqM/tRnrt7wBqfhVI03iR7m9I78RWa1PzS1IMQtKJV+Yvud1neormgML/4Kb82Z+m8yLd35Deia3WpuaXpBiEjbSnf6zi/H268I9qLP7be8rg68Lhn9YOfiAUoqlP03mR7m9I78RWa1PzS1IME0bR80ibS5Cx4l+vqc3gbEIMHQx09Wl6L9L9Demd2Gptan5JCik0qtN38nxUpTxa/nNZx98FDNchPH55zX78SEPzeZHub0jvxFZrU/NLUqw9kJ6B2vZ41ob09qT7G9I7sdXakN6edH9Deie2WhvS25Pub0jvxFZrQ3p70v0N6Z3Yam1Ib0+6vyG9E1utDentSfc3pHdiq7UhvT3p/ob0Tmy1NqS3J93fkN6JrdaG9Pak+/uBnkAQq1DzI/YZ7AMyn/7HC9S2Z6u1qfmlUXjtoffNgfROoLY9kD4C6Z1AbXsgfQTSO4Ha9kD6CKR3ArXtgfQRSO8EatsD6SOQ3gnUtgfSRyC9E6htD6SPQHonUNseSB+B9E6gtj2QPgLpnUBteyB9BNI7gdr2QPoIpHcCte2B9BFI7wRq21MnvXwLrQfLG22c86f7eNHfLDMNzcOB9E6gtj3U/JIUo/BbUE9GeU+8K/N5GN43jwLprwC17fGsTc0vSTHM8I61/MaVceRnAmruljs3dDutifv5QforQG17PGtT80tSDEPS507h+S2qK0b7/sAhPC9lcKZB98177z4q7oWfhubhQHonUNsean5Jitp8vJyEVAo48zbZJPvpwMPvoAvprwC17fGsTc0vSVGbagFrpRcC6RcCte3xrE3NL0lRm8tIr5QY0g9BbXu2WnsR6Y+n3n3C6bc4TRpIPwS17dlqbWp+SQpV/v7pPn6zr8+enrsPaTopkH4Iatuz1dpV0vMRfZDSj3OOX+/xHJj0B+F1cTnDQPqFQG17PGtT80tSiJmUPuaRRvrRqM2/46+I4vt+SL8QqG2PZ21qfkkKbT7pBzPs57Dj03VIrwK17dlqbWp+SYracAFVv8rDZ/ohqG3PVmtT80tS1Gf4U92iyJB+CGrbs9Xay0lf+as8SD8Ete3Zam1qfkmK+mCkvwrUtmertVXS01V78cr8JfhMfyWobc9Wa1PzS1IMwr6qo6/lBt+rC/+ohkrAOdLz7/FDhn9lN3xNnJ+F5uFAeidQ2x5qfkmKYd6HfzM/mR+9fPIyrsz5IKHL4+/8etA0HEjvBGrbQ80vSSGFRnX6Tj6V79Hin8uC9LcDte3xrE3NL0mx9kB6Bmrb41kb0kcgvROobQ+kj0B6J1DbHkgfgfROoLY9kD4C6Z1AbXsgfQTSO4Ha9kD6CKR3ArXtgfQRSO8EatsD6SOQ3gnUtgfSRx5oJ9CTCIKsN+T5Kf0hgJ4EANyO3rH/75PU7/4RpAfgtkB6ADYGpAdgY0B6ADYGpAdgY0B6ADYGpAdgY0B6ADYGpAdgY0B6ADYGpAcXvvfdLmx/2gdvX9/HJzfERt4/pAcXWNPv9vfX9F9vu37dH3Zv3dfxuSru/P1r6R0ThLRI6nf/KH2ySVhzaBvke39syIeZDWmBcdNftgmNrMcnNYjr+dW9HZ+rXt4JSF+V7/932d7n/MdD9/Xf8vSUvjajf5Q+2SRfb8M3GlJqMkgvwA+eFZZOHSww0uug9ycJWZUg9nnfJdlvRfqH3b7LtQmkl/ju9rvTNtx1upJ8noW3JaRX5+s/T/tgnJVLv+veTqNLSG6wgvQyfNRW1bzlOkJ6Xf4rbqNTduGUnj9evfT7b/5ZclpoSD8F236FsyXish21ZwYVQHpV9kzyt3AA4I8pG5CeN+J0s+il/+6+w/J3u8sy+4THb/uvohRF6CCVLHv3tu/6b6iKTf/dfe33/fy78yn2MVes39fbaTklkdmpvXCAuCwns40bfP/W0PpKQmoyuHgXZP8Oz21S+sFoNdFwKulZ000nNNfMUwV+cBonvJevXNPzz9KZKEbrEeftOSXbkYKUJembff/G0HpKQmoy+IYkjPL03Eal58+FCFYWpU+Ej6NPGPX7fHV7du1gUFfLYPnHUUlcdsxk0+/eghw03/HpnjACsmVkxRXRneJftqH8/rPSN/3+baF1lIQsRRrl6fntSn9qitHzkZL0l4adviBIp/2naWq+4iqtGzFYdkh947IaM0a78il+efnT0rf//i2hdZSEzCaIzAclLvaGpQ/w0STZ8Vnp+XxZmcvNK6JdPmv8OaNV6fQ6S6k2ew9T6zZZ/x7evyG0jpKQuQy+ogv/z1/btvSBy44fjthZ6VmzlQbwy3LK057RLl8hVo7S2Uye/Cm+ZtmT0t3F+7eD1lEScjKZUZ6yeel54/DmzTXE5TXF6M0aWNuY6uWrmj58nv06XsE+TjvOvKafXk92hpOxdkr6e3n/VtA6SkJOZSB1MsqPXg/ZnvSBS5Ndmufy3LghLs3auPT8gJbNzKafqs+ez43UN5f+1u/fCFpHSUgxyQ9xJKEhfc/4K7yc9OqmJJj02tP7ZZqev6fT1e/jS0dy71EHv2ZxWYZ2ubeV3uL920DrKAkpRfyjGmVOX+nx0POc/lH6ZJMUpecNEBso1xB82pLINdOe0R4oMk2vqZt7j1rGdXSn9sQtP9NbvX8LaB1TGadyjfS7MG+6PHqe0z9Kn2wShfSDZg1NsM81BD9tzHelOBIWUS6fN/Z000/XXaTp03Vlj7ObJjAp/T29fwNoHVMZJ5Oc3tdkcyN9DxthLpEagsusP3vQU15+6XvqS+2J9eNiXdX0FQfLhEnp7+r93x5ax1TGa4LP9AmXRjxloiEGTbcr/CJvRlMly6d/DqrqF2m8qenv1c8v00eXN9bwlCubPhGQojnITUsfuKf3f2NoHSUh5wbSpwxGAMp0Q4ybR8ig4ergPxUdhX5eGiQ4jYiSZNn5SaTz+l/b9PyiWVy2wvm89IH7ef+3hdZXEnJuIL3AQObSTzRD41FzpX/FtaOmnGs7I37HzJd9vBIdX802PXH6jprPP/4rteubfiCY8metJemJe3n/t4TWWxJybtJ/UGOd/1wWAHdM75ggpEUgPQAOQHoANgakB2BjQHoANgakB2BjQHoANgakB2BjQHoANgakB2BjNCX9v3//+icRBFlvyPNT+kMA/Y8XqG0PatvTTu2u+z/orw4eSLEv5gAAAABJRU5ErkJggg==)\n",
        "\n",
        "\n",
        "*O termo teosofia (do grego, theos = deus, sofia = sabedoria) significa sabedoria de Deus e diz respeito a qualquer tipo de misticismo filosófico que pretende ser baseado matemática ou cientificamente. Na antiguidade, pode ser encontrado no pitagorismo, na filosofia neoplatonica e no gnosticismo.*"
      ]
    },
    {
      "cell_type": "markdown",
      "metadata": {
        "id": "xVxdUg_WgWYx"
      },
      "source": [
        "**CAMINHO DE VIDA**\n",
        "\n",
        "Converter dois dígitos para um dígito:\n",
        "quando a variavel **resultado** for maior que 9 então seu valor passará ser:\n",
        "\n",
        "A soma dos dois dígitos que compõem o número\n",
        "\n",
        "Exemplos:\n",
        "\n",
        "10\n",
        "\n",
        "1+0 = será convertido para 1\n",
        "\n",
        "11\n",
        "\n",
        "1+1 = será convertido para 2\n",
        "\n",
        "...\n",
        "\n",
        "27\n",
        "\n",
        "2+7 = será convertido para 9\n",
        "\n",
        "...\n",
        "\n",
        "Referência:https://acervolima.com/programa-python-para-calcular-o-numero-do-caminho-de-vida/\n"
      ]
    },
    {
      "cell_type": "markdown",
      "metadata": {
        "id": "-t7fU0YeqiKs"
      },
      "source": []
    },
    {
      "cell_type": "code",
      "execution_count": null,
      "metadata": {
        "id": "I7ryE0wRgPm5",
        "colab": {
          "base_uri": "https://localhost:8080/"
        },
        "outputId": "81313c51-ff6d-4a54-dba7-5f33f8d59fe8"
      },
      "outputs": [
        {
          "output_type": "stream",
          "name": "stdout",
          "text": [
            "Data nascimento: (AAAAMMDD)20000809\n",
            "2\n",
            "0\n",
            "0\n",
            "0\n",
            "0\n",
            "8\n",
            "0\n",
            "9\n",
            "Número do caminho da vida:  1\n"
          ]
        }
      ],
      "source": [
        "##### Funções e Procedimentos\n",
        "def calculaCaminhodaVidaV(dataNascimento):\n",
        "  resultado = 0 # valor que será calculado\n",
        "  for n in dataNascimento: # busca caracter a caracter da string dataNascimento\n",
        "      resultado += int(n)  # soma o último valor de n para o próximo teste\n",
        "      print(n)\n",
        "      if resultado > 9:\n",
        "          # números com dois dígitos, será necessário reduzir o cálculo\n",
        "          # Regra de cálculo\n",
        "          # obter o resto (%) e o quociente (//) da divisão entre n e 10\n",
        "          # resultado = resto(resultado % 10) + quociente(resultado // 10)\n",
        "          resultado = resultado % 10 + resultado // 10\n",
        "  return resultado\n",
        "\n",
        "def caminhodaVida(dataNascimento):\n",
        "  print(\"Número do caminho da vida: \" , calculaCaminhodaVidaV(dataNascimento))\n",
        "\n",
        "######  PROGRAMA PRINCIPAL #######\n",
        "# Faz apenas a chamada ao Procedimento caminhodaVida\n",
        "caminhodaVida(input(\"Data nascimento: (AAAAMMDD)\"))"
      ]
    },
    {
      "cell_type": "markdown",
      "metadata": {
        "id": "bnKyqmQReHDC"
      },
      "source": [
        "###05.01 Recursividade\n",
        "\n",
        "Método que consiste em dividir um problema, em problemas menores do mesmo tipo (subproblemas);\n",
        "\n",
        "Os subproblemas são resolvidos, e seus resultados combinados;\n",
        "Por exemplo, uma função pode chamar a si própria quando necessário;\n",
        "\n",
        "Funções recursivas:\n",
        "\n",
        "A cada chamada, a função produz um resultado direto, e um ou mais casos recursivos, até retornar o valor final calculado.\n"
      ]
    },
    {
      "cell_type": "markdown",
      "metadata": {
        "id": "4kVQ8k1bemXZ"
      },
      "source": [
        "#### <font color='#A9C9FC'> Exemplo-045</font>\n",
        "---\n",
        "Exemplo: Cálculo Fatorial\n",
        "\n",
        "O fatorial de n corresponde ao produto de n pelo fatorial de seu antecessor.\n",
        "Fórmula geral:\n",
        "Fat(n) = 1 se n = 0 ou n = 1\n",
        "Fat(n) = n * Fat(n – 1)\n",
        "\n",
        "Exemplos:\n",
        "\n",
        "Fat(0) =1\n",
        "\n",
        "Fat(1) =1\n",
        "\n",
        "Fat(2) = 2*Fat(1) = 2\n",
        "\n",
        "Fat(3) = 3*Fat(2) = 6\n",
        "\n",
        "Fat(4) = 4*Fat(3) = 24\n",
        "\n",
        "Fat(5) = 5*Fat(4) = 120"
      ]
    },
    {
      "cell_type": "code",
      "execution_count": null,
      "metadata": {
        "id": "5PLXKMxXedmx"
      },
      "outputs": [],
      "source": [
        "# Função recursiva para o cálculo do Fatorial de N\n",
        "def fatorial(n):\n",
        "  if n ==0 or n ==1:\n",
        "    return 1\n",
        "  else:\n",
        "      return n * fatorial(n-1)\n",
        "\n",
        "### Programa Principal\n",
        "n=int(input(\"Informe o valor de n!: \"))\n",
        "print(\"Fatorial de\",n, \"! = \",fatorial(n))"
      ]
    },
    {
      "cell_type": "markdown",
      "metadata": {
        "id": "rFs9bsNkgckI"
      },
      "source": [
        "#### <font color='#A9C9FC'> Exemplo-046</font>\n",
        "---\n",
        "\n",
        "**Caminho da Vida - (Exemplo-044) - Versão usando recursividade**\n",
        "\n",
        "A função recursiva será chamada SEMPRE que for necessário necessário reduzir o número de dois para um dígito. Quaisquer combinações a partir de dois dígitos, a função somará os pares e reduzir o número até que ele chegue em apenas um número entre 0 e 9."
      ]
    },
    {
      "cell_type": "code",
      "execution_count": null,
      "metadata": {
        "id": "_EC2XidtgfoP"
      },
      "outputs": [],
      "source": [
        "def calculaCaminhodaVidaRecursivo(n):\n",
        "  # números com dois dígitos, será necessário reduzir o cálculo\n",
        "  # Regra de cálculo\n",
        "  # obter o resto (%) e o quociente (//) da divisão entre n e 10\n",
        "  # n = resto(n % 10) + quociente(n // 10)\n",
        "  return n if n < 10 else calculaCaminhodaVidaRecursivo(n % 10 + n // 10 )\n",
        "\n",
        "def caminhodaVida(dataNascimento):\n",
        "  print(\"Número do caminho da vida: \" , calculaCaminhodaVidaRecursivo(int(dataNascimento)))\n",
        "\n",
        "######  PROGRAMA PRINCIPAL #######\n",
        "# Faz apenas a chamada ao Procedimento caminhodaVida\n",
        "\n",
        "caminhodaVida(input(\"Data nascimento: (AAAAMMDD)\"))"
      ]
    },
    {
      "cell_type": "markdown",
      "metadata": {
        "id": "CH542YU3eTft"
      },
      "source": [
        "## **06. Vetores**\n",
        "\n",
        "Um vetor, também conhecido como array, é uma sequência de valores do mesmo tipo, armazenados de forma sequencial na memória do computador. Todo vetor possui um nome e cada elemento da sequência pode ser acessado individualmente através de um índice representado por um número inteiro. Os elementos são indexados de 0 até n-1, onde n é a quantidade de elementos do vetor. O valor de n também é chamado de dimensão ou tamanho do vetor. O vetor tem tamanho fixo durante a execução do programa, definido na declaração. Observar que a numeração dos índices do vetor começa sempre em zero, e não em um.\n",
        "\n",
        "![image.png](data:image/png;base64,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)\n"
      ]
    },
    {
      "cell_type": "markdown",
      "metadata": {
        "id": "ZDZnfW61lcXk"
      },
      "source": [
        "#### <font color='#A9C9FC'> Exemplo-047</font>\n",
        "---\n",
        "Algoritmo calcula média dos elementos de um vetor\n",
        "Este algoritmo lê 10 números via teclado, armazena estes números em um vetor e após a leitura calcula a média aritmética dos elementos que compõem o vetor e finalmente exibe os elementos do vetor e a sua média aritmética.\n"
      ]
    },
    {
      "cell_type": "code",
      "execution_count": null,
      "metadata": {
        "id": "FvFSSiQ9XetV"
      },
      "outputs": [],
      "source": [
        "# calcula media de um vetor\n",
        "# variável que controla o tamanho do vetor\n",
        "tamanhoVetor=10\n",
        "#vetor lista que irá receber os valores\n",
        "lista=[]\n",
        "soma=0\n",
        "# afunção range no laço for faz com que seja lido até o índice 9 no vetor\n",
        "for n in range(0, tamanhoVetor):\n",
        "  lista.append(float(input(\"Insira o valor do elemento n:\")))\n",
        "  soma=(soma+lista[n])\n",
        "print(\"Vetor : \", lista)\n",
        "print(\"Média elementos: \", soma/tamanhoVetor)"
      ]
    },
    {
      "cell_type": "markdown",
      "metadata": {
        "id": "zws7B46QtkZW"
      },
      "source": [
        "#### <font color='#A9C9FC'> Exemplo-048</font>\n",
        "---\n",
        "O algoritmo deverá ler 10 números via teclado, armazenando estes números em um vetor. Após a leitura, deverá ser feita o processamento do vetor lido e o algoritmo deverá contar o total de números pares e ímpares lidos, a soma dos números pares e ímpares lidos e finalmente imprimir: o total de números pares, o total de números ímpares, a soma dos números pares e a soma dos números ímpares encontrados no vetor.\n",
        "\n"
      ]
    },
    {
      "cell_type": "code",
      "execution_count": null,
      "metadata": {
        "id": "DLua1UdPov5G"
      },
      "outputs": [],
      "source": [
        "# calcula media de um vetor\n",
        "# variável que controla o tamanho do vetor\n",
        "tamanhoVetor=10\n",
        "#vetor lista que irá receber os valores\n",
        "lista=[]\n",
        "contPar=contImpar=somaPar=somaImpar=0\n",
        "for n in range(0, tamanhoVetor):\n",
        "  lista.append(float(input(\"Insira o valor do elemento n:\")))\n",
        "for n in range(0, tamanhoVetor):\n",
        "  if (lista[n]%2==0): #elemento é par\n",
        "    somaPar=somaPar+lista[n]\n",
        "    contPar=contPar+1\n",
        "  else:\n",
        "    somaImpar=somaImpar+lista[n]\n",
        "    contImpar=contImpar+1\n",
        "print(\"Total de pares = \",contPar)\n",
        "print(\"Total de ímpares = \",contImpar)\n",
        "print(\"Soma de pares = \",somaPar)\n",
        "print(\"Soma de ímpares = \",somaImpar)"
      ]
    },
    {
      "cell_type": "markdown",
      "metadata": {
        "id": "Rr8iFejexOmg"
      },
      "source": [
        "#### <font color='#A9C9FC'> Exemplo-049</font>\n",
        "---\n",
        "Este algoritmo deve ler 10 números via teclado e armazená-los no vetor v. Após a leitura dos números do vetor o algoritmo deverá solicitar a leitura de um inteiro qualquer e verificar se este número existe no vetor, caso exista o algoritmo deverá imprimir uma mensagem informando que o número existe e informar qual o índice que ele ocupa no vetor. Caso o número não exista o algoritmo deverá informar que o número não foi encontrado.\n"
      ]
    },
    {
      "cell_type": "code",
      "execution_count": null,
      "metadata": {
        "id": "N9OF1LSgx48W"
      },
      "outputs": [],
      "source": [
        "# Pesquisa vetor\n",
        "# variável que controla o tamanho do vetor\n",
        "tamanhoVetor=10\n",
        "#vetor lista que irá receber os valores\n",
        "v=[]\n",
        "encontrou=False\n",
        "\n",
        "for n in range(0, tamanhoVetor):\n",
        "  v.append(float(input(\"Insira o valor do elemento n:\")))\n",
        "\n",
        "busca=float(input(\"Qual número a buscar no vetor\"))\n",
        "\n",
        "for n in range(0, tamanhoVetor):\n",
        "  if (busca==v[n]):\n",
        "    encontrou=True\n",
        "    print(\"Valor encontrado no índice: \",n, \"Valor = \",v[n])\n",
        "\n",
        "if (encontrou==False):\n",
        "    print(\"Valor: \",busca, \" não encontrado no vetor\")"
      ]
    },
    {
      "cell_type": "markdown",
      "metadata": {
        "id": "iExRhNdv3TPk"
      },
      "source": [
        "#### <font color='#A9C9FC'> Exemplo-050</font>\n",
        "---\n",
        "Digitar os nomes e idades de 5 pessoas, armazenando esses dados em 2 listas."
      ]
    },
    {
      "cell_type": "code",
      "execution_count": null,
      "metadata": {
        "id": "DmiQ5X50OnOG"
      },
      "outputs": [],
      "source": [
        "#cria vetores vazios idades e pessoas\n",
        "lista_idades = []\n",
        "lista_pessoas = []\n",
        "cont = 0\n",
        "while (cont < 5):\n",
        "    nome = input(\"Digite um nome: \")\n",
        "    idade = int(input(\"Digite uma idade: \"))\n",
        "    lista_idades.append(idade)\n",
        "    lista_pessoas.append(nome)\n",
        "    cont += 1 # cont = cont + 1\n",
        "# imprime os vetores lidos\n",
        "print(\"\\n\\nNomes digitados===============\")\n",
        "print(lista_pessoas)\n",
        "print(\"\\nIdades===============\")\n",
        "print(lista_idades)"
      ]
    },
    {
      "cell_type": "markdown",
      "metadata": {
        "id": "2Y8F_lR_ffOn"
      },
      "source": [
        "## **07. Matrizes**\n",
        "\n",
        "Matrizes podem ser consideradas como uma especialização de vetores, a diferença é que utilizam mais de um índice para identificar um elemento da matriz. A matriz é uma tabela de vários valores do mesmo tipo, armazenados de forma sequencial e que também possuem um nome de variável para acessar esses valores através de seus índices. Por exemplo, se a matriz deseja representar uma tabela com duas colunas, cada elemento da tabela deverá ser acessado individualmente através de dois índices, estes índices poderiam ser interpretados como a linha e a coluna da matriz. As colunas da matriz representam a capacidade da matriz em relação ao número de elementos que terão cada linha da matriz, e as linhas representam o total de elementos que serão armazenados na memória do computador, independente do total de colunas que possua a matriz.\n",
        "Todos as regras válidas para os vetores também se aplicam as matrizes. As linhas são numeradas de 0 até L-1, onde L representa o total de linhas, e as colunas de 0 até C-1, onde C representa o total de colunas que terá a matriz. A Figura 7.9 exemplifica graficamente como se estrutura uma matriz que terá duas linhas e cinco colunas, exemplificando seus índices e conteúdo.\n",
        "\n",
        "![image.png](data:image/png;base64,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)\n",
        "\n",
        "Em Python para criar uma matriz, basta que seja criado um vetor dentro de outro vetor, para cada linha da matriz haverá um vetor de **n** elementos, por exemplo para criar uma matriz 2 x 2, duas linhas com duas colunas, será necessário criar um vetor que contenha outros dois vetores de 2 colunas cada. Como no exemplo a seguir."
      ]
    },
    {
      "cell_type": "code",
      "execution_count": null,
      "metadata": {
        "id": "PTlBkbqd-r1-"
      },
      "outputs": [],
      "source": [
        "#criação da matriz com valores iguais a zero\n",
        "matriz=[[0,0],[0,0]]\n",
        "print(matriz)\n",
        "#atribuição de novos valores a matriz através de seus índices\n",
        "matriz [0][0] = 1\n",
        "matriz [0][1] = 2\n",
        "matriz [1][0] = 3\n",
        "matriz [1][1] = 4\n",
        "\n",
        "print(matriz)\n",
        "\n",
        "print(matriz[0][1])\n",
        "print(matriz[1][1])"
      ]
    },
    {
      "cell_type": "code",
      "execution_count": null,
      "metadata": {
        "id": "NeageID7yN39"
      },
      "outputs": [],
      "source": [
        "#criando a matriz com atribuição direta de valores\n",
        "matriz_dois_por_tres  = [[1, 2, 3, 4, 5], [6, 7, 8, 9, 10]]\n",
        "#exibindo a matriz formatada\n",
        "for m in matriz_dois_por_tres:\n",
        "\tprint(m)"
      ]
    },
    {
      "cell_type": "code",
      "execution_count": null,
      "metadata": {
        "id": "v8nSlKYJ0Hbv"
      },
      "outputs": [],
      "source": [
        "# preenchendo uma matriz através de uma estrtura de repetição\n",
        "#valor inicial\n",
        "valor=0\n",
        "linha = 2\n",
        "coluna = 5\n",
        "\n",
        "#matriz vazia\n",
        "matriz=[]\n",
        "#preenche cada elemento de cada linha\n",
        "for linha in range(linha):\n",
        "  #cria linha da matriz vazia\n",
        "  linha=[]\n",
        "  for coluna in range(coluna):\n",
        "    # inclusão de cada elemento na linha\n",
        "    valor+=1\n",
        "    list.append(linha,valor)\n",
        "  # na saída do laço inclui a linha preenchida na matriz\n",
        "  matriz = matriz + [linha]\n",
        "#imprime a matriz\n",
        "for m in matriz:\n",
        "\tprint(m)"
      ]
    },
    {
      "cell_type": "markdown",
      "metadata": {
        "id": "y7wGmZQJBC6A"
      },
      "source": [
        "#### <font color='#A9C9FC'> Exemplo-051</font>\n",
        "---\n",
        "Escreva um algoritmo que leia uma matriz que possua três linhas e duas colunas. Após a leitura da matriz o algoritmo deverá somar os números de cada linha e imprimir  soma de cada linha da matriz, a soma dos elementos da matriz e a matriz.\n"
      ]
    },
    {
      "cell_type": "code",
      "execution_count": null,
      "metadata": {
        "id": "MXKetX8_ClIZ"
      },
      "outputs": [],
      "source": [
        "####### Função para criar a matriz\n",
        "def criaMatrizporTeclado(linha,coluna):\n",
        "  #matriz vazia\n",
        "  m=[]\n",
        "  #preenche cada elemento de cada linha\n",
        "  for l in range(linha):\n",
        "    #cria linha da matriz vazia\n",
        "    l=[]\n",
        "    for c in range(coluna):\n",
        "      # inclusão de cada elemento na linha\n",
        "      list.append(l,int(input(\"Entre com o número: \")))\n",
        "    # na saída do laço inclui a linha preenchida na matriz\n",
        "    m = m + [l]\n",
        "  return m\n",
        "\n",
        "####### Função para somar todos os elementos de um vetor (linha da matriz)\n",
        "def somaLinha(linha):\n",
        "  soma=0\n",
        "  for coluna in range(len(linha)):\n",
        "    soma=soma+linha[coluna]\n",
        "  return soma\n",
        "\n",
        "def imprimeResultado():\n",
        "  #imprime a matriz\n",
        "  for m in matriz:\n",
        "    print(m)\n",
        "  # imprime resultados\n",
        "  print(\"Soma Linha 1:\",somaLinha(matriz[0]))\n",
        "  print(\"Soma Linha 2:\",somaLinha(matriz[1]))\n",
        "  print(\"Soma Linha 3:\",somaLinha(matriz[2]))\n",
        "  print(\"Soma geral:\",somaLinha(matriz[0])+somaLinha(matriz[1])+somaLinha(matriz[2]))\n",
        "\n",
        "## Programa Principal\n",
        "linha = 3\n",
        "coluna = 2\n",
        "# Matriz 3 x 2 que será recebida via teclado\n",
        "matriz=criaMatrizporTeclado(linha,coluna)\n",
        "#Mostra os resultados\n",
        "imprimeResultado()\n"
      ]
    },
    {
      "cell_type": "markdown",
      "metadata": {
        "id": "tfjhq18rVmQP"
      },
      "source": [
        "#### <font color='#A9C9FC'> Exemplo-052</font>\n",
        "---\n",
        "Este programa lê duas matrizes com duas linhas e duas colunas. Após a leitura das matrizes o algoritmo gera uma terceira matriz que será formada pela multiplicação dos elementos da matriz 1 pela matriz 2."
      ]
    },
    {
      "cell_type": "code",
      "execution_count": null,
      "metadata": {
        "id": "Dwvhv7YeVquJ"
      },
      "outputs": [],
      "source": [
        "####### Função para criar a matriz pelo pelo teclado\n",
        "def criaMatrizporTeclado(linha,coluna):\n",
        "  #matriz vazia\n",
        "  m=[]\n",
        "  #preenche cada elemento de cada linha\n",
        "  for l in range(linha):\n",
        "    #cria linha da matriz vazia\n",
        "    l=[]\n",
        "    for c in range(coluna):\n",
        "      # inclusão de cada elemento na linha\n",
        "      list.append(l,int(input(\"Entre com o número: \")))\n",
        "    # na saída do laço inclui a linha preenchida na matriz\n",
        "    m = m + [l]\n",
        "  return m\n",
        "\n",
        "####### Função para criar a matriz preenchida com um valor único definido\n",
        "def criaMatriz(linha,coluna,valor):\n",
        "  #matriz vazia\n",
        "  m=[]\n",
        "  #preenche cada elemento de cada linha\n",
        "  for l in range(linha):\n",
        "    #cria linha da matriz vazia\n",
        "    l=[]\n",
        "    for c in range(coluna):\n",
        "      # inclusão de cada elemento na linha\n",
        "      list.append(l,valor)\n",
        "    # na saída do laço inclui a linha preenchida na matriz\n",
        "    m = m + [l]\n",
        "  return m\n",
        "\n",
        "####### Função para multiplicar duas matrizes\n",
        "def multiplicaMatrizes(m1,m2,tamanho):\n",
        "  m3=criaMatriz(2,2,0)\n",
        "  for l in range(tamanho):\n",
        "    for c in range(tamanho):\n",
        "      m3[l][c] = m3[l][c] + (m1[l][c] * m2[l][c])\n",
        "  return m3\n",
        "\n",
        "def imprimeMatriz(matriz):\n",
        "  #imprime a matriz\n",
        "  for m in matriz:\n",
        "    print(m)\n",
        "\n",
        "#### Programa Principal\n",
        "print(\"Informe os elementos da 1a matriz:\")\n",
        "matriz1=criaMatrizporTeclado(2,2)\n",
        "print(\"\\nInforme os elementos da 2a matriz:\")\n",
        "matriz2=criaMatrizporTeclado(2,2)\n",
        "\n",
        "matriz3=multiplicaMatrizes(matriz1,matriz2,2)\n",
        "\n",
        "print(\"***** Resultados ****** \")\n",
        "print(\"Matrizes lidas:\")\n",
        "print(imprimeMatriz(matriz1))\n",
        "print(imprimeMatriz(matriz2))\n",
        "print(\"Matriz resultado:\")\n",
        "print(imprimeMatriz(matriz3))\n"
      ]
    },
    {
      "cell_type": "markdown",
      "metadata": {
        "id": "y8qy3QXXVQMs"
      },
      "source": [
        "#### <font color='#A9C9FC'> Exemplo-053</font>\n",
        "---\n",
        "Este programa lê uma matriz com 3 linhas e 2 colunas de números reais, a primeira coluna receberá o peso de uma pessoa e a segunda coluna receberá a altura.\n",
        "Após a leitura da matriz, o programa  gera uma segunda matriz com 3 linhas e 3 colunas, a primeira coluna da matriz receberá o peso, segunda coluna receberá a altura e a terceira coluna receberá o IMC (índice de massa corporal)."
      ]
    },
    {
      "cell_type": "code",
      "execution_count": null,
      "metadata": {
        "id": "Sa8Fmi1JVSdl"
      },
      "outputs": [],
      "source": [
        "####### Função para criar a matriz pelo pelo teclado\n",
        "def criaMatrizporTeclado(linha,coluna):\n",
        "  #matriz vazia\n",
        "  m=[]\n",
        "  #preenche cada elemento de cada linha\n",
        "  for l in range(linha):\n",
        "    #cria linha da matriz vazia\n",
        "    l=[]\n",
        "    for c in range(coluna):\n",
        "      # inclusão de cada elemento na linha\n",
        "      list.append(l,float(input(\"Entre com o número: \")))\n",
        "    # na saída do laço inclui a linha preenchida na matriz\n",
        "    m = m + [l]\n",
        "  return m\n",
        "\n",
        "####### Função para criar a matriz preenchida com um valor único definido\n",
        "def criaMatriz(linha,coluna,valor):\n",
        "  #matriz vazia\n",
        "  m=[]\n",
        "  #preenche cada elemento de cada linha\n",
        "  for l in range(linha):\n",
        "    #cria linha da matriz vazia\n",
        "    l=[]\n",
        "    for c in range(coluna):\n",
        "      # inclusão de cada elemento na linha\n",
        "      list.append(l,valor)\n",
        "    # na saída do laço inclui a linha preenchida na matriz\n",
        "    m = m + [l]\n",
        "  return m\n",
        "\n",
        "####### Função geraImc\n",
        "def geraImc(m1):\n",
        "  m=criaMatriz(3,3,0\n",
        "               )\n",
        "  for l in range(3):\n",
        "    for c in range(3):\n",
        "      if (c<2):\n",
        "        m[l][c]=m1[l][c]\n",
        "      else:\n",
        "        m[l][c]=m1[l][c-2] / m1[l][c-1]**2\n",
        "  return m\n",
        "\n",
        "def imprimeMatriz(matriz):\n",
        "  #imprime a matriz\n",
        "  for m in matriz:\n",
        "    print(m)\n",
        "\n",
        "#### Programa Principal\n",
        "linhas  = 3\n",
        "colunas = 2\n",
        "print(\"Informe os pares (peso e altura):\")\n",
        "matriz1=criaMatrizporTeclado(linhas,colunas)\n",
        "\n",
        "matrizIMC=geraImc(matriz1)\n",
        "\n",
        "print(\"***** Resultados ****** \")\n",
        "print(\"\\nMatriz lida:\")\n",
        "print(imprimeMatriz(matriz1))\n",
        "print(\"\\nMatriz com IMC:\")\n",
        "print(imprimeMatriz(matrizIMC))"
      ]
    },
    {
      "cell_type": "markdown",
      "metadata": {
        "id": "QSMmdrrVLZ-N"
      },
      "source": [
        "## **08. Gráficos**\n",
        "\n",
        "É possível exibir uma variedade de gráficos no ambiente Google Colab. A seguir serão demonstradas algumas aplicações para uso de gráficos.\n",
        "\n",
        "Tradução e comentários do Notebook Original: https://colab.research.google.com/notebooks/charts.ipynb\n",
        "\n",
        "Prof. Paulo Lima  (paulolima@uepa.br)"
      ]
    },
    {
      "cell_type": "markdown",
      "metadata": {
        "id": "xNzEBRkzL3B0"
      },
      "source": [
        "### Biblioteca Matplotlib\n",
        "\n",
        "[Matplotlib](http://matplotlib.org/) is the most common charting package, see its [documentation](http://matplotlib.org/api/pyplot_api.html) for details, and its [examples](http://matplotlib.org/gallery.html#statistics) for inspiration."
      ]
    },
    {
      "cell_type": "code",
      "execution_count": null,
      "metadata": {
        "id": "lU6ze0ewPQl4"
      },
      "outputs": [],
      "source": [
        "import matplotlib.pyplot as plt"
      ]
    },
    {
      "cell_type": "markdown",
      "metadata": {
        "id": "WALI8x49GUpe"
      },
      "source": [
        "#### Gráfico de Linha (Line Plots)"
      ]
    },
    {
      "cell_type": "code",
      "execution_count": null,
      "metadata": {
        "id": "08RTGn_xE3MP"
      },
      "outputs": [],
      "source": [
        "x  = [1, 2, 3, 4, 5, 6, 7, 8, 9]\n",
        "y1 = [1, 3, 5, 3, 1, 3, 5, 3, 1]\n",
        "y2 = [2, 4, 6, 4, 2, 4, 6, 4, 2]\n",
        "plt.plot(x, y1, label=\"Linha A\")\n",
        "plt.plot(x, y2, label=\"Linha B\")\n",
        "plt.plot()\n",
        "\n",
        "plt.xlabel(\"Eixo X\")\n",
        "plt.ylabel(\"Eixo Y\")\n",
        "plt.title(\"Examplo de Gráfico de Linha\")\n",
        "plt.legend()\n",
        "plt.show()"
      ]
    },
    {
      "cell_type": "markdown",
      "metadata": {
        "id": "sIZLTZ0pdo0Z"
      },
      "source": [
        "#### Gráfico de Barras (Bar Plots)"
      ]
    },
    {
      "cell_type": "code",
      "execution_count": null,
      "metadata": {
        "id": "bZv4MenQpYOF"
      },
      "outputs": [],
      "source": [
        "# 50% dos dados são coincidentes entre Azul e Verde.\n",
        "\n",
        "# Azul\n",
        "x1 = [1, 1, 1, 1, 1, 1, 3]\n",
        "y1 = [1, 2, 3, 4, 5, 6, 8]\n",
        "\n",
        "# Verde\n",
        "x2 = [1, 1, 1, 1, 1, 2, 9]\n",
        "y2 = [1, 2, 3, 4, 5, 5, 7]\n",
        "\n",
        "# Colors: https://matplotlib.org/api/colors_api.html\n",
        "\n",
        "# Azul\n",
        "plt.bar(x1, y1, label=\"Azul\", color='b')\n",
        "# Verde\n",
        "plt.bar(x2, y2, label=\"Verde\", color='g')\n",
        "plt.plot()\n",
        "\n",
        "plt.xlabel(\"Cor\")\n",
        "plt.ylabel(\"Coordenada\")\n",
        "plt.title(\"Exemplo de Gráfico de Barras\")\n",
        "plt.legend()\n",
        "plt.show()"
      ]
    },
    {
      "cell_type": "markdown",
      "metadata": {
        "id": "YQO2Lw8Xdu7x"
      },
      "source": [
        "#### Histogramas (Histograms)"
      ]
    },
    {
      "cell_type": "code",
      "execution_count": null,
      "metadata": {
        "cellView": "both",
        "id": "SZ-DMbnPMbMY"
      },
      "outputs": [],
      "source": [
        "import numpy as np\n",
        "\n",
        "# Gera dados aleatórios até 1000,\n",
        "# esses valores estão em uma curva de sino em torno de 5\n",
        "Y = 5 + np.random.randn(1000)  ## Y é valor do número gerado\n",
        "x = [x for x in range(len(Y))] ## gera valores sequencias de 0 a x (1000)\n",
        "\n",
        "plt.bar(x, Y) # imprime o elemento de 0 a 1000 e seu valor N\n",
        "plt.title(\"Dados brutos\")\n",
        "plt.show()\n",
        "\n",
        "plt.hist(Y, bins=20) # monta o histograma a partir de N\n",
        "plt.title(\"Histograma\")\n",
        "plt.show()\n",
        "\n",
        "plt.hist(Y, cumulative=True, bins=20) # monta o histograma cumulativo a partir de N\n",
        "plt.title(\"Histogram Cumulativo\")\n",
        "plt.show()\n"
      ]
    },
    {
      "cell_type": "markdown",
      "metadata": {
        "id": "9-CelVUmdz8r"
      },
      "source": [
        "#### Gráfico de Dispersão (Scatter Plot)"
      ]
    },
    {
      "cell_type": "code",
      "execution_count": null,
      "metadata": {
        "id": "79C7jc9mv-Ji"
      },
      "outputs": [],
      "source": [
        "x1 = [2, 3, 4] # azul\n",
        "y1 = [5, 5, 5]\n",
        "\n",
        "x2 = [1, 2, 3, 4, 5] # laranja\n",
        "y2 = [2, 3, 2, 3, 4]\n",
        "\n",
        "y3 = [6, 8, 7, 8, 7] # rosa\n",
        "\n",
        "# Markers: https://matplotlib.org/api/markers_api.html\n",
        "\n",
        "plt.scatter(x1, y1) # azul\n",
        "plt.scatter(x2, y2, marker='v', color='r') # laranja\n",
        "plt.scatter(x2, y3, marker='^', color='m') # rosa\n",
        "plt.title('Examplo - Gráfico de Dispersão')\n",
        "plt.show()"
      ]
    },
    {
      "cell_type": "markdown",
      "metadata": {
        "id": "nlk-Sk0Nd82p"
      },
      "source": [
        "#### Gráfico de Pilha - Stack Plots"
      ]
    },
    {
      "cell_type": "code",
      "execution_count": null,
      "metadata": {
        "id": "5sxEM0pJzpgr"
      },
      "outputs": [],
      "source": [
        "idxes = [ 1,  2,  3,  4,  5,  6,  7,  8,  9]\n",
        "arr1  = [23, 40, 28, 43,  8, 44, 43, 18, 17]\n",
        "arr2  = [17, 30, 22, 14, 17, 17, 29, 22, 30]\n",
        "arr3  = [15, 31, 18, 22, 18, 19, 13, 32, 39]\n",
        "\n",
        "# Adding legend for stack plots is tricky.\n",
        "plt.plot([], [], color='r', label = 'RED')\n",
        "plt.plot([], [], color='g', label = 'GREEN')\n",
        "plt.plot([], [], color='b', label = 'BLUE')\n",
        "\n",
        "plt.stackplot(idxes, arr1, arr2, arr3, colors= ['r', 'g', 'b'])\n",
        "plt.title('Examplo - Gráfico de Pilha')\n",
        "plt.legend()\n",
        "plt.show()"
      ]
    },
    {
      "cell_type": "markdown",
      "metadata": {
        "id": "C0LOohpqeCjx"
      },
      "source": [
        "#### Gráfico de Pizza (Pie Charts)"
      ]
    },
    {
      "cell_type": "code",
      "execution_count": null,
      "metadata": {
        "id": "ZdEG-d4g4U6v"
      },
      "outputs": [],
      "source": [
        "rotulos = 'S1', 'S2', 'S3'\n",
        "valores = [10, 30, 60]\n",
        "cores = ['c', 'g', 'y']\n",
        "\n",
        "plt.pie(valores, labels=rotulos, colors=cores,\n",
        "        startangle=90,\n",
        "        explode = (0, 0.1, 0),\n",
        "        autopct = '%1.2f%%')\n",
        "\n",
        "plt.axis('equal') # Try commenting this out.\n",
        "plt.title('Examplo - Gráfico de Pizza')\n",
        "plt.show()"
      ]
    },
    {
      "cell_type": "markdown",
      "metadata": {
        "id": "sX97x87MTyIf"
      },
      "source": [
        "#### Gráfico de Área"
      ]
    },
    {
      "cell_type": "code",
      "execution_count": null,
      "metadata": {
        "id": "BCUl8mTMT4sN"
      },
      "outputs": [],
      "source": [
        "import numpy as np\n",
        "\n",
        "# Gera dados aleatórios até 1000,\n",
        "# esses valores estão em uma curva de sino em torno de 5\n",
        "\n",
        "Y = 200 + np.random.randn(150) ## Y é valor do número gerado\n",
        "x = [x for x in range(len(Y))] ## gera valores sequencias de 0 a N (150)\n",
        "\n",
        "plt.plot(x, Y, '-')\n",
        "plt.fill_between(x, Y, 195, where=(Y > 195), facecolor='g', alpha=0.6)\n",
        "\n",
        "plt.title(\"Fills and Alpha Example\")\n",
        "plt.show()"
      ]
    },
    {
      "cell_type": "markdown",
      "metadata": {
        "id": "fllyxKu8edm6"
      },
      "source": [
        "### Plot styles\n",
        "\n",
        "Colaboratory charts use [Seaborn's](https://seaborn.pydata.org) custom styling by default. To customize styling further please see the [matplotlib docs](https://matplotlib.org/users/style_sheets.html)."
      ]
    },
    {
      "cell_type": "markdown",
      "metadata": {
        "id": "cRkuifc7PazR"
      },
      "source": [
        "### Seaborn\n",
        "\n",
        "There are several libraries layered on top of Matplotlib that you can use in Colab. One that is worth highlighting is [Seaborn](http://seaborn.pydata.org):"
      ]
    },
    {
      "cell_type": "code",
      "execution_count": null,
      "metadata": {
        "cellView": "both",
        "id": "el13bTbyPRw4"
      },
      "outputs": [],
      "source": [
        "import numpy as np\n",
        "import seaborn as sns\n",
        "\n",
        "# Generate some random data\n",
        "num_points = 20\n",
        "# x will be 5, 6, 7... but also twiddled randomly\n",
        "x = 5 + np.arange(num_points) + np.random.randn(num_points)\n",
        "# y will be 10, 11, 12... but twiddled even more randomly\n",
        "y = 10 + np.arange(num_points) + 5 * np.random.randn(num_points)\n",
        "sns.regplot(x, y)\n",
        "plt.show()"
      ]
    },
    {
      "cell_type": "markdown",
      "metadata": {
        "id": "MoWj1knmTZPI"
      },
      "source": [
        "That's a simple scatterplot with a nice regression line fit to it, all with just one call to Seaborn's [regplot](http://seaborn.pydata.org/generated/seaborn.regplot.html#seaborn.regplot).\n",
        "\n",
        "Here's a Seaborn [heatmap](https://seaborn.pydata.org/generated/seaborn.heatmap.html):"
      ]
    },
    {
      "cell_type": "code",
      "execution_count": null,
      "metadata": {
        "cellView": "both",
        "id": "Fjw7UfGZQcL9"
      },
      "outputs": [],
      "source": [
        "import numpy as np\n",
        "\n",
        "# Make a 10 x 10 heatmap of some random data\n",
        "side_length = 10\n",
        "# Start with a 10 x 10 matrix with values randomized around 5\n",
        "data = 5 + np.random.randn(side_length, side_length)\n",
        "# The next two lines make the values larger as we get closer to (9, 9)\n",
        "data += np.arange(side_length)\n",
        "data += np.reshape(np.arange(side_length), (side_length, 1))\n",
        "# Generate the heatmap\n",
        "sns.heatmap(data)\n",
        "plt.show()"
      ]
    },
    {
      "cell_type": "markdown",
      "metadata": {
        "id": "beTgCbVa_wFA"
      },
      "source": [
        "### Altair"
      ]
    },
    {
      "cell_type": "markdown",
      "metadata": {
        "id": "610XkhS2Atb0"
      },
      "source": [
        "[Altair](http://altair-viz.github.io) is a declarative visualization library for creating interactive visualizations in Python, and is installed and enabled in Colab by default.\n",
        "\n",
        "For example, here is an interactive scatter plot:"
      ]
    },
    {
      "cell_type": "code",
      "execution_count": null,
      "metadata": {
        "id": "lIYdn1woOS1n"
      },
      "outputs": [],
      "source": [
        "import altair as alt\n",
        "from vega_datasets import data # busca valores de um dataset externo\n",
        "cars = data.cars()\n",
        "\n",
        "alt.Chart(cars).mark_point().encode(\n",
        "    x='Horsepower',\n",
        "    y='Miles_per_Gallon',\n",
        "    color='Origin',\n",
        ").interactive()"
      ]
    },
    {
      "cell_type": "markdown",
      "metadata": {
        "id": "zPAYx6C_tSdc"
      },
      "source": [
        "For more examples of Altair plots, see the [Altair snippets notebook](/notebooks/snippets/altair.ipynb) or the external [Altair Example Gallery](https://altair-viz.github.io/gallery/)."
      ]
    },
    {
      "cell_type": "markdown",
      "metadata": {
        "id": "MYqcrcKLO4xe"
      },
      "source": [
        "### Plotly"
      ]
    },
    {
      "cell_type": "markdown",
      "metadata": {
        "id": "ZFFeVI4yO4xi"
      },
      "source": [
        "### Sample"
      ]
    },
    {
      "cell_type": "code",
      "execution_count": null,
      "metadata": {
        "id": "8YCVGqZkJJxT"
      },
      "outputs": [],
      "source": [
        "from plotly.offline import iplot\n",
        "import plotly.graph_objs as go\n",
        "\n",
        "data = [\n",
        "    go.Contour(\n",
        "        z=[[10, 10.625, 12.5, 15.625, 20],\n",
        "           [5.625, 6.25, 8.125, 11.25, 15.625],\n",
        "           [2.5, 3.125, 5., 8.125, 12.5],\n",
        "           [0.625, 1.25, 3.125, 6.25, 10.625],\n",
        "           [0, 0.625, 2.5, 5.625, 10]]\n",
        "    )\n",
        "]\n",
        "iplot(data)"
      ]
    },
    {
      "cell_type": "markdown",
      "metadata": {
        "id": "JGnotb1n73Yk"
      },
      "source": [
        "### Bokeh"
      ]
    },
    {
      "cell_type": "markdown",
      "metadata": {
        "id": "J3dDw5_wKbpe"
      },
      "source": [
        "#### Sample"
      ]
    },
    {
      "cell_type": "code",
      "execution_count": null,
      "metadata": {
        "id": "vlOIt0zZ5uCz"
      },
      "outputs": [],
      "source": [
        "import numpy as np\n",
        "from bokeh.plotting import figure, show\n",
        "from bokeh.io import output_notebook\n",
        "\n",
        "# Call once to configure Bokeh to display plots inline in the notebook.\n",
        "output_notebook()"
      ]
    },
    {
      "cell_type": "code",
      "execution_count": null,
      "metadata": {
        "id": "N-u5cYwpS-y0"
      },
      "outputs": [],
      "source": [
        "N = 4000\n",
        "x = np.random.random(size=N) * 100\n",
        "y = np.random.random(size=N) * 100\n",
        "radii = np.random.random(size=N) * 1.5\n",
        "colors = [\"#%02x%02x%02x\" % (r, g, 150) for r, g in zip(np.floor(50+2*x).astype(int), np.floor(30+2*y).astype(int))]\n",
        "\n",
        "p = figure()\n",
        "p.circle(x, y, radius=radii, fill_color=colors, fill_alpha=0.6, line_color=None)\n",
        "show(p)"
      ]
    },
    {
      "cell_type": "markdown",
      "metadata": {
        "id": "aLQXoWeb2Iug"
      },
      "source": [
        "## **09. Conversão de Tipos**\n",
        "Python permite a conversão (*type casting*) entre tipos de dados. Para fazer uma conversão, basta\n",
        "utilizar o nome do tipo e, entre parêntes, passar o valor ou variável que se deseja converter.\n",
        "\n",
        "Exemplos a seguir:"
      ]
    },
    {
      "cell_type": "markdown",
      "metadata": {
        "id": "izuSeg4Q4zxW"
      },
      "source": [
        "###### **Conversão de int para str**"
      ]
    },
    {
      "cell_type": "code",
      "execution_count": null,
      "metadata": {
        "id": "bdPtpuNX2XMP"
      },
      "outputs": [],
      "source": [
        "numero_cinco = 5\n",
        "type(numero_cinco)"
      ]
    },
    {
      "cell_type": "code",
      "execution_count": null,
      "metadata": {
        "id": "ogniGwlb2Zh2"
      },
      "outputs": [],
      "source": [
        "numero_cinco"
      ]
    },
    {
      "cell_type": "code",
      "execution_count": null,
      "metadata": {
        "id": "j4LUCfGO2di7"
      },
      "outputs": [],
      "source": [
        "simbolo_cinco=str(numero_cinco) # conversão (cast) de int para str\n",
        "type(simbolo_cinco)"
      ]
    },
    {
      "cell_type": "code",
      "execution_count": null,
      "metadata": {
        "id": "rTgbQd_Q2ePi"
      },
      "outputs": [],
      "source": [
        "simbolo_cinco"
      ]
    },
    {
      "cell_type": "markdown",
      "metadata": {
        "id": "u4WSF7oU2l7b"
      },
      "source": [
        "###### **Conversão de str para float**"
      ]
    },
    {
      "cell_type": "code",
      "execution_count": null,
      "metadata": {
        "id": "STz4CC9h2rhv"
      },
      "outputs": [],
      "source": [
        "valor_de_pi = \"3.14159\"\n",
        "type(valor_de_pi)"
      ]
    },
    {
      "cell_type": "code",
      "execution_count": null,
      "metadata": {
        "id": "-vYPksKb2stH"
      },
      "outputs": [],
      "source": [
        "valor_de_pi"
      ]
    },
    {
      "cell_type": "code",
      "execution_count": null,
      "metadata": {
        "id": "rQ196WS-2wBh"
      },
      "outputs": [],
      "source": [
        "pi =  float(valor_de_pi) # conversão (cast) de str para float\n",
        "type(pi)"
      ]
    },
    {
      "cell_type": "code",
      "execution_count": null,
      "metadata": {
        "id": "SaaIOgXV2zd_"
      },
      "outputs": [],
      "source": [
        "pi"
      ]
    },
    {
      "cell_type": "markdown",
      "metadata": {
        "id": "hnN7Y9p8214o"
      },
      "source": [
        "###### **Conversão de str para int**"
      ]
    },
    {
      "cell_type": "code",
      "execution_count": null,
      "metadata": {
        "id": "hze-a3GD25iw"
      },
      "outputs": [],
      "source": [
        "valor_ano = \"2021\"\n",
        "type(valor_ano)"
      ]
    },
    {
      "cell_type": "code",
      "execution_count": null,
      "metadata": {
        "id": "xP6Btrwa28Kx"
      },
      "outputs": [],
      "source": [
        "valor_ano"
      ]
    },
    {
      "cell_type": "code",
      "execution_count": null,
      "metadata": {
        "id": "_DZH6pjC2-Bq"
      },
      "outputs": [],
      "source": [
        "ano =  int(valor_ano)\n",
        "type(ano)"
      ]
    },
    {
      "cell_type": "code",
      "execution_count": null,
      "metadata": {
        "id": "JWVUqJ1D3AsP"
      },
      "outputs": [],
      "source": [
        "ano"
      ]
    },
    {
      "cell_type": "markdown",
      "metadata": {
        "id": "45pMnes13HM-"
      },
      "source": [
        "###### **Conversão de bool para int**"
      ]
    },
    {
      "cell_type": "code",
      "execution_count": null,
      "metadata": {
        "id": "E2JmoGOY3Iou"
      },
      "outputs": [],
      "source": [
        "valor_booleano = True\n",
        "type(valor_booleano)"
      ]
    },
    {
      "cell_type": "code",
      "execution_count": null,
      "metadata": {
        "id": "zQpI6ZDk3JjW"
      },
      "outputs": [],
      "source": [
        "valor = int(valor_booleano)\n",
        "type(valor)"
      ]
    },
    {
      "cell_type": "code",
      "execution_count": null,
      "metadata": {
        "id": "YpUTpsjW4GZO"
      },
      "outputs": [],
      "source": [
        "valor"
      ]
    },
    {
      "cell_type": "code",
      "execution_count": null,
      "metadata": {
        "id": "2HPNvE6s3KHg"
      },
      "outputs": [],
      "source": [
        "valor_booleano = False\n",
        "type(valor_booleano)"
      ]
    },
    {
      "cell_type": "code",
      "execution_count": null,
      "metadata": {
        "id": "T8pmAOLP3JLO"
      },
      "outputs": [],
      "source": [
        "valor = int(valor_booleano)\n",
        "type(valor)"
      ]
    },
    {
      "cell_type": "code",
      "execution_count": null,
      "metadata": {
        "id": "gh_eq4Y54Lqu"
      },
      "outputs": [],
      "source": [
        "valor"
      ]
    },
    {
      "cell_type": "markdown",
      "metadata": {
        "id": "2osa9WpQ5gdy"
      },
      "source": [
        "###### **Conversão de float para int**"
      ]
    },
    {
      "cell_type": "code",
      "execution_count": null,
      "metadata": {
        "id": "WKZbnKuo5gdz"
      },
      "outputs": [],
      "source": [
        "valor_float = 3.1415\n",
        "type(valor_float)"
      ]
    },
    {
      "cell_type": "code",
      "execution_count": null,
      "metadata": {
        "id": "Mk6LItdD6YEF"
      },
      "outputs": [],
      "source": [
        "valor_float"
      ]
    },
    {
      "cell_type": "code",
      "execution_count": null,
      "metadata": {
        "id": "JzWGxPIC5gd3"
      },
      "outputs": [],
      "source": [
        "valor_int = int(valor_float)\n",
        "type(valor_int )"
      ]
    },
    {
      "cell_type": "code",
      "execution_count": null,
      "metadata": {
        "id": "8QDQv0mV5gd5"
      },
      "outputs": [],
      "source": [
        "valor_int"
      ]
    },
    {
      "cell_type": "markdown",
      "metadata": {
        "id": "Ksntzi4RTPKd"
      },
      "source": [
        "## **10. Estruturas de Dados**"
      ]
    },
    {
      "cell_type": "markdown",
      "metadata": {
        "id": "rcFo-1SSNvZM"
      },
      "source": [
        "### **Listas (list)**\n",
        "\n",
        "Uma lista é a estrutura de dados mais básica do Python e armazena os dados em sequência, onde cada elemento possui sua posição na lista, denominada de índice. O primeiro elemento é sempre o índice zero e a cada elemento inserido na lista esse valor é incrementado.\n",
        "\n",
        "No Python, uma lista pode armazenar qualquer tipo de dado primitivo (string, inteiro, float, etc). Na imagem abaixo podemos ver como uma lista se comporta:\n",
        "\n",
        "<center><img src=\"https://github.com/paulosrl/imagens/blob/master/lista.jpg?raw=true\n",
        "\" height=\"130px\">\n",
        "</center>\n",
        "\n",
        "Os números: **1,2,3,4 e 5 são o conteúdo** da lista, e os números **0,1,2,3 e 4 são os índices** da lista. Cada elemento que compoem a lista é indentificado por um índice único.\n",
        "\n",
        "O **primeiro elemento** fica armazenado no **índice 0** e o **último elemento** no **índice n-1** (**n** é a quantidade de elementos da lista).\n",
        "\n",
        "**Neste tópico será mostrado:**\n",
        "\n",
        "1. Como criar uma lista\n",
        "2. Como acessar elementos de uma lista\n",
        "3. Como modificar elementos de uma lista\n",
        "4. Principais métodos de um objeto lista\n",
        "5. Funções aplicáveis a uma lista"
      ]
    },
    {
      "cell_type": "markdown",
      "metadata": {
        "id": "U8FBJOEeRbDs"
      },
      "source": [
        "#### **Como criar uma lista**"
      ]
    },
    {
      "cell_type": "code",
      "execution_count": null,
      "metadata": {
        "id": "D0aSEMxDRbDt"
      },
      "outputs": [],
      "source": [
        "# Criando uma lista vazia\n",
        "lista_vazia = []\n",
        "lista_vazia2 = list()"
      ]
    },
    {
      "cell_type": "code",
      "execution_count": null,
      "metadata": {
        "id": "Ed0RAvVPRbDw"
      },
      "outputs": [],
      "source": [
        "# Visualizando o tipo\n",
        "type(lista_vazia)"
      ]
    },
    {
      "cell_type": "code",
      "execution_count": null,
      "metadata": {
        "id": "UQVz-lx3RbDy"
      },
      "outputs": [],
      "source": [
        "# Visualizando o tipo\n",
        "type(lista_vazia2)"
      ]
    },
    {
      "cell_type": "code",
      "execution_count": null,
      "metadata": {
        "id": "yZfgscfURbD0"
      },
      "outputs": [],
      "source": [
        "# Verificando o tamanho da lista\n",
        "len(lista_vazia)"
      ]
    },
    {
      "cell_type": "code",
      "execution_count": null,
      "metadata": {
        "id": "0oVXYkcbRbD2"
      },
      "outputs": [],
      "source": [
        "# Criando listas com elementos\n",
        "lista = [23, 56, 2, -3, 10, 2, 18, 0, 5]\n",
        "lista_reais = [1.5, -2.13, 5.14]\n",
        "lista_strings = [\"Bernardo\", \"Python\", \"UEPA\", \"Introdução a Linguagem de Programação Python\"]\n",
        "lista_booleanos = [True, True, False, True]\n",
        "lista_misturada = [1, 2, 3.14159, \"teste\"]\n",
        "lista_misturada2 = [1, 2, 3.14159, \"teste\", [1, \"A\", 1.0]]\n",
        "listas_aninhadas = [ [1, 2, 3], [4, 5, 6], [7, 8, 9]]"
      ]
    },
    {
      "cell_type": "code",
      "execution_count": null,
      "metadata": {
        "id": "GK9sy-QxLUEM"
      },
      "outputs": [],
      "source": [
        "nomes = [\"Maria\",\"Ana\",\"Pedro\"]\n",
        "notas = [10,9,7]\n"
      ]
    },
    {
      "cell_type": "code",
      "execution_count": null,
      "metadata": {
        "id": "3mMW5tSKLyro"
      },
      "outputs": [],
      "source": [
        "print(nomes[0])"
      ]
    },
    {
      "cell_type": "code",
      "execution_count": null,
      "metadata": {
        "id": "hqfDPht1LKGl"
      },
      "outputs": [],
      "source": [
        "\n",
        "valor[0]=1\n",
        "valor[1]=2\n",
        "valor[2]=3\n",
        "\n",
        "caractere [2] nomes\n",
        "nomes[0] = \"Bernardo\"\n",
        "nomes[1] = \"Lima\"\n",
        "Formato 2\n",
        "inteiro [3] valores = {1,2,3}\n",
        "inteiro [3] notas = {4,5,6}\n",
        "\n",
        "caractere [2] nomes = {\"Bernardo\", \"Lima\"}\n",
        "caractere resultado = nomes[0]+nomes[1]\n",
        "Exemplo de operações (independente do formato)\n",
        "caractere resultado = nomes[0]+nomes[1]\n",
        "/* a variável resultado recebe o conteúdo da posição 0 do vetor nomes e soma com o conteúdo da posição 1 do vetor nomes, o conteúdo que estará armazenado na variável resultado será \"Bernardo Lima\" */\n",
        "\n",
        "notas[2] = valores[0]+notas[1]\n",
        "/* o vetor notas de índice 2 recebe o resultado da soma dos conteúdos de valores[0] e   notas[1], ou seja, 1 + 5, em notas[2] ficará armazenado o valor 6 */\n"
      ]
    },
    {
      "cell_type": "code",
      "execution_count": null,
      "metadata": {
        "id": "91zEbpnERbD4"
      },
      "outputs": [],
      "source": [
        "# Visualizando a lista\n",
        "lista"
      ]
    },
    {
      "cell_type": "code",
      "execution_count": null,
      "metadata": {
        "id": "V5CI_I7ORbD7"
      },
      "outputs": [],
      "source": [
        "lista_reais"
      ]
    },
    {
      "cell_type": "code",
      "execution_count": null,
      "metadata": {
        "id": "nCCxYtOgRbD9"
      },
      "outputs": [],
      "source": [
        "lista_strings"
      ]
    },
    {
      "cell_type": "code",
      "execution_count": null,
      "metadata": {
        "id": "BHDQD4k0RbD_"
      },
      "outputs": [],
      "source": [
        "lista_booleanos"
      ]
    },
    {
      "cell_type": "code",
      "execution_count": null,
      "metadata": {
        "id": "w40F1zSPRbEB"
      },
      "outputs": [],
      "source": [
        "lista_misturada"
      ]
    },
    {
      "cell_type": "code",
      "execution_count": null,
      "metadata": {
        "id": "6dmC15CDRbED"
      },
      "outputs": [],
      "source": [
        "lista_misturada2"
      ]
    },
    {
      "cell_type": "code",
      "execution_count": null,
      "metadata": {
        "id": "eLVnfylNRbEG"
      },
      "outputs": [],
      "source": [
        "listas_aninhadas"
      ]
    },
    {
      "cell_type": "markdown",
      "metadata": {
        "id": "BZidRYs9RbEI"
      },
      "source": [
        "#### **Como acessar elementos de uma lista**"
      ]
    },
    {
      "cell_type": "code",
      "execution_count": null,
      "metadata": {
        "id": "iUOafG_1RbEJ"
      },
      "outputs": [],
      "source": [
        "# Acessando o índice 0 (primeira posição)\n",
        "lista[0]"
      ]
    },
    {
      "cell_type": "code",
      "execution_count": null,
      "metadata": {
        "id": "oZ2mIXv3RbEL"
      },
      "outputs": [],
      "source": [
        "lista"
      ]
    },
    {
      "cell_type": "code",
      "execution_count": null,
      "metadata": {
        "id": "b2TqphiKRbEO"
      },
      "outputs": [],
      "source": [
        "# Acessando o índice 2 (terceira posição)\n",
        "lista[2]"
      ]
    },
    {
      "cell_type": "code",
      "execution_count": null,
      "metadata": {
        "id": "4Ki9rkWPRbEP"
      },
      "outputs": [],
      "source": [
        "# Acessando o índice 3 (quarta posição)\n",
        "lista_strings[3]"
      ]
    },
    {
      "cell_type": "code",
      "execution_count": null,
      "metadata": {
        "id": "rmcoUCP5RbES"
      },
      "outputs": [],
      "source": [
        "lista_strings"
      ]
    },
    {
      "cell_type": "code",
      "execution_count": null,
      "metadata": {
        "id": "ldLMbuSlRbEV"
      },
      "outputs": [],
      "source": [
        "# Acessando o índice 3 (quarta posição)\n",
        "lista_misturada[3]"
      ]
    },
    {
      "cell_type": "code",
      "execution_count": null,
      "metadata": {
        "id": "LThybszORbEX"
      },
      "outputs": [],
      "source": [
        "lista_misturada"
      ]
    },
    {
      "cell_type": "code",
      "execution_count": null,
      "metadata": {
        "id": "jrnK5GVvRbEZ"
      },
      "outputs": [],
      "source": [
        "# Acessando o índice 4 nos foi retornado uma lista com 3 elementos. Agora queremos acessar o índice 1 dessa lista interna\n",
        "lista_misturada2[4][1]"
      ]
    },
    {
      "cell_type": "code",
      "execution_count": null,
      "metadata": {
        "id": "SbIYthNFRbEb"
      },
      "outputs": [],
      "source": [
        "lista_misturada2"
      ]
    },
    {
      "cell_type": "code",
      "execution_count": null,
      "metadata": {
        "id": "JrjX4n6GRbEc"
      },
      "outputs": [],
      "source": [
        "# Acessando um índice inexistente () / dará um erro\n",
        "lista[20]"
      ]
    },
    {
      "cell_type": "markdown",
      "metadata": {
        "id": "8sfjdmnGRbEe"
      },
      "source": [
        "#### **Como modificar elementos de uma lista**"
      ]
    },
    {
      "cell_type": "code",
      "execution_count": null,
      "metadata": {
        "id": "0qCkAItKRbEe"
      },
      "outputs": [],
      "source": [
        "# Visualizando a lista\n",
        "lista"
      ]
    },
    {
      "cell_type": "code",
      "execution_count": null,
      "metadata": {
        "id": "rZaUGCNfRbEh"
      },
      "outputs": [],
      "source": [
        "# Alterando o elemento do índice 1 de 56 para 18\n",
        "lista[1] = 18"
      ]
    },
    {
      "cell_type": "code",
      "execution_count": null,
      "metadata": {
        "id": "5QDFQP9LRbEk"
      },
      "outputs": [],
      "source": [
        "# Visualizando a alteração realizada\n",
        "lista"
      ]
    },
    {
      "cell_type": "code",
      "execution_count": null,
      "metadata": {
        "id": "Mt7ZYfOXRbEl"
      },
      "outputs": [],
      "source": [
        "# Modificando o elemento do índice 3 de -3 para 15\n",
        "lista[3] = 15"
      ]
    },
    {
      "cell_type": "code",
      "execution_count": null,
      "metadata": {
        "id": "lnurAdYwRbEn"
      },
      "outputs": [],
      "source": [
        "# Visualizando a alteração realizada\n",
        "lista"
      ]
    },
    {
      "cell_type": "code",
      "execution_count": null,
      "metadata": {
        "id": "0xH7T6pPRbEp"
      },
      "outputs": [],
      "source": [
        "# Modificando o elemento do índice 2. Ele recebe a soma dos dois elementos anteriores\n",
        "lista[2] = lista[0] + lista[1]"
      ]
    },
    {
      "cell_type": "code",
      "execution_count": null,
      "metadata": {
        "id": "av-7lLhgRbEr"
      },
      "outputs": [],
      "source": [
        "# Visualizando a alteração realizada\n",
        "lista"
      ]
    },
    {
      "cell_type": "markdown",
      "metadata": {
        "id": "-ldpQcdlRbEt"
      },
      "source": [
        "#### **Principais métodos de um objeto lista**\n",
        "\n",
        "Método | Descrição | Exemplo\n",
        ":----- | :-------- | :------\n",
        "append | Adiciona um elemento no final da lista | `lista.append(5)`\n",
        "clear  | Apaga todos os elementos de uma lista | `lista.clear()`\n",
        "copy | Retorna uma cópia dos elementos da lista | `copia = lista.copy()`\n",
        "count | Retorna a quantidade de ocorrências de um elemento na lista | `qt = lista.count(5)`\n",
        "extend | Adiciona os elementos de outra lista passada por parâmetro | `lista.extend(outra_lista)`\n",
        "index | Retorna o índice do elemento passado por parâmetro (primeira posição) | `pos5 = lista.index(5)`\n",
        "insert | Adiciona um elemento em uma posição passada por parâmetro (adiciona no final caso a posição não exista)| `lista.insert(3, \"João\")`\n",
        "pop | Remove o elemento na posição passada por parâmetro (provoca um erro caso a posição não exista)| `elemento = lista.pop(3)`\n",
        "remove | Remove o elemento passado por parâmetro (provoca um erro caso o elemento não exista)| `lista.remove(5)`\n",
        "reverse | Inverte a ordem dos elementos de uma lista | `lista.reverse()`\n",
        "sort | Ordena os objetos de uma lista | `lista.sort()`\n",
        " | | `lista.sort(reverse=True)`"
      ]
    },
    {
      "cell_type": "markdown",
      "metadata": {
        "id": "snFWbPrfRbEt"
      },
      "source": [
        "##### **append()**"
      ]
    },
    {
      "cell_type": "code",
      "execution_count": null,
      "metadata": {
        "id": "SoZAveEiRbEt"
      },
      "outputs": [],
      "source": [
        "# Visualizando a lista antes da chamada ao método append()\n",
        "lista"
      ]
    },
    {
      "cell_type": "code",
      "execution_count": null,
      "metadata": {
        "id": "ukERBMJjRbEv"
      },
      "outputs": [],
      "source": [
        "# Adicionado o 17 no final da lista\n",
        "lista.append(17)"
      ]
    },
    {
      "cell_type": "code",
      "execution_count": null,
      "metadata": {
        "id": "HyRg-Ii6RbEx"
      },
      "outputs": [],
      "source": [
        "# Visualizando a lista após chamada ao método append()\n",
        "lista"
      ]
    },
    {
      "cell_type": "markdown",
      "metadata": {
        "id": "ThouL4J2RbEz"
      },
      "source": [
        "##### **clear()**"
      ]
    },
    {
      "cell_type": "code",
      "execution_count": null,
      "metadata": {
        "id": "RwWVxdAhRbEz"
      },
      "outputs": [],
      "source": [
        "# Visualizando lista_reais antes da chamada ao método clear()\n",
        "lista_reais"
      ]
    },
    {
      "cell_type": "code",
      "execution_count": null,
      "metadata": {
        "id": "knqgAHSDRbE1"
      },
      "outputs": [],
      "source": [
        "# Removendo todos os ementos de lista_reais\n",
        "lista_reais.clear()"
      ]
    },
    {
      "cell_type": "code",
      "execution_count": null,
      "metadata": {
        "id": "JQG7OdsDRbE3"
      },
      "outputs": [],
      "source": [
        "# Visualizando lista_reais após chamada ao método clear()\n",
        "lista_reais"
      ]
    },
    {
      "cell_type": "markdown",
      "metadata": {
        "id": "4__b_uawRbE5"
      },
      "source": [
        "##### **copy()**"
      ]
    },
    {
      "cell_type": "code",
      "execution_count": null,
      "metadata": {
        "id": "LO_B8sAQRbE5"
      },
      "outputs": [],
      "source": [
        "# Copiando uma lista para outra?\n",
        "copia = lista"
      ]
    },
    {
      "cell_type": "code",
      "execution_count": null,
      "metadata": {
        "id": "sAeYNNjkRbE7"
      },
      "outputs": [],
      "source": [
        "# Visualizando o conteúdo de copia\n",
        "copia"
      ]
    },
    {
      "cell_type": "code",
      "execution_count": null,
      "metadata": {
        "id": "nbesvvAJRbE9"
      },
      "outputs": [],
      "source": [
        "# Alterando o elemento do índice 0 de 23 para 5\n",
        "copia[0] = 5"
      ]
    },
    {
      "cell_type": "code",
      "execution_count": null,
      "metadata": {
        "id": "yrPSg97IRbE_"
      },
      "outputs": [],
      "source": [
        "# Visualizando o conteúdo de copia\n",
        "copia"
      ]
    },
    {
      "cell_type": "code",
      "execution_count": null,
      "metadata": {
        "id": "ZZjo29hgRbFC"
      },
      "outputs": [],
      "source": [
        "# Visualizando o conteúdo de lista (Perceba que o elemento 23 também foi alterado na lista, e não apenas em copia)\n",
        "lista"
      ]
    },
    {
      "cell_type": "code",
      "execution_count": null,
      "metadata": {
        "id": "jyInGBRoRbFE"
      },
      "outputs": [],
      "source": [
        "# Desfazendo a alteração no índice 0, modificando de 5 para 23\n",
        "lista[0] = 23"
      ]
    },
    {
      "cell_type": "code",
      "execution_count": null,
      "metadata": {
        "id": "gQXULZ8kRbFI"
      },
      "outputs": [],
      "source": [
        "# A maneira correta de copiar uma lista para outra é através da chamada ao método copy()\n",
        "copia = lista.copy()"
      ]
    },
    {
      "cell_type": "code",
      "execution_count": null,
      "metadata": {
        "id": "g1wtVREVRbFJ"
      },
      "outputs": [],
      "source": [
        "# Visualizando o conteúdo de lista\n",
        "lista"
      ]
    },
    {
      "cell_type": "code",
      "execution_count": null,
      "metadata": {
        "id": "EGXW_XLoRbFL"
      },
      "outputs": [],
      "source": [
        "# Visualizando o conteúdo de copia\n",
        "copia"
      ]
    },
    {
      "cell_type": "code",
      "execution_count": null,
      "metadata": {
        "id": "cQUNVv4BRbFN"
      },
      "outputs": [],
      "source": [
        "# Alterando o elemento do índice 0 de 23 para 5\n",
        "copia[0] = 5"
      ]
    },
    {
      "cell_type": "code",
      "execution_count": null,
      "metadata": {
        "id": "7VBvv3SKRbFP"
      },
      "outputs": [],
      "source": [
        "# Visualizando o conteúdo de lista\n",
        "lista"
      ]
    },
    {
      "cell_type": "code",
      "execution_count": null,
      "metadata": {
        "id": "pSbvKx3WRbFR"
      },
      "outputs": [],
      "source": [
        "# Visualizando o conteúdo de lista - Agora sim, apenas o índice 0 de copia foi alterado\n",
        "copia"
      ]
    },
    {
      "cell_type": "markdown",
      "metadata": {
        "id": "c_rvFiQJRbFT"
      },
      "source": [
        "##### **count()**"
      ]
    },
    {
      "cell_type": "code",
      "execution_count": null,
      "metadata": {
        "id": "RpYOvZjwRbFT"
      },
      "outputs": [],
      "source": [
        "# Verificando quantas vezes o número 5 aparece em copia\n",
        "copia.count(5)"
      ]
    },
    {
      "cell_type": "markdown",
      "metadata": {
        "id": "Xf0wci8VRbFV"
      },
      "source": [
        "##### **extend()**"
      ]
    },
    {
      "cell_type": "code",
      "execution_count": null,
      "metadata": {
        "id": "2NXqvpGCRbFV"
      },
      "outputs": [],
      "source": [
        "# Suponha que temos uma lista chamada numeros que contém os elementos [1, 2, 3]\n",
        "numeros = [1, 2, 3]"
      ]
    },
    {
      "cell_type": "code",
      "execution_count": null,
      "metadata": {
        "id": "9WZMW-vZRbFX"
      },
      "outputs": [],
      "source": [
        "# Queremos adicionar o elementos [4, 5] à lista números e usamos o método append()\n",
        "numeros.append([4,5])"
      ]
    },
    {
      "cell_type": "code",
      "execution_count": null,
      "metadata": {
        "id": "Pd2EfSisRbFb"
      },
      "outputs": [],
      "source": [
        "# Ao invés de adicionarmos os elementos 4 e 5, adicionar uma lista contendo os elementos [4, 5]\n",
        "numeros"
      ]
    },
    {
      "cell_type": "code",
      "execution_count": null,
      "metadata": {
        "id": "ZoRHgr_5RbFd"
      },
      "outputs": [],
      "source": [
        "# A maneira correta de adicionar novos elementos de uma lista, a partir de outra lista, é através do método extend()\n",
        "numeros = [1, 2, 3]\n",
        "numeros.extend([4,5])\n",
        "numeros"
      ]
    },
    {
      "cell_type": "markdown",
      "metadata": {
        "id": "FO4vLMxuRbFe"
      },
      "source": [
        "##### **index()**"
      ]
    },
    {
      "cell_type": "code",
      "execution_count": null,
      "metadata": {
        "id": "NyrbYi5xRbFe"
      },
      "outputs": [],
      "source": [
        "# Redefinindo os elementos da lista\n",
        "lista = [1, 3, 7, 2, 3, 8, 4]"
      ]
    },
    {
      "cell_type": "code",
      "execution_count": null,
      "metadata": {
        "id": "7nw-yUZ2RbFg"
      },
      "outputs": [],
      "source": [
        "# O método index nos permite saber em que posição determinado elemento está armazenado\n",
        "lista.index(7)"
      ]
    },
    {
      "cell_type": "code",
      "execution_count": null,
      "metadata": {
        "id": "XutJqQuARbFi"
      },
      "outputs": [],
      "source": [
        "# Podemos guardar esse valor em uma variável\n",
        "posicao8 = lista.index(8)"
      ]
    },
    {
      "cell_type": "code",
      "execution_count": null,
      "metadata": {
        "id": "v9pgtKXIRbFj"
      },
      "outputs": [],
      "source": [
        "posicao8"
      ]
    },
    {
      "cell_type": "code",
      "execution_count": null,
      "metadata": {
        "id": "JN9ruIlTRbFl"
      },
      "outputs": [],
      "source": [
        "# O método index() retorna a posição da primeira ocorrência do elemento procurado.\n",
        "posicao3 = lista.index(3)"
      ]
    },
    {
      "cell_type": "code",
      "execution_count": null,
      "metadata": {
        "id": "I3pdKyb_RbFn"
      },
      "outputs": [],
      "source": [
        "posicao3"
      ]
    },
    {
      "cell_type": "code",
      "execution_count": null,
      "metadata": {
        "id": "i1coI8R_RbFp"
      },
      "outputs": [],
      "source": [
        "# Caso o elemento não exista, ocorre um erro\n",
        "lista.index(19)"
      ]
    },
    {
      "cell_type": "markdown",
      "metadata": {
        "id": "7amCvHbvRbFq"
      },
      "source": [
        "##### **insert()**"
      ]
    },
    {
      "cell_type": "code",
      "execution_count": null,
      "metadata": {
        "id": "BLD5Xc6uRbFq"
      },
      "outputs": [],
      "source": [
        "# O método insert() permite adicionar um elemento em qualquer posição da lista.\n",
        "# Caso a posição não exista, ele insere o elemento desejado na última posição\n",
        "lista.insert(2, \"ABC\")\n",
        "lista"
      ]
    },
    {
      "cell_type": "code",
      "execution_count": null,
      "metadata": {
        "id": "i-D_SCywRbFs"
      },
      "outputs": [],
      "source": [
        "lista.insert(100, \"XYZ\")\n",
        "lista"
      ]
    },
    {
      "cell_type": "markdown",
      "metadata": {
        "id": "GgOLDFwERbFt"
      },
      "source": [
        "##### **pop()**"
      ]
    },
    {
      "cell_type": "code",
      "execution_count": null,
      "metadata": {
        "id": "ocrrZ06WRbFt"
      },
      "outputs": [],
      "source": [
        "# Utilizamos o método pop() quando desejamos apagar uma posição da lista\n",
        "# Removendo o elemento no índice 2\n",
        "valor = lista.pop(2)\n",
        "# Visualizando o valor retornado\n",
        "valor"
      ]
    },
    {
      "cell_type": "code",
      "execution_count": null,
      "metadata": {
        "id": "2qKSbPRvRbFv"
      },
      "outputs": [],
      "source": [
        "# Visualizando a lista após a remoção\n",
        "lista"
      ]
    },
    {
      "cell_type": "code",
      "execution_count": null,
      "metadata": {
        "id": "y1S06OKARbFw"
      },
      "outputs": [],
      "source": [
        "# Removendo o elemento da última posição\n",
        "lista.pop(-1)\n",
        "# Visualizando a lista após a remoção\n",
        "lista"
      ]
    },
    {
      "cell_type": "code",
      "execution_count": null,
      "metadata": {
        "id": "0aTND2BIRbFy"
      },
      "outputs": [],
      "source": [
        "# O método pop() provoca um erro caso a posição não exista\n",
        "lista.pop(45)"
      ]
    },
    {
      "cell_type": "markdown",
      "metadata": {
        "id": "07Kv3UYfRbF0"
      },
      "source": [
        "##### **remove()**"
      ]
    },
    {
      "cell_type": "code",
      "execution_count": null,
      "metadata": {
        "id": "C2eQ2sfERbF0"
      },
      "outputs": [],
      "source": [
        "# Utilizamos o método remove() quando desejamos apagar um elemento específico da lista\n",
        "# Visualizando lista_strings antes da remoção\n",
        "lista_strings"
      ]
    },
    {
      "cell_type": "code",
      "execution_count": null,
      "metadata": {
        "id": "6wmynTUBRbF1"
      },
      "outputs": [],
      "source": [
        "# Removendo \"Rodrigo\"\n",
        "lista_strings.remove(\"Bernardo\")"
      ]
    },
    {
      "cell_type": "code",
      "execution_count": null,
      "metadata": {
        "id": "qDOEWzClRbF3"
      },
      "outputs": [],
      "source": [
        "# Visualizando lista_strings após a remoção\n",
        "lista_strings"
      ]
    },
    {
      "cell_type": "code",
      "execution_count": null,
      "metadata": {
        "id": "F6K52_3_RbF5"
      },
      "outputs": [],
      "source": [
        "# O método remove() provoca um erro caso o elemento não exista\n",
        "lista_strings.remove(\"Java\")"
      ]
    },
    {
      "cell_type": "markdown",
      "metadata": {
        "id": "hX0Hyr-jRbF7"
      },
      "source": [
        "##### **reverse()**"
      ]
    },
    {
      "cell_type": "code",
      "execution_count": null,
      "metadata": {
        "id": "KCFRE413RbF7"
      },
      "outputs": [],
      "source": [
        "# Redefinindo os elementos de lista\n",
        "lista = [1, 2, 3, 4, 5, 6]\n",
        "# Visualizando a lista antes da chamada ao método reverse()\n",
        "lista"
      ]
    },
    {
      "cell_type": "code",
      "execution_count": null,
      "metadata": {
        "id": "VXOal4mtRbF8"
      },
      "outputs": [],
      "source": [
        "# Invertendo os elementos da lista\n",
        "lista.reverse()"
      ]
    },
    {
      "cell_type": "code",
      "execution_count": null,
      "metadata": {
        "id": "vRtnAF65RbF-"
      },
      "outputs": [],
      "source": [
        "# Visualizando a lista após chamada ao método reverse()\n",
        "lista"
      ]
    },
    {
      "cell_type": "markdown",
      "metadata": {
        "id": "yn2Ql2qmRbF_"
      },
      "source": [
        "##### **sort()**"
      ]
    },
    {
      "cell_type": "code",
      "execution_count": null,
      "metadata": {
        "id": "AsTOGZwzRbF_"
      },
      "outputs": [],
      "source": [
        "# Redefinindo os elementos de lista\n",
        "lista = [6, 3, 1, 4, 2, 5]\n",
        "# Visualizando a lista antes da chamada ao método sort()\n",
        "lista"
      ]
    },
    {
      "cell_type": "code",
      "execution_count": null,
      "metadata": {
        "id": "LgnOZ73hRbGB"
      },
      "outputs": [],
      "source": [
        "# Ordenando os elementos em ordem crescente\n",
        "lista.sort()"
      ]
    },
    {
      "cell_type": "code",
      "execution_count": null,
      "metadata": {
        "id": "wnhXdLjLRbGC"
      },
      "outputs": [],
      "source": [
        "# Visualizando a lista após chamada ao método sort()\n",
        "lista"
      ]
    },
    {
      "cell_type": "code",
      "execution_count": null,
      "metadata": {
        "id": "sTGE5yejRbGF"
      },
      "outputs": [],
      "source": [
        "# Redefinindo os elementos de lista\n",
        "lista = [6, 3, 1, 4, 2, 5]\n",
        "# Visualizando a lista antes da chamada ao método sort()\n",
        "lista"
      ]
    },
    {
      "cell_type": "code",
      "execution_count": null,
      "metadata": {
        "id": "3l5DowtWRbGH"
      },
      "outputs": [],
      "source": [
        "# Ordenando os elementos em ordem decrescente\n",
        "lista.sort(reverse=True)"
      ]
    },
    {
      "cell_type": "code",
      "execution_count": null,
      "metadata": {
        "id": "tDmRwBhPRbGI"
      },
      "outputs": [],
      "source": [
        "# Visualizando a lista após chamada ao método sort()\n",
        "lista"
      ]
    },
    {
      "cell_type": "code",
      "execution_count": null,
      "metadata": {
        "id": "HzDUh_f4RbGJ"
      },
      "outputs": [],
      "source": [
        "# Ordenando lista de caracteres\n",
        "lista_letras = [\"Q\", \"W\", \"E\", \"R\", \"T\", \"Y\", \"A\", \"S\", \"D\"]\n",
        "lista_letras.sort()\n",
        "lista_letras"
      ]
    },
    {
      "cell_type": "code",
      "execution_count": null,
      "metadata": {
        "id": "bwbKIqw7RbGL"
      },
      "outputs": [],
      "source": [
        "# Ordenando lista de strings\n",
        "lista_strings = [\"GHI\", \"XYZ\", \"DEF\", \"ABC\", \"KLM\"]\n",
        "lista_strings.sort()\n",
        "lista_strings"
      ]
    },
    {
      "cell_type": "code",
      "execution_count": null,
      "metadata": {
        "id": "cMQtBuO7RbGM"
      },
      "outputs": [],
      "source": [
        "# Não é possível ordenar uma lista com elementos de diferentes tipos\n",
        "lista_misturada = [2, \"ABC\", 3.14]\n",
        "lista_misturada.sort()\n",
        "lista_misturada"
      ]
    },
    {
      "cell_type": "markdown",
      "metadata": {
        "id": "ZHqxPJdFRbGN"
      },
      "source": [
        "#### **Funções aplicáveis a uma lista**\n",
        "\n",
        "Função | Descrição | Exemplo\n",
        ":----- | :-------- | :------\n",
        "len | Retorna a quantidade de elementos de uma lista | `print(len(lista))`\n",
        "max  | Retorna o maior elemento de uma lista | `maior = max(lista)`\n",
        "min | Retorna o menor elemento de uma lista | `menor = min(lista)`\n",
        "sum | Retorna o somatório dos elementos de uma lista | `soma = sum(lista)`"
      ]
    },
    {
      "cell_type": "code",
      "execution_count": null,
      "metadata": {
        "id": "NkzeEX-NRbGO"
      },
      "outputs": [],
      "source": [
        "# Redefinindo os elementos de lista e lista_letras\n",
        "lista = [8, 3, 21, 14, 2, 45]\n",
        "lista_letras = [\"Q\", \"W\", \"E\", \"R\", \"T\", \"Y\", \"A\", \"S\", \"D\"]"
      ]
    },
    {
      "cell_type": "code",
      "execution_count": null,
      "metadata": {
        "id": "UwT0Kn1wRbGP"
      },
      "outputs": [],
      "source": [
        "# A função len() retorna a quantidade de elementos de uma lista\n",
        "len(lista)"
      ]
    },
    {
      "cell_type": "code",
      "execution_count": null,
      "metadata": {
        "id": "nCPMZ3wWRbGQ"
      },
      "outputs": [],
      "source": [
        "# A função max() retorna o maior elemento de uma lista\n",
        "max(lista)"
      ]
    },
    {
      "cell_type": "code",
      "execution_count": null,
      "metadata": {
        "id": "BPHmPq1uRbGR"
      },
      "outputs": [],
      "source": [
        "max(lista_letras)"
      ]
    },
    {
      "cell_type": "code",
      "execution_count": null,
      "metadata": {
        "id": "X00uP_RXRbGS"
      },
      "outputs": [],
      "source": [
        "# A função min() retorna o menor elemento de uma lista\n",
        "min(lista)"
      ]
    },
    {
      "cell_type": "code",
      "execution_count": null,
      "metadata": {
        "id": "JTHTA5GXRbGT"
      },
      "outputs": [],
      "source": [
        "min(lista_letras)"
      ]
    },
    {
      "cell_type": "code",
      "execution_count": null,
      "metadata": {
        "id": "DbVl9NC0RbGW"
      },
      "outputs": [],
      "source": [
        "# A função sum() retorna a soma dos elementos de uma lista numérica\n",
        "sum(lista)"
      ]
    },
    {
      "cell_type": "markdown",
      "metadata": {
        "id": "8indNqbbXgTV"
      },
      "source": [
        "### **Tuplas (tuple)**\n",
        "\n",
        "Assim como a Lista, uma Tupla em Python é uma coleção de elemento. A principal **diferença** entre essas estruturas é a propriedade de **imutabilidade** das tuplas. Isso significa que, uma vez definidos os seus elementos, a tupla **não pode** mais ser alterada.\n",
        "\n",
        "Cada elemento possui uma **posição** dentro de uma tupla. Essa posição é chamada **índice**. O **primeiro elemento** fica armazenado no **índice 0** e o último elemento no **índice n-1** (**n** é a quantidade de elementos da tupla).\n",
        "\n",
        "**Neste tópico será mostrado:**\n",
        "\n",
        "1. Como criar uma tupla\n",
        "2. Como acessar elementos de uma tupla\n",
        "3. Imutabilidade de uma tupla\n",
        "4. Principais métodos de um objeto tupla\n",
        "5. Funções aplicáveis a uma tupla\n",
        "6. Convertendo uma tupla em lista"
      ]
    },
    {
      "cell_type": "markdown",
      "metadata": {
        "id": "sOTMGL_VZbRS"
      },
      "source": [
        "#### **Como criar uma tupla**"
      ]
    },
    {
      "cell_type": "code",
      "execution_count": null,
      "metadata": {
        "id": "TigYkpp7ZbRT"
      },
      "outputs": [],
      "source": [
        "# Criando tuplas vazias\n",
        "tupla_vazia = ()\n",
        "tupla_vazia2 = tuple()"
      ]
    },
    {
      "cell_type": "code",
      "execution_count": null,
      "metadata": {
        "id": "o9p4GcVbZbRY"
      },
      "outputs": [],
      "source": [
        "# Verificando o tipo de tupla_vazia\n",
        "type(tupla_vazia)"
      ]
    },
    {
      "cell_type": "code",
      "execution_count": null,
      "metadata": {
        "id": "EFTLQEmHZbRb"
      },
      "outputs": [],
      "source": [
        "# Verificando se tupla_vazia2 é uma instância de tuple\n",
        "isinstance(tupla_vazia2, tuple)"
      ]
    },
    {
      "cell_type": "code",
      "execution_count": null,
      "metadata": {
        "id": "jAzxOMP7ZbRd"
      },
      "outputs": [],
      "source": [
        "len(tupla_vazia)"
      ]
    },
    {
      "cell_type": "code",
      "execution_count": null,
      "metadata": {
        "id": "Gn_SlPZ2ZbRf"
      },
      "outputs": [],
      "source": [
        "# Criando tuplas com elementos\n",
        "tupla1 = (3, 19, 4, 21, 3, 5, 13)\n",
        "tupla2 = (3, 19, 4, 21, 3, 5, 13, \"tupla\", (1, 2, 3))\n",
        "tupla3 = (3, 19, 4, 21, 3, 5, 13, \"tupla\", [1, 2, 3])"
      ]
    },
    {
      "cell_type": "code",
      "execution_count": null,
      "metadata": {
        "id": "ZnV2AvvxZbRi"
      },
      "outputs": [],
      "source": [
        "# Visualizando os elementos de tupla1\n",
        "tupla1"
      ]
    },
    {
      "cell_type": "code",
      "execution_count": null,
      "metadata": {
        "id": "OfvrtNnaZbRl"
      },
      "outputs": [],
      "source": [
        "# Visualizando os elementos de tupla2\n",
        "tupla2"
      ]
    },
    {
      "cell_type": "code",
      "execution_count": null,
      "metadata": {
        "id": "MXSGFjH_ZbRn"
      },
      "outputs": [],
      "source": [
        "# Visualizando os elementos de tupla3\n",
        "tupla3"
      ]
    },
    {
      "cell_type": "markdown",
      "metadata": {
        "id": "qYqpKu23ZbRp"
      },
      "source": [
        "#### **Como acessar elementos de uma tupla**"
      ]
    },
    {
      "cell_type": "code",
      "execution_count": null,
      "metadata": {
        "id": "DlsdnQTIZbRq"
      },
      "outputs": [],
      "source": [
        "# Acessando o índice 0 (primeira posição) de tupla1\n",
        "tupla1[0]"
      ]
    },
    {
      "cell_type": "code",
      "execution_count": null,
      "metadata": {
        "id": "9b6ARZxvZbRr"
      },
      "outputs": [],
      "source": [
        "# Visualizando os elementos de tupla1\n",
        "tupla1"
      ]
    },
    {
      "cell_type": "code",
      "execution_count": null,
      "metadata": {
        "id": "B1Qy4Y31ZbRt"
      },
      "outputs": [],
      "source": [
        "# Acessando o índice 5 (sexta posição) de tupla2\n",
        "tupla2[5]"
      ]
    },
    {
      "cell_type": "code",
      "execution_count": null,
      "metadata": {
        "id": "zSLxqfEhZbRw"
      },
      "outputs": [],
      "source": [
        "# Visualizando os elementos de tupla2\n",
        "tupla2"
      ]
    },
    {
      "cell_type": "code",
      "execution_count": null,
      "metadata": {
        "id": "LX8pLALqZbRy"
      },
      "outputs": [],
      "source": [
        "# Acessando o índice 8 (nona posição) de tupla3\n",
        "tupla3[8]"
      ]
    },
    {
      "cell_type": "code",
      "execution_count": null,
      "metadata": {
        "id": "VuUK9s2TZbR0"
      },
      "outputs": [],
      "source": [
        "# Visualizando os elementos de tupla3\n",
        "tupla3"
      ]
    },
    {
      "cell_type": "code",
      "execution_count": null,
      "metadata": {
        "id": "zoD-mq2IZbR3"
      },
      "outputs": [],
      "source": [
        "# Tentando acesso a um índice inexistente\n",
        "tupla3[20]"
      ]
    },
    {
      "cell_type": "markdown",
      "metadata": {
        "id": "sRIrpbXfZbR4"
      },
      "source": [
        "#### **A imutabilidade de uma tupla**"
      ]
    },
    {
      "cell_type": "code",
      "execution_count": null,
      "metadata": {
        "id": "V3cYg3tqZbR5"
      },
      "outputs": [],
      "source": [
        "# Atribuindo o valor 5 ao índice 0 de tupla1 provocará um erro\n",
        "tupla1[0] = 5"
      ]
    },
    {
      "cell_type": "code",
      "execution_count": null,
      "metadata": {
        "id": "0ZyVXk_ZZbR7"
      },
      "outputs": [],
      "source": [
        "# O mesmo ocorre se tentarmos atribuir o string \"imutável\" para o índice 1 de tupla2\n",
        "tupla2[1] = \"imutável\""
      ]
    },
    {
      "cell_type": "code",
      "execution_count": null,
      "metadata": {
        "id": "68Sec5yBZbR9"
      },
      "outputs": [],
      "source": [
        "# O índice 8 de tupla2 contém uma outra tupla contendo 3 valores (1, 2, 3).\n",
        "# Tentar atribuir 5 ao índice 1 dessa tupla interna, provocará um erro de execução\n",
        "tupla2[8][1] = 5"
      ]
    },
    {
      "cell_type": "code",
      "execution_count": null,
      "metadata": {
        "id": "CYGZirjHZbSA"
      },
      "outputs": [],
      "source": [
        "# O mesmo não ocorre ao tentar atribuir 5 ao índice 1, da lista armazenada no índice 8.\n",
        "# O motivo é que a tupla não está sendo alterada. O índice 8 continua contendo uma lista.\n",
        "# Essa lista, por sua vez, é que teve um de seus valores alterados\n",
        "# neste caso a operação modifica o conteúdo de um elemento que está contido na tupla, e não nele mesmo.\n",
        "tupla3[8][1] = 5"
      ]
    },
    {
      "cell_type": "code",
      "execution_count": null,
      "metadata": {
        "id": "5jZCub51ZbSB"
      },
      "outputs": [],
      "source": [
        "# Podemos adicionar elementos à lista armazenada no índice 8 da tupla\n",
        "tupla3[8].extend([4, 5, 6])"
      ]
    },
    {
      "cell_type": "code",
      "execution_count": null,
      "metadata": {
        "id": "xYJNl_a3ZbSD"
      },
      "outputs": [],
      "source": [
        "tupla3"
      ]
    },
    {
      "cell_type": "code",
      "execution_count": null,
      "metadata": {
        "id": "Nm6scq6xZbSF"
      },
      "outputs": [],
      "source": [
        "# Entretanto, matendo a característica de imutabilidade, não podemos substituir a lista do índice 8 por outra\n",
        "tupla3[8] = [-1, -2, -3]"
      ]
    },
    {
      "cell_type": "markdown",
      "metadata": {
        "id": "dmVTmpEwZbSG"
      },
      "source": [
        "#### **Principais métodos de um objeto tupla**"
      ]
    },
    {
      "cell_type": "code",
      "execution_count": null,
      "metadata": {
        "id": "eBAv2DrBZbSH"
      },
      "outputs": [],
      "source": [
        "# Verificando quantas vezes o número 3 aparece em tupla1\n",
        "tupla1.count(3)"
      ]
    },
    {
      "cell_type": "code",
      "execution_count": null,
      "metadata": {
        "id": "PBKN4CTEZbSJ"
      },
      "outputs": [],
      "source": [
        "tupla1"
      ]
    },
    {
      "cell_type": "code",
      "execution_count": null,
      "metadata": {
        "id": "NaiyFwyRZbSM"
      },
      "outputs": [],
      "source": [
        "# Verificando em que posição está armazenado o elemento 21\n",
        "tupla1.index(21)"
      ]
    },
    {
      "cell_type": "markdown",
      "metadata": {
        "id": "MGTVtVy_ZbSO"
      },
      "source": [
        "#### **Funções aplicáveis a uma tupla**"
      ]
    },
    {
      "cell_type": "code",
      "execution_count": null,
      "metadata": {
        "id": "0WhYD--iZbSO"
      },
      "outputs": [],
      "source": [
        "len(tupla1)"
      ]
    },
    {
      "cell_type": "code",
      "execution_count": null,
      "metadata": {
        "id": "2prG9fk_ZbSQ"
      },
      "outputs": [],
      "source": [
        "max(tupla1)"
      ]
    },
    {
      "cell_type": "code",
      "execution_count": null,
      "metadata": {
        "id": "PBz7FlBoZbSR"
      },
      "outputs": [],
      "source": [
        "min(tupla1)"
      ]
    },
    {
      "cell_type": "code",
      "execution_count": null,
      "metadata": {
        "id": "IXq-n-UPZbSU"
      },
      "outputs": [],
      "source": [
        "sum(tupla1)"
      ]
    },
    {
      "cell_type": "markdown",
      "metadata": {
        "id": "UieoZ7aJZbSV"
      },
      "source": [
        "#### **Convertendo uma tupla em lista (usado quando se deseja alterar os elementos da tupla)**"
      ]
    },
    {
      "cell_type": "code",
      "execution_count": null,
      "metadata": {
        "id": "OedVs50oZbSW"
      },
      "outputs": [],
      "source": [
        "lista = list(tupla1)"
      ]
    },
    {
      "cell_type": "code",
      "execution_count": null,
      "metadata": {
        "id": "R-m84el9ZbSY"
      },
      "outputs": [],
      "source": [
        "lista"
      ]
    },
    {
      "cell_type": "code",
      "execution_count": null,
      "metadata": {
        "id": "21SImNRHZbSa"
      },
      "outputs": [],
      "source": [
        "tupla1[6] = -1 # A imutabilidade da tupla não permite a alteração de um valor"
      ]
    },
    {
      "cell_type": "code",
      "execution_count": null,
      "metadata": {
        "id": "bPF5pk7dZbSc"
      },
      "outputs": [],
      "source": [
        "lista[6] = -1 # A lista resultante da conversão da lista permite a alteração"
      ]
    },
    {
      "cell_type": "code",
      "execution_count": null,
      "metadata": {
        "id": "Qg9cT5VaZbSe"
      },
      "outputs": [],
      "source": [
        "lista"
      ]
    },
    {
      "cell_type": "markdown",
      "metadata": {
        "id": "KqaR1OzXaSHB"
      },
      "source": [
        "### **Conjuntos (sets)**\n",
        "\n",
        "No Python, os **conjuntos** (sets) são uma coleção de itens **desordenada**, **parcialmente** imutável e que **não podem** conter elementos **duplicados**. Por ser parcialmente imutável, os sets possuem permissão de **adição e remoção** de elementos.\n",
        "\n",
        "* Principais características:\n",
        "   * Os elementos não são armazenados em uma ordem específica;\n",
        "   * Conjuntos não contém elementos repetidos;\n",
        "   * Conjuntos não suportam indexação como as listas e tuplas;\n",
        "   * Conjuntos não suportam outras estruturas de dados aninhadas, por exemplo, armazenar uma lista dentro do conjunto.\n",
        "\n",
        "Além disso, os sets são utilizados, normalmente, com operações matemáticas de união, interseção e diferença simétrica, conforme veremos nos próximos tópicos.\n"
      ]
    },
    {
      "cell_type": "markdown",
      "metadata": {
        "id": "xVTrxefGaggo"
      },
      "source": [
        "#### **Como criar conjuntos**\n",
        "\n",
        "Para a criação de um set no Python há duas formas: A primeira é bem similar às listas e tuplas, porém utilizando chaves {} para determinar os elementos do set:"
      ]
    },
    {
      "cell_type": "code",
      "execution_count": null,
      "metadata": {
        "id": "UwiEplERt0vU"
      },
      "outputs": [],
      "source": [
        "# Criando conjuntos vazios\n",
        "conj_vazio1 = set() # Essa é a única forma de se criar um conjunto vazio\n",
        "conj_vazio2 = {} # As chaves são utilizadas para construir um dicionário vazio."
      ]
    },
    {
      "cell_type": "code",
      "execution_count": null,
      "metadata": {
        "id": "fG21jOKVt6lu"
      },
      "outputs": [],
      "source": [
        "type(conj_vazio1)"
      ]
    },
    {
      "cell_type": "code",
      "execution_count": null,
      "metadata": {
        "id": "t1BrXP9Jt73P"
      },
      "outputs": [],
      "source": [
        "type(conj_vazio2)"
      ]
    },
    {
      "cell_type": "code",
      "execution_count": null,
      "metadata": {
        "id": "WhzTgtTtbeTy"
      },
      "outputs": [],
      "source": [
        "# Criando conjuntos com elementos\n",
        "conj1 = {1, 2, 3, 4, 5}\n",
        "conj2 = {\"A\", \"B\", \"C\", \"D\"}\n",
        "conj3 = {\"ABC\", 123, 3.14}"
      ]
    },
    {
      "cell_type": "code",
      "execution_count": null,
      "metadata": {
        "id": "6Hxts_PmuI_2"
      },
      "outputs": [],
      "source": [
        "conj1"
      ]
    },
    {
      "cell_type": "code",
      "execution_count": null,
      "metadata": {
        "id": "OxdO4l0auLPp"
      },
      "outputs": [],
      "source": [
        "conj2"
      ]
    },
    {
      "cell_type": "code",
      "execution_count": null,
      "metadata": {
        "id": "5y5uOekPuPgi"
      },
      "outputs": [],
      "source": [
        "conj3"
      ]
    },
    {
      "cell_type": "code",
      "execution_count": null,
      "metadata": {
        "id": "VHboEkAfcRs0"
      },
      "outputs": [],
      "source": [
        "# set não permitem valores duplicados\n",
        "valores_lidos = {1, 2, 3, 4, 3, 2}"
      ]
    },
    {
      "cell_type": "code",
      "execution_count": null,
      "metadata": {
        "id": "fdjBjVwZf5eE"
      },
      "outputs": [],
      "source": [
        "#imprimindo os valores\n",
        "valores_lidos"
      ]
    },
    {
      "cell_type": "code",
      "execution_count": null,
      "metadata": {
        "id": "aXgtEH7PqlFt"
      },
      "outputs": [],
      "source": [
        "#mostrando tipo de dados\n",
        "type(valores_lidos)"
      ]
    },
    {
      "cell_type": "code",
      "execution_count": null,
      "metadata": {
        "id": "Tlt2dG5kvASg"
      },
      "outputs": [],
      "source": [
        "# Conjuntos não podem conter outras estruturas aninhadas (ERRO)\n",
        "conj3 = {1, \"ABC\", [1,2,3]} # Provoca um erro por causa da lista"
      ]
    },
    {
      "cell_type": "code",
      "execution_count": null,
      "metadata": {
        "id": "jn6xphLftLWY"
      },
      "outputs": [],
      "source": [
        "#criando um cojunto de dados do tipo string\n",
        "frutas = {\"banana\", \"maçã\", \"açai\"}"
      ]
    },
    {
      "cell_type": "markdown",
      "metadata": {
        "id": "MogGNUbAmqnN"
      },
      "source": [
        "A segunda forma de criar um set é utilizando o **método set** presente no Python."
      ]
    },
    {
      "cell_type": "code",
      "execution_count": null,
      "metadata": {
        "id": "fDMzhyvhm3p9"
      },
      "outputs": [],
      "source": [
        "set_com_metodo = set([1, 2, 3, 4])"
      ]
    },
    {
      "cell_type": "code",
      "execution_count": null,
      "metadata": {
        "id": "XIOFQb-NnDDP"
      },
      "outputs": [],
      "source": [
        "set_com_metodo"
      ]
    },
    {
      "cell_type": "code",
      "execution_count": null,
      "metadata": {
        "id": "LG_7qPuJqfkK"
      },
      "outputs": [],
      "source": [
        "type(set_com_metodo)"
      ]
    },
    {
      "cell_type": "markdown",
      "metadata": {
        "id": "G_gHjBHuvYVV"
      },
      "source": [
        "#### **Como acessar elementos de um conjunto**"
      ]
    },
    {
      "cell_type": "code",
      "execution_count": null,
      "metadata": {
        "id": "_bjoo0f5vpKx"
      },
      "outputs": [],
      "source": [
        "#criando o conjunto\n",
        "valores_lidos = {1, 2, 3, 4, 7, 9}"
      ]
    },
    {
      "cell_type": "code",
      "execution_count": null,
      "metadata": {
        "id": "nvt-D886v4Ky"
      },
      "outputs": [],
      "source": [
        "# Tentar acessar uma posição em um conjunto provoca um erro\n",
        "valores_lidos[1]"
      ]
    },
    {
      "cell_type": "code",
      "execution_count": null,
      "metadata": {
        "id": "rKLXmCDKv-1s"
      },
      "outputs": [],
      "source": [
        "# Conjuntos não suportam indexação. Então vamos precisar do comando for para acessar os elementos de um conjunto\n",
        "for indice in valores_lidos:\n",
        "    print(indice)"
      ]
    },
    {
      "cell_type": "markdown",
      "metadata": {
        "id": "lNJK1iGWrLF5"
      },
      "source": [
        "#### **Adicionando, atualizando e removendo elementos dos conjuntos**\n",
        "\n",
        "Os sets permitem as operações de adição, atualização e remoção de elementos. Não existe uma maneira de modificar elementos em um conjunto. O que pode ser feito é a exclusão de um elemento, seguida da inserção de outro elemento.\n",
        "\n",
        "Para isso, existe um método para cada funcionalidade, como podemos ver a seguir:"
      ]
    },
    {
      "cell_type": "markdown",
      "metadata": {
        "id": "Al_78EApwn1z"
      },
      "source": [
        "##### **Principais métodos de um objeto conjunto**\n",
        "\n",
        "Método | Descrição | Exemplo\n",
        ":----- | :-------- | :------\n",
        "add | Adiciona um elemento ao conjunto | `conj1.add(5)`\n",
        "clear  | Apaga todos os elementos de um conjunto | `conj1.clear()`\n",
        "copy | Retorna uma cópia dos elementos de um conjunto | `conj_copia = conj1.copy()`\n",
        "remove e discard| Removem um elemento do conjunto | `conj1.remove(5)` ou `conj1.discard(5)`\n",
        "update| Atualizado um conjunto com os elementos | `conj1.update([13, 14, 15, 11])`\n"
      ]
    },
    {
      "cell_type": "markdown",
      "metadata": {
        "id": "4xT471duvuy1"
      },
      "source": [
        "##### **Adicionando um elemento ao conjunto - add()**"
      ]
    },
    {
      "cell_type": "code",
      "execution_count": null,
      "metadata": {
        "id": "vOc6FZ5xu7gE"
      },
      "outputs": [],
      "source": [
        "#criando o set\n",
        "numeros = {8, 9, 10, 7, 6}"
      ]
    },
    {
      "cell_type": "code",
      "execution_count": null,
      "metadata": {
        "id": "0KyN-i52vEZO"
      },
      "outputs": [],
      "source": [
        "#imprimindo o set\n",
        "numeros"
      ]
    },
    {
      "cell_type": "code",
      "execution_count": null,
      "metadata": {
        "id": "2SjU_OKNvLQM"
      },
      "outputs": [],
      "source": [
        "#adicionando um elemento ao set\n",
        "numeros.add(5)"
      ]
    },
    {
      "cell_type": "code",
      "execution_count": null,
      "metadata": {
        "id": "hPQx-AWTvU8v"
      },
      "outputs": [],
      "source": [
        "#imprimindo o set\n",
        "numeros"
      ]
    },
    {
      "cell_type": "markdown",
      "metadata": {
        "id": "LrNl7TKnxH6i"
      },
      "source": [
        "##### Apagando todos os elementos de um conjunto - clear()"
      ]
    },
    {
      "cell_type": "code",
      "execution_count": null,
      "metadata": {
        "id": "ImTR1cK6xXxN"
      },
      "outputs": [],
      "source": [
        "conjunto = {\"A\", \"B\", \"C\", \"D\"}"
      ]
    },
    {
      "cell_type": "code",
      "execution_count": null,
      "metadata": {
        "id": "mrG722DLxmcD"
      },
      "outputs": [],
      "source": [
        "conjunto"
      ]
    },
    {
      "cell_type": "code",
      "execution_count": null,
      "metadata": {
        "id": "q7o4AW64xqcR"
      },
      "outputs": [],
      "source": [
        "#apagando os elementos de um conjunto\n",
        "conjunto.clear()\n",
        "conjunto"
      ]
    },
    {
      "cell_type": "markdown",
      "metadata": {
        "id": "Xa9pVFYQx8P6"
      },
      "source": [
        "##### **Copiando elementos de um conjunto - copy()**"
      ]
    },
    {
      "cell_type": "code",
      "execution_count": null,
      "metadata": {
        "id": "cJADg5xFyEwo"
      },
      "outputs": [],
      "source": [
        "conjunto = {\"A\", \"B\", \"C\", \"D\"}\n",
        "conjunto2 = conjunto.copy()\n",
        "conjunto2"
      ]
    },
    {
      "cell_type": "markdown",
      "metadata": {
        "id": "UPmKFBr1v_94"
      },
      "source": [
        "##### **Removendo elementos de um conjunto - remove() e discard()**"
      ]
    },
    {
      "cell_type": "code",
      "execution_count": null,
      "metadata": {
        "id": "K3TcZ2ll0SNz"
      },
      "outputs": [],
      "source": [
        "# Criando conjuntos com elementos\n",
        "conj1 = {1, 2, 3, 4, 5}\n",
        "conj2 = {\"A\", \"B\", \"C\", \"D\"}"
      ]
    },
    {
      "cell_type": "code",
      "execution_count": null,
      "metadata": {
        "id": "CfAii4nXs1H0"
      },
      "outputs": [],
      "source": [
        "# Visualizando os elementos de conj1\n",
        "conj1"
      ]
    },
    {
      "cell_type": "code",
      "execution_count": null,
      "metadata": {
        "id": "M45BY4ZOs1H3"
      },
      "outputs": [],
      "source": [
        "# Removendo o 3 de conj1 usando o remove()\n",
        "conj1.remove(3)"
      ]
    },
    {
      "cell_type": "code",
      "execution_count": null,
      "metadata": {
        "id": "e2ILG5F1s1H5"
      },
      "outputs": [],
      "source": [
        "# Visualizando os elementos de conj1 após remove(3)\n",
        "conj1"
      ]
    },
    {
      "cell_type": "code",
      "execution_count": null,
      "metadata": {
        "id": "-gS-N2Z8s1H7"
      },
      "outputs": [],
      "source": [
        "# Tentar remover um elemento inexistente com remove provoca um erro\n",
        "conj1.remove(7)"
      ]
    },
    {
      "cell_type": "code",
      "execution_count": null,
      "metadata": {
        "id": "WWmCXWVss1H8"
      },
      "outputs": [],
      "source": [
        "# Removendo o 6 de conj1 usando o discard()\n",
        "conj1.discard(6)"
      ]
    },
    {
      "cell_type": "code",
      "execution_count": null,
      "metadata": {
        "id": "K1gmcMlgs1H-"
      },
      "outputs": [],
      "source": [
        "# Visualizando os elementos de conj1 após discard(6)\n",
        "conj1"
      ]
    },
    {
      "cell_type": "code",
      "execution_count": null,
      "metadata": {
        "id": "O_K0Syyos1IA"
      },
      "outputs": [],
      "source": [
        "# Tentar remover um elemento inexistente com discard NÃO provoca um erro\n",
        "conj1.discard(7)"
      ]
    },
    {
      "cell_type": "markdown",
      "metadata": {
        "id": "UmfmDLUMv1Ry"
      },
      "source": [
        "##### **Atualizando um conjunto - update()**"
      ]
    },
    {
      "cell_type": "code",
      "execution_count": null,
      "metadata": {
        "id": "bJes4ceY1P8R"
      },
      "outputs": [],
      "source": [
        "numeros = {8,9,10}"
      ]
    },
    {
      "cell_type": "code",
      "execution_count": null,
      "metadata": {
        "id": "iinFmEMWvht3"
      },
      "outputs": [],
      "source": [
        "#atualizando o set\n",
        "numeros.update([13, 14, 15, 11])"
      ]
    },
    {
      "cell_type": "code",
      "execution_count": null,
      "metadata": {
        "id": "r083F1fFvnqt"
      },
      "outputs": [],
      "source": [
        "#imprimindo o set\n",
        "numeros"
      ]
    },
    {
      "cell_type": "markdown",
      "metadata": {
        "id": "dtC1-ORExrDn"
      },
      "source": [
        "#### **Operações em Conjuntos**\n",
        "\n",
        "Conjuntos fornecem métodos para as operações\n",
        "mais conhecidas de teoria dos conjuntos, como\n",
        "união, interseção e diferença, além de outras.\n",
        "\n",
        "Método | Descrição | Exemplo\n",
        ":----- | :-------- | :------\n",
        "difference | Retorna o conjunto de elementos de conj1 que não pertencem a conj2 | `conj1.difference(conj2)`\n",
        "intersection | Retorna o conjunto de elementos presentes tanto em conj1 quanto em conj2 | `conj1.intersection(conj2)`\n",
        "isdisjoint | Retorna True se conj1 e conj2 forem disjuntos (ou seja, não possuem elementos em comum) | `conj1.isdisjoint(conj2)`\n",
        "issubset | Retorna True se conj1 for um subconjunto de conj2 (conj1 está contido em conj2) | `conj1.issubset(conj2)`\n",
        "issuperset | Retorna True se conj1 for um superconjunto de conj2 (conj1 contém conj2) | `conj1.issuperset(conj2)`\n",
        "symmetric_difference | Retorna o conjunto de elementos que não são comuns aos dois conjuntos (o contrário da interseção)| `conj1.symmetric_difference(conj2)`\n",
        "union | Retorna a união entre 2 conjuntos | `conj1.union(conj2)`\n"
      ]
    },
    {
      "cell_type": "markdown",
      "metadata": {
        "id": "qPfEPOO4s1Hg"
      },
      "source": [
        "##### **difference()**"
      ]
    },
    {
      "cell_type": "code",
      "execution_count": null,
      "metadata": {
        "id": "2M6Ssiays1Hh"
      },
      "outputs": [],
      "source": [
        "# Criando os conjuntos s1 e s2\n",
        "s1 = {1,2,3,4,5}\n",
        "s2 = {4,5,6,7}"
      ]
    },
    {
      "cell_type": "code",
      "execution_count": null,
      "metadata": {
        "id": "DBt0emLAs1Hj"
      },
      "outputs": [],
      "source": [
        "# Atribui a s3 a diferença do conjunto s1 em relação a s2\n",
        "s3 = s1.difference(s2)\n",
        "s3"
      ]
    },
    {
      "cell_type": "markdown",
      "metadata": {
        "id": "kxhl9v0is1Hl"
      },
      "source": [
        "##### **intersection()**"
      ]
    },
    {
      "cell_type": "code",
      "execution_count": null,
      "metadata": {
        "id": "e9bULneus1Hl"
      },
      "outputs": [],
      "source": [
        "s4 = s1.intersection(s2)\n",
        "s4"
      ]
    },
    {
      "cell_type": "markdown",
      "metadata": {
        "collapsed": true,
        "id": "F0MXf8a1s1Hn"
      },
      "source": [
        "##### **isdisjoint()**"
      ]
    },
    {
      "cell_type": "code",
      "execution_count": null,
      "metadata": {
        "id": "f1Ky1IEss1Hn"
      },
      "outputs": [],
      "source": [
        "# Verificando se s1 e s2 são disjuntos\n",
        "s1.isdisjoint(s2)"
      ]
    },
    {
      "cell_type": "code",
      "execution_count": null,
      "metadata": {
        "id": "ISIVpyX-s1Hp"
      },
      "outputs": [],
      "source": [
        "# Verificando se s3 e s3 são disjuntos\n",
        "s3.isdisjoint(s4)"
      ]
    },
    {
      "cell_type": "markdown",
      "metadata": {
        "collapsed": true,
        "id": "zOYYvYb4s1Hs"
      },
      "source": [
        "##### **issubset()**"
      ]
    },
    {
      "cell_type": "code",
      "execution_count": null,
      "metadata": {
        "id": "a-vYw4AOs1Ht"
      },
      "outputs": [],
      "source": [
        "# verificando se s1 é um subconjunto de s2\n",
        "s1.issubset(s2)"
      ]
    },
    {
      "cell_type": "code",
      "execution_count": null,
      "metadata": {
        "id": "ZXcjjWNos1Hu"
      },
      "outputs": [],
      "source": [
        "# verificando se s3 é um subconjunto de s1\n",
        "s3.issubset(s1)"
      ]
    },
    {
      "cell_type": "markdown",
      "metadata": {
        "id": "-jEclUFCs1Hw"
      },
      "source": [
        "##### **issuperset()**"
      ]
    },
    {
      "cell_type": "code",
      "execution_count": null,
      "metadata": {
        "id": "Pvj1QFnws1Hw"
      },
      "outputs": [],
      "source": [
        "# verificando se s1 é um superconjunto de s2\n",
        "s1.issuperset(s2)"
      ]
    },
    {
      "cell_type": "code",
      "execution_count": null,
      "metadata": {
        "id": "zUwBzCUTs1Hy"
      },
      "outputs": [],
      "source": [
        "# verificando se s1 é um superconjunto de s3\n",
        "s1.issuperset(s3)"
      ]
    },
    {
      "cell_type": "markdown",
      "metadata": {
        "id": "3WMkf9tSs1IC"
      },
      "source": [
        "##### **symmetric_difference()**"
      ]
    },
    {
      "cell_type": "code",
      "execution_count": null,
      "metadata": {
        "id": "wzSvlBvGs1IC"
      },
      "outputs": [],
      "source": [
        "# Anteriormente foi realizada a interseção de s1 e s2. Agora vamos calcular a diferença simétrica\n",
        "s5 = s1.symmetric_difference(s2)\n",
        "s5"
      ]
    },
    {
      "cell_type": "markdown",
      "metadata": {
        "id": "ItODzAjLs1ID"
      },
      "source": [
        "##### **union()**"
      ]
    },
    {
      "cell_type": "code",
      "execution_count": null,
      "metadata": {
        "id": "lGClBMX-s1IE"
      },
      "outputs": [],
      "source": [
        "# Calculando o conjunto união. Veja que elementos repetidos só aparecem uma única vez no conjunto resultante\n",
        "s6 = s1.union(s2)\n",
        "s6"
      ]
    },
    {
      "cell_type": "markdown",
      "metadata": {
        "id": "qfx50ohp7GFE"
      },
      "source": [
        "#### **Funções de tamanho, máximo, mínimo e soma em conjuntos**\n",
        "\n",
        "Função | Descrição | Exemplo\n",
        ":----- | :-------- | :------\n",
        "len | Retorna o tamanho do conjunto | `len(conjunto)`\n",
        "max  | Retorna o maior valor do conjunto | `max(conjunto)`\n",
        "copy | Retorna o menor valor do conjunto | `min(conjunto)`\n",
        "sum | Retorna a soma dos elementos de um conjunto | `sum(conjunto)`"
      ]
    },
    {
      "cell_type": "code",
      "execution_count": null,
      "metadata": {
        "id": "q9emwMXB80KS"
      },
      "outputs": [],
      "source": [
        "s1 = {9,7,5,3,2,1,0}"
      ]
    },
    {
      "cell_type": "code",
      "execution_count": null,
      "metadata": {
        "id": "naWYwDoGs1IF"
      },
      "outputs": [],
      "source": [
        "#tamanho do conjunto\n",
        "len(s1)"
      ]
    },
    {
      "cell_type": "code",
      "execution_count": null,
      "metadata": {
        "id": "B0KD8Wm_s1IH"
      },
      "outputs": [],
      "source": [
        "#maior elemento do conjunto\n",
        "max(s1)"
      ]
    },
    {
      "cell_type": "code",
      "execution_count": null,
      "metadata": {
        "id": "pRFe9uhxs1II"
      },
      "outputs": [],
      "source": [
        "#menor elemento do conjunto\n",
        "min(s1)"
      ]
    },
    {
      "cell_type": "code",
      "execution_count": null,
      "metadata": {
        "id": "7cfp8PoTs1IK"
      },
      "outputs": [],
      "source": [
        "#soma dos elementos do conjunto\n",
        "sum(s1)"
      ]
    },
    {
      "cell_type": "markdown",
      "metadata": {
        "id": "IV6HgUjLPpco"
      },
      "source": [
        "### **Strings**\n",
        "\n",
        "Em Python, variáveis do tipo `str`, ou **strings**, são as variáveis que armazenam informações de texto (por exemplo: seu nome, seu endereço, o seu tipo sanguíneo, etc). Como em outras linguagens de programação, as strings em Python são uma sequência (ou uma cadeia) de caracteres. Por exemplo, a string `Jupyter Notebook`, cuja representação você pode ver na figura abaixo, é interpretada pelo Python como uma seqüência de caracteres em uma ordem específica.\n",
        "\n",
        "<center><img src=\"https://github.com/paulosrl/imagens/blob/master/String.png?raw=true\">\n",
        "</center>\n",
        "\n",
        "Ou seja, da mesma forma que em uma lista, cada caractere em uma string possui um índice. Em nosso exemplo, a letra `J` está armazenada no índice 0, a letra `u` no índice 1, e assim por diante. Através da indexação, portanto, podemos acessar uma única posição, ou várias posições.\n",
        "\n",
        "Nessa aula veremos:\n",
        "\n",
        "1. Como criar strings\n",
        "2. Indexação\n",
        "3. Slicing (fatiamento)\n",
        "4. Operadores aplicados a strings\n",
        "5. Imutabilidade das strings\n",
        "6. Métodos do objeto string"
      ]
    },
    {
      "cell_type": "markdown",
      "metadata": {
        "id": "xctUZspwPpcs"
      },
      "source": [
        "#### **Criando strings**\n",
        "\n",
        "Strings são criadas através de aspas simples (apóstrofos) ou aspas duplas (aspas)."
      ]
    },
    {
      "cell_type": "code",
      "execution_count": null,
      "metadata": {
        "id": "KsFx6VisPpcs"
      },
      "outputs": [],
      "source": [
        "'Hello world!!!' # Usando apóstrofos para criar uma string"
      ]
    },
    {
      "cell_type": "code",
      "execution_count": null,
      "metadata": {
        "id": "R5qpRpZyPpcz"
      },
      "outputs": [],
      "source": [
        "\"Hello world!!!\" # Usando aspas para criar uma string"
      ]
    },
    {
      "cell_type": "code",
      "execution_count": null,
      "metadata": {
        "id": "dHMd2ysZPpc4"
      },
      "outputs": [],
      "source": [
        "\"I'm a teacher.\" # Exemplo de uso de aspas e apóstrofos em um mesmo string"
      ]
    },
    {
      "cell_type": "code",
      "execution_count": null,
      "metadata": {
        "id": "8GCOODOEPpc9"
      },
      "outputs": [],
      "source": [
        "'Ele é \"bonito\"... kkk' # Exemplo de uso de aspas e apóstrofos em um mesmo string"
      ]
    },
    {
      "cell_type": "code",
      "execution_count": null,
      "metadata": {
        "id": "sCpo_7n2PpdD"
      },
      "outputs": [],
      "source": [
        "# Criando uma variável string\n",
        "nome = \"Joaquim\""
      ]
    },
    {
      "cell_type": "code",
      "execution_count": null,
      "metadata": {
        "id": "_2x02ig6PpdJ"
      },
      "outputs": [],
      "source": [
        "# Exibindo o conteúdo da variável nome\n",
        "nome"
      ]
    },
    {
      "cell_type": "code",
      "execution_count": null,
      "metadata": {
        "id": "6Wib-t3ePpdO"
      },
      "outputs": [],
      "source": [
        "# Em outras IDE's, a forma correta de mostrar o conteúdo de uma variável é através do print\n",
        "print(nome)"
      ]
    },
    {
      "cell_type": "code",
      "execution_count": null,
      "metadata": {
        "id": "nJlf69BAPpdS"
      },
      "outputs": [],
      "source": [
        "# Verificando o tipo da variável nome\n",
        "type(nome)"
      ]
    },
    {
      "cell_type": "code",
      "execution_count": null,
      "metadata": {
        "id": "1_mRCN0MPpdV"
      },
      "outputs": [],
      "source": [
        "# Retornando o tamanho do string\n",
        "len(nome)"
      ]
    },
    {
      "cell_type": "markdown",
      "metadata": {
        "id": "QuJgyX0JPpda"
      },
      "source": [
        "#### **Indexação em strings**\n",
        "\n",
        "Para acessarmos uma posição em particular, vamos utilizar os colchetes. Dentro de colchetes então colocamos o índice que desejamos acessar.\n",
        "\n",
        "s\\[índice\\] => Acessa uma única posição."
      ]
    },
    {
      "cell_type": "code",
      "execution_count": null,
      "metadata": {
        "id": "HreCZXBLPpdb"
      },
      "outputs": [],
      "source": [
        "\"\"\"\n",
        "Definindo a string s = \"Python\"\n",
        "\n",
        "+---+---+---+---+---+---+\n",
        "| P | y | t | h | o | n |\n",
        "+---+---+---+---+---+---+\n",
        "  0   1   2   3   4   5\n",
        "\"\"\"\n",
        "s = \"Python\"\n",
        "# Acessando cada caractere armazenado no string s\n",
        "print(s[0]) # P\n",
        "print(s[1]) # y\n",
        "print(s[2]) # t\n",
        "print(s[3]) # h\n",
        "print(s[4]) # o\n",
        "print(s[5]) # n"
      ]
    },
    {
      "cell_type": "code",
      "execution_count": null,
      "metadata": {
        "id": "KbMMjP0CPpde"
      },
      "outputs": [],
      "source": [
        "\"\"\"\n",
        "+---+---+---+---+---+---+\n",
        "| P | y | t | h | o | n |\n",
        "+---+---+---+---+---+---+\n",
        " -6  -5  -4  -3  -2  -1\n",
        "\"\"\"\n",
        "# Acessando cada caractere armazenado no string s (utilizando índices decrescentes)\n",
        "print(s[-6]) # P\n",
        "print(s[-5]) # y\n",
        "print(s[-4]) # t\n",
        "print(s[-3]) # h\n",
        "print(s[-2]) # o\n",
        "print(s[-1]) # n"
      ]
    },
    {
      "cell_type": "code",
      "execution_count": null,
      "metadata": {
        "id": "kwfEuXltPpdj"
      },
      "outputs": [],
      "source": [
        "# Acessando o caractere armazendo na última posição\n",
        "# 1a opção\n",
        "s[5]"
      ]
    },
    {
      "cell_type": "code",
      "execution_count": null,
      "metadata": {
        "id": "lPMNRh6LPpdn"
      },
      "outputs": [],
      "source": [
        "# Acessando o caractere armazendo na última posição\n",
        "# 2a opção\n",
        "s[len(s)-1]"
      ]
    },
    {
      "cell_type": "code",
      "execution_count": null,
      "metadata": {
        "id": "mqW7iRZdPpdr"
      },
      "outputs": [],
      "source": [
        "# Acessando o caractere armazendo na última posição\n",
        "s[-1]"
      ]
    },
    {
      "cell_type": "markdown",
      "metadata": {
        "id": "3U3_rXe2Ppdu"
      },
      "source": [
        "#### **Slicing (fatiamento) em strings**\n",
        "\n",
        "Caso você deseje acessar mais de uma posição, você deve utilizar a técnica de *slicing* (ou fatiamento).\n",
        "\n",
        "* `s[ind]` => Acessa uma única posição.\n",
        "* `s[inicial:final]` => Acessa os caracteres armazenados entre os índices *ind_inicial* e *ind_inicial-1*\n",
        "* `s[inicial:final:inc]` => Acessa os caracteres armazenados entre os índices *inicial* e *ind_inicial-1* com incremento *inc*\n",
        "\n",
        "Em nosso exemplo vamos utilizar o string `Jupyter Notebook`.\n",
        "\n",
        "\n",
        "<center><img src=\"https://github.com/paulosrl/imagens/blob/master/String.png?raw=true\">\n",
        "</center>"
      ]
    },
    {
      "cell_type": "code",
      "execution_count": null,
      "metadata": {
        "id": "iwIBiUXSPpdu"
      },
      "outputs": [],
      "source": [
        "# Redefinindo a string s\n",
        "s = \"Jupyter Notebook\""
      ]
    },
    {
      "cell_type": "code",
      "execution_count": null,
      "metadata": {
        "id": "yiA1eK6kPpdx"
      },
      "outputs": [],
      "source": [
        "# Retornando apenas a palavra Jupyter - 1a opção\n",
        "s[0:7] # Estamos acessando o string s a partir do índice 0 até o índice 6"
      ]
    },
    {
      "cell_type": "code",
      "execution_count": null,
      "metadata": {
        "id": "XkliOP5WPpd0"
      },
      "outputs": [],
      "source": [
        "# Retornando apenas a palavra Jupyter - 2a opção\n",
        "s[-16:-9] # Estamos acessando o string s a partir do índice -16 até o índice -10"
      ]
    },
    {
      "cell_type": "code",
      "execution_count": null,
      "metadata": {
        "id": "TBWLBCVPPpd3"
      },
      "outputs": [],
      "source": [
        "# Retornando apenas a palavra Jupyter - 3a opção\n",
        "s[:7] # Estamos acessando o string s a partir do início até o índice 6"
      ]
    },
    {
      "cell_type": "code",
      "execution_count": null,
      "metadata": {
        "id": "phnoIxScPpd6"
      },
      "outputs": [],
      "source": [
        "# Retornando apenas a palavra Jupyter - 4a opção\n",
        "s[:-9] # Estamos acessando o string s a partir do início até o índice -10"
      ]
    },
    {
      "cell_type": "code",
      "execution_count": null,
      "metadata": {
        "id": "bwAjYQ9UPpd9"
      },
      "outputs": [],
      "source": [
        "# Retornando apenas a palavra Notebook - 1a opção\n",
        "s[8:16] # Estamos acessando o string s a partir do índice 8 até o índice 15"
      ]
    },
    {
      "cell_type": "code",
      "execution_count": null,
      "metadata": {
        "id": "NErcS_KdPpeA"
      },
      "outputs": [],
      "source": [
        "# Retornando apenas a palavra Notebook - 2a opção\n",
        "s[-8:] # Estamos acessando o string s a partir do índice -16 até o índice -9"
      ]
    },
    {
      "cell_type": "code",
      "execution_count": null,
      "metadata": {
        "id": "wl_9Nu4zPpeD"
      },
      "outputs": [],
      "source": [
        "# Retornando apenas a palavra Notebook - 3a opção\n",
        "s[8:] # Estamos acessando o string s a partir do início até o índice 6"
      ]
    },
    {
      "cell_type": "code",
      "execution_count": null,
      "metadata": {
        "id": "mAdvL3d-PpeF"
      },
      "outputs": [],
      "source": [
        "# Nós podemos acessar posições não contínuas\n",
        "s[0:7:2] # Serão acessados os caracteres armazenados nas posiçõs 0, 2, 4 e 6 (o incremento informado foi 2)"
      ]
    },
    {
      "cell_type": "code",
      "execution_count": null,
      "metadata": {
        "id": "7sx0By62PpeJ"
      },
      "outputs": [],
      "source": [
        "# Serão acessadas os caracteres armazenados desde o início até o final, com incremento de 3 (posições 0,3,6,9,12,15)\n",
        "s[::3]"
      ]
    },
    {
      "cell_type": "code",
      "execution_count": null,
      "metadata": {
        "id": "hGDu59BFPpeM"
      },
      "outputs": [],
      "source": [
        "# Com incrementos negativos, podemos acessar o string em ordem invertida - 1a opçao\n",
        "s[-1::-1] # da posição -1 até o início, com incremento -1"
      ]
    },
    {
      "cell_type": "code",
      "execution_count": null,
      "metadata": {
        "id": "LN3_7LT1PpeP"
      },
      "outputs": [],
      "source": [
        "# Com incrementos negativos, podemos acessar o string em ordem invertida - 2a opçao\n",
        "s[-1:-17:-1] # da posição -1 até a posição -16, com incremento -1"
      ]
    },
    {
      "cell_type": "code",
      "execution_count": null,
      "metadata": {
        "id": "2a5wjXZWPpeS"
      },
      "outputs": [],
      "source": [
        "# Com incrementos negativos, podemos acessar o string em ordem invertida - 3a opçao\n",
        "s[16::-1] # da posição 16 até p início, com incremento -1"
      ]
    },
    {
      "cell_type": "code",
      "execution_count": null,
      "metadata": {
        "id": "87Xnnut3PpeV"
      },
      "outputs": [],
      "source": [
        "# Com incrementos negativos, podemos acessar o string em ordem invertida - 4a opçao\n",
        "s[::-1] # do final até o início, com incremento -1"
      ]
    },
    {
      "cell_type": "code",
      "execution_count": null,
      "metadata": {
        "id": "lrABWoxLPpeY"
      },
      "outputs": [],
      "source": [
        "# Acessando partes do string, a partir do início\n",
        "p = \"Python\"\n",
        "print(p[:0]) # ''\n",
        "print(p[:1]) # 'P'\n",
        "print(p[:2]) # 'Py'\n",
        "print(p[:3]) # 'Pyt'\n",
        "print(p[:4]) # 'Pyth'\n",
        "print(p[:5]) # 'Pytho'\n",
        "print(p[:6]) # 'Python'\n",
        "print(p[:])  # 'Python'"
      ]
    },
    {
      "cell_type": "code",
      "execution_count": null,
      "metadata": {
        "id": "IifduqrDPped"
      },
      "outputs": [],
      "source": [
        "print(p[0:1]) # 'P'\n",
        "print(p[0:2]) # 'Py'\n",
        "print(p[0:3]) # 'Pyt'\n",
        "print(p[0:4]) # 'Pyth'\n",
        "print(p[0:5]) # 'Pytho'\n",
        "print(p[0:6]) # 'Python'\n",
        "print(p[0:])  # 'Python'"
      ]
    },
    {
      "cell_type": "code",
      "execution_count": null,
      "metadata": {
        "id": "8VWrZYD5Ppeh"
      },
      "outputs": [],
      "source": [
        "# Acessando partes do string, de uma posição qualquer até o final\n",
        "print(p[:])  # 'Python'\n",
        "print(p[0:]) # 'Python'\n",
        "print(p[1:]) # 'ython'\n",
        "print(p[2:]) # 'thon'\n",
        "print(p[3:]) # 'hon'\n",
        "print(p[4:]) # 'on'\n",
        "print(p[5:]) # 'n'\n",
        "print(p[6:]) # ''"
      ]
    },
    {
      "cell_type": "markdown",
      "metadata": {
        "id": "CKwBW6hDPpek"
      },
      "source": [
        "#### **Operadores aplicados a strings**\n",
        "\n",
        "| Operador | Significado   | Exemplo                    |\n",
        "|:---|:---|:---|\n",
        "| s\\[ind\\] | Acesso a uma posição | `s[0]` |\n",
        "| s\\[i:f\\] | Acesso a uma faixa de posições | `s[1:3]` |\n",
        "| s\\[i:f:inc\\] | Acesso a uma faixa de posições com incremento | `s[0:15:3]` |\n",
        "| s1 + s2 | Concatenação de strings | `novastr = s1 + s2` |\n",
        "| s\\*n | Retorna um string contendo n repetições de s | `s = 'ABC'*10` |\n",
        "| s1 in s2 | Retorna True se o substring *s1* está contido em *s2* | `'ABC' in 'ABCDEFGH'` |\n",
        "| s1 not in s2 | Retorna True se o substring *s1* não está contido em *s2* | `'XYZ' not in 'ABCDEFGH'` |"
      ]
    },
    {
      "cell_type": "code",
      "execution_count": null,
      "metadata": {
        "id": "E8ZRSngaPpel"
      },
      "outputs": [],
      "source": [
        "s = \"A linguagem Python é demais!\"\n",
        "s1 = \"Python\"\n",
        "print(s[0])  # \"A\"\n",
        "print(s[2:11]) # \"linguagem\"\n",
        "print(s[::-1]) # \"\"!siamed é nohtyP megaugnil A\"\n",
        "s2 = s + \" Sensacional!!!\" # Concatenação\n",
        "print(s2)\n",
        "s3 = s1*3 # Concatenando o string s1 3 vezes\n",
        "print(s3)\n",
        "print(\"O substring '{}' está contindo em '{}' => {}\".format(s1, s, s1 in s))\n",
        "print(\"O substring '{}' não está contindo em '{}' => {}\".format(s3, s2, s3 not in s2))"
      ]
    },
    {
      "cell_type": "markdown",
      "metadata": {
        "id": "2XH1WgeyPpep"
      },
      "source": [
        "#### **Strings são imutáveis**\n",
        "\n",
        "Vamos supor que queremos trocar um único caractere digitado errado em um string."
      ]
    },
    {
      "cell_type": "code",
      "execution_count": null,
      "metadata": {
        "id": "Vd8hYHBkPpep"
      },
      "outputs": [],
      "source": [
        "s = \"PythoM\" # Python digitado com erro\n",
        "s[5] = \"n\" # tentando corrigir, substituindo o caractere M armazenado no índice pelo n"
      ]
    },
    {
      "cell_type": "code",
      "execution_count": null,
      "metadata": {
        "id": "I7Vpl1f-Ppet"
      },
      "outputs": [],
      "source": [
        "# como strings são IMUTÁVEIS, a única forma de alterar seu conteúdo é redefinindo a string\n",
        "# Para corrigir vamos precisar redefinir o string\n",
        "s = \"Python\"\n",
        "s"
      ]
    },
    {
      "cell_type": "markdown",
      "metadata": {
        "id": "NTXYsKBTPpex"
      },
      "source": [
        "#### **Métodos do objeto String**\n",
        "\n",
        "| Método | Descrição | Exemplo |\n",
        "|:------------|:---------------------------------------------------------------------------------------------|:--------------|\n",
        "| [capitalize()](https://www.programiz.com/python-programming/methods/string/capitalize) | Retorna uma cópia da string com primeiro caractere maiúsculo e os caracteres restantes em minúsculo | `s.capitalize()`|\n",
        "| [casefold()](https://www.programiz.com/python-programming/methods/string/casefold) | Retorna uma cópia da string convertido para letras minúsculas | `s.casefold()` |\n",
        "| [center()](https://www.programiz.com/python-programming/methods/string/center) | Retorna uma cópia da string centralizada e preenchida com o caractere especificado (*default* = espaço em branco) | `s.center(20)` |\n",
        "| [center()](https://www.programiz.com/python-programming/methods/string/center) | Retorna uma cópia da string centralizada e preenchida com o caractere especificado (*default* = espaço em branco) | `s.center(20, '*')` |\n",
        "| [count()](https://www.programiz.com/python-programming/methods/string/count) | Retorna o número de ocorrências de um determinado substring | `s.count('abc')` |\n",
        "| [encode()](https://www.programiz.com/python-programming/methods/string/encode) | Retorna uma cópia da string utilizando um determinando *encoding* (*default* = UTF-8)| `s.encode()`|\n",
        "| [endswith()](https://www.programiz.com/python-programming/methods/string/endswith) | Retorna `True` se uma string terminar com o sufixo especificado | `s.endswith(\"python\")` |\n",
        "| [expandtabs()](https://www.programiz.com/python-programming/methods/string/expandtabs) | Retorna uma cópia da string no qual os caracteres de tabulação `\\t` são substituídos por caracteres de espaço em branco | s.expandtabs(3)\n",
        "| [find()](https://www.programiz.com/python-programming/methods/string/find) | Retorna o índice da primeira ocorrência da substring. Se não encontrado, retorna -1 | `s.find('python')` |\n",
        "| [format()](https://www.programiz.com/python-programming/methods/string/format) | Formata a string de entrada em uma string de saída | `\"{} é {}\".format(\"Python\", \"demais!\")` |\n",
        "| [index()](https://www.programiz.com/python-programming/methods/string/index) | Retorna o índice da primeira ocorrência de uma substring dentro da string. Se a substring não for encontrada, levanta uma exceção | `s.index('python')`|\n",
        "| [isalnum()](https://www.programiz.com/python-programming/methods/string/isalnum) | Retorna `True` se todos os caracteres na string forem alfanuméricos (letras ou números) | `s.isalnum()`|\n",
        "| [isalpha()](https://www.programiz.com/python-programming/methods/string/isalpha) | Retorna `True` se a string tiver apenas letras |`s.isalpha()`|\n",
        "| isascii() | Retorna True se todos os caracteres na string forem ASCII | `s.isascii()`|\n",
        "| [isdecimal()](https://www.programiz.com/python-programming/methods/string/isdecimal) | Retorna `True` se todos os caracteres na string forem decimais (0 a 9) | `s.isdecimal()` |\n",
        "| [isdigit()](https://www.programiz.com/python-programming/methods/string/isdigit) | Retorna `True` se todos os caracteres na string forem dígitos (ex: 3²) | `s.isdigit()`|\n",
        "| [isidentifier()](https://www.programiz.com/python-programming/methods/string/isidentifier) | Retorna `True` se a string for um identificador válido em Python | `s.isidentifier()`|\n",
        "| [islower()](https://www.programiz.com/python-programming/methods/string/islower) | Retorna `True` se todos as letras da string forem letras minúsculas | `s.islower()` |\n",
        "| [isnumeric()](https://www.programiz.com/python-programming/methods/string/isnumeric) | Retorna `True` se todos os caracteres na string forem numéricos (ex: ½) | `s.isnumeric()`|\n",
        "| [isprintable()](https://www.programiz.com/python-programming/methods/string/isprintable) | Retorna `True` se todos os caracteres da string podem ser impressos | `s.isprintable()`|\n",
        "| [isspace()](https://www.programiz.com/python-programming/methods/string/isspace) | Retorna `True` se houverem apenas espaços em branco na string | `s.isspace()` |\n",
        "| [istitle()](https://www.programiz.com/python-programming/methods/string/istitle) | Retorna `True` se a string estiver em formato de *título*, ou seja, se cada palavra da string começa com letra maiúscula e tem o restante das letras minúsculas | `s.istitle()`|\n",
        "| [isupper()](https://www.programiz.com/python-programming/methods/string/isupper) | Retorna `True` se todos as letras do string forem letras maiúsculas | `s.isupper()` |\n",
        "| [ljust()](https://www.programiz.com/python-programming/methods/string/ljust) | Retorna uma cópia da string justificada à esquerda| `s.ljust(20)`|\n",
        "| [lower()](https://www.programiz.com/python-programming/methods/string/lower) | Retorna uma cópia da string com as letras maiúsculas convertidas em minúsculas | `s.lower()`|\n",
        "| [lstrip()](https://www.programiz.com/python-programming/methods/string/lstrip) | Retorna uma cópia da string com os caracteres passados por parâmetro removidos do início da string | `s.lstrip(' *@')` |\n",
        "| [partition()](https://www.programiz.com/python-programming/methods/string/partition) | Divide a string e retorna uma tupla contendo a parte antes do separador (primeira ocorrência), a string de argumento (separador) e a parte após o separador | `s.partition('@')`|\n",
        "| [replace()](https://www.programiz.com/python-programming/methods/string/replace) | Retorna uma cópia da string onde todas as ocorrências de uma substring são substituídas por outra | `s.partition('@',' at ')`|\n",
        "| [rfind()](https://www.programiz.com/python-programming/methods/string/rfind) | Retorna o índice da última ocorrência da substring. Se não encontrado, retorna -1 | `s.rfind('python')` |\n",
        "| [rindex()](https://www.programiz.com/python-programming/methods/string/rindex) | Retorna o índice da última ocorrência da substring dentro da string. Se a substring não for encontrada, levanta uma exceção | `s.rindex('python')`|\n",
        "| [rjust()](https://www.programiz.com/python-programming/methods/string/rjust) | Retorna uma cópia da string justificada à direita | `s.rjust(20)`|\n",
        "| [rpartition()](https://www.programiz.com/python-programming/methods/string/partition) | Divide a string e retorna uma tupla contendo a parte antes do separador (última ocorrência), a string de argumento (separador) e a parte após o separador | `s.rpartition('@')`|\n",
        "| [rsplit()](https://www.programiz.com/python-programming/methods/string/rsplit) | Divide a string à partir da direita (última posição), usando um separador passado por parâmetro, e retorna uma lista de strings| `s.rsplit(';')`|\n",
        "| [rstrip()](https://www.programiz.com/python-programming/methods/string/rstrip) | Retorna uma cópia da string com os caracteres passados por parâmetro removidos do final da string | `s.rstrip('!?.')` |\n",
        "| [split()](https://www.programiz.com/python-programming/methods/string/split) | Divide a string à partir da esquerda (primeira posição), usando um separador passado por parâmetro, e retorna uma lista de strings| `s.split(';')`|\n",
        "| [splitlines()](https://www.programiz.com/python-programming/methods/string/splitlines) | Divide e retorna as linhas contidas em uma string  | `s.splitlines()`|\n",
        "| [starstwith()](https://www.programiz.com/python-programming/methods/string/startswith) | Retorna `True` se uma string começar com o prefixo especificado | `s.starstwith(\"Python\")` |\n",
        "| [strip()](https://www.programiz.com/python-programming/methods/string/strip) | Retorna uma cópia da string com os caracteres passados por parâmetro removidos do início e do final da string | `s.strip(' *@')` |\n",
        "| [swapcase()](https://www.w3schools.com/python/ref_string_swapcase.asp) | Retorna uma cópia da string com letras minúsculas convertidas em maiúsculas e vice-versa | `s.swapcase()`|\n",
        "| [title()](https://www.programiz.com/python-programming/methods/string/title) | Retorna uma cópia da string com a primeira letra de cada palavra convertida para maiúscula | `s.title()` |\n",
        "| [upper()](https://www.programiz.com/python-programming/methods/string/upper) | Retorna uma cópia da string com as letras minúsculas convertidas em maiúsculas | `s.upper()`|\n",
        "| [zfill()](https://www.programiz.com/python-programming/methods/string/zfill) | Retorna uma cópia da string preenchida com 0s (zeros) à esquerda | `s.zfill(8)`|"
      ]
    },
    {
      "cell_type": "markdown",
      "metadata": {
        "id": "sz90CGnQPpex"
      },
      "source": [
        "##### Exemplo do método capitalize()"
      ]
    },
    {
      "cell_type": "code",
      "execution_count": null,
      "metadata": {
        "id": "qXBU0zQYPpez"
      },
      "outputs": [],
      "source": [
        "s = \"a linguagem python é demais!\"\n",
        "s.capitalize()"
      ]
    },
    {
      "cell_type": "code",
      "execution_count": null,
      "metadata": {
        "id": "izy6G8mMPpfD"
      },
      "outputs": [],
      "source": [
        "# Importante ressaltar que a string s não foi alterada\n",
        "s"
      ]
    },
    {
      "cell_type": "code",
      "execution_count": null,
      "metadata": {
        "id": "bMBs92N7PpfF"
      },
      "outputs": [],
      "source": [
        "s1 = s.capitalize()\n",
        "print(s)\n",
        "print(s1)"
      ]
    },
    {
      "cell_type": "markdown",
      "metadata": {
        "id": "vipN5SWfPpfG"
      },
      "source": [
        "##### Exemplo dos métodos casefold(),  lower() e upper()"
      ]
    },
    {
      "cell_type": "code",
      "execution_count": null,
      "metadata": {
        "id": "UHjrTAe5PpfH"
      },
      "outputs": [],
      "source": [
        "s = \"AbCdEf\"\n",
        "s1 = s.casefold()\n",
        "s1"
      ]
    },
    {
      "cell_type": "code",
      "execution_count": null,
      "metadata": {
        "id": "oIP1dbjUPpfI"
      },
      "outputs": [],
      "source": [
        "s2 = s.lower()\n",
        "s2"
      ]
    },
    {
      "cell_type": "code",
      "execution_count": null,
      "metadata": {
        "id": "dnlJpsEZPpfK"
      },
      "outputs": [],
      "source": [
        "s3 = s.upper()\n",
        "s3"
      ]
    },
    {
      "cell_type": "code",
      "execution_count": null,
      "metadata": {
        "id": "tWPk1n4wPpfO"
      },
      "outputs": [],
      "source": [
        "# casefold() é mais agressivo em sua conversão se comparado ao lower()\n",
        "s4 = \"Der Fluß\"\n",
        "s5 = s4.casefold()\n",
        "s5"
      ]
    },
    {
      "cell_type": "code",
      "execution_count": null,
      "metadata": {
        "id": "CYfs3NsCPpfQ"
      },
      "outputs": [],
      "source": [
        "s6 = s4.lower()\n",
        "s6"
      ]
    },
    {
      "cell_type": "markdown",
      "metadata": {
        "id": "iM99-5LhPpfT"
      },
      "source": [
        "##### Exemplo do método center()"
      ]
    },
    {
      "cell_type": "code",
      "execution_count": null,
      "metadata": {
        "id": "fAcJG0WnPpfT"
      },
      "outputs": [],
      "source": [
        "s = \"PYTHON\"\n",
        "s"
      ]
    },
    {
      "cell_type": "code",
      "execution_count": null,
      "metadata": {
        "id": "nP_bpSw9PpfV"
      },
      "outputs": [],
      "source": [
        "s1 = s.center(20) # Centralizar s em um string de tamanho 20 - completa com espaços a esquerda e direita\n",
        "s1"
      ]
    },
    {
      "cell_type": "code",
      "execution_count": null,
      "metadata": {
        "id": "eyN1d8glPpfX"
      },
      "outputs": [],
      "source": [
        "s2 = s.center(30, \"*\") # Centralizar s em um string de tamanho 30 - completa com espaços a esquerda e direita\n",
        "s2"
      ]
    },
    {
      "cell_type": "markdown",
      "metadata": {
        "id": "aiV8pZ1EPpfa"
      },
      "source": [
        "##### Exemplo do método count()"
      ]
    },
    {
      "cell_type": "code",
      "execution_count": null,
      "metadata": {
        "id": "CTxx8t2VPpfa"
      },
      "outputs": [],
      "source": [
        "s = \"A linguagem Python é demais!\"\n",
        "s.count(\"a\")"
      ]
    },
    {
      "cell_type": "code",
      "execution_count": null,
      "metadata": {
        "id": "Bd8u30z2Ppfb"
      },
      "outputs": [],
      "source": [
        "s.count(\"A\")"
      ]
    },
    {
      "cell_type": "code",
      "execution_count": null,
      "metadata": {
        "id": "XIDNZ99tPpfd"
      },
      "outputs": [],
      "source": [
        "s.count(\"b\")"
      ]
    },
    {
      "cell_type": "code",
      "execution_count": null,
      "metadata": {
        "id": "TUk4FPaTPpfg"
      },
      "outputs": [],
      "source": [
        "s.count(\"demais\")"
      ]
    },
    {
      "cell_type": "markdown",
      "metadata": {
        "id": "cptM5gIXPpfh"
      },
      "source": [
        "##### Exemplo do método encode()"
      ]
    },
    {
      "cell_type": "code",
      "execution_count": null,
      "metadata": {
        "id": "FAgx8p4ZPpfh"
      },
      "outputs": [],
      "source": [
        "s = \"Mоето име е Päivi\"\n",
        "s1 = s.encode() # Codifica usando o UTF-8 por padrão\n",
        "s1"
      ]
    },
    {
      "cell_type": "markdown",
      "metadata": {
        "id": "vAW5t6eGPpfl"
      },
      "source": [
        "##### Exemplo dos métodos endswith() e startswith()"
      ]
    },
    {
      "cell_type": "code",
      "execution_count": null,
      "metadata": {
        "id": "s3jkAOwsPpfl"
      },
      "outputs": [],
      "source": [
        "s = \"A linguagem Python é demais!\"\n",
        "s.endswith(\"demais\") # False"
      ]
    },
    {
      "cell_type": "code",
      "execution_count": null,
      "metadata": {
        "id": "c9gPvdbyPpfn"
      },
      "outputs": [],
      "source": [
        "s.endswith(\"demais!\") # True"
      ]
    },
    {
      "cell_type": "code",
      "execution_count": null,
      "metadata": {
        "id": "MJz2qjuXPpfp"
      },
      "outputs": [],
      "source": [
        "s.endswith(\"demais!\", 12) # True - Verifica se o substring a partir da posição 12 terminar com \"demais!\""
      ]
    },
    {
      "cell_type": "code",
      "execution_count": null,
      "metadata": {
        "id": "jjDwahBKPpfq"
      },
      "outputs": [],
      "source": [
        "s[2:18] # Substring formado da posição 2 à 17"
      ]
    },
    {
      "cell_type": "code",
      "execution_count": null,
      "metadata": {
        "id": "HcyybQmZPpft"
      },
      "outputs": [],
      "source": [
        "s.endswith(\"Python\", 2, 18) # True"
      ]
    },
    {
      "cell_type": "code",
      "execution_count": null,
      "metadata": {
        "id": "564I5Z2GPpfv"
      },
      "outputs": [],
      "source": [
        "s.startswith(\"A l\") # True"
      ]
    },
    {
      "cell_type": "code",
      "execution_count": null,
      "metadata": {
        "id": "9GTSEMinPpfw"
      },
      "outputs": [],
      "source": [
        "s.startswith(\"Python\") # False"
      ]
    },
    {
      "cell_type": "code",
      "execution_count": null,
      "metadata": {
        "id": "X_iowrycPpfy"
      },
      "outputs": [],
      "source": [
        "s.startswith(\"Python\", 12) # True"
      ]
    },
    {
      "cell_type": "markdown",
      "metadata": {
        "id": "KXWYNABMPpf0"
      },
      "source": [
        "##### Exemplo do método expandtabs()"
      ]
    },
    {
      "cell_type": "code",
      "execution_count": null,
      "metadata": {
        "id": "Tex6tKhwPpf0"
      },
      "outputs": [],
      "source": [
        "s = \"col1\\tcol2\\tcol3\"\n",
        "print(s)"
      ]
    },
    {
      "cell_type": "code",
      "execution_count": null,
      "metadata": {
        "id": "sROwCd3aPpf2"
      },
      "outputs": [],
      "source": [
        "s1 = s.expandtabs() # Substitui as tabulações por espaços (default = 8)\n",
        "print(s1)"
      ]
    },
    {
      "cell_type": "code",
      "execution_count": null,
      "metadata": {
        "id": "Nr74rB2WPpf5"
      },
      "outputs": [],
      "source": [
        "print(\"Tabsize =  5\",s.expandtabs(5))\n",
        "print(\"Tabsize =  6\",s.expandtabs(6))\n",
        "print(\"Tabsize =  7\",s.expandtabs(7))\n",
        "print(\"Tabsize =  8\",s.expandtabs())\n",
        "print(\"Tabsize =  9\",s.expandtabs(9))\n",
        "print(\"Tabsize = 10\",s.expandtabs(10))"
      ]
    },
    {
      "cell_type": "markdown",
      "metadata": {
        "id": "LRIWwItUPpf6"
      },
      "source": [
        "##### Exemplo dos métodos find(), rfind(), index() e rindex()"
      ]
    },
    {
      "cell_type": "code",
      "execution_count": null,
      "metadata": {
        "id": "PcSU-y2ZPpf7"
      },
      "outputs": [],
      "source": [
        "s = \"A linguagem Python é demais! Python é sensacional.\"\n",
        "s.find(\"Python\") # Procura pelo substring \"Python\" no string s usando o método find()"
      ]
    },
    {
      "cell_type": "code",
      "execution_count": null,
      "metadata": {
        "id": "wuscoKscPpf8"
      },
      "outputs": [],
      "source": [
        "s.rfind(\"Python\") # Procura pelo substring \"Python\" no string s usando o método rfind()"
      ]
    },
    {
      "cell_type": "code",
      "execution_count": null,
      "metadata": {
        "id": "JA-NmlYAPpf9"
      },
      "outputs": [],
      "source": [
        "s.index(\"Python\") # Procura pelo substring \"Python\" no string s usando o método index()"
      ]
    },
    {
      "cell_type": "code",
      "execution_count": null,
      "metadata": {
        "id": "_icmgg6HPpf-"
      },
      "outputs": [],
      "source": [
        "s.rindex(\"Python\") # Procura pelo substring \"Python\" no string s usando o método rindex()"
      ]
    },
    {
      "cell_type": "code",
      "execution_count": null,
      "metadata": {
        "id": "LBOaub6lPpgA"
      },
      "outputs": [],
      "source": [
        "s.find(\"python\") # Procura pelo substring \"python\" no string s usando o método find()"
      ]
    },
    {
      "cell_type": "code",
      "execution_count": null,
      "metadata": {
        "id": "YKXoJZ0bPpgB"
      },
      "outputs": [],
      "source": [
        "s.rfind(\"python\") # Procura pelo substring \"python\" no string s usando o método rfind()"
      ]
    },
    {
      "cell_type": "code",
      "execution_count": null,
      "metadata": {
        "id": "JMqWmC0JPpgC"
      },
      "outputs": [],
      "source": [
        "s.index(\"python\") # Procura pelo substring \"python\" no string s usando o método index()"
      ]
    },
    {
      "cell_type": "code",
      "execution_count": null,
      "metadata": {
        "id": "N4WUxJTEPpgF"
      },
      "outputs": [],
      "source": [
        "s.rindex(\"python\") # Procura pelo substring \"python\" no string s usando o método rindex()"
      ]
    },
    {
      "cell_type": "code",
      "execution_count": null,
      "metadata": {
        "id": "2Im32E6uPpgG"
      },
      "outputs": [],
      "source": [
        "s1 = \"Olá! Este é um exemplo. Este é outro exemplo.\"\n",
        "s1.find(\"Este\") # Procura pelo substring \"Este\" no string s usando o método find()"
      ]
    },
    {
      "cell_type": "code",
      "execution_count": null,
      "metadata": {
        "id": "1nMRauGqPpgI"
      },
      "outputs": [],
      "source": [
        "s1.rfind(\"Este\") # Procura pelo substring \"Este\" no string s usando o método rfind()"
      ]
    },
    {
      "cell_type": "code",
      "execution_count": null,
      "metadata": {
        "id": "wuG1SKKqPpgJ"
      },
      "outputs": [],
      "source": [
        "s1.index(\"Este\") # Procura pelo substring \"Este\" no string s usando o método index()"
      ]
    },
    {
      "cell_type": "code",
      "execution_count": null,
      "metadata": {
        "id": "_ULJw_xhPpgK"
      },
      "outputs": [],
      "source": [
        "s1.rindex(\"Este\") # Procura pelo substring \"Este\" no string s usando o método rindex()"
      ]
    },
    {
      "cell_type": "code",
      "execution_count": null,
      "metadata": {
        "id": "tRRnZawWPpgL"
      },
      "outputs": [],
      "source": [
        "s1.find(\"Este\", 15) # Procura pelo substring \"Este\" no string s, a partir do índice 15 usando o método find()"
      ]
    },
    {
      "cell_type": "code",
      "execution_count": null,
      "metadata": {
        "id": "7MNQiWO5PpgM"
      },
      "outputs": [],
      "source": [
        "s1.index(\"Este\", 15) # Procura pelo substring \"Este\" no string s, a partir do índice 15 usando o método index()"
      ]
    },
    {
      "cell_type": "code",
      "execution_count": null,
      "metadata": {
        "id": "mlhgZkQcPpgO"
      },
      "outputs": [],
      "source": [
        "s1.find(\"Este\", 10, 20) # Procura pelo substring \"Este\" no string s, entre os índices 10 e 19 usando o método find()"
      ]
    },
    {
      "cell_type": "code",
      "execution_count": null,
      "metadata": {
        "id": "yuCV2P-VPpgP"
      },
      "outputs": [],
      "source": [
        "s1.index(\"Este\", 10, 20) # Procura pelo substring \"Este\" no string s, entre os índices 10 e 19 usando o método index()"
      ]
    },
    {
      "cell_type": "markdown",
      "metadata": {
        "id": "RYTHZAGSPpgQ"
      },
      "source": [
        "##### Exemplo do método format()"
      ]
    },
    {
      "cell_type": "code",
      "execution_count": null,
      "metadata": {
        "id": "lrybj1k1PpgQ"
      },
      "outputs": [],
      "source": [
        "nome = \"Joaquim\"\n",
        "idade = 60\n",
        "print(\"Meu nome é {} e tenho {} anos.\".format(nome, idade))"
      ]
    },
    {
      "cell_type": "code",
      "execution_count": null,
      "metadata": {
        "id": "Ll__wQdPPpgS"
      },
      "outputs": [],
      "source": [
        "print(\"Meu nome é {0} e tenho {1} anos.\".format(nome, idade))"
      ]
    },
    {
      "cell_type": "code",
      "execution_count": null,
      "metadata": {
        "id": "7u4CCPP0PpgU"
      },
      "outputs": [],
      "source": [
        "print(\"Meu nome é {} e tenho {} anos.\\nRepetindo... Meu nome é {} e tenho {} anos.\".format(nome, idade, nome, idade))"
      ]
    },
    {
      "cell_type": "code",
      "execution_count": null,
      "metadata": {
        "id": "oMpG1vyjPpgW"
      },
      "outputs": [],
      "source": [
        "print(\"Meu nome é {0} e tenho {1} anos.\\nRepetindo... Eu tenho {1} anos e meu nome é {0}.\".format(nome, idade))"
      ]
    },
    {
      "cell_type": "code",
      "execution_count": null,
      "metadata": {
        "id": "WSEhzgRuPpgY"
      },
      "outputs": [],
      "source": [
        "print(\"Meu nome é {name} e tenho {age} anos.\".format(age=18, name=\"Pedro\"))"
      ]
    },
    {
      "cell_type": "markdown",
      "metadata": {
        "id": "sH7UPpWNPpga"
      },
      "source": [
        "##### Exemplo do método isalnum()"
      ]
    },
    {
      "cell_type": "code",
      "execution_count": null,
      "metadata": {
        "id": "xY5SB5ffPpga"
      },
      "outputs": [],
      "source": [
        "s = \"D3C1FR4NDO\"\n",
        "s.isalnum()"
      ]
    },
    {
      "cell_type": "code",
      "execution_count": null,
      "metadata": {
        "id": "UbCUI2bjPpgb"
      },
      "outputs": [],
      "source": [
        "s1 = \"D3C1FR4NDO 0 CÓD1G0\"\n",
        "s1.isalnum() # Falso por causa da presença de espaços"
      ]
    },
    {
      "cell_type": "markdown",
      "metadata": {
        "id": "u5067PFBPpgc"
      },
      "source": [
        "##### Exemplo do método isalpha()"
      ]
    },
    {
      "cell_type": "code",
      "execution_count": null,
      "metadata": {
        "id": "m5NabOo7Ppgd"
      },
      "outputs": [],
      "source": [
        "s = \"D3C1FR4NDO\"\n",
        "s.isalpha()"
      ]
    },
    {
      "cell_type": "code",
      "execution_count": null,
      "metadata": {
        "id": "SzTw0NGePpge"
      },
      "outputs": [],
      "source": [
        "s1 = \"CÓDIGO\"\n",
        "s1.isalpha()"
      ]
    },
    {
      "cell_type": "code",
      "execution_count": null,
      "metadata": {
        "id": "eMdowK5uPpgf"
      },
      "outputs": [],
      "source": [
        "s2 = \"DECIFRANDO O CODIGO\"\n",
        "s2.isalpha()"
      ]
    },
    {
      "cell_type": "markdown",
      "metadata": {
        "id": "H_v6JsXrPpgg"
      },
      "source": [
        "##### Exemplo do método isascii()"
      ]
    },
    {
      "cell_type": "code",
      "execution_count": null,
      "metadata": {
        "id": "Px7wgK9fPpgg"
      },
      "outputs": [],
      "source": [
        "cidade = 'ӓmsterdӓm'\n",
        "cidade.isascii()"
      ]
    },
    {
      "cell_type": "code",
      "execution_count": null,
      "metadata": {
        "id": "umjn6lXsPpgh"
      },
      "outputs": [],
      "source": [
        "cidade = 'amsterdam'\n",
        "cidade.isascii()"
      ]
    },
    {
      "cell_type": "markdown",
      "metadata": {
        "id": "l6p_tTjUPpgi"
      },
      "source": [
        "A tabela [ASCII](https://pt.wikipedia.org/wiki/ASCII) é composta por 128 \"caracteres\" (sendo a maioria caracteres \"imprimíveis\") e não contempla caracteres acentuados."
      ]
    },
    {
      "cell_type": "markdown",
      "metadata": {
        "id": "-Xp7wE41Ppgj"
      },
      "source": [
        "##### Exemplo dos métodos isdecimal(), isdigit() e isnumeric()\n",
        "\n",
        "* isdecimal() => 0, 1, 2, 3, 4, 5, 6, 7, 8, 9\n",
        "* isdigit()   => caracteres decimais + subscrito e sobrescrito\n",
        "* isnumeric   => caracteres decimais + subscrito e sobrescrito + caracteres UNICODE que representem frações, números romanos, etc"
      ]
    },
    {
      "cell_type": "code",
      "execution_count": null,
      "metadata": {
        "id": "ymSOMthnPpgj"
      },
      "outputs": [],
      "source": [
        "a = \"12345\"\n",
        "b = \"1234²\"\n",
        "c = \"123²½\"\n",
        "print(\"a.isdecimal() = \", a.isdecimal())\n",
        "print(\"b.isdecimal() = \", b.isdecimal())\n",
        "print(\"c.isdecimal() = \", c.isdecimal())\n",
        "print(\"=\"*25)\n",
        "print(\"a.isdigit() = \", a.isdigit())\n",
        "print(\"b.isdigit() = \", b.isdigit())\n",
        "print(\"c.isdigit() = \", c.isdigit())\n",
        "print(\"=\"*25)\n",
        "print(\"a.isnumeric() = \", a.isnumeric())\n",
        "print(\"b.isnumeric() = \", b.isnumeric())\n",
        "print(\"c.isnumeric() = \", c.isnumeric())"
      ]
    },
    {
      "cell_type": "markdown",
      "metadata": {
        "id": "2bx5mHtzPpgk"
      },
      "source": [
        "##### Exemplo do método isidentifier()"
      ]
    },
    {
      "cell_type": "code",
      "execution_count": null,
      "metadata": {
        "id": "h7-s133kPpgk"
      },
      "outputs": [],
      "source": [
        "s = \"i23ER21\"\n",
        "s.isidentifier()"
      ]
    },
    {
      "cell_type": "code",
      "execution_count": null,
      "metadata": {
        "id": "NeraAIJbPpgl"
      },
      "outputs": [],
      "source": [
        "s = \"_i23ER21\"\n",
        "s.isidentifier()"
      ]
    },
    {
      "cell_type": "code",
      "execution_count": null,
      "metadata": {
        "id": "qVloHI6QPpgn"
      },
      "outputs": [],
      "source": [
        "s = \"nome-aluno\"\n",
        "s.isidentifier()"
      ]
    },
    {
      "cell_type": "code",
      "execution_count": null,
      "metadata": {
        "id": "HHJaqfwkPpgq"
      },
      "outputs": [],
      "source": [
        "s = \"nome aluno\"\n",
        "s.isidentifier()"
      ]
    },
    {
      "cell_type": "code",
      "execution_count": null,
      "metadata": {
        "id": "gEMw0cBZPpgr"
      },
      "outputs": [],
      "source": [
        "s = \"nome_aluno\"\n",
        "s.isidentifier()"
      ]
    },
    {
      "cell_type": "markdown",
      "metadata": {
        "id": "uBB6C4VqPpgt"
      },
      "source": [
        "##### Exemplo dos métodos islower() e isupper()"
      ]
    },
    {
      "cell_type": "code",
      "execution_count": null,
      "metadata": {
        "id": "YdI6ToB4Ppgt"
      },
      "outputs": [],
      "source": [
        "s = \"nome_aluno\"\n",
        "s.islower()"
      ]
    },
    {
      "cell_type": "code",
      "execution_count": null,
      "metadata": {
        "id": "asBz8cNpPpgv"
      },
      "outputs": [],
      "source": [
        "s.isupper()"
      ]
    },
    {
      "cell_type": "code",
      "execution_count": null,
      "metadata": {
        "id": "FvOZTyctPpgw"
      },
      "outputs": [],
      "source": [
        "s1 = \"nomeAluno\"\n",
        "s1.islower()"
      ]
    },
    {
      "cell_type": "code",
      "execution_count": null,
      "metadata": {
        "id": "yUiX6J3hPpgw"
      },
      "outputs": [],
      "source": [
        "s1.isupper()"
      ]
    },
    {
      "cell_type": "code",
      "execution_count": null,
      "metadata": {
        "id": "ylIdxaD2Ppgx"
      },
      "outputs": [],
      "source": [
        "s2 = \"minha senh@ é 1234\"\n",
        "s2.islower()"
      ]
    },
    {
      "cell_type": "code",
      "execution_count": null,
      "metadata": {
        "id": "Fd4iua-ePpgy"
      },
      "outputs": [],
      "source": [
        "s2.isupper()"
      ]
    },
    {
      "cell_type": "code",
      "execution_count": null,
      "metadata": {
        "id": "88Nw7kPDPpgz"
      },
      "outputs": [],
      "source": [
        "s3 = \"TUDO MAIÚSCULO!!!\"\n",
        "s3.islower()"
      ]
    },
    {
      "cell_type": "code",
      "execution_count": null,
      "metadata": {
        "id": "3L6F_TW5Ppg1"
      },
      "outputs": [],
      "source": [
        "s3.isupper()"
      ]
    },
    {
      "cell_type": "markdown",
      "metadata": {
        "id": "m3n-NQ1BPpg1"
      },
      "source": [
        "##### Exemplo do método isprintable()"
      ]
    },
    {
      "cell_type": "code",
      "execution_count": null,
      "metadata": {
        "id": "NetJPBtTPpg2"
      },
      "outputs": [],
      "source": [
        "s = \"col1\\tcol2\"\n",
        "s.isprintable()"
      ]
    },
    {
      "cell_type": "code",
      "execution_count": null,
      "metadata": {
        "id": "aaLTbATgPpg2"
      },
      "outputs": [],
      "source": [
        "s1 = s.expandtabs()\n",
        "s1.isprintable()"
      ]
    },
    {
      "cell_type": "code",
      "execution_count": null,
      "metadata": {
        "id": "Oy02Z_H1Ppg3"
      },
      "outputs": [],
      "source": [
        "s2 = \"linha1\\nlinha2\"\n",
        "s2.isprintable()"
      ]
    },
    {
      "cell_type": "markdown",
      "metadata": {
        "id": "USt9YxopPpg6"
      },
      "source": [
        "#####Exemplo do método isspace()"
      ]
    },
    {
      "cell_type": "code",
      "execution_count": null,
      "metadata": {
        "id": "15VAz7ojPpg6"
      },
      "outputs": [],
      "source": [
        "s1 = \"A B\"\n",
        "s1[0].isspace()"
      ]
    },
    {
      "cell_type": "code",
      "execution_count": null,
      "metadata": {
        "id": "dsulVHTmPpg7"
      },
      "outputs": [],
      "source": [
        "s1[1].isspace()"
      ]
    },
    {
      "cell_type": "code",
      "execution_count": null,
      "metadata": {
        "id": "82M3L92tPpg8"
      },
      "outputs": [],
      "source": [
        "s1[2].isspace()"
      ]
    },
    {
      "cell_type": "markdown",
      "metadata": {
        "id": "IVqLltPrPpg-"
      },
      "source": [
        "##### Exemplo do método istitle()"
      ]
    },
    {
      "cell_type": "code",
      "execution_count": null,
      "metadata": {
        "id": "tnsBAZlZPpg-"
      },
      "outputs": [],
      "source": [
        "titulo = \"A Linguagem Python\"\n",
        "titulo.istitle()"
      ]
    },
    {
      "cell_type": "code",
      "execution_count": null,
      "metadata": {
        "id": "idUUWMBCPpg_"
      },
      "outputs": [],
      "source": [
        "titulo = \"A Linguagem de Programação Python\" # de => False\n",
        "titulo.istitle()"
      ]
    },
    {
      "cell_type": "code",
      "execution_count": null,
      "metadata": {
        "id": "cshf0LfnPphA"
      },
      "outputs": [],
      "source": [
        "titulo = \"A Linguagem DE Programação Python\" # DE => False\n",
        "titulo.istitle()"
      ]
    },
    {
      "cell_type": "code",
      "execution_count": null,
      "metadata": {
        "id": "T5bqM9VoPphB"
      },
      "outputs": [],
      "source": [
        "titulo = \"A Linguagem De Programação Python\"\n",
        "titulo.istitle()"
      ]
    },
    {
      "cell_type": "markdown",
      "metadata": {
        "id": "qT8Yn8j_PphC"
      },
      "source": [
        "##### Exemplo dos métodos ljust() e rjust()"
      ]
    },
    {
      "cell_type": "code",
      "execution_count": null,
      "metadata": {
        "id": "gsn5P43gPphC"
      },
      "outputs": [],
      "source": [
        "s = \"Esquerda\".ljust(20)\n",
        "s"
      ]
    },
    {
      "cell_type": "code",
      "execution_count": null,
      "metadata": {
        "id": "V7yopvJQPphD"
      },
      "outputs": [],
      "source": [
        "s1 = \"Direita\".rjust(20)\n",
        "s1"
      ]
    },
    {
      "cell_type": "code",
      "execution_count": null,
      "metadata": {
        "id": "iw0j3lTiPphD"
      },
      "outputs": [],
      "source": [
        "s2 = \"Esquerda\".ljust(20,\"<\")\n",
        "s2"
      ]
    },
    {
      "cell_type": "code",
      "execution_count": null,
      "metadata": {
        "id": "32YSO3DOPphE"
      },
      "outputs": [],
      "source": [
        "s3 = \"Direita\".rjust(20,\">\")\n",
        "s3"
      ]
    },
    {
      "cell_type": "markdown",
      "metadata": {
        "id": "EF_8IIiNPphF"
      },
      "source": [
        "##### Exemplo dos métodos lstrip(), rstrip() e strip()"
      ]
    },
    {
      "cell_type": "code",
      "execution_count": null,
      "metadata": {
        "id": "c5eiKzHwPphF"
      },
      "outputs": [],
      "source": [
        "s = \"      ABC   \"\n",
        "s1 = s.lstrip()\n",
        "s1"
      ]
    },
    {
      "cell_type": "code",
      "execution_count": null,
      "metadata": {
        "id": "XKg9e4g_PphG"
      },
      "outputs": [],
      "source": [
        "s2 = s.rstrip()\n",
        "s2"
      ]
    },
    {
      "cell_type": "code",
      "execution_count": null,
      "metadata": {
        "id": "sKAJ63UJPphH"
      },
      "outputs": [],
      "source": [
        "s3 = s.strip()\n",
        "s3"
      ]
    },
    {
      "cell_type": "code",
      "execution_count": null,
      "metadata": {
        "id": "eiLS16JDPphI"
      },
      "outputs": [],
      "source": [
        "link = \"https://www.python.org/\"\n",
        "s4 = link.lstrip(\"hpst:/\")\n",
        "s4"
      ]
    },
    {
      "cell_type": "code",
      "execution_count": null,
      "metadata": {
        "id": "1vfFggMzPphJ"
      },
      "outputs": [],
      "source": [
        "s5 = link.rstrip(\"hpst:/\")\n",
        "s5"
      ]
    },
    {
      "cell_type": "code",
      "execution_count": null,
      "metadata": {
        "id": "OgunpRZ6PphK"
      },
      "outputs": [],
      "source": [
        "s6 = link.strip(\"hpst:/\")\n",
        "s6"
      ]
    },
    {
      "cell_type": "markdown",
      "metadata": {
        "id": "GfZXo1VgPphL"
      },
      "source": [
        "##### Exemplo dos métodos partition(), rpartition(), split() e rsplit()"
      ]
    },
    {
      "cell_type": "code",
      "execution_count": null,
      "metadata": {
        "id": "XIab2_6qPphL"
      },
      "outputs": [],
      "source": [
        "email = \"pessoa@dominio.com.br\""
      ]
    },
    {
      "cell_type": "code",
      "execution_count": null,
      "metadata": {
        "id": "RPgjQ5CXPphM"
      },
      "outputs": [],
      "source": [
        "t1 = email.partition(\"@\")\n",
        "t1"
      ]
    },
    {
      "cell_type": "code",
      "execution_count": null,
      "metadata": {
        "id": "dOgqJ-YePphN"
      },
      "outputs": [],
      "source": [
        "type(t1)"
      ]
    },
    {
      "cell_type": "code",
      "execution_count": null,
      "metadata": {
        "id": "oCFSEC-LPphO"
      },
      "outputs": [],
      "source": [
        "l1 = email.split(\"@\")\n",
        "l1"
      ]
    },
    {
      "cell_type": "code",
      "execution_count": null,
      "metadata": {
        "id": "EHuWAxV_PphQ"
      },
      "outputs": [],
      "source": [
        "type(l1)"
      ]
    },
    {
      "cell_type": "code",
      "execution_count": null,
      "metadata": {
        "id": "1kejsnwfPphR"
      },
      "outputs": [],
      "source": [
        "l2 = email.rsplit(\"@\")\n",
        "l2"
      ]
    },
    {
      "cell_type": "code",
      "execution_count": null,
      "metadata": {
        "id": "g3ewmHUgPphS"
      },
      "outputs": [],
      "source": [
        "t2 = email.partition(\".\")\n",
        "t2"
      ]
    },
    {
      "cell_type": "code",
      "execution_count": null,
      "metadata": {
        "id": "b2vAeIWbPphU"
      },
      "outputs": [],
      "source": [
        "l3 = email.split(\".\")\n",
        "l3"
      ]
    },
    {
      "cell_type": "code",
      "execution_count": null,
      "metadata": {
        "id": "VlfQsv3sPphV"
      },
      "outputs": [],
      "source": [
        "l4 = email.rsplit(\".\")\n",
        "l4"
      ]
    },
    {
      "cell_type": "code",
      "execution_count": null,
      "metadata": {
        "id": "B_xZJLEaPphW"
      },
      "outputs": [],
      "source": [
        "l5 = email.split(\".\", 1)\n",
        "l5"
      ]
    },
    {
      "cell_type": "code",
      "execution_count": null,
      "metadata": {
        "id": "pqI2PLb_PphX"
      },
      "outputs": [],
      "source": [
        "l6 = email.rsplit(\".\", 1)\n",
        "l6"
      ]
    },
    {
      "cell_type": "code",
      "execution_count": null,
      "metadata": {
        "id": "TiwMd-82PphY"
      },
      "outputs": [],
      "source": [
        "seq = \"012.345.678.910\"\n",
        "t3 = seq.partition(\".\")\n",
        "t3"
      ]
    },
    {
      "cell_type": "code",
      "execution_count": null,
      "metadata": {
        "id": "8GqXlPeiPphZ"
      },
      "outputs": [],
      "source": [
        "t4 = seq.rpartition(\".\")\n",
        "t4"
      ]
    },
    {
      "cell_type": "code",
      "execution_count": null,
      "metadata": {
        "id": "QgL-NlWoPphb"
      },
      "outputs": [],
      "source": [
        "print(seq.split(\".\"))\n",
        "print(seq.split(\".\", 1))\n",
        "print(seq.split(\".\", 2))\n",
        "print(seq.split(\".\", 3))"
      ]
    },
    {
      "cell_type": "code",
      "execution_count": null,
      "metadata": {
        "id": "HYqYQqQRPphc"
      },
      "outputs": [],
      "source": [
        "print(seq.rsplit(\".\"))\n",
        "print(seq.rsplit(\".\", 1))\n",
        "print(seq.rsplit(\".\", 2))\n",
        "print(seq.rsplit(\".\", 3))"
      ]
    },
    {
      "cell_type": "markdown",
      "metadata": {
        "id": "1rMDSNByPphe"
      },
      "source": [
        "##### Exemplo do método replace()"
      ]
    },
    {
      "cell_type": "code",
      "execution_count": null,
      "metadata": {
        "id": "O61rclT0Pphe"
      },
      "outputs": [],
      "source": [
        "msg = \"Minha biblioteca favorita é numpy.\"\n",
        "print(msg)\n",
        "msg2 = msg.replace(\"numpy\", \"pandas\")\n",
        "print(msg2)"
      ]
    },
    {
      "cell_type": "code",
      "execution_count": null,
      "metadata": {
        "id": "ff-ooPEPPphf"
      },
      "outputs": [],
      "source": [
        "msg3 = \"Eu gosto de cães. Os cães são muito legais. Os cães são companheiros.\"\n",
        "print(msg3)\n",
        "msg4 = msg3.replace(\"cães\", \"labradores\", 2)\n",
        "print(msg4)"
      ]
    },
    {
      "cell_type": "markdown",
      "metadata": {
        "id": "nFy6Mf5QPphg"
      },
      "source": [
        "##### Exemplo do método splitlines()"
      ]
    },
    {
      "cell_type": "code",
      "execution_count": null,
      "metadata": {
        "id": "p2rmF1CFPphh"
      },
      "outputs": [],
      "source": [
        "s = \"Essa é\\numa\\nstring\\n\\ncom várias\\nlinhas\"\n",
        "print(s)"
      ]
    },
    {
      "cell_type": "code",
      "execution_count": null,
      "metadata": {
        "id": "PQEIwgYnPphj"
      },
      "outputs": [],
      "source": [
        "linhas = s.splitlines()"
      ]
    },
    {
      "cell_type": "code",
      "execution_count": null,
      "metadata": {
        "id": "SMipZC7YPphj"
      },
      "outputs": [],
      "source": [
        "linhas"
      ]
    },
    {
      "cell_type": "code",
      "execution_count": null,
      "metadata": {
        "id": "3rUlloPpPphk"
      },
      "outputs": [],
      "source": [
        "type(linhas)"
      ]
    },
    {
      "cell_type": "markdown",
      "metadata": {
        "id": "CeGLY_HOPphm"
      },
      "source": [
        "##### Exemplo do método swapcase()"
      ]
    },
    {
      "cell_type": "code",
      "execution_count": null,
      "metadata": {
        "id": "UJpHYArEPphm"
      },
      "outputs": [],
      "source": [
        "s = \"MAIÚSCULO | minúsculo!\"\n",
        "s1 = s.swapcase()\n",
        "print(s)\n",
        "print(s1)"
      ]
    },
    {
      "cell_type": "markdown",
      "metadata": {
        "id": "AiDA7ID9Pphn"
      },
      "source": [
        "##### Exemplo do método title()"
      ]
    },
    {
      "cell_type": "code",
      "execution_count": null,
      "metadata": {
        "id": "2XYC9nkOPphn"
      },
      "outputs": [],
      "source": [
        "titulo = \"a linguagEm de programação pyThon\"\n",
        "novo_titulo = titulo.title()\n",
        "print(novo_titulo)"
      ]
    },
    {
      "cell_type": "markdown",
      "metadata": {
        "id": "HVqgrdp2Pphp"
      },
      "source": [
        "##### Exemplo do método zfill()"
      ]
    },
    {
      "cell_type": "code",
      "execution_count": null,
      "metadata": {
        "id": "GEHuZhRkPphp"
      },
      "outputs": [],
      "source": [
        "cod_prod1 = \"123\".zfill(6)\n",
        "cod_prod1"
      ]
    },
    {
      "cell_type": "code",
      "execution_count": null,
      "metadata": {
        "id": "SllqA7TtPphq"
      },
      "outputs": [],
      "source": [
        "cod_prod2 = \"234\".zfill(8)\n",
        "cod_prod2"
      ]
    },
    {
      "cell_type": "code",
      "execution_count": null,
      "metadata": {
        "id": "6WLS6rO3Pphr"
      },
      "outputs": [],
      "source": [
        "cod_prod3 = \"123456\".zfill(5)\n",
        "cod_prod3"
      ]
    },
    {
      "cell_type": "code",
      "execution_count": null,
      "metadata": {
        "id": "YFVPbJP0Pphr"
      },
      "outputs": [],
      "source": []
    },
    {
      "cell_type": "markdown",
      "metadata": {
        "id": "vtjur6ZtLiQf"
      },
      "source": [
        "### **Dicionários (dict)**\n",
        "\n",
        "São estruturas de dados que implementam mapeamentos.\n",
        " * Um mapeamento é uma coleção de associações entre pares de valores;\n",
        " * O primeiro elemento do par é chamado de chave e o outro de\n",
        "conteúdo;\n",
        " * Ao invés de um índice, usamos a *chave* para recuperar um *valor*.\n",
        "\n",
        "Neste tópico serão abordados os seguintes assuntos:\n",
        "\n",
        "1. Como criar dicionários\n",
        "2. Acessando um valor em um dicionário através de uma chave\n",
        "3. Modificando valores em um dicionário\n",
        "4. Principais métodos de um objeto dicionário"
      ]
    },
    {
      "cell_type": "markdown",
      "metadata": {
        "id": "WYhFZrdY-QZP"
      },
      "source": [
        "#### **Como criar dicionários ou mapas (estrutura muito importante)**"
      ]
    },
    {
      "cell_type": "code",
      "execution_count": null,
      "metadata": {
        "id": "w31V3BGX-QZP"
      },
      "outputs": [],
      "source": [
        "# Criando dicionários vazios\n",
        "dic_vazio1 = {}\n",
        "dic_vazio2 = dict()"
      ]
    },
    {
      "cell_type": "code",
      "execution_count": null,
      "metadata": {
        "id": "fC1ecvj2-QZT"
      },
      "outputs": [],
      "source": [
        "# Visualizando o tipo de dic_vazio1\n",
        "type(dic_vazio1)"
      ]
    },
    {
      "cell_type": "code",
      "execution_count": null,
      "metadata": {
        "id": "EiIaNtW1-QZW"
      },
      "outputs": [],
      "source": [
        "# Verificando se dic_vazio2 é uma instância de dict, ou seja se é um tipo dicionário\n",
        "isinstance(dic_vazio2, dict)"
      ]
    },
    {
      "cell_type": "code",
      "execution_count": null,
      "metadata": {
        "id": "Fl155F1f-QZY"
      },
      "outputs": [],
      "source": [
        "# Criando dicionários com pares chave/valor\n",
        "# Dicionário de estados: chave é a sigla do estado e valor é o nome completo\n",
        "dic_estados = { \"PA\":\"Pará\", \"CE\": \"Ceará\", \"BA\": \"Bahia\", \"RN\": \"Rio Grande do Norte\", \"AM\": \"Amaznas\"}\n",
        "# Obs: o nome do estado Amazonas foi digitado errado de forma intencional\n",
        "dic_estados"
      ]
    },
    {
      "cell_type": "markdown",
      "metadata": {
        "id": "YO2WXkmh-QZb"
      },
      "source": [
        "**Notar que as chaves são adicionadas em ordem crescente**"
      ]
    },
    {
      "cell_type": "code",
      "execution_count": null,
      "metadata": {
        "id": "cu-ncVrS-QZb"
      },
      "outputs": [],
      "source": [
        "# Dicionário de produtos: chave é o código e valor é a descrição do produto\n",
        "dic_produtos = {1215:\"Lápis\", 3221:\"Caneta\", 2329:\"Borracha\", 1092:\"Caderno\", 7633:\"Cola\"}\n",
        "dic_produtos"
      ]
    },
    {
      "cell_type": "code",
      "execution_count": null,
      "metadata": {
        "id": "rF0g0jT6-QZd"
      },
      "outputs": [],
      "source": [
        "# Dicionário de alunos: chave é o nome e valor é uma lista com 3 notas do aluno\n",
        "dic_notas_alunos = {\"João\":[30, 12, 21], \"Maria\": [20, 30, 29], \"José\": [20, 23, 19]}\n",
        "dic_notas_alunos"
      ]
    },
    {
      "cell_type": "code",
      "execution_count": null,
      "metadata": {
        "id": "GSzZ6gQm-QZf"
      },
      "outputs": [],
      "source": [
        "# Dicionário de alunos 2: chave é o nome e valor é um outro dicionário contendo as 3 notas do aluno\n",
        "dic_notas_alunos2 = {\"João\": {\"nota1\": 30, \"nota2\": 12, \"nota3\": 21},\n",
        "                     \"Maria\": {\"nota1\": 20, \"nota2\": 30, \"nota3\": 29},\n",
        "                     \"José\": {\"nota1\": 20, \"nota2\": 23, \"nota3\": 19},\n",
        "                    }\n",
        "dic_notas_alunos2"
      ]
    },
    {
      "cell_type": "markdown",
      "metadata": {
        "id": "hayHIVtk-QZi"
      },
      "source": [
        "#### **Acessando um valor em um dicionário através de uma chave**"
      ]
    },
    {
      "cell_type": "code",
      "execution_count": null,
      "metadata": {
        "id": "WJNd8ohA-QZi"
      },
      "outputs": [],
      "source": [
        "# Acessando o valor associado à chave \"PA\"\n",
        "dic_estados[\"PA\"]"
      ]
    },
    {
      "cell_type": "code",
      "execution_count": null,
      "metadata": {
        "id": "ur-kCkzz-QZk"
      },
      "outputs": [],
      "source": [
        "# Acessando o valor associado à chave \"PA\" dentro de um comando print\n",
        "print(\"Estado do nascimento: \"+dic_estados[\"PA\"]+\".\")"
      ]
    },
    {
      "cell_type": "code",
      "execution_count": null,
      "metadata": {
        "id": "oKMQ3pIK-QZm"
      },
      "outputs": [],
      "source": [
        "# Se a chave não existir, é retornado um erro\n",
        "dic_estados[\"XYZ\"]"
      ]
    },
    {
      "cell_type": "code",
      "execution_count": null,
      "metadata": {
        "id": "NrUlwc-b-QZo"
      },
      "outputs": [],
      "source": [
        "# Acessando o valor associado à chave 2329 em produtos\n",
        "dic_produtos[2329]"
      ]
    },
    {
      "cell_type": "code",
      "execution_count": null,
      "metadata": {
        "id": "5MgPbyOS-QZs"
      },
      "outputs": [],
      "source": [
        "# Acessando o valor associado à chave \"Maria\" no dicionário dic_notas_aluno\n",
        "nome_aluno = \"Maria\"\n",
        "print(\"As notas de \"+nome_aluno+\" foram: \"+str(dic_notas_alunos[nome_aluno])+\".\")"
      ]
    },
    {
      "cell_type": "code",
      "execution_count": null,
      "metadata": {
        "id": "1bu4Ft-3-QZv"
      },
      "outputs": [],
      "source": [
        "print(nome_aluno+\" tirou \"+str(dic_notas_alunos[nome_aluno][0])+\" pontos na 1a prova.\")"
      ]
    },
    {
      "cell_type": "code",
      "execution_count": null,
      "metadata": {
        "id": "6sDS6nmw-QZx"
      },
      "outputs": [],
      "source": [
        "# Acessando a nota da primeira prova do João no dicionário dic_notas_alunos2\n",
        "dic_notas_alunos2[\"João\"][\"nota1\"]"
      ]
    },
    {
      "cell_type": "markdown",
      "metadata": {
        "id": "UvT0gI4S-QZz"
      },
      "source": [
        "#### **Modificando valores em um dicionário**"
      ]
    },
    {
      "cell_type": "code",
      "execution_count": null,
      "metadata": {
        "id": "DNwPdEb--QZz"
      },
      "outputs": [],
      "source": [
        "# Visualizando o dicionário dic_estados\n",
        "dic_estados"
      ]
    },
    {
      "cell_type": "code",
      "execution_count": null,
      "metadata": {
        "id": "a9jwp9Jb-QZ1"
      },
      "outputs": [],
      "source": [
        "# Corrigindo o nome do estado Amazonas\n",
        "dic_estados[\"AM\"] = \"Amazonas\"\n",
        "dic_estados"
      ]
    },
    {
      "cell_type": "code",
      "execution_count": null,
      "metadata": {
        "id": "3P077vG_-QZ3"
      },
      "outputs": [],
      "source": [
        "# Visualizando o dicionário dic_notas_alunos\n",
        "dic_notas_alunos"
      ]
    },
    {
      "cell_type": "code",
      "execution_count": null,
      "metadata": {
        "id": "OfJ4_NYk-QZ5"
      },
      "outputs": [],
      "source": [
        "# Alterando a segunda nota de João para 22\n",
        "dic_notas_alunos[\"João\"][1] = 22\n",
        "dic_notas_alunos"
      ]
    },
    {
      "cell_type": "code",
      "execution_count": null,
      "metadata": {
        "id": "o0ULslPZ-QZ7"
      },
      "outputs": [],
      "source": [
        "# Alterando todas as notas de Maria.\n",
        "# Essa alteração não será feita nota a nota, mas atribuindo uma nova lista com as notas corretas\n",
        "dic_notas_alunos[\"Maria\"] = [25, 20, 22]\n",
        "dic_notas_alunos"
      ]
    },
    {
      "cell_type": "code",
      "execution_count": null,
      "metadata": {
        "id": "i0WhPkRn-QZ9"
      },
      "outputs": [],
      "source": [
        "# Visualizando o dicionário dic_notas_alunos2\n",
        "dic_notas_alunos2"
      ]
    },
    {
      "cell_type": "code",
      "execution_count": null,
      "metadata": {
        "id": "e5ho6HZ9-QZ-"
      },
      "outputs": [],
      "source": [
        "# Alterando a terceira nota do José para 25\n",
        "dic_notas_alunos2[\"José\"][\"nota3\"] = 25\n",
        "dic_notas_alunos2"
      ]
    },
    {
      "cell_type": "markdown",
      "metadata": {
        "id": "7i0yLlnM-QaA"
      },
      "source": [
        "#### **Principais métodos de um objeto dicionário**\n",
        "\n",
        "Método | Descrição | Exemplo\n",
        ":----- | :-------- | :------\n",
        "clear  | Apaga todos os elementos de um dicionário | `dic.clear()`\n",
        "copy | Retorna uma cópia dos elementos de um dicionário | `dic_copia = dic.copy()`\n",
        "fromkeys | Retorna um dicionário a partir de uma sequência de chaves | `exemplo = dic.fromkeys({\"k1\", \"k4\", \"k5\"})`\n",
        "get | Retorna o valor associado a uma chave | `dic.get(\"k1\")`\n",
        " |  | `dic.get(\"k1\", 0)`\n",
        "items | Retorna uma visão dos pares chave/valor de um dicionário | `dic.items()`\n",
        "keys | Retorna uma visão das chaves de um dicionário | `dic.keys()`\n",
        "pop | Remove e retorna o elemento associado à chave passada por parâmetro (provoca erro se a chave não existir) | `dic.pop(2)`\n",
        "popitem | Remove e retorna o último elemento adicionado ao dicionário | `dic.popitem()`\n",
        "setdefault | Retorna o valor associado a uma chave (se a chave existir). Caso não exista, insere a chave com o valor (opcional) no dicionário | `dic.setdefault(2, \"dois\")`\n",
        "update | Adiciona ao dicionário os pares de chave/valor de outro dicionário passado por parâmetro | `dic.update(dic2)`\n",
        "values | Retorna uma visão dos valores de um dicionário | `dic.values`"
      ]
    },
    {
      "cell_type": "code",
      "execution_count": null,
      "metadata": {
        "id": "AS5St_Mt-QaA"
      },
      "outputs": [],
      "source": [
        "# Criando um dicionário exemplo\n",
        "dic_exemplo = {1:\"um\", 2:\"dois\", 3:\"três\", 4:\"quatro\"}\n",
        "dic_exemplo"
      ]
    },
    {
      "cell_type": "markdown",
      "metadata": {
        "id": "FjRF4mI7-QaC"
      },
      "source": [
        "##### **clear()**"
      ]
    },
    {
      "cell_type": "code",
      "execution_count": null,
      "metadata": {
        "id": "0LRjZOSQ-QaC"
      },
      "outputs": [],
      "source": [
        "# Removendo os elementos de dic_exemplo\n",
        "dic_exemplo.clear()\n",
        "dic_exemplo"
      ]
    },
    {
      "cell_type": "markdown",
      "metadata": {
        "id": "ikBAMVwq-QaE"
      },
      "source": [
        "##### **copy()**"
      ]
    },
    {
      "cell_type": "code",
      "execution_count": null,
      "metadata": {
        "id": "KBzJq1ov-QaE"
      },
      "outputs": [],
      "source": [
        "# Redefinido dic_exemplo\n",
        "dic_exemplo = {1:\"um\", 2:\"dois\", 3:\"três\", 4:\"quatro\"}\n",
        "dic_exemplo"
      ]
    },
    {
      "cell_type": "code",
      "execution_count": null,
      "metadata": {
        "id": "8ZTc6Gw2-QaH"
      },
      "outputs": [],
      "source": [
        "# Criando uma cópia de dic_exemplo usando o método copy()\n",
        "dic_exemplo2 = dic_exemplo.copy()\n",
        "dic_exemplo2"
      ]
    },
    {
      "cell_type": "markdown",
      "metadata": {
        "id": "NWTS5uLy-QaJ"
      },
      "source": [
        "**Obs:** Se simplesmente atribuirmos dic_exemplo a dic_exemplo2 (**`dic_exemplo2 = dic_exemplo`**), não estaremos copiando seus elementos, mas criando uma **referência** (ou um apelido)."
      ]
    },
    {
      "cell_type": "markdown",
      "metadata": {
        "id": "iu1b9wHw-QaK"
      },
      "source": [
        "##### **fromkeys()**"
      ]
    },
    {
      "cell_type": "code",
      "execution_count": null,
      "metadata": {
        "id": "NoJaHbjl-QaK"
      },
      "outputs": [],
      "source": [
        "# Criando um novo dicionário a partir da seleção das chaves que desejamos\n",
        "dic_num_pares = dict.fromkeys([2, 4, 6, 8, 10])\n",
        "dic_num_pares"
      ]
    },
    {
      "cell_type": "code",
      "execution_count": null,
      "metadata": {
        "id": "A1dOgetv-QaM"
      },
      "outputs": [],
      "source": [
        "# Se desejarmos atribuir um valor default, basta informar após a lista com as chaves\n",
        "dic_num_pares = dict.fromkeys([2, 4, 6, 8, 10], \"par\")\n",
        "dic_num_pares"
      ]
    },
    {
      "cell_type": "markdown",
      "metadata": {
        "id": "KdvGZ5jz-QaN"
      },
      "source": [
        "##### **get()**"
      ]
    },
    {
      "cell_type": "code",
      "execution_count": null,
      "metadata": {
        "id": "dd3Na1n6-QaO"
      },
      "outputs": [],
      "source": [
        "# O método get retorna o valor associado a uma chave\n",
        "# Visualizando o valor associado à chave 2\n",
        "dic_exemplo.get(2)"
      ]
    },
    {
      "cell_type": "markdown",
      "metadata": {
        "id": "STBO2npg-QaQ"
      },
      "source": [
        "##### **items()**"
      ]
    },
    {
      "cell_type": "code",
      "execution_count": null,
      "metadata": {
        "id": "u7wCTkI8-QaR"
      },
      "outputs": [],
      "source": [
        "# Visualizando os pares chave/valor do dicionário (chave e valor)\n",
        "dic_exemplo.items()"
      ]
    },
    {
      "cell_type": "markdown",
      "metadata": {
        "id": "ATKEBIjD-QaT"
      },
      "source": [
        "##### **keys()**"
      ]
    },
    {
      "cell_type": "code",
      "execution_count": null,
      "metadata": {
        "id": "nJHluzeg-QaT"
      },
      "outputs": [],
      "source": [
        "# Visualizando as chaves de um dicionário (chaves)\n",
        "dic_exemplo.keys()"
      ]
    },
    {
      "cell_type": "markdown",
      "metadata": {
        "id": "igN_uhwp-QaU"
      },
      "source": [
        "##### **pop()**"
      ]
    },
    {
      "cell_type": "code",
      "execution_count": null,
      "metadata": {
        "id": "twEfzXH9-QaV"
      },
      "outputs": [],
      "source": [
        "# Removendo o par chave/valor associado à chave 1\n",
        "dic_exemplo.pop(1)\n",
        "dic_exemplo"
      ]
    },
    {
      "cell_type": "code",
      "execution_count": null,
      "metadata": {
        "id": "HPRkhI_R-QaW"
      },
      "outputs": [],
      "source": [
        "# Podemos remover e armazenar o valor removido em uma variável\n",
        "valor = dic_exemplo.pop(4)\n",
        "dic_exemplo"
      ]
    },
    {
      "cell_type": "code",
      "execution_count": null,
      "metadata": {
        "id": "hqowNlxl-QaY"
      },
      "outputs": [],
      "source": [
        "# Visualizando o conteúdo armazenado na variável valor\n",
        "valor"
      ]
    },
    {
      "cell_type": "markdown",
      "metadata": {
        "id": "09p-5Hfu-Qa0"
      },
      "source": [
        "**Como remover o estado de Tocantins do dicionário Centro Oeste?**"
      ]
    },
    {
      "cell_type": "code",
      "execution_count": null,
      "metadata": {
        "id": "FN3smn3B-Qa1"
      },
      "outputs": [],
      "source": [
        "# Numa primeira versão desse Notebook, o exemplo do pop() seria a remoção do estado de Tocantins,\n",
        "# que não faz parte da região Centro-Oeste, mas da região Norte. Para removermos Tocantins do dicionário,\n",
        "# usamos então o método pop(), passando por parâmetro a sigla do estado \"TO\"\n",
        "dic_estados_centro_oeste.pop(\"TO\")"
      ]
    },
    {
      "cell_type": "markdown",
      "metadata": {
        "id": "EB1Ki1U5-Qaa"
      },
      "source": [
        "##### **popitem()**"
      ]
    },
    {
      "cell_type": "code",
      "execution_count": null,
      "metadata": {
        "id": "Yr9ikMfh-Qab"
      },
      "outputs": [],
      "source": [
        "# Removendo o último par chave/valor adicionado ao dicionário\n",
        "removido = dic_num_pares.popitem()"
      ]
    },
    {
      "cell_type": "code",
      "execution_count": null,
      "metadata": {
        "id": "g7_zQj3D-Qad"
      },
      "outputs": [],
      "source": [
        "# Visualizando o valor removido\n",
        "removido"
      ]
    },
    {
      "cell_type": "code",
      "execution_count": null,
      "metadata": {
        "id": "zajJPcZW-Qag"
      },
      "outputs": [],
      "source": [
        "# Visualizando o dicionário após a remoção do último par chave/valor\n",
        "dic_num_pares"
      ]
    },
    {
      "cell_type": "markdown",
      "metadata": {
        "id": "fS8cUw9y-Qai"
      },
      "source": [
        "##### **setdefault()**"
      ]
    },
    {
      "cell_type": "code",
      "execution_count": null,
      "metadata": {
        "id": "9BvZJ-xV-Qai"
      },
      "outputs": [],
      "source": [
        "# Verificando o valor associado à chave \"PA\"\n",
        "dic_estados.setdefault(\"PA\")"
      ]
    },
    {
      "cell_type": "code",
      "execution_count": null,
      "metadata": {
        "id": "Nji0a9Bp-Qaj"
      },
      "outputs": [],
      "source": [
        "# Verificando o valor associado à chave \"ES\".\n",
        "dic_estados.setdefault(\"ES\")\n",
        "# Como essa chave não existe, ela é adicionada pelo método setdefault ao dicionário com o valor None"
      ]
    },
    {
      "cell_type": "code",
      "execution_count": null,
      "metadata": {
        "id": "5FW-86-R-Qam"
      },
      "outputs": [],
      "source": [
        "# Visualizando o conteúdo de dic_estados\n",
        "dic_estados"
      ]
    },
    {
      "cell_type": "code",
      "execution_count": null,
      "metadata": {
        "id": "CF4Z4fla-Qao"
      },
      "outputs": [],
      "source": [
        "# Nesse caso foi passado que o valor \"Santa Catarina\"\n",
        "dic_estados.setdefault(\"SC\", \"Santa Catarina\")"
      ]
    },
    {
      "cell_type": "code",
      "execution_count": null,
      "metadata": {
        "id": "VrDdnaUV-Qar"
      },
      "outputs": [],
      "source": [
        "# Visualizando o conteúdo de dic_estados\n",
        "dic_estados"
      ]
    },
    {
      "cell_type": "markdown",
      "metadata": {
        "id": "AQ8dyCmE-Qat"
      },
      "source": [
        "##### **update()**"
      ]
    },
    {
      "cell_type": "code",
      "execution_count": null,
      "metadata": {
        "id": "P4toAjlk-Qat"
      },
      "outputs": [],
      "source": [
        "# Definindo o dicionário dic_estados_centro_oeste com alguns dos estados da região Centro Oeste\n",
        "# O estado do Tocantins foi inserido de forma errada na região de forma proposital\n",
        "dic_estados_centro_oeste = {\"MS\": \"Mato Grosso do Sul\", \"TO\": \"Tocantins\", \"GO\": \"Goiás\"}\n",
        "dic_estados_centro_oeste"
      ]
    },
    {
      "cell_type": "code",
      "execution_count": null,
      "metadata": {
        "id": "AxObFRCE-Qaw"
      },
      "outputs": [],
      "source": [
        "# Adicionando os estados do Centro Oeste ao dicionário dic_estados\n",
        "dic_estados.update(dic_estados_centro_oeste)\n",
        "dic_estados"
      ]
    },
    {
      "cell_type": "markdown",
      "metadata": {
        "id": "c_gGv-4y-Qay"
      },
      "source": [
        "##### **values()**"
      ]
    },
    {
      "cell_type": "code",
      "execution_count": null,
      "metadata": {
        "id": "l-7o1yQ7-Qay"
      },
      "outputs": [],
      "source": [
        "# Visualizando os valores de um dicionário\n",
        "dic_estados.values()"
      ]
    }
  ],
  "metadata": {
    "colab": {
      "provenance": [],
      "authorship_tag": "ABX9TyPTZ/WQCiV0G3c/R7DZi6H+",
      "include_colab_link": true
    },
    "kernelspec": {
      "display_name": "Python 3",
      "name": "python3"
    }
  },
  "nbformat": 4,
  "nbformat_minor": 0
}