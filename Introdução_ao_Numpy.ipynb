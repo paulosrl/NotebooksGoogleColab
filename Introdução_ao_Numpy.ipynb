{
  "nbformat": 4,
  "nbformat_minor": 0,
  "metadata": {
    "kernelspec": {
      "display_name": "Python 3",
      "language": "python",
      "name": "python3"
    },
    "language_info": {
      "codemirror_mode": {
        "name": "ipython",
        "version": 3
      },
      "file_extension": ".py",
      "mimetype": "text/x-python",
      "name": "python",
      "nbconvert_exporter": "python",
      "pygments_lexer": "ipython3",
      "version": "3.6.3"
    },
    "colab": {
      "provenance": [],
      "collapsed_sections": [
        "ltu83zWmKvob",
        "3oDAZ1XWKvog",
        "TgGfNiosKvop",
        "ZFtJX2CVKvo2",
        "fJ7dU_KkKvo8",
        "g2GRe-3bKvpI",
        "lygtt4_OKvpO"
      ],
      "include_colab_link": true
    }
  },
  "cells": [
    {
      "cell_type": "markdown",
      "metadata": {
        "id": "view-in-github",
        "colab_type": "text"
      },
      "source": [
        "<a href=\"https://colab.research.google.com/github/paulosrl/NotebooksGoogleColab/blob/main/Introdu%C3%A7%C3%A3o_ao_Numpy.ipynb\" target=\"_parent\"><img src=\"https://colab.research.google.com/assets/colab-badge.svg\" alt=\"Open In Colab\"/></a>"
      ]
    },
    {
      "cell_type": "markdown",
      "metadata": {
        "id": "gRSHjlrzKvn4"
      },
      "source": [
        "# NumPy - Numerical Python\n",
        "\n",
        "## 01. Criando arrays NumPy"
      ]
    },
    {
      "cell_type": "code",
      "metadata": {
        "id": "0AHJq6YMKvn5"
      },
      "source": [
        "# Importando o NumPy\n",
        "import numpy as np"
      ],
      "execution_count": null,
      "outputs": []
    },
    {
      "cell_type": "markdown",
      "metadata": {
        "id": "L94tycmBKvn8"
      },
      "source": [
        "### Criando arrays de 1 dimensão"
      ]
    },
    {
      "cell_type": "code",
      "metadata": {
        "id": "UPNbQvNEKvn9"
      },
      "source": [
        "a1D = np.array([1, 2, 3])\n",
        "a1D"
      ],
      "execution_count": null,
      "outputs": []
    },
    {
      "cell_type": "code",
      "metadata": {
        "id": "87phlug0Kvn_"
      },
      "source": [
        "# O objeto criado é um ndarray: n-dimensional array\n",
        "type(a1D)"
      ],
      "execution_count": null,
      "outputs": []
    },
    {
      "cell_type": "code",
      "metadata": {
        "id": "sk9dEkYUKvoB"
      },
      "source": [
        "# Verificando o tipo dos elementos\n",
        "a1D.dtype"
      ],
      "execution_count": null,
      "outputs": []
    },
    {
      "cell_type": "code",
      "metadata": {
        "id": "7iByyCEUKvoD"
      },
      "source": [
        "b1D = np.array([1, 2, 3], dtype = float)\n",
        "b1D"
      ],
      "execution_count": null,
      "outputs": []
    },
    {
      "cell_type": "code",
      "metadata": {
        "id": "WylqXhZ8KvoG"
      },
      "source": [
        "b1D.dtype"
      ],
      "execution_count": null,
      "outputs": []
    },
    {
      "cell_type": "code",
      "metadata": {
        "id": "axqjfCLmKvoI"
      },
      "source": [
        "c1D = np.array([1, 2, 3], dtype = str)\n",
        "c1D"
      ],
      "execution_count": null,
      "outputs": []
    },
    {
      "cell_type": "code",
      "metadata": {
        "id": "B6_Ma299KvoK"
      },
      "source": [
        "# str > float > int > bool\n",
        "d1D = np.array([1, 3.14, \"NumPy\", True])\n",
        "d1D"
      ],
      "execution_count": null,
      "outputs": []
    },
    {
      "cell_type": "code",
      "metadata": {
        "id": "z7v5FRmvKvoM"
      },
      "source": [
        "e1D = np.array([1, 3.14, False, True])\n",
        "e1D"
      ],
      "execution_count": null,
      "outputs": []
    },
    {
      "cell_type": "code",
      "metadata": {
        "id": "E36cGEcGKvoO"
      },
      "source": [
        "e1D.dtype"
      ],
      "execution_count": null,
      "outputs": []
    },
    {
      "cell_type": "code",
      "metadata": {
        "id": "Am6llZR_KvoQ"
      },
      "source": [
        "f1D = np.array([1, False, True])\n",
        "f1D"
      ],
      "execution_count": null,
      "outputs": []
    },
    {
      "cell_type": "code",
      "metadata": {
        "id": "fhQNBxPRKvoV"
      },
      "source": [
        "f1D.dtype"
      ],
      "execution_count": null,
      "outputs": []
    },
    {
      "cell_type": "code",
      "metadata": {
        "id": "fLmsh0OHKvoX"
      },
      "source": [
        "g1D = np.array([False, True])\n",
        "g1D"
      ],
      "execution_count": null,
      "outputs": []
    },
    {
      "cell_type": "code",
      "metadata": {
        "id": "zkDlbD10KvoZ"
      },
      "source": [
        "g1D.dtype"
      ],
      "execution_count": null,
      "outputs": []
    },
    {
      "cell_type": "markdown",
      "metadata": {
        "id": "ltu83zWmKvob"
      },
      "source": [
        "### Criando arrays de 2 dimensões"
      ]
    },
    {
      "cell_type": "code",
      "metadata": {
        "id": "go0zSLWFKvoc"
      },
      "source": [
        "a2D = np.array([ [1, 2, 3], [4, 5, 6], [7, 8, 9]])\n",
        "a2D"
      ],
      "execution_count": null,
      "outputs": []
    },
    {
      "cell_type": "code",
      "metadata": {
        "id": "D6pQb0_TKvod"
      },
      "source": [
        "a2D.dtype"
      ],
      "execution_count": null,
      "outputs": []
    },
    {
      "cell_type": "markdown",
      "metadata": {
        "id": "3oDAZ1XWKvog"
      },
      "source": [
        "### Criando arrays de 3 dimensões"
      ]
    },
    {
      "cell_type": "code",
      "metadata": {
        "id": "Mbndzqx6Kvog"
      },
      "source": [
        "a3D = np.array( [ [ [1,2,3], [4,5,6], [7,8,9] ], [ [11,12,13], [14,15,16], [17,18,19] ], [ [21,22,23], [24,25,26], [27,28,29] ]])\n",
        "a3D"
      ],
      "execution_count": null,
      "outputs": []
    },
    {
      "cell_type": "markdown",
      "metadata": {
        "id": "JV8tStYtKvoi"
      },
      "source": [
        "## Outras formas de criar arrays\n",
        "\n",
        "### Arrays preenchidos com zeros - zeros()"
      ]
    },
    {
      "cell_type": "code",
      "metadata": {
        "id": "GmIgwQGEKvoi"
      },
      "source": [
        "# 1 dimensão\n",
        "azeros = np.zeros(5)\n",
        "azeros"
      ],
      "execution_count": null,
      "outputs": []
    },
    {
      "cell_type": "code",
      "metadata": {
        "id": "TRNUjnAaKvok"
      },
      "source": [
        "# 2 dimensões\n",
        "bzeros = np.zeros((3, 4)) # 3 linhas e 4 colunas\n",
        "bzeros"
      ],
      "execution_count": null,
      "outputs": []
    },
    {
      "cell_type": "code",
      "metadata": {
        "id": "q1Eq-EOhKvom"
      },
      "source": [
        "# 3 dimensões\n",
        "czeros = np.zeros((3, 4, 2)) # 3 páginas, 4 linhas e 2 colunas\n",
        "czeros"
      ],
      "execution_count": null,
      "outputs": []
    },
    {
      "cell_type": "code",
      "metadata": {
        "id": "jQltwLCUKvoo"
      },
      "source": [
        "# 2 dimensões\n",
        "dzeros = np.zeros((3, 4), dtype = int) # 3 linhas e 4 colunas\n",
        "dzeros"
      ],
      "execution_count": null,
      "outputs": []
    },
    {
      "cell_type": "markdown",
      "metadata": {
        "id": "TgGfNiosKvop"
      },
      "source": [
        "### Arrays preenchidos com 1's - ones()"
      ]
    },
    {
      "cell_type": "code",
      "metadata": {
        "id": "eGhsUiGhKvoq"
      },
      "source": [
        "# 1 dimensão\n",
        "a_um_1D = np.ones(5)\n",
        "a_um_1D"
      ],
      "execution_count": null,
      "outputs": []
    },
    {
      "cell_type": "code",
      "metadata": {
        "id": "rnBQTlhtKvos"
      },
      "source": [
        "b_um_1D = np.ones(10, dtype = str)\n",
        "b_um_1D"
      ],
      "execution_count": null,
      "outputs": []
    },
    {
      "cell_type": "code",
      "metadata": {
        "id": "H1oyxSAOKvov"
      },
      "source": [
        "c_um_1D = np.ones(5, dtype = int)\n",
        "c_um_1D"
      ],
      "execution_count": null,
      "outputs": []
    },
    {
      "cell_type": "code",
      "metadata": {
        "id": "Lf-68ThQKvox"
      },
      "source": [
        "# 2 dimensões\n",
        "d_um_2D = np.ones((4, 3)) # 4 linhas e 3 colunas\n",
        "d_um_2D"
      ],
      "execution_count": null,
      "outputs": []
    },
    {
      "cell_type": "code",
      "metadata": {
        "id": "aSiyrgxpKvoz"
      },
      "source": [
        "# 3 dimensões\n",
        "e_um_3D = np.ones((5, 2, 3))\n",
        "e_um_3D"
      ],
      "execution_count": null,
      "outputs": []
    },
    {
      "cell_type": "code",
      "metadata": {
        "id": "WgPWV6WLKvo0"
      },
      "source": [
        "# 4 dimensões\n",
        "f_um_4D = np.ones((3, 4, 2, 3))\n",
        "f_um_4D"
      ],
      "execution_count": null,
      "outputs": []
    },
    {
      "cell_type": "markdown",
      "metadata": {
        "id": "ZFtJX2CVKvo2"
      },
      "source": [
        "### Arrays preenchidos com faixas de valores - arange()"
      ]
    },
    {
      "cell_type": "code",
      "metadata": {
        "id": "bXUWbK7gKvo3"
      },
      "source": [
        "# Cria um ndarray preenchido com  os elementos de 0 a n-1\n",
        "# No exemplo abaixo vai criar um ndarray com os elementos 0 a 9\n",
        "a1D = np.arange(10)\n",
        "a1D"
      ],
      "execution_count": null,
      "outputs": []
    },
    {
      "cell_type": "code",
      "metadata": {
        "id": "jkU5x-FvKvo5"
      },
      "source": [
        "# Cria um ndarray preenchido com os elementos variando entre o valor inicial e o valor final - 1\n",
        "# Nesse exemplo vai criar um array com os elementos de 5 a 14\n",
        "b1D = np.arange(5, 15)\n",
        "b1D"
      ],
      "execution_count": null,
      "outputs": []
    },
    {
      "cell_type": "code",
      "metadata": {
        "id": "NKN5zxheKvo6"
      },
      "source": [
        "# Cria um ndarray preenchido com os elementos variando entre o valor inicial e o valor final - 1, com um determinado step\n",
        "# No exemplo vai criar um array com os elementos de 5 a 100, com passo 10. Ou seja: 5, 15, 25...95\n",
        "c1D = np.arange(5,100, 10)\n",
        "c1D"
      ],
      "execution_count": null,
      "outputs": []
    },
    {
      "cell_type": "markdown",
      "metadata": {
        "id": "fJ7dU_KkKvo8"
      },
      "source": [
        "### Criando arrays preenchidos com valores igualmente espaçados - linspace()"
      ]
    },
    {
      "cell_type": "code",
      "metadata": {
        "id": "-Ep4c1NJKvo8"
      },
      "source": [
        "# Cria um array com n elementos entre o valor inicial e valor final, igualmente espaçados\n",
        "d1D = np.linspace(0,10, 2) # Cria um array com 2 valores entre 0 e 10\n",
        "d1D"
      ],
      "execution_count": null,
      "outputs": []
    },
    {
      "cell_type": "code",
      "metadata": {
        "id": "qYrz6Y7LKvpA"
      },
      "source": [
        "e1D = np.linspace(0,10, 4) # Cria um array com 2 valores entre 0 e 10\n",
        "e1D"
      ],
      "execution_count": null,
      "outputs": []
    },
    {
      "cell_type": "code",
      "metadata": {
        "id": "udk0nqg6KvpB"
      },
      "source": [
        "f1D = np.linspace(1,1000) # Se não for passada a quantidade de elementos, o padrão é gerar 50 elementos\n",
        "f1D"
      ],
      "execution_count": null,
      "outputs": []
    },
    {
      "cell_type": "code",
      "metadata": {
        "id": "Hu-N8i0_KvpD"
      },
      "source": [
        "g1D = np.linspace(1,1000, dtype = int) # gerando int, a função simplesmente corta as casas decimais\n",
        "g1D"
      ],
      "execution_count": null,
      "outputs": []
    },
    {
      "cell_type": "code",
      "metadata": {
        "id": "BvM2wEqaKvpE"
      },
      "source": [
        "h1D = np.linspace(0,50, 10, endpoint = True) # O valor final é incluído\n",
        "h1D\n"
      ],
      "execution_count": null,
      "outputs": []
    },
    {
      "cell_type": "code",
      "metadata": {
        "id": "HAWHr_vbKvpG"
      },
      "source": [
        "i1D = np.linspace(0,50, 10, endpoint = False) # O valor final não é incluído\n",
        "i1D"
      ],
      "execution_count": null,
      "outputs": []
    },
    {
      "cell_type": "markdown",
      "metadata": {
        "id": "g2GRe-3bKvpI"
      },
      "source": [
        "### Criando arrays preenchidos com um único valor passado por parâmetro - full()"
      ]
    },
    {
      "cell_type": "code",
      "metadata": {
        "id": "DChtTXa-KvpI"
      },
      "source": [
        "a1D = np.full(10, 5) # ndarray contendo 10 números 5\n",
        "a1D"
      ],
      "execution_count": null,
      "outputs": []
    },
    {
      "cell_type": "code",
      "metadata": {
        "id": "K2zAyh3TKvpK"
      },
      "source": [
        "a2D = np.full((3, 5), 3)  # ndarray de 3 linhas e 5 colunas contendo o número 3\n",
        "a2D"
      ],
      "execution_count": null,
      "outputs": []
    },
    {
      "cell_type": "code",
      "metadata": {
        "id": "0_9j8RD0KvpM"
      },
      "source": [
        "a3D = np.full((3, 5, 8), -1)  # ndarray de 3 páginas, 5 linhas e 8 colunas contendo o número -1\n",
        "a3D"
      ],
      "execution_count": null,
      "outputs": []
    },
    {
      "cell_type": "markdown",
      "metadata": {
        "id": "lygtt4_OKvpO"
      },
      "source": [
        "### Criando matriz identidade - eye()"
      ]
    },
    {
      "cell_type": "code",
      "metadata": {
        "collapsed": true,
        "id": "NHfXz9S4KvpO"
      },
      "source": [
        "ident = np.eye(5) # Cria uma matriz 5x5 preenchida com 1s na diagonal principal e 0 nas posições restantes\n",
        "ident"
      ],
      "execution_count": null,
      "outputs": []
    },
    {
      "cell_type": "markdown",
      "metadata": {
        "id": "SpD4rAVMKvpQ"
      },
      "source": [
        "### Criando matriz com elementos aleatórios"
      ]
    },
    {
      "cell_type": "code",
      "metadata": {
        "id": "OPfQNPyEKvpR"
      },
      "source": [
        "a1D = np.random.randint(0, 100, 10) # Cria um ndarray com 10 elementos entre 0 e 99\n",
        "a1D"
      ],
      "execution_count": null,
      "outputs": []
    },
    {
      "cell_type": "code",
      "metadata": {
        "id": "vF8ltKimKvpT"
      },
      "source": [
        "a2D = np.random.randint(1, 500, (4,5))\n",
        "a2D"
      ],
      "execution_count": null,
      "outputs": []
    },
    {
      "cell_type": "code",
      "metadata": {
        "id": "GQyEKGPBKvpV"
      },
      "source": [
        "# Gerando 10 combinações para a mega-sena\n",
        "# Valores vão de 1 a 60, 10 páginas, 1 linha, 6 colunas\n",
        "a3D = np.random.randint(1,61,(10,1,6))\n",
        "a3D"
      ],
      "execution_count": null,
      "outputs": []
    },
    {
      "cell_type": "code",
      "metadata": {
        "id": "RzYwgTo1KvpX"
      },
      "source": [
        "b1D = np.random.random(10) # Cria um ndarray contendo 10 elementos aleatórios entre 0 e 1\n",
        "b1D"
      ],
      "execution_count": null,
      "outputs": []
    },
    {
      "cell_type": "code",
      "metadata": {
        "id": "vJIYTslbKvpZ"
      },
      "source": [
        "c2D = np.random.random((4,5)) # Cria um ndarray de 4 linhas e 5 colunas contendo elementos aleatórios entre 0 e 1\n",
        "c2D"
      ],
      "execution_count": null,
      "outputs": []
    },
    {
      "cell_type": "code",
      "metadata": {
        "id": "FTvd7r_TKxcY"
      },
      "source": [],
      "execution_count": null,
      "outputs": []
    },
    {
      "cell_type": "markdown",
      "metadata": {
        "id": "_3fezYYQLZOg"
      },
      "source": [
        "# 02. Verificando propriedades de um ndarray"
      ]
    },
    {
      "cell_type": "code",
      "metadata": {
        "id": "q07jMIyqLZOh"
      },
      "source": [
        "# Importando o NumPy\n",
        "import numpy as np"
      ],
      "execution_count": null,
      "outputs": []
    },
    {
      "cell_type": "code",
      "metadata": {
        "id": "W-RJzipxLZOk"
      },
      "source": [
        "# Cria um ndarray com 10 elementos entre 0 e 9\n",
        "a1D = np.random.randint(0, 10, 10)\n",
        "a1D"
      ],
      "execution_count": null,
      "outputs": []
    },
    {
      "cell_type": "code",
      "metadata": {
        "scrolled": true,
        "id": "7wqteaewLZOm"
      },
      "source": [
        "a2D = np.random.randint(1, 101, (4,5)) # Cria um ndarray de 4 linhas x 5 colunas com elementos entre 1 e 100\n",
        "a2D"
      ],
      "execution_count": null,
      "outputs": []
    },
    {
      "cell_type": "code",
      "metadata": {
        "id": "Jt6c8gT3LZOo"
      },
      "source": [
        "a3D = np.random.random((3,4,5)) # Cria um ndarray de 3 páginas x 4 linhas x 5 colunas com elementos entre 0 e 1\n",
        "a3D"
      ],
      "execution_count": null,
      "outputs": []
    },
    {
      "cell_type": "markdown",
      "metadata": {
        "id": "3GpqDq_-LZOq"
      },
      "source": [
        "### Verificando o formato e quantidade de dimensões de um array - shape e dim"
      ]
    },
    {
      "cell_type": "code",
      "metadata": {
        "id": "D_GWkr03LZOr"
      },
      "source": [
        "# A propriedade shape retorna o formato do array\n",
        "a1D.shape"
      ],
      "execution_count": null,
      "outputs": []
    },
    {
      "cell_type": "code",
      "metadata": {
        "id": "EnhBzehMLZOt"
      },
      "source": [
        "a2D.shape"
      ],
      "execution_count": null,
      "outputs": []
    },
    {
      "cell_type": "code",
      "metadata": {
        "id": "Q6ITgfUhLZOv"
      },
      "source": [
        "a3D.shape"
      ],
      "execution_count": null,
      "outputs": []
    },
    {
      "cell_type": "code",
      "metadata": {
        "id": "znCEc-3KLZOx"
      },
      "source": [
        "# A propriedade ndim retorna o números de dimensões do array\n",
        "a1D.ndim"
      ],
      "execution_count": null,
      "outputs": []
    },
    {
      "cell_type": "code",
      "metadata": {
        "id": "k_XgPF3MLZOz"
      },
      "source": [
        "a2D.ndim"
      ],
      "execution_count": null,
      "outputs": []
    },
    {
      "cell_type": "code",
      "metadata": {
        "id": "Q6LCCMxYLZO1"
      },
      "source": [
        "a3D.ndim"
      ],
      "execution_count": null,
      "outputs": []
    },
    {
      "cell_type": "markdown",
      "metadata": {
        "id": "jKb8RXjJLZO3"
      },
      "source": [
        "### Verificando o tamanho das dimensões de um array - len"
      ]
    },
    {
      "cell_type": "code",
      "metadata": {
        "id": "xOnPj_msLZO4"
      },
      "source": [
        "len(a1D) # Retorna o tamanho da 1a dimensão (quantidade de colunas)"
      ],
      "execution_count": null,
      "outputs": []
    },
    {
      "cell_type": "code",
      "metadata": {
        "id": "l2FKDSdFLZO8"
      },
      "source": [
        "len(a2D) # Retorna o tamanho da 1a dimensão (quantidade de linhas)"
      ],
      "execution_count": null,
      "outputs": []
    },
    {
      "cell_type": "code",
      "metadata": {
        "id": "Z5nuWisJLZO-"
      },
      "source": [
        "len(a2D[0]) # Retorna o tamanho da 2a dimensão (quantidade de colunas)"
      ],
      "execution_count": null,
      "outputs": []
    },
    {
      "cell_type": "code",
      "metadata": {
        "id": "t633q5BaLZPA"
      },
      "source": [
        "len(a3D) # Retorna o tamanho da 1a dimensão (quantidade de páginas)"
      ],
      "execution_count": null,
      "outputs": []
    },
    {
      "cell_type": "code",
      "metadata": {
        "id": "vHzainP-LZPB"
      },
      "source": [
        "len(a3D[0]) # Retorna o tamanho da 2a dimensão (quantidade de linhas)"
      ],
      "execution_count": null,
      "outputs": []
    },
    {
      "cell_type": "code",
      "metadata": {
        "id": "HcTZHb-oLZPE"
      },
      "source": [
        "len(a3D[0][0]) # Retorna o tamanho da 3a dimensão (quantidade de colunas)"
      ],
      "execution_count": null,
      "outputs": []
    },
    {
      "cell_type": "markdown",
      "metadata": {
        "id": "HBBtJJvcLZPF"
      },
      "source": [
        "### Verificando a quantidade de elementos de um array - size"
      ]
    },
    {
      "cell_type": "code",
      "metadata": {
        "id": "9D9WUIXULZPG"
      },
      "source": [
        "a1D.size"
      ],
      "execution_count": null,
      "outputs": []
    },
    {
      "cell_type": "code",
      "metadata": {
        "id": "a69l8HZBLZPI"
      },
      "source": [
        "a2D.size"
      ],
      "execution_count": null,
      "outputs": []
    },
    {
      "cell_type": "code",
      "metadata": {
        "id": "n0YkG3YVLZPJ"
      },
      "source": [
        "a3D.size"
      ],
      "execution_count": null,
      "outputs": []
    },
    {
      "cell_type": "markdown",
      "metadata": {
        "id": "0BhoJ7d4LZPL"
      },
      "source": [
        "### Verificando o tipo dos elementos um array - dtype"
      ]
    },
    {
      "cell_type": "code",
      "metadata": {
        "id": "cZuzUPN9LZPL"
      },
      "source": [
        "a1D.dtype"
      ],
      "execution_count": null,
      "outputs": []
    },
    {
      "cell_type": "code",
      "metadata": {
        "id": "EHr7M38oLZPN"
      },
      "source": [
        "a1D.dtype.name"
      ],
      "execution_count": null,
      "outputs": []
    },
    {
      "cell_type": "code",
      "metadata": {
        "id": "ndzXtLJwLZPP"
      },
      "source": [
        "a2D.dtype"
      ],
      "execution_count": null,
      "outputs": []
    },
    {
      "cell_type": "code",
      "metadata": {
        "id": "R_sE8EPxLZPQ"
      },
      "source": [
        "a2D.dtype.name"
      ],
      "execution_count": null,
      "outputs": []
    },
    {
      "cell_type": "code",
      "metadata": {
        "id": "EatwAS3jLZPS"
      },
      "source": [
        "a3D.dtype"
      ],
      "execution_count": null,
      "outputs": []
    },
    {
      "cell_type": "code",
      "metadata": {
        "id": "QfsDtMXrLZPU"
      },
      "source": [
        "a3D.dtype.name"
      ],
      "execution_count": null,
      "outputs": []
    },
    {
      "cell_type": "markdown",
      "metadata": {
        "id": "zKvqAGbcLdca"
      },
      "source": [
        "# 03. Indexação e fatiamento (slicing)"
      ]
    },
    {
      "cell_type": "code",
      "metadata": {
        "id": "v9aHCexCLdca"
      },
      "source": [
        "# Importando o NumPy\n",
        "import numpy as np"
      ],
      "execution_count": null,
      "outputs": []
    },
    {
      "cell_type": "code",
      "metadata": {
        "id": "nArfOP4GLdcd"
      },
      "source": [
        "# Cria um ndarray com 10 elementos entre 0 e 9\n",
        "a1D = np.random.randint(0, 10, 10)\n",
        "a1D"
      ],
      "execution_count": null,
      "outputs": []
    },
    {
      "cell_type": "code",
      "metadata": {
        "id": "A6c3ucnnLdcg"
      },
      "source": [
        "a2D = np.random.randint(1, 101, (4,5)) # Cria um ndarray de 4 linhas x 5 colunas com elementos entre 1 e 100\n",
        "a2D"
      ],
      "execution_count": null,
      "outputs": []
    },
    {
      "cell_type": "code",
      "metadata": {
        "id": "qX2BNDPcLdci"
      },
      "source": [
        "a3D = np.random.random((3,4,5)) # Cria um ndarray de 3 páginas x 4 linhas x 5 colunas com elementos entre 0 e 1\n",
        "a3D"
      ],
      "execution_count": null,
      "outputs": []
    },
    {
      "cell_type": "markdown",
      "metadata": {
        "id": "tKdsg-wrLdck"
      },
      "source": [
        "### Acessando elementos específicos"
      ]
    },
    {
      "cell_type": "code",
      "metadata": {
        "id": "grd47fYtLdck"
      },
      "source": [
        "# Acessando elementos de um ndarray de 1 dimensão\n",
        "a1D"
      ],
      "execution_count": null,
      "outputs": []
    },
    {
      "cell_type": "code",
      "metadata": {
        "id": "A4j_cjK7Ldcm"
      },
      "source": [
        "# nome_do_array[índice]\n",
        "a1D[0]"
      ],
      "execution_count": null,
      "outputs": []
    },
    {
      "cell_type": "code",
      "metadata": {
        "id": "52FkXkK8Ldcp"
      },
      "source": [
        "a1D[2]"
      ],
      "execution_count": null,
      "outputs": []
    },
    {
      "cell_type": "code",
      "metadata": {
        "id": "Pc0IObdzLdcs"
      },
      "source": [
        "a1D[-1]"
      ],
      "execution_count": null,
      "outputs": []
    },
    {
      "cell_type": "code",
      "metadata": {
        "id": "PmEucCQ_Ldcu"
      },
      "source": [
        "indices = [3, 0, -1] # Definindo uma lista com os índices que se deseja acessar\n",
        "a1D[indices]"
      ],
      "execution_count": null,
      "outputs": []
    },
    {
      "cell_type": "code",
      "metadata": {
        "id": "nmeSZK6hLdcv"
      },
      "source": [
        "# Acessando elementos de um ndarray de 2 dimensões\n",
        "a2D"
      ],
      "execution_count": null,
      "outputs": []
    },
    {
      "cell_type": "code",
      "metadata": {
        "id": "iEWopdhILdcy"
      },
      "source": [
        "# nome_da_matriz[linha][coluna]\n",
        "a2D[1][2]"
      ],
      "execution_count": null,
      "outputs": []
    },
    {
      "cell_type": "code",
      "metadata": {
        "id": "qiAQ0Q5NLdc0"
      },
      "source": [
        "a2D[3][4]"
      ],
      "execution_count": null,
      "outputs": []
    },
    {
      "cell_type": "code",
      "metadata": {
        "id": "3HIlyyJwLdc2"
      },
      "source": [
        "indice_lin = [0, 1, 2, 3]\n",
        "indice_col = [0, 1, 2, 3]\n",
        "\n",
        "a2D[indice_lin, indice_col]"
      ],
      "execution_count": null,
      "outputs": []
    },
    {
      "cell_type": "code",
      "metadata": {
        "id": "6i5PVnTCLdc4"
      },
      "source": [
        "indice_lin = [0, 1, 2, 3]\n",
        "indice_col = [3, 2, 1, 0]\n",
        "\n",
        "a2D[indice_lin, indice_col]"
      ],
      "execution_count": null,
      "outputs": []
    },
    {
      "cell_type": "code",
      "metadata": {
        "id": "t3L7P9MyLdc6"
      },
      "source": [
        "indice_lin = [3, 2, 1, 0]\n",
        "indice_col = [3, 2, 1, 0]\n",
        "\n",
        "a2D[indice_lin, indice_col]"
      ],
      "execution_count": null,
      "outputs": []
    },
    {
      "cell_type": "code",
      "metadata": {
        "id": "YgvDntoLLdc8"
      },
      "source": [
        "a2D[:,[0,1,2,0]]"
      ],
      "execution_count": null,
      "outputs": []
    },
    {
      "cell_type": "code",
      "metadata": {
        "id": "LEmvoyciLdc-"
      },
      "source": [
        "a2D[:,[0,1,2,0]][[1, 0, 1, 0]]"
      ],
      "execution_count": null,
      "outputs": []
    },
    {
      "cell_type": "code",
      "metadata": {
        "id": "1NmDEltFLddA"
      },
      "source": [
        "a2D"
      ],
      "execution_count": null,
      "outputs": []
    },
    {
      "cell_type": "code",
      "metadata": {
        "id": "d1X0N2qwLddB"
      },
      "source": [
        "a2D[[1, 0, 1, 0]][:,[0,1,2,0]]"
      ],
      "execution_count": null,
      "outputs": []
    },
    {
      "cell_type": "code",
      "metadata": {
        "id": "JUwk14JMLddD"
      },
      "source": [
        "# Acessando elementos de um ndarray de 3 dimensões\n",
        "a3D"
      ],
      "execution_count": null,
      "outputs": []
    },
    {
      "cell_type": "code",
      "metadata": {
        "id": "aF8O2dCkLddF"
      },
      "source": [
        "# nome_do_cubo[página][linha][coluna]\n",
        "a3D[2][0][3]"
      ],
      "execution_count": null,
      "outputs": []
    },
    {
      "cell_type": "code",
      "metadata": {
        "id": "Tj0CS0eELddH"
      },
      "source": [
        "a3D[0][3][1]"
      ],
      "execution_count": null,
      "outputs": []
    },
    {
      "cell_type": "markdown",
      "metadata": {
        "id": "O-trAgdnLddJ"
      },
      "source": [
        "### Fatiamento (slicing)"
      ]
    },
    {
      "cell_type": "code",
      "metadata": {
        "id": "SeJO_a8aLddK"
      },
      "source": [
        "# Array de 1 dimensão\n",
        "a1D"
      ],
      "execution_count": null,
      "outputs": []
    },
    {
      "cell_type": "code",
      "metadata": {
        "id": "b3v4RXTQLddL"
      },
      "source": [
        "a = a1D[1:5] # Índice 1 ao 4\n",
        "a"
      ],
      "execution_count": null,
      "outputs": []
    },
    {
      "cell_type": "code",
      "metadata": {
        "id": "tIEjV6siLddO"
      },
      "source": [
        "b = a1D[0:6] # Índice 0 ao 5\n",
        "b"
      ],
      "execution_count": null,
      "outputs": []
    },
    {
      "cell_type": "code",
      "metadata": {
        "id": "xes8PdeNLddQ"
      },
      "source": [
        "c = a1D[:6] # Do início ao 5\n",
        "c"
      ],
      "execution_count": null,
      "outputs": []
    },
    {
      "cell_type": "code",
      "metadata": {
        "id": "wfrgBYv4LddS"
      },
      "source": [
        "d = a1D[::2] # Do início ao fim, com passo 2\n",
        "d"
      ],
      "execution_count": null,
      "outputs": []
    },
    {
      "cell_type": "code",
      "metadata": {
        "id": "XdLgtW7jLddU"
      },
      "source": [
        "e = a1D[-1::-1] # Do final até o início\n",
        "e"
      ],
      "execution_count": null,
      "outputs": []
    },
    {
      "cell_type": "code",
      "metadata": {
        "id": "0J1oX5C7LddW"
      },
      "source": [
        "# Array de 2 dimensões\n",
        "a2D"
      ],
      "execution_count": null,
      "outputs": []
    },
    {
      "cell_type": "code",
      "metadata": {
        "id": "fRVCaih2LddY"
      },
      "source": [
        "linha0 = a2D[0] # Todos os elementos da linha 0 - outra forma seria: linha0 = a2D[0,:]\n",
        "linha0"
      ],
      "execution_count": null,
      "outputs": []
    },
    {
      "cell_type": "code",
      "metadata": {
        "id": "gvO4B3dCLdda"
      },
      "source": [
        "linha1 = a2D[1,:] # Todos os elementos da linha 1\n",
        "linha1"
      ],
      "execution_count": null,
      "outputs": []
    },
    {
      "cell_type": "code",
      "metadata": {
        "id": "nY6nQ2RvLddc"
      },
      "source": [
        "linha2 = a2D[2,1:4] # Linha 2, colunas 1, 2 e 3\n",
        "linha2"
      ],
      "execution_count": null,
      "outputs": []
    },
    {
      "cell_type": "code",
      "metadata": {
        "id": "OB3hibcbLddd"
      },
      "source": [
        "linha3 = a2D[:][3] # a2D[:] retorna toda a matriz, então de toda a matriz queremos a linha 3 a2D[:][3]\n",
        "linha3"
      ],
      "execution_count": null,
      "outputs": []
    },
    {
      "cell_type": "code",
      "metadata": {
        "id": "0E17vraCLddg"
      },
      "source": [
        "coluna2 = a2D[:,2] # De todas as linhas, selecionar a coluna 2\n",
        "coluna2"
      ],
      "execution_count": null,
      "outputs": []
    },
    {
      "cell_type": "code",
      "metadata": {
        "id": "2pDr-3PGLddh"
      },
      "source": [
        "coluna3 = a2D[1:,3] # Da linha um até a última, selecionar a coluna 3\n",
        "coluna3"
      ],
      "execution_count": null,
      "outputs": []
    },
    {
      "cell_type": "code",
      "metadata": {
        "id": "4IZUJYVJLddj"
      },
      "source": [
        "# Array de 3 dimensões\n",
        "a3D"
      ],
      "execution_count": null,
      "outputs": []
    },
    {
      "cell_type": "code",
      "metadata": {
        "id": "BQ0L5Pl9Lddl"
      },
      "source": [
        "# Acessando a página/face 1\n",
        "face1 = a3D[1]\n",
        "face1"
      ],
      "execution_count": null,
      "outputs": []
    },
    {
      "cell_type": "code",
      "metadata": {
        "id": "5of548UWLddm"
      },
      "source": [
        "# Acessando uma parte da face1\n",
        "subface1 = a3D[1,0:3, 1:4]\n",
        "subface1"
      ],
      "execution_count": null,
      "outputs": []
    },
    {
      "cell_type": "code",
      "metadata": {
        "id": "y0wTU3KqLddo"
      },
      "source": [
        "linha2face0 = a3D[0,2] # outra forma: linha2face0 = a3D[0,2,:]\n",
        "linha2face0"
      ],
      "execution_count": null,
      "outputs": []
    },
    {
      "cell_type": "code",
      "metadata": {
        "id": "1n31rxE9Lddr"
      },
      "source": [
        "a3D"
      ],
      "execution_count": null,
      "outputs": []
    },
    {
      "cell_type": "code",
      "metadata": {
        "id": "_YXrYifqLddt"
      },
      "source": [
        "linha1todasfaces = a3D[:,1] # outra forma: linha1todasfaces = a3D[:,1,:]\n",
        "linha1todasfaces"
      ],
      "execution_count": null,
      "outputs": []
    },
    {
      "cell_type": "code",
      "metadata": {
        "id": "jK06w-fWLddv"
      },
      "source": [
        "coluna3todasfaces = a3D[:,:,3]\n",
        "coluna3todasfaces"
      ],
      "execution_count": null,
      "outputs": []
    },
    {
      "cell_type": "markdown",
      "metadata": {
        "id": "ZjqvQ-cOLddy"
      },
      "source": [
        "### Indexação com booleanos"
      ]
    },
    {
      "cell_type": "code",
      "metadata": {
        "id": "glr3tneNLddy"
      },
      "source": [
        "a2D = np.random.randint(1, 501, (10, 8)) # Cria um ndarray de 4 linhas x 5 colunas com elementos entre 1 e 100\n",
        "a2D"
      ],
      "execution_count": null,
      "outputs": []
    },
    {
      "cell_type": "code",
      "metadata": {
        "id": "MYOPTbFuLdd0"
      },
      "source": [
        "a2D >= 250"
      ],
      "execution_count": null,
      "outputs": []
    },
    {
      "cell_type": "code",
      "metadata": {
        "id": "qzyJPPKULdd3"
      },
      "source": [
        "a2D[a2D >= 250]"
      ],
      "execution_count": null,
      "outputs": []
    },
    {
      "cell_type": "code",
      "metadata": {
        "id": "6WZHiBzyLdd5"
      },
      "source": [
        "a2D.mean()"
      ],
      "execution_count": null,
      "outputs": []
    },
    {
      "cell_type": "code",
      "metadata": {
        "id": "JDxicbXELdd6"
      },
      "source": [
        "a2D[a2D <= a2D.mean()]"
      ],
      "execution_count": null,
      "outputs": []
    },
    {
      "cell_type": "markdown",
      "metadata": {
        "id": "QaC0oNWYLhTh"
      },
      "source": [
        "# 04. Manipulação de arrays Numpy"
      ]
    },
    {
      "cell_type": "markdown",
      "metadata": {
        "id": "SRQcfssKLhTi"
      },
      "source": [
        "### Importando o NumPy"
      ]
    },
    {
      "cell_type": "code",
      "metadata": {
        "id": "qLF9Vu_ILhTi"
      },
      "source": [
        "# Importando o NumPy\n",
        "import numpy as np"
      ],
      "execution_count": null,
      "outputs": []
    },
    {
      "cell_type": "markdown",
      "metadata": {
        "id": "OIA-AdjOLhTl"
      },
      "source": [
        "### Alterando, adicionando e removendo elementos"
      ]
    },
    {
      "cell_type": "code",
      "metadata": {
        "id": "dwunAaLCLhTl"
      },
      "source": [
        "# Criando um array de 1 dimensão\n",
        "a1D = np.random.randint(1,200, 12)\n",
        "a1D"
      ],
      "execution_count": null,
      "outputs": []
    },
    {
      "cell_type": "code",
      "metadata": {
        "id": "7xQe9SQtLhTo"
      },
      "source": [
        "# Criando um array de 2 dimensões\n",
        "a2D = np.random.randint(1,200, (3,4))\n",
        "a2D"
      ],
      "execution_count": null,
      "outputs": []
    },
    {
      "cell_type": "code",
      "metadata": {
        "id": "59fSUsJULhTq"
      },
      "source": [
        "# Criando um array de 3 dimensões\n",
        "a3D = np.random.randint(1,200, (2,3,6)) # 2 páginas/faces, 3 linhas, 6 colunas\n",
        "a3D"
      ],
      "execution_count": null,
      "outputs": []
    },
    {
      "cell_type": "code",
      "metadata": {
        "id": "ifJ7EG8kLhTs"
      },
      "source": [
        "# Alterando o elemento do índice 0\n",
        "a1D[0] = -1\n",
        "a1D"
      ],
      "execution_count": null,
      "outputs": []
    },
    {
      "cell_type": "code",
      "metadata": {
        "id": "8EogrcsyLhTu"
      },
      "source": [
        "# Alterando o elemento da linha 1, coluna 2\n",
        "a2D[1][2] = -1\n",
        "a2D"
      ],
      "execution_count": null,
      "outputs": []
    },
    {
      "cell_type": "code",
      "metadata": {
        "id": "yNwGJkadLhTx"
      },
      "source": [
        "# Alterando o elemento da face 1, linha 2, coluna 4\n",
        "a3D[1][2][4] = -1\n",
        "a3D"
      ],
      "execution_count": null,
      "outputs": []
    },
    {
      "cell_type": "code",
      "metadata": {
        "id": "wcdIzBqSLhTz"
      },
      "source": [
        "# Retorna array com elementos adicionados no final\n",
        "a1D_modificado = np.append(a1D, [100, 130])\n",
        "a1D_modificado"
      ],
      "execution_count": null,
      "outputs": []
    },
    {
      "cell_type": "code",
      "metadata": {
        "id": "hfOUrvkwLhT4"
      },
      "source": [
        "a1D # a1D não foi modificado"
      ],
      "execution_count": null,
      "outputs": []
    },
    {
      "cell_type": "code",
      "metadata": {
        "id": "Pr6JuQ4ULhT6"
      },
      "source": [
        "a2D_modificado = np.append(a2D, [100, 130]) # Lineariza a2D e insere os elementos no final\n",
        "a2D_modificado"
      ],
      "execution_count": null,
      "outputs": []
    },
    {
      "cell_type": "code",
      "metadata": {
        "id": "USgN5i3MLhT8"
      },
      "source": [
        "a2D # a2D não foi modificado"
      ],
      "execution_count": null,
      "outputs": []
    },
    {
      "cell_type": "code",
      "metadata": {
        "id": "LujSi2k7LhT-"
      },
      "source": [
        "a3D_modificado = np.append(a3D, [100, 130]) # Lineariza a3D e insere os elementos no final\n",
        "a3D_modificado"
      ],
      "execution_count": null,
      "outputs": []
    },
    {
      "cell_type": "code",
      "metadata": {
        "id": "gfPmHGE9LhUB"
      },
      "source": [
        "a3D # a3D não foi modificado"
      ],
      "execution_count": null,
      "outputs": []
    },
    {
      "cell_type": "code",
      "metadata": {
        "id": "ZOwc-FqwLhUD"
      },
      "source": [
        "a1D_modificado2 = np.delete(a1D_modificado, [0, 1, 3])\n",
        "print(a1D_modificado)\n",
        "print(a1D_modificado2)"
      ],
      "execution_count": null,
      "outputs": []
    },
    {
      "cell_type": "markdown",
      "metadata": {
        "id": "offDqcQULhUF"
      },
      "source": [
        "### Comparação entre arrays"
      ]
    },
    {
      "cell_type": "code",
      "metadata": {
        "id": "KOU1faaGLhUF"
      },
      "source": [
        "a1D = np.array([1, 2, 3, 4, 5])\n",
        "b1D = np.array([3, 2, 1, 4, 5])\n",
        "a1D == b1D # Comparação elemento a elemento"
      ],
      "execution_count": null,
      "outputs": []
    },
    {
      "cell_type": "code",
      "metadata": {
        "id": "EchwsouaLhUH"
      },
      "source": [
        "c1D = np.random.randint(1,10,20)\n",
        "c1D"
      ],
      "execution_count": null,
      "outputs": []
    },
    {
      "cell_type": "code",
      "metadata": {
        "id": "9Tv4R633LhUK"
      },
      "source": [
        "c1D == 5"
      ],
      "execution_count": null,
      "outputs": []
    },
    {
      "cell_type": "code",
      "metadata": {
        "id": "M2ftBu5LLhUL"
      },
      "source": [
        "c1D[c1D == 5]"
      ],
      "execution_count": null,
      "outputs": []
    },
    {
      "cell_type": "markdown",
      "metadata": {
        "id": "T_px-fq6LhUN"
      },
      "source": [
        "### Operações entre arrays e escalares"
      ]
    },
    {
      "cell_type": "code",
      "metadata": {
        "id": "Y0O8WsLfLhUN"
      },
      "source": [
        "a1D = np.arange(1,11)\n",
        "a1D"
      ],
      "execution_count": null,
      "outputs": []
    },
    {
      "cell_type": "code",
      "metadata": {
        "id": "AEf0UtaULhUP"
      },
      "source": [
        "b1D = np.arange(1,20,2)\n",
        "b1D"
      ],
      "execution_count": null,
      "outputs": []
    },
    {
      "cell_type": "code",
      "metadata": {
        "id": "yRmvjgDRLhUR"
      },
      "source": [
        "c1D = 2 * a1D # Cada elemento de a1D será multiplicado por 2\n",
        "c1D"
      ],
      "execution_count": null,
      "outputs": []
    },
    {
      "cell_type": "code",
      "metadata": {
        "id": "7ZWeiqHDLhUS"
      },
      "source": [
        "d1D = b1D + 5 # Soma 5 para cada elemento de b1D\n",
        "d1D"
      ],
      "execution_count": null,
      "outputs": []
    },
    {
      "cell_type": "code",
      "metadata": {
        "id": "NwTBW8rPLhUU"
      },
      "source": [
        "e1D = b1D - 3\n",
        "e1D"
      ],
      "execution_count": null,
      "outputs": []
    },
    {
      "cell_type": "code",
      "metadata": {
        "id": "cyxyR-hyLhUW"
      },
      "source": [
        "f1D = a1D / 5\n",
        "f1D"
      ],
      "execution_count": null,
      "outputs": []
    },
    {
      "cell_type": "code",
      "metadata": {
        "id": "NuBVKeQ9LhUZ"
      },
      "source": [
        "celsius = np.arange(-20, 36) # Cria um array com o valores de -20 a 35, representando a temperatura em graus Celsius\n",
        "fahrenheit = celsius * (9/5) + 32 # Cria um array convertendo cada valor em Celsius para fahrenheit\n",
        "\n",
        "fahrenheit"
      ],
      "execution_count": null,
      "outputs": []
    },
    {
      "cell_type": "code",
      "metadata": {
        "id": "QwnhZcF7LhUb"
      },
      "source": [
        "# Somando cada elemento de a1D a b1D\n",
        "g1D = a1D + b1D\n",
        "print(a1D)\n",
        "print(b1D)\n",
        "print(\"-\"*31)\n",
        "print(g1D)"
      ],
      "execution_count": null,
      "outputs": []
    },
    {
      "cell_type": "code",
      "metadata": {
        "id": "k8T7z9-xLhUc"
      },
      "source": [
        "# Outra forma de somar cada elemento de a1D a b1D\n",
        "h1D = np.add(a1D, b1D)\n",
        "print(a1D)\n",
        "print(b1D)\n",
        "print(\"-\"*31)\n",
        "print(h1D)"
      ],
      "execution_count": null,
      "outputs": []
    },
    {
      "cell_type": "code",
      "metadata": {
        "id": "X1qqKK4rLhUe"
      },
      "source": [
        "i1D = h1D - g1D\n",
        "print(h1D)\n",
        "print(g1D)\n",
        "print(\"-\"*31)\n",
        "print(i1D)"
      ],
      "execution_count": null,
      "outputs": []
    },
    {
      "cell_type": "code",
      "metadata": {
        "id": "SG8BClMwLhUg"
      },
      "source": [
        "# Outra forma de somar cada elemento de a1D a b1D\n",
        "j1D = np.subtract(h1D, g1D)\n",
        "print(h1D)\n",
        "print(g1D)\n",
        "print(\"-\"*31)\n",
        "print(j1D)"
      ],
      "execution_count": null,
      "outputs": []
    },
    {
      "cell_type": "code",
      "metadata": {
        "id": "TJwCKdTDLhUj"
      },
      "source": [
        "a1D = np.arange(1, 6)\n",
        "a1D"
      ],
      "execution_count": null,
      "outputs": []
    },
    {
      "cell_type": "code",
      "metadata": {
        "id": "9BGdilGzLhUl"
      },
      "source": [
        "b1D = np.arange(6,11)\n",
        "b1D"
      ],
      "execution_count": null,
      "outputs": []
    },
    {
      "cell_type": "code",
      "metadata": {
        "id": "pL_86H0DLhUn"
      },
      "source": [
        "c1D = a1D * b1D\n",
        "c1D"
      ],
      "execution_count": null,
      "outputs": []
    },
    {
      "cell_type": "code",
      "metadata": {
        "id": "LJY0-maHLhUp"
      },
      "source": [
        "d1D = np.multiply(a1D, b1D)\n",
        "d1D"
      ],
      "execution_count": null,
      "outputs": []
    },
    {
      "cell_type": "code",
      "metadata": {
        "id": "9Xl1AFC1LhUr"
      },
      "source": [
        "e1D = c1D / a1D\n",
        "e1D"
      ],
      "execution_count": null,
      "outputs": []
    },
    {
      "cell_type": "code",
      "metadata": {
        "id": "ctq78mNDLhUt"
      },
      "source": [
        "f1D = np.divide(c1D, a1D)\n",
        "f1D"
      ],
      "execution_count": null,
      "outputs": []
    },
    {
      "cell_type": "code",
      "metadata": {
        "id": "gJhiQS-sLhUu"
      },
      "source": [
        "g1D = np.arange(1,10)\n",
        "g1D"
      ],
      "execution_count": null,
      "outputs": []
    },
    {
      "cell_type": "code",
      "metadata": {
        "id": "MVQ96Zz7LhUw"
      },
      "source": [
        "raiz1D = np.sqrt(g1D)\n",
        "raiz1D"
      ],
      "execution_count": null,
      "outputs": []
    },
    {
      "cell_type": "markdown",
      "metadata": {
        "id": "AnqGr2b6LhUy"
      },
      "source": [
        "### Algumas funções"
      ]
    },
    {
      "cell_type": "code",
      "metadata": {
        "id": "lsLzDDJlLhUz"
      },
      "source": [
        "d2D = np.random.randint(1, 101, (5,10)) # Array de 5 linhas x 10 colunas preenchidos com valores aleatórios entre 1 e 100\n",
        "d2D"
      ],
      "execution_count": null,
      "outputs": []
    },
    {
      "cell_type": "markdown",
      "metadata": {
        "id": "ZMTv0VaFLhU2"
      },
      "source": [
        "#### Obs: como os valores valores são gerados aleatoriamente, sua matriz provavelmente será diferente da gerada acima"
      ]
    },
    {
      "cell_type": "code",
      "metadata": {
        "id": "nLUnGzNTLhU2"
      },
      "source": [
        "# Soma de todos os elementos\n",
        "d2D.sum()"
      ],
      "execution_count": null,
      "outputs": []
    },
    {
      "cell_type": "code",
      "metadata": {
        "id": "LQ_ru1uYLhU4"
      },
      "source": [
        "# Soma de todos os elementos de cada coluna (eixo 0)\n",
        "d2D.sum(axis = 0)"
      ],
      "execution_count": null,
      "outputs": []
    },
    {
      "cell_type": "code",
      "metadata": {
        "id": "nsk4kncvLhU6"
      },
      "source": [
        "# Soma de todos os elementos de cada linha (eixo 1)\n",
        "d2D.sum(axis = 1)"
      ],
      "execution_count": null,
      "outputs": []
    },
    {
      "cell_type": "code",
      "metadata": {
        "id": "ubep4H84LhU9"
      },
      "source": [
        "somacol = sum(d2D) # A função sum() do Python retornará a soma de todas as colunas\n",
        "somacol"
      ],
      "execution_count": null,
      "outputs": []
    },
    {
      "cell_type": "code",
      "metadata": {
        "id": "AkA6SrLCLhVA"
      },
      "source": [
        "# Retorna o menor valor geral\n",
        "d2D.min()"
      ],
      "execution_count": null,
      "outputs": []
    },
    {
      "cell_type": "code",
      "metadata": {
        "id": "Bh--m3AlLhVB"
      },
      "source": [
        "# Retorna o menor valor de cada coluna (eixo 0)\n",
        "d2D.min(axis=0)"
      ],
      "execution_count": null,
      "outputs": []
    },
    {
      "cell_type": "code",
      "metadata": {
        "id": "YgGn0b27LhVE"
      },
      "source": [
        "# Retorna o menor valor de cada linha (eixo 1)\n",
        "d2D.min(axis=1)"
      ],
      "execution_count": null,
      "outputs": []
    },
    {
      "cell_type": "code",
      "metadata": {
        "id": "WAbNZ_glLhVF"
      },
      "source": [
        "# Retorna o maior valor geral\n",
        "d2D.max()"
      ],
      "execution_count": null,
      "outputs": []
    },
    {
      "cell_type": "code",
      "metadata": {
        "id": "vzqaMBPgLhVH"
      },
      "source": [
        "# Retorna o maior valor de cada coluna (eixo 0)\n",
        "d2D.max(axis=0)"
      ],
      "execution_count": null,
      "outputs": []
    },
    {
      "cell_type": "code",
      "metadata": {
        "id": "U-_Y5FKELhVK"
      },
      "source": [
        "# Retorna o maior valor de cada linha (eixo 1)\n",
        "d2D.max(axis=1)"
      ],
      "execution_count": null,
      "outputs": []
    },
    {
      "cell_type": "code",
      "metadata": {
        "id": "z2SzEcY2LhVL"
      },
      "source": [
        "# Retorna a soma cumulativa\n",
        "d2D.cumsum()"
      ],
      "execution_count": null,
      "outputs": []
    },
    {
      "cell_type": "code",
      "metadata": {
        "id": "GdAxojVULhVN"
      },
      "source": [
        "# Retorna a soma cumulativa para cada coluna (eixo = 0)\n",
        "d2D.cumsum(axis = 0)"
      ],
      "execution_count": null,
      "outputs": []
    },
    {
      "cell_type": "code",
      "metadata": {
        "id": "dZFggLhaLhVO"
      },
      "source": [
        "d2D"
      ],
      "execution_count": null,
      "outputs": []
    },
    {
      "cell_type": "code",
      "metadata": {
        "id": "vAwBXaRoLhVV"
      },
      "source": [
        "# Retorna a soma cumulativa para cada linha (eixo = 1)\n",
        "x = d2D.cumsum(axis = 1)\n",
        "x"
      ],
      "execution_count": null,
      "outputs": []
    },
    {
      "cell_type": "code",
      "metadata": {
        "id": "g3WLjuphLhVX"
      },
      "source": [
        "# Retorna a média aritmética\n",
        "d2D.mean()"
      ],
      "execution_count": null,
      "outputs": []
    },
    {
      "cell_type": "code",
      "metadata": {
        "id": "gjsn46L7LhVY"
      },
      "source": [
        "# Retorna a média aritmética para cada coluna (eixo = 0)\n",
        "d2D.mean(axis = 0)"
      ],
      "execution_count": null,
      "outputs": []
    },
    {
      "cell_type": "code",
      "metadata": {
        "id": "a2Bw_1JSLhVa"
      },
      "source": [
        "# Retorna a média aritmética para cada linha (eixo = 1)\n",
        "d2D.mean(axis = 1)"
      ],
      "execution_count": null,
      "outputs": []
    },
    {
      "cell_type": "code",
      "metadata": {
        "id": "JIHkR2g2LhVc"
      },
      "source": [
        "# Retorna o desvio padrão\n",
        "d2D.std()"
      ],
      "execution_count": null,
      "outputs": []
    },
    {
      "cell_type": "code",
      "metadata": {
        "id": "p_wWluGSLhVe"
      },
      "source": [
        "# Retorna o desvio padrão para cada coluna (eixo = 0)\n",
        "d2D.std(axis = 0)"
      ],
      "execution_count": null,
      "outputs": []
    },
    {
      "cell_type": "code",
      "metadata": {
        "id": "TDVQ7tFsLhVf"
      },
      "source": [
        "# Retorna o desvio padrão para cada linha (eixo = 1)\n",
        "d2D.std(axis = 1)"
      ],
      "execution_count": null,
      "outputs": []
    },
    {
      "cell_type": "code",
      "metadata": {
        "id": "9yfOJlq2LhVh"
      },
      "source": [
        "# Retorna a mediana (geral)\n",
        "np.median(d2D)"
      ],
      "execution_count": null,
      "outputs": []
    },
    {
      "cell_type": "code",
      "metadata": {
        "id": "aOrTdd89LhVi"
      },
      "source": [
        "# Retorna a mediana para cada coluna (eixo = 0)\n",
        "np.median(d2D, axis = 0)"
      ],
      "execution_count": null,
      "outputs": []
    },
    {
      "cell_type": "code",
      "metadata": {
        "id": "gMotUJhvLhVk"
      },
      "source": [
        "# Retorna a mediana para cada linha (eixo = 1)\n",
        "np.median(d2D, axis = 1)"
      ],
      "execution_count": null,
      "outputs": []
    },
    {
      "cell_type": "markdown",
      "metadata": {
        "id": "5-wzJ7FKLhVl"
      },
      "source": [
        "### Copiando e concatenando arrays"
      ]
    },
    {
      "cell_type": "code",
      "metadata": {
        "id": "BBLtjqoRLhVl"
      },
      "source": [
        "a2D = np.random.randint(1,50, (4,5))\n",
        "a2D"
      ],
      "execution_count": null,
      "outputs": []
    },
    {
      "cell_type": "code",
      "metadata": {
        "id": "omxAIFqiLhVm"
      },
      "source": [
        "b2D = np.random.randint(50,100, (4,5))\n",
        "b2D"
      ],
      "execution_count": null,
      "outputs": []
    },
    {
      "cell_type": "code",
      "metadata": {
        "id": "iiRTG_amLhVn"
      },
      "source": [
        "c2D = a2D\n",
        "c2D"
      ],
      "execution_count": null,
      "outputs": []
    },
    {
      "cell_type": "code",
      "metadata": {
        "id": "4VXQy2g-LhVp"
      },
      "source": [
        "# Aparentemente ocorreu uma cópia dos arrays, mas veja o que acontece se alterarmos alguns elementos\n",
        "c2D[c2D < 20] = -1\n",
        "c2D"
      ],
      "execution_count": null,
      "outputs": []
    },
    {
      "cell_type": "code",
      "metadata": {
        "id": "8yIB4XvrLhVs"
      },
      "source": [
        "a2D"
      ],
      "execution_count": null,
      "outputs": []
    },
    {
      "cell_type": "markdown",
      "metadata": {
        "id": "YT8sBR-eLhVt"
      },
      "source": [
        "Os elementos de a2D também foram alterados. :-("
      ]
    },
    {
      "cell_type": "code",
      "metadata": {
        "id": "lca6z0bXLhVt"
      },
      "source": [
        "# Redefinindo os elementos de a2D\n",
        "a2D = np.random.randint(1,50, (4,5))\n",
        "a2D"
      ],
      "execution_count": null,
      "outputs": []
    },
    {
      "cell_type": "code",
      "metadata": {
        "id": "nQ8NnmJkLhVu"
      },
      "source": [
        "# Forma correta de copiar um array parece que com a forma de copiar uma lista\n",
        "c2D = a2D.copy()\n",
        "c2D"
      ],
      "execution_count": null,
      "outputs": []
    },
    {
      "cell_type": "code",
      "metadata": {
        "id": "HTdbzysqLhVw"
      },
      "source": [
        "c2D[c2D < 20] = -1\n",
        "c2D"
      ],
      "execution_count": null,
      "outputs": []
    },
    {
      "cell_type": "code",
      "metadata": {
        "id": "1S5PYdMVLhVx"
      },
      "source": [
        "a2D"
      ],
      "execution_count": null,
      "outputs": []
    },
    {
      "cell_type": "markdown",
      "metadata": {
        "id": "_LvhNfmnLhVy"
      },
      "source": [
        "Agora sim!!!"
      ]
    },
    {
      "cell_type": "markdown",
      "metadata": {
        "id": "5udkeVexLhVz"
      },
      "source": [
        "### Ordenando os elementos de um array"
      ]
    },
    {
      "cell_type": "code",
      "metadata": {
        "id": "chBHqvyoLhVz"
      },
      "source": [
        "a1D = np.random.randint(1,100, 15)\n",
        "a1D"
      ],
      "execution_count": null,
      "outputs": []
    },
    {
      "cell_type": "code",
      "metadata": {
        "id": "CjzaHHs-LhV0"
      },
      "source": [
        "a1D.sort()\n",
        "a1D"
      ],
      "execution_count": null,
      "outputs": []
    },
    {
      "cell_type": "code",
      "metadata": {
        "id": "xDoNxTj_LhV1"
      },
      "source": [
        "a2D = np.random.randint(1,100, (6,10))\n",
        "a2D"
      ],
      "execution_count": null,
      "outputs": []
    },
    {
      "cell_type": "code",
      "metadata": {
        "id": "hkMGJpdRLhV3"
      },
      "source": [
        "a2D.sort() # Por padrão ordena o maior eixo (nesse caso o eixo 1, linhas)\n",
        "a2D"
      ],
      "execution_count": null,
      "outputs": []
    },
    {
      "cell_type": "code",
      "metadata": {
        "id": "icDJ80FPLhV4"
      },
      "source": [
        "a2D.sort(axis=0) # Ordenando pelo eixo 0 (colunas)\n",
        "a2D"
      ],
      "execution_count": null,
      "outputs": []
    },
    {
      "cell_type": "code",
      "metadata": {
        "id": "t2ygBYoaLhV5"
      },
      "source": [
        "a2D = np.random.randint(1,100, (6,10))\n",
        "a2D"
      ],
      "execution_count": null,
      "outputs": []
    },
    {
      "cell_type": "code",
      "metadata": {
        "id": "texN3YY5LhV8"
      },
      "source": [
        "a2D.sort(axis=1) # Ordenando pelo eixo 1 (linhas)\n",
        "a2D"
      ],
      "execution_count": null,
      "outputs": []
    },
    {
      "cell_type": "markdown",
      "metadata": {
        "id": "5_rY8-FULhV-"
      },
      "source": [
        "### Transposição de arrays"
      ]
    },
    {
      "cell_type": "code",
      "metadata": {
        "id": "39gjBUK_LhV-"
      },
      "source": [
        "a2D = np.array([[1,2,3,4],[5,6,7,8]])\n",
        "a2D"
      ],
      "execution_count": null,
      "outputs": []
    },
    {
      "cell_type": "code",
      "metadata": {
        "id": "0oiIFwdyLhWA"
      },
      "source": [
        "a2DT = a2D.T # Retorna a transposta\n",
        "a2DT"
      ],
      "execution_count": null,
      "outputs": []
    },
    {
      "cell_type": "code",
      "metadata": {
        "id": "3juM2shTLhWB"
      },
      "source": [
        "a2D # a2D original não foi transposto"
      ],
      "execution_count": null,
      "outputs": []
    },
    {
      "cell_type": "code",
      "metadata": {
        "id": "YwVbnzzdLhWC"
      },
      "source": [
        "a2D.transpose() # Retorna a transposta"
      ],
      "execution_count": null,
      "outputs": []
    },
    {
      "cell_type": "code",
      "metadata": {
        "id": "hF57AhfRLhWE"
      },
      "source": [
        "a2D # a2D original não foi transposto"
      ],
      "execution_count": null,
      "outputs": []
    },
    {
      "cell_type": "markdown",
      "metadata": {
        "id": "hR2da6uaLhWF"
      },
      "source": [
        "### Mudando o formato de um array - reshape()"
      ]
    },
    {
      "cell_type": "code",
      "metadata": {
        "id": "ifKskHwaLhWF"
      },
      "source": [
        "a1D = np.arange(1,25)\n",
        "a1D"
      ],
      "execution_count": null,
      "outputs": []
    },
    {
      "cell_type": "code",
      "metadata": {
        "id": "RGCrVsSKLhWG"
      },
      "source": [
        "print(a1D.shape)\n",
        "a1D.shape = (2,12)\n",
        "print(a1D.shape)\n",
        "print(a1D)"
      ],
      "execution_count": null,
      "outputs": []
    },
    {
      "cell_type": "code",
      "metadata": {
        "id": "vmg8mIBNLhWH"
      },
      "source": [
        "a2D_4x6 = a1D.reshape(4,6)\n",
        "a2D_4x6"
      ],
      "execution_count": null,
      "outputs": []
    },
    {
      "cell_type": "code",
      "metadata": {
        "id": "3bjGglEpLhWJ"
      },
      "source": [
        "a1D"
      ],
      "execution_count": null,
      "outputs": []
    },
    {
      "cell_type": "code",
      "metadata": {
        "id": "q0kuGsL6LhWK"
      },
      "source": [
        "a2D_3x8 = a1D.reshape(3,8)\n",
        "a2D_3x8"
      ],
      "execution_count": null,
      "outputs": []
    },
    {
      "cell_type": "markdown",
      "metadata": {
        "id": "Oo4hb9y1LhWL"
      },
      "source": [
        "### Linearização de um array"
      ]
    },
    {
      "cell_type": "code",
      "metadata": {
        "id": "b6eH6wJwLhWL"
      },
      "source": [
        "x = a2D_3x8.flatten()\n",
        "x"
      ],
      "execution_count": null,
      "outputs": []
    },
    {
      "cell_type": "code",
      "metadata": {
        "id": "z0-SX89tLhWQ"
      },
      "source": [
        "y = a2D_3x8.ravel()\n",
        "y"
      ],
      "execution_count": null,
      "outputs": []
    },
    {
      "cell_type": "markdown",
      "metadata": {
        "id": "XmXyIysnLhWR"
      },
      "source": [
        "### Combinando/concatenando arrays"
      ]
    },
    {
      "cell_type": "code",
      "metadata": {
        "id": "30te1hPCLhWR"
      },
      "source": [
        "a2D = np.random.randint(1,101,(3,9))\n",
        "a2D"
      ],
      "execution_count": null,
      "outputs": []
    },
    {
      "cell_type": "code",
      "metadata": {
        "id": "9njRcK9aLhWS"
      },
      "source": [
        "b2D = np.random.randint(1,101,(5,9))\n",
        "b2D"
      ],
      "execution_count": null,
      "outputs": []
    },
    {
      "cell_type": "code",
      "metadata": {
        "id": "lYpi2iiFLhWT"
      },
      "source": [
        "c2D = np.random.randint(1,101,(5,4))\n",
        "c2D"
      ],
      "execution_count": null,
      "outputs": []
    },
    {
      "cell_type": "code",
      "metadata": {
        "id": "sC6bp2gDLhWU"
      },
      "source": [
        "# Concatenação de strings usa o operador \"+\"\n",
        "str1 = \"Python\"\n",
        "str2 = \" & \"\n",
        "str3 = \"Numpy\"\n",
        "str4 = str1 + str2 + str3\n",
        "str4"
      ],
      "execution_count": null,
      "outputs": []
    },
    {
      "cell_type": "code",
      "metadata": {
        "id": "2-soL9zsLhWW"
      },
      "source": [
        "# O operador \"+\" aplicado a ndarrays não faz a concatenação, mas tentar somar elemento a elemento\n",
        "a2D + b2D"
      ],
      "execution_count": null,
      "outputs": []
    },
    {
      "cell_type": "code",
      "metadata": {
        "id": "OseCroBXLhWX"
      },
      "source": [
        "A = np.concatenate((a2D, b2D), axis = 0) # Concatenando pelo eixo das colunas (eixo 0) (empilhamento vertical)\n",
        "print(\"a2D\")\n",
        "print(a2D)\n",
        "print(\"\")\n",
        "print(\"b2D\")\n",
        "print(b2D)\n",
        "print(\"\")\n",
        "print(\"Concatenação\")\n",
        "print(A)"
      ],
      "execution_count": null,
      "outputs": []
    },
    {
      "cell_type": "code",
      "metadata": {
        "id": "0zY8iBvsLhWY"
      },
      "source": [
        "B = np.vstack((a2D, b2D)) # Concatenando pelo eixo das colunas (eixo 0) (empilhamento vertical)\n",
        "print(\"a2D\")\n",
        "print(a2D)\n",
        "print(\"\")\n",
        "print(\"b2D\")\n",
        "print(b2D)\n",
        "print(\"\")\n",
        "print(\"Concatenação\")\n",
        "print(B)"
      ],
      "execution_count": null,
      "outputs": []
    },
    {
      "cell_type": "code",
      "metadata": {
        "id": "nCxYgb15LhWZ"
      },
      "source": [
        "C = np.concatenate((b2D, c2D), axis = 1) # Concatenando pelo eixo das linhas (eixo 1) (empilhamento horizontal)\n",
        "print(\"b2D\")\n",
        "print(b2D)\n",
        "print(\"\")\n",
        "print(\"c2D\")\n",
        "print(c2D)\n",
        "print(\"\")\n",
        "print(\"Concatenação\")\n",
        "print(C)"
      ],
      "execution_count": null,
      "outputs": []
    },
    {
      "cell_type": "code",
      "metadata": {
        "id": "XUsg3SW0LhWa"
      },
      "source": [
        "D = np.hstack((b2D, c2D)) # Concatenando pelo eixo das linhas (eixo 1) (empilhamento horizontal)\n",
        "print(\"b2D\")\n",
        "print(b2D)\n",
        "print(\"\")\n",
        "print(\"c2D\")\n",
        "print(c2D)\n",
        "print(\"\")\n",
        "print(\"Concatenação\")\n",
        "print(D)"
      ],
      "execution_count": null,
      "outputs": []
    },
    {
      "cell_type": "markdown",
      "metadata": {
        "id": "niSap9WfLhWb"
      },
      "source": [
        "### Dividindo arrays"
      ]
    },
    {
      "cell_type": "code",
      "metadata": {
        "id": "I1R5fEu7LhWb"
      },
      "source": [
        "A_splitted = np.vsplit(A,2) # Divisáo vertical (corta no sentido das colunas)\n",
        "print(\"Array original\")\n",
        "print(A)\n",
        "print(\"\")\n",
        "print(\"1a parte\")\n",
        "print(A_splitted[0])\n",
        "print(\"\")\n",
        "print(\"2a parte\")\n",
        "print(A_splitted[1])"
      ],
      "execution_count": null,
      "outputs": []
    },
    {
      "cell_type": "code",
      "metadata": {
        "id": "r2vIGQ_GLhWc"
      },
      "source": [
        "A_splitted3 = np.hsplit(A,3) # Divisão horizontal (corta no sentido das linhas)\n",
        "print(\"Array original\")\n",
        "print(A)\n",
        "print(\"\")\n",
        "print(\"1a parte\")\n",
        "print(A_splitted3[0])\n",
        "print(\"\")\n",
        "print(\"2a parte\")\n",
        "print(A_splitted3[1])\n",
        "print(\"\")\n",
        "print(\"3a parte\")\n",
        "print(A_splitted3[2])"
      ],
      "execution_count": null,
      "outputs": []
    },
    {
      "cell_type": "markdown",
      "metadata": {
        "id": "WKBvZhmSLkN6"
      },
      "source": [
        "# 05. Comparação da performance do NumPy"
      ]
    },
    {
      "cell_type": "code",
      "metadata": {
        "id": "9O-K2s1KLkN7"
      },
      "source": [
        "idades = [18, 41, 13, 25, 2, 10]"
      ],
      "execution_count": null,
      "outputs": []
    },
    {
      "cell_type": "code",
      "metadata": {
        "id": "y1WatiWnLkN-"
      },
      "source": [
        "# Somando todos os elementos com uma função\n",
        "def soma(numeros):\n",
        "    soma = 0\n",
        "    for num in numeros:\n",
        "        soma = soma + num\n",
        "    return soma"
      ],
      "execution_count": null,
      "outputs": []
    },
    {
      "cell_type": "code",
      "metadata": {
        "id": "p8SizkqjLkOA",
        "outputId": "c2a95b73-d5e5-464a-8c46-97456ef3b993"
      },
      "source": [
        "# Somar as idades usando a função soma\n",
        "soma(idades)"
      ],
      "execution_count": null,
      "outputs": [
        {
          "output_type": "execute_result",
          "data": {
            "text/plain": [
              "109"
            ]
          },
          "metadata": {
            "tags": []
          },
          "execution_count": 3
        }
      ]
    },
    {
      "cell_type": "code",
      "metadata": {
        "id": "Ucd1Be_tLkOD",
        "outputId": "e3735d40-7746-4c6c-bb9a-b5f683e422cb"
      },
      "source": [
        "# Somar as idades usando a função sum() do Python\n",
        "sum(idades)"
      ],
      "execution_count": null,
      "outputs": [
        {
          "output_type": "execute_result",
          "data": {
            "text/plain": [
              "109"
            ]
          },
          "metadata": {
            "tags": []
          },
          "execution_count": 4
        }
      ]
    },
    {
      "cell_type": "code",
      "metadata": {
        "id": "-i7tyXK8LkOF",
        "outputId": "b72ffb51-2209-40bc-b85d-05b67c629b70"
      },
      "source": [
        "# Somar as idades usando a função np.sum() do Python\n",
        "import numpy as np\n",
        "np.sum(idades)"
      ],
      "execution_count": null,
      "outputs": [
        {
          "output_type": "execute_result",
          "data": {
            "text/plain": [
              "109"
            ]
          },
          "metadata": {
            "tags": []
          },
          "execution_count": 5
        }
      ]
    },
    {
      "cell_type": "code",
      "metadata": {
        "id": "7kFcr7rBLkOH",
        "outputId": "b7c5c589-9612-4707-b4e9-7c594c424fb2"
      },
      "source": [
        "# Gerando uma quantidade maior de elementos\n",
        "idades = np.random.randint(0, 50, 20000000)\n",
        "len(idades)"
      ],
      "execution_count": null,
      "outputs": [
        {
          "output_type": "execute_result",
          "data": {
            "text/plain": [
              "20000000"
            ]
          },
          "metadata": {
            "tags": []
          },
          "execution_count": 6
        }
      ]
    },
    {
      "cell_type": "code",
      "metadata": {
        "id": "2IG1mDNPLkOJ",
        "outputId": "cf671cd5-a608-4713-9ee4-b72fa5283d13"
      },
      "source": [
        "print(soma(idades))\n",
        "print(sum(idades))\n",
        "print(np.sum(idades))"
      ],
      "execution_count": null,
      "outputs": [
        {
          "output_type": "stream",
          "text": [
            "489974228\n",
            "489974228\n",
            "489974228\n"
          ],
          "name": "stdout"
        }
      ]
    },
    {
      "cell_type": "code",
      "metadata": {
        "id": "JV6yFYkvLkOL",
        "outputId": "dbd63467-9e10-4b8f-cf95-26233d0a89fa"
      },
      "source": [
        "%timeit soma(idades)"
      ],
      "execution_count": null,
      "outputs": [
        {
          "output_type": "stream",
          "text": [
            "8.16 s ± 251 ms per loop (mean ± std. dev. of 7 runs, 1 loop each)\n"
          ],
          "name": "stdout"
        }
      ]
    },
    {
      "cell_type": "code",
      "metadata": {
        "id": "vXdHAA49LkOO",
        "outputId": "11432cbc-6bcf-4ac7-d749-2d0e35219fb4"
      },
      "source": [
        "%timeit sum(idades)"
      ],
      "execution_count": null,
      "outputs": [
        {
          "output_type": "stream",
          "text": [
            "7.33 s ± 114 ms per loop (mean ± std. dev. of 7 runs, 1 loop each)\n"
          ],
          "name": "stdout"
        }
      ]
    },
    {
      "cell_type": "code",
      "metadata": {
        "id": "LxOOZKayLkOQ",
        "outputId": "56ea08d0-d9e6-4174-8a54-fa9f0a5b54db"
      },
      "source": [
        "%timeit np.sum(idades)"
      ],
      "execution_count": null,
      "outputs": [
        {
          "output_type": "stream",
          "text": [
            "46.4 ms ± 1.96 ms per loop (mean ± std. dev. of 7 runs, 10 loops each)\n"
          ],
          "name": "stdout"
        }
      ]
    },
    {
      "cell_type": "markdown",
      "metadata": {
        "id": "hgK3tiIQLkOR"
      },
      "source": [
        "### Calculando o quadrado de cada número"
      ]
    },
    {
      "cell_type": "code",
      "metadata": {
        "id": "bM6Tak08LkOS",
        "outputId": "deae3b71-2e15-4182-d1a6-47d36f1c4b4d"
      },
      "source": [
        "numeros = np.random.randint(0, 50, 10000000)\n",
        "# Usando uma função iterativa (num * num)\n",
        "def quadrado(numeros):\n",
        "    quadrados = []\n",
        "    for num in numeros:\n",
        "        quadrados.append(num * num)\n",
        "    return quadrados\n",
        "\n",
        "%timeit quadrado(numeros)"
      ],
      "execution_count": null,
      "outputs": [
        {
          "output_type": "stream",
          "text": [
            "6.28 s ± 75.6 ms per loop (mean ± std. dev. of 7 runs, 1 loop each)\n"
          ],
          "name": "stdout"
        }
      ]
    },
    {
      "cell_type": "code",
      "metadata": {
        "id": "a8CaEFNALkOU",
        "outputId": "f1719a11-dcfa-4b14-e828-482a6823f014"
      },
      "source": [
        "# Usando uma função iterativa (num ** 2)\n",
        "def quadrado2(numeros):\n",
        "    quadrados = []\n",
        "    for num in numeros:\n",
        "        quadrados.append(num ** 2)\n",
        "    return quadrados\n",
        "\n",
        "%timeit quadrado2(numeros)"
      ],
      "execution_count": null,
      "outputs": [
        {
          "output_type": "stream",
          "text": [
            "10.6 s ± 223 ms per loop (mean ± std. dev. of 7 runs, 1 loop each)\n"
          ],
          "name": "stdout"
        }
      ]
    },
    {
      "cell_type": "code",
      "metadata": {
        "id": "aGJcO1QNLkOW",
        "outputId": "1079bb47-4b92-4ab4-b0ec-bbf6044b4b56"
      },
      "source": [
        "# Usando comprehension\n",
        "def quad_comprehension(numeros):\n",
        "    return [num * num for num in numeros]\n",
        "\n",
        "%timeit quad_comprehension(numeros)"
      ],
      "execution_count": null,
      "outputs": [
        {
          "output_type": "stream",
          "text": [
            "4.78 s ± 71.2 ms per loop (mean ± std. dev. of 7 runs, 1 loop each)\n"
          ],
          "name": "stdout"
        }
      ]
    },
    {
      "cell_type": "code",
      "metadata": {
        "id": "NPpz-84_LkOY",
        "outputId": "20a0ecc9-f59d-4772-ab42-00fcb4bd3c0d"
      },
      "source": [
        "# Usando map()\n",
        "def quad_map(numeros):\n",
        "    return list(map(lambda num: num * num, numeros))\n",
        "\n",
        "%timeit quad_map(numeros)"
      ],
      "execution_count": null,
      "outputs": [
        {
          "output_type": "stream",
          "text": [
            "6.66 s ± 80.1 ms per loop (mean ± std. dev. of 7 runs, 1 loop each)\n"
          ],
          "name": "stdout"
        }
      ]
    },
    {
      "cell_type": "code",
      "metadata": {
        "id": "pY1RC5vpLkOa",
        "outputId": "1ca37b90-74ef-4a57-f5a9-c770e262ea6f"
      },
      "source": [
        "# Usando o NumPy\n",
        "%timeit np.power(numeros,2)"
      ],
      "execution_count": null,
      "outputs": [
        {
          "output_type": "stream",
          "text": [
            "149 ms ± 2.7 ms per loop (mean ± std. dev. of 7 runs, 10 loops each)\n"
          ],
          "name": "stdout"
        }
      ]
    },
    {
      "cell_type": "code",
      "metadata": {
        "id": "T2Ow1o8ZLkOc",
        "outputId": "3a85e8c1-5cb4-4451-cc72-7db0b17ce289"
      },
      "source": [
        "# Usando o NumPy - convertendo para list\n",
        "%timeit list(np.power(numeros,2))"
      ],
      "execution_count": null,
      "outputs": [
        {
          "output_type": "stream",
          "text": [
            "2.02 s ± 14.4 ms per loop (mean ± std. dev. of 7 runs, 1 loop each)\n"
          ],
          "name": "stdout"
        }
      ]
    },
    {
      "cell_type": "code",
      "metadata": {
        "id": "r8YOOyPBLkOe"
      },
      "source": [],
      "execution_count": null,
      "outputs": []
    }
  ]
}